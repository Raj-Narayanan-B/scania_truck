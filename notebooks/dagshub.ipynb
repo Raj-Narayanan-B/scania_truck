{
 "cells": [
  {
   "cell_type": "code",
   "execution_count": 148,
   "metadata": {},
   "outputs": [
    {
     "data": {
      "text/html": [
       "<pre style=\"white-space:pre;overflow-x:auto;line-height:normal;font-family:Menlo,'DejaVu Sans Mono',consolas,'Courier New',monospace\">Client created. Use the name of the repo <span style=\"font-weight: bold\">(</span>scania_truck<span style=\"font-weight: bold\">)</span> as the name of the bucket\n",
       "</pre>\n"
      ],
      "text/plain": [
       "Client created. Use the name of the repo \u001b[1m(\u001b[0mscania_truck\u001b[1m)\u001b[0m as the name of the bucket\n"
      ]
     },
     "metadata": {},
     "output_type": "display_data"
    },
    {
     "name": "stdout",
     "output_type": "stream",
     "text": [
      "[2024-02-14 19:56:41,300: INFO: helpers: Client created. Use the name of the repo (scania_truck) as the name of the bucket]\n"
     ]
    }
   ],
   "source": [
    "import pandas as pd\n",
    "import subprocess\n",
    "import numpy as np\n",
    "from pprint import pprint\n",
    "import json\n",
    "from cassandra.cluster import Cluster\n",
    "from cassandra.auth import PlainTextAuthProvider\n",
    "from src.config.configuration_manager import ConfigurationManager\n",
    "from dagshub import get_repo_bucket_client\n",
    "s3 = get_repo_bucket_client(\"Raj-Narayanan-B/scania_truck\")\n",
    "import os\n",
    "import shutil\n",
    "import glob\n",
    "os.chdir(r\"f:\\\\iNeuron\\\\Projects\\\\scania_failures_2\")"
   ]
  },
  {
   "cell_type": "code",
   "execution_count": null,
   "metadata": {},
   "outputs": [],
   "source": [
    "s3.upload_file(\n",
    "    Bucket=\"scania_truck\",  # name of the repo\n",
    "    Filename=r\"F:\\iNeuron\\Projects\\Data\\Scania Truck Failures\\aps_failure_training_set.csv\",  # local path of file to upload\n",
    "    Key=\"remote_aps_failure_training_set.csv\",  # remote path where to upload the file\n",
    ")\n",
    "\n",
    "s3.upload_file(\n",
    "    Bucket=\"scania_truck\",  # name of the repo\n",
    "    Filename=r\"F:\\iNeuron\\Projects\\Data\\Scania Truck Failures\\aps_failure_test_set.csv\",  # local path of file to upload\n",
    "    Key=\"remote_aps_failure_testing_set.csv\",  # remote path where to upload the file\n",
    ")"
   ]
  },
  {
   "cell_type": "code",
   "execution_count": null,
   "metadata": {},
   "outputs": [],
   "source": [
    "s3.download_file(\n",
    "    Bucket=\"scania_truck\",  # name of the repo\n",
    "    Key=\"remote_aps_failure_training_set.csv\",  #  remote path from where to download the file\n",
    "    Filename=r\"F:\\iNeuron\\Projects\\scania_failures_2\\notebooks\\sample_train.csv\",  # local path where to download the file\n",
    ")\n",
    "\n",
    "s3.download_file(\n",
    "    Bucket=\"scania_truck\",  # name of the repo\n",
    "    Key=\"remote_aps_failure_testing_set.csv\",  #  remote path from where to download the file\n",
    "    Filename=r\"F:\\iNeuron\\Projects\\scania_failures_2\\notebooks\\sample_test.csv\",  # local path where to download the file\n",
    ")\n"
   ]
  },
  {
   "cell_type": "code",
   "execution_count": null,
   "metadata": {},
   "outputs": [],
   "source": [
    "filepath,file = os.path.split(\"artifacts/data/temp/test_data_3.csv\")"
   ]
  },
  {
   "cell_type": "code",
   "execution_count": null,
   "metadata": {},
   "outputs": [],
   "source": [
    "df = pd.read_csv(r'F:\\iNeuron\\Projects\\scania_failures_2\\notebooks\\sample_train.csv')\n",
    "df.head()"
   ]
  },
  {
   "cell_type": "code",
   "execution_count": null,
   "metadata": {},
   "outputs": [],
   "source": [
    "train_df_1 = df.iloc[:,:74]\n",
    "train_df_1['ident_id'] = range(1,60001)\n",
    "train_df_1"
   ]
  },
  {
   "cell_type": "code",
   "execution_count": null,
   "metadata": {},
   "outputs": [],
   "source": [
    "train_df_2 = df.iloc[:,74:148]\n",
    "train_df_2['ident_id'] = range(1,60001)\n",
    "train_df_2"
   ]
  },
  {
   "cell_type": "code",
   "execution_count": null,
   "metadata": {},
   "outputs": [],
   "source": [
    "train_df_3 = df.iloc[:,148:]\n",
    "train_df_3['ident_id'] = range(1,60001)\n",
    "train_df_3"
   ]
  },
  {
   "cell_type": "code",
   "execution_count": null,
   "metadata": {},
   "outputs": [],
   "source": [
    "df_test = pd.read_csv(r'F:\\iNeuron\\Projects\\scania_failures_2\\notebooks\\sample_test.csv')\n",
    "df_test.head()"
   ]
  },
  {
   "cell_type": "code",
   "execution_count": null,
   "metadata": {},
   "outputs": [],
   "source": [
    "test_df_1 = df_test.iloc[:,:74]\n",
    "test_df_1['ident_id'] = range(1,16001)\n",
    "test_df_1"
   ]
  },
  {
   "cell_type": "code",
   "execution_count": null,
   "metadata": {},
   "outputs": [],
   "source": [
    "test_df_2 = df_test.iloc[:,74:148]\n",
    "test_df_2['ident_id'] = range(1,16001)\n",
    "test_df_2"
   ]
  },
  {
   "cell_type": "code",
   "execution_count": null,
   "metadata": {},
   "outputs": [],
   "source": [
    "test_df_3 = df_test.iloc[:,148:]\n",
    "test_df_3['ident_id'] = range(1,16001)\n",
    "test_df_3"
   ]
  },
  {
   "cell_type": "code",
   "execution_count": null,
   "metadata": {},
   "outputs": [],
   "source": [
    "with open(r'F:\\iNeuron\\Projects\\scania_failures_2\\Secrets\\Tokens\\sample-token.json') as f:\n",
    "        secrets = json.load(f)\n",
    "        # logger.info(f\"{config[1]} json file is loaded\")\n",
    "\n",
    "cloud_config = {'secure_connect_bundle': r'F:\\iNeuron\\Projects\\scania_failures_2\\Secrets\\Bundles\\secure-connect-sample.zip',\n",
    "                'connect_timeout': None}\n",
    "# print(f\"cloud_config: {cloud_config}\")\n",
    "CLIENT_ID = secrets[\"clientId\"]\n",
    "CLIENT_SECRET = secrets[\"secret\"]\n",
    "auth_provider = PlainTextAuthProvider(CLIENT_ID, CLIENT_SECRET)\n",
    "# profile = ExecutionProfile(request_timeout=None)\n",
    "cluster = Cluster(cloud=cloud_config,\n",
    "                    auth_provider=auth_provider,\n",
    "                    # execution_profiles={EXEC_PROFILE_DEFAULT: profile},\n",
    "                    protocol_version=4)\n",
    "\n",
    "session = cluster.connect()"
   ]
  },
  {
   "cell_type": "code",
   "execution_count": null,
   "metadata": {},
   "outputs": [],
   "source": [
    "data_df = train_df_1\n",
    "# Define keyspace name and table name\n",
    "keyspace = 'sample_keyspace'\n",
    "table_name = 'uploaded_data'\n",
    "colums_types_dict_from_data_df = dict(zip(list(data_df.columns),list(data_df.dtypes.replace({'object':'text','int64':'int'}).values)))\n",
    "# columns = ', '.join(train_df_1.columns)\n",
    "columns = ', '.join([f\"{key} {value}\" for key,value in colums_types_dict_from_data_df.items()])\n",
    "create_table_statement = f\"CREATE TABLE IF NOT EXISTS {keyspace}.{table_name} ({columns}, PRIMARY KEY (ident_id));\"\n",
    "# create_table_statement = f\"CREATE TABLE IF NOT EXISTS {keyspace}.{table_name} ({columns}, PRIMARY KEY (your_primary_key_column));\"\n",
    "session.execute(create_table_statement)\n"
   ]
  },
  {
   "cell_type": "code",
   "execution_count": null,
   "metadata": {},
   "outputs": [],
   "source": [
    "dsbulk_command = [\n",
    "    \"dsbulk\",\n",
    "    \"load\",\n",
    "    \"-url\", os.path.join(\"F:/iNeuron/Projects/scania_failures_2/artifacts/data/temp/\",\"train_data1.csv\"),\n",
    "    \"-k\", \"sample_keyspace\",\n",
    "    \"-t\", \"uploaded_data\",\n",
    "    \"-b\", os.path.join(\"F:/iNeuron/Projects/scania_failures_2/Secrets/Bundles/\",\"secure-connect-sample.zip\"),\n",
    "    \"-u\", \"DfYsAxTkqZZWHwNguQHPBJMt\", \n",
    "    \"-p\", \"gl5rR3g-,_vTiPLZ.Zn7pouaWdAbZQ3elybJmlnaa,D+Zr4TLx4hpYNZrQwFHTARO6GXyeByF3BQS87plEhoSDPN50e,mZgbjqUm2IUTg5p3SojZF7r-GvA0gyNpbIdG\",\n",
    "]\n",
    "result = subprocess.run(dsbulk_command, capture_output=True, text=True,shell=True)\n",
    "\n",
    "print(\"Return code:\", result.returncode)\n",
    "print(\"Standard output:\", result.stdout)\n",
    "print(\"Standard error:\", result.stderr)"
   ]
  },
  {
   "cell_type": "code",
   "execution_count": 239,
   "metadata": {},
   "outputs": [],
   "source": [
    "train_df_1 = pd.read_csv(r\"F:\\iNeuron\\Projects\\scania_failures_2\\artifacts\\data\\raw\\train_data_1.csv\")\n",
    "train_df_1_ = pd.read_csv(r\"F:\\iNeuron\\Projects\\scania_failures_2\\artifacts\\data\\temp\\train_data_1.csv\")\n",
    "\n",
    "train_df_2 = pd.read_csv(r\"F:\\iNeuron\\Projects\\scania_failures_2\\artifacts\\data\\raw\\train_data_2.csv\")\n",
    "train_df_2_ = pd.read_csv(r\"F:\\iNeuron\\Projects\\scania_failures_2\\artifacts\\data\\temp\\train_data_2.csv\")\n",
    "\n",
    "train_df_3 = pd.read_csv(r\"F:\\iNeuron\\Projects\\scania_failures_2\\artifacts\\data\\raw\\train_data_3.csv\")\n",
    "train_df_3_ = pd.read_csv(r\"F:\\iNeuron\\Projects\\scania_failures_2\\artifacts\\data\\temp\\train_data_3.csv\")\n",
    "\n",
    "##################################################################################################################\n",
    "\n",
    "test_df_1 = pd.read_csv(r\"F:\\iNeuron\\Projects\\scania_failures_2\\artifacts\\data\\raw\\test_data_1.csv\")\n",
    "test_df_1_ = pd.read_csv(r\"F:\\iNeuron\\Projects\\scania_failures_2\\artifacts\\data\\temp\\test_data_1.csv\")\n",
    "\n",
    "test_df_2 = pd.read_csv(r\"F:\\iNeuron\\Projects\\scania_failures_2\\artifacts\\data\\raw\\test_data_2.csv\")\n",
    "test_df_2_ = pd.read_csv(r\"F:\\iNeuron\\Projects\\scania_failures_2\\artifacts\\data\\temp\\test_data_2.csv\")\n",
    "\n",
    "test_df_3 = pd.read_csv(r\"F:\\iNeuron\\Projects\\scania_failures_2\\artifacts\\data\\raw\\test_data_3.csv\")\n",
    "test_df_3_ = pd.read_csv(r\"F:\\iNeuron\\Projects\\scania_failures_2\\artifacts\\data\\temp\\test_data_3.csv\")"
   ]
  },
  {
   "cell_type": "code",
   "execution_count": 238,
   "metadata": {},
   "outputs": [],
   "source": [
    "def checker_2(df_1:pd.DataFrame,df_2_:pd.DataFrame):\n",
    "    df_1.sort_values(by = 'ident_id',inplace = True)\n",
    "    df_1.reset_index(drop=True,inplace=True)\n",
    "    df_1.drop(columns=['ident_id'],inplace=True)\n",
    "    df_2_.drop(columns=['ident_id'],inplace=True)\n",
    "    try:\n",
    "        df_1.drop(columns=['field_74_'],inplace=True)\n",
    "        df_2_.drop(columns=['class'],inplace=True)\n",
    "    except:\n",
    "        pass\n",
    "    return (df_2_.compare(df_1))"
   ]
  },
  {
   "cell_type": "code",
   "execution_count": 245,
   "metadata": {},
   "outputs": [
    {
     "data": {
      "text/html": [
       "<div>\n",
       "<style scoped>\n",
       "    .dataframe tbody tr th:only-of-type {\n",
       "        vertical-align: middle;\n",
       "    }\n",
       "\n",
       "    .dataframe tbody tr th {\n",
       "        vertical-align: top;\n",
       "    }\n",
       "\n",
       "    .dataframe thead tr th {\n",
       "        text-align: left;\n",
       "    }\n",
       "</style>\n",
       "<table border=\"1\" class=\"dataframe\">\n",
       "  <thead>\n",
       "  </thead>\n",
       "  <tbody>\n",
       "  </tbody>\n",
       "</table>\n",
       "</div>"
      ],
      "text/plain": [
       "Empty DataFrame\n",
       "Columns: []\n",
       "Index: []"
      ]
     },
     "execution_count": 245,
     "metadata": {},
     "output_type": "execute_result"
    }
   ],
   "source": [
    "checker_2(df_1 = train_df_1, df_2_=train_df_1_)"
   ]
  },
  {
   "cell_type": "code",
   "execution_count": 225,
   "metadata": {},
   "outputs": [
    {
     "data": {
      "text/plain": [
       "Index(['bm_000', 'bn_000', 'bo_000', 'bp_000', 'bq_000', 'br_000', 'bs_000',\n",
       "       'bt_000', 'bu_000', 'bv_000', 'bx_000', 'by_000', 'bz_000', 'ca_000',\n",
       "       'cb_000', 'cc_000', 'cd_000', 'ce_000', 'cf_000', 'cg_000', 'ch_000',\n",
       "       'ci_000', 'cj_000', 'ck_000', 'cl_000', 'cm_000', 'cn_000', 'cn_001',\n",
       "       'cn_002', 'cn_003', 'cn_004', 'cn_005', 'cn_006', 'cn_007', 'cn_008',\n",
       "       'cn_009', 'co_000', 'cp_000', 'cq_000', 'cr_000', 'cs_000', 'cs_001',\n",
       "       'cs_002', 'cs_003', 'cs_004', 'cs_005', 'cs_006', 'cs_007', 'cs_008',\n",
       "       'cs_009', 'ct_000', 'cu_000', 'cv_000', 'cx_000', 'cy_000', 'cz_000',\n",
       "       'da_000', 'db_000', 'dc_000', 'dd_000', 'de_000', 'df_000', 'dg_000',\n",
       "       'dh_000', 'di_000', 'dj_000', 'dk_000', 'dl_000', 'dm_000', 'dn_000',\n",
       "       'do_000', 'dp_000', 'dq_000', 'dr_000'],\n",
       "      dtype='object')"
      ]
     },
     "execution_count": 225,
     "metadata": {},
     "output_type": "execute_result"
    }
   ],
   "source": [
    "train_df_2.compare(train_df_1)"
   ]
  },
  {
   "cell_type": "code",
   "execution_count": 226,
   "metadata": {},
   "outputs": [
    {
     "data": {
      "text/plain": [
       "Index(['bm_000', 'bn_000', 'bo_000', 'bp_000', 'bq_000', 'br_000', 'bs_000',\n",
       "       'bt_000', 'bu_000', 'bv_000', 'bx_000', 'by_000', 'bz_000', 'ca_000',\n",
       "       'cb_000', 'cc_000', 'cd_000', 'ce_000', 'cf_000', 'cg_000', 'ch_000',\n",
       "       'ci_000', 'cj_000', 'ck_000', 'cl_000', 'cm_000', 'cn_000', 'cn_001',\n",
       "       'cn_002', 'cn_003', 'cn_004', 'cn_005', 'cn_006', 'cn_007', 'cn_008',\n",
       "       'cn_009', 'co_000', 'cp_000', 'cq_000', 'cr_000', 'cs_000', 'cs_001',\n",
       "       'cs_002', 'cs_003', 'cs_004', 'cs_005', 'cs_006', 'cs_007', 'cs_008',\n",
       "       'cs_009', 'ct_000', 'cu_000', 'cv_000', 'cx_000', 'cy_000', 'cz_000',\n",
       "       'da_000', 'db_000', 'dc_000', 'dd_000', 'de_000', 'df_000', 'dg_000',\n",
       "       'dh_000', 'di_000', 'dj_000', 'dk_000', 'dl_000', 'dm_000', 'dn_000',\n",
       "       'do_000', 'dp_000', 'dq_000', 'dr_000'],\n",
       "      dtype='object')"
      ]
     },
     "execution_count": 226,
     "metadata": {},
     "output_type": "execute_result"
    }
   ],
   "source": [
    "train_df_2_.columns"
   ]
  },
  {
   "cell_type": "code",
   "execution_count": 180,
   "metadata": {},
   "outputs": [],
   "source": [
    "def process(df:pd.DataFrame):\n",
    "    df.replace('na', np.nan, inplace=True)\n",
    "    df.drop(columns = ['ident_id'], inplace=True)     \n",
    "    df.rename(columns={'field_74_': 'class'}, inplace=True)  \n",
    "    for i in df.columns:\n",
    "        if i != 'class':\n",
    "            df[i] = df[i].astype('float')\n",
    "        else:\n",
    "            df['class'] = df['class'].map({'neg':0,'pos':1})\n",
    "            df.drop(columns = ['class'], inplace=True)   \n",
    "    return(df)\n",
    "\n",
    "def describe_check(df_1:pd.DataFrame, df_2:pd.DataFrame):\n",
    "    checks = {}\n",
    "    stats_cols = ['count','mean','std','min','25%','50%','75%','max']\n",
    "    for i in stats_cols:\n",
    "        checks[i] = all(df_1.describe().T[i] == df_2.describe().T[i])\n",
    "    return checks\n",
    "    "
   ]
  },
  {
   "cell_type": "code",
   "execution_count": 190,
   "metadata": {},
   "outputs": [],
   "source": []
  },
  {
   "cell_type": "code",
   "execution_count": 192,
   "metadata": {},
   "outputs": [
    {
     "data": {
      "text/html": [
       "<div>\n",
       "<style scoped>\n",
       "    .dataframe tbody tr th:only-of-type {\n",
       "        vertical-align: middle;\n",
       "    }\n",
       "\n",
       "    .dataframe tbody tr th {\n",
       "        vertical-align: top;\n",
       "    }\n",
       "\n",
       "    .dataframe thead th {\n",
       "        text-align: right;\n",
       "    }\n",
       "</style>\n",
       "<table border=\"1\" class=\"dataframe\">\n",
       "  <thead>\n",
       "    <tr style=\"text-align: right;\">\n",
       "      <th></th>\n",
       "      <th>class</th>\n",
       "      <th>aa_000</th>\n",
       "      <th>ab_000</th>\n",
       "      <th>ac_000</th>\n",
       "      <th>ad_000</th>\n",
       "      <th>ae_000</th>\n",
       "      <th>af_000</th>\n",
       "      <th>ag_000</th>\n",
       "      <th>ag_001</th>\n",
       "      <th>ag_002</th>\n",
       "      <th>...</th>\n",
       "      <th>bd_000</th>\n",
       "      <th>be_000</th>\n",
       "      <th>bf_000</th>\n",
       "      <th>bg_000</th>\n",
       "      <th>bh_000</th>\n",
       "      <th>bi_000</th>\n",
       "      <th>bj_000</th>\n",
       "      <th>bk_000</th>\n",
       "      <th>bl_000</th>\n",
       "      <th>ident_id</th>\n",
       "    </tr>\n",
       "  </thead>\n",
       "  <tbody>\n",
       "    <tr>\n",
       "      <th>0</th>\n",
       "      <td>neg</td>\n",
       "      <td>76698</td>\n",
       "      <td>na</td>\n",
       "      <td>2130706438</td>\n",
       "      <td>280</td>\n",
       "      <td>0</td>\n",
       "      <td>0</td>\n",
       "      <td>0</td>\n",
       "      <td>0</td>\n",
       "      <td>0</td>\n",
       "      <td>...</td>\n",
       "      <td>10</td>\n",
       "      <td>108</td>\n",
       "      <td>50</td>\n",
       "      <td>2551696</td>\n",
       "      <td>97518</td>\n",
       "      <td>947550</td>\n",
       "      <td>799478</td>\n",
       "      <td>330760</td>\n",
       "      <td>353400</td>\n",
       "      <td>1</td>\n",
       "    </tr>\n",
       "    <tr>\n",
       "      <th>1</th>\n",
       "      <td>neg</td>\n",
       "      <td>33058</td>\n",
       "      <td>na</td>\n",
       "      <td>0</td>\n",
       "      <td>na</td>\n",
       "      <td>0</td>\n",
       "      <td>0</td>\n",
       "      <td>0</td>\n",
       "      <td>0</td>\n",
       "      <td>0</td>\n",
       "      <td>...</td>\n",
       "      <td>454</td>\n",
       "      <td>364</td>\n",
       "      <td>350</td>\n",
       "      <td>1393352</td>\n",
       "      <td>49028</td>\n",
       "      <td>688314</td>\n",
       "      <td>392208</td>\n",
       "      <td>341420</td>\n",
       "      <td>359780</td>\n",
       "      <td>2</td>\n",
       "    </tr>\n",
       "    <tr>\n",
       "      <th>2</th>\n",
       "      <td>neg</td>\n",
       "      <td>41040</td>\n",
       "      <td>na</td>\n",
       "      <td>228</td>\n",
       "      <td>100</td>\n",
       "      <td>0</td>\n",
       "      <td>0</td>\n",
       "      <td>0</td>\n",
       "      <td>0</td>\n",
       "      <td>0</td>\n",
       "      <td>...</td>\n",
       "      <td>202</td>\n",
       "      <td>576</td>\n",
       "      <td>4</td>\n",
       "      <td>1234132</td>\n",
       "      <td>28804</td>\n",
       "      <td>160176</td>\n",
       "      <td>139730</td>\n",
       "      <td>137160</td>\n",
       "      <td>130640</td>\n",
       "      <td>3</td>\n",
       "    </tr>\n",
       "    <tr>\n",
       "      <th>3</th>\n",
       "      <td>neg</td>\n",
       "      <td>12</td>\n",
       "      <td>0</td>\n",
       "      <td>70</td>\n",
       "      <td>66</td>\n",
       "      <td>0</td>\n",
       "      <td>10</td>\n",
       "      <td>0</td>\n",
       "      <td>0</td>\n",
       "      <td>0</td>\n",
       "      <td>...</td>\n",
       "      <td>12</td>\n",
       "      <td>0</td>\n",
       "      <td>0</td>\n",
       "      <td>2668</td>\n",
       "      <td>184</td>\n",
       "      <td>7632</td>\n",
       "      <td>3090</td>\n",
       "      <td>na</td>\n",
       "      <td>na</td>\n",
       "      <td>4</td>\n",
       "    </tr>\n",
       "    <tr>\n",
       "      <th>4</th>\n",
       "      <td>neg</td>\n",
       "      <td>60874</td>\n",
       "      <td>na</td>\n",
       "      <td>1368</td>\n",
       "      <td>458</td>\n",
       "      <td>0</td>\n",
       "      <td>0</td>\n",
       "      <td>0</td>\n",
       "      <td>0</td>\n",
       "      <td>0</td>\n",
       "      <td>...</td>\n",
       "      <td>556</td>\n",
       "      <td>642</td>\n",
       "      <td>2</td>\n",
       "      <td>1974038</td>\n",
       "      <td>86454</td>\n",
       "      <td>653692</td>\n",
       "      <td>399410</td>\n",
       "      <td>306780</td>\n",
       "      <td>282560</td>\n",
       "      <td>5</td>\n",
       "    </tr>\n",
       "    <tr>\n",
       "      <th>...</th>\n",
       "      <td>...</td>\n",
       "      <td>...</td>\n",
       "      <td>...</td>\n",
       "      <td>...</td>\n",
       "      <td>...</td>\n",
       "      <td>...</td>\n",
       "      <td>...</td>\n",
       "      <td>...</td>\n",
       "      <td>...</td>\n",
       "      <td>...</td>\n",
       "      <td>...</td>\n",
       "      <td>...</td>\n",
       "      <td>...</td>\n",
       "      <td>...</td>\n",
       "      <td>...</td>\n",
       "      <td>...</td>\n",
       "      <td>...</td>\n",
       "      <td>...</td>\n",
       "      <td>...</td>\n",
       "      <td>...</td>\n",
       "      <td>...</td>\n",
       "    </tr>\n",
       "    <tr>\n",
       "      <th>59995</th>\n",
       "      <td>neg</td>\n",
       "      <td>153002</td>\n",
       "      <td>na</td>\n",
       "      <td>664</td>\n",
       "      <td>186</td>\n",
       "      <td>0</td>\n",
       "      <td>0</td>\n",
       "      <td>0</td>\n",
       "      <td>0</td>\n",
       "      <td>0</td>\n",
       "      <td>...</td>\n",
       "      <td>1206</td>\n",
       "      <td>1606</td>\n",
       "      <td>14</td>\n",
       "      <td>4880368</td>\n",
       "      <td>129760</td>\n",
       "      <td>1244058</td>\n",
       "      <td>678792</td>\n",
       "      <td>263320</td>\n",
       "      <td>221620</td>\n",
       "      <td>59996</td>\n",
       "    </tr>\n",
       "    <tr>\n",
       "      <th>59996</th>\n",
       "      <td>neg</td>\n",
       "      <td>2286</td>\n",
       "      <td>na</td>\n",
       "      <td>2130706538</td>\n",
       "      <td>224</td>\n",
       "      <td>0</td>\n",
       "      <td>0</td>\n",
       "      <td>0</td>\n",
       "      <td>0</td>\n",
       "      <td>0</td>\n",
       "      <td>...</td>\n",
       "      <td>14</td>\n",
       "      <td>716</td>\n",
       "      <td>0</td>\n",
       "      <td>56982</td>\n",
       "      <td>1900</td>\n",
       "      <td>14404</td>\n",
       "      <td>9572</td>\n",
       "      <td>na</td>\n",
       "      <td>na</td>\n",
       "      <td>59997</td>\n",
       "    </tr>\n",
       "    <tr>\n",
       "      <th>59997</th>\n",
       "      <td>neg</td>\n",
       "      <td>112</td>\n",
       "      <td>0</td>\n",
       "      <td>2130706432</td>\n",
       "      <td>18</td>\n",
       "      <td>0</td>\n",
       "      <td>0</td>\n",
       "      <td>0</td>\n",
       "      <td>0</td>\n",
       "      <td>0</td>\n",
       "      <td>...</td>\n",
       "      <td>10</td>\n",
       "      <td>2</td>\n",
       "      <td>0</td>\n",
       "      <td>8784</td>\n",
       "      <td>480</td>\n",
       "      <td>7640</td>\n",
       "      <td>6224</td>\n",
       "      <td>na</td>\n",
       "      <td>na</td>\n",
       "      <td>59998</td>\n",
       "    </tr>\n",
       "    <tr>\n",
       "      <th>59998</th>\n",
       "      <td>neg</td>\n",
       "      <td>80292</td>\n",
       "      <td>na</td>\n",
       "      <td>2130706432</td>\n",
       "      <td>494</td>\n",
       "      <td>0</td>\n",
       "      <td>0</td>\n",
       "      <td>0</td>\n",
       "      <td>0</td>\n",
       "      <td>0</td>\n",
       "      <td>...</td>\n",
       "      <td>78</td>\n",
       "      <td>424</td>\n",
       "      <td>70</td>\n",
       "      <td>2634394</td>\n",
       "      <td>105862</td>\n",
       "      <td>580084</td>\n",
       "      <td>1032454</td>\n",
       "      <td>302700</td>\n",
       "      <td>332300</td>\n",
       "      <td>59999</td>\n",
       "    </tr>\n",
       "    <tr>\n",
       "      <th>59999</th>\n",
       "      <td>neg</td>\n",
       "      <td>40222</td>\n",
       "      <td>na</td>\n",
       "      <td>698</td>\n",
       "      <td>628</td>\n",
       "      <td>0</td>\n",
       "      <td>0</td>\n",
       "      <td>0</td>\n",
       "      <td>0</td>\n",
       "      <td>0</td>\n",
       "      <td>...</td>\n",
       "      <td>152</td>\n",
       "      <td>98</td>\n",
       "      <td>2</td>\n",
       "      <td>1235850</td>\n",
       "      <td>37110</td>\n",
       "      <td>310028</td>\n",
       "      <td>260378</td>\n",
       "      <td>191320</td>\n",
       "      <td>268280</td>\n",
       "      <td>60000</td>\n",
       "    </tr>\n",
       "  </tbody>\n",
       "</table>\n",
       "<p>60000 rows × 75 columns</p>\n",
       "</div>"
      ],
      "text/plain": [
       "      class  aa_000 ab_000      ac_000 ad_000 ae_000 af_000 ag_000 ag_001  \\\n",
       "0       neg   76698     na  2130706438    280      0      0      0      0   \n",
       "1       neg   33058     na           0     na      0      0      0      0   \n",
       "2       neg   41040     na         228    100      0      0      0      0   \n",
       "3       neg      12      0          70     66      0     10      0      0   \n",
       "4       neg   60874     na        1368    458      0      0      0      0   \n",
       "...     ...     ...    ...         ...    ...    ...    ...    ...    ...   \n",
       "59995   neg  153002     na         664    186      0      0      0      0   \n",
       "59996   neg    2286     na  2130706538    224      0      0      0      0   \n",
       "59997   neg     112      0  2130706432     18      0      0      0      0   \n",
       "59998   neg   80292     na  2130706432    494      0      0      0      0   \n",
       "59999   neg   40222     na         698    628      0      0      0      0   \n",
       "\n",
       "      ag_002  ... bd_000 be_000 bf_000   bg_000  bh_000   bi_000   bj_000  \\\n",
       "0          0  ...     10    108     50  2551696   97518   947550   799478   \n",
       "1          0  ...    454    364    350  1393352   49028   688314   392208   \n",
       "2          0  ...    202    576      4  1234132   28804   160176   139730   \n",
       "3          0  ...     12      0      0     2668     184     7632     3090   \n",
       "4          0  ...    556    642      2  1974038   86454   653692   399410   \n",
       "...      ...  ...    ...    ...    ...      ...     ...      ...      ...   \n",
       "59995      0  ...   1206   1606     14  4880368  129760  1244058   678792   \n",
       "59996      0  ...     14    716      0    56982    1900    14404     9572   \n",
       "59997      0  ...     10      2      0     8784     480     7640     6224   \n",
       "59998      0  ...     78    424     70  2634394  105862   580084  1032454   \n",
       "59999      0  ...    152     98      2  1235850   37110   310028   260378   \n",
       "\n",
       "       bk_000  bl_000 ident_id  \n",
       "0      330760  353400        1  \n",
       "1      341420  359780        2  \n",
       "2      137160  130640        3  \n",
       "3          na      na        4  \n",
       "4      306780  282560        5  \n",
       "...       ...     ...      ...  \n",
       "59995  263320  221620    59996  \n",
       "59996      na      na    59997  \n",
       "59997      na      na    59998  \n",
       "59998  302700  332300    59999  \n",
       "59999  191320  268280    60000  \n",
       "\n",
       "[60000 rows x 75 columns]"
      ]
     },
     "execution_count": 192,
     "metadata": {},
     "output_type": "execute_result"
    }
   ],
   "source": []
  },
  {
   "cell_type": "code",
   "execution_count": 196,
   "metadata": {},
   "outputs": [],
   "source": []
  },
  {
   "cell_type": "code",
   "execution_count": 197,
   "metadata": {},
   "outputs": [],
   "source": []
  },
  {
   "cell_type": "code",
   "execution_count": 200,
   "metadata": {},
   "outputs": [
    {
     "data": {
      "text/plain": [
       "True"
      ]
     },
     "execution_count": 200,
     "metadata": {},
     "output_type": "execute_result"
    }
   ],
   "source": []
  },
  {
   "cell_type": "code",
   "execution_count": null,
   "metadata": {},
   "outputs": [],
   "source": []
  },
  {
   "cell_type": "code",
   "execution_count": null,
   "metadata": {},
   "outputs": [],
   "source": []
  },
  {
   "cell_type": "code",
   "execution_count": null,
   "metadata": {},
   "outputs": [],
   "source": []
  },
  {
   "cell_type": "code",
   "execution_count": null,
   "metadata": {},
   "outputs": [],
   "source": []
  },
  {
   "cell_type": "code",
   "execution_count": null,
   "metadata": {},
   "outputs": [],
   "source": []
  },
  {
   "cell_type": "code",
   "execution_count": null,
   "metadata": {},
   "outputs": [],
   "source": []
  },
  {
   "cell_type": "code",
   "execution_count": 151,
   "metadata": {},
   "outputs": [
    {
     "data": {
      "text/plain": [
       "{'count': True,\n",
       " 'mean': True,\n",
       " 'std': False,\n",
       " 'min': True,\n",
       " '25%': True,\n",
       " '50%': True,\n",
       " '75%': True,\n",
       " 'max': True}"
      ]
     },
     "execution_count": 151,
     "metadata": {},
     "output_type": "execute_result"
    }
   ],
   "source": [
    "train_df_1_transformed = process(train_df_1)\n",
    "train_df_1__transformed = process(train_df_1_)\n",
    "\n",
    "describe_check(train_df_1_transformed,train_df_1__transformed)"
   ]
  },
  {
   "cell_type": "code",
   "execution_count": 177,
   "metadata": {},
   "outputs": [
    {
     "data": {
      "text/html": [
       "<div>\n",
       "<style scoped>\n",
       "    .dataframe tbody tr th:only-of-type {\n",
       "        vertical-align: middle;\n",
       "    }\n",
       "\n",
       "    .dataframe tbody tr th {\n",
       "        vertical-align: top;\n",
       "    }\n",
       "\n",
       "    .dataframe thead th {\n",
       "        text-align: right;\n",
       "    }\n",
       "</style>\n",
       "<table border=\"1\" class=\"dataframe\">\n",
       "  <thead>\n",
       "    <tr style=\"text-align: right;\">\n",
       "      <th></th>\n",
       "      <th>aa_000</th>\n",
       "      <th>ab_000</th>\n",
       "      <th>ac_000</th>\n",
       "      <th>ad_000</th>\n",
       "      <th>ae_000</th>\n",
       "      <th>af_000</th>\n",
       "      <th>ag_000</th>\n",
       "      <th>ag_001</th>\n",
       "      <th>ag_002</th>\n",
       "      <th>ag_003</th>\n",
       "      <th>...</th>\n",
       "      <th>bc_000</th>\n",
       "      <th>bd_000</th>\n",
       "      <th>be_000</th>\n",
       "      <th>bf_000</th>\n",
       "      <th>bg_000</th>\n",
       "      <th>bh_000</th>\n",
       "      <th>bi_000</th>\n",
       "      <th>bj_000</th>\n",
       "      <th>bk_000</th>\n",
       "      <th>bl_000</th>\n",
       "    </tr>\n",
       "  </thead>\n",
       "  <tbody>\n",
       "    <tr>\n",
       "      <th>0</th>\n",
       "      <td>2184.0</td>\n",
       "      <td>NaN</td>\n",
       "      <td>2.160000e+02</td>\n",
       "      <td>140.0</td>\n",
       "      <td>0.0</td>\n",
       "      <td>0.0</td>\n",
       "      <td>0.0</td>\n",
       "      <td>0.0</td>\n",
       "      <td>0.0</td>\n",
       "      <td>0.0</td>\n",
       "      <td>...</td>\n",
       "      <td>40.0</td>\n",
       "      <td>40.0</td>\n",
       "      <td>46.0</td>\n",
       "      <td>0.0</td>\n",
       "      <td>83702.0</td>\n",
       "      <td>4020.0</td>\n",
       "      <td>31144.0</td>\n",
       "      <td>31022.0</td>\n",
       "      <td>NaN</td>\n",
       "      <td>NaN</td>\n",
       "    </tr>\n",
       "    <tr>\n",
       "      <th>1</th>\n",
       "      <td>124.0</td>\n",
       "      <td>NaN</td>\n",
       "      <td>8.000000e+00</td>\n",
       "      <td>6.0</td>\n",
       "      <td>0.0</td>\n",
       "      <td>0.0</td>\n",
       "      <td>0.0</td>\n",
       "      <td>0.0</td>\n",
       "      <td>0.0</td>\n",
       "      <td>506.0</td>\n",
       "      <td>...</td>\n",
       "      <td>2.0</td>\n",
       "      <td>16.0</td>\n",
       "      <td>130.0</td>\n",
       "      <td>0.0</td>\n",
       "      <td>6366.0</td>\n",
       "      <td>348.0</td>\n",
       "      <td>8060.0</td>\n",
       "      <td>3386.0</td>\n",
       "      <td>1310700.0</td>\n",
       "      <td>1310700.0</td>\n",
       "    </tr>\n",
       "    <tr>\n",
       "      <th>2</th>\n",
       "      <td>1084202.0</td>\n",
       "      <td>NaN</td>\n",
       "      <td>NaN</td>\n",
       "      <td>NaN</td>\n",
       "      <td>0.0</td>\n",
       "      <td>0.0</td>\n",
       "      <td>0.0</td>\n",
       "      <td>3808.0</td>\n",
       "      <td>419386.0</td>\n",
       "      <td>5982232.0</td>\n",
       "      <td>...</td>\n",
       "      <td>NaN</td>\n",
       "      <td>NaN</td>\n",
       "      <td>57326.0</td>\n",
       "      <td>0.0</td>\n",
       "      <td>20994370.0</td>\n",
       "      <td>623010.0</td>\n",
       "      <td>7717282.0</td>\n",
       "      <td>6533948.0</td>\n",
       "      <td>240060.0</td>\n",
       "      <td>240660.0</td>\n",
       "    </tr>\n",
       "    <tr>\n",
       "      <th>3</th>\n",
       "      <td>356.0</td>\n",
       "      <td>NaN</td>\n",
       "      <td>0.000000e+00</td>\n",
       "      <td>NaN</td>\n",
       "      <td>0.0</td>\n",
       "      <td>0.0</td>\n",
       "      <td>0.0</td>\n",
       "      <td>0.0</td>\n",
       "      <td>0.0</td>\n",
       "      <td>0.0</td>\n",
       "      <td>...</td>\n",
       "      <td>0.0</td>\n",
       "      <td>132.0</td>\n",
       "      <td>48.0</td>\n",
       "      <td>0.0</td>\n",
       "      <td>12872.0</td>\n",
       "      <td>604.0</td>\n",
       "      <td>2808.0</td>\n",
       "      <td>4496.0</td>\n",
       "      <td>NaN</td>\n",
       "      <td>NaN</td>\n",
       "    </tr>\n",
       "    <tr>\n",
       "      <th>4</th>\n",
       "      <td>194.0</td>\n",
       "      <td>4.0</td>\n",
       "      <td>3.200000e+01</td>\n",
       "      <td>10.0</td>\n",
       "      <td>0.0</td>\n",
       "      <td>0.0</td>\n",
       "      <td>0.0</td>\n",
       "      <td>0.0</td>\n",
       "      <td>0.0</td>\n",
       "      <td>1974.0</td>\n",
       "      <td>...</td>\n",
       "      <td>18.0</td>\n",
       "      <td>12.0</td>\n",
       "      <td>44.0</td>\n",
       "      <td>0.0</td>\n",
       "      <td>43820.0</td>\n",
       "      <td>1142.0</td>\n",
       "      <td>17586.0</td>\n",
       "      <td>16034.0</td>\n",
       "      <td>NaN</td>\n",
       "      <td>NaN</td>\n",
       "    </tr>\n",
       "    <tr>\n",
       "      <th>...</th>\n",
       "      <td>...</td>\n",
       "      <td>...</td>\n",
       "      <td>...</td>\n",
       "      <td>...</td>\n",
       "      <td>...</td>\n",
       "      <td>...</td>\n",
       "      <td>...</td>\n",
       "      <td>...</td>\n",
       "      <td>...</td>\n",
       "      <td>...</td>\n",
       "      <td>...</td>\n",
       "      <td>...</td>\n",
       "      <td>...</td>\n",
       "      <td>...</td>\n",
       "      <td>...</td>\n",
       "      <td>...</td>\n",
       "      <td>...</td>\n",
       "      <td>...</td>\n",
       "      <td>...</td>\n",
       "      <td>...</td>\n",
       "      <td>...</td>\n",
       "    </tr>\n",
       "    <tr>\n",
       "      <th>59995</th>\n",
       "      <td>411606.0</td>\n",
       "      <td>NaN</td>\n",
       "      <td>NaN</td>\n",
       "      <td>NaN</td>\n",
       "      <td>NaN</td>\n",
       "      <td>NaN</td>\n",
       "      <td>NaN</td>\n",
       "      <td>NaN</td>\n",
       "      <td>NaN</td>\n",
       "      <td>NaN</td>\n",
       "      <td>...</td>\n",
       "      <td>NaN</td>\n",
       "      <td>NaN</td>\n",
       "      <td>NaN</td>\n",
       "      <td>NaN</td>\n",
       "      <td>NaN</td>\n",
       "      <td>NaN</td>\n",
       "      <td>NaN</td>\n",
       "      <td>NaN</td>\n",
       "      <td>NaN</td>\n",
       "      <td>NaN</td>\n",
       "    </tr>\n",
       "    <tr>\n",
       "      <th>59996</th>\n",
       "      <td>4.0</td>\n",
       "      <td>NaN</td>\n",
       "      <td>2.000000e+00</td>\n",
       "      <td>2.0</td>\n",
       "      <td>0.0</td>\n",
       "      <td>0.0</td>\n",
       "      <td>0.0</td>\n",
       "      <td>0.0</td>\n",
       "      <td>0.0</td>\n",
       "      <td>0.0</td>\n",
       "      <td>...</td>\n",
       "      <td>0.0</td>\n",
       "      <td>6.0</td>\n",
       "      <td>0.0</td>\n",
       "      <td>0.0</td>\n",
       "      <td>1946.0</td>\n",
       "      <td>166.0</td>\n",
       "      <td>3456.0</td>\n",
       "      <td>1310.0</td>\n",
       "      <td>1310700.0</td>\n",
       "      <td>1310700.0</td>\n",
       "    </tr>\n",
       "    <tr>\n",
       "      <th>59997</th>\n",
       "      <td>802.0</td>\n",
       "      <td>NaN</td>\n",
       "      <td>1.000000e+01</td>\n",
       "      <td>10.0</td>\n",
       "      <td>0.0</td>\n",
       "      <td>0.0</td>\n",
       "      <td>0.0</td>\n",
       "      <td>0.0</td>\n",
       "      <td>0.0</td>\n",
       "      <td>0.0</td>\n",
       "      <td>...</td>\n",
       "      <td>0.0</td>\n",
       "      <td>72.0</td>\n",
       "      <td>16.0</td>\n",
       "      <td>0.0</td>\n",
       "      <td>19510.0</td>\n",
       "      <td>342.0</td>\n",
       "      <td>1532.0</td>\n",
       "      <td>2952.0</td>\n",
       "      <td>NaN</td>\n",
       "      <td>NaN</td>\n",
       "    </tr>\n",
       "    <tr>\n",
       "      <th>59998</th>\n",
       "      <td>1474.0</td>\n",
       "      <td>0.0</td>\n",
       "      <td>2.130706e+09</td>\n",
       "      <td>26.0</td>\n",
       "      <td>0.0</td>\n",
       "      <td>0.0</td>\n",
       "      <td>0.0</td>\n",
       "      <td>0.0</td>\n",
       "      <td>0.0</td>\n",
       "      <td>0.0</td>\n",
       "      <td>...</td>\n",
       "      <td>2.0</td>\n",
       "      <td>6.0</td>\n",
       "      <td>4.0</td>\n",
       "      <td>0.0</td>\n",
       "      <td>43916.0</td>\n",
       "      <td>768.0</td>\n",
       "      <td>7062.0</td>\n",
       "      <td>8818.0</td>\n",
       "      <td>NaN</td>\n",
       "      <td>NaN</td>\n",
       "    </tr>\n",
       "    <tr>\n",
       "      <th>59999</th>\n",
       "      <td>59178.0</td>\n",
       "      <td>NaN</td>\n",
       "      <td>2.040000e+02</td>\n",
       "      <td>146.0</td>\n",
       "      <td>0.0</td>\n",
       "      <td>0.0</td>\n",
       "      <td>0.0</td>\n",
       "      <td>0.0</td>\n",
       "      <td>0.0</td>\n",
       "      <td>0.0</td>\n",
       "      <td>...</td>\n",
       "      <td>132.0</td>\n",
       "      <td>814.0</td>\n",
       "      <td>296.0</td>\n",
       "      <td>4.0</td>\n",
       "      <td>1745076.0</td>\n",
       "      <td>52284.0</td>\n",
       "      <td>362738.0</td>\n",
       "      <td>436228.0</td>\n",
       "      <td>274520.0</td>\n",
       "      <td>244640.0</td>\n",
       "    </tr>\n",
       "  </tbody>\n",
       "</table>\n",
       "<p>60000 rows × 73 columns</p>\n",
       "</div>"
      ],
      "text/plain": [
       "          aa_000  ab_000        ac_000  ad_000  ae_000  af_000  ag_000  \\\n",
       "0         2184.0     NaN  2.160000e+02   140.0     0.0     0.0     0.0   \n",
       "1          124.0     NaN  8.000000e+00     6.0     0.0     0.0     0.0   \n",
       "2      1084202.0     NaN           NaN     NaN     0.0     0.0     0.0   \n",
       "3          356.0     NaN  0.000000e+00     NaN     0.0     0.0     0.0   \n",
       "4          194.0     4.0  3.200000e+01    10.0     0.0     0.0     0.0   \n",
       "...          ...     ...           ...     ...     ...     ...     ...   \n",
       "59995   411606.0     NaN           NaN     NaN     NaN     NaN     NaN   \n",
       "59996        4.0     NaN  2.000000e+00     2.0     0.0     0.0     0.0   \n",
       "59997      802.0     NaN  1.000000e+01    10.0     0.0     0.0     0.0   \n",
       "59998     1474.0     0.0  2.130706e+09    26.0     0.0     0.0     0.0   \n",
       "59999    59178.0     NaN  2.040000e+02   146.0     0.0     0.0     0.0   \n",
       "\n",
       "       ag_001    ag_002     ag_003  ...  bc_000  bd_000   be_000  bf_000  \\\n",
       "0         0.0       0.0        0.0  ...    40.0    40.0     46.0     0.0   \n",
       "1         0.0       0.0      506.0  ...     2.0    16.0    130.0     0.0   \n",
       "2      3808.0  419386.0  5982232.0  ...     NaN     NaN  57326.0     0.0   \n",
       "3         0.0       0.0        0.0  ...     0.0   132.0     48.0     0.0   \n",
       "4         0.0       0.0     1974.0  ...    18.0    12.0     44.0     0.0   \n",
       "...       ...       ...        ...  ...     ...     ...      ...     ...   \n",
       "59995     NaN       NaN        NaN  ...     NaN     NaN      NaN     NaN   \n",
       "59996     0.0       0.0        0.0  ...     0.0     6.0      0.0     0.0   \n",
       "59997     0.0       0.0        0.0  ...     0.0    72.0     16.0     0.0   \n",
       "59998     0.0       0.0        0.0  ...     2.0     6.0      4.0     0.0   \n",
       "59999     0.0       0.0        0.0  ...   132.0   814.0    296.0     4.0   \n",
       "\n",
       "           bg_000    bh_000     bi_000     bj_000     bk_000     bl_000  \n",
       "0         83702.0    4020.0    31144.0    31022.0        NaN        NaN  \n",
       "1          6366.0     348.0     8060.0     3386.0  1310700.0  1310700.0  \n",
       "2      20994370.0  623010.0  7717282.0  6533948.0   240060.0   240660.0  \n",
       "3         12872.0     604.0     2808.0     4496.0        NaN        NaN  \n",
       "4         43820.0    1142.0    17586.0    16034.0        NaN        NaN  \n",
       "...           ...       ...        ...        ...        ...        ...  \n",
       "59995         NaN       NaN        NaN        NaN        NaN        NaN  \n",
       "59996      1946.0     166.0     3456.0     1310.0  1310700.0  1310700.0  \n",
       "59997     19510.0     342.0     1532.0     2952.0        NaN        NaN  \n",
       "59998     43916.0     768.0     7062.0     8818.0        NaN        NaN  \n",
       "59999   1745076.0   52284.0   362738.0   436228.0   274520.0   244640.0  \n",
       "\n",
       "[60000 rows x 73 columns]"
      ]
     },
     "execution_count": 177,
     "metadata": {},
     "output_type": "execute_result"
    }
   ],
   "source": [
    "train_df_1_transformed"
   ]
  },
  {
   "cell_type": "code",
   "execution_count": 178,
   "metadata": {},
   "outputs": [
    {
     "data": {
      "text/html": [
       "<div>\n",
       "<style scoped>\n",
       "    .dataframe tbody tr th:only-of-type {\n",
       "        vertical-align: middle;\n",
       "    }\n",
       "\n",
       "    .dataframe tbody tr th {\n",
       "        vertical-align: top;\n",
       "    }\n",
       "\n",
       "    .dataframe thead th {\n",
       "        text-align: right;\n",
       "    }\n",
       "</style>\n",
       "<table border=\"1\" class=\"dataframe\">\n",
       "  <thead>\n",
       "    <tr style=\"text-align: right;\">\n",
       "      <th></th>\n",
       "      <th>aa_000</th>\n",
       "      <th>ab_000</th>\n",
       "      <th>ac_000</th>\n",
       "      <th>ad_000</th>\n",
       "      <th>ae_000</th>\n",
       "      <th>af_000</th>\n",
       "      <th>ag_000</th>\n",
       "      <th>ag_001</th>\n",
       "      <th>ag_002</th>\n",
       "      <th>ag_003</th>\n",
       "      <th>...</th>\n",
       "      <th>bc_000</th>\n",
       "      <th>bd_000</th>\n",
       "      <th>be_000</th>\n",
       "      <th>bf_000</th>\n",
       "      <th>bg_000</th>\n",
       "      <th>bh_000</th>\n",
       "      <th>bi_000</th>\n",
       "      <th>bj_000</th>\n",
       "      <th>bk_000</th>\n",
       "      <th>bl_000</th>\n",
       "    </tr>\n",
       "  </thead>\n",
       "  <tbody>\n",
       "    <tr>\n",
       "      <th>0</th>\n",
       "      <td>76698.0</td>\n",
       "      <td>NaN</td>\n",
       "      <td>2.130706e+09</td>\n",
       "      <td>280.0</td>\n",
       "      <td>0.0</td>\n",
       "      <td>0.0</td>\n",
       "      <td>0.0</td>\n",
       "      <td>0.0</td>\n",
       "      <td>0.0</td>\n",
       "      <td>0.0</td>\n",
       "      <td>...</td>\n",
       "      <td>0.0</td>\n",
       "      <td>10.0</td>\n",
       "      <td>108.0</td>\n",
       "      <td>50.0</td>\n",
       "      <td>2551696.0</td>\n",
       "      <td>97518.0</td>\n",
       "      <td>947550.0</td>\n",
       "      <td>799478.0</td>\n",
       "      <td>330760.0</td>\n",
       "      <td>353400.0</td>\n",
       "    </tr>\n",
       "    <tr>\n",
       "      <th>1</th>\n",
       "      <td>33058.0</td>\n",
       "      <td>NaN</td>\n",
       "      <td>0.000000e+00</td>\n",
       "      <td>NaN</td>\n",
       "      <td>0.0</td>\n",
       "      <td>0.0</td>\n",
       "      <td>0.0</td>\n",
       "      <td>0.0</td>\n",
       "      <td>0.0</td>\n",
       "      <td>0.0</td>\n",
       "      <td>...</td>\n",
       "      <td>86.0</td>\n",
       "      <td>454.0</td>\n",
       "      <td>364.0</td>\n",
       "      <td>350.0</td>\n",
       "      <td>1393352.0</td>\n",
       "      <td>49028.0</td>\n",
       "      <td>688314.0</td>\n",
       "      <td>392208.0</td>\n",
       "      <td>341420.0</td>\n",
       "      <td>359780.0</td>\n",
       "    </tr>\n",
       "    <tr>\n",
       "      <th>2</th>\n",
       "      <td>41040.0</td>\n",
       "      <td>NaN</td>\n",
       "      <td>2.280000e+02</td>\n",
       "      <td>100.0</td>\n",
       "      <td>0.0</td>\n",
       "      <td>0.0</td>\n",
       "      <td>0.0</td>\n",
       "      <td>0.0</td>\n",
       "      <td>0.0</td>\n",
       "      <td>0.0</td>\n",
       "      <td>...</td>\n",
       "      <td>128.0</td>\n",
       "      <td>202.0</td>\n",
       "      <td>576.0</td>\n",
       "      <td>4.0</td>\n",
       "      <td>1234132.0</td>\n",
       "      <td>28804.0</td>\n",
       "      <td>160176.0</td>\n",
       "      <td>139730.0</td>\n",
       "      <td>137160.0</td>\n",
       "      <td>130640.0</td>\n",
       "    </tr>\n",
       "    <tr>\n",
       "      <th>3</th>\n",
       "      <td>12.0</td>\n",
       "      <td>0.0</td>\n",
       "      <td>7.000000e+01</td>\n",
       "      <td>66.0</td>\n",
       "      <td>0.0</td>\n",
       "      <td>10.0</td>\n",
       "      <td>0.0</td>\n",
       "      <td>0.0</td>\n",
       "      <td>0.0</td>\n",
       "      <td>318.0</td>\n",
       "      <td>...</td>\n",
       "      <td>2.0</td>\n",
       "      <td>12.0</td>\n",
       "      <td>0.0</td>\n",
       "      <td>0.0</td>\n",
       "      <td>2668.0</td>\n",
       "      <td>184.0</td>\n",
       "      <td>7632.0</td>\n",
       "      <td>3090.0</td>\n",
       "      <td>NaN</td>\n",
       "      <td>NaN</td>\n",
       "    </tr>\n",
       "    <tr>\n",
       "      <th>4</th>\n",
       "      <td>60874.0</td>\n",
       "      <td>NaN</td>\n",
       "      <td>1.368000e+03</td>\n",
       "      <td>458.0</td>\n",
       "      <td>0.0</td>\n",
       "      <td>0.0</td>\n",
       "      <td>0.0</td>\n",
       "      <td>0.0</td>\n",
       "      <td>0.0</td>\n",
       "      <td>0.0</td>\n",
       "      <td>...</td>\n",
       "      <td>448.0</td>\n",
       "      <td>556.0</td>\n",
       "      <td>642.0</td>\n",
       "      <td>2.0</td>\n",
       "      <td>1974038.0</td>\n",
       "      <td>86454.0</td>\n",
       "      <td>653692.0</td>\n",
       "      <td>399410.0</td>\n",
       "      <td>306780.0</td>\n",
       "      <td>282560.0</td>\n",
       "    </tr>\n",
       "    <tr>\n",
       "      <th>...</th>\n",
       "      <td>...</td>\n",
       "      <td>...</td>\n",
       "      <td>...</td>\n",
       "      <td>...</td>\n",
       "      <td>...</td>\n",
       "      <td>...</td>\n",
       "      <td>...</td>\n",
       "      <td>...</td>\n",
       "      <td>...</td>\n",
       "      <td>...</td>\n",
       "      <td>...</td>\n",
       "      <td>...</td>\n",
       "      <td>...</td>\n",
       "      <td>...</td>\n",
       "      <td>...</td>\n",
       "      <td>...</td>\n",
       "      <td>...</td>\n",
       "      <td>...</td>\n",
       "      <td>...</td>\n",
       "      <td>...</td>\n",
       "      <td>...</td>\n",
       "    </tr>\n",
       "    <tr>\n",
       "      <th>59995</th>\n",
       "      <td>153002.0</td>\n",
       "      <td>NaN</td>\n",
       "      <td>6.640000e+02</td>\n",
       "      <td>186.0</td>\n",
       "      <td>0.0</td>\n",
       "      <td>0.0</td>\n",
       "      <td>0.0</td>\n",
       "      <td>0.0</td>\n",
       "      <td>0.0</td>\n",
       "      <td>2564.0</td>\n",
       "      <td>...</td>\n",
       "      <td>1304.0</td>\n",
       "      <td>1206.0</td>\n",
       "      <td>1606.0</td>\n",
       "      <td>14.0</td>\n",
       "      <td>4880368.0</td>\n",
       "      <td>129760.0</td>\n",
       "      <td>1244058.0</td>\n",
       "      <td>678792.0</td>\n",
       "      <td>263320.0</td>\n",
       "      <td>221620.0</td>\n",
       "    </tr>\n",
       "    <tr>\n",
       "      <th>59996</th>\n",
       "      <td>2286.0</td>\n",
       "      <td>NaN</td>\n",
       "      <td>2.130707e+09</td>\n",
       "      <td>224.0</td>\n",
       "      <td>0.0</td>\n",
       "      <td>0.0</td>\n",
       "      <td>0.0</td>\n",
       "      <td>0.0</td>\n",
       "      <td>0.0</td>\n",
       "      <td>0.0</td>\n",
       "      <td>...</td>\n",
       "      <td>2.0</td>\n",
       "      <td>14.0</td>\n",
       "      <td>716.0</td>\n",
       "      <td>0.0</td>\n",
       "      <td>56982.0</td>\n",
       "      <td>1900.0</td>\n",
       "      <td>14404.0</td>\n",
       "      <td>9572.0</td>\n",
       "      <td>NaN</td>\n",
       "      <td>NaN</td>\n",
       "    </tr>\n",
       "    <tr>\n",
       "      <th>59997</th>\n",
       "      <td>112.0</td>\n",
       "      <td>0.0</td>\n",
       "      <td>2.130706e+09</td>\n",
       "      <td>18.0</td>\n",
       "      <td>0.0</td>\n",
       "      <td>0.0</td>\n",
       "      <td>0.0</td>\n",
       "      <td>0.0</td>\n",
       "      <td>0.0</td>\n",
       "      <td>0.0</td>\n",
       "      <td>...</td>\n",
       "      <td>6.0</td>\n",
       "      <td>10.0</td>\n",
       "      <td>2.0</td>\n",
       "      <td>0.0</td>\n",
       "      <td>8784.0</td>\n",
       "      <td>480.0</td>\n",
       "      <td>7640.0</td>\n",
       "      <td>6224.0</td>\n",
       "      <td>NaN</td>\n",
       "      <td>NaN</td>\n",
       "    </tr>\n",
       "    <tr>\n",
       "      <th>59998</th>\n",
       "      <td>80292.0</td>\n",
       "      <td>NaN</td>\n",
       "      <td>2.130706e+09</td>\n",
       "      <td>494.0</td>\n",
       "      <td>0.0</td>\n",
       "      <td>0.0</td>\n",
       "      <td>0.0</td>\n",
       "      <td>0.0</td>\n",
       "      <td>0.0</td>\n",
       "      <td>0.0</td>\n",
       "      <td>...</td>\n",
       "      <td>64.0</td>\n",
       "      <td>78.0</td>\n",
       "      <td>424.0</td>\n",
       "      <td>70.0</td>\n",
       "      <td>2634394.0</td>\n",
       "      <td>105862.0</td>\n",
       "      <td>580084.0</td>\n",
       "      <td>1032454.0</td>\n",
       "      <td>302700.0</td>\n",
       "      <td>332300.0</td>\n",
       "    </tr>\n",
       "    <tr>\n",
       "      <th>59999</th>\n",
       "      <td>40222.0</td>\n",
       "      <td>NaN</td>\n",
       "      <td>6.980000e+02</td>\n",
       "      <td>628.0</td>\n",
       "      <td>0.0</td>\n",
       "      <td>0.0</td>\n",
       "      <td>0.0</td>\n",
       "      <td>0.0</td>\n",
       "      <td>0.0</td>\n",
       "      <td>0.0</td>\n",
       "      <td>...</td>\n",
       "      <td>84.0</td>\n",
       "      <td>152.0</td>\n",
       "      <td>98.0</td>\n",
       "      <td>2.0</td>\n",
       "      <td>1235850.0</td>\n",
       "      <td>37110.0</td>\n",
       "      <td>310028.0</td>\n",
       "      <td>260378.0</td>\n",
       "      <td>191320.0</td>\n",
       "      <td>268280.0</td>\n",
       "    </tr>\n",
       "  </tbody>\n",
       "</table>\n",
       "<p>60000 rows × 73 columns</p>\n",
       "</div>"
      ],
      "text/plain": [
       "         aa_000  ab_000        ac_000  ad_000  ae_000  af_000  ag_000  ag_001  \\\n",
       "0       76698.0     NaN  2.130706e+09   280.0     0.0     0.0     0.0     0.0   \n",
       "1       33058.0     NaN  0.000000e+00     NaN     0.0     0.0     0.0     0.0   \n",
       "2       41040.0     NaN  2.280000e+02   100.0     0.0     0.0     0.0     0.0   \n",
       "3          12.0     0.0  7.000000e+01    66.0     0.0    10.0     0.0     0.0   \n",
       "4       60874.0     NaN  1.368000e+03   458.0     0.0     0.0     0.0     0.0   \n",
       "...         ...     ...           ...     ...     ...     ...     ...     ...   \n",
       "59995  153002.0     NaN  6.640000e+02   186.0     0.0     0.0     0.0     0.0   \n",
       "59996    2286.0     NaN  2.130707e+09   224.0     0.0     0.0     0.0     0.0   \n",
       "59997     112.0     0.0  2.130706e+09    18.0     0.0     0.0     0.0     0.0   \n",
       "59998   80292.0     NaN  2.130706e+09   494.0     0.0     0.0     0.0     0.0   \n",
       "59999   40222.0     NaN  6.980000e+02   628.0     0.0     0.0     0.0     0.0   \n",
       "\n",
       "       ag_002  ag_003  ...  bc_000  bd_000  be_000  bf_000     bg_000  \\\n",
       "0         0.0     0.0  ...     0.0    10.0   108.0    50.0  2551696.0   \n",
       "1         0.0     0.0  ...    86.0   454.0   364.0   350.0  1393352.0   \n",
       "2         0.0     0.0  ...   128.0   202.0   576.0     4.0  1234132.0   \n",
       "3         0.0   318.0  ...     2.0    12.0     0.0     0.0     2668.0   \n",
       "4         0.0     0.0  ...   448.0   556.0   642.0     2.0  1974038.0   \n",
       "...       ...     ...  ...     ...     ...     ...     ...        ...   \n",
       "59995     0.0  2564.0  ...  1304.0  1206.0  1606.0    14.0  4880368.0   \n",
       "59996     0.0     0.0  ...     2.0    14.0   716.0     0.0    56982.0   \n",
       "59997     0.0     0.0  ...     6.0    10.0     2.0     0.0     8784.0   \n",
       "59998     0.0     0.0  ...    64.0    78.0   424.0    70.0  2634394.0   \n",
       "59999     0.0     0.0  ...    84.0   152.0    98.0     2.0  1235850.0   \n",
       "\n",
       "         bh_000     bi_000     bj_000    bk_000    bl_000  \n",
       "0       97518.0   947550.0   799478.0  330760.0  353400.0  \n",
       "1       49028.0   688314.0   392208.0  341420.0  359780.0  \n",
       "2       28804.0   160176.0   139730.0  137160.0  130640.0  \n",
       "3         184.0     7632.0     3090.0       NaN       NaN  \n",
       "4       86454.0   653692.0   399410.0  306780.0  282560.0  \n",
       "...         ...        ...        ...       ...       ...  \n",
       "59995  129760.0  1244058.0   678792.0  263320.0  221620.0  \n",
       "59996    1900.0    14404.0     9572.0       NaN       NaN  \n",
       "59997     480.0     7640.0     6224.0       NaN       NaN  \n",
       "59998  105862.0   580084.0  1032454.0  302700.0  332300.0  \n",
       "59999   37110.0   310028.0   260378.0  191320.0  268280.0  \n",
       "\n",
       "[60000 rows x 73 columns]"
      ]
     },
     "execution_count": 178,
     "metadata": {},
     "output_type": "execute_result"
    }
   ],
   "source": [
    "train_df_1__transformed"
   ]
  },
  {
   "cell_type": "code",
   "execution_count": 152,
   "metadata": {},
   "outputs": [
    {
     "data": {
      "text/plain": [
       "{'count': True,\n",
       " 'mean': False,\n",
       " 'std': False,\n",
       " 'min': True,\n",
       " '25%': True,\n",
       " '50%': True,\n",
       " '75%': True,\n",
       " 'max': True}"
      ]
     },
     "execution_count": 152,
     "metadata": {},
     "output_type": "execute_result"
    }
   ],
   "source": [
    "train_df_2_transformed = process(train_df_2)\n",
    "train_df_2__transformed = process(train_df_2_)\n",
    "\n",
    "describe_check(train_df_2_transformed,train_df_2__transformed)"
   ]
  },
  {
   "cell_type": "code",
   "execution_count": 153,
   "metadata": {},
   "outputs": [
    {
     "data": {
      "text/plain": [
       "{'count': True,\n",
       " 'mean': True,\n",
       " 'std': False,\n",
       " 'min': True,\n",
       " '25%': True,\n",
       " '50%': True,\n",
       " '75%': True,\n",
       " 'max': True}"
      ]
     },
     "execution_count": 153,
     "metadata": {},
     "output_type": "execute_result"
    }
   ],
   "source": [
    "train_df_3_transformed = process(train_df_3)\n",
    "train_df_3__transformed = process(train_df_3_)\n",
    "\n",
    "describe_check(train_df_3_transformed,train_df_3__transformed)"
   ]
  },
  {
   "cell_type": "code",
   "execution_count": 154,
   "metadata": {},
   "outputs": [
    {
     "data": {
      "text/plain": [
       "{'count': True,\n",
       " 'mean': True,\n",
       " 'std': False,\n",
       " 'min': True,\n",
       " '25%': True,\n",
       " '50%': True,\n",
       " '75%': True,\n",
       " 'max': True}"
      ]
     },
     "execution_count": 154,
     "metadata": {},
     "output_type": "execute_result"
    }
   ],
   "source": [
    "test_df_1_transformed = process(test_df_1)\n",
    "test_df_1__transformed = process(test_df_1_)\n",
    "\n",
    "describe_check(test_df_1_transformed,test_df_1__transformed)"
   ]
  },
  {
   "cell_type": "code",
   "execution_count": 155,
   "metadata": {},
   "outputs": [
    {
     "data": {
      "text/plain": [
       "{'count': True,\n",
       " 'mean': False,\n",
       " 'std': False,\n",
       " 'min': True,\n",
       " '25%': True,\n",
       " '50%': True,\n",
       " '75%': True,\n",
       " 'max': True}"
      ]
     },
     "execution_count": 155,
     "metadata": {},
     "output_type": "execute_result"
    }
   ],
   "source": [
    "test_df_2_transformed = process(test_df_2)\n",
    "test_df_2__transformed = process(test_df_2_)\n",
    "\n",
    "describe_check(test_df_2_transformed,test_df_2__transformed)"
   ]
  },
  {
   "cell_type": "code",
   "execution_count": 156,
   "metadata": {},
   "outputs": [
    {
     "data": {
      "text/plain": [
       "{'count': True,\n",
       " 'mean': False,\n",
       " 'std': False,\n",
       " 'min': True,\n",
       " '25%': True,\n",
       " '50%': True,\n",
       " '75%': True,\n",
       " 'max': True}"
      ]
     },
     "execution_count": 156,
     "metadata": {},
     "output_type": "execute_result"
    }
   ],
   "source": [
    "test_df_3_transformed = process(test_df_3)\n",
    "test_df_3__transformed = process(test_df_3_)\n",
    "\n",
    "describe_check(test_df_3_transformed,test_df_3__transformed)"
   ]
  },
  {
   "cell_type": "code",
   "execution_count": 162,
   "metadata": {},
   "outputs": [],
   "source": [
    "checker = train_df_1_transformed.describe().T['std'] != train_df_1__transformed.describe().T['std']"
   ]
  },
  {
   "cell_type": "markdown",
   "metadata": {},
   "source": []
  },
  {
   "cell_type": "code",
   "execution_count": 174,
   "metadata": {},
   "outputs": [
    {
     "data": {
      "text/plain": [
       "af_000    False\n",
       "ag_001    False\n",
       "ai_000    False\n",
       "aj_000    False\n",
       "ak_000    False\n",
       "al_000    False\n",
       "an_000    False\n",
       "as_000    False\n",
       "at_000    False\n",
       "ay_000    False\n",
       "ay_001    False\n",
       "ay_002    False\n",
       "ay_003    False\n",
       "ay_006    False\n",
       "ay_007    False\n",
       "ay_009    False\n",
       "az_000    False\n",
       "az_004    False\n",
       "az_009    False\n",
       "ba_000    False\n",
       "ba_002    False\n",
       "bb_000    False\n",
       "bc_000    False\n",
       "bi_000    False\n",
       "Name: std, dtype: bool"
      ]
     },
     "execution_count": 174,
     "metadata": {},
     "output_type": "execute_result"
    }
   ],
   "source": [
    "train_df_1_transformed.describe().T['std'][checker]"
   ]
  },
  {
   "cell_type": "code",
   "execution_count": 164,
   "metadata": {},
   "outputs": [
    {
     "data": {
      "text/plain": [
       "af_000    2.097926e+02\n",
       "ag_001    3.420053e+04\n",
       "ai_000    1.632778e+05\n",
       "aj_000    5.035971e+04\n",
       "ak_000    7.583162e+04\n",
       "al_000    5.394658e+05\n",
       "an_000    7.790350e+06\n",
       "as_000    1.101004e+04\n",
       "at_000    1.196159e+05\n",
       "ay_000    4.544963e+05\n",
       "ay_001    5.352707e+05\n",
       "ay_002    4.283370e+05\n",
       "ay_003    2.064679e+05\n",
       "ay_006    3.278941e+06\n",
       "ay_007    5.106177e+06\n",
       "ay_009    9.796080e+04\n",
       "az_000    7.363676e+04\n",
       "az_004    4.184087e+06\n",
       "az_009    3.256570e+03\n",
       "ba_000    3.777091e+06\n",
       "ba_002    1.196083e+06\n",
       "bb_000    1.088674e+07\n",
       "bc_000    4.045937e+03\n",
       "bi_000    1.485185e+06\n",
       "Name: std, dtype: float64"
      ]
     },
     "execution_count": 164,
     "metadata": {},
     "output_type": "execute_result"
    }
   ],
   "source": [
    "train_df_1__transformed.describe().T['std'][checker]"
   ]
  },
  {
   "cell_type": "code",
   "execution_count": 165,
   "metadata": {},
   "outputs": [
    {
     "data": {
      "text/plain": [
       "209.7926"
      ]
     },
     "execution_count": 165,
     "metadata": {},
     "output_type": "execute_result"
    }
   ],
   "source": [
    "2.097926e+02"
   ]
  },
  {
   "cell_type": "code",
   "execution_count": 166,
   "metadata": {},
   "outputs": [
    {
     "data": {
      "text/plain": [
       "209.7926"
      ]
     },
     "execution_count": 166,
     "metadata": {},
     "output_type": "execute_result"
    }
   ],
   "source": [
    "2.097926e+02"
   ]
  },
  {
   "cell_type": "code",
   "execution_count": 167,
   "metadata": {},
   "outputs": [],
   "source": [
    "checker_mean = train_df_2_transformed.describe().T['mean'] != train_df_2__transformed.describe().T['mean']"
   ]
  },
  {
   "cell_type": "code",
   "execution_count": 168,
   "metadata": {},
   "outputs": [
    {
     "data": {
      "text/plain": [
       "ci_000    3.481204e+06\n",
       "cj_000    1.028419e+05\n",
       "ck_000    7.143427e+05\n",
       "Name: mean, dtype: float64"
      ]
     },
     "execution_count": 168,
     "metadata": {},
     "output_type": "execute_result"
    }
   ],
   "source": [
    "train_df_2_transformed.describe().T['mean'][checker_mean]"
   ]
  },
  {
   "cell_type": "code",
   "execution_count": 169,
   "metadata": {},
   "outputs": [
    {
     "data": {
      "text/plain": [
       "ci_000    3.481204e+06\n",
       "cj_000    1.028419e+05\n",
       "ck_000    7.143427e+05\n",
       "Name: mean, dtype: float64"
      ]
     },
     "execution_count": 169,
     "metadata": {},
     "output_type": "execute_result"
    }
   ],
   "source": [
    "train_df_2__transformed.describe().T['mean'][checker_mean]"
   ]
  },
  {
   "cell_type": "code",
   "execution_count": 170,
   "metadata": {},
   "outputs": [
    {
     "data": {
      "text/plain": [
       "714342.7"
      ]
     },
     "execution_count": 170,
     "metadata": {},
     "output_type": "execute_result"
    }
   ],
   "source": [
    "7.143427e+05"
   ]
  },
  {
   "cell_type": "code",
   "execution_count": 171,
   "metadata": {},
   "outputs": [
    {
     "data": {
      "text/plain": [
       "714342.7"
      ]
     },
     "execution_count": 171,
     "metadata": {},
     "output_type": "execute_result"
    }
   ],
   "source": [
    "7.143427e+05\n"
   ]
  },
  {
   "cell_type": "code",
   "execution_count": null,
   "metadata": {},
   "outputs": [],
   "source": [
    "checker_std = train_df_2_transformed.describe().T['std'] != train_df_2__transformed.describe().T['std']"
   ]
  },
  {
   "cell_type": "code",
   "execution_count": null,
   "metadata": {},
   "outputs": [],
   "source": [
    "train_df_2_transformed.describe().T['std'][checker_std]"
   ]
  },
  {
   "cell_type": "code",
   "execution_count": null,
   "metadata": {},
   "outputs": [],
   "source": [
    "train_df_2__transformed.describe().T['std'][checker_std]"
   ]
  },
  {
   "cell_type": "code",
   "execution_count": null,
   "metadata": {},
   "outputs": [],
   "source": [
    "8.355997e+06\n"
   ]
  },
  {
   "cell_type": "code",
   "execution_count": null,
   "metadata": {},
   "outputs": [],
   "source": [
    "8.355997e+06\n"
   ]
  },
  {
   "cell_type": "code",
   "execution_count": null,
   "metadata": {},
   "outputs": [],
   "source": [
    "test_checker_mean = test_df_2_transformed.describe().T['mean'] != test_df_2__transformed.describe().T['mean']"
   ]
  },
  {
   "cell_type": "code",
   "execution_count": null,
   "metadata": {},
   "outputs": [],
   "source": [
    "test_df_2_transformed.describe().T['mean'][test_checker_mean]"
   ]
  },
  {
   "cell_type": "code",
   "execution_count": null,
   "metadata": {},
   "outputs": [],
   "source": [
    "test_df_2__transformed.describe().T['mean'][test_checker_mean]"
   ]
  },
  {
   "cell_type": "code",
   "execution_count": null,
   "metadata": {},
   "outputs": [],
   "source": [
    "3.656347e+06"
   ]
  },
  {
   "cell_type": "code",
   "execution_count": null,
   "metadata": {},
   "outputs": [],
   "source": [
    "3.656347e+06"
   ]
  },
  {
   "cell_type": "code",
   "execution_count": null,
   "metadata": {},
   "outputs": [],
   "source": [
    "test_checker_std = test_df_2_transformed.describe().T['std'] != test_df_2__transformed.describe().T['std']"
   ]
  },
  {
   "cell_type": "code",
   "execution_count": null,
   "metadata": {},
   "outputs": [],
   "source": [
    "test_df_2_transformed.describe().T['std'][test_checker_std]"
   ]
  },
  {
   "cell_type": "code",
   "execution_count": null,
   "metadata": {},
   "outputs": [],
   "source": [
    "test_df_2__transformed.describe().T['std'][test_checker_std]"
   ]
  },
  {
   "cell_type": "code",
   "execution_count": null,
   "metadata": {},
   "outputs": [],
   "source": [
    "8.775294e+06\n"
   ]
  },
  {
   "cell_type": "code",
   "execution_count": null,
   "metadata": {},
   "outputs": [],
   "source": [
    "8.775294e+06\n"
   ]
  },
  {
   "cell_type": "code",
   "execution_count": 142,
   "metadata": {},
   "outputs": [
    {
     "data": {
      "text/plain": [
       "'logs\\\\LOAD*'"
      ]
     },
     "execution_count": 142,
     "metadata": {},
     "output_type": "execute_result"
    }
   ],
   "source": [
    "directory_path = \"logs\"\n",
    "pattern = os.path.join(directory_path, \"LOAD*\")\n",
    "pattern"
   ]
  },
  {
   "cell_type": "code",
   "execution_count": 143,
   "metadata": {},
   "outputs": [
    {
     "data": {
      "text/plain": [
       "['logs\\\\LOAD_20240214-124335-267000',\n",
       " 'logs\\\\LOAD_20240214-124600-189000',\n",
       " 'logs\\\\LOAD_20240214-124640-477000',\n",
       " 'logs\\\\LOAD_20240214-131615-512000',\n",
       " 'logs\\\\LOAD_20240214-131654-888000',\n",
       " 'logs\\\\LOAD_20240214-132218-146000',\n",
       " 'logs\\\\LOAD_20240214-132637-497000',\n",
       " 'logs\\\\LOAD_20240214-134512-002000',\n",
       " 'logs\\\\LOAD_20240214-134550-974000',\n",
       " 'logs\\\\LOAD_20240214-140204-085000']"
      ]
     },
     "execution_count": 143,
     "metadata": {},
     "output_type": "execute_result"
    }
   ],
   "source": [
    "# Use glob to get a list of file paths matching the pattern\n",
    "files_to_remove = glob.glob(pattern)\n",
    "files_to_remove"
   ]
  },
  {
   "cell_type": "code",
   "execution_count": 147,
   "metadata": {},
   "outputs": [
    {
     "name": "stdout",
     "output_type": "stream",
     "text": [
      "Removed: logs\\LOAD_20240214-124335-267000\n",
      "Removed: logs\\LOAD_20240214-124600-189000\n",
      "Removed: logs\\LOAD_20240214-124640-477000\n",
      "Removed: logs\\LOAD_20240214-131615-512000\n",
      "Removed: logs\\LOAD_20240214-131654-888000\n",
      "Removed: logs\\LOAD_20240214-132218-146000\n",
      "Removed: logs\\LOAD_20240214-132637-497000\n",
      "Removed: logs\\LOAD_20240214-134512-002000\n",
      "Removed: logs\\LOAD_20240214-134550-974000\n",
      "Removed: logs\\LOAD_20240214-140204-085000\n",
      "Files removed successfully.\n"
     ]
    }
   ],
   "source": [
    "# Iterate through the files and remove them\n",
    "for file_path in files_to_remove:\n",
    "    shutil.rmtree(file_path)\n",
    "    print(f\"Removed: {file_path}\")\n",
    "\n",
    "print(\"Files removed successfully.\")"
   ]
  },
  {
   "cell_type": "code",
   "execution_count": 145,
   "metadata": {},
   "outputs": [
    {
     "data": {
      "text/plain": [
       "'f:\\\\iNeuron\\\\Projects\\\\scania_failures_2'"
      ]
     },
     "execution_count": 145,
     "metadata": {},
     "output_type": "execute_result"
    }
   ],
   "source": [
    "pwd"
   ]
  },
  {
   "cell_type": "code",
   "execution_count": null,
   "metadata": {},
   "outputs": [],
   "source": []
  }
 ],
 "metadata": {
  "kernelspec": {
   "display_name": "Python 3",
   "language": "python",
   "name": "python3"
  },
  "language_info": {
   "codemirror_mode": {
    "name": "ipython",
    "version": 3
   },
   "file_extension": ".py",
   "mimetype": "text/x-python",
   "name": "python",
   "nbconvert_exporter": "python",
   "pygments_lexer": "ipython3",
   "version": "3.11.5"
  }
 },
 "nbformat": 4,
 "nbformat_minor": 2
}
