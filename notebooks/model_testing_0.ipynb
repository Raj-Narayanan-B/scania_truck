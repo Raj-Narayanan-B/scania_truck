{
 "cells": [
  {
   "cell_type": "code",
   "execution_count": 1,
   "metadata": {},
   "outputs": [],
   "source": [
    "import pandas as pd\n",
    "import numpy as np\n",
    "from pathlib import Path\n",
    "import os\n",
    "import string\n",
    "import warnings\n",
    "import matplotlib.pyplot as plt\n",
    "import seaborn as sns\n",
    "warnings.filterwarnings('ignore')\n",
    "import yaml\n",
    "# import ruamel.yaml as ryaml\n",
    "import json\n",
    "# import ast\n",
    "\n",
    "# from sklearn.linear_model import LogisticRegression\n",
    "# from sklearn.svm import SVC\n",
    "from sklearn.model_selection import train_test_split\n",
    "from sklearn.linear_model import LogisticRegression, SGDClassifier\n",
    "from sklearn.ensemble import (RandomForestClassifier, AdaBoostClassifier, \n",
    "                              GradientBoostingClassifier, BaggingClassifier, ExtraTreesClassifier, \n",
    "                              HistGradientBoostingClassifier, StackingClassifier, VotingClassifier)\n",
    "from sklearn.tree import DecisionTreeClassifier\n",
    "from xgboost import XGBClassifier\n",
    "# from catboost import CatBoostClassifier\n",
    "from sklearn.neighbors import KNeighborsClassifier\n",
    "from sklearn.neural_network import MLPClassifier\n",
    "\n",
    "from sklearn.metrics import (balanced_accuracy_score, f1_score,\n",
    "                             accuracy_score, confusion_matrix)\n",
    "\n",
    "from sklearn.model_selection import train_test_split, StratifiedKFold\n",
    "\n",
    "from src.constants import *\n",
    "from src.utils import load_yaml, parameter_tuning, stage_2_processing_function,eval_metrics\n",
    "# from src.config.configuration_manager import ConfigurationManager\n",
    "# from src.entity.entity_config import DataSplitConf\n",
    "# from src.components.stage_5_model_tuning_and_tracking\n",
    "os.chdir('f:\\\\iNeuron\\\\Projects\\\\Scania_Truck_Failures')"
   ]
  },
  {
   "cell_type": "code",
   "execution_count": 2,
   "metadata": {},
   "outputs": [
    {
     "name": "stdout",
     "output_type": "stream",
     "text": [
      "Shape:  (10000, 171)\n",
      "NA:  [   0 7782  595 2475  443  124  116  107  790  115   99  489  125  127\n",
      " 3729 4459 6538 7287 7695 7938 8086 8171  128   39  126  563   81  785\n",
      "   65 1601 1658 2309  718 1719]\n",
      "Target Value_Counts:  class\n",
      "0    9805\n",
      "1     195\n",
      "Name: count, dtype: int64\n",
      "\n",
      "Transformed_train_df.shape: (2934, 171),\n",
      "Transformed_test_df.shape: (976, 171)\n",
      "\n",
      "x_train.shape: (2934, 170),\n",
      "y_train.shape: (2934,),\n",
      "x_test.shape: (976, 170),\n",
      "y_test.shape: (976,)\n",
      "\n",
      "NA in train_data after preprocessing: [0]\n",
      "NA in test_data after preprocessing: [0]\n",
      "\n",
      "Value_counts in train_data after preprocessing: class\n",
      "0    1467\n",
      "1    1467\n",
      "Name: count, dtype: int64\n",
      "Value_counts in test_data after preprocessing: class\n",
      "0    488\n",
      "1    488\n",
      "Name: count, dtype: int64\n"
     ]
    }
   ],
   "source": [
    "df = pd.read_csv(\"F:\\iNeuron\\Projects\\scania_failures_2\\\\artifacts\\data\\processed\\stage_1_processing\\preprocessed_train_data.csv\").iloc[:10000:]\n",
    "print(\"Shape: \",df.shape)\n",
    "print(\"NA: \", df.isna().sum().unique())\n",
    "print(\"Target Value_Counts: \", df['class'].value_counts())\n",
    "# os.remove(\"F:\\iNeuron\\Projects\\scania_failures_2\\\\artifacts\\preprocessor\\preprocessor.joblib\")\n",
    "# train,test = train_test_split(df, test_size = 0.25, random_state=8)\n",
    "transformed_train_df = pd.read_csv(\"F:\\iNeuron\\Projects\\scania_failures_2\\\\artifacts\\data\\processed\\stage_2_processing\\processed_train_data.csv\")\n",
    "transformed_test_df = pd.read_csv(\"F:\\iNeuron\\Projects\\scania_failures_2\\\\artifacts\\data\\processed\\stage_2_processing\\processed_test_data.csv\")\n",
    "print(f\"\\nTransformed_train_df.shape: {transformed_train_df.shape},\\nTransformed_test_df.shape: {transformed_test_df.shape}\")\n",
    "x_train, y_train = transformed_train_df.drop(columns='class'), transformed_train_df['class']\n",
    "x_test, y_test = transformed_test_df.drop(columns = 'class'), transformed_test_df['class']\n",
    "print(f\"\\nx_train.shape: {x_train.shape},\\ny_train.shape: {y_train.shape},\\nx_test.shape: {x_test.shape},\\ny_test.shape: {y_test.shape}\")\n",
    "print(f\"\\nNA in train_data after preprocessing: {x_train.isna().sum().unique()}\")\n",
    "print(f\"NA in test_data after preprocessing: {x_test.isna().sum().unique()}\")\n",
    "print(f\"\\nValue_counts in train_data after preprocessing: {y_train.value_counts()}\")\n",
    "print(f\"Value_counts in test_data after preprocessing: {y_test.value_counts()}\")"
   ]
  },
  {
   "cell_type": "code",
   "execution_count": 3,
   "metadata": {},
   "outputs": [],
   "source": [
    "grad_boost_params = {\"criterion\": \"squared_error\",\n",
    "        \"loss\": \"exponential\",\n",
    "        'max_features': 'sqrt',\n",
    "        'n_estimators': 103}\n",
    "\n",
    "log_reg_params = {'penalty': 'l2'}\n",
    "\n",
    "xgb_params = {'booster': 'gbtree',\n",
    "        'learning_rate': 2.810313927552631,\n",
    "        'n_estimators': 658,\n",
    "        'tree_method': 'approx'}\n",
    "\n",
    "grd_boost_model = GradientBoostingClassifier(**grad_boost_params)\n",
    "log_reg_model = LogisticRegression(**log_reg_params)\n",
    "xgb_model = XGBClassifier(**xgb_params)\n",
    "estimators = [(\"grd_boost\",grd_boost_model),\n",
    "              (\"log_reg\",log_reg_model),\n",
    "              (\"xgb\", xgb_model)]\n",
    "\n",
    "final_estimator = XGBClassifier()\n",
    "stacked_classifer = StackingClassifier(estimators=estimators,\n",
    "                                       final_estimator=final_estimator,\n",
    "                                       cv=5,\n",
    "                                       passthrough = True)\n",
    "voting_classifier = VotingClassifier(estimators = estimators,\n",
    "                                                    voting = \"hard\",\n",
    "                                                    weights = None,\n",
    "                                                    n_jobs = -1,\n",
    "                                                    verbose = True)"
   ]
  },
  {
   "cell_type": "code",
   "execution_count": 35,
   "metadata": {},
   "outputs": [
    {
     "name": "stdout",
     "output_type": "stream",
     "text": [
      "grd_boost\n",
      "log_reg\n",
      "xgb\n"
     ]
    }
   ],
   "source": [
    "for i in range(len(estimators)):\n",
    "    print(estimators[i][0])"
   ]
  },
  {
   "cell_type": "code",
   "execution_count": 36,
   "metadata": {},
   "outputs": [
    {
     "name": "stdout",
     "output_type": "stream",
     "text": [
      "['grd_boost', 'log_reg', 'xgb']\n"
     ]
    }
   ],
   "source": [
    "print([estimators[i][0] for i in range(len(estimators))])"
   ]
  },
  {
   "cell_type": "code",
   "execution_count": 22,
   "metadata": {},
   "outputs": [],
   "source": [
    "from yaml import safe_dump\n",
    "yaml.dump(data = stacked_classifer.get_params(),\n",
    "                  stream = open('F:\\iNeuron\\Projects\\scania_failures_2\\sample.yaml', 'w'),\n",
    "                  indent = 4)"
   ]
  },
  {
   "cell_type": "code",
   "execution_count": 27,
   "metadata": {},
   "outputs": [
    {
     "data": {
      "text/plain": [
       "{'cv': 5,\n",
       " 'estimators': [('grd_boost',\n",
       "   GradientBoostingClassifier(criterion='squared_error', loss='exponential',\n",
       "                              max_features='sqrt', n_estimators=103)),\n",
       "  ('log_reg', LogisticRegression()),\n",
       "  ('xgb',\n",
       "   XGBClassifier(base_score=None, booster='gbtree', callbacks=None,\n",
       "                 colsample_bylevel=None, colsample_bynode=None,\n",
       "                 colsample_bytree=None, device=None, early_stopping_rounds=None,\n",
       "                 enable_categorical=False, eval_metric=None, feature_types=None,\n",
       "                 gamma=None, grow_policy=None, importance_type=None,\n",
       "                 interaction_constraints=None, learning_rate=2.810313927552631,\n",
       "                 max_bin=None, max_cat_threshold=None, max_cat_to_onehot=None,\n",
       "                 max_delta_step=None, max_depth=None, max_leaves=None,\n",
       "                 min_child_weight=None, missing=nan, monotone_constraints=None,\n",
       "                 multi_strategy=None, n_estimators=658, n_jobs=None,\n",
       "                 num_parallel_tree=None, random_state=None, ...))],\n",
       " 'final_estimator': XGBClassifier(base_score=None, booster=None, callbacks=None,\n",
       "               colsample_bylevel=None, colsample_bynode=None,\n",
       "               colsample_bytree=None, device=None, early_stopping_rounds=None,\n",
       "               enable_categorical=False, eval_metric=None, feature_types=None,\n",
       "               gamma=None, grow_policy=None, importance_type=None,\n",
       "               interaction_constraints=None, learning_rate=None, max_bin=None,\n",
       "               max_cat_threshold=None, max_cat_to_onehot=None,\n",
       "               max_delta_step=None, max_depth=None, max_leaves=None,\n",
       "               min_child_weight=None, missing=nan, monotone_constraints=None,\n",
       "               multi_strategy=None, n_estimators=None, n_jobs=None,\n",
       "               num_parallel_tree=None, random_state=None, ...),\n",
       " 'final_estimator__base_score': None,\n",
       " 'final_estimator__booster': None,\n",
       " 'final_estimator__callbacks': None,\n",
       " 'final_estimator__colsample_bylevel': None,\n",
       " 'final_estimator__colsample_bynode': None,\n",
       " 'final_estimator__colsample_bytree': None,\n",
       " 'final_estimator__device': None,\n",
       " 'final_estimator__early_stopping_rounds': None,\n",
       " 'final_estimator__enable_categorical': False,\n",
       " 'final_estimator__eval_metric': None,\n",
       " 'final_estimator__feature_types': None,\n",
       " 'final_estimator__gamma': None,\n",
       " 'final_estimator__grow_policy': None,\n",
       " 'final_estimator__importance_type': None,\n",
       " 'final_estimator__interaction_constraints': None,\n",
       " 'final_estimator__learning_rate': None,\n",
       " 'final_estimator__max_bin': None,\n",
       " 'final_estimator__max_cat_threshold': None,\n",
       " 'final_estimator__max_cat_to_onehot': None,\n",
       " 'final_estimator__max_delta_step': None,\n",
       " 'final_estimator__max_depth': None,\n",
       " 'final_estimator__max_leaves': None,\n",
       " 'final_estimator__min_child_weight': None,\n",
       " 'final_estimator__missing': nan,\n",
       " 'final_estimator__monotone_constraints': None,\n",
       " 'final_estimator__multi_strategy': None,\n",
       " 'final_estimator__n_estimators': None,\n",
       " 'final_estimator__n_jobs': None,\n",
       " 'final_estimator__num_parallel_tree': None,\n",
       " 'final_estimator__objective': 'binary:logistic',\n",
       " 'final_estimator__random_state': None,\n",
       " 'final_estimator__reg_alpha': None,\n",
       " 'final_estimator__reg_lambda': None,\n",
       " 'final_estimator__sampling_method': None,\n",
       " 'final_estimator__scale_pos_weight': None,\n",
       " 'final_estimator__subsample': None,\n",
       " 'final_estimator__tree_method': None,\n",
       " 'final_estimator__validate_parameters': None,\n",
       " 'final_estimator__verbosity': None,\n",
       " 'grd_boost': GradientBoostingClassifier(criterion='squared_error', loss='exponential',\n",
       "                            max_features='sqrt', n_estimators=103),\n",
       " 'grd_boost__ccp_alpha': 0.0,\n",
       " 'grd_boost__criterion': 'squared_error',\n",
       " 'grd_boost__init': None,\n",
       " 'grd_boost__learning_rate': 0.1,\n",
       " 'grd_boost__loss': 'exponential',\n",
       " 'grd_boost__max_depth': 3,\n",
       " 'grd_boost__max_features': 'sqrt',\n",
       " 'grd_boost__max_leaf_nodes': None,\n",
       " 'grd_boost__min_impurity_decrease': 0.0,\n",
       " 'grd_boost__min_samples_leaf': 1,\n",
       " 'grd_boost__min_samples_split': 2,\n",
       " 'grd_boost__min_weight_fraction_leaf': 0.0,\n",
       " 'grd_boost__n_estimators': 103,\n",
       " 'grd_boost__n_iter_no_change': None,\n",
       " 'grd_boost__random_state': None,\n",
       " 'grd_boost__subsample': 1.0,\n",
       " 'grd_boost__tol': 0.0001,\n",
       " 'grd_boost__validation_fraction': 0.1,\n",
       " 'grd_boost__verbose': 0,\n",
       " 'grd_boost__warm_start': False,\n",
       " 'log_reg': LogisticRegression(),\n",
       " 'log_reg__C': 1.0,\n",
       " 'log_reg__class_weight': None,\n",
       " 'log_reg__dual': False,\n",
       " 'log_reg__fit_intercept': True,\n",
       " 'log_reg__intercept_scaling': 1,\n",
       " 'log_reg__l1_ratio': None,\n",
       " 'log_reg__max_iter': 100,\n",
       " 'log_reg__multi_class': 'auto',\n",
       " 'log_reg__n_jobs': None,\n",
       " 'log_reg__penalty': 'l2',\n",
       " 'log_reg__random_state': None,\n",
       " 'log_reg__solver': 'lbfgs',\n",
       " 'log_reg__tol': 0.0001,\n",
       " 'log_reg__verbose': 0,\n",
       " 'log_reg__warm_start': False,\n",
       " 'n_jobs': None,\n",
       " 'passthrough': True,\n",
       " 'stack_method': 'auto',\n",
       " 'verbose': 0,\n",
       " 'xgb': XGBClassifier(base_score=None, booster='gbtree', callbacks=None,\n",
       "               colsample_bylevel=None, colsample_bynode=None,\n",
       "               colsample_bytree=None, device=None, early_stopping_rounds=None,\n",
       "               enable_categorical=False, eval_metric=None, feature_types=None,\n",
       "               gamma=None, grow_policy=None, importance_type=None,\n",
       "               interaction_constraints=None, learning_rate=2.810313927552631,\n",
       "               max_bin=None, max_cat_threshold=None, max_cat_to_onehot=None,\n",
       "               max_delta_step=None, max_depth=None, max_leaves=None,\n",
       "               min_child_weight=None, missing=nan, monotone_constraints=None,\n",
       "               multi_strategy=None, n_estimators=658, n_jobs=None,\n",
       "               num_parallel_tree=None, random_state=None, ...),\n",
       " 'xgb__base_score': None,\n",
       " 'xgb__booster': 'gbtree',\n",
       " 'xgb__callbacks': None,\n",
       " 'xgb__colsample_bylevel': None,\n",
       " 'xgb__colsample_bynode': None,\n",
       " 'xgb__colsample_bytree': None,\n",
       " 'xgb__device': None,\n",
       " 'xgb__early_stopping_rounds': None,\n",
       " 'xgb__enable_categorical': False,\n",
       " 'xgb__eval_metric': None,\n",
       " 'xgb__feature_types': None,\n",
       " 'xgb__gamma': None,\n",
       " 'xgb__grow_policy': None,\n",
       " 'xgb__importance_type': None,\n",
       " 'xgb__interaction_constraints': None,\n",
       " 'xgb__learning_rate': 2.810313927552631,\n",
       " 'xgb__max_bin': None,\n",
       " 'xgb__max_cat_threshold': None,\n",
       " 'xgb__max_cat_to_onehot': None,\n",
       " 'xgb__max_delta_step': None,\n",
       " 'xgb__max_depth': None,\n",
       " 'xgb__max_leaves': None,\n",
       " 'xgb__min_child_weight': None,\n",
       " 'xgb__missing': nan,\n",
       " 'xgb__monotone_constraints': None,\n",
       " 'xgb__multi_strategy': None,\n",
       " 'xgb__n_estimators': 658,\n",
       " 'xgb__n_jobs': None,\n",
       " 'xgb__num_parallel_tree': None,\n",
       " 'xgb__objective': 'binary:logistic',\n",
       " 'xgb__random_state': None,\n",
       " 'xgb__reg_alpha': None,\n",
       " 'xgb__reg_lambda': None,\n",
       " 'xgb__sampling_method': None,\n",
       " 'xgb__scale_pos_weight': None,\n",
       " 'xgb__subsample': None,\n",
       " 'xgb__tree_method': 'approx',\n",
       " 'xgb__validate_parameters': None,\n",
       " 'xgb__verbosity': None}"
      ]
     },
     "execution_count": 27,
     "metadata": {},
     "output_type": "execute_result"
    }
   ],
   "source": [
    "with open('F:\\iNeuron\\Projects\\scania_failures_2\\sample.yaml') as yaml_file:\n",
    "    yaml_file = yaml.load(yaml_file, Loader = yaml.CLoader)\n",
    "yaml_file"
   ]
  },
  {
   "cell_type": "code",
   "execution_count": 20,
   "metadata": {},
   "outputs": [
    {
     "data": {
      "text/html": [
       "<style>#sk-container-id-4 {color: black;}#sk-container-id-4 pre{padding: 0;}#sk-container-id-4 div.sk-toggleable {background-color: white;}#sk-container-id-4 label.sk-toggleable__label {cursor: pointer;display: block;width: 100%;margin-bottom: 0;padding: 0.3em;box-sizing: border-box;text-align: center;}#sk-container-id-4 label.sk-toggleable__label-arrow:before {content: \"▸\";float: left;margin-right: 0.25em;color: #696969;}#sk-container-id-4 label.sk-toggleable__label-arrow:hover:before {color: black;}#sk-container-id-4 div.sk-estimator:hover label.sk-toggleable__label-arrow:before {color: black;}#sk-container-id-4 div.sk-toggleable__content {max-height: 0;max-width: 0;overflow: hidden;text-align: left;background-color: #f0f8ff;}#sk-container-id-4 div.sk-toggleable__content pre {margin: 0.2em;color: black;border-radius: 0.25em;background-color: #f0f8ff;}#sk-container-id-4 input.sk-toggleable__control:checked~div.sk-toggleable__content {max-height: 200px;max-width: 100%;overflow: auto;}#sk-container-id-4 input.sk-toggleable__control:checked~label.sk-toggleable__label-arrow:before {content: \"▾\";}#sk-container-id-4 div.sk-estimator input.sk-toggleable__control:checked~label.sk-toggleable__label {background-color: #d4ebff;}#sk-container-id-4 div.sk-label input.sk-toggleable__control:checked~label.sk-toggleable__label {background-color: #d4ebff;}#sk-container-id-4 input.sk-hidden--visually {border: 0;clip: rect(1px 1px 1px 1px);clip: rect(1px, 1px, 1px, 1px);height: 1px;margin: -1px;overflow: hidden;padding: 0;position: absolute;width: 1px;}#sk-container-id-4 div.sk-estimator {font-family: monospace;background-color: #f0f8ff;border: 1px dotted black;border-radius: 0.25em;box-sizing: border-box;margin-bottom: 0.5em;}#sk-container-id-4 div.sk-estimator:hover {background-color: #d4ebff;}#sk-container-id-4 div.sk-parallel-item::after {content: \"\";width: 100%;border-bottom: 1px solid gray;flex-grow: 1;}#sk-container-id-4 div.sk-label:hover label.sk-toggleable__label {background-color: #d4ebff;}#sk-container-id-4 div.sk-serial::before {content: \"\";position: absolute;border-left: 1px solid gray;box-sizing: border-box;top: 0;bottom: 0;left: 50%;z-index: 0;}#sk-container-id-4 div.sk-serial {display: flex;flex-direction: column;align-items: center;background-color: white;padding-right: 0.2em;padding-left: 0.2em;position: relative;}#sk-container-id-4 div.sk-item {position: relative;z-index: 1;}#sk-container-id-4 div.sk-parallel {display: flex;align-items: stretch;justify-content: center;background-color: white;position: relative;}#sk-container-id-4 div.sk-item::before, #sk-container-id-4 div.sk-parallel-item::before {content: \"\";position: absolute;border-left: 1px solid gray;box-sizing: border-box;top: 0;bottom: 0;left: 50%;z-index: -1;}#sk-container-id-4 div.sk-parallel-item {display: flex;flex-direction: column;z-index: 1;position: relative;background-color: white;}#sk-container-id-4 div.sk-parallel-item:first-child::after {align-self: flex-end;width: 50%;}#sk-container-id-4 div.sk-parallel-item:last-child::after {align-self: flex-start;width: 50%;}#sk-container-id-4 div.sk-parallel-item:only-child::after {width: 0;}#sk-container-id-4 div.sk-dashed-wrapped {border: 1px dashed gray;margin: 0 0.4em 0.5em 0.4em;box-sizing: border-box;padding-bottom: 0.4em;background-color: white;}#sk-container-id-4 div.sk-label label {font-family: monospace;font-weight: bold;display: inline-block;line-height: 1.2em;}#sk-container-id-4 div.sk-label-container {text-align: center;}#sk-container-id-4 div.sk-container {/* jupyter's `normalize.less` sets `[hidden] { display: none; }` but bootstrap.min.css set `[hidden] { display: none !important; }` so we also need the `!important` here to be able to override the default hidden behavior on the sphinx rendered scikit-learn.org. See: https://github.com/scikit-learn/scikit-learn/issues/21755 */display: inline-block !important;position: relative;}#sk-container-id-4 div.sk-text-repr-fallback {display: none;}</style><div id=\"sk-container-id-4\" class=\"sk-top-container\"><div class=\"sk-text-repr-fallback\"><pre>LogisticRegression()</pre><b>In a Jupyter environment, please rerun this cell to show the HTML representation or trust the notebook. <br />On GitHub, the HTML representation is unable to render, please try loading this page with nbviewer.org.</b></div><div class=\"sk-container\" hidden><div class=\"sk-item\"><div class=\"sk-estimator sk-toggleable\"><input class=\"sk-toggleable__control sk-hidden--visually\" id=\"sk-estimator-id-4\" type=\"checkbox\" checked><label for=\"sk-estimator-id-4\" class=\"sk-toggleable__label sk-toggleable__label-arrow\">LogisticRegression</label><div class=\"sk-toggleable__content\"><pre>LogisticRegression()</pre></div></div></div></div></div>"
      ],
      "text/plain": [
       "LogisticRegression()"
      ]
     },
     "execution_count": 20,
     "metadata": {},
     "output_type": "execute_result"
    }
   ],
   "source": [
    "yaml_file['estimators'][1][1]"
   ]
  },
  {
   "cell_type": "code",
   "execution_count": null,
   "metadata": {},
   "outputs": [],
   "source": [
    "b_estimators = dict(grd_boost = grd_boost_model,\n",
    "                    log_reg = log_reg_model,\n",
    "                    xgb =  xgb_model)\n",
    "estimators_ = list(zip(b_estimators.keys(),b_estimators.values()))\n",
    "for i in range(len(estimators_)):\n",
    "    estimators_[0][i] = str(estimators_[0][i])"
   ]
  },
  {
   "cell_type": "code",
   "execution_count": null,
   "metadata": {},
   "outputs": [],
   "source": [
    "b_estimators"
   ]
  },
  {
   "cell_type": "code",
   "execution_count": null,
   "metadata": {},
   "outputs": [],
   "source": [
    "estimators_[0]"
   ]
  },
  {
   "cell_type": "code",
   "execution_count": null,
   "metadata": {},
   "outputs": [],
   "source": [
    "keys, values = zip(*estimators_)"
   ]
  },
  {
   "cell_type": "code",
   "execution_count": null,
   "metadata": {},
   "outputs": [],
   "source": [
    "keys"
   ]
  },
  {
   "cell_type": "code",
   "execution_count": null,
   "metadata": {},
   "outputs": [],
   "source": [
    "sample = {}\n",
    "for i in range(len(keys)):\n",
    "    sample[keys[i]] = values[i]\n",
    "sample"
   ]
  },
  {
   "cell_type": "code",
   "execution_count": null,
   "metadata": {},
   "outputs": [],
   "source": [
    "stacked_classifer.fit(X = x_train, y = y_train)\n",
    "y_pred_ = stacked_classifer.predict(X = x_test)\n",
    "cost_ = eval_metrics(y_true = y_test, y_pred=y_pred_)\n",
    "print(cost_)"
   ]
  },
  {
   "cell_type": "code",
   "execution_count": null,
   "metadata": {},
   "outputs": [],
   "source": [
    "voting_classifier.fit(x_train, y_train)\n",
    "y_pred = voting_classifier.predict(x_test)\n",
    "cost = eval_metrics(y_true = y_test , y_pred = y_pred)\n",
    "cost"
   ]
  },
  {
   "cell_type": "code",
   "execution_count": null,
   "metadata": {},
   "outputs": [],
   "source": [
    "voting_classifier.get_params()['flatten_transform']"
   ]
  },
  {
   "cell_type": "code",
   "execution_count": null,
   "metadata": {},
   "outputs": [],
   "source": [
    "StackingClassifier()"
   ]
  },
  {
   "cell_type": "code",
   "execution_count": null,
   "metadata": {},
   "outputs": [],
   "source": [
    "key, value = zip(*stacked_classifer.get_params()['estimators'])"
   ]
  },
  {
   "cell_type": "code",
   "execution_count": null,
   "metadata": {},
   "outputs": [],
   "source": [
    "report = {}\n",
    "report['estimators'] = stacked_classifer.get_params()['estimators']\n",
    "report['final_estimator'] = stacked_classifer.get_params()['final_estimator']\n",
    "report\n"
   ]
  },
  {
   "cell_type": "code",
   "execution_count": null,
   "metadata": {},
   "outputs": [],
   "source": [
    "report_1 = {}\n",
    "report_1['stack_method'] = stacked_classifer.get_params()['stack_method']\n",
    "report_1['passthrough'] = stacked_classifer.get_params()['passthrough']\n",
    "report_1"
   ]
  },
  {
   "cell_type": "code",
   "execution_count": null,
   "metadata": {},
   "outputs": [],
   "source": [
    "for i in report_1.keys():\n",
    "    report[i] = report_1[i]"
   ]
  },
  {
   "cell_type": "code",
   "execution_count": null,
   "metadata": {},
   "outputs": [],
   "source": [
    "report.keys()"
   ]
  },
  {
   "cell_type": "code",
   "execution_count": null,
   "metadata": {},
   "outputs": [],
   "source": [
    "sc = StackingClassifier(**report)\n",
    "sc\n"
   ]
  },
  {
   "cell_type": "code",
   "execution_count": null,
   "metadata": {},
   "outputs": [],
   "source": [
    "sc.get_params()"
   ]
  },
  {
   "cell_type": "code",
   "execution_count": null,
   "metadata": {},
   "outputs": [],
   "source": [
    "key"
   ]
  },
  {
   "cell_type": "code",
   "execution_count": null,
   "metadata": {},
   "outputs": [],
   "source": [
    "value"
   ]
  },
  {
   "cell_type": "code",
   "execution_count": null,
   "metadata": {},
   "outputs": [],
   "source": [
    "{'Stacked_Classifier': {'Logistic_Regression': {'C': 1.0, 'class_weight': None, 'dual': False, 'fit_intercept': True, 'intercept_scaling': 1, 'l1_ratio': None, 'max_iter': 100, 'multi_class': \n",
    "'auto', 'n_jobs': None, 'penalty': 'l2', 'random_state': None, 'solver': 'saga', 'tol': 0.0001, 'verbose': 0, 'warm_start': False}, 'SGD_Classifier': {'alpha': 0.0001, 'average': False, 'class_weight': None, 'early_stopping': False, 'epsilon': 0.1, 'eta0': 0.0, 'fit_intercept': True, 'l1_ratio': \n",
    "0.15, 'learning_rate': 'optimal', 'loss': 'huber', 'max_iter': 1000, 'n_iter_no_change': 5, 'n_jobs': None, 'penalty': 'l2', 'power_t': 0.5, 'random_state': None, 'shuffle': True, 'tol': 0.001, 'validation_fraction': 0.1, 'verbose': 0, 'warm_start': False}, 'Decision_Tree_Classifier': {'ccp_alpha': 0.0, 'class_weight': None, 'criterion': 'log_loss', 'max_depth': None, 'max_features': None, 'max_leaf_nodes': None, 'min_impurity_decrease': 0.0, 'min_samples_leaf': 1, 'min_samples_split': 2, 'min_weight_fraction_leaf': 0.0, 'random_state': None, 'splitter': 'best'}, 'KNN_Classifier': {'algorithm': 'brute', 'leaf_size': 30, 'metric': 'minkowski', 'metric_params': None, 'n_jobs': None, 'n_neighbors': 11, 'p': 2, 'weights': 'uniform'}}}"
   ]
  },
  {
   "cell_type": "code",
   "execution_count": null,
   "metadata": {},
   "outputs": [],
   "source": []
  },
  {
   "cell_type": "code",
   "execution_count": null,
   "metadata": {},
   "outputs": [],
   "source": []
  },
  {
   "cell_type": "code",
   "execution_count": null,
   "metadata": {},
   "outputs": [],
   "source": []
  },
  {
   "cell_type": "code",
   "execution_count": null,
   "metadata": {},
   "outputs": [],
   "source": [
    "yaml_r = yaml.YAML(typ='rt')\n",
    "\n",
    "# Read data from the YAML file\n",
    "with open('params.yaml') as yaml_file:\n",
    "    params_config = yaml_r.load(yaml_file)\n",
    "\n",
    "model_name = \"Stacked_Classifier\"\n",
    "model_class = stacked_classifer"
   ]
  },
  {
   "cell_type": "code",
   "execution_count": null,
   "metadata": {},
   "outputs": [],
   "source": [
    "params_config"
   ]
  },
  {
   "cell_type": "code",
   "execution_count": null,
   "metadata": {},
   "outputs": [],
   "source": []
  },
  {
   "cell_type": "code",
   "execution_count": null,
   "metadata": {},
   "outputs": [],
   "source": [
    "# criterion='squared_error', \n",
    "# loss='exponential',\n",
    "# max_features='sqrt', \n",
    "# n_estimators=103\n",
    "\n",
    "grad_boost_params"
   ]
  },
  {
   "cell_type": "code",
   "execution_count": null,
   "metadata": {},
   "outputs": [],
   "source": [
    "model.get_params()['grd_boost'].get_params()"
   ]
  },
  {
   "cell_type": "code",
   "execution_count": null,
   "metadata": {},
   "outputs": [],
   "source": [
    "model.get_params()['passthrough']"
   ]
  },
  {
   "cell_type": "code",
   "execution_count": null,
   "metadata": {},
   "outputs": [],
   "source": [
    "model.get_params()"
   ]
  },
  {
   "cell_type": "code",
   "execution_count": null,
   "metadata": {},
   "outputs": [],
   "source": [
    "import optuna\n",
    "def optuna_objective(trial):\n",
    "        space_optuna = {}\n",
    "        for key,value in params_config['optuna'][model_name].items():\n",
    "            space_optuna[key] = eval(value)\n",
    "        model = model_class\n",
    "        model.set_params(**space_optuna)\n",
    "        model.fit(x_train, y_train)\n",
    "        y_pred = model.predict(x_test)\n",
    "        cost = eval_metrics(y_true = y_test , y_pred = y_pred)\n",
    "    \n",
    "        return cost\n",
    "tuner_report = {}\n",
    "find_param=optuna.create_study(direction = \"minimize\")\n",
    "find_param.optimize(optuna_objective,n_trials=1)\n",
    "\n",
    "tuner_report['Optuna'] = {'cost':find_param.best_value, 'params': find_param.best_params}\n",
    "print (f\"Optuna: {model_name} --- {tuner_report['Optuna']}\\n\\n\")"
   ]
  },
  {
   "cell_type": "code",
   "execution_count": null,
   "metadata": {},
   "outputs": [],
   "source": [
    "find_param.best_params"
   ]
  },
  {
   "cell_type": "code",
   "execution_count": null,
   "metadata": {},
   "outputs": [],
   "source": [
    "data = {'hidden_layer_sizes': (500, 300, 200, 150),\n",
    " 'activation': 'tanh',\n",
    " 'learning_rate': 'invscaling',\n",
    " 'max_iter': 783}"
   ]
  },
  {
   "cell_type": "code",
   "execution_count": null,
   "metadata": {},
   "outputs": [],
   "source": [
    "model.get_params()['grd_boost'].get_params()"
   ]
  },
  {
   "cell_type": "code",
   "execution_count": null,
   "metadata": {},
   "outputs": [],
   "source": [
    "model.get_params()['log_reg']"
   ]
  },
  {
   "cell_type": "code",
   "execution_count": null,
   "metadata": {},
   "outputs": [],
   "source": [
    "model.get_params()['xgb'].get_params()"
   ]
  },
  {
   "cell_type": "code",
   "execution_count": 29,
   "metadata": {},
   "outputs": [
    {
     "ename": "RepresenterError",
     "evalue": "cannot represent an object: GradientBoostingClassifier(criterion='squared_error', loss='exponential',\n                           max_features='sqrt', n_estimators=103)",
     "output_type": "error",
     "traceback": [
      "\u001b[1;31m---------------------------------------------------------------------------\u001b[0m",
      "\u001b[1;31mRepresenterError\u001b[0m                          Traceback (most recent call last)",
      "Cell \u001b[1;32mIn[29], line 4\u001b[0m\n\u001b[0;32m      2\u001b[0m yaml_ \u001b[38;5;241m=\u001b[39m yaml\u001b[38;5;241m.\u001b[39mYAML()\n\u001b[0;32m      3\u001b[0m \u001b[38;5;28;01mwith\u001b[39;00m \u001b[38;5;28mopen\u001b[39m(\u001b[38;5;124m'\u001b[39m\u001b[38;5;124mF:\u001b[39m\u001b[38;5;124m\\\u001b[39m\u001b[38;5;124miNeuron\u001b[39m\u001b[38;5;124m\\\u001b[39m\u001b[38;5;124mProjects\u001b[39m\u001b[38;5;124m\\\u001b[39m\u001b[38;5;124mscania_failures_2\u001b[39m\u001b[38;5;124m\\\u001b[39m\u001b[38;5;124msample.yaml\u001b[39m\u001b[38;5;124m'\u001b[39m, \u001b[38;5;124m'\u001b[39m\u001b[38;5;124mw\u001b[39m\u001b[38;5;124m'\u001b[39m) \u001b[38;5;28;01mas\u001b[39;00m f:\n\u001b[1;32m----> 4\u001b[0m     \u001b[43myaml_\u001b[49m\u001b[38;5;241;43m.\u001b[39;49m\u001b[43mdump\u001b[49m\u001b[43m(\u001b[49m\u001b[43mstacked_classifer\u001b[49m\u001b[38;5;241;43m.\u001b[39;49m\u001b[43mget_params\u001b[49m\u001b[43m(\u001b[49m\u001b[43m)\u001b[49m\u001b[43m,\u001b[49m\u001b[43m \u001b[49m\u001b[43mf\u001b[49m\u001b[43m)\u001b[49m\n",
      "File \u001b[1;32mf:\\iNeuron\\Projects\\scania_failures_2\\scania_truck\\Lib\\site-packages\\ruamel\\yaml\\main.py:594\u001b[0m, in \u001b[0;36mYAML.dump\u001b[1;34m(self, data, stream, transform)\u001b[0m\n\u001b[0;32m    592\u001b[0m \u001b[38;5;28;01mif\u001b[39;00m stream \u001b[38;5;129;01mis\u001b[39;00m \u001b[38;5;28;01mNone\u001b[39;00m:\n\u001b[0;32m    593\u001b[0m     \u001b[38;5;28;01mraise\u001b[39;00m \u001b[38;5;167;01mTypeError\u001b[39;00m(\u001b[38;5;124m'\u001b[39m\u001b[38;5;124mNeed a stream argument when not dumping from context manager\u001b[39m\u001b[38;5;124m'\u001b[39m)\n\u001b[1;32m--> 594\u001b[0m \u001b[38;5;28;01mreturn\u001b[39;00m \u001b[38;5;28;43mself\u001b[39;49m\u001b[38;5;241;43m.\u001b[39;49m\u001b[43mdump_all\u001b[49m\u001b[43m(\u001b[49m\u001b[43m[\u001b[49m\u001b[43mdata\u001b[49m\u001b[43m]\u001b[49m\u001b[43m,\u001b[49m\u001b[43m \u001b[49m\u001b[43mstream\u001b[49m\u001b[43m,\u001b[49m\u001b[43m \u001b[49m\u001b[43mtransform\u001b[49m\u001b[38;5;241;43m=\u001b[39;49m\u001b[43mtransform\u001b[49m\u001b[43m)\u001b[49m\n",
      "File \u001b[1;32mf:\\iNeuron\\Projects\\scania_failures_2\\scania_truck\\Lib\\site-packages\\ruamel\\yaml\\main.py:604\u001b[0m, in \u001b[0;36mYAML.dump_all\u001b[1;34m(self, documents, stream, transform)\u001b[0m\n\u001b[0;32m    602\u001b[0m \u001b[38;5;28mself\u001b[39m\u001b[38;5;241m.\u001b[39m_context_manager \u001b[38;5;241m=\u001b[39m YAMLContextManager(\u001b[38;5;28mself\u001b[39m, transform\u001b[38;5;241m=\u001b[39mtransform)\n\u001b[0;32m    603\u001b[0m \u001b[38;5;28;01mfor\u001b[39;00m data \u001b[38;5;129;01min\u001b[39;00m documents:\n\u001b[1;32m--> 604\u001b[0m     \u001b[38;5;28;43mself\u001b[39;49m\u001b[38;5;241;43m.\u001b[39;49m\u001b[43m_context_manager\u001b[49m\u001b[38;5;241;43m.\u001b[39;49m\u001b[43mdump\u001b[49m\u001b[43m(\u001b[49m\u001b[43mdata\u001b[49m\u001b[43m)\u001b[49m\n\u001b[0;32m    605\u001b[0m \u001b[38;5;28mself\u001b[39m\u001b[38;5;241m.\u001b[39m_context_manager\u001b[38;5;241m.\u001b[39mteardown_output()\n\u001b[0;32m    606\u001b[0m \u001b[38;5;28mself\u001b[39m\u001b[38;5;241m.\u001b[39m_output \u001b[38;5;241m=\u001b[39m \u001b[38;5;28;01mNone\u001b[39;00m\n",
      "File \u001b[1;32mf:\\iNeuron\\Projects\\scania_failures_2\\scania_truck\\Lib\\site-packages\\ruamel\\yaml\\main.py:953\u001b[0m, in \u001b[0;36mYAMLContextManager.dump\u001b[1;34m(self, data)\u001b[0m\n\u001b[0;32m    951\u001b[0m     \u001b[38;5;28mself\u001b[39m\u001b[38;5;241m.\u001b[39minit_output(data)\n\u001b[0;32m    952\u001b[0m \u001b[38;5;28;01mtry\u001b[39;00m:\n\u001b[1;32m--> 953\u001b[0m     \u001b[38;5;28;43mself\u001b[39;49m\u001b[38;5;241;43m.\u001b[39;49m\u001b[43m_yaml\u001b[49m\u001b[38;5;241;43m.\u001b[39;49m\u001b[43mrepresenter\u001b[49m\u001b[38;5;241;43m.\u001b[39;49m\u001b[43mrepresent\u001b[49m\u001b[43m(\u001b[49m\u001b[43mdata\u001b[49m\u001b[43m)\u001b[49m\n\u001b[0;32m    954\u001b[0m \u001b[38;5;28;01mexcept\u001b[39;00m \u001b[38;5;167;01mAttributeError\u001b[39;00m:\n\u001b[0;32m    955\u001b[0m     \u001b[38;5;66;03m# nprint(dir(dumper._representer))\u001b[39;00m\n\u001b[0;32m    956\u001b[0m     \u001b[38;5;28;01mraise\u001b[39;00m\n",
      "File \u001b[1;32mf:\\iNeuron\\Projects\\scania_failures_2\\scania_truck\\Lib\\site-packages\\ruamel\\yaml\\representer.py:81\u001b[0m, in \u001b[0;36mBaseRepresenter.represent\u001b[1;34m(self, data)\u001b[0m\n\u001b[0;32m     80\u001b[0m \u001b[38;5;28;01mdef\u001b[39;00m \u001b[38;5;21mrepresent\u001b[39m(\u001b[38;5;28mself\u001b[39m, data: Any) \u001b[38;5;241m-\u001b[39m\u001b[38;5;241m>\u001b[39m \u001b[38;5;28;01mNone\u001b[39;00m:\n\u001b[1;32m---> 81\u001b[0m     node \u001b[38;5;241m=\u001b[39m \u001b[38;5;28;43mself\u001b[39;49m\u001b[38;5;241;43m.\u001b[39;49m\u001b[43mrepresent_data\u001b[49m\u001b[43m(\u001b[49m\u001b[43mdata\u001b[49m\u001b[43m)\u001b[49m\n\u001b[0;32m     82\u001b[0m     \u001b[38;5;28mself\u001b[39m\u001b[38;5;241m.\u001b[39mserializer\u001b[38;5;241m.\u001b[39mserialize(node)\n\u001b[0;32m     83\u001b[0m     \u001b[38;5;28mself\u001b[39m\u001b[38;5;241m.\u001b[39mrepresented_objects \u001b[38;5;241m=\u001b[39m {}\n",
      "File \u001b[1;32mf:\\iNeuron\\Projects\\scania_failures_2\\scania_truck\\Lib\\site-packages\\ruamel\\yaml\\representer.py:103\u001b[0m, in \u001b[0;36mBaseRepresenter.represent_data\u001b[1;34m(self, data)\u001b[0m\n\u001b[0;32m    101\u001b[0m data_types \u001b[38;5;241m=\u001b[39m \u001b[38;5;28mtype\u001b[39m(data)\u001b[38;5;241m.\u001b[39m\u001b[38;5;18m__mro__\u001b[39m\n\u001b[0;32m    102\u001b[0m \u001b[38;5;28;01mif\u001b[39;00m data_types[\u001b[38;5;241m0\u001b[39m] \u001b[38;5;129;01min\u001b[39;00m \u001b[38;5;28mself\u001b[39m\u001b[38;5;241m.\u001b[39myaml_representers:\n\u001b[1;32m--> 103\u001b[0m     node \u001b[38;5;241m=\u001b[39m \u001b[38;5;28;43mself\u001b[39;49m\u001b[38;5;241;43m.\u001b[39;49m\u001b[43myaml_representers\u001b[49m\u001b[43m[\u001b[49m\u001b[43mdata_types\u001b[49m\u001b[43m[\u001b[49m\u001b[38;5;241;43m0\u001b[39;49m\u001b[43m]\u001b[49m\u001b[43m]\u001b[49m\u001b[43m(\u001b[49m\u001b[38;5;28;43mself\u001b[39;49m\u001b[43m,\u001b[49m\u001b[43m \u001b[49m\u001b[43mdata\u001b[49m\u001b[43m)\u001b[49m\n\u001b[0;32m    104\u001b[0m \u001b[38;5;28;01melse\u001b[39;00m:\n\u001b[0;32m    105\u001b[0m     \u001b[38;5;28;01mfor\u001b[39;00m data_type \u001b[38;5;129;01min\u001b[39;00m data_types:\n",
      "File \u001b[1;32mf:\\iNeuron\\Projects\\scania_failures_2\\scania_truck\\Lib\\site-packages\\ruamel\\yaml\\representer.py:316\u001b[0m, in \u001b[0;36mSafeRepresenter.represent_dict\u001b[1;34m(self, data)\u001b[0m\n\u001b[0;32m    315\u001b[0m \u001b[38;5;28;01mdef\u001b[39;00m \u001b[38;5;21mrepresent_dict\u001b[39m(\u001b[38;5;28mself\u001b[39m, data: Any) \u001b[38;5;241m-\u001b[39m\u001b[38;5;241m>\u001b[39m MappingNode:\n\u001b[1;32m--> 316\u001b[0m     \u001b[38;5;28;01mreturn\u001b[39;00m \u001b[38;5;28;43mself\u001b[39;49m\u001b[38;5;241;43m.\u001b[39;49m\u001b[43mrepresent_mapping\u001b[49m\u001b[43m(\u001b[49m\u001b[38;5;124;43m'\u001b[39;49m\u001b[38;5;124;43mtag:yaml.org,2002:map\u001b[39;49m\u001b[38;5;124;43m'\u001b[39;49m\u001b[43m,\u001b[49m\u001b[43m \u001b[49m\u001b[43mdata\u001b[49m\u001b[43m)\u001b[49m\n",
      "File \u001b[1;32mf:\\iNeuron\\Projects\\scania_failures_2\\scania_truck\\Lib\\site-packages\\ruamel\\yaml\\representer.py:839\u001b[0m, in \u001b[0;36mRoundTripRepresenter.represent_mapping\u001b[1;34m(self, tag, mapping, flow_style)\u001b[0m\n\u001b[0;32m    837\u001b[0m item_count \u001b[38;5;241m+\u001b[39m\u001b[38;5;241m=\u001b[39m \u001b[38;5;241m1\u001b[39m\n\u001b[0;32m    838\u001b[0m node_key \u001b[38;5;241m=\u001b[39m \u001b[38;5;28mself\u001b[39m\u001b[38;5;241m.\u001b[39mrepresent_key(item_key)\n\u001b[1;32m--> 839\u001b[0m node_value \u001b[38;5;241m=\u001b[39m \u001b[38;5;28;43mself\u001b[39;49m\u001b[38;5;241;43m.\u001b[39;49m\u001b[43mrepresent_data\u001b[49m\u001b[43m(\u001b[49m\u001b[43mitem_value\u001b[49m\u001b[43m)\u001b[49m\n\u001b[0;32m    840\u001b[0m item_comment \u001b[38;5;241m=\u001b[39m item_comments\u001b[38;5;241m.\u001b[39mget(item_key)\n\u001b[0;32m    841\u001b[0m \u001b[38;5;28;01mif\u001b[39;00m item_comment:\n\u001b[0;32m    842\u001b[0m     \u001b[38;5;66;03m# assert getattr(node_key, 'comment', None) is None\u001b[39;00m\n\u001b[0;32m    843\u001b[0m     \u001b[38;5;66;03m# issue 351 did throw this because the comment from the list item was\u001b[39;00m\n\u001b[0;32m    844\u001b[0m     \u001b[38;5;66;03m# moved to the dict\u001b[39;00m\n",
      "File \u001b[1;32mf:\\iNeuron\\Projects\\scania_failures_2\\scania_truck\\Lib\\site-packages\\ruamel\\yaml\\representer.py:103\u001b[0m, in \u001b[0;36mBaseRepresenter.represent_data\u001b[1;34m(self, data)\u001b[0m\n\u001b[0;32m    101\u001b[0m data_types \u001b[38;5;241m=\u001b[39m \u001b[38;5;28mtype\u001b[39m(data)\u001b[38;5;241m.\u001b[39m\u001b[38;5;18m__mro__\u001b[39m\n\u001b[0;32m    102\u001b[0m \u001b[38;5;28;01mif\u001b[39;00m data_types[\u001b[38;5;241m0\u001b[39m] \u001b[38;5;129;01min\u001b[39;00m \u001b[38;5;28mself\u001b[39m\u001b[38;5;241m.\u001b[39myaml_representers:\n\u001b[1;32m--> 103\u001b[0m     node \u001b[38;5;241m=\u001b[39m \u001b[38;5;28;43mself\u001b[39;49m\u001b[38;5;241;43m.\u001b[39;49m\u001b[43myaml_representers\u001b[49m\u001b[43m[\u001b[49m\u001b[43mdata_types\u001b[49m\u001b[43m[\u001b[49m\u001b[38;5;241;43m0\u001b[39;49m\u001b[43m]\u001b[49m\u001b[43m]\u001b[49m\u001b[43m(\u001b[49m\u001b[38;5;28;43mself\u001b[39;49m\u001b[43m,\u001b[49m\u001b[43m \u001b[49m\u001b[43mdata\u001b[49m\u001b[43m)\u001b[49m\n\u001b[0;32m    104\u001b[0m \u001b[38;5;28;01melse\u001b[39;00m:\n\u001b[0;32m    105\u001b[0m     \u001b[38;5;28;01mfor\u001b[39;00m data_type \u001b[38;5;129;01min\u001b[39;00m data_types:\n",
      "File \u001b[1;32mf:\\iNeuron\\Projects\\scania_failures_2\\scania_truck\\Lib\\site-packages\\ruamel\\yaml\\representer.py:307\u001b[0m, in \u001b[0;36mSafeRepresenter.represent_list\u001b[1;34m(self, data)\u001b[0m\n\u001b[0;32m    299\u001b[0m \u001b[38;5;28;01mdef\u001b[39;00m \u001b[38;5;21mrepresent_list\u001b[39m(\u001b[38;5;28mself\u001b[39m, data: Any) \u001b[38;5;241m-\u001b[39m\u001b[38;5;241m>\u001b[39m SequenceNode:\n\u001b[0;32m    300\u001b[0m     \u001b[38;5;66;03m# pairs = (len(data) > 0 and isinstance(data, list))\u001b[39;00m\n\u001b[0;32m    301\u001b[0m     \u001b[38;5;66;03m# if pairs:\u001b[39;00m\n\u001b[1;32m   (...)\u001b[0m\n\u001b[0;32m    305\u001b[0m     \u001b[38;5;66;03m#             break\u001b[39;00m\n\u001b[0;32m    306\u001b[0m     \u001b[38;5;66;03m# if not pairs:\u001b[39;00m\n\u001b[1;32m--> 307\u001b[0m     \u001b[38;5;28;01mreturn\u001b[39;00m \u001b[38;5;28;43mself\u001b[39;49m\u001b[38;5;241;43m.\u001b[39;49m\u001b[43mrepresent_sequence\u001b[49m\u001b[43m(\u001b[49m\u001b[38;5;124;43m'\u001b[39;49m\u001b[38;5;124;43mtag:yaml.org,2002:seq\u001b[39;49m\u001b[38;5;124;43m'\u001b[39;49m\u001b[43m,\u001b[49m\u001b[43m \u001b[49m\u001b[43mdata\u001b[49m\u001b[43m)\u001b[49m\n",
      "File \u001b[1;32mf:\\iNeuron\\Projects\\scania_failures_2\\scania_truck\\Lib\\site-packages\\ruamel\\yaml\\representer.py:748\u001b[0m, in \u001b[0;36mRoundTripRepresenter.represent_sequence\u001b[1;34m(self, tag, sequence, flow_style)\u001b[0m\n\u001b[0;32m    746\u001b[0m     item_comments \u001b[38;5;241m=\u001b[39m {}\n\u001b[0;32m    747\u001b[0m \u001b[38;5;28;01mfor\u001b[39;00m idx, item \u001b[38;5;129;01min\u001b[39;00m \u001b[38;5;28menumerate\u001b[39m(sequence):\n\u001b[1;32m--> 748\u001b[0m     node_item \u001b[38;5;241m=\u001b[39m \u001b[38;5;28;43mself\u001b[39;49m\u001b[38;5;241;43m.\u001b[39;49m\u001b[43mrepresent_data\u001b[49m\u001b[43m(\u001b[49m\u001b[43mitem\u001b[49m\u001b[43m)\u001b[49m\n\u001b[0;32m    749\u001b[0m     \u001b[38;5;28mself\u001b[39m\u001b[38;5;241m.\u001b[39mmerge_comments(node_item, item_comments\u001b[38;5;241m.\u001b[39mget(idx))\n\u001b[0;32m    750\u001b[0m     \u001b[38;5;28;01mif\u001b[39;00m \u001b[38;5;129;01mnot\u001b[39;00m (\u001b[38;5;28misinstance\u001b[39m(node_item, ScalarNode) \u001b[38;5;129;01mand\u001b[39;00m \u001b[38;5;129;01mnot\u001b[39;00m node_item\u001b[38;5;241m.\u001b[39mstyle):\n",
      "File \u001b[1;32mf:\\iNeuron\\Projects\\scania_failures_2\\scania_truck\\Lib\\site-packages\\ruamel\\yaml\\representer.py:103\u001b[0m, in \u001b[0;36mBaseRepresenter.represent_data\u001b[1;34m(self, data)\u001b[0m\n\u001b[0;32m    101\u001b[0m data_types \u001b[38;5;241m=\u001b[39m \u001b[38;5;28mtype\u001b[39m(data)\u001b[38;5;241m.\u001b[39m\u001b[38;5;18m__mro__\u001b[39m\n\u001b[0;32m    102\u001b[0m \u001b[38;5;28;01mif\u001b[39;00m data_types[\u001b[38;5;241m0\u001b[39m] \u001b[38;5;129;01min\u001b[39;00m \u001b[38;5;28mself\u001b[39m\u001b[38;5;241m.\u001b[39myaml_representers:\n\u001b[1;32m--> 103\u001b[0m     node \u001b[38;5;241m=\u001b[39m \u001b[38;5;28;43mself\u001b[39;49m\u001b[38;5;241;43m.\u001b[39;49m\u001b[43myaml_representers\u001b[49m\u001b[43m[\u001b[49m\u001b[43mdata_types\u001b[49m\u001b[43m[\u001b[49m\u001b[38;5;241;43m0\u001b[39;49m\u001b[43m]\u001b[49m\u001b[43m]\u001b[49m\u001b[43m(\u001b[49m\u001b[38;5;28;43mself\u001b[39;49m\u001b[43m,\u001b[49m\u001b[43m \u001b[49m\u001b[43mdata\u001b[49m\u001b[43m)\u001b[49m\n\u001b[0;32m    104\u001b[0m \u001b[38;5;28;01melse\u001b[39;00m:\n\u001b[0;32m    105\u001b[0m     \u001b[38;5;28;01mfor\u001b[39;00m data_type \u001b[38;5;129;01min\u001b[39;00m data_types:\n",
      "File \u001b[1;32mf:\\iNeuron\\Projects\\scania_failures_2\\scania_truck\\Lib\\site-packages\\ruamel\\yaml\\representer.py:307\u001b[0m, in \u001b[0;36mSafeRepresenter.represent_list\u001b[1;34m(self, data)\u001b[0m\n\u001b[0;32m    299\u001b[0m \u001b[38;5;28;01mdef\u001b[39;00m \u001b[38;5;21mrepresent_list\u001b[39m(\u001b[38;5;28mself\u001b[39m, data: Any) \u001b[38;5;241m-\u001b[39m\u001b[38;5;241m>\u001b[39m SequenceNode:\n\u001b[0;32m    300\u001b[0m     \u001b[38;5;66;03m# pairs = (len(data) > 0 and isinstance(data, list))\u001b[39;00m\n\u001b[0;32m    301\u001b[0m     \u001b[38;5;66;03m# if pairs:\u001b[39;00m\n\u001b[1;32m   (...)\u001b[0m\n\u001b[0;32m    305\u001b[0m     \u001b[38;5;66;03m#             break\u001b[39;00m\n\u001b[0;32m    306\u001b[0m     \u001b[38;5;66;03m# if not pairs:\u001b[39;00m\n\u001b[1;32m--> 307\u001b[0m     \u001b[38;5;28;01mreturn\u001b[39;00m \u001b[38;5;28;43mself\u001b[39;49m\u001b[38;5;241;43m.\u001b[39;49m\u001b[43mrepresent_sequence\u001b[49m\u001b[43m(\u001b[49m\u001b[38;5;124;43m'\u001b[39;49m\u001b[38;5;124;43mtag:yaml.org,2002:seq\u001b[39;49m\u001b[38;5;124;43m'\u001b[39;49m\u001b[43m,\u001b[49m\u001b[43m \u001b[49m\u001b[43mdata\u001b[49m\u001b[43m)\u001b[49m\n",
      "File \u001b[1;32mf:\\iNeuron\\Projects\\scania_failures_2\\scania_truck\\Lib\\site-packages\\ruamel\\yaml\\representer.py:748\u001b[0m, in \u001b[0;36mRoundTripRepresenter.represent_sequence\u001b[1;34m(self, tag, sequence, flow_style)\u001b[0m\n\u001b[0;32m    746\u001b[0m     item_comments \u001b[38;5;241m=\u001b[39m {}\n\u001b[0;32m    747\u001b[0m \u001b[38;5;28;01mfor\u001b[39;00m idx, item \u001b[38;5;129;01min\u001b[39;00m \u001b[38;5;28menumerate\u001b[39m(sequence):\n\u001b[1;32m--> 748\u001b[0m     node_item \u001b[38;5;241m=\u001b[39m \u001b[38;5;28;43mself\u001b[39;49m\u001b[38;5;241;43m.\u001b[39;49m\u001b[43mrepresent_data\u001b[49m\u001b[43m(\u001b[49m\u001b[43mitem\u001b[49m\u001b[43m)\u001b[49m\n\u001b[0;32m    749\u001b[0m     \u001b[38;5;28mself\u001b[39m\u001b[38;5;241m.\u001b[39mmerge_comments(node_item, item_comments\u001b[38;5;241m.\u001b[39mget(idx))\n\u001b[0;32m    750\u001b[0m     \u001b[38;5;28;01mif\u001b[39;00m \u001b[38;5;129;01mnot\u001b[39;00m (\u001b[38;5;28misinstance\u001b[39m(node_item, ScalarNode) \u001b[38;5;129;01mand\u001b[39;00m \u001b[38;5;129;01mnot\u001b[39;00m node_item\u001b[38;5;241m.\u001b[39mstyle):\n",
      "File \u001b[1;32mf:\\iNeuron\\Projects\\scania_failures_2\\scania_truck\\Lib\\site-packages\\ruamel\\yaml\\representer.py:113\u001b[0m, in \u001b[0;36mBaseRepresenter.represent_data\u001b[1;34m(self, data)\u001b[0m\n\u001b[0;32m    111\u001b[0m     node \u001b[38;5;241m=\u001b[39m \u001b[38;5;28mself\u001b[39m\u001b[38;5;241m.\u001b[39myaml_multi_representers[\u001b[38;5;28;01mNone\u001b[39;00m](\u001b[38;5;28mself\u001b[39m, data)\n\u001b[0;32m    112\u001b[0m \u001b[38;5;28;01melif\u001b[39;00m \u001b[38;5;28;01mNone\u001b[39;00m \u001b[38;5;129;01min\u001b[39;00m \u001b[38;5;28mself\u001b[39m\u001b[38;5;241m.\u001b[39myaml_representers:\n\u001b[1;32m--> 113\u001b[0m     node \u001b[38;5;241m=\u001b[39m \u001b[38;5;28;43mself\u001b[39;49m\u001b[38;5;241;43m.\u001b[39;49m\u001b[43myaml_representers\u001b[49m\u001b[43m[\u001b[49m\u001b[38;5;28;43;01mNone\u001b[39;49;00m\u001b[43m]\u001b[49m\u001b[43m(\u001b[49m\u001b[38;5;28;43mself\u001b[39;49m\u001b[43m,\u001b[49m\u001b[43m \u001b[49m\u001b[43mdata\u001b[49m\u001b[43m)\u001b[49m\n\u001b[0;32m    114\u001b[0m \u001b[38;5;28;01melse\u001b[39;00m:\n\u001b[0;32m    115\u001b[0m     node \u001b[38;5;241m=\u001b[39m ScalarNode(\u001b[38;5;28;01mNone\u001b[39;00m, \u001b[38;5;28mstr\u001b[39m(data))\n",
      "File \u001b[1;32mf:\\iNeuron\\Projects\\scania_failures_2\\scania_truck\\Lib\\site-packages\\ruamel\\yaml\\representer.py:345\u001b[0m, in \u001b[0;36mSafeRepresenter.represent_undefined\u001b[1;34m(self, data)\u001b[0m\n\u001b[0;32m    344\u001b[0m \u001b[38;5;28;01mdef\u001b[39;00m \u001b[38;5;21mrepresent_undefined\u001b[39m(\u001b[38;5;28mself\u001b[39m, data: Any) \u001b[38;5;241m-\u001b[39m\u001b[38;5;241m>\u001b[39m \u001b[38;5;28;01mNone\u001b[39;00m:\n\u001b[1;32m--> 345\u001b[0m     \u001b[38;5;28;01mraise\u001b[39;00m RepresenterError(\u001b[38;5;124mf\u001b[39m\u001b[38;5;124m'\u001b[39m\u001b[38;5;124mcannot represent an object: \u001b[39m\u001b[38;5;132;01m{\u001b[39;00mdata\u001b[38;5;132;01m!s}\u001b[39;00m\u001b[38;5;124m'\u001b[39m)\n",
      "\u001b[1;31mRepresenterError\u001b[0m: cannot represent an object: GradientBoostingClassifier(criterion='squared_error', loss='exponential',\n                           max_features='sqrt', n_estimators=103)"
     ]
    }
   ],
   "source": [
    "import ruamel.yaml as yaml\n",
    "yaml_ = yaml.YAML()\n",
    "with open('F:\\iNeuron\\Projects\\scania_failures_2\\sample.yaml', 'w') as f:\n",
    "    yaml_.dump(stacked_classifer.get_params(), f)\n"
   ]
  },
  {
   "cell_type": "code",
   "execution_count": null,
   "metadata": {},
   "outputs": [],
   "source": [
    "from src.utils import save_yaml\n",
    "\n",
    "\n",
    "save_yaml(tuner_report,'F:\\iNeuron\\Projects\\scania_failures_2\\sample.yaml')"
   ]
  },
  {
   "cell_type": "code",
   "execution_count": null,
   "metadata": {},
   "outputs": [],
   "source": [
    "file_path = r'F:\\iNeuron\\Projects\\scania_failures_2\\sample.json'\n",
    "\n",
    "with open(file_path, 'w') as file:\n",
    "    json.dump(obj=sc, fp=file, indent = 2)"
   ]
  },
  {
   "cell_type": "code",
   "execution_count": null,
   "metadata": {},
   "outputs": [],
   "source": [
    "with open(file_path,'r') as file:\n",
    "    data = json.load(file)\n",
    "data"
   ]
  },
  {
   "cell_type": "code",
   "execution_count": null,
   "metadata": {},
   "outputs": [],
   "source": []
  },
  {
   "cell_type": "code",
   "execution_count": null,
   "metadata": {},
   "outputs": [],
   "source": [
    "load_yaml(Path('F:\\iNeuron\\Projects\\scania_failures_2\\sample.yaml'))"
   ]
  },
  {
   "cell_type": "code",
   "execution_count": null,
   "metadata": {},
   "outputs": [],
   "source": []
  },
  {
   "cell_type": "code",
   "execution_count": null,
   "metadata": {},
   "outputs": [],
   "source": [
    "import json\n",
    "print(json.dumps(find_param.best_params))"
   ]
  },
  {
   "cell_type": "code",
   "execution_count": null,
   "metadata": {},
   "outputs": [],
   "source": []
  }
 ],
 "metadata": {
  "kernelspec": {
   "display_name": "Python 3",
   "language": "python",
   "name": "python3"
  },
  "language_info": {
   "codemirror_mode": {
    "name": "ipython",
    "version": 3
   },
   "file_extension": ".py",
   "mimetype": "text/x-python",
   "name": "python",
   "nbconvert_exporter": "python",
   "pygments_lexer": "ipython3",
   "version": "3.11.5"
  }
 },
 "nbformat": 4,
 "nbformat_minor": 2
}
