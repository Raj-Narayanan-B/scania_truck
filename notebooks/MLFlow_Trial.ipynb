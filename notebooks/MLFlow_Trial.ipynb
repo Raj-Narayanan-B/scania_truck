{
 "cells": [
  {
   "cell_type": "code",
   "execution_count": 1,
   "metadata": {},
   "outputs": [],
   "source": [
    "import dagshub\n",
    "import mlflow\n",
    "from mlflow.client import MlflowClient\n",
    "client = MlflowClient(tracking_uri='https://dagshub.com/Raj-Narayanan-B/StudentMLProjectRegression.mlflow',\n",
    "                      registry_uri='https://dagshub.com/Raj-Narayanan-B/StudentMLProjectRegression.mlflow')\n",
    "import pandas as pd\n",
    "import numpy as np\n",
    "import yaml\n",
    "import os\n",
    "import json\n",
    "from pathlib import Path #type: ignore\n",
    "\n",
    "from src.utils import load_yaml\n",
    "\n",
    "from sklearn.model_selection import train_test_split\n",
    "from sklearn.ensemble import RandomForestClassifier\n",
    "from sklearn.metrics import confusion_matrix\n",
    "from sklearn.neighbors import KNeighborsClassifier\n",
    "\n",
    "from sklearn.linear_model import LogisticRegression, SGDClassifier\n",
    "from sklearn.ensemble import (RandomForestClassifier, AdaBoostClassifier, \n",
    "                              GradientBoostingClassifier, BaggingClassifier, ExtraTreesClassifier, \n",
    "                              HistGradientBoostingClassifier, StackingClassifier, VotingClassifier)\n",
    "from sklearn.tree import DecisionTreeClassifier\n",
    "from xgboost import XGBClassifier\n",
    "# from catboost import CatBoostClassifier\n",
    "from sklearn.neighbors import KNeighborsClassifier\n",
    "from sklearn.neural_network import MLPClassifier\n",
    "import hyperopt\n",
    "from hyperopt.pyll.base import scope\n",
    "from hyperopt import hp, fmin, tpe, Trials, STATUS_OK, space_eval\n",
    "\n",
    "os.chdir('f:\\\\iNeuron\\\\Projects\\\\Scania_Truck_Failures')\n",
    "\n",
    "import mlflow.sklearn\n",
    "import mlflow.xgboost\n",
    "import mlflow.pyfunc"
   ]
  },
  {
   "cell_type": "code",
   "execution_count": 2,
   "metadata": {},
   "outputs": [],
   "source": [
    "os.environ['MLFLOW_TRACKING_URI'] = 'https://dagshub.com/Raj-Narayanan-B/StudentMLProjectRegression.mlflow'\n",
    "os.environ['MLFLOW_TRACKING_USERNAME'] = 'Raj-Narayanan-B'\n",
    "os.environ['MLFLOW_TRACKING_PASSWORD'] = '8af4cc66be8aec751397fd525e47ae395fa67442'"
   ]
  },
  {
   "cell_type": "code",
   "execution_count": 3,
   "metadata": {},
   "outputs": [
    {
     "data": {
      "text/plain": [
       "'https://dagshub.com/Raj-Narayanan-B/StudentMLProjectRegression.mlflow'"
      ]
     },
     "execution_count": 3,
     "metadata": {},
     "output_type": "execute_result"
    }
   ],
   "source": [
    "mlflow.get_tracking_uri()"
   ]
  },
  {
   "cell_type": "code",
   "execution_count": null,
   "metadata": {},
   "outputs": [],
   "source": [
    "client.list_artifacts('c03a395f2448493aa7f2f5c4e066e0d3')"
   ]
  },
  {
   "cell_type": "code",
   "execution_count": null,
   "metadata": {},
   "outputs": [],
   "source": [
    "run_id = '7650b7097cb644d08b8fe61bb3065b15'\n",
    "filter_string=f\"tags.run_type ILIKE 'child'\"\n",
    "runs_df = mlflow.search_runs(experiment_ids=['60'])"
   ]
  },
  {
   "cell_type": "code",
   "execution_count": null,
   "metadata": {},
   "outputs": [],
   "source": [
    "runs_df['artifact_uri'][0]"
   ]
  },
  {
   "cell_type": "code",
   "execution_count": null,
   "metadata": {},
   "outputs": [],
   "source": [
    "best_run_id = mlflow.search_runs(experiment_ids=['60'],\n",
    "                        filter_string=filter_string,\n",
    "                        order_by = ['metrics.Cost'])[['run_id','artifact_uri','metrics.Cost']]['run_id'][0]\n",
    "best_run_id"
   ]
  },
  {
   "cell_type": "code",
   "execution_count": null,
   "metadata": {},
   "outputs": [],
   "source": [
    "mlflow.get_run(f'{best_run_id}')"
   ]
  },
  {
   "cell_type": "code",
   "execution_count": null,
   "metadata": {},
   "outputs": [],
   "source": [
    "artifact_path_name = json.loads(mlflow.get_run(f'{best_run_id}').data.tags['mlflow.log-model.history'])[0]['artifact_path']"
   ]
  },
  {
   "cell_type": "code",
   "execution_count": 4,
   "metadata": {},
   "outputs": [],
   "source": [
    "train_df = pd.read_csv(\"F:\\iNeuron\\Projects\\scania_failures_2\\\\artifacts\\data\\processed\\stage_2_processing\\processed_train_data.csv\").iloc[:2000,:]\n",
    "test_df = pd.read_csv(\"F:\\iNeuron\\Projects\\scania_failures_2\\\\artifacts\\data\\processed\\stage_2_processing\\processed_test_data.csv\").iloc[:2000,:]"
   ]
  },
  {
   "cell_type": "code",
   "execution_count": 5,
   "metadata": {},
   "outputs": [
    {
     "name": "stdout",
     "output_type": "stream",
     "text": [
      "(2000, 170) (2000, 170) (2000,) (2000,)\n",
      "class\n",
      "0    1973\n",
      "1      27\n",
      "Name: count, dtype: int64\n",
      "class\n",
      "0    1971\n",
      "1      29\n",
      "Name: count, dtype: int64\n"
     ]
    }
   ],
   "source": [
    "# x = df.drop(columns='class')\n",
    "# y = df['class']\n",
    "# # skf = StratifiedKFold()\n",
    "# x_train,x_test,y_train,y_test = train_test_split(x,y, test_size = 0.25, random_state=8)\n",
    "x_train,y_train = train_df.drop(columns='class'), train_df['class']\n",
    "x_test,y_test = test_df.drop(columns='class'), test_df['class']\n",
    "\n",
    "print(x_train.shape,x_test.shape,y_train.shape,y_test.shape)\n",
    "print(y_train.value_counts())\n",
    "print(y_test.value_counts())"
   ]
  },
  {
   "cell_type": "code",
   "execution_count": null,
   "metadata": {},
   "outputs": [],
   "source": [
    "params = {'hidden_layer_sizes': (500, 300, 200, 150)}"
   ]
  },
  {
   "cell_type": "code",
   "execution_count": null,
   "metadata": {},
   "outputs": [],
   "source": [
    "np.array(params['hidden_layer_sizes'])"
   ]
  },
  {
   "cell_type": "code",
   "execution_count": null,
   "metadata": {},
   "outputs": [],
   "source": [
    "{\"hidden_layer_sizes\": np.array(params['hidden_layer_sizes'])}"
   ]
  },
  {
   "cell_type": "code",
   "execution_count": null,
   "metadata": {},
   "outputs": [],
   "source": [
    "mlflow.models.infer_signature(x_train, y_test, {\"hidden_layer_sizes\": np.array(params['hidden_layer_sizes'])})"
   ]
  },
  {
   "cell_type": "code",
   "execution_count": null,
   "metadata": {},
   "outputs": [],
   "source": [
    "params"
   ]
  },
  {
   "cell_type": "code",
   "execution_count": null,
   "metadata": {},
   "outputs": [],
   "source": [
    "mlflow.log_params({\"hidden_layer_sizes\": [500, 300, 200, 150]})"
   ]
  },
  {
   "cell_type": "code",
   "execution_count": null,
   "metadata": {},
   "outputs": [],
   "source": [
    "mlflow.set_tracking_uri()"
   ]
  },
  {
   "cell_type": "code",
   "execution_count": null,
   "metadata": {},
   "outputs": [],
   "source": [
    "space = {'n_estimators': scope.int(hp.quniform('n_estimators', 100, 150, 1)),\n",
    "    'criterion': hp.choice('criterion', ['log_loss', 'entropy', 'gini']),\n",
    "    'max_features': hp.choice('max_features', ['sqrt', 'log2', None]),\n",
    "    'class_weight': hp.choice('class_weight', ['balanced', 'balanced_subsample'])}\n",
    "\n",
    "mlflow.start_run()\n",
    "\n",
    "mlflow.set_registry_uri\n",
    "def objective(space):\n",
    "    hp_rand_forest = RandomForestClassifier(**space)\n",
    "    hp_rand_forest.fit(x_train,y_train)\n",
    "    y_pred = hp_rand_forest.predict(x_test)\n",
    "    tn, fp, fn, tp = confusion_matrix(y_true=y_test, y_pred=y_pred).ravel()\n",
    "    cost = float((10*fp)+(500*fn))\n",
    "    return cost\n",
    "\n",
    "trials = Trials()\n",
    "best = fmin(fn= objective,\n",
    "            space= space,\n",
    "            algo= tpe.suggest,\n",
    "            max_evals = 1,\n",
    "            trials= trials)\n",
    "best_randf=space_eval(space,best)\n",
    "best_randf"
   ]
  },
  {
   "cell_type": "code",
   "execution_count": null,
   "metadata": {},
   "outputs": [],
   "source": [
    "import mlflow\n",
    "from sklearn.ensemble import StackingClassifier\n",
    "from sklearn.ensemble import RandomForestClassifier\n",
    "from sklearn.ensemble import GradientBoostingClassifier\n",
    "from sklearn.tree import DecisionTreeClassifier\n",
    "\n",
    "# Create base classifiers\n",
    "base_classifiers = [\n",
    "    ('rf', RandomForestClassifier(n_estimators=50)),\n",
    "    ('gb', GradientBoostingClassifier(n_estimators=50))\n",
    "]\n",
    "\n",
    "# Create stacking classifier\n",
    "stacking_clf = StackingClassifier(\n",
    "    estimators=base_classifiers,\n",
    "    final_estimator=DecisionTreeClassifier()\n",
    ")\n",
    "\n",
    "# Log parameters\n",
    "with mlflow.start_run():\n",
    "    mlflow.log_params({\n",
    "        'base_classifiers': base_classifiers,\n",
    "        'final_estimator': 'DecisionTreeClassifier'\n",
    "    })\n",
    "\n",
    "    # Train and log other metrics as needed\n",
    "    # ...\n",
    "\n",
    "# Close the MLflow run\n",
    "mlflow.end_run()\n"
   ]
  },
  {
   "cell_type": "code",
   "execution_count": null,
   "metadata": {},
   "outputs": [],
   "source": [
    "eval('RandomForestClassifier()')"
   ]
  },
  {
   "cell_type": "code",
   "execution_count": null,
   "metadata": {},
   "outputs": [],
   "source": [
    "base_classifiers = [\n",
    "    ('rf', RandomForestClassifier(n_estimators=50)),\n",
    "    ('gb', GradientBoostingClassifier(n_estimators=50))\n",
    "]\n",
    "\n",
    "params = {'be1':['rf1','RandomForestClassifier()']}\n",
    "\n",
    "mlflow.models.infer_signature(x_train, y_test, params)"
   ]
  },
  {
   "cell_type": "code",
   "execution_count": null,
   "metadata": {},
   "outputs": [],
   "source": [
    "with mlflow.start_run(experiment_id = 75):\n",
    "    mlflow.log_param(key = 'be1',\n",
    "                     value = {'rf1','RandomForestClassifier()'})"
   ]
  },
  {
   "cell_type": "code",
   "execution_count": null,
   "metadata": {},
   "outputs": [],
   "source": [
    "base_classifiers = [\n",
    "    ('rf', RandomForestClassifier(n_estimators=50)),\n",
    "    ('gb', GradientBoostingClassifier(n_estimators=50))\n",
    "]\n",
    "\n",
    "# Create stacking classifier\n",
    "stacking_clf = StackingClassifier(\n",
    "    estimators=base_classifiers,\n",
    "    final_estimator=DecisionTreeClassifier()\n",
    ")\n",
    "\n",
    "# # Log parameters\n",
    "# with mlflow.start_run(experiment_id = 75):\n",
    "#     mlflow.log_params({\n",
    "#         'base_classifiers': eval('base_classifiers'),\n",
    "#         'final_estimator': eval('DecisionTreeClassifier()')\n",
    "#     })"
   ]
  },
  {
   "cell_type": "code",
   "execution_count": null,
   "metadata": {},
   "outputs": [],
   "source": [
    "params = {\n",
    "        'base_classifiers': eval('base_classifiers'),\n",
    "        'final_estimator': eval('DecisionTreeClassifier()')\n",
    "    }"
   ]
  },
  {
   "cell_type": "code",
   "execution_count": null,
   "metadata": {},
   "outputs": [],
   "source": [
    "for key,value in params.items():\n",
    "    params[key] = str(value)\n",
    "\n",
    "params"
   ]
  },
  {
   "cell_type": "code",
   "execution_count": null,
   "metadata": {},
   "outputs": [],
   "source": [
    "mlflow.models.infer_signature(x_train, y_test, new_params)"
   ]
  },
  {
   "cell_type": "code",
   "execution_count": null,
   "metadata": {},
   "outputs": [],
   "source": [
    "base_classifiers = [\n",
    "    ('rf', RandomForestClassifier(n_estimators=50)),\n",
    "    ('gb', GradientBoostingClassifier(n_estimators=50))\n",
    "]\n",
    "str(eval('base_classifiers'))"
   ]
  },
  {
   "cell_type": "code",
   "execution_count": null,
   "metadata": {},
   "outputs": [],
   "source": [
    "eval('base_classifiers')"
   ]
  },
  {
   "cell_type": "code",
   "execution_count": null,
   "metadata": {},
   "outputs": [],
   "source": [
    "new_params = client.get_run('ad5d40a9fc33487f8e616dde699ef7ec').data.params"
   ]
  },
  {
   "cell_type": "code",
   "execution_count": null,
   "metadata": {},
   "outputs": [],
   "source": [
    "new_params"
   ]
  },
  {
   "cell_type": "code",
   "execution_count": null,
   "metadata": {},
   "outputs": [],
   "source": [
    "eval(\"[('KNN_Classifier', KNeighborsClassifier(algorithm='kd_tree', n_neighbors=8))]\")"
   ]
  },
  {
   "cell_type": "code",
   "execution_count": null,
   "metadata": {},
   "outputs": [],
   "source": [
    "for key,value in new_params.items():\n",
    "                try:\n",
    "                    new_params[key] = eval(value)\n",
    "                except:\n",
    "                    new_params[key] = value\n",
    "                    if value == 'nan':\n",
    "                        new_params[key] = np.nan\n",
    "new_params                        "
   ]
  },
  {
   "cell_type": "code",
   "execution_count": null,
   "metadata": {},
   "outputs": [],
   "source": [
    "processed_new_params = {key: value for key, value in new_params.items() if value is not None}"
   ]
  },
  {
   "cell_type": "code",
   "execution_count": null,
   "metadata": {},
   "outputs": [],
   "source": [
    "processed_new_params"
   ]
  },
  {
   "cell_type": "code",
   "execution_count": null,
   "metadata": {},
   "outputs": [],
   "source": [
    "stacking_clf_params = stacking_clf.get_params()\n",
    "for key, value in stacking_clf_params.items():\n",
    "    stacking_clf_params[key] = str(value)\n",
    "stacking_clf_params"
   ]
  },
  {
   "cell_type": "code",
   "execution_count": null,
   "metadata": {},
   "outputs": [],
   "source": [
    "exp_id_list = ['84','85','86']\n",
    "mlflow.search_runs(experiment_ids = exp_id_list,\n",
    "                            search_all_experiments = True,\n",
    "                            filter_string = f\"tags.run_type ilike 'parent'\")"
   ]
  },
  {
   "cell_type": "code",
   "execution_count": null,
   "metadata": {},
   "outputs": [],
   "source": [
    "client.tracking_uri"
   ]
  },
  {
   "cell_type": "code",
   "execution_count": null,
   "metadata": {},
   "outputs": [],
   "source": [
    "models = {'Logistic_Regression': LogisticRegression, \n",
    "                  'SGD_Classifier': SGDClassifier,\n",
    "                  'Random Forest': RandomForestClassifier, \n",
    "                  'Ada_Boost': AdaBoostClassifier, \n",
    "                  'Grad_Boost': GradientBoostingClassifier, \n",
    "                  'Bagging_Classifier': BaggingClassifier, \n",
    "                  'ExtraTreesClassifier': ExtraTreesClassifier, \n",
    "                  'Hist_Grad_Boost_Classifier': HistGradientBoostingClassifier, \n",
    "                  'Decision_Tree_Classifier': DecisionTreeClassifier,\n",
    "                  'XGB_Classifier': XGBClassifier,\n",
    "                  'KNN_Classifier': KNeighborsClassifier,\n",
    "                  'Stacked_Classifier' : StackingClassifier,\n",
    "                  'Voting_Classifier' : VotingClassifier\n",
    "                  }\n",
    "\n",
    "for key in models.keys():\n",
    "    try:\n",
    "        client.delete_registered_model(f\"Challenger_{key}\")\n",
    "        client.delete_registered_model(f\"Champion {key}\")\n",
    "    except:\n",
    "        pass"
   ]
  },
  {
   "cell_type": "code",
   "execution_count": null,
   "metadata": {},
   "outputs": [],
   "source": [
    "for i in range(274,278):\n",
    "    try:\n",
    "        mlflow.delete_experiment(i)\n",
    "        print(i)\n",
    "    except:\n",
    "        pass"
   ]
  },
  {
   "cell_type": "code",
   "execution_count": null,
   "metadata": {},
   "outputs": [],
   "source": [
    "mlflow.delete_experiment('136389952941582973')"
   ]
  },
  {
   "cell_type": "code",
   "execution_count": null,
   "metadata": {},
   "outputs": [],
   "source": [
    "mlflow.delete_experiment('647179760550514699')"
   ]
  },
  {
   "cell_type": "code",
   "execution_count": null,
   "metadata": {},
   "outputs": [],
   "source": [
    "mlflow.delete_experiment('297515542365458558')"
   ]
  },
  {
   "cell_type": "code",
   "execution_count": null,
   "metadata": {},
   "outputs": [],
   "source": [
    "mlflow.get_tracking_uri()"
   ]
  },
  {
   "cell_type": "code",
   "execution_count": null,
   "metadata": {},
   "outputs": [],
   "source": [
    "for i in range(1,106):\n",
    "    try:\n",
    "        os.system(f'mlflow gc --experiment-ids {i}')\n",
    "        print(i)\n",
    "    except:\n",
    "        pass"
   ]
  },
  {
   "cell_type": "code",
   "execution_count": null,
   "metadata": {},
   "outputs": [],
   "source": [
    "[i() for i in models.values()]"
   ]
  },
  {
   "cell_type": "code",
   "execution_count": null,
   "metadata": {},
   "outputs": [],
   "source": [
    "models = {'Logistic_Regression': LogisticRegression, \n",
    "                  'SGD_Classifier': SGDClassifier,\n",
    "                  'Random Forest': RandomForestClassifier, \n",
    "                  'Ada_Boost': AdaBoostClassifier, \n",
    "                  'Grad_Boost': GradientBoostingClassifier, \n",
    "                  'Bagging_Classifier': BaggingClassifier, \n",
    "                  'ExtraTreesClassifier': ExtraTreesClassifier, \n",
    "                  'Hist_Grad_Boost_Classifier': HistGradientBoostingClassifier, \n",
    "                  'Decision_Tree_Classifier': DecisionTreeClassifier,\n",
    "                  # 'XGB_Classifier': XGBClassifier,\n",
    "                  'KNN_Classifier': KNeighborsClassifier,\n",
    "                #   'Stacked_Classifier' : StackingClassifier,\n",
    "                #   'Voting_Classifier' : VotingClassifier\n",
    "                  }\n",
    "estimators = list(zip(models.keys(),[i() for i in models.values()]))\n",
    "estimators"
   ]
  },
  {
   "cell_type": "code",
   "execution_count": null,
   "metadata": {},
   "outputs": [],
   "source": [
    "stacking_clf = StackingClassifier(estimators = estimators,\n",
    "                                  final_estimator = XGBClassifier(),\n",
    "                                  stack_method = 'auto',\n",
    "                                  passthrough=True)"
   ]
  },
  {
   "cell_type": "code",
   "execution_count": null,
   "metadata": {},
   "outputs": [],
   "source": [
    "stacking_clf.get_params()"
   ]
  },
  {
   "cell_type": "code",
   "execution_count": null,
   "metadata": {},
   "outputs": [],
   "source": [
    "client.tracking_uri"
   ]
  },
  {
   "cell_type": "code",
   "execution_count": null,
   "metadata": {},
   "outputs": [],
   "source": [
    "client._registry_uri"
   ]
  },
  {
   "cell_type": "code",
   "execution_count": null,
   "metadata": {},
   "outputs": [],
   "source": [
    "stacked_clf_params = stacking_clf.get_params()"
   ]
  },
  {
   "cell_type": "code",
   "execution_count": null,
   "metadata": {},
   "outputs": [],
   "source": [
    "with mlflow.start_run(experiment_id = 141):\n",
    "    mlflow.log_params({key: value for key, value in stacked_clf_params.items() if value is not None})"
   ]
  },
  {
   "cell_type": "code",
   "execution_count": null,
   "metadata": {},
   "outputs": [],
   "source": [
    "{key: value for key, value in stacked_clf_params.items() if value is not None}"
   ]
  },
  {
   "cell_type": "code",
   "execution_count": null,
   "metadata": {},
   "outputs": [],
   "source": [
    "models = {'Logistic_Regression': LogisticRegression, \n",
    "                  'SGD_Classifier': SGDClassifier,\n",
    "                  'Random Forest': RandomForestClassifier, \n",
    "                  'Ada_Boost': AdaBoostClassifier, \n",
    "                  'Grad_Boost': GradientBoostingClassifier, \n",
    "                  'Bagging_Classifier': BaggingClassifier, \n",
    "                  'ExtraTreesClassifier': ExtraTreesClassifier, \n",
    "                  'Hist_Grad_Boost_Classifier': HistGradientBoostingClassifier, \n",
    "                  'Decision_Tree_Classifier': DecisionTreeClassifier,\n",
    "                  'XGB_Classifier': XGBClassifier,\n",
    "                  'KNN_Classifier': KNeighborsClassifier,\n",
    "                #   'Stacked_Classifier' : StackingClassifier,\n",
    "                #   'Voting_Classifier' : VotingClassifier\n",
    "                  }\n",
    "estimators = list(zip(models.keys(), [i() for i in models.values()]))#[value() if key != 'XGB_Classifier' else 'XGBClassifier()' for key,value in models.items()]))\n",
    "estimators"
   ]
  },
  {
   "cell_type": "code",
   "execution_count": null,
   "metadata": {},
   "outputs": [],
   "source": [
    "for i in range(len(estimators)):\n",
    "    if estimators[i][0] == 'XGB_Classifier':\n",
    "        xgb_params = {key: value for key, value in estimators[i][1].get_params().items() if value is not None}\n",
    "\n",
    "xgb_params"
   ]
  },
  {
   "cell_type": "code",
   "execution_count": null,
   "metadata": {},
   "outputs": [],
   "source": [
    "xgb_params"
   ]
  },
  {
   "cell_type": "code",
   "execution_count": null,
   "metadata": {},
   "outputs": [],
   "source": [
    "new_str"
   ]
  },
  {
   "cell_type": "code",
   "execution_count": null,
   "metadata": {},
   "outputs": [],
   "source": [
    "estimators"
   ]
  },
  {
   "cell_type": "code",
   "execution_count": null,
   "metadata": {},
   "outputs": [],
   "source": [
    "for i in range(len(estimators)):\n",
    "    if estimators[i][0] == 'XGB_Classifier':\n",
    "        estimators[i][1].set_params(**xgb_params)"
   ]
  },
  {
   "cell_type": "code",
   "execution_count": null,
   "metadata": {},
   "outputs": [],
   "source": [
    "str(estimators)"
   ]
  },
  {
   "cell_type": "code",
   "execution_count": null,
   "metadata": {},
   "outputs": [],
   "source": [
    "new_params = {'estimators' : estimators,\n",
    "              'XGB_Classifier' : 'XGBClassifier()',\n",
    "              'final_estimator' : 'XGBClassifier()',\n",
    "              'stack_method' : 'auto',\n",
    "              'passthrough' : 'True',\n",
    "              'xgb_params': xgb_params}"
   ]
  },
  {
   "cell_type": "code",
   "execution_count": null,
   "metadata": {},
   "outputs": [],
   "source": [
    "new_params"
   ]
  },
  {
   "cell_type": "code",
   "execution_count": null,
   "metadata": {},
   "outputs": [],
   "source": [
    "with mlflow.start_run(experiment_id = 141):\n",
    "    mlflow.log_params(new_params)\n",
    "    # mlflow.log_param(key = 'XGBClassifier',\n",
    "    #                  value = XGBClassifier())\n",
    "    # mlflow.log_param(key = 'final_estimator',\n",
    "    #                  value = XGBClassifier())"
   ]
  },
  {
   "cell_type": "code",
   "execution_count": null,
   "metadata": {},
   "outputs": [],
   "source": [
    "stacked_run = mlflow.get_run('aaaec579ec5f4a63bad4dd03a8c6f1ae')"
   ]
  },
  {
   "cell_type": "code",
   "execution_count": null,
   "metadata": {},
   "outputs": [],
   "source": [
    "import numpy as np\n",
    "run_params = {}\n",
    "for key,value in stacked_run.data.params.items():\n",
    "    try:\n",
    "        run_params[key] = eval(value)\n",
    "    except:\n",
    "        run_params[key] = value\n",
    "        if value == 'nan':\n",
    "                            run_params[key] = np.nan\n",
    "run_params"
   ]
  },
  {
   "cell_type": "code",
   "execution_count": null,
   "metadata": {},
   "outputs": [],
   "source": []
  },
  {
   "cell_type": "code",
   "execution_count": null,
   "metadata": {},
   "outputs": [],
   "source": [
    "run_params['xgb_params'] = run_params['xgb_params'].replace(\"nan\",'None')\n",
    "xgb_params_ = eval(run_params['xgb_params'])\n",
    "xgb_params['missing'] = np.nan\n",
    "xgb_params"
   ]
  },
  {
   "cell_type": "code",
   "execution_count": null,
   "metadata": {},
   "outputs": [],
   "source": [
    "run_params['estimators'].append(('XGBClassifier',run_params['XGB_Classifier'].set_params(**xgb_params)))"
   ]
  },
  {
   "cell_type": "code",
   "execution_count": null,
   "metadata": {},
   "outputs": [],
   "source": [
    "run_params"
   ]
  },
  {
   "cell_type": "code",
   "execution_count": null,
   "metadata": {},
   "outputs": [],
   "source": [
    "estimators"
   ]
  },
  {
   "cell_type": "code",
   "execution_count": null,
   "metadata": {},
   "outputs": [],
   "source": [
    "s_clf = StackingClassifier(estimators=estimators,\n",
    "                   final_estimator=XGBClassifier(),\n",
    "                   cv=5,\n",
    "                   stack_method = 'auto',\n",
    "                   passthrough=True)\n",
    "\n",
    "# estimators,\n",
    "# final_estimator,\n",
    "# cv,\n",
    "# stack_method,\n",
    "# passthrough\n",
    "s_clf.get_params()"
   ]
  },
  {
   "cell_type": "code",
   "execution_count": null,
   "metadata": {},
   "outputs": [],
   "source": [
    "s_clf.get_params()['estimators']\n",
    "s_clf.get_params()['final_estimator']\n",
    "s_clf.get_params()['cv']\n",
    "s_clf.get_params()['stack_method']\n",
    "s_clf.get_params()['passthrough']"
   ]
  },
  {
   "cell_type": "code",
   "execution_count": null,
   "metadata": {},
   "outputs": [],
   "source": [
    "s_clf.get_params()['estimators']"
   ]
  },
  {
   "cell_type": "code",
   "execution_count": null,
   "metadata": {},
   "outputs": [],
   "source": [
    "f\"{s_clf.get_params()['final_estimator'].__class__.__name__}_params\""
   ]
  },
  {
   "cell_type": "code",
   "execution_count": null,
   "metadata": {},
   "outputs": [],
   "source": [
    "flag = 0\n",
    "for i in range(len(s_clf.get_params()['estimators'])):\n",
    "    if 'XGB_Classifier' == s_clf.get_params()['estimators'][i][0]:\n",
    "        flag =1\n",
    "if flag == 1:\n",
    "    clf_list = []\n",
    "    for i in range(len(s_clf.get_params()['estimators'])):\n",
    "        if s_clf.get_params()['estimators'][i][0] != \"XGB_Classifier\":\n",
    "            clf_list.append(s_clf.get_params()['estimators'][i])\n",
    "    estimators_params = {}\n",
    "    for i in range(len(s_clf.get_params()['estimators'])):\n",
    "        estimators_params[s_clf.get_params()['estimators'][i][0]] = s_clf.get_params()['estimators'][i][1].get_params()\n",
    "        if 'XGB_Classifier' == s_clf.get_params()['estimators'][i][0]:\n",
    "            xgb_params = s_clf.get_params()['estimators'][i][1].get_params()\n",
    "    xgb_params = {key:value for key,value in xgb_params.items() if value is not None}\n",
    "    \n",
    "    if s_clf.get_params()['final_estimator'].__class__.__name__ == 'XGBClassifier':\n",
    "        s_clf_params = {'estimators' : clf_list,\n",
    "                'final_estimator' : 'XGBClassifier()',\n",
    "                'cv' : 8,#s_clf.get_params()['cv'],\n",
    "                'stack_method' : s_clf.get_params()['stack_method'],\n",
    "                'passthrough' : s_clf.get_params()['passthrough'],\n",
    "                'xgb_params' : xgb_params}\n",
    "    else:\n",
    "        s_clf_params = {'estimators' : clf_list,\n",
    "                'final_estimator' : s_clf.get_params()['final_estimator'],\n",
    "                'cv' : s_clf.get_params()['cv'],\n",
    "                'stack_method' : s_clf.get_params()['stack_method'],\n",
    "                'passthrough' : s_clf.get_params()['passthrough'],\n",
    "                'xgb_params' : xgb_params}\n",
    "\n",
    "    mlflow.log_params(s_clf_params)\n",
    "    mlflow.models.infer_signature(model_input=x_train,\n",
    "                              model_output = s_clf.predict(x_train))\n",
    "    mlflow.sklearn.log_model()\n",
    "    "
   ]
  },
  {
   "cell_type": "code",
   "execution_count": null,
   "metadata": {},
   "outputs": [],
   "source": [
    "s_clf.fit(x_train,y_train)"
   ]
  },
  {
   "cell_type": "code",
   "execution_count": null,
   "metadata": {},
   "outputs": [],
   "source": [
    "s_clf_params_ = s_clf.get_params()\n",
    "for key, value in s_clf_params_.items():\n",
    "    s_clf_params_[key] = str(value)\n",
    "signature = mlflow.models.infer_signature(model_input = x_train,\n",
    "                                          model_output = s_clf.predict(x_train),\n",
    "                                          params = s_clf_params_)"
   ]
  },
  {
   "cell_type": "code",
   "execution_count": null,
   "metadata": {},
   "outputs": [],
   "source": [
    "signature"
   ]
  },
  {
   "cell_type": "code",
   "execution_count": null,
   "metadata": {},
   "outputs": [],
   "source": [
    "for i in range(len(s_clf.get_params()['estimators'])):\n",
    "    if 'XGB_Classifier' == s_clf.get_params()['estimators'][i][0]:\n",
    "        xgb_params = s_clf.get_params()['estimators'][i][1].get_params()\n",
    "xgb_params = {key:value for key,value in xgb_params.items() if value is not None}\n",
    "xgb_params"
   ]
  },
  {
   "cell_type": "code",
   "execution_count": null,
   "metadata": {},
   "outputs": [],
   "source": [
    "xgb = XGBClassifier()"
   ]
  },
  {
   "cell_type": "code",
   "execution_count": null,
   "metadata": {},
   "outputs": [],
   "source": [
    "xgb_params = {key:value for key,value in xgb.get_params().items() if value is not None}\n",
    "xgb_params\n"
   ]
  },
  {
   "cell_type": "code",
   "execution_count": null,
   "metadata": {},
   "outputs": [],
   "source": [
    "s_clf_params"
   ]
  },
  {
   "cell_type": "code",
   "execution_count": null,
   "metadata": {},
   "outputs": [],
   "source": [
    "s_clf_params = {'estimators' : clf_list,\n",
    "          'final_estimator' : 'XGBClassifier()',\n",
    "          'cv' : s_clf.get_params()['cv'],\n",
    "          'stack_method' : s_clf.get_params()['stack_method'],\n",
    "          'passthrough' : s_clf.get_params()['passthrough'],\n",
    "          'xgb_params' : xgb_params}\n",
    "\n",
    "s_clf_params"
   ]
  },
  {
   "cell_type": "code",
   "execution_count": null,
   "metadata": {},
   "outputs": [],
   "source": [
    "trial_params = {'estimators': [('SGD_Classifier', SGDClassifier(loss='log_loss')), \n",
    "                ('Random Forest', RandomForestClassifier(class_weight='balanced_subsample', criterion='entropy', max_features=None, n_estimators=139)), \n",
    "                ('Hist_Grad_Boost_Classifier', HistGradientBoostingClassifier(max_iter=575)), \n",
    "                ('Bagging_Classifier', BaggingClassifier(n_estimators=59)), \n",
    "                ('Ada_Boost', AdaBoostClassifier(algorithm='SAMME', n_estimators=133)), \n",
    "                ('Grad_Boost', GradientBoostingClassifier(criterion='squared_error', loss='exponential', max_features='log2', n_estimators=143))], \n",
    " 'final_estimator': 'XGBClassifier()', \n",
    " 'cv': 5, \n",
    " 'stack_method': 'auto', \n",
    " 'passthrough': False, \n",
    " 'xgb_params': {'objective': 'binary:logistic', \n",
    "                'booster': 'dart', \n",
    "                'enable_categorical': False, \n",
    "                'learning_rate': 6.5697687477009445, \n",
    "                'missing': np.nan, \n",
    "                'n_estimators': 164, \n",
    "                'tree_method': 'hist'}\n",
    "}"
   ]
  },
  {
   "cell_type": "code",
   "execution_count": null,
   "metadata": {},
   "outputs": [],
   "source": [
    "trial_params['estimators'].append(('XGB_Classifier',XGBClassifier()))\n",
    "trial_params"
   ]
  },
  {
   "cell_type": "code",
   "execution_count": null,
   "metadata": {},
   "outputs": [],
   "source": [
    "trial_params['estimators']"
   ]
  },
  {
   "cell_type": "code",
   "execution_count": null,
   "metadata": {},
   "outputs": [],
   "source": [
    "s_clf.get_params()['final_estimator']"
   ]
  },
  {
   "cell_type": "code",
   "execution_count": null,
   "metadata": {},
   "outputs": [],
   "source": [
    "clf_list = []\n",
    "for i in range(len(trial_params['estimators'])):\n",
    "    clf_list.append((trial_params['estimators'][i][0],trial_params['estimators'][i][1].__class__()))\n",
    "\n",
    "estimators_params = {}\n",
    "for i in range(len(trial_params['estimators'])):\n",
    "        estimators_params[trial_params['estimators'][i][0]] = trial_params['estimators'][i][1].get_params()\n",
    "for i in estimators_params:\n",
    "        estimators_params[i] = {key:value for key,value in estimators_params[i].items() if value is not None}\n",
    "s_clf_params_trial_2 = {'estimators' : clf_list,\n",
    "                'final_estimator' : s_clf.get_params()['final_estimator'],\n",
    "                'cv' : s_clf.get_params()['cv'],\n",
    "                'stack_method' : s_clf.get_params()['stack_method'],\n",
    "                'passthrough' : s_clf.get_params()['passthrough']}\n",
    "for key,value in estimators_params.items():\n",
    "        s_clf_params_trial_2[f\"{key}_params\"] = value\n",
    "with mlflow.start_run(experiment_id = 154):\n",
    "    mlflow.log_params(s_clf_params_trial_2)"
   ]
  },
  {
   "cell_type": "code",
   "execution_count": null,
   "metadata": {},
   "outputs": [],
   "source": [
    "with mlflow.start_run(experiment_id = 154):\n",
    "    mlflow.log_params(s_clf_params_trial)"
   ]
  },
  {
   "cell_type": "code",
   "execution_count": null,
   "metadata": {},
   "outputs": [],
   "source": [
    "s_clf = StackingClassifier(estimators = trial_params['estimators'],\n",
    "                           final_estimator=RandomForestClassifier(class_weight='balanced_subsample', criterion='entropy',\n",
    "                         max_features=None, n_estimators=139),\n",
    "                           cv=5,\n",
    "                           stack_method = 'auto',\n",
    "                           passthrough=True)"
   ]
  },
  {
   "cell_type": "code",
   "execution_count": null,
   "metadata": {},
   "outputs": [],
   "source": [
    "s_clf"
   ]
  },
  {
   "cell_type": "code",
   "execution_count": null,
   "metadata": {},
   "outputs": [],
   "source": [
    "s_clf.get_params()['estimators'][5][1].__class__()"
   ]
  },
  {
   "cell_type": "code",
   "execution_count": null,
   "metadata": {},
   "outputs": [],
   "source": [
    "flag = 0\n",
    "for i in range(len(s_clf.get_params()['estimators'])):\n",
    "    if 'XGB_Classifier' == s_clf.get_params()['estimators'][i][0]:\n",
    "        flag =1\n",
    "if flag == 1:\n",
    "    clf_list = []\n",
    "    for i in range(len(s_clf.get_params()['estimators'])):\n",
    "        if s_clf.get_params()['estimators'][i][0] != \"XGB_Classifier\":\n",
    "            clf_list.append((s_clf.get_params()['estimators'][i][0],s_clf.get_params()['estimators'][i][1].__class__()))\n",
    "    estimators_params = {}\n",
    "    for i in range(len(s_clf.get_params()['estimators'])):\n",
    "        estimators_params[s_clf.get_params()['estimators'][i][0]] = s_clf.get_params()['estimators'][i][1].get_params()\n",
    "\n",
    "    for i in estimators_params:\n",
    "        estimators_params[i] = {key:value for key,value in estimators_params[i].items() if value is not None}\n",
    "    \n",
    "    if s_clf.get_params()['final_estimator'].__class__.__name__ == 'XGBClassifier':\n",
    "        \n",
    "            s_clf_params = {'estimators' : clf_list,\n",
    "                    'final_estimator' : 'XGBClassifier()',\n",
    "                    'cv' : s_clf.get_params()['cv'],\n",
    "                    'stack_method' : s_clf.get_params()['stack_method'],\n",
    "                    'passthrough' : s_clf.get_params()['passthrough']}\n",
    "            for key,value in estimators_params.items():\n",
    "                s_clf_params[f\"{key}_params\"] = value\n",
    "\n",
    "    else:\n",
    "        s_clf_params = {'estimators' : clf_list,\n",
    "                'final_estimator' : s_clf.get_params()['final_estimator'],\n",
    "                'cv' : s_clf.get_params()['cv'],\n",
    "                'stack_method' : s_clf.get_params()['stack_method'],\n",
    "                'passthrough' : s_clf.get_params()['passthrough']}\n",
    "        for key,value in estimators_params.items():\n",
    "                s_clf_params[f\"{key}_params\"] = value\n",
    "\n",
    "with mlflow.start_run(experiment_id = 154):\n",
    "    mlflow.log_params(s_clf_params)\n",
    "#     # mlflow.models.infer_signature(model_input=x_train,\n",
    "#     #                           model_output = s_clf.predict(x_train))\n",
    "#     # mlflow.sklearn.log_model()\n",
    "    "
   ]
  },
  {
   "cell_type": "code",
   "execution_count": null,
   "metadata": {},
   "outputs": [],
   "source": [
    "s_clf_params"
   ]
  },
  {
   "cell_type": "code",
   "execution_count": null,
   "metadata": {},
   "outputs": [],
   "source": [
    "s_clf.get_params()['final_estimator']"
   ]
  },
  {
   "cell_type": "code",
   "execution_count": null,
   "metadata": {},
   "outputs": [],
   "source": [
    "s_clf_params"
   ]
  },
  {
   "cell_type": "code",
   "execution_count": null,
   "metadata": {},
   "outputs": [],
   "source": [
    "s_clf.get_params()['estimators'][0][0]"
   ]
  },
  {
   "cell_type": "code",
   "execution_count": null,
   "metadata": {},
   "outputs": [],
   "source": [
    "estimators_params"
   ]
  },
  {
   "cell_type": "code",
   "execution_count": null,
   "metadata": {},
   "outputs": [],
   "source": [
    "s_clf.get_params()['final_estimator'].__class__.__name__ == 'XGBClassifier'"
   ]
  },
  {
   "cell_type": "code",
   "execution_count": null,
   "metadata": {},
   "outputs": [],
   "source": [
    "name_of_dictionary = \"my_dict\"\n",
    "globals()[name_of_dictionary] = {'hi':1}"
   ]
  },
  {
   "cell_type": "code",
   "execution_count": null,
   "metadata": {},
   "outputs": [],
   "source": [
    "name_of_dictionary"
   ]
  },
  {
   "cell_type": "code",
   "execution_count": null,
   "metadata": {},
   "outputs": [],
   "source": [
    "estimators_params['XGB_Classifier'].items()"
   ]
  },
  {
   "cell_type": "code",
   "execution_count": null,
   "metadata": {},
   "outputs": [],
   "source": [
    "with mlflow.start_run(experiment_id = 154):\n",
    "    mlflow.log_params(trial_params)"
   ]
  },
  {
   "cell_type": "code",
   "execution_count": null,
   "metadata": {},
   "outputs": [],
   "source": [
    "mlflow.models.infer_signature(model_input=x_train,\n",
    "                              model_output = s_clf.predict(x_train))"
   ]
  },
  {
   "cell_type": "code",
   "execution_count": null,
   "metadata": {},
   "outputs": [],
   "source": [
    "v_clf = VotingClassifier()"
   ]
  },
  {
   "cell_type": "code",
   "execution_count": null,
   "metadata": {},
   "outputs": [],
   "source": [
    "s_clf_run = client.get_run('3f360d91251446b488d0255f44ea1658')"
   ]
  },
  {
   "cell_type": "code",
   "execution_count": null,
   "metadata": {},
   "outputs": [],
   "source": [
    "best_model = mlflow.sklearn.load_model('mlflow-artifacts:/11856c6b7da848c38f85aa3ece46ad6c/3f360d91251446b488d0255f44ea1658/artifacts/optuna_Stacked_Classifier')"
   ]
  },
  {
   "cell_type": "code",
   "execution_count": null,
   "metadata": {},
   "outputs": [],
   "source": [
    "best_model.get_params()"
   ]
  },
  {
   "cell_type": "code",
   "execution_count": null,
   "metadata": {},
   "outputs": [],
   "source": [
    "s_clf_run.data.params"
   ]
  },
  {
   "cell_type": "code",
   "execution_count": null,
   "metadata": {},
   "outputs": [],
   "source": [
    "best_model1 = mlflow.sklearn.load_model('mlflow-artifacts:/11856c6b7da848c38f85aa3ece46ad6c/5c209d92a1174a5aaefc84258e073304/artifacts/optuna_Stacked_Classifier')\n",
    "best_model1.get_params()"
   ]
  },
  {
   "cell_type": "code",
   "execution_count": null,
   "metadata": {},
   "outputs": [],
   "source": [
    "import mlflow.xgboost"
   ]
  },
  {
   "cell_type": "code",
   "execution_count": null,
   "metadata": {},
   "outputs": [],
   "source": [
    "xgboost = mlflow.xgboost.load_model('mlflow-artifacts:/1cd799950ea74cae9dbec616b6b65993/acc08000975c49d7a3818110253855f1/artifacts/optuna_XGB_Classifier')"
   ]
  },
  {
   "cell_type": "code",
   "execution_count": null,
   "metadata": {},
   "outputs": [],
   "source": [
    "params = client.get_run('acc08000975c49d7a3818110253855f1').data.params"
   ]
  },
  {
   "cell_type": "code",
   "execution_count": null,
   "metadata": {},
   "outputs": [],
   "source": [
    "params"
   ]
  },
  {
   "cell_type": "code",
   "execution_count": null,
   "metadata": {},
   "outputs": [],
   "source": [
    "with mlflow.start_run(experiment_id='188'):\n",
    "    mlflow.log_params(params)"
   ]
  },
  {
   "cell_type": "code",
   "execution_count": null,
   "metadata": {},
   "outputs": [],
   "source": [
    "params_ = client.get_run('13ba590fba3f4584ba34cf81006dc31d').data.params"
   ]
  },
  {
   "cell_type": "code",
   "execution_count": null,
   "metadata": {},
   "outputs": [],
   "source": [
    "params_"
   ]
  },
  {
   "cell_type": "code",
   "execution_count": null,
   "metadata": {},
   "outputs": [],
   "source": [
    "rand_f_model = mlflow.sklearn.load_model(\"mlflow-artifacts:/489d8cb8991a4e58b57565bc00e31b9e/34cc0da17feb4e0ea750551a65809ba8/artifacts/optuna_Random Forest\")"
   ]
  },
  {
   "cell_type": "code",
   "execution_count": null,
   "metadata": {},
   "outputs": [],
   "source": [
    "rand_f_model.get_params()"
   ]
  },
  {
   "cell_type": "code",
   "execution_count": null,
   "metadata": {},
   "outputs": [],
   "source": [
    "rand_f_params = client.get_run('34cc0da17feb4e0ea750551a65809ba8').data.params\n",
    "rand_f_params"
   ]
  },
  {
   "cell_type": "code",
   "execution_count": null,
   "metadata": {},
   "outputs": [],
   "source": [
    "with mlflow.start_run(experiment_id='181'):\n",
    "    mlflow.log_params(rand_f_params)"
   ]
  },
  {
   "cell_type": "code",
   "execution_count": null,
   "metadata": {},
   "outputs": [],
   "source": []
  }
 ],
 "metadata": {
  "kernelspec": {
   "display_name": "Python 3",
   "language": "python",
   "name": "python3"
  },
  "language_info": {
   "codemirror_mode": {
    "name": "ipython",
    "version": 3
   },
   "file_extension": ".py",
   "mimetype": "text/x-python",
   "name": "python",
   "nbconvert_exporter": "python",
   "pygments_lexer": "ipython3",
   "version": "3.11.5"
  }
 },
 "nbformat": 4,
 "nbformat_minor": 2
}
