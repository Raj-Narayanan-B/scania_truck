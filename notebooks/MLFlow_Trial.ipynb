{
 "cells": [
  {
   "cell_type": "code",
   "execution_count": 2,
   "metadata": {},
   "outputs": [],
   "source": [
    "import dagshub\n",
    "import mlflow\n",
    "from mlflow.client import MlflowClient\n",
    "client = MlflowClient(tracking_uri='https://dagshub.com/Raj-Narayanan-B/StudentMLProjectRegression.mlflow',\n",
    "                      registry_uri='https://dagshub.com/Raj-Narayanan-B/StudentMLProjectRegression.mlflow')\n",
    "import pandas as pd\n",
    "import numpy as np\n",
    "import yaml\n",
    "import os\n",
    "import json\n",
    "from pathlib import Path #type: ignore\n",
    "\n",
    "from src.utils import load_yaml\n",
    "\n",
    "from sklearn.model_selection import train_test_split\n",
    "from sklearn.ensemble import RandomForestClassifier\n",
    "from sklearn.metrics import confusion_matrix\n",
    "from sklearn.neighbors import KNeighborsClassifier\n",
    "\n",
    "from sklearn.linear_model import LogisticRegression, SGDClassifier\n",
    "from sklearn.ensemble import (RandomForestClassifier, AdaBoostClassifier, \n",
    "                              GradientBoostingClassifier, BaggingClassifier, ExtraTreesClassifier, \n",
    "                              HistGradientBoostingClassifier, StackingClassifier, VotingClassifier)\n",
    "from sklearn.tree import DecisionTreeClassifier\n",
    "from xgboost import XGBClassifier\n",
    "# from catboost import CatBoostClassifier\n",
    "from sklearn.neighbors import KNeighborsClassifier\n",
    "from sklearn.neural_network import MLPClassifier\n",
    "import hyperopt\n",
    "from hyperopt.pyll.base import scope\n",
    "from hyperopt import hp, fmin, tpe, Trials, STATUS_OK, space_eval\n",
    "\n",
    "os.chdir('f:\\\\iNeuron\\\\Projects\\\\Scania_Truck_Failures')\n",
    "\n",
    "import mlflow.sklearn\n",
    "import mlflow.xgboost\n",
    "import mlflow.pyfunc"
   ]
  },
  {
   "cell_type": "code",
   "execution_count": 3,
   "metadata": {},
   "outputs": [],
   "source": [
    "os.environ['MLFLOW_TRACKING_URI'] = 'https://dagshub.com/Raj-Narayanan-B/StudentMLProjectRegression.mlflow'\n",
    "os.environ['MLFLOW_TRACKING_USERNAME'] = 'Raj-Narayanan-B'\n",
    "os.environ['MLFLOW_TRACKING_PASSWORD'] = '8af4cc66be8aec751397fd525e47ae395fa67442'"
   ]
  },
  {
   "cell_type": "code",
   "execution_count": 4,
   "metadata": {},
   "outputs": [
    {
     "data": {
      "text/plain": [
       "'https://dagshub.com/Raj-Narayanan-B/StudentMLProjectRegression.mlflow'"
      ]
     },
     "execution_count": 4,
     "metadata": {},
     "output_type": "execute_result"
    }
   ],
   "source": [
    "mlflow.get_tracking_uri()"
   ]
  },
  {
   "cell_type": "code",
   "execution_count": 4,
   "metadata": {},
   "outputs": [
    {
     "data": {
      "text/plain": [
       "[<FileInfo: file_size=None, is_dir=True, path='optuna_Logistic_Regression'>]"
      ]
     },
     "execution_count": 4,
     "metadata": {},
     "output_type": "execute_result"
    }
   ],
   "source": [
    "client.list_artifacts('c03a395f2448493aa7f2f5c4e066e0d3')"
   ]
  },
  {
   "cell_type": "code",
   "execution_count": null,
   "metadata": {},
   "outputs": [],
   "source": [
    "run_id = '7650b7097cb644d08b8fe61bb3065b15'\n",
    "filter_string=f\"tags.run_type ILIKE 'child'\"\n",
    "runs_df = mlflow.search_runs(experiment_ids=['60'])"
   ]
  },
  {
   "cell_type": "code",
   "execution_count": null,
   "metadata": {},
   "outputs": [],
   "source": [
    "runs_df['artifact_uri'][0]"
   ]
  },
  {
   "cell_type": "code",
   "execution_count": null,
   "metadata": {},
   "outputs": [],
   "source": [
    "best_run_id = mlflow.search_runs(experiment_ids=['60'],\n",
    "                        filter_string=filter_string,\n",
    "                        order_by = ['metrics.Cost'])[['run_id','artifact_uri','metrics.Cost']]['run_id'][0]\n",
    "best_run_id"
   ]
  },
  {
   "cell_type": "code",
   "execution_count": null,
   "metadata": {},
   "outputs": [],
   "source": [
    "mlflow.get_run(f'{best_run_id}')"
   ]
  },
  {
   "cell_type": "code",
   "execution_count": null,
   "metadata": {},
   "outputs": [],
   "source": [
    "artifact_path_name = json.loads(mlflow.get_run(f'{best_run_id}').data.tags['mlflow.log-model.history'])[0]['artifact_path']"
   ]
  },
  {
   "cell_type": "code",
   "execution_count": 4,
   "metadata": {},
   "outputs": [],
   "source": [
    "train_df = pd.read_csv(\"F:\\iNeuron\\Projects\\scania_failures_2\\\\artifacts\\data\\processed\\stage_2_processing\\processed_train_data.csv\")\n",
    "test_df = pd.read_csv(\"F:\\iNeuron\\Projects\\scania_failures_2\\\\artifacts\\data\\processed\\stage_2_processing\\processed_test_data.csv\")"
   ]
  },
  {
   "cell_type": "code",
   "execution_count": 5,
   "metadata": {},
   "outputs": [
    {
     "name": "stdout",
     "output_type": "stream",
     "text": [
      "(2202, 170) (720, 170) (2202,) (720,)\n",
      "class\n",
      "0    1101\n",
      "1    1101\n",
      "Name: count, dtype: int64\n",
      "class\n",
      "0    360\n",
      "1    360\n",
      "Name: count, dtype: int64\n"
     ]
    }
   ],
   "source": [
    "# x = df.drop(columns='class')\n",
    "# y = df['class']\n",
    "# # skf = StratifiedKFold()\n",
    "# x_train,x_test,y_train,y_test = train_test_split(x,y, test_size = 0.25, random_state=8)\n",
    "x_train,y_train = train_df.drop(columns='class'), train_df['class']\n",
    "x_test,y_test = test_df.drop(columns='class'), test_df['class']\n",
    "\n",
    "print(x_train.shape,x_test.shape,y_train.shape,y_test.shape)\n",
    "print(y_train.value_counts())\n",
    "print(y_test.value_counts())"
   ]
  },
  {
   "cell_type": "code",
   "execution_count": null,
   "metadata": {},
   "outputs": [],
   "source": [
    "params = {'hidden_layer_sizes': (500, 300, 200, 150)}"
   ]
  },
  {
   "cell_type": "code",
   "execution_count": null,
   "metadata": {},
   "outputs": [],
   "source": [
    "np.array(params['hidden_layer_sizes'])"
   ]
  },
  {
   "cell_type": "code",
   "execution_count": null,
   "metadata": {},
   "outputs": [],
   "source": [
    "{\"hidden_layer_sizes\": np.array(params['hidden_layer_sizes'])}"
   ]
  },
  {
   "cell_type": "code",
   "execution_count": null,
   "metadata": {},
   "outputs": [],
   "source": [
    "mlflow.models.infer_signature(x_train, y_test, {\"hidden_layer_sizes\": np.array(params['hidden_layer_sizes'])})"
   ]
  },
  {
   "cell_type": "code",
   "execution_count": null,
   "metadata": {},
   "outputs": [],
   "source": [
    "params"
   ]
  },
  {
   "cell_type": "code",
   "execution_count": null,
   "metadata": {},
   "outputs": [],
   "source": [
    "mlflow.log_params({\"hidden_layer_sizes\": [500, 300, 200, 150]})"
   ]
  },
  {
   "cell_type": "code",
   "execution_count": null,
   "metadata": {},
   "outputs": [],
   "source": [
    "mlflow.set_tracking_uri()"
   ]
  },
  {
   "cell_type": "code",
   "execution_count": null,
   "metadata": {},
   "outputs": [],
   "source": [
    "space = {'n_estimators': scope.int(hp.quniform('n_estimators', 100, 150, 1)),\n",
    "    'criterion': hp.choice('criterion', ['log_loss', 'entropy', 'gini']),\n",
    "    'max_features': hp.choice('max_features', ['sqrt', 'log2', None]),\n",
    "    'class_weight': hp.choice('class_weight', ['balanced', 'balanced_subsample'])}\n",
    "\n",
    "mlflow.start_run()\n",
    "\n",
    "mlflow.set_registry_uri\n",
    "def objective(space):\n",
    "    hp_rand_forest = RandomForestClassifier(**space)\n",
    "    hp_rand_forest.fit(x_train,y_train)\n",
    "    y_pred = hp_rand_forest.predict(x_test)\n",
    "    tn, fp, fn, tp = confusion_matrix(y_true=y_test, y_pred=y_pred).ravel()\n",
    "    cost = float((10*fp)+(500*fn))\n",
    "    return cost\n",
    "\n",
    "trials = Trials()\n",
    "best = fmin(fn= objective,\n",
    "            space= space,\n",
    "            algo= tpe.suggest,\n",
    "            max_evals = 1,\n",
    "            trials= trials)\n",
    "best_randf=space_eval(space,best)\n",
    "best_randf"
   ]
  },
  {
   "cell_type": "code",
   "execution_count": null,
   "metadata": {},
   "outputs": [],
   "source": [
    "import mlflow\n",
    "from sklearn.ensemble import StackingClassifier\n",
    "from sklearn.ensemble import RandomForestClassifier\n",
    "from sklearn.ensemble import GradientBoostingClassifier\n",
    "from sklearn.tree import DecisionTreeClassifier\n",
    "\n",
    "# Create base classifiers\n",
    "base_classifiers = [\n",
    "    ('rf', RandomForestClassifier(n_estimators=50)),\n",
    "    ('gb', GradientBoostingClassifier(n_estimators=50))\n",
    "]\n",
    "\n",
    "# Create stacking classifier\n",
    "stacking_clf = StackingClassifier(\n",
    "    estimators=base_classifiers,\n",
    "    final_estimator=DecisionTreeClassifier()\n",
    ")\n",
    "\n",
    "# Log parameters\n",
    "with mlflow.start_run():\n",
    "    mlflow.log_params({\n",
    "        'base_classifiers': base_classifiers,\n",
    "        'final_estimator': 'DecisionTreeClassifier'\n",
    "    })\n",
    "\n",
    "    # Train and log other metrics as needed\n",
    "    # ...\n",
    "\n",
    "# Close the MLflow run\n",
    "mlflow.end_run()\n"
   ]
  },
  {
   "cell_type": "code",
   "execution_count": null,
   "metadata": {},
   "outputs": [],
   "source": [
    "eval('RandomForestClassifier()')"
   ]
  },
  {
   "cell_type": "code",
   "execution_count": null,
   "metadata": {},
   "outputs": [],
   "source": [
    "base_classifiers = [\n",
    "    ('rf', RandomForestClassifier(n_estimators=50)),\n",
    "    ('gb', GradientBoostingClassifier(n_estimators=50))\n",
    "]\n",
    "\n",
    "params = {'be1':['rf1','RandomForestClassifier()']}\n",
    "\n",
    "mlflow.models.infer_signature(x_train, y_test, params)"
   ]
  },
  {
   "cell_type": "code",
   "execution_count": null,
   "metadata": {},
   "outputs": [],
   "source": [
    "with mlflow.start_run(experiment_id = 75):\n",
    "    mlflow.log_param(key = 'be1',\n",
    "                     value = {'rf1','RandomForestClassifier()'})"
   ]
  },
  {
   "cell_type": "code",
   "execution_count": null,
   "metadata": {},
   "outputs": [],
   "source": [
    "base_classifiers = [\n",
    "    ('rf', RandomForestClassifier(n_estimators=50)),\n",
    "    ('gb', GradientBoostingClassifier(n_estimators=50))\n",
    "]\n",
    "\n",
    "# Create stacking classifier\n",
    "stacking_clf = StackingClassifier(\n",
    "    estimators=base_classifiers,\n",
    "    final_estimator=DecisionTreeClassifier()\n",
    ")\n",
    "\n",
    "# # Log parameters\n",
    "# with mlflow.start_run(experiment_id = 75):\n",
    "#     mlflow.log_params({\n",
    "#         'base_classifiers': eval('base_classifiers'),\n",
    "#         'final_estimator': eval('DecisionTreeClassifier()')\n",
    "#     })"
   ]
  },
  {
   "cell_type": "code",
   "execution_count": null,
   "metadata": {},
   "outputs": [],
   "source": [
    "params = {\n",
    "        'base_classifiers': eval('base_classifiers'),\n",
    "        'final_estimator': eval('DecisionTreeClassifier()')\n",
    "    }"
   ]
  },
  {
   "cell_type": "code",
   "execution_count": null,
   "metadata": {},
   "outputs": [],
   "source": [
    "for key,value in params.items():\n",
    "    params[key] = str(value)\n",
    "\n",
    "params"
   ]
  },
  {
   "cell_type": "code",
   "execution_count": null,
   "metadata": {},
   "outputs": [],
   "source": [
    "mlflow.models.infer_signature(x_train, y_test, new_params)"
   ]
  },
  {
   "cell_type": "code",
   "execution_count": null,
   "metadata": {},
   "outputs": [],
   "source": [
    "base_classifiers = [\n",
    "    ('rf', RandomForestClassifier(n_estimators=50)),\n",
    "    ('gb', GradientBoostingClassifier(n_estimators=50))\n",
    "]\n",
    "str(eval('base_classifiers'))"
   ]
  },
  {
   "cell_type": "code",
   "execution_count": null,
   "metadata": {},
   "outputs": [],
   "source": [
    "eval('base_classifiers')"
   ]
  },
  {
   "cell_type": "code",
   "execution_count": 11,
   "metadata": {},
   "outputs": [
    {
     "name": "stdout",
     "output_type": "stream",
     "text": [
      "[2024-01-24 22:35:09,693: WARNING: connectionpool: Retrying (Retry(total=4, connect=5, read=4, redirect=5, status=5)) after connection broken by 'RemoteDisconnected('Remote end closed connection without response')': /Raj-Narayanan-B/StudentMLProjectRegression.mlflow/api/2.0/mlflow/runs/get?run_uuid=ad5d40a9fc33487f8e616dde699ef7ec&run_id=ad5d40a9fc33487f8e616dde699ef7ec]\n"
     ]
    }
   ],
   "source": [
    "new_params = client.get_run('ad5d40a9fc33487f8e616dde699ef7ec').data.params"
   ]
  },
  {
   "cell_type": "code",
   "execution_count": 12,
   "metadata": {},
   "outputs": [
    {
     "data": {
      "text/plain": [
       "{'cv': '5',\n",
       " 'estimators': \"[('KNN_Classifier', KNeighborsClassifier(algorithm='kd_tree', n_neighbors=8))]\",\n",
       " 'final_estimator__algorithm': 'kd_tree',\n",
       " 'final_estimator__leaf_size': '30',\n",
       " 'final_estimator__metric': 'minkowski',\n",
       " 'final_estimator__metric_params': 'None',\n",
       " 'final_estimator__n_jobs': 'None',\n",
       " 'final_estimator__n_neighbors': '8',\n",
       " 'final_estimator__p': '2',\n",
       " 'final_estimator__weights': 'uniform',\n",
       " 'final_estimator': \"KNeighborsClassifier(algorithm='kd_tree', n_neighbors=8)\",\n",
       " 'n_jobs': '-1',\n",
       " 'passthrough': 'False',\n",
       " 'stack_method': 'predict',\n",
       " 'verbose': '3',\n",
       " 'KNN_Classifier': \"KNeighborsClassifier(algorithm='kd_tree', n_neighbors=8)\",\n",
       " 'KNN_Classifier__algorithm': 'kd_tree',\n",
       " 'KNN_Classifier__leaf_size': '30',\n",
       " 'KNN_Classifier__metric': 'minkowski',\n",
       " 'KNN_Classifier__metric_params': 'None',\n",
       " 'KNN_Classifier__n_jobs': 'None',\n",
       " 'KNN_Classifier__n_neighbors': '8',\n",
       " 'KNN_Classifier__p': '2',\n",
       " 'KNN_Classifier__weights': 'uniform'}"
      ]
     },
     "execution_count": 12,
     "metadata": {},
     "output_type": "execute_result"
    }
   ],
   "source": [
    "new_params"
   ]
  },
  {
   "cell_type": "code",
   "execution_count": null,
   "metadata": {},
   "outputs": [],
   "source": [
    "eval(\"[('KNN_Classifier', KNeighborsClassifier(algorithm='kd_tree', n_neighbors=8))]\")"
   ]
  },
  {
   "cell_type": "code",
   "execution_count": 13,
   "metadata": {},
   "outputs": [
    {
     "data": {
      "text/plain": [
       "{'cv': 5,\n",
       " 'estimators': [('KNN_Classifier',\n",
       "   KNeighborsClassifier(algorithm='kd_tree', n_neighbors=8))],\n",
       " 'final_estimator__algorithm': 'kd_tree',\n",
       " 'final_estimator__leaf_size': 30,\n",
       " 'final_estimator__metric': 'minkowski',\n",
       " 'final_estimator__metric_params': None,\n",
       " 'final_estimator__n_jobs': None,\n",
       " 'final_estimator__n_neighbors': 8,\n",
       " 'final_estimator__p': 2,\n",
       " 'final_estimator__weights': 'uniform',\n",
       " 'final_estimator': KNeighborsClassifier(algorithm='kd_tree', n_neighbors=8),\n",
       " 'n_jobs': -1,\n",
       " 'passthrough': False,\n",
       " 'stack_method': 'predict',\n",
       " 'verbose': 3,\n",
       " 'KNN_Classifier': KNeighborsClassifier(algorithm='kd_tree', n_neighbors=8),\n",
       " 'KNN_Classifier__algorithm': 'kd_tree',\n",
       " 'KNN_Classifier__leaf_size': 30,\n",
       " 'KNN_Classifier__metric': 'minkowski',\n",
       " 'KNN_Classifier__metric_params': None,\n",
       " 'KNN_Classifier__n_jobs': None,\n",
       " 'KNN_Classifier__n_neighbors': 8,\n",
       " 'KNN_Classifier__p': 2,\n",
       " 'KNN_Classifier__weights': 'uniform'}"
      ]
     },
     "execution_count": 13,
     "metadata": {},
     "output_type": "execute_result"
    }
   ],
   "source": [
    "for key,value in new_params.items():\n",
    "                try:\n",
    "                    new_params[key] = eval(value)\n",
    "                except:\n",
    "                    new_params[key] = value\n",
    "                    if value == 'nan':\n",
    "                        new_params[key] = np.nan\n",
    "new_params                        "
   ]
  },
  {
   "cell_type": "code",
   "execution_count": 14,
   "metadata": {},
   "outputs": [],
   "source": [
    "processed_new_params = {key: value for key, value in new_params.items() if value is not None}"
   ]
  },
  {
   "cell_type": "code",
   "execution_count": 15,
   "metadata": {},
   "outputs": [
    {
     "data": {
      "text/plain": [
       "{'cv': 5,\n",
       " 'estimators': [('KNN_Classifier',\n",
       "   KNeighborsClassifier(algorithm='kd_tree', n_neighbors=8))],\n",
       " 'final_estimator__algorithm': 'kd_tree',\n",
       " 'final_estimator__leaf_size': 30,\n",
       " 'final_estimator__metric': 'minkowski',\n",
       " 'final_estimator__n_neighbors': 8,\n",
       " 'final_estimator__p': 2,\n",
       " 'final_estimator__weights': 'uniform',\n",
       " 'final_estimator': KNeighborsClassifier(algorithm='kd_tree', n_neighbors=8),\n",
       " 'n_jobs': -1,\n",
       " 'passthrough': False,\n",
       " 'stack_method': 'predict',\n",
       " 'verbose': 3,\n",
       " 'KNN_Classifier': KNeighborsClassifier(algorithm='kd_tree', n_neighbors=8),\n",
       " 'KNN_Classifier__algorithm': 'kd_tree',\n",
       " 'KNN_Classifier__leaf_size': 30,\n",
       " 'KNN_Classifier__metric': 'minkowski',\n",
       " 'KNN_Classifier__n_neighbors': 8,\n",
       " 'KNN_Classifier__p': 2,\n",
       " 'KNN_Classifier__weights': 'uniform'}"
      ]
     },
     "execution_count": 15,
     "metadata": {},
     "output_type": "execute_result"
    }
   ],
   "source": [
    "processed_new_params"
   ]
  },
  {
   "cell_type": "code",
   "execution_count": null,
   "metadata": {},
   "outputs": [],
   "source": [
    "stacking_clf_params = stacking_clf.get_params()\n",
    "for key, value in stacking_clf_params.items():\n",
    "    stacking_clf_params[key] = str(value)\n",
    "stacking_clf_params"
   ]
  },
  {
   "cell_type": "code",
   "execution_count": null,
   "metadata": {},
   "outputs": [],
   "source": [
    "exp_id_list = ['84','85','86']\n",
    "mlflow.search_runs(experiment_ids = exp_id_list,\n",
    "                            search_all_experiments = True,\n",
    "                            filter_string = f\"tags.run_type ilike 'parent'\")"
   ]
  },
  {
   "cell_type": "code",
   "execution_count": 18,
   "metadata": {},
   "outputs": [
    {
     "data": {
      "text/plain": [
       "'https://dagshub.com/Raj-Narayanan-B/StudentMLProjectRegression.mlflow'"
      ]
     },
     "execution_count": 18,
     "metadata": {},
     "output_type": "execute_result"
    }
   ],
   "source": [
    "client.tracking_uri"
   ]
  },
  {
   "cell_type": "code",
   "execution_count": 5,
   "metadata": {},
   "outputs": [],
   "source": [
    "models = {'Logistic_Regression': LogisticRegression, \n",
    "                  'SGD_Classifier': SGDClassifier,\n",
    "                  'Random Forest': RandomForestClassifier, \n",
    "                  'Ada_Boost': AdaBoostClassifier, \n",
    "                  'Grad_Boost': GradientBoostingClassifier, \n",
    "                  'Bagging_Classifier': BaggingClassifier, \n",
    "                  'ExtraTreesClassifier': ExtraTreesClassifier, \n",
    "                  'Hist_Grad_Boost_Classifier': HistGradientBoostingClassifier, \n",
    "                  'Decision_Tree_Classifier': DecisionTreeClassifier,\n",
    "                  'XGB_Classifier': XGBClassifier,\n",
    "                  'KNN_Classifier': KNeighborsClassifier,\n",
    "                  'Stacked_Classifier' : StackingClassifier,\n",
    "                  'Voting_Classifier' : VotingClassifier\n",
    "                  }\n",
    "\n",
    "for key in models.keys():\n",
    "    try:\n",
    "        client.delete_registered_model(f\"Challenger_{key}\")\n",
    "    except:\n",
    "        pass"
   ]
  },
  {
   "cell_type": "code",
   "execution_count": 6,
   "metadata": {},
   "outputs": [
    {
     "name": "stdout",
     "output_type": "stream",
     "text": [
      "269\n",
      "270\n",
      "271\n"
     ]
    }
   ],
   "source": [
    "for i in range(269,272):\n",
    "    try:\n",
    "        mlflow.delete_experiment(i)\n",
    "        print(i)\n",
    "    except:\n",
    "        pass"
   ]
  },
  {
   "cell_type": "code",
   "execution_count": null,
   "metadata": {},
   "outputs": [],
   "source": [
    "mlflow.delete_experiment('136389952941582973')"
   ]
  },
  {
   "cell_type": "code",
   "execution_count": null,
   "metadata": {},
   "outputs": [],
   "source": [
    "mlflow.delete_experiment('647179760550514699')"
   ]
  },
  {
   "cell_type": "code",
   "execution_count": null,
   "metadata": {},
   "outputs": [],
   "source": [
    "mlflow.delete_experiment('297515542365458558')"
   ]
  },
  {
   "cell_type": "code",
   "execution_count": null,
   "metadata": {},
   "outputs": [],
   "source": [
    "mlflow.get_tracking_uri()"
   ]
  },
  {
   "cell_type": "code",
   "execution_count": 10,
   "metadata": {},
   "outputs": [
    {
     "name": "stdout",
     "output_type": "stream",
     "text": [
      "1\n",
      "2\n",
      "3\n",
      "4\n",
      "5\n",
      "6\n",
      "7\n",
      "8\n",
      "9\n",
      "10\n",
      "11\n",
      "12\n",
      "13\n",
      "14\n",
      "15\n",
      "16\n",
      "17\n",
      "18\n",
      "19\n",
      "20\n",
      "21\n",
      "22\n",
      "23\n",
      "24\n",
      "25\n",
      "26\n",
      "27\n",
      "28\n",
      "29\n",
      "30\n",
      "31\n",
      "32\n",
      "33\n",
      "34\n",
      "35\n",
      "36\n",
      "37\n",
      "38\n",
      "39\n",
      "40\n",
      "41\n",
      "42\n",
      "43\n",
      "44\n",
      "45\n",
      "46\n",
      "47\n",
      "48\n",
      "49\n",
      "50\n",
      "51\n",
      "52\n",
      "53\n",
      "54\n",
      "55\n",
      "56\n",
      "57\n",
      "58\n",
      "59\n",
      "60\n",
      "61\n",
      "62\n",
      "63\n",
      "64\n",
      "65\n",
      "66\n",
      "67\n",
      "68\n",
      "69\n",
      "70\n",
      "71\n",
      "72\n",
      "73\n",
      "74\n",
      "75\n",
      "76\n",
      "77\n",
      "78\n",
      "79\n",
      "80\n",
      "81\n",
      "82\n",
      "83\n",
      "84\n",
      "85\n",
      "86\n",
      "87\n",
      "88\n",
      "89\n",
      "90\n",
      "91\n",
      "92\n",
      "93\n",
      "94\n",
      "95\n",
      "96\n",
      "97\n",
      "98\n",
      "99\n",
      "100\n",
      "101\n",
      "102\n",
      "103\n",
      "104\n",
      "105\n"
     ]
    }
   ],
   "source": [
    "for i in range(1,106):\n",
    "    try:\n",
    "        os.system(f'mlflow gc --experiment-ids {i}')\n",
    "        print(i)\n",
    "    except:\n",
    "        pass"
   ]
  },
  {
   "cell_type": "code",
   "execution_count": 19,
   "metadata": {},
   "outputs": [
    {
     "data": {
      "text/plain": [
       "[LogisticRegression(),\n",
       " SGDClassifier(),\n",
       " RandomForestClassifier(),\n",
       " AdaBoostClassifier(),\n",
       " GradientBoostingClassifier(),\n",
       " BaggingClassifier(),\n",
       " ExtraTreesClassifier(),\n",
       " HistGradientBoostingClassifier(),\n",
       " DecisionTreeClassifier(),\n",
       " XGBClassifier(base_score=None, booster=None, callbacks=None,\n",
       "               colsample_bylevel=None, colsample_bynode=None,\n",
       "               colsample_bytree=None, device=None, early_stopping_rounds=None,\n",
       "               enable_categorical=False, eval_metric=None, feature_types=None,\n",
       "               gamma=None, grow_policy=None, importance_type=None,\n",
       "               interaction_constraints=None, learning_rate=None, max_bin=None,\n",
       "               max_cat_threshold=None, max_cat_to_onehot=None,\n",
       "               max_delta_step=None, max_depth=None, max_leaves=None,\n",
       "               min_child_weight=None, missing=nan, monotone_constraints=None,\n",
       "               multi_strategy=None, n_estimators=None, n_jobs=None,\n",
       "               num_parallel_tree=None, random_state=None, ...),\n",
       " KNeighborsClassifier()]"
      ]
     },
     "execution_count": 19,
     "metadata": {},
     "output_type": "execute_result"
    }
   ],
   "source": [
    "[i() for i in models.values()]"
   ]
  },
  {
   "cell_type": "code",
   "execution_count": 479,
   "metadata": {},
   "outputs": [
    {
     "data": {
      "text/plain": [
       "[('Logistic_Regression', LogisticRegression()),\n",
       " ('SGD_Classifier', SGDClassifier()),\n",
       " ('Random Forest', RandomForestClassifier()),\n",
       " ('Ada_Boost', AdaBoostClassifier()),\n",
       " ('Grad_Boost', GradientBoostingClassifier()),\n",
       " ('Bagging_Classifier', BaggingClassifier()),\n",
       " ('ExtraTreesClassifier', ExtraTreesClassifier()),\n",
       " ('Hist_Grad_Boost_Classifier', HistGradientBoostingClassifier()),\n",
       " ('Decision_Tree_Classifier', DecisionTreeClassifier()),\n",
       " ('KNN_Classifier', KNeighborsClassifier())]"
      ]
     },
     "execution_count": 479,
     "metadata": {},
     "output_type": "execute_result"
    }
   ],
   "source": [
    "models = {'Logistic_Regression': LogisticRegression, \n",
    "                  'SGD_Classifier': SGDClassifier,\n",
    "                  'Random Forest': RandomForestClassifier, \n",
    "                  'Ada_Boost': AdaBoostClassifier, \n",
    "                  'Grad_Boost': GradientBoostingClassifier, \n",
    "                  'Bagging_Classifier': BaggingClassifier, \n",
    "                  'ExtraTreesClassifier': ExtraTreesClassifier, \n",
    "                  'Hist_Grad_Boost_Classifier': HistGradientBoostingClassifier, \n",
    "                  'Decision_Tree_Classifier': DecisionTreeClassifier,\n",
    "                  # 'XGB_Classifier': XGBClassifier,\n",
    "                  'KNN_Classifier': KNeighborsClassifier,\n",
    "                #   'Stacked_Classifier' : StackingClassifier,\n",
    "                #   'Voting_Classifier' : VotingClassifier\n",
    "                  }\n",
    "estimators = list(zip(models.keys(),[i() for i in models.values()]))\n",
    "estimators"
   ]
  },
  {
   "cell_type": "code",
   "execution_count": 21,
   "metadata": {},
   "outputs": [],
   "source": [
    "stacking_clf = StackingClassifier(estimators = estimators,\n",
    "                                  final_estimator = XGBClassifier(),\n",
    "                                  stack_method = 'auto',\n",
    "                                  passthrough=True)"
   ]
  },
  {
   "cell_type": "code",
   "execution_count": 22,
   "metadata": {},
   "outputs": [
    {
     "data": {
      "text/plain": [
       "{'cv': None,\n",
       " 'estimators': [('Logistic_Regression', LogisticRegression()),\n",
       "  ('SGD_Classifier', SGDClassifier()),\n",
       "  ('Random Forest', RandomForestClassifier()),\n",
       "  ('Ada_Boost', AdaBoostClassifier()),\n",
       "  ('Grad_Boost', GradientBoostingClassifier()),\n",
       "  ('Bagging_Classifier', BaggingClassifier()),\n",
       "  ('ExtraTreesClassifier', ExtraTreesClassifier()),\n",
       "  ('Hist_Grad_Boost_Classifier', HistGradientBoostingClassifier()),\n",
       "  ('Decision_Tree_Classifier', DecisionTreeClassifier()),\n",
       "  ('XGB_Classifier',\n",
       "   XGBClassifier(base_score=None, booster=None, callbacks=None,\n",
       "                 colsample_bylevel=None, colsample_bynode=None,\n",
       "                 colsample_bytree=None, device=None, early_stopping_rounds=None,\n",
       "                 enable_categorical=False, eval_metric=None, feature_types=None,\n",
       "                 gamma=None, grow_policy=None, importance_type=None,\n",
       "                 interaction_constraints=None, learning_rate=None, max_bin=None,\n",
       "                 max_cat_threshold=None, max_cat_to_onehot=None,\n",
       "                 max_delta_step=None, max_depth=None, max_leaves=None,\n",
       "                 min_child_weight=None, missing=nan, monotone_constraints=None,\n",
       "                 multi_strategy=None, n_estimators=None, n_jobs=None,\n",
       "                 num_parallel_tree=None, random_state=None, ...)),\n",
       "  ('KNN_Classifier', KNeighborsClassifier())],\n",
       " 'final_estimator__objective': 'binary:logistic',\n",
       " 'final_estimator__base_score': None,\n",
       " 'final_estimator__booster': None,\n",
       " 'final_estimator__callbacks': None,\n",
       " 'final_estimator__colsample_bylevel': None,\n",
       " 'final_estimator__colsample_bynode': None,\n",
       " 'final_estimator__colsample_bytree': None,\n",
       " 'final_estimator__device': None,\n",
       " 'final_estimator__early_stopping_rounds': None,\n",
       " 'final_estimator__enable_categorical': False,\n",
       " 'final_estimator__eval_metric': None,\n",
       " 'final_estimator__feature_types': None,\n",
       " 'final_estimator__gamma': None,\n",
       " 'final_estimator__grow_policy': None,\n",
       " 'final_estimator__importance_type': None,\n",
       " 'final_estimator__interaction_constraints': None,\n",
       " 'final_estimator__learning_rate': None,\n",
       " 'final_estimator__max_bin': None,\n",
       " 'final_estimator__max_cat_threshold': None,\n",
       " 'final_estimator__max_cat_to_onehot': None,\n",
       " 'final_estimator__max_delta_step': None,\n",
       " 'final_estimator__max_depth': None,\n",
       " 'final_estimator__max_leaves': None,\n",
       " 'final_estimator__min_child_weight': None,\n",
       " 'final_estimator__missing': nan,\n",
       " 'final_estimator__monotone_constraints': None,\n",
       " 'final_estimator__multi_strategy': None,\n",
       " 'final_estimator__n_estimators': None,\n",
       " 'final_estimator__n_jobs': None,\n",
       " 'final_estimator__num_parallel_tree': None,\n",
       " 'final_estimator__random_state': None,\n",
       " 'final_estimator__reg_alpha': None,\n",
       " 'final_estimator__reg_lambda': None,\n",
       " 'final_estimator__sampling_method': None,\n",
       " 'final_estimator__scale_pos_weight': None,\n",
       " 'final_estimator__subsample': None,\n",
       " 'final_estimator__tree_method': None,\n",
       " 'final_estimator__validate_parameters': None,\n",
       " 'final_estimator__verbosity': None,\n",
       " 'final_estimator': XGBClassifier(base_score=None, booster=None, callbacks=None,\n",
       "               colsample_bylevel=None, colsample_bynode=None,\n",
       "               colsample_bytree=None, device=None, early_stopping_rounds=None,\n",
       "               enable_categorical=False, eval_metric=None, feature_types=None,\n",
       "               gamma=None, grow_policy=None, importance_type=None,\n",
       "               interaction_constraints=None, learning_rate=None, max_bin=None,\n",
       "               max_cat_threshold=None, max_cat_to_onehot=None,\n",
       "               max_delta_step=None, max_depth=None, max_leaves=None,\n",
       "               min_child_weight=None, missing=nan, monotone_constraints=None,\n",
       "               multi_strategy=None, n_estimators=None, n_jobs=None,\n",
       "               num_parallel_tree=None, random_state=None, ...),\n",
       " 'n_jobs': None,\n",
       " 'passthrough': True,\n",
       " 'stack_method': 'auto',\n",
       " 'verbose': 0,\n",
       " 'Logistic_Regression': LogisticRegression(),\n",
       " 'SGD_Classifier': SGDClassifier(),\n",
       " 'Random Forest': RandomForestClassifier(),\n",
       " 'Ada_Boost': AdaBoostClassifier(),\n",
       " 'Grad_Boost': GradientBoostingClassifier(),\n",
       " 'Bagging_Classifier': BaggingClassifier(),\n",
       " 'ExtraTreesClassifier': ExtraTreesClassifier(),\n",
       " 'Hist_Grad_Boost_Classifier': HistGradientBoostingClassifier(),\n",
       " 'Decision_Tree_Classifier': DecisionTreeClassifier(),\n",
       " 'XGB_Classifier': XGBClassifier(base_score=None, booster=None, callbacks=None,\n",
       "               colsample_bylevel=None, colsample_bynode=None,\n",
       "               colsample_bytree=None, device=None, early_stopping_rounds=None,\n",
       "               enable_categorical=False, eval_metric=None, feature_types=None,\n",
       "               gamma=None, grow_policy=None, importance_type=None,\n",
       "               interaction_constraints=None, learning_rate=None, max_bin=None,\n",
       "               max_cat_threshold=None, max_cat_to_onehot=None,\n",
       "               max_delta_step=None, max_depth=None, max_leaves=None,\n",
       "               min_child_weight=None, missing=nan, monotone_constraints=None,\n",
       "               multi_strategy=None, n_estimators=None, n_jobs=None,\n",
       "               num_parallel_tree=None, random_state=None, ...),\n",
       " 'KNN_Classifier': KNeighborsClassifier(),\n",
       " 'Logistic_Regression__C': 1.0,\n",
       " 'Logistic_Regression__class_weight': None,\n",
       " 'Logistic_Regression__dual': False,\n",
       " 'Logistic_Regression__fit_intercept': True,\n",
       " 'Logistic_Regression__intercept_scaling': 1,\n",
       " 'Logistic_Regression__l1_ratio': None,\n",
       " 'Logistic_Regression__max_iter': 100,\n",
       " 'Logistic_Regression__multi_class': 'auto',\n",
       " 'Logistic_Regression__n_jobs': None,\n",
       " 'Logistic_Regression__penalty': 'l2',\n",
       " 'Logistic_Regression__random_state': None,\n",
       " 'Logistic_Regression__solver': 'lbfgs',\n",
       " 'Logistic_Regression__tol': 0.0001,\n",
       " 'Logistic_Regression__verbose': 0,\n",
       " 'Logistic_Regression__warm_start': False,\n",
       " 'SGD_Classifier__alpha': 0.0001,\n",
       " 'SGD_Classifier__average': False,\n",
       " 'SGD_Classifier__class_weight': None,\n",
       " 'SGD_Classifier__early_stopping': False,\n",
       " 'SGD_Classifier__epsilon': 0.1,\n",
       " 'SGD_Classifier__eta0': 0.0,\n",
       " 'SGD_Classifier__fit_intercept': True,\n",
       " 'SGD_Classifier__l1_ratio': 0.15,\n",
       " 'SGD_Classifier__learning_rate': 'optimal',\n",
       " 'SGD_Classifier__loss': 'hinge',\n",
       " 'SGD_Classifier__max_iter': 1000,\n",
       " 'SGD_Classifier__n_iter_no_change': 5,\n",
       " 'SGD_Classifier__n_jobs': None,\n",
       " 'SGD_Classifier__penalty': 'l2',\n",
       " 'SGD_Classifier__power_t': 0.5,\n",
       " 'SGD_Classifier__random_state': None,\n",
       " 'SGD_Classifier__shuffle': True,\n",
       " 'SGD_Classifier__tol': 0.001,\n",
       " 'SGD_Classifier__validation_fraction': 0.1,\n",
       " 'SGD_Classifier__verbose': 0,\n",
       " 'SGD_Classifier__warm_start': False,\n",
       " 'Random Forest__bootstrap': True,\n",
       " 'Random Forest__ccp_alpha': 0.0,\n",
       " 'Random Forest__class_weight': None,\n",
       " 'Random Forest__criterion': 'gini',\n",
       " 'Random Forest__max_depth': None,\n",
       " 'Random Forest__max_features': 'sqrt',\n",
       " 'Random Forest__max_leaf_nodes': None,\n",
       " 'Random Forest__max_samples': None,\n",
       " 'Random Forest__min_impurity_decrease': 0.0,\n",
       " 'Random Forest__min_samples_leaf': 1,\n",
       " 'Random Forest__min_samples_split': 2,\n",
       " 'Random Forest__min_weight_fraction_leaf': 0.0,\n",
       " 'Random Forest__n_estimators': 100,\n",
       " 'Random Forest__n_jobs': None,\n",
       " 'Random Forest__oob_score': False,\n",
       " 'Random Forest__random_state': None,\n",
       " 'Random Forest__verbose': 0,\n",
       " 'Random Forest__warm_start': False,\n",
       " 'Ada_Boost__algorithm': 'SAMME.R',\n",
       " 'Ada_Boost__base_estimator': 'deprecated',\n",
       " 'Ada_Boost__estimator': None,\n",
       " 'Ada_Boost__learning_rate': 1.0,\n",
       " 'Ada_Boost__n_estimators': 50,\n",
       " 'Ada_Boost__random_state': None,\n",
       " 'Grad_Boost__ccp_alpha': 0.0,\n",
       " 'Grad_Boost__criterion': 'friedman_mse',\n",
       " 'Grad_Boost__init': None,\n",
       " 'Grad_Boost__learning_rate': 0.1,\n",
       " 'Grad_Boost__loss': 'log_loss',\n",
       " 'Grad_Boost__max_depth': 3,\n",
       " 'Grad_Boost__max_features': None,\n",
       " 'Grad_Boost__max_leaf_nodes': None,\n",
       " 'Grad_Boost__min_impurity_decrease': 0.0,\n",
       " 'Grad_Boost__min_samples_leaf': 1,\n",
       " 'Grad_Boost__min_samples_split': 2,\n",
       " 'Grad_Boost__min_weight_fraction_leaf': 0.0,\n",
       " 'Grad_Boost__n_estimators': 100,\n",
       " 'Grad_Boost__n_iter_no_change': None,\n",
       " 'Grad_Boost__random_state': None,\n",
       " 'Grad_Boost__subsample': 1.0,\n",
       " 'Grad_Boost__tol': 0.0001,\n",
       " 'Grad_Boost__validation_fraction': 0.1,\n",
       " 'Grad_Boost__verbose': 0,\n",
       " 'Grad_Boost__warm_start': False,\n",
       " 'Bagging_Classifier__base_estimator': 'deprecated',\n",
       " 'Bagging_Classifier__bootstrap': True,\n",
       " 'Bagging_Classifier__bootstrap_features': False,\n",
       " 'Bagging_Classifier__estimator': None,\n",
       " 'Bagging_Classifier__max_features': 1.0,\n",
       " 'Bagging_Classifier__max_samples': 1.0,\n",
       " 'Bagging_Classifier__n_estimators': 10,\n",
       " 'Bagging_Classifier__n_jobs': None,\n",
       " 'Bagging_Classifier__oob_score': False,\n",
       " 'Bagging_Classifier__random_state': None,\n",
       " 'Bagging_Classifier__verbose': 0,\n",
       " 'Bagging_Classifier__warm_start': False,\n",
       " 'ExtraTreesClassifier__bootstrap': False,\n",
       " 'ExtraTreesClassifier__ccp_alpha': 0.0,\n",
       " 'ExtraTreesClassifier__class_weight': None,\n",
       " 'ExtraTreesClassifier__criterion': 'gini',\n",
       " 'ExtraTreesClassifier__max_depth': None,\n",
       " 'ExtraTreesClassifier__max_features': 'sqrt',\n",
       " 'ExtraTreesClassifier__max_leaf_nodes': None,\n",
       " 'ExtraTreesClassifier__max_samples': None,\n",
       " 'ExtraTreesClassifier__min_impurity_decrease': 0.0,\n",
       " 'ExtraTreesClassifier__min_samples_leaf': 1,\n",
       " 'ExtraTreesClassifier__min_samples_split': 2,\n",
       " 'ExtraTreesClassifier__min_weight_fraction_leaf': 0.0,\n",
       " 'ExtraTreesClassifier__n_estimators': 100,\n",
       " 'ExtraTreesClassifier__n_jobs': None,\n",
       " 'ExtraTreesClassifier__oob_score': False,\n",
       " 'ExtraTreesClassifier__random_state': None,\n",
       " 'ExtraTreesClassifier__verbose': 0,\n",
       " 'ExtraTreesClassifier__warm_start': False,\n",
       " 'Hist_Grad_Boost_Classifier__categorical_features': None,\n",
       " 'Hist_Grad_Boost_Classifier__class_weight': None,\n",
       " 'Hist_Grad_Boost_Classifier__early_stopping': 'auto',\n",
       " 'Hist_Grad_Boost_Classifier__interaction_cst': None,\n",
       " 'Hist_Grad_Boost_Classifier__l2_regularization': 0.0,\n",
       " 'Hist_Grad_Boost_Classifier__learning_rate': 0.1,\n",
       " 'Hist_Grad_Boost_Classifier__loss': 'log_loss',\n",
       " 'Hist_Grad_Boost_Classifier__max_bins': 255,\n",
       " 'Hist_Grad_Boost_Classifier__max_depth': None,\n",
       " 'Hist_Grad_Boost_Classifier__max_iter': 100,\n",
       " 'Hist_Grad_Boost_Classifier__max_leaf_nodes': 31,\n",
       " 'Hist_Grad_Boost_Classifier__min_samples_leaf': 20,\n",
       " 'Hist_Grad_Boost_Classifier__monotonic_cst': None,\n",
       " 'Hist_Grad_Boost_Classifier__n_iter_no_change': 10,\n",
       " 'Hist_Grad_Boost_Classifier__random_state': None,\n",
       " 'Hist_Grad_Boost_Classifier__scoring': 'loss',\n",
       " 'Hist_Grad_Boost_Classifier__tol': 1e-07,\n",
       " 'Hist_Grad_Boost_Classifier__validation_fraction': 0.1,\n",
       " 'Hist_Grad_Boost_Classifier__verbose': 0,\n",
       " 'Hist_Grad_Boost_Classifier__warm_start': False,\n",
       " 'Decision_Tree_Classifier__ccp_alpha': 0.0,\n",
       " 'Decision_Tree_Classifier__class_weight': None,\n",
       " 'Decision_Tree_Classifier__criterion': 'gini',\n",
       " 'Decision_Tree_Classifier__max_depth': None,\n",
       " 'Decision_Tree_Classifier__max_features': None,\n",
       " 'Decision_Tree_Classifier__max_leaf_nodes': None,\n",
       " 'Decision_Tree_Classifier__min_impurity_decrease': 0.0,\n",
       " 'Decision_Tree_Classifier__min_samples_leaf': 1,\n",
       " 'Decision_Tree_Classifier__min_samples_split': 2,\n",
       " 'Decision_Tree_Classifier__min_weight_fraction_leaf': 0.0,\n",
       " 'Decision_Tree_Classifier__random_state': None,\n",
       " 'Decision_Tree_Classifier__splitter': 'best',\n",
       " 'XGB_Classifier__objective': 'binary:logistic',\n",
       " 'XGB_Classifier__base_score': None,\n",
       " 'XGB_Classifier__booster': None,\n",
       " 'XGB_Classifier__callbacks': None,\n",
       " 'XGB_Classifier__colsample_bylevel': None,\n",
       " 'XGB_Classifier__colsample_bynode': None,\n",
       " 'XGB_Classifier__colsample_bytree': None,\n",
       " 'XGB_Classifier__device': None,\n",
       " 'XGB_Classifier__early_stopping_rounds': None,\n",
       " 'XGB_Classifier__enable_categorical': False,\n",
       " 'XGB_Classifier__eval_metric': None,\n",
       " 'XGB_Classifier__feature_types': None,\n",
       " 'XGB_Classifier__gamma': None,\n",
       " 'XGB_Classifier__grow_policy': None,\n",
       " 'XGB_Classifier__importance_type': None,\n",
       " 'XGB_Classifier__interaction_constraints': None,\n",
       " 'XGB_Classifier__learning_rate': None,\n",
       " 'XGB_Classifier__max_bin': None,\n",
       " 'XGB_Classifier__max_cat_threshold': None,\n",
       " 'XGB_Classifier__max_cat_to_onehot': None,\n",
       " 'XGB_Classifier__max_delta_step': None,\n",
       " 'XGB_Classifier__max_depth': None,\n",
       " 'XGB_Classifier__max_leaves': None,\n",
       " 'XGB_Classifier__min_child_weight': None,\n",
       " 'XGB_Classifier__missing': nan,\n",
       " 'XGB_Classifier__monotone_constraints': None,\n",
       " 'XGB_Classifier__multi_strategy': None,\n",
       " 'XGB_Classifier__n_estimators': None,\n",
       " 'XGB_Classifier__n_jobs': None,\n",
       " 'XGB_Classifier__num_parallel_tree': None,\n",
       " 'XGB_Classifier__random_state': None,\n",
       " 'XGB_Classifier__reg_alpha': None,\n",
       " 'XGB_Classifier__reg_lambda': None,\n",
       " 'XGB_Classifier__sampling_method': None,\n",
       " 'XGB_Classifier__scale_pos_weight': None,\n",
       " 'XGB_Classifier__subsample': None,\n",
       " 'XGB_Classifier__tree_method': None,\n",
       " 'XGB_Classifier__validate_parameters': None,\n",
       " 'XGB_Classifier__verbosity': None,\n",
       " 'KNN_Classifier__algorithm': 'auto',\n",
       " 'KNN_Classifier__leaf_size': 30,\n",
       " 'KNN_Classifier__metric': 'minkowski',\n",
       " 'KNN_Classifier__metric_params': None,\n",
       " 'KNN_Classifier__n_jobs': None,\n",
       " 'KNN_Classifier__n_neighbors': 5,\n",
       " 'KNN_Classifier__p': 2,\n",
       " 'KNN_Classifier__weights': 'uniform'}"
      ]
     },
     "execution_count": 22,
     "metadata": {},
     "output_type": "execute_result"
    }
   ],
   "source": [
    "stacking_clf.get_params()"
   ]
  },
  {
   "cell_type": "code",
   "execution_count": 23,
   "metadata": {},
   "outputs": [
    {
     "data": {
      "text/plain": [
       "'https://dagshub.com/Raj-Narayanan-B/StudentMLProjectRegression.mlflow'"
      ]
     },
     "execution_count": 23,
     "metadata": {},
     "output_type": "execute_result"
    }
   ],
   "source": [
    "client.tracking_uri"
   ]
  },
  {
   "cell_type": "code",
   "execution_count": 24,
   "metadata": {},
   "outputs": [
    {
     "data": {
      "text/plain": [
       "'https://dagshub.com/Raj-Narayanan-B/StudentMLProjectRegression.mlflow'"
      ]
     },
     "execution_count": 24,
     "metadata": {},
     "output_type": "execute_result"
    }
   ],
   "source": [
    "client._registry_uri"
   ]
  },
  {
   "cell_type": "code",
   "execution_count": 26,
   "metadata": {},
   "outputs": [],
   "source": [
    "stacked_clf_params = stacking_clf.get_params()"
   ]
  },
  {
   "cell_type": "code",
   "execution_count": 29,
   "metadata": {},
   "outputs": [
    {
     "ename": "RestException",
     "evalue": "INVALID_PARAMETER_VALUE: Response: {'error_code': 'INVALID_PARAMETER_VALUE'}",
     "output_type": "error",
     "traceback": [
      "\u001b[1;31m---------------------------------------------------------------------------\u001b[0m",
      "\u001b[1;31mRestException\u001b[0m                             Traceback (most recent call last)",
      "Cell \u001b[1;32mIn[29], line 2\u001b[0m\n\u001b[0;32m      1\u001b[0m \u001b[38;5;28;01mwith\u001b[39;00m mlflow\u001b[38;5;241m.\u001b[39mstart_run(experiment_id \u001b[38;5;241m=\u001b[39m \u001b[38;5;241m141\u001b[39m):\n\u001b[1;32m----> 2\u001b[0m     \u001b[43mmlflow\u001b[49m\u001b[38;5;241;43m.\u001b[39;49m\u001b[43mlog_params\u001b[49m\u001b[43m(\u001b[49m\u001b[43m{\u001b[49m\u001b[43mkey\u001b[49m\u001b[43m:\u001b[49m\u001b[43m \u001b[49m\u001b[43mvalue\u001b[49m\u001b[43m \u001b[49m\u001b[38;5;28;43;01mfor\u001b[39;49;00m\u001b[43m \u001b[49m\u001b[43mkey\u001b[49m\u001b[43m,\u001b[49m\u001b[43m \u001b[49m\u001b[43mvalue\u001b[49m\u001b[43m \u001b[49m\u001b[38;5;129;43;01min\u001b[39;49;00m\u001b[43m \u001b[49m\u001b[43mstacked_clf_params\u001b[49m\u001b[38;5;241;43m.\u001b[39;49m\u001b[43mitems\u001b[49m\u001b[43m(\u001b[49m\u001b[43m)\u001b[49m\u001b[43m \u001b[49m\u001b[38;5;28;43;01mif\u001b[39;49;00m\u001b[43m \u001b[49m\u001b[43mvalue\u001b[49m\u001b[43m \u001b[49m\u001b[38;5;129;43;01mis\u001b[39;49;00m\u001b[43m \u001b[49m\u001b[38;5;129;43;01mnot\u001b[39;49;00m\u001b[43m \u001b[49m\u001b[38;5;28;43;01mNone\u001b[39;49;00m\u001b[43m}\u001b[49m\u001b[43m)\u001b[49m\n",
      "File \u001b[1;32mf:\\iNeuron\\Projects\\scania_failures_2\\scania_truck\\Lib\\site-packages\\mlflow\\tracking\\fluent.py:863\u001b[0m, in \u001b[0;36mlog_params\u001b[1;34m(params, synchronous)\u001b[0m\n\u001b[0;32m    861\u001b[0m run_id \u001b[38;5;241m=\u001b[39m _get_or_start_run()\u001b[38;5;241m.\u001b[39minfo\u001b[38;5;241m.\u001b[39mrun_id\n\u001b[0;32m    862\u001b[0m params_arr \u001b[38;5;241m=\u001b[39m [Param(key, \u001b[38;5;28mstr\u001b[39m(value)) \u001b[38;5;28;01mfor\u001b[39;00m key, value \u001b[38;5;129;01min\u001b[39;00m params\u001b[38;5;241m.\u001b[39mitems()]\n\u001b[1;32m--> 863\u001b[0m \u001b[38;5;28;01mreturn\u001b[39;00m \u001b[43mMlflowClient\u001b[49m\u001b[43m(\u001b[49m\u001b[43m)\u001b[49m\u001b[38;5;241;43m.\u001b[39;49m\u001b[43mlog_batch\u001b[49m\u001b[43m(\u001b[49m\n\u001b[0;32m    864\u001b[0m \u001b[43m    \u001b[49m\u001b[43mrun_id\u001b[49m\u001b[38;5;241;43m=\u001b[39;49m\u001b[43mrun_id\u001b[49m\u001b[43m,\u001b[49m\u001b[43m \u001b[49m\u001b[43mmetrics\u001b[49m\u001b[38;5;241;43m=\u001b[39;49m\u001b[43m[\u001b[49m\u001b[43m]\u001b[49m\u001b[43m,\u001b[49m\u001b[43m \u001b[49m\u001b[43mparams\u001b[49m\u001b[38;5;241;43m=\u001b[39;49m\u001b[43mparams_arr\u001b[49m\u001b[43m,\u001b[49m\u001b[43m \u001b[49m\u001b[43mtags\u001b[49m\u001b[38;5;241;43m=\u001b[39;49m\u001b[43m[\u001b[49m\u001b[43m]\u001b[49m\u001b[43m,\u001b[49m\u001b[43m \u001b[49m\u001b[43msynchronous\u001b[49m\u001b[38;5;241;43m=\u001b[39;49m\u001b[43msynchronous\u001b[49m\n\u001b[0;32m    865\u001b[0m \u001b[43m\u001b[49m\u001b[43m)\u001b[49m\n",
      "File \u001b[1;32mf:\\iNeuron\\Projects\\scania_failures_2\\scania_truck\\Lib\\site-packages\\mlflow\\tracking\\client.py:1093\u001b[0m, in \u001b[0;36mMlflowClient.log_batch\u001b[1;34m(self, run_id, metrics, params, tags, synchronous)\u001b[0m\n\u001b[0;32m   1024\u001b[0m \u001b[38;5;28;01mdef\u001b[39;00m \u001b[38;5;21mlog_batch\u001b[39m(\n\u001b[0;32m   1025\u001b[0m     \u001b[38;5;28mself\u001b[39m,\n\u001b[0;32m   1026\u001b[0m     run_id: \u001b[38;5;28mstr\u001b[39m,\n\u001b[1;32m   (...)\u001b[0m\n\u001b[0;32m   1030\u001b[0m     synchronous: \u001b[38;5;28mbool\u001b[39m \u001b[38;5;241m=\u001b[39m \u001b[38;5;28;01mTrue\u001b[39;00m,\n\u001b[0;32m   1031\u001b[0m ) \u001b[38;5;241m-\u001b[39m\u001b[38;5;241m>\u001b[39m Optional[RunOperations]:\n\u001b[0;32m   1032\u001b[0m \u001b[38;5;250m    \u001b[39m\u001b[38;5;124;03m\"\"\"\u001b[39;00m\n\u001b[0;32m   1033\u001b[0m \u001b[38;5;124;03m    Log multiple metrics, params, and/or tags.\u001b[39;00m\n\u001b[0;32m   1034\u001b[0m \n\u001b[1;32m   (...)\u001b[0m\n\u001b[0;32m   1091\u001b[0m \u001b[38;5;124;03m        status: FINISHED\u001b[39;00m\n\u001b[0;32m   1092\u001b[0m \u001b[38;5;124;03m    \"\"\"\u001b[39;00m\n\u001b[1;32m-> 1093\u001b[0m     \u001b[38;5;28;01mreturn\u001b[39;00m \u001b[38;5;28;43mself\u001b[39;49m\u001b[38;5;241;43m.\u001b[39;49m\u001b[43m_tracking_client\u001b[49m\u001b[38;5;241;43m.\u001b[39;49m\u001b[43mlog_batch\u001b[49m\u001b[43m(\u001b[49m\n\u001b[0;32m   1094\u001b[0m \u001b[43m        \u001b[49m\u001b[43mrun_id\u001b[49m\u001b[43m,\u001b[49m\u001b[43m \u001b[49m\u001b[43mmetrics\u001b[49m\u001b[43m,\u001b[49m\u001b[43m \u001b[49m\u001b[43mparams\u001b[49m\u001b[43m,\u001b[49m\u001b[43m \u001b[49m\u001b[43mtags\u001b[49m\u001b[43m,\u001b[49m\u001b[43m \u001b[49m\u001b[43msynchronous\u001b[49m\u001b[38;5;241;43m=\u001b[39;49m\u001b[43msynchronous\u001b[49m\n\u001b[0;32m   1095\u001b[0m \u001b[43m    \u001b[49m\u001b[43m)\u001b[49m\n",
      "File \u001b[1;32mf:\\iNeuron\\Projects\\scania_failures_2\\scania_truck\\Lib\\site-packages\\mlflow\\tracking\\_tracking_service\\client.py:444\u001b[0m, in \u001b[0;36mTrackingServiceClient.log_batch\u001b[1;34m(self, run_id, metrics, params, tags, synchronous)\u001b[0m\n\u001b[0;32m    441\u001b[0m metrics \u001b[38;5;241m=\u001b[39m metrics[metrics_batch_size:]\n\u001b[0;32m    443\u001b[0m \u001b[38;5;28;01mif\u001b[39;00m synchronous:\n\u001b[1;32m--> 444\u001b[0m     \u001b[38;5;28;43mself\u001b[39;49m\u001b[38;5;241;43m.\u001b[39;49m\u001b[43mstore\u001b[49m\u001b[38;5;241;43m.\u001b[39;49m\u001b[43mlog_batch\u001b[49m\u001b[43m(\u001b[49m\n\u001b[0;32m    445\u001b[0m \u001b[43m        \u001b[49m\u001b[43mrun_id\u001b[49m\u001b[38;5;241;43m=\u001b[39;49m\u001b[43mrun_id\u001b[49m\u001b[43m,\u001b[49m\u001b[43m \u001b[49m\u001b[43mmetrics\u001b[49m\u001b[38;5;241;43m=\u001b[39;49m\u001b[43mmetrics_batch\u001b[49m\u001b[43m,\u001b[49m\u001b[43m \u001b[49m\u001b[43mparams\u001b[49m\u001b[38;5;241;43m=\u001b[39;49m\u001b[43mparams_batch\u001b[49m\u001b[43m,\u001b[49m\u001b[43m \u001b[49m\u001b[43mtags\u001b[49m\u001b[38;5;241;43m=\u001b[39;49m\u001b[43mtags_batch\u001b[49m\n\u001b[0;32m    446\u001b[0m \u001b[43m    \u001b[49m\u001b[43m)\u001b[49m\n\u001b[0;32m    447\u001b[0m \u001b[38;5;28;01melse\u001b[39;00m:\n\u001b[0;32m    448\u001b[0m     run_operations_list\u001b[38;5;241m.\u001b[39mappend(\n\u001b[0;32m    449\u001b[0m         \u001b[38;5;28mself\u001b[39m\u001b[38;5;241m.\u001b[39mstore\u001b[38;5;241m.\u001b[39mlog_batch_async(\n\u001b[0;32m    450\u001b[0m             run_id\u001b[38;5;241m=\u001b[39mrun_id,\n\u001b[1;32m   (...)\u001b[0m\n\u001b[0;32m    454\u001b[0m         )\n\u001b[0;32m    455\u001b[0m     )\n",
      "File \u001b[1;32mf:\\iNeuron\\Projects\\scania_failures_2\\scania_truck\\Lib\\site-packages\\mlflow\\store\\tracking\\rest_store.py:323\u001b[0m, in \u001b[0;36mRestStore.log_batch\u001b[1;34m(self, run_id, metrics, params, tags)\u001b[0m\n\u001b[0;32m    319\u001b[0m tag_protos \u001b[38;5;241m=\u001b[39m [tag\u001b[38;5;241m.\u001b[39mto_proto() \u001b[38;5;28;01mfor\u001b[39;00m tag \u001b[38;5;129;01min\u001b[39;00m tags]\n\u001b[0;32m    320\u001b[0m req_body \u001b[38;5;241m=\u001b[39m message_to_json(\n\u001b[0;32m    321\u001b[0m     LogBatch(metrics\u001b[38;5;241m=\u001b[39mmetric_protos, params\u001b[38;5;241m=\u001b[39mparam_protos, tags\u001b[38;5;241m=\u001b[39mtag_protos, run_id\u001b[38;5;241m=\u001b[39mrun_id)\n\u001b[0;32m    322\u001b[0m )\n\u001b[1;32m--> 323\u001b[0m \u001b[38;5;28;43mself\u001b[39;49m\u001b[38;5;241;43m.\u001b[39;49m\u001b[43m_call_endpoint\u001b[49m\u001b[43m(\u001b[49m\u001b[43mLogBatch\u001b[49m\u001b[43m,\u001b[49m\u001b[43m \u001b[49m\u001b[43mreq_body\u001b[49m\u001b[43m)\u001b[49m\n",
      "File \u001b[1;32mf:\\iNeuron\\Projects\\scania_failures_2\\scania_truck\\Lib\\site-packages\\mlflow\\store\\tracking\\rest_store.py:59\u001b[0m, in \u001b[0;36mRestStore._call_endpoint\u001b[1;34m(self, api, json_body)\u001b[0m\n\u001b[0;32m     57\u001b[0m endpoint, method \u001b[38;5;241m=\u001b[39m _METHOD_TO_INFO[api]\n\u001b[0;32m     58\u001b[0m response_proto \u001b[38;5;241m=\u001b[39m api\u001b[38;5;241m.\u001b[39mResponse()\n\u001b[1;32m---> 59\u001b[0m \u001b[38;5;28;01mreturn\u001b[39;00m \u001b[43mcall_endpoint\u001b[49m\u001b[43m(\u001b[49m\u001b[38;5;28;43mself\u001b[39;49m\u001b[38;5;241;43m.\u001b[39;49m\u001b[43mget_host_creds\u001b[49m\u001b[43m(\u001b[49m\u001b[43m)\u001b[49m\u001b[43m,\u001b[49m\u001b[43m \u001b[49m\u001b[43mendpoint\u001b[49m\u001b[43m,\u001b[49m\u001b[43m \u001b[49m\u001b[43mmethod\u001b[49m\u001b[43m,\u001b[49m\u001b[43m \u001b[49m\u001b[43mjson_body\u001b[49m\u001b[43m,\u001b[49m\u001b[43m \u001b[49m\u001b[43mresponse_proto\u001b[49m\u001b[43m)\u001b[49m\n",
      "File \u001b[1;32mf:\\iNeuron\\Projects\\scania_failures_2\\scania_truck\\Lib\\site-packages\\mlflow\\utils\\rest_utils.py:219\u001b[0m, in \u001b[0;36mcall_endpoint\u001b[1;34m(host_creds, endpoint, method, json_body, response_proto, extra_headers)\u001b[0m\n\u001b[0;32m    217\u001b[0m     call_kwargs[\u001b[38;5;124m\"\u001b[39m\u001b[38;5;124mjson\u001b[39m\u001b[38;5;124m\"\u001b[39m] \u001b[38;5;241m=\u001b[39m json_body\n\u001b[0;32m    218\u001b[0m     response \u001b[38;5;241m=\u001b[39m http_request(\u001b[38;5;241m*\u001b[39m\u001b[38;5;241m*\u001b[39mcall_kwargs)\n\u001b[1;32m--> 219\u001b[0m response \u001b[38;5;241m=\u001b[39m \u001b[43mverify_rest_response\u001b[49m\u001b[43m(\u001b[49m\u001b[43mresponse\u001b[49m\u001b[43m,\u001b[49m\u001b[43m \u001b[49m\u001b[43mendpoint\u001b[49m\u001b[43m)\u001b[49m\n\u001b[0;32m    220\u001b[0m js_dict \u001b[38;5;241m=\u001b[39m json\u001b[38;5;241m.\u001b[39mloads(response\u001b[38;5;241m.\u001b[39mtext)\n\u001b[0;32m    221\u001b[0m parse_dict(js_dict\u001b[38;5;241m=\u001b[39mjs_dict, message\u001b[38;5;241m=\u001b[39mresponse_proto)\n",
      "File \u001b[1;32mf:\\iNeuron\\Projects\\scania_failures_2\\scania_truck\\Lib\\site-packages\\mlflow\\utils\\rest_utils.py:151\u001b[0m, in \u001b[0;36mverify_rest_response\u001b[1;34m(response, endpoint)\u001b[0m\n\u001b[0;32m    149\u001b[0m \u001b[38;5;28;01mif\u001b[39;00m response\u001b[38;5;241m.\u001b[39mstatus_code \u001b[38;5;241m!=\u001b[39m \u001b[38;5;241m200\u001b[39m:\n\u001b[0;32m    150\u001b[0m     \u001b[38;5;28;01mif\u001b[39;00m _can_parse_as_json_object(response\u001b[38;5;241m.\u001b[39mtext):\n\u001b[1;32m--> 151\u001b[0m         \u001b[38;5;28;01mraise\u001b[39;00m RestException(json\u001b[38;5;241m.\u001b[39mloads(response\u001b[38;5;241m.\u001b[39mtext))\n\u001b[0;32m    152\u001b[0m     \u001b[38;5;28;01melse\u001b[39;00m:\n\u001b[0;32m    153\u001b[0m         base_msg \u001b[38;5;241m=\u001b[39m (\n\u001b[0;32m    154\u001b[0m             \u001b[38;5;124mf\u001b[39m\u001b[38;5;124m\"\u001b[39m\u001b[38;5;124mAPI request to endpoint \u001b[39m\u001b[38;5;132;01m{\u001b[39;00mendpoint\u001b[38;5;132;01m}\u001b[39;00m\u001b[38;5;124m \u001b[39m\u001b[38;5;124m\"\u001b[39m\n\u001b[0;32m    155\u001b[0m             \u001b[38;5;124mf\u001b[39m\u001b[38;5;124m\"\u001b[39m\u001b[38;5;124mfailed with error code \u001b[39m\u001b[38;5;132;01m{\u001b[39;00mresponse\u001b[38;5;241m.\u001b[39mstatus_code\u001b[38;5;132;01m}\u001b[39;00m\u001b[38;5;124m != 200\u001b[39m\u001b[38;5;124m\"\u001b[39m\n\u001b[0;32m    156\u001b[0m         )\n",
      "\u001b[1;31mRestException\u001b[0m: INVALID_PARAMETER_VALUE: Response: {'error_code': 'INVALID_PARAMETER_VALUE'}"
     ]
    }
   ],
   "source": [
    "with mlflow.start_run(experiment_id = 141):\n",
    "    mlflow.log_params({key: value for key, value in stacked_clf_params.items() if value is not None})"
   ]
  },
  {
   "cell_type": "code",
   "execution_count": 30,
   "metadata": {},
   "outputs": [
    {
     "data": {
      "text/plain": [
       "{'estimators': [('Logistic_Regression', LogisticRegression()),\n",
       "  ('SGD_Classifier', SGDClassifier()),\n",
       "  ('Random Forest', RandomForestClassifier()),\n",
       "  ('Ada_Boost', AdaBoostClassifier()),\n",
       "  ('Grad_Boost', GradientBoostingClassifier()),\n",
       "  ('Bagging_Classifier', BaggingClassifier()),\n",
       "  ('ExtraTreesClassifier', ExtraTreesClassifier()),\n",
       "  ('Hist_Grad_Boost_Classifier', HistGradientBoostingClassifier()),\n",
       "  ('Decision_Tree_Classifier', DecisionTreeClassifier()),\n",
       "  ('XGB_Classifier',\n",
       "   XGBClassifier(base_score=None, booster=None, callbacks=None,\n",
       "                 colsample_bylevel=None, colsample_bynode=None,\n",
       "                 colsample_bytree=None, device=None, early_stopping_rounds=None,\n",
       "                 enable_categorical=False, eval_metric=None, feature_types=None,\n",
       "                 gamma=None, grow_policy=None, importance_type=None,\n",
       "                 interaction_constraints=None, learning_rate=None, max_bin=None,\n",
       "                 max_cat_threshold=None, max_cat_to_onehot=None,\n",
       "                 max_delta_step=None, max_depth=None, max_leaves=None,\n",
       "                 min_child_weight=None, missing=nan, monotone_constraints=None,\n",
       "                 multi_strategy=None, n_estimators=None, n_jobs=None,\n",
       "                 num_parallel_tree=None, random_state=None, ...)),\n",
       "  ('KNN_Classifier', KNeighborsClassifier())],\n",
       " 'final_estimator__objective': 'binary:logistic',\n",
       " 'final_estimator__enable_categorical': False,\n",
       " 'final_estimator__missing': nan,\n",
       " 'final_estimator': XGBClassifier(base_score=None, booster=None, callbacks=None,\n",
       "               colsample_bylevel=None, colsample_bynode=None,\n",
       "               colsample_bytree=None, device=None, early_stopping_rounds=None,\n",
       "               enable_categorical=False, eval_metric=None, feature_types=None,\n",
       "               gamma=None, grow_policy=None, importance_type=None,\n",
       "               interaction_constraints=None, learning_rate=None, max_bin=None,\n",
       "               max_cat_threshold=None, max_cat_to_onehot=None,\n",
       "               max_delta_step=None, max_depth=None, max_leaves=None,\n",
       "               min_child_weight=None, missing=nan, monotone_constraints=None,\n",
       "               multi_strategy=None, n_estimators=None, n_jobs=None,\n",
       "               num_parallel_tree=None, random_state=None, ...),\n",
       " 'passthrough': True,\n",
       " 'stack_method': 'auto',\n",
       " 'verbose': 0,\n",
       " 'Logistic_Regression': LogisticRegression(),\n",
       " 'SGD_Classifier': SGDClassifier(),\n",
       " 'Random Forest': RandomForestClassifier(),\n",
       " 'Ada_Boost': AdaBoostClassifier(),\n",
       " 'Grad_Boost': GradientBoostingClassifier(),\n",
       " 'Bagging_Classifier': BaggingClassifier(),\n",
       " 'ExtraTreesClassifier': ExtraTreesClassifier(),\n",
       " 'Hist_Grad_Boost_Classifier': HistGradientBoostingClassifier(),\n",
       " 'Decision_Tree_Classifier': DecisionTreeClassifier(),\n",
       " 'XGB_Classifier': XGBClassifier(base_score=None, booster=None, callbacks=None,\n",
       "               colsample_bylevel=None, colsample_bynode=None,\n",
       "               colsample_bytree=None, device=None, early_stopping_rounds=None,\n",
       "               enable_categorical=False, eval_metric=None, feature_types=None,\n",
       "               gamma=None, grow_policy=None, importance_type=None,\n",
       "               interaction_constraints=None, learning_rate=None, max_bin=None,\n",
       "               max_cat_threshold=None, max_cat_to_onehot=None,\n",
       "               max_delta_step=None, max_depth=None, max_leaves=None,\n",
       "               min_child_weight=None, missing=nan, monotone_constraints=None,\n",
       "               multi_strategy=None, n_estimators=None, n_jobs=None,\n",
       "               num_parallel_tree=None, random_state=None, ...),\n",
       " 'KNN_Classifier': KNeighborsClassifier(),\n",
       " 'Logistic_Regression__C': 1.0,\n",
       " 'Logistic_Regression__dual': False,\n",
       " 'Logistic_Regression__fit_intercept': True,\n",
       " 'Logistic_Regression__intercept_scaling': 1,\n",
       " 'Logistic_Regression__max_iter': 100,\n",
       " 'Logistic_Regression__multi_class': 'auto',\n",
       " 'Logistic_Regression__penalty': 'l2',\n",
       " 'Logistic_Regression__solver': 'lbfgs',\n",
       " 'Logistic_Regression__tol': 0.0001,\n",
       " 'Logistic_Regression__verbose': 0,\n",
       " 'Logistic_Regression__warm_start': False,\n",
       " 'SGD_Classifier__alpha': 0.0001,\n",
       " 'SGD_Classifier__average': False,\n",
       " 'SGD_Classifier__early_stopping': False,\n",
       " 'SGD_Classifier__epsilon': 0.1,\n",
       " 'SGD_Classifier__eta0': 0.0,\n",
       " 'SGD_Classifier__fit_intercept': True,\n",
       " 'SGD_Classifier__l1_ratio': 0.15,\n",
       " 'SGD_Classifier__learning_rate': 'optimal',\n",
       " 'SGD_Classifier__loss': 'hinge',\n",
       " 'SGD_Classifier__max_iter': 1000,\n",
       " 'SGD_Classifier__n_iter_no_change': 5,\n",
       " 'SGD_Classifier__penalty': 'l2',\n",
       " 'SGD_Classifier__power_t': 0.5,\n",
       " 'SGD_Classifier__shuffle': True,\n",
       " 'SGD_Classifier__tol': 0.001,\n",
       " 'SGD_Classifier__validation_fraction': 0.1,\n",
       " 'SGD_Classifier__verbose': 0,\n",
       " 'SGD_Classifier__warm_start': False,\n",
       " 'Random Forest__bootstrap': True,\n",
       " 'Random Forest__ccp_alpha': 0.0,\n",
       " 'Random Forest__criterion': 'gini',\n",
       " 'Random Forest__max_features': 'sqrt',\n",
       " 'Random Forest__min_impurity_decrease': 0.0,\n",
       " 'Random Forest__min_samples_leaf': 1,\n",
       " 'Random Forest__min_samples_split': 2,\n",
       " 'Random Forest__min_weight_fraction_leaf': 0.0,\n",
       " 'Random Forest__n_estimators': 100,\n",
       " 'Random Forest__oob_score': False,\n",
       " 'Random Forest__verbose': 0,\n",
       " 'Random Forest__warm_start': False,\n",
       " 'Ada_Boost__algorithm': 'SAMME.R',\n",
       " 'Ada_Boost__base_estimator': 'deprecated',\n",
       " 'Ada_Boost__learning_rate': 1.0,\n",
       " 'Ada_Boost__n_estimators': 50,\n",
       " 'Grad_Boost__ccp_alpha': 0.0,\n",
       " 'Grad_Boost__criterion': 'friedman_mse',\n",
       " 'Grad_Boost__learning_rate': 0.1,\n",
       " 'Grad_Boost__loss': 'log_loss',\n",
       " 'Grad_Boost__max_depth': 3,\n",
       " 'Grad_Boost__min_impurity_decrease': 0.0,\n",
       " 'Grad_Boost__min_samples_leaf': 1,\n",
       " 'Grad_Boost__min_samples_split': 2,\n",
       " 'Grad_Boost__min_weight_fraction_leaf': 0.0,\n",
       " 'Grad_Boost__n_estimators': 100,\n",
       " 'Grad_Boost__subsample': 1.0,\n",
       " 'Grad_Boost__tol': 0.0001,\n",
       " 'Grad_Boost__validation_fraction': 0.1,\n",
       " 'Grad_Boost__verbose': 0,\n",
       " 'Grad_Boost__warm_start': False,\n",
       " 'Bagging_Classifier__base_estimator': 'deprecated',\n",
       " 'Bagging_Classifier__bootstrap': True,\n",
       " 'Bagging_Classifier__bootstrap_features': False,\n",
       " 'Bagging_Classifier__max_features': 1.0,\n",
       " 'Bagging_Classifier__max_samples': 1.0,\n",
       " 'Bagging_Classifier__n_estimators': 10,\n",
       " 'Bagging_Classifier__oob_score': False,\n",
       " 'Bagging_Classifier__verbose': 0,\n",
       " 'Bagging_Classifier__warm_start': False,\n",
       " 'ExtraTreesClassifier__bootstrap': False,\n",
       " 'ExtraTreesClassifier__ccp_alpha': 0.0,\n",
       " 'ExtraTreesClassifier__criterion': 'gini',\n",
       " 'ExtraTreesClassifier__max_features': 'sqrt',\n",
       " 'ExtraTreesClassifier__min_impurity_decrease': 0.0,\n",
       " 'ExtraTreesClassifier__min_samples_leaf': 1,\n",
       " 'ExtraTreesClassifier__min_samples_split': 2,\n",
       " 'ExtraTreesClassifier__min_weight_fraction_leaf': 0.0,\n",
       " 'ExtraTreesClassifier__n_estimators': 100,\n",
       " 'ExtraTreesClassifier__oob_score': False,\n",
       " 'ExtraTreesClassifier__verbose': 0,\n",
       " 'ExtraTreesClassifier__warm_start': False,\n",
       " 'Hist_Grad_Boost_Classifier__early_stopping': 'auto',\n",
       " 'Hist_Grad_Boost_Classifier__l2_regularization': 0.0,\n",
       " 'Hist_Grad_Boost_Classifier__learning_rate': 0.1,\n",
       " 'Hist_Grad_Boost_Classifier__loss': 'log_loss',\n",
       " 'Hist_Grad_Boost_Classifier__max_bins': 255,\n",
       " 'Hist_Grad_Boost_Classifier__max_iter': 100,\n",
       " 'Hist_Grad_Boost_Classifier__max_leaf_nodes': 31,\n",
       " 'Hist_Grad_Boost_Classifier__min_samples_leaf': 20,\n",
       " 'Hist_Grad_Boost_Classifier__n_iter_no_change': 10,\n",
       " 'Hist_Grad_Boost_Classifier__scoring': 'loss',\n",
       " 'Hist_Grad_Boost_Classifier__tol': 1e-07,\n",
       " 'Hist_Grad_Boost_Classifier__validation_fraction': 0.1,\n",
       " 'Hist_Grad_Boost_Classifier__verbose': 0,\n",
       " 'Hist_Grad_Boost_Classifier__warm_start': False,\n",
       " 'Decision_Tree_Classifier__ccp_alpha': 0.0,\n",
       " 'Decision_Tree_Classifier__criterion': 'gini',\n",
       " 'Decision_Tree_Classifier__min_impurity_decrease': 0.0,\n",
       " 'Decision_Tree_Classifier__min_samples_leaf': 1,\n",
       " 'Decision_Tree_Classifier__min_samples_split': 2,\n",
       " 'Decision_Tree_Classifier__min_weight_fraction_leaf': 0.0,\n",
       " 'Decision_Tree_Classifier__splitter': 'best',\n",
       " 'XGB_Classifier__objective': 'binary:logistic',\n",
       " 'XGB_Classifier__enable_categorical': False,\n",
       " 'XGB_Classifier__missing': nan,\n",
       " 'KNN_Classifier__algorithm': 'auto',\n",
       " 'KNN_Classifier__leaf_size': 30,\n",
       " 'KNN_Classifier__metric': 'minkowski',\n",
       " 'KNN_Classifier__n_neighbors': 5,\n",
       " 'KNN_Classifier__p': 2,\n",
       " 'KNN_Classifier__weights': 'uniform'}"
      ]
     },
     "execution_count": 30,
     "metadata": {},
     "output_type": "execute_result"
    }
   ],
   "source": [
    "{key: value for key, value in stacked_clf_params.items() if value is not None}"
   ]
  },
  {
   "cell_type": "code",
   "execution_count": 257,
   "metadata": {},
   "outputs": [
    {
     "data": {
      "text/plain": [
       "[('Logistic_Regression', LogisticRegression()),\n",
       " ('SGD_Classifier', SGDClassifier()),\n",
       " ('Random Forest', RandomForestClassifier()),\n",
       " ('Ada_Boost', AdaBoostClassifier()),\n",
       " ('Grad_Boost', GradientBoostingClassifier()),\n",
       " ('Bagging_Classifier', BaggingClassifier()),\n",
       " ('ExtraTreesClassifier', ExtraTreesClassifier()),\n",
       " ('Hist_Grad_Boost_Classifier', HistGradientBoostingClassifier()),\n",
       " ('Decision_Tree_Classifier', DecisionTreeClassifier()),\n",
       " ('XGB_Classifier',\n",
       "  XGBClassifier(base_score=None, booster=None, callbacks=None,\n",
       "                colsample_bylevel=None, colsample_bynode=None,\n",
       "                colsample_bytree=None, device=None, early_stopping_rounds=None,\n",
       "                enable_categorical=False, eval_metric=None, feature_types=None,\n",
       "                gamma=None, grow_policy=None, importance_type=None,\n",
       "                interaction_constraints=None, learning_rate=None, max_bin=None,\n",
       "                max_cat_threshold=None, max_cat_to_onehot=None,\n",
       "                max_delta_step=None, max_depth=None, max_leaves=None,\n",
       "                min_child_weight=None, missing=nan, monotone_constraints=None,\n",
       "                multi_strategy=None, n_estimators=None, n_jobs=None,\n",
       "                num_parallel_tree=None, random_state=None, ...)),\n",
       " ('KNN_Classifier', KNeighborsClassifier())]"
      ]
     },
     "execution_count": 257,
     "metadata": {},
     "output_type": "execute_result"
    }
   ],
   "source": [
    "models = {'Logistic_Regression': LogisticRegression, \n",
    "                  'SGD_Classifier': SGDClassifier,\n",
    "                  'Random Forest': RandomForestClassifier, \n",
    "                  'Ada_Boost': AdaBoostClassifier, \n",
    "                  'Grad_Boost': GradientBoostingClassifier, \n",
    "                  'Bagging_Classifier': BaggingClassifier, \n",
    "                  'ExtraTreesClassifier': ExtraTreesClassifier, \n",
    "                  'Hist_Grad_Boost_Classifier': HistGradientBoostingClassifier, \n",
    "                  'Decision_Tree_Classifier': DecisionTreeClassifier,\n",
    "                  'XGB_Classifier': XGBClassifier,\n",
    "                  'KNN_Classifier': KNeighborsClassifier,\n",
    "                #   'Stacked_Classifier' : StackingClassifier,\n",
    "                #   'Voting_Classifier' : VotingClassifier\n",
    "                  }\n",
    "estimators = list(zip(models.keys(), [i() for i in models.values()]))#[value() if key != 'XGB_Classifier' else 'XGBClassifier()' for key,value in models.items()]))\n",
    "estimators"
   ]
  },
  {
   "cell_type": "code",
   "execution_count": 104,
   "metadata": {},
   "outputs": [
    {
     "data": {
      "text/plain": [
       "{'objective': 'binary:logistic', 'enable_categorical': False, 'missing': nan}"
      ]
     },
     "execution_count": 104,
     "metadata": {},
     "output_type": "execute_result"
    }
   ],
   "source": [
    "for i in range(len(estimators)):\n",
    "    if estimators[i][0] == 'XGB_Classifier':\n",
    "        xgb_params = {key: value for key, value in estimators[i][1].get_params().items() if value is not None}\n",
    "\n",
    "xgb_params"
   ]
  },
  {
   "cell_type": "code",
   "execution_count": 158,
   "metadata": {},
   "outputs": [
    {
     "data": {
      "text/plain": [
       "{'objective': 'binary:logistic', 'enable_categorical': False, 'missing': nan}"
      ]
     },
     "execution_count": 158,
     "metadata": {},
     "output_type": "execute_result"
    }
   ],
   "source": [
    "xgb_params"
   ]
  },
  {
   "cell_type": "code",
   "execution_count": 92,
   "metadata": {},
   "outputs": [
    {
     "data": {
      "text/plain": [
       "'XGBClassifier(base_score=None, booster=None, callbacks=None, colsample_bylevel=None, colsample_bynode=None, colsample_bytree=None, device=None, early_stopping_rounds=None, enable_categorical=False, eval_metric=None, feature_types=None, gamma=None, grow_policy=None, importance_type=None, interaction_constraints=None, learning_rate=None, max_bin=None, max_cat_threshold=None, max_cat_to_onehot=None, max_delta_step=None, max_depth=None, max_leaves=None, min_child_weight=None, missing=nan, monotone_constraints=None, multi_strategy=None, n_estimators=None, n_jobs=None, num_parallel_tree=None, random_state=None, ...)'"
      ]
     },
     "execution_count": 92,
     "metadata": {},
     "output_type": "execute_result"
    }
   ],
   "source": [
    "new_str"
   ]
  },
  {
   "cell_type": "code",
   "execution_count": 154,
   "metadata": {},
   "outputs": [
    {
     "data": {
      "text/plain": [
       "[('Logistic_Regression', LogisticRegression()),\n",
       " ('SGD_Classifier', SGDClassifier()),\n",
       " ('Random Forest', RandomForestClassifier()),\n",
       " ('Ada_Boost', AdaBoostClassifier()),\n",
       " ('Grad_Boost', GradientBoostingClassifier()),\n",
       " ('Bagging_Classifier', BaggingClassifier()),\n",
       " ('ExtraTreesClassifier', ExtraTreesClassifier()),\n",
       " ('Hist_Grad_Boost_Classifier', HistGradientBoostingClassifier()),\n",
       " ('Decision_Tree_Classifier', DecisionTreeClassifier()),\n",
       " ('KNN_Classifier', KNeighborsClassifier())]"
      ]
     },
     "execution_count": 154,
     "metadata": {},
     "output_type": "execute_result"
    }
   ],
   "source": [
    "estimators"
   ]
  },
  {
   "cell_type": "code",
   "execution_count": 60,
   "metadata": {},
   "outputs": [],
   "source": [
    "for i in range(len(estimators)):\n",
    "    if estimators[i][0] == 'XGB_Classifier':\n",
    "        estimators[i][1].set_params(**xgb_params)"
   ]
  },
  {
   "cell_type": "code",
   "execution_count": 75,
   "metadata": {},
   "outputs": [
    {
     "data": {
      "text/plain": [
       "\"[('Logistic_Regression', LogisticRegression()), ('SGD_Classifier', SGDClassifier()), ('Random Forest', RandomForestClassifier()), ('Ada_Boost', AdaBoostClassifier()), ('Grad_Boost', GradientBoostingClassifier()), ('Bagging_Classifier', BaggingClassifier()), ('ExtraTreesClassifier', ExtraTreesClassifier()), ('Hist_Grad_Boost_Classifier', HistGradientBoostingClassifier()), ('Decision_Tree_Classifier', DecisionTreeClassifier()), ('KNN_Classifier', KNeighborsClassifier())]\""
      ]
     },
     "execution_count": 75,
     "metadata": {},
     "output_type": "execute_result"
    }
   ],
   "source": [
    "str(estimators)"
   ]
  },
  {
   "cell_type": "code",
   "execution_count": 191,
   "metadata": {},
   "outputs": [],
   "source": [
    "new_params = {'estimators' : estimators,\n",
    "              'XGB_Classifier' : 'XGBClassifier()',\n",
    "              'final_estimator' : 'XGBClassifier()',\n",
    "              'stack_method' : 'auto',\n",
    "              'passthrough' : 'True',\n",
    "              'xgb_params': xgb_params}"
   ]
  },
  {
   "cell_type": "code",
   "execution_count": 192,
   "metadata": {},
   "outputs": [
    {
     "data": {
      "text/plain": [
       "{'estimators': [('Logistic_Regression', LogisticRegression()),\n",
       "  ('SGD_Classifier', SGDClassifier()),\n",
       "  ('Random Forest', RandomForestClassifier()),\n",
       "  ('Ada_Boost', AdaBoostClassifier()),\n",
       "  ('Grad_Boost', GradientBoostingClassifier()),\n",
       "  ('Bagging_Classifier', BaggingClassifier()),\n",
       "  ('ExtraTreesClassifier', ExtraTreesClassifier()),\n",
       "  ('Hist_Grad_Boost_Classifier', HistGradientBoostingClassifier()),\n",
       "  ('Decision_Tree_Classifier', DecisionTreeClassifier()),\n",
       "  ('KNN_Classifier', KNeighborsClassifier())],\n",
       " 'XGB_Classifier': 'XGBClassifier()',\n",
       " 'final_estimator': 'XGBClassifier()',\n",
       " 'stack_method': 'auto',\n",
       " 'passthrough': 'True',\n",
       " 'xgb_params': {'objective': 'binary:logistic',\n",
       "  'enable_categorical': False,\n",
       "  'missing': nan}}"
      ]
     },
     "execution_count": 192,
     "metadata": {},
     "output_type": "execute_result"
    }
   ],
   "source": [
    "new_params"
   ]
  },
  {
   "cell_type": "code",
   "execution_count": 193,
   "metadata": {},
   "outputs": [
    {
     "name": "stdout",
     "output_type": "stream",
     "text": [
      "[2024-01-25 09:34:42,264: WARNING: connectionpool: Retrying (Retry(total=4, connect=5, read=4, redirect=5, status=5)) after connection broken by 'RemoteDisconnected('Remote end closed connection without response')': /Raj-Narayanan-B/StudentMLProjectRegression.mlflow/api/2.0/mlflow/runs/create]\n"
     ]
    }
   ],
   "source": [
    "with mlflow.start_run(experiment_id = 141):\n",
    "    mlflow.log_params(new_params)\n",
    "    # mlflow.log_param(key = 'XGBClassifier',\n",
    "    #                  value = XGBClassifier())\n",
    "    # mlflow.log_param(key = 'final_estimator',\n",
    "    #                  value = XGBClassifier())"
   ]
  },
  {
   "cell_type": "code",
   "execution_count": 194,
   "metadata": {},
   "outputs": [],
   "source": [
    "stacked_run = mlflow.get_run('aaaec579ec5f4a63bad4dd03a8c6f1ae')"
   ]
  },
  {
   "cell_type": "code",
   "execution_count": 236,
   "metadata": {},
   "outputs": [
    {
     "data": {
      "text/plain": [
       "{'estimators': [('Logistic_Regression', LogisticRegression()),\n",
       "  ('SGD_Classifier', SGDClassifier()),\n",
       "  ('Random Forest', RandomForestClassifier()),\n",
       "  ('Ada_Boost', AdaBoostClassifier()),\n",
       "  ('Grad_Boost', GradientBoostingClassifier()),\n",
       "  ('Bagging_Classifier', BaggingClassifier()),\n",
       "  ('ExtraTreesClassifier', ExtraTreesClassifier()),\n",
       "  ('Hist_Grad_Boost_Classifier', HistGradientBoostingClassifier()),\n",
       "  ('Decision_Tree_Classifier', DecisionTreeClassifier()),\n",
       "  ('KNN_Classifier', KNeighborsClassifier())],\n",
       " 'XGB_Classifier': XGBClassifier(base_score=None, booster=None, callbacks=None,\n",
       "               colsample_bylevel=None, colsample_bynode=None,\n",
       "               colsample_bytree=None, device=None, early_stopping_rounds=None,\n",
       "               enable_categorical=False, eval_metric=None, feature_types=None,\n",
       "               gamma=None, grow_policy=None, importance_type=None,\n",
       "               interaction_constraints=None, learning_rate=None, max_bin=None,\n",
       "               max_cat_threshold=None, max_cat_to_onehot=None,\n",
       "               max_delta_step=None, max_depth=None, max_leaves=None,\n",
       "               min_child_weight=None, missing=nan, monotone_constraints=None,\n",
       "               multi_strategy=None, n_estimators=None, n_jobs=None,\n",
       "               num_parallel_tree=None, random_state=None, ...),\n",
       " 'final_estimator': XGBClassifier(base_score=None, booster=None, callbacks=None,\n",
       "               colsample_bylevel=None, colsample_bynode=None,\n",
       "               colsample_bytree=None, device=None, early_stopping_rounds=None,\n",
       "               enable_categorical=False, eval_metric=None, feature_types=None,\n",
       "               gamma=None, grow_policy=None, importance_type=None,\n",
       "               interaction_constraints=None, learning_rate=None, max_bin=None,\n",
       "               max_cat_threshold=None, max_cat_to_onehot=None,\n",
       "               max_delta_step=None, max_depth=None, max_leaves=None,\n",
       "               min_child_weight=None, missing=nan, monotone_constraints=None,\n",
       "               multi_strategy=None, n_estimators=None, n_jobs=None,\n",
       "               num_parallel_tree=None, random_state=None, ...),\n",
       " 'stack_method': 'auto',\n",
       " 'passthrough': True,\n",
       " 'xgb_params': \"{'objective': 'binary:logistic', 'enable_categorical': False, 'missing': nan}\"}"
      ]
     },
     "execution_count": 236,
     "metadata": {},
     "output_type": "execute_result"
    }
   ],
   "source": [
    "import numpy as np\n",
    "run_params = {}\n",
    "for key,value in stacked_run.data.params.items():\n",
    "    try:\n",
    "        run_params[key] = eval(value)\n",
    "    except:\n",
    "        run_params[key] = value\n",
    "        if value == 'nan':\n",
    "                            run_params[key] = np.nan\n",
    "run_params"
   ]
  },
  {
   "cell_type": "code",
   "execution_count": 219,
   "metadata": {},
   "outputs": [],
   "source": []
  },
  {
   "cell_type": "code",
   "execution_count": 237,
   "metadata": {},
   "outputs": [
    {
     "data": {
      "text/plain": [
       "{'objective': 'binary:logistic', 'enable_categorical': False, 'missing': nan}"
      ]
     },
     "execution_count": 237,
     "metadata": {},
     "output_type": "execute_result"
    }
   ],
   "source": [
    "run_params['xgb_params'] = run_params['xgb_params'].replace(\"nan\",'None')\n",
    "xgb_params_ = eval(run_params['xgb_params'])\n",
    "xgb_params['missing'] = np.nan\n",
    "xgb_params"
   ]
  },
  {
   "cell_type": "code",
   "execution_count": 239,
   "metadata": {},
   "outputs": [],
   "source": [
    "run_params['estimators'].append(('XGBClassifier',run_params['XGB_Classifier'].set_params(**xgb_params)))"
   ]
  },
  {
   "cell_type": "code",
   "execution_count": 240,
   "metadata": {},
   "outputs": [
    {
     "data": {
      "text/plain": [
       "{'estimators': [('Logistic_Regression', LogisticRegression()),\n",
       "  ('SGD_Classifier', SGDClassifier()),\n",
       "  ('Random Forest', RandomForestClassifier()),\n",
       "  ('Ada_Boost', AdaBoostClassifier()),\n",
       "  ('Grad_Boost', GradientBoostingClassifier()),\n",
       "  ('Bagging_Classifier', BaggingClassifier()),\n",
       "  ('ExtraTreesClassifier', ExtraTreesClassifier()),\n",
       "  ('Hist_Grad_Boost_Classifier', HistGradientBoostingClassifier()),\n",
       "  ('Decision_Tree_Classifier', DecisionTreeClassifier()),\n",
       "  ('KNN_Classifier', KNeighborsClassifier()),\n",
       "  ('XGBClassifier',\n",
       "   XGBClassifier(base_score=None, booster=None, callbacks=None,\n",
       "                 colsample_bylevel=None, colsample_bynode=None,\n",
       "                 colsample_bytree=None, device=None, early_stopping_rounds=None,\n",
       "                 enable_categorical=False, eval_metric=None, feature_types=None,\n",
       "                 gamma=None, grow_policy=None, importance_type=None,\n",
       "                 interaction_constraints=None, learning_rate=None, max_bin=None,\n",
       "                 max_cat_threshold=None, max_cat_to_onehot=None,\n",
       "                 max_delta_step=None, max_depth=None, max_leaves=None,\n",
       "                 min_child_weight=None, missing=nan, monotone_constraints=None,\n",
       "                 multi_strategy=None, n_estimators=None, n_jobs=None,\n",
       "                 num_parallel_tree=None, random_state=None, ...))],\n",
       " 'XGB_Classifier': XGBClassifier(base_score=None, booster=None, callbacks=None,\n",
       "               colsample_bylevel=None, colsample_bynode=None,\n",
       "               colsample_bytree=None, device=None, early_stopping_rounds=None,\n",
       "               enable_categorical=False, eval_metric=None, feature_types=None,\n",
       "               gamma=None, grow_policy=None, importance_type=None,\n",
       "               interaction_constraints=None, learning_rate=None, max_bin=None,\n",
       "               max_cat_threshold=None, max_cat_to_onehot=None,\n",
       "               max_delta_step=None, max_depth=None, max_leaves=None,\n",
       "               min_child_weight=None, missing=nan, monotone_constraints=None,\n",
       "               multi_strategy=None, n_estimators=None, n_jobs=None,\n",
       "               num_parallel_tree=None, random_state=None, ...),\n",
       " 'final_estimator': XGBClassifier(base_score=None, booster=None, callbacks=None,\n",
       "               colsample_bylevel=None, colsample_bynode=None,\n",
       "               colsample_bytree=None, device=None, early_stopping_rounds=None,\n",
       "               enable_categorical=False, eval_metric=None, feature_types=None,\n",
       "               gamma=None, grow_policy=None, importance_type=None,\n",
       "               interaction_constraints=None, learning_rate=None, max_bin=None,\n",
       "               max_cat_threshold=None, max_cat_to_onehot=None,\n",
       "               max_delta_step=None, max_depth=None, max_leaves=None,\n",
       "               min_child_weight=None, missing=nan, monotone_constraints=None,\n",
       "               multi_strategy=None, n_estimators=None, n_jobs=None,\n",
       "               num_parallel_tree=None, random_state=None, ...),\n",
       " 'stack_method': 'auto',\n",
       " 'passthrough': True,\n",
       " 'xgb_params': \"{'objective': 'binary:logistic', 'enable_categorical': False, 'missing': None}\"}"
      ]
     },
     "execution_count": 240,
     "metadata": {},
     "output_type": "execute_result"
    }
   ],
   "source": [
    "run_params"
   ]
  },
  {
   "cell_type": "code",
   "execution_count": 354,
   "metadata": {},
   "outputs": [
    {
     "data": {
      "text/plain": [
       "[('Logistic_Regression', LogisticRegression()),\n",
       " ('SGD_Classifier', SGDClassifier()),\n",
       " ('Random Forest', RandomForestClassifier()),\n",
       " ('Ada_Boost', AdaBoostClassifier()),\n",
       " ('Grad_Boost', GradientBoostingClassifier()),\n",
       " ('Bagging_Classifier', BaggingClassifier()),\n",
       " ('ExtraTreesClassifier', ExtraTreesClassifier()),\n",
       " ('Hist_Grad_Boost_Classifier', HistGradientBoostingClassifier()),\n",
       " ('Decision_Tree_Classifier', DecisionTreeClassifier()),\n",
       " ('XGB_Classifier',\n",
       "  XGBClassifier(base_score=None, booster=None, callbacks=None,\n",
       "                colsample_bylevel=None, colsample_bynode=None,\n",
       "                colsample_bytree=None, device=None, early_stopping_rounds=None,\n",
       "                enable_categorical=False, eval_metric=None, feature_types=None,\n",
       "                gamma=None, grow_policy=None, importance_type=None,\n",
       "                interaction_constraints=None, learning_rate=None, max_bin=None,\n",
       "                max_cat_threshold=None, max_cat_to_onehot=None,\n",
       "                max_delta_step=None, max_depth=None, max_leaves=None,\n",
       "                min_child_weight=None, missing=nan, monotone_constraints=None,\n",
       "                multi_strategy=None, n_estimators=None, n_jobs=None,\n",
       "                num_parallel_tree=None, random_state=None, ...)),\n",
       " ('KNN_Classifier', KNeighborsClassifier())]"
      ]
     },
     "execution_count": 354,
     "metadata": {},
     "output_type": "execute_result"
    }
   ],
   "source": [
    "estimators"
   ]
  },
  {
   "cell_type": "code",
   "execution_count": 355,
   "metadata": {},
   "outputs": [
    {
     "data": {
      "text/plain": [
       "{'cv': 5,\n",
       " 'estimators': [('Logistic_Regression', LogisticRegression()),\n",
       "  ('SGD_Classifier', SGDClassifier()),\n",
       "  ('Random Forest', RandomForestClassifier()),\n",
       "  ('Ada_Boost', AdaBoostClassifier()),\n",
       "  ('Grad_Boost', GradientBoostingClassifier()),\n",
       "  ('Bagging_Classifier', BaggingClassifier()),\n",
       "  ('ExtraTreesClassifier', ExtraTreesClassifier()),\n",
       "  ('Hist_Grad_Boost_Classifier', HistGradientBoostingClassifier()),\n",
       "  ('Decision_Tree_Classifier', DecisionTreeClassifier()),\n",
       "  ('XGB_Classifier',\n",
       "   XGBClassifier(base_score=None, booster=None, callbacks=None,\n",
       "                 colsample_bylevel=None, colsample_bynode=None,\n",
       "                 colsample_bytree=None, device=None, early_stopping_rounds=None,\n",
       "                 enable_categorical=False, eval_metric=None, feature_types=None,\n",
       "                 gamma=None, grow_policy=None, importance_type=None,\n",
       "                 interaction_constraints=None, learning_rate=None, max_bin=None,\n",
       "                 max_cat_threshold=None, max_cat_to_onehot=None,\n",
       "                 max_delta_step=None, max_depth=None, max_leaves=None,\n",
       "                 min_child_weight=None, missing=nan, monotone_constraints=None,\n",
       "                 multi_strategy=None, n_estimators=None, n_jobs=None,\n",
       "                 num_parallel_tree=None, random_state=None, ...)),\n",
       "  ('KNN_Classifier', KNeighborsClassifier())],\n",
       " 'final_estimator__objective': 'binary:logistic',\n",
       " 'final_estimator__base_score': None,\n",
       " 'final_estimator__booster': None,\n",
       " 'final_estimator__callbacks': None,\n",
       " 'final_estimator__colsample_bylevel': None,\n",
       " 'final_estimator__colsample_bynode': None,\n",
       " 'final_estimator__colsample_bytree': None,\n",
       " 'final_estimator__device': None,\n",
       " 'final_estimator__early_stopping_rounds': None,\n",
       " 'final_estimator__enable_categorical': False,\n",
       " 'final_estimator__eval_metric': None,\n",
       " 'final_estimator__feature_types': None,\n",
       " 'final_estimator__gamma': None,\n",
       " 'final_estimator__grow_policy': None,\n",
       " 'final_estimator__importance_type': None,\n",
       " 'final_estimator__interaction_constraints': None,\n",
       " 'final_estimator__learning_rate': None,\n",
       " 'final_estimator__max_bin': None,\n",
       " 'final_estimator__max_cat_threshold': None,\n",
       " 'final_estimator__max_cat_to_onehot': None,\n",
       " 'final_estimator__max_delta_step': None,\n",
       " 'final_estimator__max_depth': None,\n",
       " 'final_estimator__max_leaves': None,\n",
       " 'final_estimator__min_child_weight': None,\n",
       " 'final_estimator__missing': nan,\n",
       " 'final_estimator__monotone_constraints': None,\n",
       " 'final_estimator__multi_strategy': None,\n",
       " 'final_estimator__n_estimators': None,\n",
       " 'final_estimator__n_jobs': None,\n",
       " 'final_estimator__num_parallel_tree': None,\n",
       " 'final_estimator__random_state': None,\n",
       " 'final_estimator__reg_alpha': None,\n",
       " 'final_estimator__reg_lambda': None,\n",
       " 'final_estimator__sampling_method': None,\n",
       " 'final_estimator__scale_pos_weight': None,\n",
       " 'final_estimator__subsample': None,\n",
       " 'final_estimator__tree_method': None,\n",
       " 'final_estimator__validate_parameters': None,\n",
       " 'final_estimator__verbosity': None,\n",
       " 'final_estimator': XGBClassifier(base_score=None, booster=None, callbacks=None,\n",
       "               colsample_bylevel=None, colsample_bynode=None,\n",
       "               colsample_bytree=None, device=None, early_stopping_rounds=None,\n",
       "               enable_categorical=False, eval_metric=None, feature_types=None,\n",
       "               gamma=None, grow_policy=None, importance_type=None,\n",
       "               interaction_constraints=None, learning_rate=None, max_bin=None,\n",
       "               max_cat_threshold=None, max_cat_to_onehot=None,\n",
       "               max_delta_step=None, max_depth=None, max_leaves=None,\n",
       "               min_child_weight=None, missing=nan, monotone_constraints=None,\n",
       "               multi_strategy=None, n_estimators=None, n_jobs=None,\n",
       "               num_parallel_tree=None, random_state=None, ...),\n",
       " 'n_jobs': None,\n",
       " 'passthrough': True,\n",
       " 'stack_method': 'auto',\n",
       " 'verbose': 0,\n",
       " 'Logistic_Regression': LogisticRegression(),\n",
       " 'SGD_Classifier': SGDClassifier(),\n",
       " 'Random Forest': RandomForestClassifier(),\n",
       " 'Ada_Boost': AdaBoostClassifier(),\n",
       " 'Grad_Boost': GradientBoostingClassifier(),\n",
       " 'Bagging_Classifier': BaggingClassifier(),\n",
       " 'ExtraTreesClassifier': ExtraTreesClassifier(),\n",
       " 'Hist_Grad_Boost_Classifier': HistGradientBoostingClassifier(),\n",
       " 'Decision_Tree_Classifier': DecisionTreeClassifier(),\n",
       " 'XGB_Classifier': XGBClassifier(base_score=None, booster=None, callbacks=None,\n",
       "               colsample_bylevel=None, colsample_bynode=None,\n",
       "               colsample_bytree=None, device=None, early_stopping_rounds=None,\n",
       "               enable_categorical=False, eval_metric=None, feature_types=None,\n",
       "               gamma=None, grow_policy=None, importance_type=None,\n",
       "               interaction_constraints=None, learning_rate=None, max_bin=None,\n",
       "               max_cat_threshold=None, max_cat_to_onehot=None,\n",
       "               max_delta_step=None, max_depth=None, max_leaves=None,\n",
       "               min_child_weight=None, missing=nan, monotone_constraints=None,\n",
       "               multi_strategy=None, n_estimators=None, n_jobs=None,\n",
       "               num_parallel_tree=None, random_state=None, ...),\n",
       " 'KNN_Classifier': KNeighborsClassifier(),\n",
       " 'Logistic_Regression__C': 1.0,\n",
       " 'Logistic_Regression__class_weight': None,\n",
       " 'Logistic_Regression__dual': False,\n",
       " 'Logistic_Regression__fit_intercept': True,\n",
       " 'Logistic_Regression__intercept_scaling': 1,\n",
       " 'Logistic_Regression__l1_ratio': None,\n",
       " 'Logistic_Regression__max_iter': 100,\n",
       " 'Logistic_Regression__multi_class': 'auto',\n",
       " 'Logistic_Regression__n_jobs': None,\n",
       " 'Logistic_Regression__penalty': 'l2',\n",
       " 'Logistic_Regression__random_state': None,\n",
       " 'Logistic_Regression__solver': 'lbfgs',\n",
       " 'Logistic_Regression__tol': 0.0001,\n",
       " 'Logistic_Regression__verbose': 0,\n",
       " 'Logistic_Regression__warm_start': False,\n",
       " 'SGD_Classifier__alpha': 0.0001,\n",
       " 'SGD_Classifier__average': False,\n",
       " 'SGD_Classifier__class_weight': None,\n",
       " 'SGD_Classifier__early_stopping': False,\n",
       " 'SGD_Classifier__epsilon': 0.1,\n",
       " 'SGD_Classifier__eta0': 0.0,\n",
       " 'SGD_Classifier__fit_intercept': True,\n",
       " 'SGD_Classifier__l1_ratio': 0.15,\n",
       " 'SGD_Classifier__learning_rate': 'optimal',\n",
       " 'SGD_Classifier__loss': 'hinge',\n",
       " 'SGD_Classifier__max_iter': 1000,\n",
       " 'SGD_Classifier__n_iter_no_change': 5,\n",
       " 'SGD_Classifier__n_jobs': None,\n",
       " 'SGD_Classifier__penalty': 'l2',\n",
       " 'SGD_Classifier__power_t': 0.5,\n",
       " 'SGD_Classifier__random_state': None,\n",
       " 'SGD_Classifier__shuffle': True,\n",
       " 'SGD_Classifier__tol': 0.001,\n",
       " 'SGD_Classifier__validation_fraction': 0.1,\n",
       " 'SGD_Classifier__verbose': 0,\n",
       " 'SGD_Classifier__warm_start': False,\n",
       " 'Random Forest__bootstrap': True,\n",
       " 'Random Forest__ccp_alpha': 0.0,\n",
       " 'Random Forest__class_weight': None,\n",
       " 'Random Forest__criterion': 'gini',\n",
       " 'Random Forest__max_depth': None,\n",
       " 'Random Forest__max_features': 'sqrt',\n",
       " 'Random Forest__max_leaf_nodes': None,\n",
       " 'Random Forest__max_samples': None,\n",
       " 'Random Forest__min_impurity_decrease': 0.0,\n",
       " 'Random Forest__min_samples_leaf': 1,\n",
       " 'Random Forest__min_samples_split': 2,\n",
       " 'Random Forest__min_weight_fraction_leaf': 0.0,\n",
       " 'Random Forest__n_estimators': 100,\n",
       " 'Random Forest__n_jobs': None,\n",
       " 'Random Forest__oob_score': False,\n",
       " 'Random Forest__random_state': None,\n",
       " 'Random Forest__verbose': 0,\n",
       " 'Random Forest__warm_start': False,\n",
       " 'Ada_Boost__algorithm': 'SAMME.R',\n",
       " 'Ada_Boost__base_estimator': 'deprecated',\n",
       " 'Ada_Boost__estimator': None,\n",
       " 'Ada_Boost__learning_rate': 1.0,\n",
       " 'Ada_Boost__n_estimators': 50,\n",
       " 'Ada_Boost__random_state': None,\n",
       " 'Grad_Boost__ccp_alpha': 0.0,\n",
       " 'Grad_Boost__criterion': 'friedman_mse',\n",
       " 'Grad_Boost__init': None,\n",
       " 'Grad_Boost__learning_rate': 0.1,\n",
       " 'Grad_Boost__loss': 'log_loss',\n",
       " 'Grad_Boost__max_depth': 3,\n",
       " 'Grad_Boost__max_features': None,\n",
       " 'Grad_Boost__max_leaf_nodes': None,\n",
       " 'Grad_Boost__min_impurity_decrease': 0.0,\n",
       " 'Grad_Boost__min_samples_leaf': 1,\n",
       " 'Grad_Boost__min_samples_split': 2,\n",
       " 'Grad_Boost__min_weight_fraction_leaf': 0.0,\n",
       " 'Grad_Boost__n_estimators': 100,\n",
       " 'Grad_Boost__n_iter_no_change': None,\n",
       " 'Grad_Boost__random_state': None,\n",
       " 'Grad_Boost__subsample': 1.0,\n",
       " 'Grad_Boost__tol': 0.0001,\n",
       " 'Grad_Boost__validation_fraction': 0.1,\n",
       " 'Grad_Boost__verbose': 0,\n",
       " 'Grad_Boost__warm_start': False,\n",
       " 'Bagging_Classifier__base_estimator': 'deprecated',\n",
       " 'Bagging_Classifier__bootstrap': True,\n",
       " 'Bagging_Classifier__bootstrap_features': False,\n",
       " 'Bagging_Classifier__estimator': None,\n",
       " 'Bagging_Classifier__max_features': 1.0,\n",
       " 'Bagging_Classifier__max_samples': 1.0,\n",
       " 'Bagging_Classifier__n_estimators': 10,\n",
       " 'Bagging_Classifier__n_jobs': None,\n",
       " 'Bagging_Classifier__oob_score': False,\n",
       " 'Bagging_Classifier__random_state': None,\n",
       " 'Bagging_Classifier__verbose': 0,\n",
       " 'Bagging_Classifier__warm_start': False,\n",
       " 'ExtraTreesClassifier__bootstrap': False,\n",
       " 'ExtraTreesClassifier__ccp_alpha': 0.0,\n",
       " 'ExtraTreesClassifier__class_weight': None,\n",
       " 'ExtraTreesClassifier__criterion': 'gini',\n",
       " 'ExtraTreesClassifier__max_depth': None,\n",
       " 'ExtraTreesClassifier__max_features': 'sqrt',\n",
       " 'ExtraTreesClassifier__max_leaf_nodes': None,\n",
       " 'ExtraTreesClassifier__max_samples': None,\n",
       " 'ExtraTreesClassifier__min_impurity_decrease': 0.0,\n",
       " 'ExtraTreesClassifier__min_samples_leaf': 1,\n",
       " 'ExtraTreesClassifier__min_samples_split': 2,\n",
       " 'ExtraTreesClassifier__min_weight_fraction_leaf': 0.0,\n",
       " 'ExtraTreesClassifier__n_estimators': 100,\n",
       " 'ExtraTreesClassifier__n_jobs': None,\n",
       " 'ExtraTreesClassifier__oob_score': False,\n",
       " 'ExtraTreesClassifier__random_state': None,\n",
       " 'ExtraTreesClassifier__verbose': 0,\n",
       " 'ExtraTreesClassifier__warm_start': False,\n",
       " 'Hist_Grad_Boost_Classifier__categorical_features': None,\n",
       " 'Hist_Grad_Boost_Classifier__class_weight': None,\n",
       " 'Hist_Grad_Boost_Classifier__early_stopping': 'auto',\n",
       " 'Hist_Grad_Boost_Classifier__interaction_cst': None,\n",
       " 'Hist_Grad_Boost_Classifier__l2_regularization': 0.0,\n",
       " 'Hist_Grad_Boost_Classifier__learning_rate': 0.1,\n",
       " 'Hist_Grad_Boost_Classifier__loss': 'log_loss',\n",
       " 'Hist_Grad_Boost_Classifier__max_bins': 255,\n",
       " 'Hist_Grad_Boost_Classifier__max_depth': None,\n",
       " 'Hist_Grad_Boost_Classifier__max_iter': 100,\n",
       " 'Hist_Grad_Boost_Classifier__max_leaf_nodes': 31,\n",
       " 'Hist_Grad_Boost_Classifier__min_samples_leaf': 20,\n",
       " 'Hist_Grad_Boost_Classifier__monotonic_cst': None,\n",
       " 'Hist_Grad_Boost_Classifier__n_iter_no_change': 10,\n",
       " 'Hist_Grad_Boost_Classifier__random_state': None,\n",
       " 'Hist_Grad_Boost_Classifier__scoring': 'loss',\n",
       " 'Hist_Grad_Boost_Classifier__tol': 1e-07,\n",
       " 'Hist_Grad_Boost_Classifier__validation_fraction': 0.1,\n",
       " 'Hist_Grad_Boost_Classifier__verbose': 0,\n",
       " 'Hist_Grad_Boost_Classifier__warm_start': False,\n",
       " 'Decision_Tree_Classifier__ccp_alpha': 0.0,\n",
       " 'Decision_Tree_Classifier__class_weight': None,\n",
       " 'Decision_Tree_Classifier__criterion': 'gini',\n",
       " 'Decision_Tree_Classifier__max_depth': None,\n",
       " 'Decision_Tree_Classifier__max_features': None,\n",
       " 'Decision_Tree_Classifier__max_leaf_nodes': None,\n",
       " 'Decision_Tree_Classifier__min_impurity_decrease': 0.0,\n",
       " 'Decision_Tree_Classifier__min_samples_leaf': 1,\n",
       " 'Decision_Tree_Classifier__min_samples_split': 2,\n",
       " 'Decision_Tree_Classifier__min_weight_fraction_leaf': 0.0,\n",
       " 'Decision_Tree_Classifier__random_state': None,\n",
       " 'Decision_Tree_Classifier__splitter': 'best',\n",
       " 'XGB_Classifier__objective': 'binary:logistic',\n",
       " 'XGB_Classifier__base_score': None,\n",
       " 'XGB_Classifier__booster': None,\n",
       " 'XGB_Classifier__callbacks': None,\n",
       " 'XGB_Classifier__colsample_bylevel': None,\n",
       " 'XGB_Classifier__colsample_bynode': None,\n",
       " 'XGB_Classifier__colsample_bytree': None,\n",
       " 'XGB_Classifier__device': None,\n",
       " 'XGB_Classifier__early_stopping_rounds': None,\n",
       " 'XGB_Classifier__enable_categorical': False,\n",
       " 'XGB_Classifier__eval_metric': None,\n",
       " 'XGB_Classifier__feature_types': None,\n",
       " 'XGB_Classifier__gamma': None,\n",
       " 'XGB_Classifier__grow_policy': None,\n",
       " 'XGB_Classifier__importance_type': None,\n",
       " 'XGB_Classifier__interaction_constraints': None,\n",
       " 'XGB_Classifier__learning_rate': None,\n",
       " 'XGB_Classifier__max_bin': None,\n",
       " 'XGB_Classifier__max_cat_threshold': None,\n",
       " 'XGB_Classifier__max_cat_to_onehot': None,\n",
       " 'XGB_Classifier__max_delta_step': None,\n",
       " 'XGB_Classifier__max_depth': None,\n",
       " 'XGB_Classifier__max_leaves': None,\n",
       " 'XGB_Classifier__min_child_weight': None,\n",
       " 'XGB_Classifier__missing': nan,\n",
       " 'XGB_Classifier__monotone_constraints': None,\n",
       " 'XGB_Classifier__multi_strategy': None,\n",
       " 'XGB_Classifier__n_estimators': None,\n",
       " 'XGB_Classifier__n_jobs': None,\n",
       " 'XGB_Classifier__num_parallel_tree': None,\n",
       " 'XGB_Classifier__random_state': None,\n",
       " 'XGB_Classifier__reg_alpha': None,\n",
       " 'XGB_Classifier__reg_lambda': None,\n",
       " 'XGB_Classifier__sampling_method': None,\n",
       " 'XGB_Classifier__scale_pos_weight': None,\n",
       " 'XGB_Classifier__subsample': None,\n",
       " 'XGB_Classifier__tree_method': None,\n",
       " 'XGB_Classifier__validate_parameters': None,\n",
       " 'XGB_Classifier__verbosity': None,\n",
       " 'KNN_Classifier__algorithm': 'auto',\n",
       " 'KNN_Classifier__leaf_size': 30,\n",
       " 'KNN_Classifier__metric': 'minkowski',\n",
       " 'KNN_Classifier__metric_params': None,\n",
       " 'KNN_Classifier__n_jobs': None,\n",
       " 'KNN_Classifier__n_neighbors': 5,\n",
       " 'KNN_Classifier__p': 2,\n",
       " 'KNN_Classifier__weights': 'uniform'}"
      ]
     },
     "execution_count": 355,
     "metadata": {},
     "output_type": "execute_result"
    }
   ],
   "source": [
    "s_clf = StackingClassifier(estimators=estimators,\n",
    "                   final_estimator=XGBClassifier(),\n",
    "                   cv=5,\n",
    "                   stack_method = 'auto',\n",
    "                   passthrough=True)\n",
    "\n",
    "# estimators,\n",
    "# final_estimator,\n",
    "# cv,\n",
    "# stack_method,\n",
    "# passthrough\n",
    "s_clf.get_params()"
   ]
  },
  {
   "cell_type": "code",
   "execution_count": 338,
   "metadata": {},
   "outputs": [
    {
     "data": {
      "text/plain": [
       "True"
      ]
     },
     "execution_count": 338,
     "metadata": {},
     "output_type": "execute_result"
    }
   ],
   "source": [
    "s_clf.get_params()['estimators']\n",
    "s_clf.get_params()['final_estimator']\n",
    "s_clf.get_params()['cv']\n",
    "s_clf.get_params()['stack_method']\n",
    "s_clf.get_params()['passthrough']"
   ]
  },
  {
   "cell_type": "code",
   "execution_count": 371,
   "metadata": {},
   "outputs": [
    {
     "data": {
      "text/plain": [
       "[('Logistic_Regression', LogisticRegression()),\n",
       " ('SGD_Classifier', SGDClassifier()),\n",
       " ('Random Forest', RandomForestClassifier()),\n",
       " ('Ada_Boost', AdaBoostClassifier()),\n",
       " ('Grad_Boost', GradientBoostingClassifier()),\n",
       " ('Bagging_Classifier', BaggingClassifier()),\n",
       " ('ExtraTreesClassifier', ExtraTreesClassifier()),\n",
       " ('Hist_Grad_Boost_Classifier', HistGradientBoostingClassifier()),\n",
       " ('Decision_Tree_Classifier', DecisionTreeClassifier()),\n",
       " ('XGB_Classifier',\n",
       "  XGBClassifier(base_score=None, booster=None, callbacks=None,\n",
       "                colsample_bylevel=None, colsample_bynode=None,\n",
       "                colsample_bytree=None, device=None, early_stopping_rounds=None,\n",
       "                enable_categorical=False, eval_metric=None, feature_types=None,\n",
       "                gamma=None, grow_policy=None, importance_type=None,\n",
       "                interaction_constraints=None, learning_rate=None, max_bin=None,\n",
       "                max_cat_threshold=None, max_cat_to_onehot=None,\n",
       "                max_delta_step=None, max_depth=None, max_leaves=None,\n",
       "                min_child_weight=None, missing=nan, monotone_constraints=None,\n",
       "                multi_strategy=None, n_estimators=None, n_jobs=None,\n",
       "                num_parallel_tree=None, random_state=None, ...)),\n",
       " ('KNN_Classifier', KNeighborsClassifier())]"
      ]
     },
     "execution_count": 371,
     "metadata": {},
     "output_type": "execute_result"
    }
   ],
   "source": [
    "s_clf.get_params()['estimators']"
   ]
  },
  {
   "cell_type": "code",
   "execution_count": 385,
   "metadata": {},
   "outputs": [
    {
     "data": {
      "text/plain": [
       "'XGBClassifier_params'"
      ]
     },
     "execution_count": 385,
     "metadata": {},
     "output_type": "execute_result"
    }
   ],
   "source": [
    "f\"{s_clf.get_params()['final_estimator'].__class__.__name__}_params\""
   ]
  },
  {
   "cell_type": "code",
   "execution_count": 345,
   "metadata": {},
   "outputs": [
    {
     "name": "stdout",
     "output_type": "stream",
     "text": [
      "[2024-01-25 11:29:26,147: WARNING: connectionpool: Retrying (Retry(total=4, connect=5, read=4, redirect=5, status=5)) after connection broken by 'RemoteDisconnected('Remote end closed connection without response')': /Raj-Narayanan-B/StudentMLProjectRegression.mlflow/api/2.0/mlflow/runs/create]\n"
     ]
    }
   ],
   "source": [
    "flag = 0\n",
    "for i in range(len(s_clf.get_params()['estimators'])):\n",
    "    if 'XGB_Classifier' == s_clf.get_params()['estimators'][i][0]:\n",
    "        flag =1\n",
    "if flag == 1:\n",
    "    clf_list = []\n",
    "    for i in range(len(s_clf.get_params()['estimators'])):\n",
    "        if s_clf.get_params()['estimators'][i][0] != \"XGB_Classifier\":\n",
    "            clf_list.append(s_clf.get_params()['estimators'][i])\n",
    "    estimators_params = {}\n",
    "    for i in range(len(s_clf.get_params()['estimators'])):\n",
    "        estimators_params[s_clf.get_params()['estimators'][i][0]] = s_clf.get_params()['estimators'][i][1].get_params()\n",
    "        if 'XGB_Classifier' == s_clf.get_params()['estimators'][i][0]:\n",
    "            xgb_params = s_clf.get_params()['estimators'][i][1].get_params()\n",
    "    xgb_params = {key:value for key,value in xgb_params.items() if value is not None}\n",
    "    \n",
    "    if s_clf.get_params()['final_estimator'].__class__.__name__ == 'XGBClassifier':\n",
    "        s_clf_params = {'estimators' : clf_list,\n",
    "                'final_estimator' : 'XGBClassifier()',\n",
    "                'cv' : 8,#s_clf.get_params()['cv'],\n",
    "                'stack_method' : s_clf.get_params()['stack_method'],\n",
    "                'passthrough' : s_clf.get_params()['passthrough'],\n",
    "                'xgb_params' : xgb_params}\n",
    "    else:\n",
    "        s_clf_params = {'estimators' : clf_list,\n",
    "                'final_estimator' : s_clf.get_params()['final_estimator'],\n",
    "                'cv' : s_clf.get_params()['cv'],\n",
    "                'stack_method' : s_clf.get_params()['stack_method'],\n",
    "                'passthrough' : s_clf.get_params()['passthrough'],\n",
    "                'xgb_params' : xgb_params}\n",
    "\n",
    "    mlflow.log_params(s_clf_params)\n",
    "    mlflow.models.infer_signature(model_input=x_train,\n",
    "                              model_output = s_clf.predict(x_train))\n",
    "    mlflow.sklearn.log_model()\n",
    "    "
   ]
  },
  {
   "cell_type": "code",
   "execution_count": 357,
   "metadata": {},
   "outputs": [
    {
     "data": {
      "text/html": [
       "<style>#sk-container-id-12 {color: black;}#sk-container-id-12 pre{padding: 0;}#sk-container-id-12 div.sk-toggleable {background-color: white;}#sk-container-id-12 label.sk-toggleable__label {cursor: pointer;display: block;width: 100%;margin-bottom: 0;padding: 0.3em;box-sizing: border-box;text-align: center;}#sk-container-id-12 label.sk-toggleable__label-arrow:before {content: \"▸\";float: left;margin-right: 0.25em;color: #696969;}#sk-container-id-12 label.sk-toggleable__label-arrow:hover:before {color: black;}#sk-container-id-12 div.sk-estimator:hover label.sk-toggleable__label-arrow:before {color: black;}#sk-container-id-12 div.sk-toggleable__content {max-height: 0;max-width: 0;overflow: hidden;text-align: left;background-color: #f0f8ff;}#sk-container-id-12 div.sk-toggleable__content pre {margin: 0.2em;color: black;border-radius: 0.25em;background-color: #f0f8ff;}#sk-container-id-12 input.sk-toggleable__control:checked~div.sk-toggleable__content {max-height: 200px;max-width: 100%;overflow: auto;}#sk-container-id-12 input.sk-toggleable__control:checked~label.sk-toggleable__label-arrow:before {content: \"▾\";}#sk-container-id-12 div.sk-estimator input.sk-toggleable__control:checked~label.sk-toggleable__label {background-color: #d4ebff;}#sk-container-id-12 div.sk-label input.sk-toggleable__control:checked~label.sk-toggleable__label {background-color: #d4ebff;}#sk-container-id-12 input.sk-hidden--visually {border: 0;clip: rect(1px 1px 1px 1px);clip: rect(1px, 1px, 1px, 1px);height: 1px;margin: -1px;overflow: hidden;padding: 0;position: absolute;width: 1px;}#sk-container-id-12 div.sk-estimator {font-family: monospace;background-color: #f0f8ff;border: 1px dotted black;border-radius: 0.25em;box-sizing: border-box;margin-bottom: 0.5em;}#sk-container-id-12 div.sk-estimator:hover {background-color: #d4ebff;}#sk-container-id-12 div.sk-parallel-item::after {content: \"\";width: 100%;border-bottom: 1px solid gray;flex-grow: 1;}#sk-container-id-12 div.sk-label:hover label.sk-toggleable__label {background-color: #d4ebff;}#sk-container-id-12 div.sk-serial::before {content: \"\";position: absolute;border-left: 1px solid gray;box-sizing: border-box;top: 0;bottom: 0;left: 50%;z-index: 0;}#sk-container-id-12 div.sk-serial {display: flex;flex-direction: column;align-items: center;background-color: white;padding-right: 0.2em;padding-left: 0.2em;position: relative;}#sk-container-id-12 div.sk-item {position: relative;z-index: 1;}#sk-container-id-12 div.sk-parallel {display: flex;align-items: stretch;justify-content: center;background-color: white;position: relative;}#sk-container-id-12 div.sk-item::before, #sk-container-id-12 div.sk-parallel-item::before {content: \"\";position: absolute;border-left: 1px solid gray;box-sizing: border-box;top: 0;bottom: 0;left: 50%;z-index: -1;}#sk-container-id-12 div.sk-parallel-item {display: flex;flex-direction: column;z-index: 1;position: relative;background-color: white;}#sk-container-id-12 div.sk-parallel-item:first-child::after {align-self: flex-end;width: 50%;}#sk-container-id-12 div.sk-parallel-item:last-child::after {align-self: flex-start;width: 50%;}#sk-container-id-12 div.sk-parallel-item:only-child::after {width: 0;}#sk-container-id-12 div.sk-dashed-wrapped {border: 1px dashed gray;margin: 0 0.4em 0.5em 0.4em;box-sizing: border-box;padding-bottom: 0.4em;background-color: white;}#sk-container-id-12 div.sk-label label {font-family: monospace;font-weight: bold;display: inline-block;line-height: 1.2em;}#sk-container-id-12 div.sk-label-container {text-align: center;}#sk-container-id-12 div.sk-container {/* jupyter's `normalize.less` sets `[hidden] { display: none; }` but bootstrap.min.css set `[hidden] { display: none !important; }` so we also need the `!important` here to be able to override the default hidden behavior on the sphinx rendered scikit-learn.org. See: https://github.com/scikit-learn/scikit-learn/issues/21755 */display: inline-block !important;position: relative;}#sk-container-id-12 div.sk-text-repr-fallback {display: none;}</style><div id=\"sk-container-id-12\" class=\"sk-top-container\"><div class=\"sk-text-repr-fallback\"><pre>StackingClassifier(cv=5,\n",
       "                   estimators=[(&#x27;Logistic_Regression&#x27;, LogisticRegression()),\n",
       "                               (&#x27;SGD_Classifier&#x27;, SGDClassifier()),\n",
       "                               (&#x27;Random Forest&#x27;, RandomForestClassifier()),\n",
       "                               (&#x27;Ada_Boost&#x27;, AdaBoostClassifier()),\n",
       "                               (&#x27;Grad_Boost&#x27;, GradientBoostingClassifier()),\n",
       "                               (&#x27;Bagging_Classifier&#x27;, BaggingClassifier()),\n",
       "                               (&#x27;ExtraTreesClassifier&#x27;, ExtraTreesClassifier()),\n",
       "                               (&#x27;Hist_Grad_Boost_Clas...\n",
       "                                                 importance_type=None,\n",
       "                                                 interaction_constraints=None,\n",
       "                                                 learning_rate=None,\n",
       "                                                 max_bin=None,\n",
       "                                                 max_cat_threshold=None,\n",
       "                                                 max_cat_to_onehot=None,\n",
       "                                                 max_delta_step=None,\n",
       "                                                 max_depth=None,\n",
       "                                                 max_leaves=None,\n",
       "                                                 min_child_weight=None,\n",
       "                                                 missing=nan,\n",
       "                                                 monotone_constraints=None,\n",
       "                                                 multi_strategy=None,\n",
       "                                                 n_estimators=None, n_jobs=None,\n",
       "                                                 num_parallel_tree=None,\n",
       "                                                 random_state=None, ...),\n",
       "                   passthrough=True)</pre><b>In a Jupyter environment, please rerun this cell to show the HTML representation or trust the notebook. <br />On GitHub, the HTML representation is unable to render, please try loading this page with nbviewer.org.</b></div><div class=\"sk-container\" hidden><div class=\"sk-item sk-dashed-wrapped\"><div class=\"sk-label-container\"><div class=\"sk-label sk-toggleable\"><input class=\"sk-toggleable__control sk-hidden--visually\" id=\"sk-estimator-id-71\" type=\"checkbox\" ><label for=\"sk-estimator-id-71\" class=\"sk-toggleable__label sk-toggleable__label-arrow\">StackingClassifier</label><div class=\"sk-toggleable__content\"><pre>StackingClassifier(cv=5,\n",
       "                   estimators=[(&#x27;Logistic_Regression&#x27;, LogisticRegression()),\n",
       "                               (&#x27;SGD_Classifier&#x27;, SGDClassifier()),\n",
       "                               (&#x27;Random Forest&#x27;, RandomForestClassifier()),\n",
       "                               (&#x27;Ada_Boost&#x27;, AdaBoostClassifier()),\n",
       "                               (&#x27;Grad_Boost&#x27;, GradientBoostingClassifier()),\n",
       "                               (&#x27;Bagging_Classifier&#x27;, BaggingClassifier()),\n",
       "                               (&#x27;ExtraTreesClassifier&#x27;, ExtraTreesClassifier()),\n",
       "                               (&#x27;Hist_Grad_Boost_Clas...\n",
       "                                                 importance_type=None,\n",
       "                                                 interaction_constraints=None,\n",
       "                                                 learning_rate=None,\n",
       "                                                 max_bin=None,\n",
       "                                                 max_cat_threshold=None,\n",
       "                                                 max_cat_to_onehot=None,\n",
       "                                                 max_delta_step=None,\n",
       "                                                 max_depth=None,\n",
       "                                                 max_leaves=None,\n",
       "                                                 min_child_weight=None,\n",
       "                                                 missing=nan,\n",
       "                                                 monotone_constraints=None,\n",
       "                                                 multi_strategy=None,\n",
       "                                                 n_estimators=None, n_jobs=None,\n",
       "                                                 num_parallel_tree=None,\n",
       "                                                 random_state=None, ...),\n",
       "                   passthrough=True)</pre></div></div></div><div class=\"sk-serial\"><div class=\"sk-item\"><div class=\"sk-parallel\"><div class=\"sk-parallel-item\"><div class=\"sk-item\"><div class=\"sk-label-container\"><div class=\"sk-label sk-toggleable\"><label>Logistic_Regression</label></div></div><div class=\"sk-serial\"><div class=\"sk-item\"><div class=\"sk-estimator sk-toggleable\"><input class=\"sk-toggleable__control sk-hidden--visually\" id=\"sk-estimator-id-72\" type=\"checkbox\" ><label for=\"sk-estimator-id-72\" class=\"sk-toggleable__label sk-toggleable__label-arrow\">LogisticRegression</label><div class=\"sk-toggleable__content\"><pre>LogisticRegression()</pre></div></div></div></div></div></div><div class=\"sk-parallel-item\"><div class=\"sk-item\"><div class=\"sk-label-container\"><div class=\"sk-label sk-toggleable\"><label>SGD_Classifier</label></div></div><div class=\"sk-serial\"><div class=\"sk-item\"><div class=\"sk-estimator sk-toggleable\"><input class=\"sk-toggleable__control sk-hidden--visually\" id=\"sk-estimator-id-73\" type=\"checkbox\" ><label for=\"sk-estimator-id-73\" class=\"sk-toggleable__label sk-toggleable__label-arrow\">SGDClassifier</label><div class=\"sk-toggleable__content\"><pre>SGDClassifier()</pre></div></div></div></div></div></div><div class=\"sk-parallel-item\"><div class=\"sk-item\"><div class=\"sk-label-container\"><div class=\"sk-label sk-toggleable\"><label>Random Forest</label></div></div><div class=\"sk-serial\"><div class=\"sk-item\"><div class=\"sk-estimator sk-toggleable\"><input class=\"sk-toggleable__control sk-hidden--visually\" id=\"sk-estimator-id-74\" type=\"checkbox\" ><label for=\"sk-estimator-id-74\" class=\"sk-toggleable__label sk-toggleable__label-arrow\">RandomForestClassifier</label><div class=\"sk-toggleable__content\"><pre>RandomForestClassifier()</pre></div></div></div></div></div></div><div class=\"sk-parallel-item\"><div class=\"sk-item\"><div class=\"sk-label-container\"><div class=\"sk-label sk-toggleable\"><label>Ada_Boost</label></div></div><div class=\"sk-serial\"><div class=\"sk-item\"><div class=\"sk-estimator sk-toggleable\"><input class=\"sk-toggleable__control sk-hidden--visually\" id=\"sk-estimator-id-75\" type=\"checkbox\" ><label for=\"sk-estimator-id-75\" class=\"sk-toggleable__label sk-toggleable__label-arrow\">AdaBoostClassifier</label><div class=\"sk-toggleable__content\"><pre>AdaBoostClassifier()</pre></div></div></div></div></div></div><div class=\"sk-parallel-item\"><div class=\"sk-item\"><div class=\"sk-label-container\"><div class=\"sk-label sk-toggleable\"><label>Grad_Boost</label></div></div><div class=\"sk-serial\"><div class=\"sk-item\"><div class=\"sk-estimator sk-toggleable\"><input class=\"sk-toggleable__control sk-hidden--visually\" id=\"sk-estimator-id-76\" type=\"checkbox\" ><label for=\"sk-estimator-id-76\" class=\"sk-toggleable__label sk-toggleable__label-arrow\">GradientBoostingClassifier</label><div class=\"sk-toggleable__content\"><pre>GradientBoostingClassifier()</pre></div></div></div></div></div></div><div class=\"sk-parallel-item\"><div class=\"sk-item\"><div class=\"sk-label-container\"><div class=\"sk-label sk-toggleable\"><label>Bagging_Classifier</label></div></div><div class=\"sk-serial\"><div class=\"sk-item\"><div class=\"sk-estimator sk-toggleable\"><input class=\"sk-toggleable__control sk-hidden--visually\" id=\"sk-estimator-id-77\" type=\"checkbox\" ><label for=\"sk-estimator-id-77\" class=\"sk-toggleable__label sk-toggleable__label-arrow\">BaggingClassifier</label><div class=\"sk-toggleable__content\"><pre>BaggingClassifier()</pre></div></div></div></div></div></div><div class=\"sk-parallel-item\"><div class=\"sk-item\"><div class=\"sk-label-container\"><div class=\"sk-label sk-toggleable\"><label>ExtraTreesClassifier</label></div></div><div class=\"sk-serial\"><div class=\"sk-item\"><div class=\"sk-estimator sk-toggleable\"><input class=\"sk-toggleable__control sk-hidden--visually\" id=\"sk-estimator-id-78\" type=\"checkbox\" ><label for=\"sk-estimator-id-78\" class=\"sk-toggleable__label sk-toggleable__label-arrow\">ExtraTreesClassifier</label><div class=\"sk-toggleable__content\"><pre>ExtraTreesClassifier()</pre></div></div></div></div></div></div><div class=\"sk-parallel-item\"><div class=\"sk-item\"><div class=\"sk-label-container\"><div class=\"sk-label sk-toggleable\"><label>Hist_Grad_Boost_Classifier</label></div></div><div class=\"sk-serial\"><div class=\"sk-item\"><div class=\"sk-estimator sk-toggleable\"><input class=\"sk-toggleable__control sk-hidden--visually\" id=\"sk-estimator-id-79\" type=\"checkbox\" ><label for=\"sk-estimator-id-79\" class=\"sk-toggleable__label sk-toggleable__label-arrow\">HistGradientBoostingClassifier</label><div class=\"sk-toggleable__content\"><pre>HistGradientBoostingClassifier()</pre></div></div></div></div></div></div><div class=\"sk-parallel-item\"><div class=\"sk-item\"><div class=\"sk-label-container\"><div class=\"sk-label sk-toggleable\"><label>Decision_Tree_Classifier</label></div></div><div class=\"sk-serial\"><div class=\"sk-item\"><div class=\"sk-estimator sk-toggleable\"><input class=\"sk-toggleable__control sk-hidden--visually\" id=\"sk-estimator-id-80\" type=\"checkbox\" ><label for=\"sk-estimator-id-80\" class=\"sk-toggleable__label sk-toggleable__label-arrow\">DecisionTreeClassifier</label><div class=\"sk-toggleable__content\"><pre>DecisionTreeClassifier()</pre></div></div></div></div></div></div><div class=\"sk-parallel-item\"><div class=\"sk-item\"><div class=\"sk-label-container\"><div class=\"sk-label sk-toggleable\"><label>XGB_Classifier</label></div></div><div class=\"sk-serial\"><div class=\"sk-item\"><div class=\"sk-estimator sk-toggleable\"><input class=\"sk-toggleable__control sk-hidden--visually\" id=\"sk-estimator-id-81\" type=\"checkbox\" ><label for=\"sk-estimator-id-81\" class=\"sk-toggleable__label sk-toggleable__label-arrow\">XGBClassifier</label><div class=\"sk-toggleable__content\"><pre>XGBClassifier(base_score=None, booster=None, callbacks=None,\n",
       "              colsample_bylevel=None, colsample_bynode=None,\n",
       "              colsample_bytree=None, device=None, early_stopping_rounds=None,\n",
       "              enable_categorical=False, eval_metric=None, feature_types=None,\n",
       "              gamma=None, grow_policy=None, importance_type=None,\n",
       "              interaction_constraints=None, learning_rate=None, max_bin=None,\n",
       "              max_cat_threshold=None, max_cat_to_onehot=None,\n",
       "              max_delta_step=None, max_depth=None, max_leaves=None,\n",
       "              min_child_weight=None, missing=nan, monotone_constraints=None,\n",
       "              multi_strategy=None, n_estimators=None, n_jobs=None,\n",
       "              num_parallel_tree=None, random_state=None, ...)</pre></div></div></div></div></div></div><div class=\"sk-parallel-item\"><div class=\"sk-item\"><div class=\"sk-label-container\"><div class=\"sk-label sk-toggleable\"><label>KNN_Classifier</label></div></div><div class=\"sk-serial\"><div class=\"sk-item\"><div class=\"sk-estimator sk-toggleable\"><input class=\"sk-toggleable__control sk-hidden--visually\" id=\"sk-estimator-id-82\" type=\"checkbox\" ><label for=\"sk-estimator-id-82\" class=\"sk-toggleable__label sk-toggleable__label-arrow\">KNeighborsClassifier</label><div class=\"sk-toggleable__content\"><pre>KNeighborsClassifier()</pre></div></div></div></div></div></div></div></div><div class=\"sk-item\"><div class=\"sk-parallel\"><div class=\"sk-parallel-item\"><div class=\"sk-item\"><div class=\"sk-label-container\"><div class=\"sk-label sk-toggleable\"><label>final_estimator</label></div></div><div class=\"sk-serial\"><div class=\"sk-item\"><div class=\"sk-estimator sk-toggleable\"><input class=\"sk-toggleable__control sk-hidden--visually\" id=\"sk-estimator-id-83\" type=\"checkbox\" ><label for=\"sk-estimator-id-83\" class=\"sk-toggleable__label sk-toggleable__label-arrow\">XGBClassifier</label><div class=\"sk-toggleable__content\"><pre>XGBClassifier(base_score=None, booster=None, callbacks=None,\n",
       "              colsample_bylevel=None, colsample_bynode=None,\n",
       "              colsample_bytree=None, device=None, early_stopping_rounds=None,\n",
       "              enable_categorical=False, eval_metric=None, feature_types=None,\n",
       "              gamma=None, grow_policy=None, importance_type=None,\n",
       "              interaction_constraints=None, learning_rate=None, max_bin=None,\n",
       "              max_cat_threshold=None, max_cat_to_onehot=None,\n",
       "              max_delta_step=None, max_depth=None, max_leaves=None,\n",
       "              min_child_weight=None, missing=nan, monotone_constraints=None,\n",
       "              multi_strategy=None, n_estimators=None, n_jobs=None,\n",
       "              num_parallel_tree=None, random_state=None, ...)</pre></div></div></div></div></div></div></div></div></div></div></div></div>"
      ],
      "text/plain": [
       "StackingClassifier(cv=5,\n",
       "                   estimators=[('Logistic_Regression', LogisticRegression()),\n",
       "                               ('SGD_Classifier', SGDClassifier()),\n",
       "                               ('Random Forest', RandomForestClassifier()),\n",
       "                               ('Ada_Boost', AdaBoostClassifier()),\n",
       "                               ('Grad_Boost', GradientBoostingClassifier()),\n",
       "                               ('Bagging_Classifier', BaggingClassifier()),\n",
       "                               ('ExtraTreesClassifier', ExtraTreesClassifier()),\n",
       "                               ('Hist_Grad_Boost_Clas...\n",
       "                                                 importance_type=None,\n",
       "                                                 interaction_constraints=None,\n",
       "                                                 learning_rate=None,\n",
       "                                                 max_bin=None,\n",
       "                                                 max_cat_threshold=None,\n",
       "                                                 max_cat_to_onehot=None,\n",
       "                                                 max_delta_step=None,\n",
       "                                                 max_depth=None,\n",
       "                                                 max_leaves=None,\n",
       "                                                 min_child_weight=None,\n",
       "                                                 missing=nan,\n",
       "                                                 monotone_constraints=None,\n",
       "                                                 multi_strategy=None,\n",
       "                                                 n_estimators=None, n_jobs=None,\n",
       "                                                 num_parallel_tree=None,\n",
       "                                                 random_state=None, ...),\n",
       "                   passthrough=True)"
      ]
     },
     "execution_count": 357,
     "metadata": {},
     "output_type": "execute_result"
    }
   ],
   "source": [
    "s_clf.fit(x_train,y_train)"
   ]
  },
  {
   "cell_type": "code",
   "execution_count": 358,
   "metadata": {},
   "outputs": [],
   "source": [
    "s_clf_params_ = s_clf.get_params()\n",
    "for key, value in s_clf_params_.items():\n",
    "    s_clf_params_[key] = str(value)\n",
    "signature = mlflow.models.infer_signature(model_input = x_train,\n",
    "                                          model_output = s_clf.predict(x_train),\n",
    "                                          params = s_clf_params_)"
   ]
  },
  {
   "cell_type": "code",
   "execution_count": 353,
   "metadata": {},
   "outputs": [
    {
     "data": {
      "text/plain": [
       "inputs: \n",
       "  ['aa_000': double, 'ab_000': double, 'ac_000': double, 'ad_000': double, 'ae_000': double, 'af_000': double, 'ag_000': double, 'ag_001': double, 'ag_002': double, 'ag_003': double, 'ag_004': double, 'ag_005': double, 'ag_006': double, 'ag_007': double, 'ag_008': double, 'ag_009': double, 'ah_000': double, 'ai_000': double, 'aj_000': double, 'ak_000': double, 'al_000': double, 'am_0': double, 'an_000': double, 'ao_000': double, 'ap_000': double, 'aq_000': double, 'ar_000': double, 'as_000': double, 'at_000': double, 'au_000': double, 'av_000': double, 'ax_000': double, 'ay_000': double, 'ay_001': double, 'ay_002': double, 'ay_003': double, 'ay_004': double, 'ay_005': double, 'ay_006': double, 'ay_007': double, 'ay_008': double, 'ay_009': double, 'az_000': double, 'az_001': double, 'az_002': double, 'az_003': double, 'az_004': double, 'az_005': double, 'az_006': double, 'az_007': double, 'az_008': double, 'az_009': double, 'ba_000': double, 'ba_001': double, 'ba_002': double, 'ba_003': double, 'ba_004': double, 'ba_005': double, 'ba_006': double, 'ba_007': double, 'ba_008': double, 'ba_009': double, 'bb_000': double, 'bc_000': double, 'bd_000': double, 'be_000': double, 'bf_000': double, 'bg_000': double, 'bh_000': double, 'bi_000': double, 'bj_000': double, 'bk_000': double, 'bl_000': double, 'bm_000': double, 'bn_000': double, 'bo_000': double, 'bp_000': double, 'bq_000': double, 'br_000': double, 'bs_000': double, 'bt_000': double, 'bu_000': double, 'bv_000': double, 'bx_000': double, 'by_000': double, 'bz_000': double, 'ca_000': double, 'cb_000': double, 'cc_000': double, 'cd_000': double, 'ce_000': double, 'cf_000': double, 'cg_000': double, 'ch_000': double, 'ci_000': double, 'cj_000': double, 'ck_000': double, 'cl_000': double, 'cm_000': double, 'cn_000': double, 'cn_001': double, 'cn_002': double, 'cn_003': double, 'cn_004': double, 'cn_005': double, 'cn_006': double, 'cn_007': double, 'cn_008': double, 'cn_009': double, 'co_000': double, 'cp_000': double, 'cq_000': double, 'cr_000': double, 'cs_000': double, 'cs_001': double, 'cs_002': double, 'cs_003': double, 'cs_004': double, 'cs_005': double, 'cs_006': double, 'cs_007': double, 'cs_008': double, 'cs_009': double, 'ct_000': double, 'cu_000': double, 'cv_000': double, 'cx_000': double, 'cy_000': double, 'cz_000': double, 'da_000': double, 'db_000': double, 'dc_000': double, 'dd_000': double, 'de_000': double, 'df_000': double, 'dg_000': double, 'dh_000': double, 'di_000': double, 'dj_000': double, 'dk_000': double, 'dl_000': double, 'dm_000': double, 'dn_000': double, 'do_000': double, 'dp_000': double, 'dq_000': double, 'dr_000': double, 'ds_000': double, 'dt_000': double, 'du_000': double, 'dv_000': double, 'dx_000': double, 'dy_000': double, 'dz_000': double, 'ea_000': double, 'eb_000': double, 'ec_00': double, 'ed_000': double, 'ee_000': double, 'ee_001': double, 'ee_002': double, 'ee_003': double, 'ee_004': double, 'ee_005': double, 'ee_006': double, 'ee_007': double, 'ee_008': double, 'ee_009': double, 'ef_000': double, 'eg_000': double]\n",
       "outputs: \n",
       "  [Tensor('int64', (-1,))]\n",
       "params: \n",
       "  ['estimators': string (default: [('Logistic_Regression', LogisticRegression()), ('SGD_Classifier', SGDClassifier()), ('Random Forest', RandomForestClassifier()), ('Ada_Boost', AdaBoostClassifier()), ('Grad_Boost', GradientBoostingClassifier()), ('Bagging_Classifier', BaggingClassifier()), ('ExtraTreesClassifier', ExtraTreesClassifier()), ('Hist_Grad_Boost_Classifier', HistGradientBoostingClassifier()), ('Decision_Tree_Classifier', DecisionTreeClassifier()), ('KNN_Classifier', KNeighborsClassifier())]), 'final_estimator': string (default: XGBClassifier()), 'cv': string (default: 8), 'stack_method': string (default: auto), 'passthrough': string (default: True), 'xgb_params': string (default: {'objective': 'binary:logistic', 'enable_categorical': False, 'missing': nan})]"
      ]
     },
     "execution_count": 353,
     "metadata": {},
     "output_type": "execute_result"
    }
   ],
   "source": [
    "signature"
   ]
  },
  {
   "cell_type": "code",
   "execution_count": 335,
   "metadata": {},
   "outputs": [
    {
     "name": "stdout",
     "output_type": "stream",
     "text": [
      "{'objective': 'binary:logistic', 'base_score': None, 'booster': None, 'callbacks': None, 'colsample_bylevel': None, 'colsample_bynode': None, 'colsample_bytree': None, 'device': None, 'early_stopping_rounds': None, 'enable_categorical': False, 'eval_metric': None, 'feature_types': None, 'gamma': None, 'grow_policy': None, 'importance_type': None, 'interaction_constraints': None, 'learning_rate': None, 'max_bin': None, 'max_cat_threshold': None, 'max_cat_to_onehot': None, 'max_delta_step': None, 'max_depth': None, 'max_leaves': None, 'min_child_weight': None, 'missing': nan, 'monotone_constraints': None, 'multi_strategy': None, 'n_estimators': None, 'n_jobs': None, 'num_parallel_tree': None, 'random_state': None, 'reg_alpha': None, 'reg_lambda': None, 'sampling_method': None, 'scale_pos_weight': None, 'subsample': None, 'tree_method': None, 'validate_parameters': None, 'verbosity': None}\n"
     ]
    },
    {
     "data": {
      "text/plain": [
       "{'objective': 'binary:logistic', 'enable_categorical': False, 'missing': nan}"
      ]
     },
     "execution_count": 335,
     "metadata": {},
     "output_type": "execute_result"
    }
   ],
   "source": [
    "for i in range(len(s_clf.get_params()['estimators'])):\n",
    "    if 'XGB_Classifier' == s_clf.get_params()['estimators'][i][0]:\n",
    "        xgb_params = s_clf.get_params()['estimators'][i][1].get_params()\n",
    "xgb_params = {key:value for key,value in xgb_params.items() if value is not None}\n",
    "xgb_params"
   ]
  },
  {
   "cell_type": "code",
   "execution_count": 272,
   "metadata": {},
   "outputs": [],
   "source": [
    "xgb = XGBClassifier()"
   ]
  },
  {
   "cell_type": "code",
   "execution_count": 276,
   "metadata": {},
   "outputs": [
    {
     "data": {
      "text/plain": [
       "{'objective': 'binary:logistic', 'enable_categorical': False, 'missing': nan}"
      ]
     },
     "execution_count": 276,
     "metadata": {},
     "output_type": "execute_result"
    }
   ],
   "source": [
    "xgb_params = {key:value for key,value in xgb.get_params().items() if value is not None}\n",
    "xgb_params\n"
   ]
  },
  {
   "cell_type": "code",
   "execution_count": 336,
   "metadata": {},
   "outputs": [
    {
     "data": {
      "text/plain": [
       "{'estimators': [('Logistic_Regression', LogisticRegression()),\n",
       "  ('SGD_Classifier', SGDClassifier()),\n",
       "  ('Random Forest', RandomForestClassifier()),\n",
       "  ('Ada_Boost', AdaBoostClassifier()),\n",
       "  ('Grad_Boost', GradientBoostingClassifier()),\n",
       "  ('Bagging_Classifier', BaggingClassifier()),\n",
       "  ('ExtraTreesClassifier', ExtraTreesClassifier()),\n",
       "  ('Hist_Grad_Boost_Classifier', HistGradientBoostingClassifier()),\n",
       "  ('Decision_Tree_Classifier', DecisionTreeClassifier()),\n",
       "  ('KNN_Classifier', KNeighborsClassifier())],\n",
       " 'final_estimator': 'XGBClassifier()',\n",
       " 'cv': 5,\n",
       " 'stack_method': 'auto',\n",
       " 'passthrough': True,\n",
       " 'xgb_params': {'objective': 'binary:logistic',\n",
       "  'enable_categorical': False,\n",
       "  'missing': nan}}"
      ]
     },
     "execution_count": 336,
     "metadata": {},
     "output_type": "execute_result"
    }
   ],
   "source": [
    "s_clf_params"
   ]
  },
  {
   "cell_type": "code",
   "execution_count": 285,
   "metadata": {},
   "outputs": [
    {
     "data": {
      "text/plain": [
       "{'estimators': [('Logistic_Regression', LogisticRegression()),\n",
       "  ('SGD_Classifier', SGDClassifier()),\n",
       "  ('Random Forest', RandomForestClassifier()),\n",
       "  ('Ada_Boost', AdaBoostClassifier()),\n",
       "  ('Grad_Boost', GradientBoostingClassifier()),\n",
       "  ('Bagging_Classifier', BaggingClassifier()),\n",
       "  ('ExtraTreesClassifier', ExtraTreesClassifier()),\n",
       "  ('Hist_Grad_Boost_Classifier', HistGradientBoostingClassifier()),\n",
       "  ('Decision_Tree_Classifier', DecisionTreeClassifier()),\n",
       "  ('KNN_Classifier', KNeighborsClassifier())],\n",
       " 'final_estimator': 'XGBClassifier()',\n",
       " 'cv': 5,\n",
       " 'stack_method': 'auto',\n",
       " 'passthrough': True,\n",
       " 'xgb_params': {'objective': 'binary:logistic',\n",
       "  'enable_categorical': False,\n",
       "  'missing': nan}}"
      ]
     },
     "execution_count": 285,
     "metadata": {},
     "output_type": "execute_result"
    }
   ],
   "source": [
    "s_clf_params = {'estimators' : clf_list,\n",
    "          'final_estimator' : 'XGBClassifier()',\n",
    "          'cv' : s_clf.get_params()['cv'],\n",
    "          'stack_method' : s_clf.get_params()['stack_method'],\n",
    "          'passthrough' : s_clf.get_params()['passthrough'],\n",
    "          'xgb_params' : xgb_params}\n",
    "\n",
    "s_clf_params"
   ]
  },
  {
   "cell_type": "code",
   "execution_count": 459,
   "metadata": {},
   "outputs": [],
   "source": [
    "trial_params = {'estimators': [('SGD_Classifier', SGDClassifier(loss='log_loss')), \n",
    "                ('Random Forest', RandomForestClassifier(class_weight='balanced_subsample', criterion='entropy', max_features=None, n_estimators=139)), \n",
    "                ('Hist_Grad_Boost_Classifier', HistGradientBoostingClassifier(max_iter=575)), \n",
    "                ('Bagging_Classifier', BaggingClassifier(n_estimators=59)), \n",
    "                ('Ada_Boost', AdaBoostClassifier(algorithm='SAMME', n_estimators=133)), \n",
    "                ('Grad_Boost', GradientBoostingClassifier(criterion='squared_error', loss='exponential', max_features='log2', n_estimators=143))], \n",
    " 'final_estimator': 'XGBClassifier()', \n",
    " 'cv': 5, \n",
    " 'stack_method': 'auto', \n",
    " 'passthrough': False, \n",
    " 'xgb_params': {'objective': 'binary:logistic', \n",
    "                'booster': 'dart', \n",
    "                'enable_categorical': False, \n",
    "                'learning_rate': 6.5697687477009445, \n",
    "                'missing': np.nan, \n",
    "                'n_estimators': 164, \n",
    "                'tree_method': 'hist'}\n",
    "}"
   ]
  },
  {
   "cell_type": "code",
   "execution_count": 391,
   "metadata": {},
   "outputs": [
    {
     "data": {
      "text/plain": [
       "{'estimators': [('SGD_Classifier', SGDClassifier(loss='log_loss')),\n",
       "  ('Random Forest',\n",
       "   RandomForestClassifier(class_weight='balanced_subsample', criterion='entropy',\n",
       "                          max_features=None, n_estimators=139)),\n",
       "  ('Hist_Grad_Boost_Classifier', HistGradientBoostingClassifier(max_iter=575)),\n",
       "  ('Bagging_Classifier', BaggingClassifier(n_estimators=59)),\n",
       "  ('Ada_Boost', AdaBoostClassifier(algorithm='SAMME', n_estimators=133)),\n",
       "  ('Grad_Boost',\n",
       "   GradientBoostingClassifier(criterion='squared_error', loss='exponential',\n",
       "                              max_features='log2', n_estimators=143)),\n",
       "  ('XGB_Classifier',\n",
       "   XGBClassifier(base_score=None, booster=None, callbacks=None,\n",
       "                 colsample_bylevel=None, colsample_bynode=None,\n",
       "                 colsample_bytree=None, device=None, early_stopping_rounds=None,\n",
       "                 enable_categorical=False, eval_metric=None, feature_types=None,\n",
       "                 gamma=None, grow_policy=None, importance_type=None,\n",
       "                 interaction_constraints=None, learning_rate=None, max_bin=None,\n",
       "                 max_cat_threshold=None, max_cat_to_onehot=None,\n",
       "                 max_delta_step=None, max_depth=None, max_leaves=None,\n",
       "                 min_child_weight=None, missing=nan, monotone_constraints=None,\n",
       "                 multi_strategy=None, n_estimators=None, n_jobs=None,\n",
       "                 num_parallel_tree=None, random_state=None, ...))],\n",
       " 'final_estimator': 'XGBClassifier()',\n",
       " 'cv': 5,\n",
       " 'stack_method': 'auto',\n",
       " 'passthrough': False,\n",
       " 'xgb_params': {'objective': 'binary:logistic',\n",
       "  'booster': 'dart',\n",
       "  'enable_categorical': False,\n",
       "  'learning_rate': 6.5697687477009445,\n",
       "  'missing': nan,\n",
       "  'n_estimators': 164,\n",
       "  'tree_method': 'hist'}}"
      ]
     },
     "execution_count": 391,
     "metadata": {},
     "output_type": "execute_result"
    }
   ],
   "source": [
    "trial_params['estimators'].append(('XGB_Classifier',XGBClassifier()))\n",
    "trial_params"
   ]
  },
  {
   "cell_type": "code",
   "execution_count": 460,
   "metadata": {},
   "outputs": [
    {
     "data": {
      "text/plain": [
       "[('SGD_Classifier', SGDClassifier(loss='log_loss')),\n",
       " ('Random Forest',\n",
       "  RandomForestClassifier(class_weight='balanced_subsample', criterion='entropy',\n",
       "                         max_features=None, n_estimators=139)),\n",
       " ('Hist_Grad_Boost_Classifier', HistGradientBoostingClassifier(max_iter=575)),\n",
       " ('Bagging_Classifier', BaggingClassifier(n_estimators=59)),\n",
       " ('Ada_Boost', AdaBoostClassifier(algorithm='SAMME', n_estimators=133)),\n",
       " ('Grad_Boost',\n",
       "  GradientBoostingClassifier(criterion='squared_error', loss='exponential',\n",
       "                             max_features='log2', n_estimators=143))]"
      ]
     },
     "execution_count": 460,
     "metadata": {},
     "output_type": "execute_result"
    }
   ],
   "source": [
    "trial_params['estimators']"
   ]
  },
  {
   "cell_type": "code",
   "execution_count": 461,
   "metadata": {},
   "outputs": [
    {
     "data": {
      "text/html": [
       "<style>#sk-container-id-23 {color: black;}#sk-container-id-23 pre{padding: 0;}#sk-container-id-23 div.sk-toggleable {background-color: white;}#sk-container-id-23 label.sk-toggleable__label {cursor: pointer;display: block;width: 100%;margin-bottom: 0;padding: 0.3em;box-sizing: border-box;text-align: center;}#sk-container-id-23 label.sk-toggleable__label-arrow:before {content: \"▸\";float: left;margin-right: 0.25em;color: #696969;}#sk-container-id-23 label.sk-toggleable__label-arrow:hover:before {color: black;}#sk-container-id-23 div.sk-estimator:hover label.sk-toggleable__label-arrow:before {color: black;}#sk-container-id-23 div.sk-toggleable__content {max-height: 0;max-width: 0;overflow: hidden;text-align: left;background-color: #f0f8ff;}#sk-container-id-23 div.sk-toggleable__content pre {margin: 0.2em;color: black;border-radius: 0.25em;background-color: #f0f8ff;}#sk-container-id-23 input.sk-toggleable__control:checked~div.sk-toggleable__content {max-height: 200px;max-width: 100%;overflow: auto;}#sk-container-id-23 input.sk-toggleable__control:checked~label.sk-toggleable__label-arrow:before {content: \"▾\";}#sk-container-id-23 div.sk-estimator input.sk-toggleable__control:checked~label.sk-toggleable__label {background-color: #d4ebff;}#sk-container-id-23 div.sk-label input.sk-toggleable__control:checked~label.sk-toggleable__label {background-color: #d4ebff;}#sk-container-id-23 input.sk-hidden--visually {border: 0;clip: rect(1px 1px 1px 1px);clip: rect(1px, 1px, 1px, 1px);height: 1px;margin: -1px;overflow: hidden;padding: 0;position: absolute;width: 1px;}#sk-container-id-23 div.sk-estimator {font-family: monospace;background-color: #f0f8ff;border: 1px dotted black;border-radius: 0.25em;box-sizing: border-box;margin-bottom: 0.5em;}#sk-container-id-23 div.sk-estimator:hover {background-color: #d4ebff;}#sk-container-id-23 div.sk-parallel-item::after {content: \"\";width: 100%;border-bottom: 1px solid gray;flex-grow: 1;}#sk-container-id-23 div.sk-label:hover label.sk-toggleable__label {background-color: #d4ebff;}#sk-container-id-23 div.sk-serial::before {content: \"\";position: absolute;border-left: 1px solid gray;box-sizing: border-box;top: 0;bottom: 0;left: 50%;z-index: 0;}#sk-container-id-23 div.sk-serial {display: flex;flex-direction: column;align-items: center;background-color: white;padding-right: 0.2em;padding-left: 0.2em;position: relative;}#sk-container-id-23 div.sk-item {position: relative;z-index: 1;}#sk-container-id-23 div.sk-parallel {display: flex;align-items: stretch;justify-content: center;background-color: white;position: relative;}#sk-container-id-23 div.sk-item::before, #sk-container-id-23 div.sk-parallel-item::before {content: \"\";position: absolute;border-left: 1px solid gray;box-sizing: border-box;top: 0;bottom: 0;left: 50%;z-index: -1;}#sk-container-id-23 div.sk-parallel-item {display: flex;flex-direction: column;z-index: 1;position: relative;background-color: white;}#sk-container-id-23 div.sk-parallel-item:first-child::after {align-self: flex-end;width: 50%;}#sk-container-id-23 div.sk-parallel-item:last-child::after {align-self: flex-start;width: 50%;}#sk-container-id-23 div.sk-parallel-item:only-child::after {width: 0;}#sk-container-id-23 div.sk-dashed-wrapped {border: 1px dashed gray;margin: 0 0.4em 0.5em 0.4em;box-sizing: border-box;padding-bottom: 0.4em;background-color: white;}#sk-container-id-23 div.sk-label label {font-family: monospace;font-weight: bold;display: inline-block;line-height: 1.2em;}#sk-container-id-23 div.sk-label-container {text-align: center;}#sk-container-id-23 div.sk-container {/* jupyter's `normalize.less` sets `[hidden] { display: none; }` but bootstrap.min.css set `[hidden] { display: none !important; }` so we also need the `!important` here to be able to override the default hidden behavior on the sphinx rendered scikit-learn.org. See: https://github.com/scikit-learn/scikit-learn/issues/21755 */display: inline-block !important;position: relative;}#sk-container-id-23 div.sk-text-repr-fallback {display: none;}</style><div id=\"sk-container-id-23\" class=\"sk-top-container\"><div class=\"sk-text-repr-fallback\"><pre>RandomForestClassifier(class_weight=&#x27;balanced_subsample&#x27;, criterion=&#x27;entropy&#x27;,\n",
       "                       max_features=None, n_estimators=139)</pre><b>In a Jupyter environment, please rerun this cell to show the HTML representation or trust the notebook. <br />On GitHub, the HTML representation is unable to render, please try loading this page with nbviewer.org.</b></div><div class=\"sk-container\" hidden><div class=\"sk-item\"><div class=\"sk-estimator sk-toggleable\"><input class=\"sk-toggleable__control sk-hidden--visually\" id=\"sk-estimator-id-114\" type=\"checkbox\" checked><label for=\"sk-estimator-id-114\" class=\"sk-toggleable__label sk-toggleable__label-arrow\">RandomForestClassifier</label><div class=\"sk-toggleable__content\"><pre>RandomForestClassifier(class_weight=&#x27;balanced_subsample&#x27;, criterion=&#x27;entropy&#x27;,\n",
       "                       max_features=None, n_estimators=139)</pre></div></div></div></div></div>"
      ],
      "text/plain": [
       "RandomForestClassifier(class_weight='balanced_subsample', criterion='entropy',\n",
       "                       max_features=None, n_estimators=139)"
      ]
     },
     "execution_count": 461,
     "metadata": {},
     "output_type": "execute_result"
    }
   ],
   "source": [
    "s_clf.get_params()['final_estimator']"
   ]
  },
  {
   "cell_type": "code",
   "execution_count": 468,
   "metadata": {},
   "outputs": [
    {
     "name": "stdout",
     "output_type": "stream",
     "text": [
      "[2024-01-25 14:36:11,745: WARNING: connectionpool: Retrying (Retry(total=4, connect=5, read=4, redirect=5, status=5)) after connection broken by 'RemoteDisconnected('Remote end closed connection without response')': /Raj-Narayanan-B/StudentMLProjectRegression.mlflow/api/2.0/mlflow/runs/create]\n"
     ]
    }
   ],
   "source": [
    "clf_list = []\n",
    "for i in range(len(trial_params['estimators'])):\n",
    "    clf_list.append((trial_params['estimators'][i][0],trial_params['estimators'][i][1].__class__()))\n",
    "\n",
    "estimators_params = {}\n",
    "for i in range(len(trial_params['estimators'])):\n",
    "        estimators_params[trial_params['estimators'][i][0]] = trial_params['estimators'][i][1].get_params()\n",
    "for i in estimators_params:\n",
    "        estimators_params[i] = {key:value for key,value in estimators_params[i].items() if value is not None}\n",
    "s_clf_params_trial_2 = {'estimators' : clf_list,\n",
    "                'final_estimator' : s_clf.get_params()['final_estimator'],\n",
    "                'cv' : s_clf.get_params()['cv'],\n",
    "                'stack_method' : s_clf.get_params()['stack_method'],\n",
    "                'passthrough' : s_clf.get_params()['passthrough']}\n",
    "for key,value in estimators_params.items():\n",
    "        s_clf_params_trial_2[f\"{key}_params\"] = value\n",
    "with mlflow.start_run(experiment_id = 154):\n",
    "    mlflow.log_params(s_clf_params_trial_2)"
   ]
  },
  {
   "cell_type": "code",
   "execution_count": 463,
   "metadata": {},
   "outputs": [
    {
     "name": "stdout",
     "output_type": "stream",
     "text": [
      "[2024-01-25 14:28:57,497: WARNING: connectionpool: Retrying (Retry(total=4, connect=5, read=4, redirect=5, status=5)) after connection broken by 'RemoteDisconnected('Remote end closed connection without response')': /Raj-Narayanan-B/StudentMLProjectRegression.mlflow/api/2.0/mlflow/runs/create]\n"
     ]
    },
    {
     "ename": "RestException",
     "evalue": "INVALID_PARAMETER_VALUE: Response: {'error_code': 'INVALID_PARAMETER_VALUE'}",
     "output_type": "error",
     "traceback": [
      "\u001b[1;31m---------------------------------------------------------------------------\u001b[0m",
      "\u001b[1;31mRestException\u001b[0m                             Traceback (most recent call last)",
      "Cell \u001b[1;32mIn[463], line 2\u001b[0m\n\u001b[0;32m      1\u001b[0m \u001b[38;5;28;01mwith\u001b[39;00m mlflow\u001b[38;5;241m.\u001b[39mstart_run(experiment_id \u001b[38;5;241m=\u001b[39m \u001b[38;5;241m154\u001b[39m):\n\u001b[1;32m----> 2\u001b[0m     \u001b[43mmlflow\u001b[49m\u001b[38;5;241;43m.\u001b[39;49m\u001b[43mlog_params\u001b[49m\u001b[43m(\u001b[49m\u001b[43ms_clf_params_trial\u001b[49m\u001b[43m)\u001b[49m\n",
      "File \u001b[1;32mf:\\iNeuron\\Projects\\scania_failures_2\\scania_truck\\Lib\\site-packages\\mlflow\\tracking\\fluent.py:863\u001b[0m, in \u001b[0;36mlog_params\u001b[1;34m(params, synchronous)\u001b[0m\n\u001b[0;32m    861\u001b[0m run_id \u001b[38;5;241m=\u001b[39m _get_or_start_run()\u001b[38;5;241m.\u001b[39minfo\u001b[38;5;241m.\u001b[39mrun_id\n\u001b[0;32m    862\u001b[0m params_arr \u001b[38;5;241m=\u001b[39m [Param(key, \u001b[38;5;28mstr\u001b[39m(value)) \u001b[38;5;28;01mfor\u001b[39;00m key, value \u001b[38;5;129;01min\u001b[39;00m params\u001b[38;5;241m.\u001b[39mitems()]\n\u001b[1;32m--> 863\u001b[0m \u001b[38;5;28;01mreturn\u001b[39;00m \u001b[43mMlflowClient\u001b[49m\u001b[43m(\u001b[49m\u001b[43m)\u001b[49m\u001b[38;5;241;43m.\u001b[39;49m\u001b[43mlog_batch\u001b[49m\u001b[43m(\u001b[49m\n\u001b[0;32m    864\u001b[0m \u001b[43m    \u001b[49m\u001b[43mrun_id\u001b[49m\u001b[38;5;241;43m=\u001b[39;49m\u001b[43mrun_id\u001b[49m\u001b[43m,\u001b[49m\u001b[43m \u001b[49m\u001b[43mmetrics\u001b[49m\u001b[38;5;241;43m=\u001b[39;49m\u001b[43m[\u001b[49m\u001b[43m]\u001b[49m\u001b[43m,\u001b[49m\u001b[43m \u001b[49m\u001b[43mparams\u001b[49m\u001b[38;5;241;43m=\u001b[39;49m\u001b[43mparams_arr\u001b[49m\u001b[43m,\u001b[49m\u001b[43m \u001b[49m\u001b[43mtags\u001b[49m\u001b[38;5;241;43m=\u001b[39;49m\u001b[43m[\u001b[49m\u001b[43m]\u001b[49m\u001b[43m,\u001b[49m\u001b[43m \u001b[49m\u001b[43msynchronous\u001b[49m\u001b[38;5;241;43m=\u001b[39;49m\u001b[43msynchronous\u001b[49m\n\u001b[0;32m    865\u001b[0m \u001b[43m\u001b[49m\u001b[43m)\u001b[49m\n",
      "File \u001b[1;32mf:\\iNeuron\\Projects\\scania_failures_2\\scania_truck\\Lib\\site-packages\\mlflow\\tracking\\client.py:1093\u001b[0m, in \u001b[0;36mMlflowClient.log_batch\u001b[1;34m(self, run_id, metrics, params, tags, synchronous)\u001b[0m\n\u001b[0;32m   1024\u001b[0m \u001b[38;5;28;01mdef\u001b[39;00m \u001b[38;5;21mlog_batch\u001b[39m(\n\u001b[0;32m   1025\u001b[0m     \u001b[38;5;28mself\u001b[39m,\n\u001b[0;32m   1026\u001b[0m     run_id: \u001b[38;5;28mstr\u001b[39m,\n\u001b[1;32m   (...)\u001b[0m\n\u001b[0;32m   1030\u001b[0m     synchronous: \u001b[38;5;28mbool\u001b[39m \u001b[38;5;241m=\u001b[39m \u001b[38;5;28;01mTrue\u001b[39;00m,\n\u001b[0;32m   1031\u001b[0m ) \u001b[38;5;241m-\u001b[39m\u001b[38;5;241m>\u001b[39m Optional[RunOperations]:\n\u001b[0;32m   1032\u001b[0m \u001b[38;5;250m    \u001b[39m\u001b[38;5;124;03m\"\"\"\u001b[39;00m\n\u001b[0;32m   1033\u001b[0m \u001b[38;5;124;03m    Log multiple metrics, params, and/or tags.\u001b[39;00m\n\u001b[0;32m   1034\u001b[0m \n\u001b[1;32m   (...)\u001b[0m\n\u001b[0;32m   1091\u001b[0m \u001b[38;5;124;03m        status: FINISHED\u001b[39;00m\n\u001b[0;32m   1092\u001b[0m \u001b[38;5;124;03m    \"\"\"\u001b[39;00m\n\u001b[1;32m-> 1093\u001b[0m     \u001b[38;5;28;01mreturn\u001b[39;00m \u001b[38;5;28;43mself\u001b[39;49m\u001b[38;5;241;43m.\u001b[39;49m\u001b[43m_tracking_client\u001b[49m\u001b[38;5;241;43m.\u001b[39;49m\u001b[43mlog_batch\u001b[49m\u001b[43m(\u001b[49m\n\u001b[0;32m   1094\u001b[0m \u001b[43m        \u001b[49m\u001b[43mrun_id\u001b[49m\u001b[43m,\u001b[49m\u001b[43m \u001b[49m\u001b[43mmetrics\u001b[49m\u001b[43m,\u001b[49m\u001b[43m \u001b[49m\u001b[43mparams\u001b[49m\u001b[43m,\u001b[49m\u001b[43m \u001b[49m\u001b[43mtags\u001b[49m\u001b[43m,\u001b[49m\u001b[43m \u001b[49m\u001b[43msynchronous\u001b[49m\u001b[38;5;241;43m=\u001b[39;49m\u001b[43msynchronous\u001b[49m\n\u001b[0;32m   1095\u001b[0m \u001b[43m    \u001b[49m\u001b[43m)\u001b[49m\n",
      "File \u001b[1;32mf:\\iNeuron\\Projects\\scania_failures_2\\scania_truck\\Lib\\site-packages\\mlflow\\tracking\\_tracking_service\\client.py:444\u001b[0m, in \u001b[0;36mTrackingServiceClient.log_batch\u001b[1;34m(self, run_id, metrics, params, tags, synchronous)\u001b[0m\n\u001b[0;32m    441\u001b[0m metrics \u001b[38;5;241m=\u001b[39m metrics[metrics_batch_size:]\n\u001b[0;32m    443\u001b[0m \u001b[38;5;28;01mif\u001b[39;00m synchronous:\n\u001b[1;32m--> 444\u001b[0m     \u001b[38;5;28;43mself\u001b[39;49m\u001b[38;5;241;43m.\u001b[39;49m\u001b[43mstore\u001b[49m\u001b[38;5;241;43m.\u001b[39;49m\u001b[43mlog_batch\u001b[49m\u001b[43m(\u001b[49m\n\u001b[0;32m    445\u001b[0m \u001b[43m        \u001b[49m\u001b[43mrun_id\u001b[49m\u001b[38;5;241;43m=\u001b[39;49m\u001b[43mrun_id\u001b[49m\u001b[43m,\u001b[49m\u001b[43m \u001b[49m\u001b[43mmetrics\u001b[49m\u001b[38;5;241;43m=\u001b[39;49m\u001b[43mmetrics_batch\u001b[49m\u001b[43m,\u001b[49m\u001b[43m \u001b[49m\u001b[43mparams\u001b[49m\u001b[38;5;241;43m=\u001b[39;49m\u001b[43mparams_batch\u001b[49m\u001b[43m,\u001b[49m\u001b[43m \u001b[49m\u001b[43mtags\u001b[49m\u001b[38;5;241;43m=\u001b[39;49m\u001b[43mtags_batch\u001b[49m\n\u001b[0;32m    446\u001b[0m \u001b[43m    \u001b[49m\u001b[43m)\u001b[49m\n\u001b[0;32m    447\u001b[0m \u001b[38;5;28;01melse\u001b[39;00m:\n\u001b[0;32m    448\u001b[0m     run_operations_list\u001b[38;5;241m.\u001b[39mappend(\n\u001b[0;32m    449\u001b[0m         \u001b[38;5;28mself\u001b[39m\u001b[38;5;241m.\u001b[39mstore\u001b[38;5;241m.\u001b[39mlog_batch_async(\n\u001b[0;32m    450\u001b[0m             run_id\u001b[38;5;241m=\u001b[39mrun_id,\n\u001b[1;32m   (...)\u001b[0m\n\u001b[0;32m    454\u001b[0m         )\n\u001b[0;32m    455\u001b[0m     )\n",
      "File \u001b[1;32mf:\\iNeuron\\Projects\\scania_failures_2\\scania_truck\\Lib\\site-packages\\mlflow\\store\\tracking\\rest_store.py:323\u001b[0m, in \u001b[0;36mRestStore.log_batch\u001b[1;34m(self, run_id, metrics, params, tags)\u001b[0m\n\u001b[0;32m    319\u001b[0m tag_protos \u001b[38;5;241m=\u001b[39m [tag\u001b[38;5;241m.\u001b[39mto_proto() \u001b[38;5;28;01mfor\u001b[39;00m tag \u001b[38;5;129;01min\u001b[39;00m tags]\n\u001b[0;32m    320\u001b[0m req_body \u001b[38;5;241m=\u001b[39m message_to_json(\n\u001b[0;32m    321\u001b[0m     LogBatch(metrics\u001b[38;5;241m=\u001b[39mmetric_protos, params\u001b[38;5;241m=\u001b[39mparam_protos, tags\u001b[38;5;241m=\u001b[39mtag_protos, run_id\u001b[38;5;241m=\u001b[39mrun_id)\n\u001b[0;32m    322\u001b[0m )\n\u001b[1;32m--> 323\u001b[0m \u001b[38;5;28;43mself\u001b[39;49m\u001b[38;5;241;43m.\u001b[39;49m\u001b[43m_call_endpoint\u001b[49m\u001b[43m(\u001b[49m\u001b[43mLogBatch\u001b[49m\u001b[43m,\u001b[49m\u001b[43m \u001b[49m\u001b[43mreq_body\u001b[49m\u001b[43m)\u001b[49m\n",
      "File \u001b[1;32mf:\\iNeuron\\Projects\\scania_failures_2\\scania_truck\\Lib\\site-packages\\mlflow\\store\\tracking\\rest_store.py:59\u001b[0m, in \u001b[0;36mRestStore._call_endpoint\u001b[1;34m(self, api, json_body)\u001b[0m\n\u001b[0;32m     57\u001b[0m endpoint, method \u001b[38;5;241m=\u001b[39m _METHOD_TO_INFO[api]\n\u001b[0;32m     58\u001b[0m response_proto \u001b[38;5;241m=\u001b[39m api\u001b[38;5;241m.\u001b[39mResponse()\n\u001b[1;32m---> 59\u001b[0m \u001b[38;5;28;01mreturn\u001b[39;00m \u001b[43mcall_endpoint\u001b[49m\u001b[43m(\u001b[49m\u001b[38;5;28;43mself\u001b[39;49m\u001b[38;5;241;43m.\u001b[39;49m\u001b[43mget_host_creds\u001b[49m\u001b[43m(\u001b[49m\u001b[43m)\u001b[49m\u001b[43m,\u001b[49m\u001b[43m \u001b[49m\u001b[43mendpoint\u001b[49m\u001b[43m,\u001b[49m\u001b[43m \u001b[49m\u001b[43mmethod\u001b[49m\u001b[43m,\u001b[49m\u001b[43m \u001b[49m\u001b[43mjson_body\u001b[49m\u001b[43m,\u001b[49m\u001b[43m \u001b[49m\u001b[43mresponse_proto\u001b[49m\u001b[43m)\u001b[49m\n",
      "File \u001b[1;32mf:\\iNeuron\\Projects\\scania_failures_2\\scania_truck\\Lib\\site-packages\\mlflow\\utils\\rest_utils.py:219\u001b[0m, in \u001b[0;36mcall_endpoint\u001b[1;34m(host_creds, endpoint, method, json_body, response_proto, extra_headers)\u001b[0m\n\u001b[0;32m    217\u001b[0m     call_kwargs[\u001b[38;5;124m\"\u001b[39m\u001b[38;5;124mjson\u001b[39m\u001b[38;5;124m\"\u001b[39m] \u001b[38;5;241m=\u001b[39m json_body\n\u001b[0;32m    218\u001b[0m     response \u001b[38;5;241m=\u001b[39m http_request(\u001b[38;5;241m*\u001b[39m\u001b[38;5;241m*\u001b[39mcall_kwargs)\n\u001b[1;32m--> 219\u001b[0m response \u001b[38;5;241m=\u001b[39m \u001b[43mverify_rest_response\u001b[49m\u001b[43m(\u001b[49m\u001b[43mresponse\u001b[49m\u001b[43m,\u001b[49m\u001b[43m \u001b[49m\u001b[43mendpoint\u001b[49m\u001b[43m)\u001b[49m\n\u001b[0;32m    220\u001b[0m js_dict \u001b[38;5;241m=\u001b[39m json\u001b[38;5;241m.\u001b[39mloads(response\u001b[38;5;241m.\u001b[39mtext)\n\u001b[0;32m    221\u001b[0m parse_dict(js_dict\u001b[38;5;241m=\u001b[39mjs_dict, message\u001b[38;5;241m=\u001b[39mresponse_proto)\n",
      "File \u001b[1;32mf:\\iNeuron\\Projects\\scania_failures_2\\scania_truck\\Lib\\site-packages\\mlflow\\utils\\rest_utils.py:151\u001b[0m, in \u001b[0;36mverify_rest_response\u001b[1;34m(response, endpoint)\u001b[0m\n\u001b[0;32m    149\u001b[0m \u001b[38;5;28;01mif\u001b[39;00m response\u001b[38;5;241m.\u001b[39mstatus_code \u001b[38;5;241m!=\u001b[39m \u001b[38;5;241m200\u001b[39m:\n\u001b[0;32m    150\u001b[0m     \u001b[38;5;28;01mif\u001b[39;00m _can_parse_as_json_object(response\u001b[38;5;241m.\u001b[39mtext):\n\u001b[1;32m--> 151\u001b[0m         \u001b[38;5;28;01mraise\u001b[39;00m RestException(json\u001b[38;5;241m.\u001b[39mloads(response\u001b[38;5;241m.\u001b[39mtext))\n\u001b[0;32m    152\u001b[0m     \u001b[38;5;28;01melse\u001b[39;00m:\n\u001b[0;32m    153\u001b[0m         base_msg \u001b[38;5;241m=\u001b[39m (\n\u001b[0;32m    154\u001b[0m             \u001b[38;5;124mf\u001b[39m\u001b[38;5;124m\"\u001b[39m\u001b[38;5;124mAPI request to endpoint \u001b[39m\u001b[38;5;132;01m{\u001b[39;00mendpoint\u001b[38;5;132;01m}\u001b[39;00m\u001b[38;5;124m \u001b[39m\u001b[38;5;124m\"\u001b[39m\n\u001b[0;32m    155\u001b[0m             \u001b[38;5;124mf\u001b[39m\u001b[38;5;124m\"\u001b[39m\u001b[38;5;124mfailed with error code \u001b[39m\u001b[38;5;132;01m{\u001b[39;00mresponse\u001b[38;5;241m.\u001b[39mstatus_code\u001b[38;5;132;01m}\u001b[39;00m\u001b[38;5;124m != 200\u001b[39m\u001b[38;5;124m\"\u001b[39m\n\u001b[0;32m    156\u001b[0m         )\n",
      "\u001b[1;31mRestException\u001b[0m: INVALID_PARAMETER_VALUE: Response: {'error_code': 'INVALID_PARAMETER_VALUE'}"
     ]
    }
   ],
   "source": [
    "with mlflow.start_run(experiment_id = 154):\n",
    "    mlflow.log_params(s_clf_params_trial)"
   ]
  },
  {
   "cell_type": "code",
   "execution_count": 453,
   "metadata": {},
   "outputs": [],
   "source": [
    "s_clf = StackingClassifier(estimators = trial_params['estimators'],\n",
    "                           final_estimator=RandomForestClassifier(class_weight='balanced_subsample', criterion='entropy',\n",
    "                         max_features=None, n_estimators=139),\n",
    "                           cv=5,\n",
    "                           stack_method = 'auto',\n",
    "                           passthrough=True)"
   ]
  },
  {
   "cell_type": "code",
   "execution_count": 454,
   "metadata": {},
   "outputs": [
    {
     "data": {
      "text/html": [
       "<style>#sk-container-id-21 {color: black;}#sk-container-id-21 pre{padding: 0;}#sk-container-id-21 div.sk-toggleable {background-color: white;}#sk-container-id-21 label.sk-toggleable__label {cursor: pointer;display: block;width: 100%;margin-bottom: 0;padding: 0.3em;box-sizing: border-box;text-align: center;}#sk-container-id-21 label.sk-toggleable__label-arrow:before {content: \"▸\";float: left;margin-right: 0.25em;color: #696969;}#sk-container-id-21 label.sk-toggleable__label-arrow:hover:before {color: black;}#sk-container-id-21 div.sk-estimator:hover label.sk-toggleable__label-arrow:before {color: black;}#sk-container-id-21 div.sk-toggleable__content {max-height: 0;max-width: 0;overflow: hidden;text-align: left;background-color: #f0f8ff;}#sk-container-id-21 div.sk-toggleable__content pre {margin: 0.2em;color: black;border-radius: 0.25em;background-color: #f0f8ff;}#sk-container-id-21 input.sk-toggleable__control:checked~div.sk-toggleable__content {max-height: 200px;max-width: 100%;overflow: auto;}#sk-container-id-21 input.sk-toggleable__control:checked~label.sk-toggleable__label-arrow:before {content: \"▾\";}#sk-container-id-21 div.sk-estimator input.sk-toggleable__control:checked~label.sk-toggleable__label {background-color: #d4ebff;}#sk-container-id-21 div.sk-label input.sk-toggleable__control:checked~label.sk-toggleable__label {background-color: #d4ebff;}#sk-container-id-21 input.sk-hidden--visually {border: 0;clip: rect(1px 1px 1px 1px);clip: rect(1px, 1px, 1px, 1px);height: 1px;margin: -1px;overflow: hidden;padding: 0;position: absolute;width: 1px;}#sk-container-id-21 div.sk-estimator {font-family: monospace;background-color: #f0f8ff;border: 1px dotted black;border-radius: 0.25em;box-sizing: border-box;margin-bottom: 0.5em;}#sk-container-id-21 div.sk-estimator:hover {background-color: #d4ebff;}#sk-container-id-21 div.sk-parallel-item::after {content: \"\";width: 100%;border-bottom: 1px solid gray;flex-grow: 1;}#sk-container-id-21 div.sk-label:hover label.sk-toggleable__label {background-color: #d4ebff;}#sk-container-id-21 div.sk-serial::before {content: \"\";position: absolute;border-left: 1px solid gray;box-sizing: border-box;top: 0;bottom: 0;left: 50%;z-index: 0;}#sk-container-id-21 div.sk-serial {display: flex;flex-direction: column;align-items: center;background-color: white;padding-right: 0.2em;padding-left: 0.2em;position: relative;}#sk-container-id-21 div.sk-item {position: relative;z-index: 1;}#sk-container-id-21 div.sk-parallel {display: flex;align-items: stretch;justify-content: center;background-color: white;position: relative;}#sk-container-id-21 div.sk-item::before, #sk-container-id-21 div.sk-parallel-item::before {content: \"\";position: absolute;border-left: 1px solid gray;box-sizing: border-box;top: 0;bottom: 0;left: 50%;z-index: -1;}#sk-container-id-21 div.sk-parallel-item {display: flex;flex-direction: column;z-index: 1;position: relative;background-color: white;}#sk-container-id-21 div.sk-parallel-item:first-child::after {align-self: flex-end;width: 50%;}#sk-container-id-21 div.sk-parallel-item:last-child::after {align-self: flex-start;width: 50%;}#sk-container-id-21 div.sk-parallel-item:only-child::after {width: 0;}#sk-container-id-21 div.sk-dashed-wrapped {border: 1px dashed gray;margin: 0 0.4em 0.5em 0.4em;box-sizing: border-box;padding-bottom: 0.4em;background-color: white;}#sk-container-id-21 div.sk-label label {font-family: monospace;font-weight: bold;display: inline-block;line-height: 1.2em;}#sk-container-id-21 div.sk-label-container {text-align: center;}#sk-container-id-21 div.sk-container {/* jupyter's `normalize.less` sets `[hidden] { display: none; }` but bootstrap.min.css set `[hidden] { display: none !important; }` so we also need the `!important` here to be able to override the default hidden behavior on the sphinx rendered scikit-learn.org. See: https://github.com/scikit-learn/scikit-learn/issues/21755 */display: inline-block !important;position: relative;}#sk-container-id-21 div.sk-text-repr-fallback {display: none;}</style><div id=\"sk-container-id-21\" class=\"sk-top-container\"><div class=\"sk-text-repr-fallback\"><pre>StackingClassifier(cv=5,\n",
       "                   estimators=[(&#x27;SGD_Classifier&#x27;,\n",
       "                                SGDClassifier(loss=&#x27;log_loss&#x27;)),\n",
       "                               (&#x27;Random Forest&#x27;,\n",
       "                                RandomForestClassifier(class_weight=&#x27;balanced_subsample&#x27;,\n",
       "                                                       criterion=&#x27;entropy&#x27;,\n",
       "                                                       max_features=None,\n",
       "                                                       n_estimators=139)),\n",
       "                               (&#x27;Hist_Grad_Boost_Classifier&#x27;,\n",
       "                                HistGradientBoostingClassifier(max_iter=575)),\n",
       "                               (&#x27;Bagging_Classifier&#x27;,\n",
       "                                BaggingClassifier(n_estimators=59)),...\n",
       "                                              max_delta_step=None,\n",
       "                                              max_depth=None, max_leaves=None,\n",
       "                                              min_child_weight=None,\n",
       "                                              missing=nan,\n",
       "                                              monotone_constraints=None,\n",
       "                                              multi_strategy=None,\n",
       "                                              n_estimators=None, n_jobs=None,\n",
       "                                              num_parallel_tree=None,\n",
       "                                              random_state=None, ...))],\n",
       "                   final_estimator=RandomForestClassifier(class_weight=&#x27;balanced_subsample&#x27;,\n",
       "                                                          criterion=&#x27;entropy&#x27;,\n",
       "                                                          max_features=None,\n",
       "                                                          n_estimators=139),\n",
       "                   passthrough=True)</pre><b>In a Jupyter environment, please rerun this cell to show the HTML representation or trust the notebook. <br />On GitHub, the HTML representation is unable to render, please try loading this page with nbviewer.org.</b></div><div class=\"sk-container\" hidden><div class=\"sk-item sk-dashed-wrapped\"><div class=\"sk-label-container\"><div class=\"sk-label sk-toggleable\"><input class=\"sk-toggleable__control sk-hidden--visually\" id=\"sk-estimator-id-104\" type=\"checkbox\" ><label for=\"sk-estimator-id-104\" class=\"sk-toggleable__label sk-toggleable__label-arrow\">StackingClassifier</label><div class=\"sk-toggleable__content\"><pre>StackingClassifier(cv=5,\n",
       "                   estimators=[(&#x27;SGD_Classifier&#x27;,\n",
       "                                SGDClassifier(loss=&#x27;log_loss&#x27;)),\n",
       "                               (&#x27;Random Forest&#x27;,\n",
       "                                RandomForestClassifier(class_weight=&#x27;balanced_subsample&#x27;,\n",
       "                                                       criterion=&#x27;entropy&#x27;,\n",
       "                                                       max_features=None,\n",
       "                                                       n_estimators=139)),\n",
       "                               (&#x27;Hist_Grad_Boost_Classifier&#x27;,\n",
       "                                HistGradientBoostingClassifier(max_iter=575)),\n",
       "                               (&#x27;Bagging_Classifier&#x27;,\n",
       "                                BaggingClassifier(n_estimators=59)),...\n",
       "                                              max_delta_step=None,\n",
       "                                              max_depth=None, max_leaves=None,\n",
       "                                              min_child_weight=None,\n",
       "                                              missing=nan,\n",
       "                                              monotone_constraints=None,\n",
       "                                              multi_strategy=None,\n",
       "                                              n_estimators=None, n_jobs=None,\n",
       "                                              num_parallel_tree=None,\n",
       "                                              random_state=None, ...))],\n",
       "                   final_estimator=RandomForestClassifier(class_weight=&#x27;balanced_subsample&#x27;,\n",
       "                                                          criterion=&#x27;entropy&#x27;,\n",
       "                                                          max_features=None,\n",
       "                                                          n_estimators=139),\n",
       "                   passthrough=True)</pre></div></div></div><div class=\"sk-serial\"><div class=\"sk-item\"><div class=\"sk-parallel\"><div class=\"sk-parallel-item\"><div class=\"sk-item\"><div class=\"sk-label-container\"><div class=\"sk-label sk-toggleable\"><label>SGD_Classifier</label></div></div><div class=\"sk-serial\"><div class=\"sk-item\"><div class=\"sk-estimator sk-toggleable\"><input class=\"sk-toggleable__control sk-hidden--visually\" id=\"sk-estimator-id-105\" type=\"checkbox\" ><label for=\"sk-estimator-id-105\" class=\"sk-toggleable__label sk-toggleable__label-arrow\">SGDClassifier</label><div class=\"sk-toggleable__content\"><pre>SGDClassifier(loss=&#x27;log_loss&#x27;)</pre></div></div></div></div></div></div><div class=\"sk-parallel-item\"><div class=\"sk-item\"><div class=\"sk-label-container\"><div class=\"sk-label sk-toggleable\"><label>Random Forest</label></div></div><div class=\"sk-serial\"><div class=\"sk-item\"><div class=\"sk-estimator sk-toggleable\"><input class=\"sk-toggleable__control sk-hidden--visually\" id=\"sk-estimator-id-106\" type=\"checkbox\" ><label for=\"sk-estimator-id-106\" class=\"sk-toggleable__label sk-toggleable__label-arrow\">RandomForestClassifier</label><div class=\"sk-toggleable__content\"><pre>RandomForestClassifier(class_weight=&#x27;balanced_subsample&#x27;, criterion=&#x27;entropy&#x27;,\n",
       "                       max_features=None, n_estimators=139)</pre></div></div></div></div></div></div><div class=\"sk-parallel-item\"><div class=\"sk-item\"><div class=\"sk-label-container\"><div class=\"sk-label sk-toggleable\"><label>Hist_Grad_Boost_Classifier</label></div></div><div class=\"sk-serial\"><div class=\"sk-item\"><div class=\"sk-estimator sk-toggleable\"><input class=\"sk-toggleable__control sk-hidden--visually\" id=\"sk-estimator-id-107\" type=\"checkbox\" ><label for=\"sk-estimator-id-107\" class=\"sk-toggleable__label sk-toggleable__label-arrow\">HistGradientBoostingClassifier</label><div class=\"sk-toggleable__content\"><pre>HistGradientBoostingClassifier(max_iter=575)</pre></div></div></div></div></div></div><div class=\"sk-parallel-item\"><div class=\"sk-item\"><div class=\"sk-label-container\"><div class=\"sk-label sk-toggleable\"><label>Bagging_Classifier</label></div></div><div class=\"sk-serial\"><div class=\"sk-item\"><div class=\"sk-estimator sk-toggleable\"><input class=\"sk-toggleable__control sk-hidden--visually\" id=\"sk-estimator-id-108\" type=\"checkbox\" ><label for=\"sk-estimator-id-108\" class=\"sk-toggleable__label sk-toggleable__label-arrow\">BaggingClassifier</label><div class=\"sk-toggleable__content\"><pre>BaggingClassifier(n_estimators=59)</pre></div></div></div></div></div></div><div class=\"sk-parallel-item\"><div class=\"sk-item\"><div class=\"sk-label-container\"><div class=\"sk-label sk-toggleable\"><label>Ada_Boost</label></div></div><div class=\"sk-serial\"><div class=\"sk-item\"><div class=\"sk-estimator sk-toggleable\"><input class=\"sk-toggleable__control sk-hidden--visually\" id=\"sk-estimator-id-109\" type=\"checkbox\" ><label for=\"sk-estimator-id-109\" class=\"sk-toggleable__label sk-toggleable__label-arrow\">AdaBoostClassifier</label><div class=\"sk-toggleable__content\"><pre>AdaBoostClassifier(algorithm=&#x27;SAMME&#x27;, n_estimators=133)</pre></div></div></div></div></div></div><div class=\"sk-parallel-item\"><div class=\"sk-item\"><div class=\"sk-label-container\"><div class=\"sk-label sk-toggleable\"><label>Grad_Boost</label></div></div><div class=\"sk-serial\"><div class=\"sk-item\"><div class=\"sk-estimator sk-toggleable\"><input class=\"sk-toggleable__control sk-hidden--visually\" id=\"sk-estimator-id-110\" type=\"checkbox\" ><label for=\"sk-estimator-id-110\" class=\"sk-toggleable__label sk-toggleable__label-arrow\">GradientBoostingClassifier</label><div class=\"sk-toggleable__content\"><pre>GradientBoostingClassifier(criterion=&#x27;squared_error&#x27;, loss=&#x27;exponential&#x27;,\n",
       "                           max_features=&#x27;log2&#x27;, n_estimators=143)</pre></div></div></div></div></div></div><div class=\"sk-parallel-item\"><div class=\"sk-item\"><div class=\"sk-label-container\"><div class=\"sk-label sk-toggleable\"><label>XGB_Classifier</label></div></div><div class=\"sk-serial\"><div class=\"sk-item\"><div class=\"sk-estimator sk-toggleable\"><input class=\"sk-toggleable__control sk-hidden--visually\" id=\"sk-estimator-id-111\" type=\"checkbox\" ><label for=\"sk-estimator-id-111\" class=\"sk-toggleable__label sk-toggleable__label-arrow\">XGBClassifier</label><div class=\"sk-toggleable__content\"><pre>XGBClassifier(base_score=None, booster=None, callbacks=None,\n",
       "              colsample_bylevel=None, colsample_bynode=None,\n",
       "              colsample_bytree=None, device=None, early_stopping_rounds=None,\n",
       "              enable_categorical=False, eval_metric=None, feature_types=None,\n",
       "              gamma=None, grow_policy=None, importance_type=None,\n",
       "              interaction_constraints=None, learning_rate=None, max_bin=None,\n",
       "              max_cat_threshold=None, max_cat_to_onehot=None,\n",
       "              max_delta_step=None, max_depth=None, max_leaves=None,\n",
       "              min_child_weight=None, missing=nan, monotone_constraints=None,\n",
       "              multi_strategy=None, n_estimators=None, n_jobs=None,\n",
       "              num_parallel_tree=None, random_state=None, ...)</pre></div></div></div></div></div></div></div></div><div class=\"sk-item\"><div class=\"sk-parallel\"><div class=\"sk-parallel-item\"><div class=\"sk-item\"><div class=\"sk-label-container\"><div class=\"sk-label sk-toggleable\"><label>final_estimator</label></div></div><div class=\"sk-serial\"><div class=\"sk-item\"><div class=\"sk-estimator sk-toggleable\"><input class=\"sk-toggleable__control sk-hidden--visually\" id=\"sk-estimator-id-112\" type=\"checkbox\" ><label for=\"sk-estimator-id-112\" class=\"sk-toggleable__label sk-toggleable__label-arrow\">RandomForestClassifier</label><div class=\"sk-toggleable__content\"><pre>RandomForestClassifier(class_weight=&#x27;balanced_subsample&#x27;, criterion=&#x27;entropy&#x27;,\n",
       "                       max_features=None, n_estimators=139)</pre></div></div></div></div></div></div></div></div></div></div></div></div>"
      ],
      "text/plain": [
       "StackingClassifier(cv=5,\n",
       "                   estimators=[('SGD_Classifier',\n",
       "                                SGDClassifier(loss='log_loss')),\n",
       "                               ('Random Forest',\n",
       "                                RandomForestClassifier(class_weight='balanced_subsample',\n",
       "                                                       criterion='entropy',\n",
       "                                                       max_features=None,\n",
       "                                                       n_estimators=139)),\n",
       "                               ('Hist_Grad_Boost_Classifier',\n",
       "                                HistGradientBoostingClassifier(max_iter=575)),\n",
       "                               ('Bagging_Classifier',\n",
       "                                BaggingClassifier(n_estimators=59)),...\n",
       "                                              max_delta_step=None,\n",
       "                                              max_depth=None, max_leaves=None,\n",
       "                                              min_child_weight=None,\n",
       "                                              missing=nan,\n",
       "                                              monotone_constraints=None,\n",
       "                                              multi_strategy=None,\n",
       "                                              n_estimators=None, n_jobs=None,\n",
       "                                              num_parallel_tree=None,\n",
       "                                              random_state=None, ...))],\n",
       "                   final_estimator=RandomForestClassifier(class_weight='balanced_subsample',\n",
       "                                                          criterion='entropy',\n",
       "                                                          max_features=None,\n",
       "                                                          n_estimators=139),\n",
       "                   passthrough=True)"
      ]
     },
     "execution_count": 454,
     "metadata": {},
     "output_type": "execute_result"
    }
   ],
   "source": [
    "s_clf"
   ]
  },
  {
   "cell_type": "code",
   "execution_count": 423,
   "metadata": {},
   "outputs": [
    {
     "data": {
      "text/html": [
       "<style>#sk-container-id-19 {color: black;}#sk-container-id-19 pre{padding: 0;}#sk-container-id-19 div.sk-toggleable {background-color: white;}#sk-container-id-19 label.sk-toggleable__label {cursor: pointer;display: block;width: 100%;margin-bottom: 0;padding: 0.3em;box-sizing: border-box;text-align: center;}#sk-container-id-19 label.sk-toggleable__label-arrow:before {content: \"▸\";float: left;margin-right: 0.25em;color: #696969;}#sk-container-id-19 label.sk-toggleable__label-arrow:hover:before {color: black;}#sk-container-id-19 div.sk-estimator:hover label.sk-toggleable__label-arrow:before {color: black;}#sk-container-id-19 div.sk-toggleable__content {max-height: 0;max-width: 0;overflow: hidden;text-align: left;background-color: #f0f8ff;}#sk-container-id-19 div.sk-toggleable__content pre {margin: 0.2em;color: black;border-radius: 0.25em;background-color: #f0f8ff;}#sk-container-id-19 input.sk-toggleable__control:checked~div.sk-toggleable__content {max-height: 200px;max-width: 100%;overflow: auto;}#sk-container-id-19 input.sk-toggleable__control:checked~label.sk-toggleable__label-arrow:before {content: \"▾\";}#sk-container-id-19 div.sk-estimator input.sk-toggleable__control:checked~label.sk-toggleable__label {background-color: #d4ebff;}#sk-container-id-19 div.sk-label input.sk-toggleable__control:checked~label.sk-toggleable__label {background-color: #d4ebff;}#sk-container-id-19 input.sk-hidden--visually {border: 0;clip: rect(1px 1px 1px 1px);clip: rect(1px, 1px, 1px, 1px);height: 1px;margin: -1px;overflow: hidden;padding: 0;position: absolute;width: 1px;}#sk-container-id-19 div.sk-estimator {font-family: monospace;background-color: #f0f8ff;border: 1px dotted black;border-radius: 0.25em;box-sizing: border-box;margin-bottom: 0.5em;}#sk-container-id-19 div.sk-estimator:hover {background-color: #d4ebff;}#sk-container-id-19 div.sk-parallel-item::after {content: \"\";width: 100%;border-bottom: 1px solid gray;flex-grow: 1;}#sk-container-id-19 div.sk-label:hover label.sk-toggleable__label {background-color: #d4ebff;}#sk-container-id-19 div.sk-serial::before {content: \"\";position: absolute;border-left: 1px solid gray;box-sizing: border-box;top: 0;bottom: 0;left: 50%;z-index: 0;}#sk-container-id-19 div.sk-serial {display: flex;flex-direction: column;align-items: center;background-color: white;padding-right: 0.2em;padding-left: 0.2em;position: relative;}#sk-container-id-19 div.sk-item {position: relative;z-index: 1;}#sk-container-id-19 div.sk-parallel {display: flex;align-items: stretch;justify-content: center;background-color: white;position: relative;}#sk-container-id-19 div.sk-item::before, #sk-container-id-19 div.sk-parallel-item::before {content: \"\";position: absolute;border-left: 1px solid gray;box-sizing: border-box;top: 0;bottom: 0;left: 50%;z-index: -1;}#sk-container-id-19 div.sk-parallel-item {display: flex;flex-direction: column;z-index: 1;position: relative;background-color: white;}#sk-container-id-19 div.sk-parallel-item:first-child::after {align-self: flex-end;width: 50%;}#sk-container-id-19 div.sk-parallel-item:last-child::after {align-self: flex-start;width: 50%;}#sk-container-id-19 div.sk-parallel-item:only-child::after {width: 0;}#sk-container-id-19 div.sk-dashed-wrapped {border: 1px dashed gray;margin: 0 0.4em 0.5em 0.4em;box-sizing: border-box;padding-bottom: 0.4em;background-color: white;}#sk-container-id-19 div.sk-label label {font-family: monospace;font-weight: bold;display: inline-block;line-height: 1.2em;}#sk-container-id-19 div.sk-label-container {text-align: center;}#sk-container-id-19 div.sk-container {/* jupyter's `normalize.less` sets `[hidden] { display: none; }` but bootstrap.min.css set `[hidden] { display: none !important; }` so we also need the `!important` here to be able to override the default hidden behavior on the sphinx rendered scikit-learn.org. See: https://github.com/scikit-learn/scikit-learn/issues/21755 */display: inline-block !important;position: relative;}#sk-container-id-19 div.sk-text-repr-fallback {display: none;}</style><div id=\"sk-container-id-19\" class=\"sk-top-container\"><div class=\"sk-text-repr-fallback\"><pre>GradientBoostingClassifier()</pre><b>In a Jupyter environment, please rerun this cell to show the HTML representation or trust the notebook. <br />On GitHub, the HTML representation is unable to render, please try loading this page with nbviewer.org.</b></div><div class=\"sk-container\" hidden><div class=\"sk-item\"><div class=\"sk-estimator sk-toggleable\"><input class=\"sk-toggleable__control sk-hidden--visually\" id=\"sk-estimator-id-102\" type=\"checkbox\" checked><label for=\"sk-estimator-id-102\" class=\"sk-toggleable__label sk-toggleable__label-arrow\">GradientBoostingClassifier</label><div class=\"sk-toggleable__content\"><pre>GradientBoostingClassifier()</pre></div></div></div></div></div>"
      ],
      "text/plain": [
       "GradientBoostingClassifier()"
      ]
     },
     "execution_count": 423,
     "metadata": {},
     "output_type": "execute_result"
    }
   ],
   "source": [
    "s_clf.get_params()['estimators'][5][1].__class__()"
   ]
  },
  {
   "cell_type": "code",
   "execution_count": 458,
   "metadata": {},
   "outputs": [
    {
     "name": "stdout",
     "output_type": "stream",
     "text": [
      "[2024-01-25 14:16:07,252: WARNING: connectionpool: Retrying (Retry(total=4, connect=5, read=4, redirect=5, status=5)) after connection broken by 'RemoteDisconnected('Remote end closed connection without response')': /Raj-Narayanan-B/StudentMLProjectRegression.mlflow/api/2.0/mlflow/runs/create]\n"
     ]
    }
   ],
   "source": [
    "flag = 0\n",
    "for i in range(len(s_clf.get_params()['estimators'])):\n",
    "    if 'XGB_Classifier' == s_clf.get_params()['estimators'][i][0]:\n",
    "        flag =1\n",
    "if flag == 1:\n",
    "    clf_list = []\n",
    "    for i in range(len(s_clf.get_params()['estimators'])):\n",
    "        if s_clf.get_params()['estimators'][i][0] != \"XGB_Classifier\":\n",
    "            clf_list.append((s_clf.get_params()['estimators'][i][0],s_clf.get_params()['estimators'][i][1].__class__()))\n",
    "    estimators_params = {}\n",
    "    for i in range(len(s_clf.get_params()['estimators'])):\n",
    "        estimators_params[s_clf.get_params()['estimators'][i][0]] = s_clf.get_params()['estimators'][i][1].get_params()\n",
    "\n",
    "    for i in estimators_params:\n",
    "        estimators_params[i] = {key:value for key,value in estimators_params[i].items() if value is not None}\n",
    "    \n",
    "    if s_clf.get_params()['final_estimator'].__class__.__name__ == 'XGBClassifier':\n",
    "        \n",
    "            s_clf_params = {'estimators' : clf_list,\n",
    "                    'final_estimator' : 'XGBClassifier()',\n",
    "                    'cv' : s_clf.get_params()['cv'],\n",
    "                    'stack_method' : s_clf.get_params()['stack_method'],\n",
    "                    'passthrough' : s_clf.get_params()['passthrough']}\n",
    "            for key,value in estimators_params.items():\n",
    "                s_clf_params[f\"{key}_params\"] = value\n",
    "\n",
    "    else:\n",
    "        s_clf_params = {'estimators' : clf_list,\n",
    "                'final_estimator' : s_clf.get_params()['final_estimator'],\n",
    "                'cv' : s_clf.get_params()['cv'],\n",
    "                'stack_method' : s_clf.get_params()['stack_method'],\n",
    "                'passthrough' : s_clf.get_params()['passthrough']}\n",
    "        for key,value in estimators_params.items():\n",
    "                s_clf_params[f\"{key}_params\"] = value\n",
    "\n",
    "with mlflow.start_run(experiment_id = 154):\n",
    "    mlflow.log_params(s_clf_params)\n",
    "#     # mlflow.models.infer_signature(model_input=x_train,\n",
    "#     #                           model_output = s_clf.predict(x_train))\n",
    "#     # mlflow.sklearn.log_model()\n",
    "    "
   ]
  },
  {
   "cell_type": "code",
   "execution_count": 456,
   "metadata": {},
   "outputs": [
    {
     "data": {
      "text/plain": [
       "{'estimators': [('SGD_Classifier', SGDClassifier()),\n",
       "  ('Random Forest', RandomForestClassifier()),\n",
       "  ('Hist_Grad_Boost_Classifier', HistGradientBoostingClassifier()),\n",
       "  ('Bagging_Classifier', BaggingClassifier()),\n",
       "  ('Ada_Boost', AdaBoostClassifier()),\n",
       "  ('Grad_Boost', GradientBoostingClassifier())],\n",
       " 'final_estimator': RandomForestClassifier(class_weight='balanced_subsample', criterion='entropy',\n",
       "                        max_features=None, n_estimators=139),\n",
       " 'cv': 5,\n",
       " 'stack_method': 'auto',\n",
       " 'passthrough': True,\n",
       " 'SGD_Classifier_params': {'alpha': 0.0001,\n",
       "  'average': False,\n",
       "  'early_stopping': False,\n",
       "  'epsilon': 0.1,\n",
       "  'eta0': 0.0,\n",
       "  'fit_intercept': True,\n",
       "  'l1_ratio': 0.15,\n",
       "  'learning_rate': 'optimal',\n",
       "  'loss': 'log_loss',\n",
       "  'max_iter': 1000,\n",
       "  'n_iter_no_change': 5,\n",
       "  'penalty': 'l2',\n",
       "  'power_t': 0.5,\n",
       "  'shuffle': True,\n",
       "  'tol': 0.001,\n",
       "  'validation_fraction': 0.1,\n",
       "  'verbose': 0,\n",
       "  'warm_start': False},\n",
       " 'Random Forest_params': {'bootstrap': True,\n",
       "  'ccp_alpha': 0.0,\n",
       "  'class_weight': 'balanced_subsample',\n",
       "  'criterion': 'entropy',\n",
       "  'min_impurity_decrease': 0.0,\n",
       "  'min_samples_leaf': 1,\n",
       "  'min_samples_split': 2,\n",
       "  'min_weight_fraction_leaf': 0.0,\n",
       "  'n_estimators': 139,\n",
       "  'oob_score': False,\n",
       "  'verbose': 0,\n",
       "  'warm_start': False},\n",
       " 'Hist_Grad_Boost_Classifier_params': {'early_stopping': 'auto',\n",
       "  'l2_regularization': 0.0,\n",
       "  'learning_rate': 0.1,\n",
       "  'loss': 'log_loss',\n",
       "  'max_bins': 255,\n",
       "  'max_iter': 575,\n",
       "  'max_leaf_nodes': 31,\n",
       "  'min_samples_leaf': 20,\n",
       "  'n_iter_no_change': 10,\n",
       "  'scoring': 'loss',\n",
       "  'tol': 1e-07,\n",
       "  'validation_fraction': 0.1,\n",
       "  'verbose': 0,\n",
       "  'warm_start': False},\n",
       " 'Bagging_Classifier_params': {'base_estimator': 'deprecated',\n",
       "  'bootstrap': True,\n",
       "  'bootstrap_features': False,\n",
       "  'max_features': 1.0,\n",
       "  'max_samples': 1.0,\n",
       "  'n_estimators': 59,\n",
       "  'oob_score': False,\n",
       "  'verbose': 0,\n",
       "  'warm_start': False},\n",
       " 'Ada_Boost_params': {'algorithm': 'SAMME',\n",
       "  'base_estimator': 'deprecated',\n",
       "  'learning_rate': 1.0,\n",
       "  'n_estimators': 133},\n",
       " 'Grad_Boost_params': {'ccp_alpha': 0.0,\n",
       "  'criterion': 'squared_error',\n",
       "  'learning_rate': 0.1,\n",
       "  'loss': 'exponential',\n",
       "  'max_depth': 3,\n",
       "  'max_features': 'log2',\n",
       "  'min_impurity_decrease': 0.0,\n",
       "  'min_samples_leaf': 1,\n",
       "  'min_samples_split': 2,\n",
       "  'min_weight_fraction_leaf': 0.0,\n",
       "  'n_estimators': 143,\n",
       "  'subsample': 1.0,\n",
       "  'tol': 0.0001,\n",
       "  'validation_fraction': 0.1,\n",
       "  'verbose': 0,\n",
       "  'warm_start': False},\n",
       " 'XGB_Classifier_params': {'objective': 'binary:logistic',\n",
       "  'enable_categorical': False,\n",
       "  'missing': nan}}"
      ]
     },
     "execution_count": 456,
     "metadata": {},
     "output_type": "execute_result"
    }
   ],
   "source": [
    "s_clf_params"
   ]
  },
  {
   "cell_type": "code",
   "execution_count": 457,
   "metadata": {},
   "outputs": [
    {
     "data": {
      "text/html": [
       "<style>#sk-container-id-22 {color: black;}#sk-container-id-22 pre{padding: 0;}#sk-container-id-22 div.sk-toggleable {background-color: white;}#sk-container-id-22 label.sk-toggleable__label {cursor: pointer;display: block;width: 100%;margin-bottom: 0;padding: 0.3em;box-sizing: border-box;text-align: center;}#sk-container-id-22 label.sk-toggleable__label-arrow:before {content: \"▸\";float: left;margin-right: 0.25em;color: #696969;}#sk-container-id-22 label.sk-toggleable__label-arrow:hover:before {color: black;}#sk-container-id-22 div.sk-estimator:hover label.sk-toggleable__label-arrow:before {color: black;}#sk-container-id-22 div.sk-toggleable__content {max-height: 0;max-width: 0;overflow: hidden;text-align: left;background-color: #f0f8ff;}#sk-container-id-22 div.sk-toggleable__content pre {margin: 0.2em;color: black;border-radius: 0.25em;background-color: #f0f8ff;}#sk-container-id-22 input.sk-toggleable__control:checked~div.sk-toggleable__content {max-height: 200px;max-width: 100%;overflow: auto;}#sk-container-id-22 input.sk-toggleable__control:checked~label.sk-toggleable__label-arrow:before {content: \"▾\";}#sk-container-id-22 div.sk-estimator input.sk-toggleable__control:checked~label.sk-toggleable__label {background-color: #d4ebff;}#sk-container-id-22 div.sk-label input.sk-toggleable__control:checked~label.sk-toggleable__label {background-color: #d4ebff;}#sk-container-id-22 input.sk-hidden--visually {border: 0;clip: rect(1px 1px 1px 1px);clip: rect(1px, 1px, 1px, 1px);height: 1px;margin: -1px;overflow: hidden;padding: 0;position: absolute;width: 1px;}#sk-container-id-22 div.sk-estimator {font-family: monospace;background-color: #f0f8ff;border: 1px dotted black;border-radius: 0.25em;box-sizing: border-box;margin-bottom: 0.5em;}#sk-container-id-22 div.sk-estimator:hover {background-color: #d4ebff;}#sk-container-id-22 div.sk-parallel-item::after {content: \"\";width: 100%;border-bottom: 1px solid gray;flex-grow: 1;}#sk-container-id-22 div.sk-label:hover label.sk-toggleable__label {background-color: #d4ebff;}#sk-container-id-22 div.sk-serial::before {content: \"\";position: absolute;border-left: 1px solid gray;box-sizing: border-box;top: 0;bottom: 0;left: 50%;z-index: 0;}#sk-container-id-22 div.sk-serial {display: flex;flex-direction: column;align-items: center;background-color: white;padding-right: 0.2em;padding-left: 0.2em;position: relative;}#sk-container-id-22 div.sk-item {position: relative;z-index: 1;}#sk-container-id-22 div.sk-parallel {display: flex;align-items: stretch;justify-content: center;background-color: white;position: relative;}#sk-container-id-22 div.sk-item::before, #sk-container-id-22 div.sk-parallel-item::before {content: \"\";position: absolute;border-left: 1px solid gray;box-sizing: border-box;top: 0;bottom: 0;left: 50%;z-index: -1;}#sk-container-id-22 div.sk-parallel-item {display: flex;flex-direction: column;z-index: 1;position: relative;background-color: white;}#sk-container-id-22 div.sk-parallel-item:first-child::after {align-self: flex-end;width: 50%;}#sk-container-id-22 div.sk-parallel-item:last-child::after {align-self: flex-start;width: 50%;}#sk-container-id-22 div.sk-parallel-item:only-child::after {width: 0;}#sk-container-id-22 div.sk-dashed-wrapped {border: 1px dashed gray;margin: 0 0.4em 0.5em 0.4em;box-sizing: border-box;padding-bottom: 0.4em;background-color: white;}#sk-container-id-22 div.sk-label label {font-family: monospace;font-weight: bold;display: inline-block;line-height: 1.2em;}#sk-container-id-22 div.sk-label-container {text-align: center;}#sk-container-id-22 div.sk-container {/* jupyter's `normalize.less` sets `[hidden] { display: none; }` but bootstrap.min.css set `[hidden] { display: none !important; }` so we also need the `!important` here to be able to override the default hidden behavior on the sphinx rendered scikit-learn.org. See: https://github.com/scikit-learn/scikit-learn/issues/21755 */display: inline-block !important;position: relative;}#sk-container-id-22 div.sk-text-repr-fallback {display: none;}</style><div id=\"sk-container-id-22\" class=\"sk-top-container\"><div class=\"sk-text-repr-fallback\"><pre>RandomForestClassifier(class_weight=&#x27;balanced_subsample&#x27;, criterion=&#x27;entropy&#x27;,\n",
       "                       max_features=None, n_estimators=139)</pre><b>In a Jupyter environment, please rerun this cell to show the HTML representation or trust the notebook. <br />On GitHub, the HTML representation is unable to render, please try loading this page with nbviewer.org.</b></div><div class=\"sk-container\" hidden><div class=\"sk-item\"><div class=\"sk-estimator sk-toggleable\"><input class=\"sk-toggleable__control sk-hidden--visually\" id=\"sk-estimator-id-113\" type=\"checkbox\" checked><label for=\"sk-estimator-id-113\" class=\"sk-toggleable__label sk-toggleable__label-arrow\">RandomForestClassifier</label><div class=\"sk-toggleable__content\"><pre>RandomForestClassifier(class_weight=&#x27;balanced_subsample&#x27;, criterion=&#x27;entropy&#x27;,\n",
       "                       max_features=None, n_estimators=139)</pre></div></div></div></div></div>"
      ],
      "text/plain": [
       "RandomForestClassifier(class_weight='balanced_subsample', criterion='entropy',\n",
       "                       max_features=None, n_estimators=139)"
      ]
     },
     "execution_count": 457,
     "metadata": {},
     "output_type": "execute_result"
    }
   ],
   "source": [
    "s_clf.get_params()['final_estimator']"
   ]
  },
  {
   "cell_type": "code",
   "execution_count": 450,
   "metadata": {},
   "outputs": [
    {
     "data": {
      "text/plain": [
       "{'estimators': [('SGD_Classifier', SGDClassifier()),\n",
       "  ('Random Forest', RandomForestClassifier()),\n",
       "  ('Hist_Grad_Boost_Classifier', HistGradientBoostingClassifier()),\n",
       "  ('Bagging_Classifier', BaggingClassifier()),\n",
       "  ('Ada_Boost', AdaBoostClassifier()),\n",
       "  ('Grad_Boost', GradientBoostingClassifier())],\n",
       " 'final_estimator': 'XGBClassifier()',\n",
       " 'cv': 5,\n",
       " 'stack_method': 'auto',\n",
       " 'passthrough': True,\n",
       " 'SGD_Classifier_params': {'alpha': 0.0001,\n",
       "  'average': False,\n",
       "  'early_stopping': False,\n",
       "  'epsilon': 0.1,\n",
       "  'eta0': 0.0,\n",
       "  'fit_intercept': True,\n",
       "  'l1_ratio': 0.15,\n",
       "  'learning_rate': 'optimal',\n",
       "  'loss': 'log_loss',\n",
       "  'max_iter': 1000,\n",
       "  'n_iter_no_change': 5,\n",
       "  'penalty': 'l2',\n",
       "  'power_t': 0.5,\n",
       "  'shuffle': True,\n",
       "  'tol': 0.001,\n",
       "  'validation_fraction': 0.1,\n",
       "  'verbose': 0,\n",
       "  'warm_start': False},\n",
       " 'Random Forest_params': {'bootstrap': True,\n",
       "  'ccp_alpha': 0.0,\n",
       "  'class_weight': 'balanced_subsample',\n",
       "  'criterion': 'entropy',\n",
       "  'min_impurity_decrease': 0.0,\n",
       "  'min_samples_leaf': 1,\n",
       "  'min_samples_split': 2,\n",
       "  'min_weight_fraction_leaf': 0.0,\n",
       "  'n_estimators': 139,\n",
       "  'oob_score': False,\n",
       "  'verbose': 0,\n",
       "  'warm_start': False},\n",
       " 'Hist_Grad_Boost_Classifier_params': {'early_stopping': 'auto',\n",
       "  'l2_regularization': 0.0,\n",
       "  'learning_rate': 0.1,\n",
       "  'loss': 'log_loss',\n",
       "  'max_bins': 255,\n",
       "  'max_iter': 575,\n",
       "  'max_leaf_nodes': 31,\n",
       "  'min_samples_leaf': 20,\n",
       "  'n_iter_no_change': 10,\n",
       "  'scoring': 'loss',\n",
       "  'tol': 1e-07,\n",
       "  'validation_fraction': 0.1,\n",
       "  'verbose': 0,\n",
       "  'warm_start': False},\n",
       " 'Bagging_Classifier_params': {'base_estimator': 'deprecated',\n",
       "  'bootstrap': True,\n",
       "  'bootstrap_features': False,\n",
       "  'max_features': 1.0,\n",
       "  'max_samples': 1.0,\n",
       "  'n_estimators': 59,\n",
       "  'oob_score': False,\n",
       "  'verbose': 0,\n",
       "  'warm_start': False},\n",
       " 'Ada_Boost_params': {'algorithm': 'SAMME',\n",
       "  'base_estimator': 'deprecated',\n",
       "  'learning_rate': 1.0,\n",
       "  'n_estimators': 133},\n",
       " 'Grad_Boost_params': {'ccp_alpha': 0.0,\n",
       "  'criterion': 'squared_error',\n",
       "  'learning_rate': 0.1,\n",
       "  'loss': 'exponential',\n",
       "  'max_depth': 3,\n",
       "  'max_features': 'log2',\n",
       "  'min_impurity_decrease': 0.0,\n",
       "  'min_samples_leaf': 1,\n",
       "  'min_samples_split': 2,\n",
       "  'min_weight_fraction_leaf': 0.0,\n",
       "  'n_estimators': 143,\n",
       "  'subsample': 1.0,\n",
       "  'tol': 0.0001,\n",
       "  'validation_fraction': 0.1,\n",
       "  'verbose': 0,\n",
       "  'warm_start': False},\n",
       " 'XGB_Classifier_params': {'objective': 'binary:logistic',\n",
       "  'enable_categorical': False,\n",
       "  'missing': nan}}"
      ]
     },
     "execution_count": 450,
     "metadata": {},
     "output_type": "execute_result"
    }
   ],
   "source": [
    "s_clf_params"
   ]
  },
  {
   "cell_type": "code",
   "execution_count": 445,
   "metadata": {},
   "outputs": [
    {
     "data": {
      "text/plain": [
       "'SGD_Classifier'"
      ]
     },
     "execution_count": 445,
     "metadata": {},
     "output_type": "execute_result"
    }
   ],
   "source": [
    "s_clf.get_params()['estimators'][0][0]"
   ]
  },
  {
   "cell_type": "code",
   "execution_count": 446,
   "metadata": {},
   "outputs": [
    {
     "data": {
      "text/plain": [
       "{'SGD_Classifier': {'alpha': 0.0001,\n",
       "  'average': False,\n",
       "  'early_stopping': False,\n",
       "  'epsilon': 0.1,\n",
       "  'eta0': 0.0,\n",
       "  'fit_intercept': True,\n",
       "  'l1_ratio': 0.15,\n",
       "  'learning_rate': 'optimal',\n",
       "  'loss': 'log_loss',\n",
       "  'max_iter': 1000,\n",
       "  'n_iter_no_change': 5,\n",
       "  'penalty': 'l2',\n",
       "  'power_t': 0.5,\n",
       "  'shuffle': True,\n",
       "  'tol': 0.001,\n",
       "  'validation_fraction': 0.1,\n",
       "  'verbose': 0,\n",
       "  'warm_start': False},\n",
       " 'Random Forest': {'bootstrap': True,\n",
       "  'ccp_alpha': 0.0,\n",
       "  'class_weight': 'balanced_subsample',\n",
       "  'criterion': 'entropy',\n",
       "  'min_impurity_decrease': 0.0,\n",
       "  'min_samples_leaf': 1,\n",
       "  'min_samples_split': 2,\n",
       "  'min_weight_fraction_leaf': 0.0,\n",
       "  'n_estimators': 139,\n",
       "  'oob_score': False,\n",
       "  'verbose': 0,\n",
       "  'warm_start': False},\n",
       " 'Hist_Grad_Boost_Classifier': {'early_stopping': 'auto',\n",
       "  'l2_regularization': 0.0,\n",
       "  'learning_rate': 0.1,\n",
       "  'loss': 'log_loss',\n",
       "  'max_bins': 255,\n",
       "  'max_iter': 575,\n",
       "  'max_leaf_nodes': 31,\n",
       "  'min_samples_leaf': 20,\n",
       "  'n_iter_no_change': 10,\n",
       "  'scoring': 'loss',\n",
       "  'tol': 1e-07,\n",
       "  'validation_fraction': 0.1,\n",
       "  'verbose': 0,\n",
       "  'warm_start': False},\n",
       " 'Bagging_Classifier': {'base_estimator': 'deprecated',\n",
       "  'bootstrap': True,\n",
       "  'bootstrap_features': False,\n",
       "  'max_features': 1.0,\n",
       "  'max_samples': 1.0,\n",
       "  'n_estimators': 59,\n",
       "  'oob_score': False,\n",
       "  'verbose': 0,\n",
       "  'warm_start': False},\n",
       " 'Ada_Boost': {'algorithm': 'SAMME',\n",
       "  'base_estimator': 'deprecated',\n",
       "  'learning_rate': 1.0,\n",
       "  'n_estimators': 133},\n",
       " 'Grad_Boost': {'ccp_alpha': 0.0,\n",
       "  'criterion': 'squared_error',\n",
       "  'learning_rate': 0.1,\n",
       "  'loss': 'exponential',\n",
       "  'max_depth': 3,\n",
       "  'max_features': 'log2',\n",
       "  'min_impurity_decrease': 0.0,\n",
       "  'min_samples_leaf': 1,\n",
       "  'min_samples_split': 2,\n",
       "  'min_weight_fraction_leaf': 0.0,\n",
       "  'n_estimators': 143,\n",
       "  'subsample': 1.0,\n",
       "  'tol': 0.0001,\n",
       "  'validation_fraction': 0.1,\n",
       "  'verbose': 0,\n",
       "  'warm_start': False},\n",
       " 'XGB_Classifier': {'objective': 'binary:logistic',\n",
       "  'enable_categorical': False,\n",
       "  'missing': nan}}"
      ]
     },
     "execution_count": 446,
     "metadata": {},
     "output_type": "execute_result"
    }
   ],
   "source": [
    "estimators_params"
   ]
  },
  {
   "cell_type": "code",
   "execution_count": 415,
   "metadata": {},
   "outputs": [
    {
     "data": {
      "text/plain": [
       "True"
      ]
     },
     "execution_count": 415,
     "metadata": {},
     "output_type": "execute_result"
    }
   ],
   "source": [
    "s_clf.get_params()['final_estimator'].__class__.__name__ == 'XGBClassifier'"
   ]
  },
  {
   "cell_type": "code",
   "execution_count": 437,
   "metadata": {},
   "outputs": [],
   "source": [
    "name_of_dictionary = \"my_dict\"\n",
    "globals()[name_of_dictionary] = {'hi':1}"
   ]
  },
  {
   "cell_type": "code",
   "execution_count": 436,
   "metadata": {},
   "outputs": [
    {
     "data": {
      "text/plain": [
       "'my_dict'"
      ]
     },
     "execution_count": 436,
     "metadata": {},
     "output_type": "execute_result"
    }
   ],
   "source": [
    "name_of_dictionary"
   ]
  },
  {
   "cell_type": "code",
   "execution_count": 405,
   "metadata": {},
   "outputs": [
    {
     "data": {
      "text/plain": [
       "dict_items([('objective', 'binary:logistic'), ('base_score', None), ('booster', None), ('callbacks', None), ('colsample_bylevel', None), ('colsample_bynode', None), ('colsample_bytree', None), ('device', None), ('early_stopping_rounds', None), ('enable_categorical', False), ('eval_metric', None), ('feature_types', None), ('gamma', None), ('grow_policy', None), ('importance_type', None), ('interaction_constraints', None), ('learning_rate', None), ('max_bin', None), ('max_cat_threshold', None), ('max_cat_to_onehot', None), ('max_delta_step', None), ('max_depth', None), ('max_leaves', None), ('min_child_weight', None), ('missing', nan), ('monotone_constraints', None), ('multi_strategy', None), ('n_estimators', None), ('n_jobs', None), ('num_parallel_tree', None), ('random_state', None), ('reg_alpha', None), ('reg_lambda', None), ('sampling_method', None), ('scale_pos_weight', None), ('subsample', None), ('tree_method', None), ('validate_parameters', None), ('verbosity', None)])"
      ]
     },
     "execution_count": 405,
     "metadata": {},
     "output_type": "execute_result"
    }
   ],
   "source": [
    "estimators_params['XGB_Classifier'].items()"
   ]
  },
  {
   "cell_type": "code",
   "execution_count": 367,
   "metadata": {},
   "outputs": [],
   "source": [
    "with mlflow.start_run(experiment_id = 154):\n",
    "    mlflow.log_params(trial_params)"
   ]
  },
  {
   "cell_type": "code",
   "execution_count": 315,
   "metadata": {},
   "outputs": [
    {
     "data": {
      "text/plain": [
       "inputs: \n",
       "  ['aa_000': double, 'ab_000': double, 'ac_000': double, 'ad_000': double, 'ae_000': double, 'af_000': double, 'ag_000': double, 'ag_001': double, 'ag_002': double, 'ag_003': double, 'ag_004': double, 'ag_005': double, 'ag_006': double, 'ag_007': double, 'ag_008': double, 'ag_009': double, 'ah_000': double, 'ai_000': double, 'aj_000': double, 'ak_000': double, 'al_000': double, 'am_0': double, 'an_000': double, 'ao_000': double, 'ap_000': double, 'aq_000': double, 'ar_000': double, 'as_000': double, 'at_000': double, 'au_000': double, 'av_000': double, 'ax_000': double, 'ay_000': double, 'ay_001': double, 'ay_002': double, 'ay_003': double, 'ay_004': double, 'ay_005': double, 'ay_006': double, 'ay_007': double, 'ay_008': double, 'ay_009': double, 'az_000': double, 'az_001': double, 'az_002': double, 'az_003': double, 'az_004': double, 'az_005': double, 'az_006': double, 'az_007': double, 'az_008': double, 'az_009': double, 'ba_000': double, 'ba_001': double, 'ba_002': double, 'ba_003': double, 'ba_004': double, 'ba_005': double, 'ba_006': double, 'ba_007': double, 'ba_008': double, 'ba_009': double, 'bb_000': double, 'bc_000': double, 'bd_000': double, 'be_000': double, 'bf_000': double, 'bg_000': double, 'bh_000': double, 'bi_000': double, 'bj_000': double, 'bk_000': double, 'bl_000': double, 'bm_000': double, 'bn_000': double, 'bo_000': double, 'bp_000': double, 'bq_000': double, 'br_000': double, 'bs_000': double, 'bt_000': double, 'bu_000': double, 'bv_000': double, 'bx_000': double, 'by_000': double, 'bz_000': double, 'ca_000': double, 'cb_000': double, 'cc_000': double, 'cd_000': double, 'ce_000': double, 'cf_000': double, 'cg_000': double, 'ch_000': double, 'ci_000': double, 'cj_000': double, 'ck_000': double, 'cl_000': double, 'cm_000': double, 'cn_000': double, 'cn_001': double, 'cn_002': double, 'cn_003': double, 'cn_004': double, 'cn_005': double, 'cn_006': double, 'cn_007': double, 'cn_008': double, 'cn_009': double, 'co_000': double, 'cp_000': double, 'cq_000': double, 'cr_000': double, 'cs_000': double, 'cs_001': double, 'cs_002': double, 'cs_003': double, 'cs_004': double, 'cs_005': double, 'cs_006': double, 'cs_007': double, 'cs_008': double, 'cs_009': double, 'ct_000': double, 'cu_000': double, 'cv_000': double, 'cx_000': double, 'cy_000': double, 'cz_000': double, 'da_000': double, 'db_000': double, 'dc_000': double, 'dd_000': double, 'de_000': double, 'df_000': double, 'dg_000': double, 'dh_000': double, 'di_000': double, 'dj_000': double, 'dk_000': double, 'dl_000': double, 'dm_000': double, 'dn_000': double, 'do_000': double, 'dp_000': double, 'dq_000': double, 'dr_000': double, 'ds_000': double, 'dt_000': double, 'du_000': double, 'dv_000': double, 'dx_000': double, 'dy_000': double, 'dz_000': double, 'ea_000': double, 'eb_000': double, 'ec_00': double, 'ed_000': double, 'ee_000': double, 'ee_001': double, 'ee_002': double, 'ee_003': double, 'ee_004': double, 'ee_005': double, 'ee_006': double, 'ee_007': double, 'ee_008': double, 'ee_009': double, 'ef_000': double, 'eg_000': double]\n",
       "outputs: \n",
       "  [Tensor('int64', (-1,))]\n",
       "params: \n",
       "  None"
      ]
     },
     "execution_count": 315,
     "metadata": {},
     "output_type": "execute_result"
    }
   ],
   "source": [
    "mlflow.models.infer_signature(model_input=x_train,\n",
    "                              model_output = s_clf.predict(x_train))"
   ]
  },
  {
   "cell_type": "code",
   "execution_count": null,
   "metadata": {},
   "outputs": [],
   "source": [
    "v_clf = VotingClassifier()"
   ]
  },
  {
   "cell_type": "code",
   "execution_count": 474,
   "metadata": {},
   "outputs": [],
   "source": [
    "s_clf_run = client.get_run('3f360d91251446b488d0255f44ea1658')"
   ]
  },
  {
   "cell_type": "code",
   "execution_count": 476,
   "metadata": {},
   "outputs": [
    {
     "name": "stderr",
     "output_type": "stream",
     "text": [
      "Downloading artifacts: 100%|██████████| 5/5 [00:02<00:00,  1.82it/s]\n"
     ]
    }
   ],
   "source": [
    "best_model = mlflow.sklearn.load_model('mlflow-artifacts:/11856c6b7da848c38f85aa3ece46ad6c/3f360d91251446b488d0255f44ea1658/artifacts/optuna_Stacked_Classifier')"
   ]
  },
  {
   "cell_type": "code",
   "execution_count": 477,
   "metadata": {},
   "outputs": [
    {
     "data": {
      "text/plain": [
       "{'cv': 5,\n",
       " 'estimators': [('SGD_Classifier', SGDClassifier(loss='log_loss')),\n",
       "  ('XGB_Classifier',\n",
       "   XGBClassifier(base_score=None, booster='gbtree', callbacks=None,\n",
       "                 colsample_bylevel=None, colsample_bynode=None,\n",
       "                 colsample_bytree=None, device=None, early_stopping_rounds=None,\n",
       "                 enable_categorical=False, eval_metric=None, feature_types=None,\n",
       "                 gamma=None, grow_policy=None, importance_type=None,\n",
       "                 interaction_constraints=None, learning_rate=6.976932788820359,\n",
       "                 max_bin=None, max_cat_threshold=None, max_cat_to_onehot=None,\n",
       "                 max_delta_step=None, max_depth=None, max_leaves=None,\n",
       "                 min_child_weight=None, missing=nan, monotone_constraints=None,\n",
       "                 multi_strategy=None, n_estimators=872, n_jobs=None,\n",
       "                 num_parallel_tree=None, random_state=None, ...)),\n",
       "  ('Random Forest',\n",
       "   RandomForestClassifier(class_weight='balanced_subsample', criterion='entropy',\n",
       "                          max_features=None, n_estimators=146)),\n",
       "  ('Hist_Grad_Boost_Classifier', HistGradientBoostingClassifier(max_iter=763)),\n",
       "  ('Bagging_Classifier', BaggingClassifier(n_estimators=56)),\n",
       "  ('Ada_Boost', AdaBoostClassifier(algorithm='SAMME', n_estimators=102)),\n",
       "  ('Grad_Boost',\n",
       "   GradientBoostingClassifier(criterion='squared_error', max_features='sqrt',\n",
       "                              n_estimators=117))],\n",
       " 'final_estimator__alpha': 0.0001,\n",
       " 'final_estimator__average': False,\n",
       " 'final_estimator__class_weight': None,\n",
       " 'final_estimator__early_stopping': False,\n",
       " 'final_estimator__epsilon': 0.1,\n",
       " 'final_estimator__eta0': 0.0,\n",
       " 'final_estimator__fit_intercept': True,\n",
       " 'final_estimator__l1_ratio': 0.15,\n",
       " 'final_estimator__learning_rate': 'optimal',\n",
       " 'final_estimator__loss': 'log_loss',\n",
       " 'final_estimator__max_iter': 1000,\n",
       " 'final_estimator__n_iter_no_change': 5,\n",
       " 'final_estimator__n_jobs': None,\n",
       " 'final_estimator__penalty': 'l2',\n",
       " 'final_estimator__power_t': 0.5,\n",
       " 'final_estimator__random_state': None,\n",
       " 'final_estimator__shuffle': True,\n",
       " 'final_estimator__tol': 0.001,\n",
       " 'final_estimator__validation_fraction': 0.1,\n",
       " 'final_estimator__verbose': 0,\n",
       " 'final_estimator__warm_start': False,\n",
       " 'final_estimator': SGDClassifier(loss='log_loss'),\n",
       " 'n_jobs': -1,\n",
       " 'passthrough': False,\n",
       " 'stack_method': 'auto',\n",
       " 'verbose': 3,\n",
       " 'SGD_Classifier': SGDClassifier(loss='log_loss'),\n",
       " 'XGB_Classifier': XGBClassifier(base_score=None, booster='gbtree', callbacks=None,\n",
       "               colsample_bylevel=None, colsample_bynode=None,\n",
       "               colsample_bytree=None, device=None, early_stopping_rounds=None,\n",
       "               enable_categorical=False, eval_metric=None, feature_types=None,\n",
       "               gamma=None, grow_policy=None, importance_type=None,\n",
       "               interaction_constraints=None, learning_rate=6.976932788820359,\n",
       "               max_bin=None, max_cat_threshold=None, max_cat_to_onehot=None,\n",
       "               max_delta_step=None, max_depth=None, max_leaves=None,\n",
       "               min_child_weight=None, missing=nan, monotone_constraints=None,\n",
       "               multi_strategy=None, n_estimators=872, n_jobs=None,\n",
       "               num_parallel_tree=None, random_state=None, ...),\n",
       " 'Random Forest': RandomForestClassifier(class_weight='balanced_subsample', criterion='entropy',\n",
       "                        max_features=None, n_estimators=146),\n",
       " 'Hist_Grad_Boost_Classifier': HistGradientBoostingClassifier(max_iter=763),\n",
       " 'Bagging_Classifier': BaggingClassifier(n_estimators=56),\n",
       " 'Ada_Boost': AdaBoostClassifier(algorithm='SAMME', n_estimators=102),\n",
       " 'Grad_Boost': GradientBoostingClassifier(criterion='squared_error', max_features='sqrt',\n",
       "                            n_estimators=117),\n",
       " 'SGD_Classifier__alpha': 0.0001,\n",
       " 'SGD_Classifier__average': False,\n",
       " 'SGD_Classifier__class_weight': None,\n",
       " 'SGD_Classifier__early_stopping': False,\n",
       " 'SGD_Classifier__epsilon': 0.1,\n",
       " 'SGD_Classifier__eta0': 0.0,\n",
       " 'SGD_Classifier__fit_intercept': True,\n",
       " 'SGD_Classifier__l1_ratio': 0.15,\n",
       " 'SGD_Classifier__learning_rate': 'optimal',\n",
       " 'SGD_Classifier__loss': 'log_loss',\n",
       " 'SGD_Classifier__max_iter': 1000,\n",
       " 'SGD_Classifier__n_iter_no_change': 5,\n",
       " 'SGD_Classifier__n_jobs': None,\n",
       " 'SGD_Classifier__penalty': 'l2',\n",
       " 'SGD_Classifier__power_t': 0.5,\n",
       " 'SGD_Classifier__random_state': None,\n",
       " 'SGD_Classifier__shuffle': True,\n",
       " 'SGD_Classifier__tol': 0.001,\n",
       " 'SGD_Classifier__validation_fraction': 0.1,\n",
       " 'SGD_Classifier__verbose': 0,\n",
       " 'SGD_Classifier__warm_start': False,\n",
       " 'XGB_Classifier__objective': 'binary:logistic',\n",
       " 'XGB_Classifier__base_score': None,\n",
       " 'XGB_Classifier__booster': 'gbtree',\n",
       " 'XGB_Classifier__callbacks': None,\n",
       " 'XGB_Classifier__colsample_bylevel': None,\n",
       " 'XGB_Classifier__colsample_bynode': None,\n",
       " 'XGB_Classifier__colsample_bytree': None,\n",
       " 'XGB_Classifier__device': None,\n",
       " 'XGB_Classifier__early_stopping_rounds': None,\n",
       " 'XGB_Classifier__enable_categorical': False,\n",
       " 'XGB_Classifier__eval_metric': None,\n",
       " 'XGB_Classifier__feature_types': None,\n",
       " 'XGB_Classifier__gamma': None,\n",
       " 'XGB_Classifier__grow_policy': None,\n",
       " 'XGB_Classifier__importance_type': None,\n",
       " 'XGB_Classifier__interaction_constraints': None,\n",
       " 'XGB_Classifier__learning_rate': 6.976932788820359,\n",
       " 'XGB_Classifier__max_bin': None,\n",
       " 'XGB_Classifier__max_cat_threshold': None,\n",
       " 'XGB_Classifier__max_cat_to_onehot': None,\n",
       " 'XGB_Classifier__max_delta_step': None,\n",
       " 'XGB_Classifier__max_depth': None,\n",
       " 'XGB_Classifier__max_leaves': None,\n",
       " 'XGB_Classifier__min_child_weight': None,\n",
       " 'XGB_Classifier__missing': nan,\n",
       " 'XGB_Classifier__monotone_constraints': None,\n",
       " 'XGB_Classifier__multi_strategy': None,\n",
       " 'XGB_Classifier__n_estimators': 872,\n",
       " 'XGB_Classifier__n_jobs': None,\n",
       " 'XGB_Classifier__num_parallel_tree': None,\n",
       " 'XGB_Classifier__random_state': None,\n",
       " 'XGB_Classifier__reg_alpha': None,\n",
       " 'XGB_Classifier__reg_lambda': None,\n",
       " 'XGB_Classifier__sampling_method': None,\n",
       " 'XGB_Classifier__scale_pos_weight': None,\n",
       " 'XGB_Classifier__subsample': None,\n",
       " 'XGB_Classifier__tree_method': 'hist',\n",
       " 'XGB_Classifier__validate_parameters': None,\n",
       " 'XGB_Classifier__verbosity': None,\n",
       " 'Random Forest__bootstrap': True,\n",
       " 'Random Forest__ccp_alpha': 0.0,\n",
       " 'Random Forest__class_weight': 'balanced_subsample',\n",
       " 'Random Forest__criterion': 'entropy',\n",
       " 'Random Forest__max_depth': None,\n",
       " 'Random Forest__max_features': None,\n",
       " 'Random Forest__max_leaf_nodes': None,\n",
       " 'Random Forest__max_samples': None,\n",
       " 'Random Forest__min_impurity_decrease': 0.0,\n",
       " 'Random Forest__min_samples_leaf': 1,\n",
       " 'Random Forest__min_samples_split': 2,\n",
       " 'Random Forest__min_weight_fraction_leaf': 0.0,\n",
       " 'Random Forest__n_estimators': 146,\n",
       " 'Random Forest__n_jobs': None,\n",
       " 'Random Forest__oob_score': False,\n",
       " 'Random Forest__random_state': None,\n",
       " 'Random Forest__verbose': 0,\n",
       " 'Random Forest__warm_start': False,\n",
       " 'Hist_Grad_Boost_Classifier__categorical_features': None,\n",
       " 'Hist_Grad_Boost_Classifier__class_weight': None,\n",
       " 'Hist_Grad_Boost_Classifier__early_stopping': 'auto',\n",
       " 'Hist_Grad_Boost_Classifier__interaction_cst': None,\n",
       " 'Hist_Grad_Boost_Classifier__l2_regularization': 0.0,\n",
       " 'Hist_Grad_Boost_Classifier__learning_rate': 0.1,\n",
       " 'Hist_Grad_Boost_Classifier__loss': 'log_loss',\n",
       " 'Hist_Grad_Boost_Classifier__max_bins': 255,\n",
       " 'Hist_Grad_Boost_Classifier__max_depth': None,\n",
       " 'Hist_Grad_Boost_Classifier__max_iter': 763,\n",
       " 'Hist_Grad_Boost_Classifier__max_leaf_nodes': 31,\n",
       " 'Hist_Grad_Boost_Classifier__min_samples_leaf': 20,\n",
       " 'Hist_Grad_Boost_Classifier__monotonic_cst': None,\n",
       " 'Hist_Grad_Boost_Classifier__n_iter_no_change': 10,\n",
       " 'Hist_Grad_Boost_Classifier__random_state': None,\n",
       " 'Hist_Grad_Boost_Classifier__scoring': 'loss',\n",
       " 'Hist_Grad_Boost_Classifier__tol': 1e-07,\n",
       " 'Hist_Grad_Boost_Classifier__validation_fraction': 0.1,\n",
       " 'Hist_Grad_Boost_Classifier__verbose': 0,\n",
       " 'Hist_Grad_Boost_Classifier__warm_start': False,\n",
       " 'Bagging_Classifier__base_estimator': 'deprecated',\n",
       " 'Bagging_Classifier__bootstrap': True,\n",
       " 'Bagging_Classifier__bootstrap_features': False,\n",
       " 'Bagging_Classifier__estimator': None,\n",
       " 'Bagging_Classifier__max_features': 1.0,\n",
       " 'Bagging_Classifier__max_samples': 1.0,\n",
       " 'Bagging_Classifier__n_estimators': 56,\n",
       " 'Bagging_Classifier__n_jobs': None,\n",
       " 'Bagging_Classifier__oob_score': False,\n",
       " 'Bagging_Classifier__random_state': None,\n",
       " 'Bagging_Classifier__verbose': 0,\n",
       " 'Bagging_Classifier__warm_start': False,\n",
       " 'Ada_Boost__algorithm': 'SAMME',\n",
       " 'Ada_Boost__base_estimator': 'deprecated',\n",
       " 'Ada_Boost__estimator': None,\n",
       " 'Ada_Boost__learning_rate': 1.0,\n",
       " 'Ada_Boost__n_estimators': 102,\n",
       " 'Ada_Boost__random_state': None,\n",
       " 'Grad_Boost__ccp_alpha': 0.0,\n",
       " 'Grad_Boost__criterion': 'squared_error',\n",
       " 'Grad_Boost__init': None,\n",
       " 'Grad_Boost__learning_rate': 0.1,\n",
       " 'Grad_Boost__loss': 'log_loss',\n",
       " 'Grad_Boost__max_depth': 3,\n",
       " 'Grad_Boost__max_features': 'sqrt',\n",
       " 'Grad_Boost__max_leaf_nodes': None,\n",
       " 'Grad_Boost__min_impurity_decrease': 0.0,\n",
       " 'Grad_Boost__min_samples_leaf': 1,\n",
       " 'Grad_Boost__min_samples_split': 2,\n",
       " 'Grad_Boost__min_weight_fraction_leaf': 0.0,\n",
       " 'Grad_Boost__n_estimators': 117,\n",
       " 'Grad_Boost__n_iter_no_change': None,\n",
       " 'Grad_Boost__random_state': None,\n",
       " 'Grad_Boost__subsample': 1.0,\n",
       " 'Grad_Boost__tol': 0.0001,\n",
       " 'Grad_Boost__validation_fraction': 0.1,\n",
       " 'Grad_Boost__verbose': 0,\n",
       " 'Grad_Boost__warm_start': False}"
      ]
     },
     "execution_count": 477,
     "metadata": {},
     "output_type": "execute_result"
    }
   ],
   "source": [
    "best_model.get_params()"
   ]
  },
  {
   "cell_type": "code",
   "execution_count": 475,
   "metadata": {},
   "outputs": [
    {
     "data": {
      "text/plain": [
       "{'estimators': \"[('SGD_Classifier', SGDClassifier()), ('Random Forest', RandomForestClassifier()), ('Hist_Grad_Boost_Classifier', HistGradientBoostingClassifier()), ('Bagging_Classifier', BaggingClassifier()), ('Ada_Boost', AdaBoostClassifier()), ('Grad_Boost', GradientBoostingClassifier())]\",\n",
       " 'final_estimator': \"SGDClassifier(loss='log_loss')\",\n",
       " 'cv': '5',\n",
       " 'stack_method': 'auto',\n",
       " 'passthrough': 'False',\n",
       " 'SGD_Classifier_Params': \"{'alpha': 0.0001, 'average': False, 'early_stopping': False, 'epsilon': 0.1, 'eta0': 0.0, 'fit_intercept': True, 'l1_ratio': 0.15, 'learning_rate': 'optimal', 'loss': 'log_loss', 'max_iter': 1000, 'n_iter_no_change': 5, 'penalty': 'l2', 'power_t': 0.5, 'shuffle': True, 'tol': 0.001, 'validation_fraction': 0.1, 'verbose': 0, 'warm_start': False}\",\n",
       " 'XGB_Classifier_Params': \"{'objective': 'binary:logistic', 'booster': 'gbtree', 'enable_categorical': False, 'learning_rate': 6.976932788820359, 'missing': nan, 'n_estimators': 872, 'tree_method': 'hist'}\",\n",
       " 'Random Forest_Params': \"{'bootstrap': True, 'ccp_alpha': 0.0, 'class_weight': 'balanced_subsample', 'criterion': 'entropy', 'min_impurity_decrease': 0.0, 'min_samples_leaf': 1, 'min_samples_split': 2, 'min_weight_fraction_leaf': 0.0, 'n_estimators': 146, 'oob_score': False, 'verbose': 0, 'warm_start': False}\",\n",
       " 'Hist_Grad_Boost_Classifier_Params': \"{'early_stopping': 'auto', 'l2_regularization': 0.0, 'learning_rate': 0.1, 'loss': 'log_loss', 'max_bins': 255, 'max_iter': 763, 'max_leaf_nodes': 31, 'min_samples_leaf': 20, 'n_iter_no_change': 10, 'scoring': 'loss', 'tol': 1e-07, 'validation_fraction': 0.1, 'verbose': 0, 'warm_start': False}\",\n",
       " 'Bagging_Classifier_Params': \"{'base_estimator': 'deprecated', 'bootstrap': True, 'bootstrap_features': False, 'max_features': 1.0, 'max_samples': 1.0, 'n_estimators': 56, 'oob_score': False, 'verbose': 0, 'warm_start': False}\",\n",
       " 'Ada_Boost_Params': \"{'algorithm': 'SAMME', 'base_estimator': 'deprecated', 'learning_rate': 1.0, 'n_estimators': 102}\",\n",
       " 'Grad_Boost_Params': \"{'ccp_alpha': 0.0, 'criterion': 'squared_error', 'learning_rate': 0.1, 'loss': 'log_loss', 'max_depth': 3, 'max_features': 'sqrt', 'min_impurity_decrease': 0.0, 'min_samples_leaf': 1, 'min_samples_split': 2, 'min_weight_fraction_leaf': 0.0, 'n_estimators': 117, 'subsample': 1.0, 'tol': 0.0001, 'validation_fraction': 0.1, 'verbose': 0, 'warm_start': False}\"}"
      ]
     },
     "execution_count": 475,
     "metadata": {},
     "output_type": "execute_result"
    }
   ],
   "source": [
    "s_clf_run.data.params"
   ]
  },
  {
   "cell_type": "code",
   "execution_count": 478,
   "metadata": {},
   "outputs": [
    {
     "name": "stderr",
     "output_type": "stream",
     "text": [
      "Downloading artifacts:   0%|          | 0/5 [00:00<?, ?it/s]"
     ]
    },
    {
     "name": "stdout",
     "output_type": "stream",
     "text": [
      "[2024-01-25 16:13:40,354: WARNING: connectionpool: Retrying (Retry(total=4, connect=5, read=4, redirect=5, status=5)) after connection broken by 'RemoteDisconnected('Remote end closed connection without response')': /Raj-Narayanan-B/StudentMLProjectRegression.mlflow/api/2.0/mlflow-artifacts/artifacts/11856c6b7da848c38f85aa3ece46ad6c/5c209d92a1174a5aaefc84258e073304/artifacts/optuna_Stacked_Classifier/requirements.txt]\n"
     ]
    },
    {
     "name": "stderr",
     "output_type": "stream",
     "text": [
      "Downloading artifacts: 100%|██████████| 5/5 [00:01<00:00,  3.18it/s]\n"
     ]
    },
    {
     "data": {
      "text/plain": [
       "{'cv': 5,\n",
       " 'estimators': [('SGD_Classifier', SGDClassifier(loss='log_loss')),\n",
       "  ('XGB_Classifier',\n",
       "   XGBClassifier(base_score=None, booster='gbtree', callbacks=None,\n",
       "                 colsample_bylevel=None, colsample_bynode=None,\n",
       "                 colsample_bytree=None, device=None, early_stopping_rounds=None,\n",
       "                 enable_categorical=False, eval_metric=None, feature_types=None,\n",
       "                 gamma=None, grow_policy=None, importance_type=None,\n",
       "                 interaction_constraints=None, learning_rate=6.976932788820359,\n",
       "                 max_bin=None, max_cat_threshold=None, max_cat_to_onehot=None,\n",
       "                 max_delta_step=None, max_depth=None, max_leaves=None,\n",
       "                 min_child_weight=None, missing=nan, monotone_constraints=None,\n",
       "                 multi_strategy=None, n_estimators=872, n_jobs=None,\n",
       "                 num_parallel_tree=None, random_state=None, ...)),\n",
       "  ('Random Forest',\n",
       "   RandomForestClassifier(class_weight='balanced_subsample', criterion='entropy',\n",
       "                          max_features=None, n_estimators=146)),\n",
       "  ('Hist_Grad_Boost_Classifier', HistGradientBoostingClassifier(max_iter=763)),\n",
       "  ('Bagging_Classifier', BaggingClassifier(n_estimators=56)),\n",
       "  ('Ada_Boost', AdaBoostClassifier(algorithm='SAMME', n_estimators=102)),\n",
       "  ('Grad_Boost',\n",
       "   GradientBoostingClassifier(criterion='squared_error', max_features='sqrt',\n",
       "                              n_estimators=117))],\n",
       " 'final_estimator__alpha': 0.0001,\n",
       " 'final_estimator__average': False,\n",
       " 'final_estimator__class_weight': None,\n",
       " 'final_estimator__early_stopping': False,\n",
       " 'final_estimator__epsilon': 0.1,\n",
       " 'final_estimator__eta0': 0.0,\n",
       " 'final_estimator__fit_intercept': True,\n",
       " 'final_estimator__l1_ratio': 0.15,\n",
       " 'final_estimator__learning_rate': 'optimal',\n",
       " 'final_estimator__loss': 'log_loss',\n",
       " 'final_estimator__max_iter': 1000,\n",
       " 'final_estimator__n_iter_no_change': 5,\n",
       " 'final_estimator__n_jobs': None,\n",
       " 'final_estimator__penalty': 'l2',\n",
       " 'final_estimator__power_t': 0.5,\n",
       " 'final_estimator__random_state': None,\n",
       " 'final_estimator__shuffle': True,\n",
       " 'final_estimator__tol': 0.001,\n",
       " 'final_estimator__validation_fraction': 0.1,\n",
       " 'final_estimator__verbose': 0,\n",
       " 'final_estimator__warm_start': False,\n",
       " 'final_estimator': SGDClassifier(loss='log_loss'),\n",
       " 'n_jobs': -1,\n",
       " 'passthrough': False,\n",
       " 'stack_method': 'auto',\n",
       " 'verbose': 3,\n",
       " 'SGD_Classifier': SGDClassifier(loss='log_loss'),\n",
       " 'XGB_Classifier': XGBClassifier(base_score=None, booster='gbtree', callbacks=None,\n",
       "               colsample_bylevel=None, colsample_bynode=None,\n",
       "               colsample_bytree=None, device=None, early_stopping_rounds=None,\n",
       "               enable_categorical=False, eval_metric=None, feature_types=None,\n",
       "               gamma=None, grow_policy=None, importance_type=None,\n",
       "               interaction_constraints=None, learning_rate=6.976932788820359,\n",
       "               max_bin=None, max_cat_threshold=None, max_cat_to_onehot=None,\n",
       "               max_delta_step=None, max_depth=None, max_leaves=None,\n",
       "               min_child_weight=None, missing=nan, monotone_constraints=None,\n",
       "               multi_strategy=None, n_estimators=872, n_jobs=None,\n",
       "               num_parallel_tree=None, random_state=None, ...),\n",
       " 'Random Forest': RandomForestClassifier(class_weight='balanced_subsample', criterion='entropy',\n",
       "                        max_features=None, n_estimators=146),\n",
       " 'Hist_Grad_Boost_Classifier': HistGradientBoostingClassifier(max_iter=763),\n",
       " 'Bagging_Classifier': BaggingClassifier(n_estimators=56),\n",
       " 'Ada_Boost': AdaBoostClassifier(algorithm='SAMME', n_estimators=102),\n",
       " 'Grad_Boost': GradientBoostingClassifier(criterion='squared_error', max_features='sqrt',\n",
       "                            n_estimators=117),\n",
       " 'SGD_Classifier__alpha': 0.0001,\n",
       " 'SGD_Classifier__average': False,\n",
       " 'SGD_Classifier__class_weight': None,\n",
       " 'SGD_Classifier__early_stopping': False,\n",
       " 'SGD_Classifier__epsilon': 0.1,\n",
       " 'SGD_Classifier__eta0': 0.0,\n",
       " 'SGD_Classifier__fit_intercept': True,\n",
       " 'SGD_Classifier__l1_ratio': 0.15,\n",
       " 'SGD_Classifier__learning_rate': 'optimal',\n",
       " 'SGD_Classifier__loss': 'log_loss',\n",
       " 'SGD_Classifier__max_iter': 1000,\n",
       " 'SGD_Classifier__n_iter_no_change': 5,\n",
       " 'SGD_Classifier__n_jobs': None,\n",
       " 'SGD_Classifier__penalty': 'l2',\n",
       " 'SGD_Classifier__power_t': 0.5,\n",
       " 'SGD_Classifier__random_state': None,\n",
       " 'SGD_Classifier__shuffle': True,\n",
       " 'SGD_Classifier__tol': 0.001,\n",
       " 'SGD_Classifier__validation_fraction': 0.1,\n",
       " 'SGD_Classifier__verbose': 0,\n",
       " 'SGD_Classifier__warm_start': False,\n",
       " 'XGB_Classifier__objective': 'binary:logistic',\n",
       " 'XGB_Classifier__base_score': None,\n",
       " 'XGB_Classifier__booster': 'gbtree',\n",
       " 'XGB_Classifier__callbacks': None,\n",
       " 'XGB_Classifier__colsample_bylevel': None,\n",
       " 'XGB_Classifier__colsample_bynode': None,\n",
       " 'XGB_Classifier__colsample_bytree': None,\n",
       " 'XGB_Classifier__device': None,\n",
       " 'XGB_Classifier__early_stopping_rounds': None,\n",
       " 'XGB_Classifier__enable_categorical': False,\n",
       " 'XGB_Classifier__eval_metric': None,\n",
       " 'XGB_Classifier__feature_types': None,\n",
       " 'XGB_Classifier__gamma': None,\n",
       " 'XGB_Classifier__grow_policy': None,\n",
       " 'XGB_Classifier__importance_type': None,\n",
       " 'XGB_Classifier__interaction_constraints': None,\n",
       " 'XGB_Classifier__learning_rate': 6.976932788820359,\n",
       " 'XGB_Classifier__max_bin': None,\n",
       " 'XGB_Classifier__max_cat_threshold': None,\n",
       " 'XGB_Classifier__max_cat_to_onehot': None,\n",
       " 'XGB_Classifier__max_delta_step': None,\n",
       " 'XGB_Classifier__max_depth': None,\n",
       " 'XGB_Classifier__max_leaves': None,\n",
       " 'XGB_Classifier__min_child_weight': None,\n",
       " 'XGB_Classifier__missing': nan,\n",
       " 'XGB_Classifier__monotone_constraints': None,\n",
       " 'XGB_Classifier__multi_strategy': None,\n",
       " 'XGB_Classifier__n_estimators': 872,\n",
       " 'XGB_Classifier__n_jobs': None,\n",
       " 'XGB_Classifier__num_parallel_tree': None,\n",
       " 'XGB_Classifier__random_state': None,\n",
       " 'XGB_Classifier__reg_alpha': None,\n",
       " 'XGB_Classifier__reg_lambda': None,\n",
       " 'XGB_Classifier__sampling_method': None,\n",
       " 'XGB_Classifier__scale_pos_weight': None,\n",
       " 'XGB_Classifier__subsample': None,\n",
       " 'XGB_Classifier__tree_method': 'hist',\n",
       " 'XGB_Classifier__validate_parameters': None,\n",
       " 'XGB_Classifier__verbosity': None,\n",
       " 'Random Forest__bootstrap': True,\n",
       " 'Random Forest__ccp_alpha': 0.0,\n",
       " 'Random Forest__class_weight': 'balanced_subsample',\n",
       " 'Random Forest__criterion': 'entropy',\n",
       " 'Random Forest__max_depth': None,\n",
       " 'Random Forest__max_features': None,\n",
       " 'Random Forest__max_leaf_nodes': None,\n",
       " 'Random Forest__max_samples': None,\n",
       " 'Random Forest__min_impurity_decrease': 0.0,\n",
       " 'Random Forest__min_samples_leaf': 1,\n",
       " 'Random Forest__min_samples_split': 2,\n",
       " 'Random Forest__min_weight_fraction_leaf': 0.0,\n",
       " 'Random Forest__n_estimators': 146,\n",
       " 'Random Forest__n_jobs': None,\n",
       " 'Random Forest__oob_score': False,\n",
       " 'Random Forest__random_state': None,\n",
       " 'Random Forest__verbose': 0,\n",
       " 'Random Forest__warm_start': False,\n",
       " 'Hist_Grad_Boost_Classifier__categorical_features': None,\n",
       " 'Hist_Grad_Boost_Classifier__class_weight': None,\n",
       " 'Hist_Grad_Boost_Classifier__early_stopping': 'auto',\n",
       " 'Hist_Grad_Boost_Classifier__interaction_cst': None,\n",
       " 'Hist_Grad_Boost_Classifier__l2_regularization': 0.0,\n",
       " 'Hist_Grad_Boost_Classifier__learning_rate': 0.1,\n",
       " 'Hist_Grad_Boost_Classifier__loss': 'log_loss',\n",
       " 'Hist_Grad_Boost_Classifier__max_bins': 255,\n",
       " 'Hist_Grad_Boost_Classifier__max_depth': None,\n",
       " 'Hist_Grad_Boost_Classifier__max_iter': 763,\n",
       " 'Hist_Grad_Boost_Classifier__max_leaf_nodes': 31,\n",
       " 'Hist_Grad_Boost_Classifier__min_samples_leaf': 20,\n",
       " 'Hist_Grad_Boost_Classifier__monotonic_cst': None,\n",
       " 'Hist_Grad_Boost_Classifier__n_iter_no_change': 10,\n",
       " 'Hist_Grad_Boost_Classifier__random_state': None,\n",
       " 'Hist_Grad_Boost_Classifier__scoring': 'loss',\n",
       " 'Hist_Grad_Boost_Classifier__tol': 1e-07,\n",
       " 'Hist_Grad_Boost_Classifier__validation_fraction': 0.1,\n",
       " 'Hist_Grad_Boost_Classifier__verbose': 0,\n",
       " 'Hist_Grad_Boost_Classifier__warm_start': False,\n",
       " 'Bagging_Classifier__base_estimator': 'deprecated',\n",
       " 'Bagging_Classifier__bootstrap': True,\n",
       " 'Bagging_Classifier__bootstrap_features': False,\n",
       " 'Bagging_Classifier__estimator': None,\n",
       " 'Bagging_Classifier__max_features': 1.0,\n",
       " 'Bagging_Classifier__max_samples': 1.0,\n",
       " 'Bagging_Classifier__n_estimators': 56,\n",
       " 'Bagging_Classifier__n_jobs': None,\n",
       " 'Bagging_Classifier__oob_score': False,\n",
       " 'Bagging_Classifier__random_state': None,\n",
       " 'Bagging_Classifier__verbose': 0,\n",
       " 'Bagging_Classifier__warm_start': False,\n",
       " 'Ada_Boost__algorithm': 'SAMME',\n",
       " 'Ada_Boost__base_estimator': 'deprecated',\n",
       " 'Ada_Boost__estimator': None,\n",
       " 'Ada_Boost__learning_rate': 1.0,\n",
       " 'Ada_Boost__n_estimators': 102,\n",
       " 'Ada_Boost__random_state': None,\n",
       " 'Grad_Boost__ccp_alpha': 0.0,\n",
       " 'Grad_Boost__criterion': 'squared_error',\n",
       " 'Grad_Boost__init': None,\n",
       " 'Grad_Boost__learning_rate': 0.1,\n",
       " 'Grad_Boost__loss': 'log_loss',\n",
       " 'Grad_Boost__max_depth': 3,\n",
       " 'Grad_Boost__max_features': 'sqrt',\n",
       " 'Grad_Boost__max_leaf_nodes': None,\n",
       " 'Grad_Boost__min_impurity_decrease': 0.0,\n",
       " 'Grad_Boost__min_samples_leaf': 1,\n",
       " 'Grad_Boost__min_samples_split': 2,\n",
       " 'Grad_Boost__min_weight_fraction_leaf': 0.0,\n",
       " 'Grad_Boost__n_estimators': 117,\n",
       " 'Grad_Boost__n_iter_no_change': None,\n",
       " 'Grad_Boost__random_state': None,\n",
       " 'Grad_Boost__subsample': 1.0,\n",
       " 'Grad_Boost__tol': 0.0001,\n",
       " 'Grad_Boost__validation_fraction': 0.1,\n",
       " 'Grad_Boost__verbose': 0,\n",
       " 'Grad_Boost__warm_start': False}"
      ]
     },
     "execution_count": 478,
     "metadata": {},
     "output_type": "execute_result"
    }
   ],
   "source": [
    "best_model1 = mlflow.sklearn.load_model('mlflow-artifacts:/11856c6b7da848c38f85aa3ece46ad6c/5c209d92a1174a5aaefc84258e073304/artifacts/optuna_Stacked_Classifier')\n",
    "best_model1.get_params()"
   ]
  },
  {
   "cell_type": "code",
   "execution_count": 482,
   "metadata": {},
   "outputs": [],
   "source": [
    "import mlflow.xgboost"
   ]
  },
  {
   "cell_type": "code",
   "execution_count": 7,
   "metadata": {},
   "outputs": [
    {
     "name": "stderr",
     "output_type": "stream",
     "text": [
      "Downloading artifacts: 100%|██████████| 5/5 [00:01<00:00,  3.37it/s]\n"
     ]
    }
   ],
   "source": [
    "xgboost = mlflow.xgboost.load_model('mlflow-artifacts:/1cd799950ea74cae9dbec616b6b65993/acc08000975c49d7a3818110253855f1/artifacts/optuna_XGB_Classifier')"
   ]
  },
  {
   "cell_type": "code",
   "execution_count": 9,
   "metadata": {},
   "outputs": [],
   "source": [
    "params = client.get_run('acc08000975c49d7a3818110253855f1').data.params"
   ]
  },
  {
   "cell_type": "code",
   "execution_count": 10,
   "metadata": {},
   "outputs": [
    {
     "data": {
      "text/plain": [
       "{'objective': 'binary:logistic',\n",
       " 'base_score': 'None',\n",
       " 'booster': 'gbtree',\n",
       " 'callbacks': 'None',\n",
       " 'colsample_bylevel': 'None',\n",
       " 'colsample_bynode': 'None',\n",
       " 'colsample_bytree': 'None',\n",
       " 'device': 'None',\n",
       " 'early_stopping_rounds': 'None',\n",
       " 'enable_categorical': 'False',\n",
       " 'eval_metric': 'None',\n",
       " 'feature_types': 'None',\n",
       " 'gamma': 'None',\n",
       " 'grow_policy': 'None',\n",
       " 'importance_type': 'None',\n",
       " 'interaction_constraints': 'None',\n",
       " 'learning_rate': '3.6523285164797543',\n",
       " 'max_bin': 'None',\n",
       " 'max_cat_threshold': 'None',\n",
       " 'max_cat_to_onehot': 'None',\n",
       " 'max_delta_step': 'None',\n",
       " 'max_depth': 'None',\n",
       " 'max_leaves': 'None',\n",
       " 'min_child_weight': 'None',\n",
       " 'missing': 'nan',\n",
       " 'monotone_constraints': 'None',\n",
       " 'multi_strategy': 'None',\n",
       " 'n_estimators': '829',\n",
       " 'n_jobs': 'None',\n",
       " 'num_parallel_tree': 'None',\n",
       " 'random_state': 'None',\n",
       " 'reg_alpha': 'None',\n",
       " 'reg_lambda': 'None',\n",
       " 'sampling_method': 'None',\n",
       " 'scale_pos_weight': 'None',\n",
       " 'subsample': 'None',\n",
       " 'tree_method': 'hist',\n",
       " 'validate_parameters': 'None',\n",
       " 'verbosity': 'None'}"
      ]
     },
     "execution_count": 10,
     "metadata": {},
     "output_type": "execute_result"
    }
   ],
   "source": [
    "params"
   ]
  },
  {
   "cell_type": "code",
   "execution_count": 11,
   "metadata": {},
   "outputs": [],
   "source": [
    "with mlflow.start_run(experiment_id='188'):\n",
    "    mlflow.log_params(params)"
   ]
  },
  {
   "cell_type": "code",
   "execution_count": 12,
   "metadata": {},
   "outputs": [],
   "source": [
    "params_ = client.get_run('13ba590fba3f4584ba34cf81006dc31d').data.params"
   ]
  },
  {
   "cell_type": "code",
   "execution_count": 13,
   "metadata": {},
   "outputs": [
    {
     "data": {
      "text/plain": [
       "{'objective': 'binary:logistic',\n",
       " 'base_score': 'None',\n",
       " 'booster': 'gbtree',\n",
       " 'callbacks': 'None',\n",
       " 'colsample_bylevel': 'None',\n",
       " 'colsample_bynode': 'None',\n",
       " 'colsample_bytree': 'None',\n",
       " 'device': 'None',\n",
       " 'early_stopping_rounds': 'None',\n",
       " 'enable_categorical': 'False',\n",
       " 'eval_metric': 'None',\n",
       " 'feature_types': 'None',\n",
       " 'gamma': 'None',\n",
       " 'grow_policy': 'None',\n",
       " 'importance_type': 'None',\n",
       " 'interaction_constraints': 'None',\n",
       " 'learning_rate': '3.6523285164797543',\n",
       " 'max_bin': 'None',\n",
       " 'max_cat_threshold': 'None',\n",
       " 'max_cat_to_onehot': 'None',\n",
       " 'max_delta_step': 'None',\n",
       " 'max_depth': 'None',\n",
       " 'max_leaves': 'None',\n",
       " 'min_child_weight': 'None',\n",
       " 'missing': 'nan',\n",
       " 'monotone_constraints': 'None',\n",
       " 'multi_strategy': 'None',\n",
       " 'n_estimators': '829',\n",
       " 'n_jobs': 'None',\n",
       " 'num_parallel_tree': 'None',\n",
       " 'random_state': 'None',\n",
       " 'reg_alpha': 'None',\n",
       " 'reg_lambda': 'None',\n",
       " 'sampling_method': 'None',\n",
       " 'scale_pos_weight': 'None',\n",
       " 'subsample': 'None',\n",
       " 'tree_method': 'hist',\n",
       " 'validate_parameters': 'None',\n",
       " 'verbosity': 'None'}"
      ]
     },
     "execution_count": 13,
     "metadata": {},
     "output_type": "execute_result"
    }
   ],
   "source": [
    "params_"
   ]
  },
  {
   "cell_type": "code",
   "execution_count": 15,
   "metadata": {},
   "outputs": [
    {
     "name": "stdout",
     "output_type": "stream",
     "text": [
      "[2024-01-25 18:38:57,171: WARNING: connectionpool: Retrying (Retry(total=4, connect=5, read=4, redirect=5, status=5)) after connection broken by 'RemoteDisconnected('Remote end closed connection without response')': /Raj-Narayanan-B/StudentMLProjectRegression.mlflow/api/2.0/mlflow-artifacts/artifacts?path=489d8cb8991a4e58b57565bc00e31b9e%2F34cc0da17feb4e0ea750551a65809ba8%2Fartifacts%2Foptuna_Random+Forest]\n"
     ]
    },
    {
     "name": "stderr",
     "output_type": "stream",
     "text": [
      "Downloading artifacts:  20%|██        | 1/5 [00:00<00:01,  2.02it/s]"
     ]
    },
    {
     "name": "stdout",
     "output_type": "stream",
     "text": [
      "[2024-01-25 18:39:17,565: WARNING: connectionpool: Retrying (Retry(total=4, connect=5, read=4, redirect=5, status=5)) after connection broken by 'RemoteDisconnected('Remote end closed connection without response')': /Raj-Narayanan-B/StudentMLProjectRegression.mlflow/api/2.0/mlflow-artifacts/artifacts/489d8cb8991a4e58b57565bc00e31b9e/34cc0da17feb4e0ea750551a65809ba8/artifacts/optuna_Random%20Forest/MLmodel]\n",
      "[2024-01-25 18:39:17,581: WARNING: connectionpool: Retrying (Retry(total=4, connect=5, read=4, redirect=5, status=5)) after connection broken by 'RemoteDisconnected('Remote end closed connection without response')': /Raj-Narayanan-B/StudentMLProjectRegression.mlflow/api/2.0/mlflow-artifacts/artifacts/489d8cb8991a4e58b57565bc00e31b9e/34cc0da17feb4e0ea750551a65809ba8/artifacts/optuna_Random%20Forest/model.pkl]\n",
      "[2024-01-25 18:39:17,583: WARNING: connectionpool: Retrying (Retry(total=4, connect=5, read=4, redirect=5, status=5)) after connection broken by 'RemoteDisconnected('Remote end closed connection without response')': /Raj-Narayanan-B/StudentMLProjectRegression.mlflow/api/2.0/mlflow-artifacts/artifacts/489d8cb8991a4e58b57565bc00e31b9e/34cc0da17feb4e0ea750551a65809ba8/artifacts/optuna_Random%20Forest/requirements.txt]\n",
      "[2024-01-25 18:39:17,597: WARNING: connectionpool: Retrying (Retry(total=4, connect=5, read=4, redirect=5, status=5)) after connection broken by 'RemoteDisconnected('Remote end closed connection without response')': /Raj-Narayanan-B/StudentMLProjectRegression.mlflow/api/2.0/mlflow-artifacts/artifacts/489d8cb8991a4e58b57565bc00e31b9e/34cc0da17feb4e0ea750551a65809ba8/artifacts/optuna_Random%20Forest/python_env.yaml]\n"
     ]
    },
    {
     "name": "stderr",
     "output_type": "stream",
     "text": [
      "Downloading artifacts: 100%|██████████| 5/5 [00:21<00:00,  4.27s/it]\n"
     ]
    }
   ],
   "source": [
    "rand_f_model = mlflow.sklearn.load_model(\"mlflow-artifacts:/489d8cb8991a4e58b57565bc00e31b9e/34cc0da17feb4e0ea750551a65809ba8/artifacts/optuna_Random Forest\")"
   ]
  },
  {
   "cell_type": "code",
   "execution_count": 17,
   "metadata": {},
   "outputs": [
    {
     "data": {
      "text/plain": [
       "{'bootstrap': True,\n",
       " 'ccp_alpha': 0.0,\n",
       " 'class_weight': 'balanced_subsample',\n",
       " 'criterion': 'log_loss',\n",
       " 'max_depth': None,\n",
       " 'max_features': 'log2',\n",
       " 'max_leaf_nodes': None,\n",
       " 'max_samples': None,\n",
       " 'min_impurity_decrease': 0.0,\n",
       " 'min_samples_leaf': 1,\n",
       " 'min_samples_split': 2,\n",
       " 'min_weight_fraction_leaf': 0.0,\n",
       " 'n_estimators': 124,\n",
       " 'n_jobs': None,\n",
       " 'oob_score': False,\n",
       " 'random_state': None,\n",
       " 'verbose': 0,\n",
       " 'warm_start': False}"
      ]
     },
     "execution_count": 17,
     "metadata": {},
     "output_type": "execute_result"
    }
   ],
   "source": [
    "rand_f_model.get_params()"
   ]
  },
  {
   "cell_type": "code",
   "execution_count": 18,
   "metadata": {},
   "outputs": [
    {
     "data": {
      "text/plain": [
       "{'bootstrap': 'True',\n",
       " 'ccp_alpha': '0.0',\n",
       " 'class_weight': 'balanced_subsample',\n",
       " 'criterion': 'log_loss',\n",
       " 'max_depth': 'None',\n",
       " 'max_features': 'log2',\n",
       " 'max_leaf_nodes': 'None',\n",
       " 'max_samples': 'None',\n",
       " 'min_impurity_decrease': '0.0',\n",
       " 'min_samples_leaf': '1',\n",
       " 'min_samples_split': '2',\n",
       " 'min_weight_fraction_leaf': '0.0',\n",
       " 'n_estimators': '124',\n",
       " 'n_jobs': 'None',\n",
       " 'oob_score': 'False',\n",
       " 'random_state': 'None',\n",
       " 'verbose': '0',\n",
       " 'warm_start': 'False'}"
      ]
     },
     "execution_count": 18,
     "metadata": {},
     "output_type": "execute_result"
    }
   ],
   "source": [
    "rand_f_params = client.get_run('34cc0da17feb4e0ea750551a65809ba8').data.params\n",
    "rand_f_params"
   ]
  },
  {
   "cell_type": "code",
   "execution_count": 19,
   "metadata": {},
   "outputs": [],
   "source": [
    "with mlflow.start_run(experiment_id='181'):\n",
    "    mlflow.log_params(rand_f_params)"
   ]
  },
  {
   "cell_type": "code",
   "execution_count": null,
   "metadata": {},
   "outputs": [],
   "source": []
  }
 ],
 "metadata": {
  "kernelspec": {
   "display_name": "Python 3",
   "language": "python",
   "name": "python3"
  },
  "language_info": {
   "codemirror_mode": {
    "name": "ipython",
    "version": 3
   },
   "file_extension": ".py",
   "mimetype": "text/x-python",
   "name": "python",
   "nbconvert_exporter": "python",
   "pygments_lexer": "ipython3",
   "version": "3.11.5"
  }
 },
 "nbformat": 4,
 "nbformat_minor": 2
}
