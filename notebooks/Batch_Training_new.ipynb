{
 "cells": [
  {
   "cell_type": "code",
   "execution_count": null,
   "metadata": {},
   "outputs": [],
   "source": [
    "pwd"
   ]
  },
  {
   "cell_type": "code",
   "execution_count": 6,
   "metadata": {},
   "outputs": [
    {
     "name": "stdout",
     "output_type": "stream",
     "text": [
      "https://dagshub.com/Raj-Narayanan-B/StudentMLProjectRegression.mlflow\n",
      "https://dagshub.com/Raj-Narayanan-B/StudentMLProjectRegression.mlflow\n",
      "Batch: 0\n",
      "class\n",
      "0    4913\n",
      "1      87\n",
      "Name: count, dtype: int64 \n",
      "\n",
      "Batch: 1\n",
      "class\n",
      "0    4917\n",
      "1      83\n",
      "Name: count, dtype: int64 \n",
      "\n",
      "Batch: 2\n",
      "class\n",
      "0    4916\n",
      "1      84\n",
      "Name: count, dtype: int64 \n",
      "\n",
      "Batch: 3\n",
      "class\n",
      "0    4916\n",
      "1      84\n",
      "Name: count, dtype: int64 \n",
      "\n",
      "Batch: 4\n",
      "class\n",
      "0    4915\n",
      "1      85\n",
      "Name: count, dtype: int64 \n",
      "\n",
      "Batch: 5\n",
      "class\n",
      "0    4916\n",
      "1      84\n",
      "Name: count, dtype: int64 \n",
      "\n",
      "Batch: 6\n",
      "class\n",
      "0    4910\n",
      "1      90\n",
      "Name: count, dtype: int64 \n",
      "\n",
      "Batch: 7\n",
      "class\n",
      "0    4919\n",
      "1      81\n",
      "Name: count, dtype: int64 \n",
      "\n",
      "Batch: 8\n",
      "class\n",
      "0    4919\n",
      "1      81\n",
      "Name: count, dtype: int64 \n",
      "\n",
      "Batch: 9\n",
      "class\n",
      "0    4919\n",
      "1      81\n",
      "Name: count, dtype: int64 \n",
      "\n",
      "Batch: 10\n",
      "class\n",
      "0    4923\n",
      "1      77\n",
      "Name: count, dtype: int64 \n",
      "\n",
      "Batch: 11\n",
      "class\n",
      "0    4917\n",
      "1      83\n",
      "Name: count, dtype: int64 \n",
      "\n",
      "Total no of Class 0 in all batches: 59000\n",
      "Total no of Class 1 in all batches: 1000\n"
     ]
    }
   ],
   "source": [
    "import os\n",
    "os.chdir('f:\\\\iNeuron\\\\Projects\\\\scania_failures_2')\n",
    "import pandas as pd\n",
    "import numpy as np\n",
    "from pprint import pprint\n",
    "from pathlib import Path\n",
    "\n",
    "import mlflow\n",
    "import mlflow.data\n",
    "from mlflow.client import MlflowClient\n",
    "import mlflow.pyfunc\n",
    "client = MlflowClient(tracking_uri = 'https://dagshub.com/Raj-Narayanan-B/StudentMLProjectRegression.mlflow',\n",
    "                      registry_uri = 'https://dagshub.com/Raj-Narayanan-B/StudentMLProjectRegression.mlflow')\n",
    "\n",
    "\n",
    "from src.utils import (load_yaml,save_yaml,save_binary, params_extractor,\n",
    "                       eval_metrics, parameter_tuning, best_model_finder, \n",
    "                       stacking_clf_trainer, voting_clf_trainer, model_trainer, mlflow_logger)\n",
    "from src.constants import *\n",
    "from src.utils import load_yaml\n",
    "from src.components.stage_3_data_split import data_splitting_component\n",
    "from src.components.stage_4_final_preprocessing import stage_4_final_processing_component\n",
    "from src.config.configuration_manager import ConfigurationManager\n",
    "from src.entity.entity_config import (Stage2ProcessingConf,\n",
    "                                      ModelMetricsConf, \n",
    "                                      ModelTrainerConf, \n",
    "                                      PreprocessorConf, \n",
    "                                      DataSplitConf,\n",
    "                                      Stage1ProcessingConf)\n",
    "from src import logger\n",
    "\n",
    "import optuna\n",
    "\n",
    "from sklearn.linear_model import LogisticRegression, SGDClassifier\n",
    "from sklearn.ensemble import (RandomForestClassifier, AdaBoostClassifier, \n",
    "                              GradientBoostingClassifier, BaggingClassifier, ExtraTreesClassifier, \n",
    "                              HistGradientBoostingClassifier, StackingClassifier, VotingClassifier)\n",
    "from sklearn.tree import DecisionTreeClassifier\n",
    "from xgboost import XGBClassifier\n",
    "from lightgbm import LGBMClassifier\n",
    "# from catboost import CatBoostClassifier\n",
    "from sklearn.neighbors import KNeighborsClassifier\n",
    "\n",
    "from sklearn.model_selection import train_test_split, StratifiedKFold, cross_val_score, cross_validate\n",
    "from sklearn.utils import shuffle\n",
    "from sklearn.metrics import confusion_matrix, ConfusionMatrixDisplay\n",
    "\n",
    "from src.utils import eval_metrics\n",
    "# from sklearn.pipeline import Pipeline\n",
    "from sklearn.preprocessing import RobustScaler\n",
    "from sklearn.impute import KNNImputer\n",
    "\n",
    "from imblearn.combine import SMOTETomek\n",
    "from imblearn.pipeline import Pipeline\n",
    "\n",
    "models = {'Logistic_Regression': LogisticRegression, \n",
    "            'SGD_Classifier': SGDClassifier,\n",
    "            'Random Forest': RandomForestClassifier ,\n",
    "            'Ada_Boost': AdaBoostClassifier, \n",
    "            'Grad_Boost': GradientBoostingClassifier, \n",
    "            'Bagging_Classifier': BaggingClassifier, \n",
    "            'ExtraTreesClassifier': ExtraTreesClassifier, \n",
    "            'Hist_Grad_Boost_Classifier': HistGradientBoostingClassifier, \n",
    "            'Decision_Tree_Classifier': DecisionTreeClassifier,\n",
    "            'XGB_Classifier': XGBClassifier,\n",
    "            'KNN_Classifier': KNeighborsClassifier,\n",
    "            'Light_GBM' : LGBMClassifier,\n",
    "            # 'Stacked_Classifier' : StackingClassifier,\n",
    "            # 'Voting_Classifier' : VotingClassifier\n",
    "            }\n",
    "\n",
    "\n",
    "import pandas as pd\n",
    "data_path = Path('F:\\iNeuron\\Projects\\scania_failures_2\\\\artifacts\\data\\processed\\stage_1_processing\\preprocessed_train_data.csv')\n",
    "data = pd.read_csv(data_path)\n",
    "\n",
    "\n",
    "os.environ['MLFLOW_TRACKING_URI']='https://dagshub.com/Raj-Narayanan-B/StudentMLProjectRegression.mlflow'\n",
    "os.environ['MLFLOW_TRACKING_USERNAME']='Raj-Narayanan-B'\n",
    "os.environ['MLFLOW_TRACKING_PASSWORD']='8af4cc66be8aec751397fd525e47ae395fa67442'\n",
    "\n",
    "print(mlflow.get_tracking_uri())\n",
    "print(mlflow.get_registry_uri())\n",
    "\n",
    "batch_size = 5000\n",
    "num_batches = data.shape[0] // batch_size\n",
    "data_shuffled = shuffle(data, random_state=42)\n",
    "\n",
    "batch_list = []\n",
    "# Iterate through batches\n",
    "for i in range(num_batches):\n",
    "    # Extract a batch\n",
    "    start_idx = i * batch_size\n",
    "    end_idx = ((i + 1) * batch_size)\n",
    "    # print(f\"start_idx: {start_idx}, end_idx: {end_idx}\")\n",
    "    batch_list.append(data_shuffled.iloc[start_idx:end_idx, :])\n",
    "\n",
    "sum1 = 0\n",
    "sum0 = 0\n",
    "for i in range(len(batch_list)):\n",
    "    print(f\"Batch: {i}\")\n",
    "    sum0 += batch_list[i]['class'].value_counts()[0] \n",
    "    sum1 += batch_list[i]['class'].value_counts()[1] \n",
    "    print(batch_list[i]['class'].value_counts(),'\\n')\n",
    "\n",
    "print(f\"Total no of Class 0 in all batches: {sum0}\")\n",
    "print(f\"Total no of Class 1 in all batches: {sum1}\")\n",
    "\n",
    "# for working with the entire dataset  \n",
    "train_data = pd.read_csv('F:\\iNeuron\\Projects\\scania_failures_2\\\\artifacts\\data\\processed\\stage_2_processing\\processed_train_data.csv')\n",
    "test_data = pd.read_csv('F:\\iNeuron\\Projects\\scania_failures_2\\\\artifacts\\data\\processed\\stage_2_processing\\processed_test_data.csv')"
   ]
  },
  {
   "cell_type": "code",
   "execution_count": 5,
   "metadata": {},
   "outputs": [
    {
     "name": "stdout",
     "output_type": "stream",
     "text": [
      "[2024-01-31 07:41:08,419: INFO: utils: params.yaml yaml_file is loaded]\n"
     ]
    },
    {
     "name": "stderr",
     "output_type": "stream",
     "text": [
      "[I 2024-01-31 07:41:08,837] A new study created in memory with name: no-name-bee2418f-4771-4ab3-8857-0d044123b101\n"
     ]
    },
    {
     "name": "stdout",
     "output_type": "stream",
     "text": [
      "\n",
      "**************\n",
      "Trial_Number: 0\n",
      "**************\n",
      "\n",
      "Batch 0\n",
      "\"\\nSpace: {'criterion': 'entropy', 'splitter': 'best', 'max_features': 'log2'}\"\n"
     ]
    },
    {
     "name": "stderr",
     "output_type": "stream",
     "text": [
      "[Parallel(n_jobs=-1)]: Using backend LokyBackend with 8 concurrent workers.\n",
      "[Parallel(n_jobs=-1)]: Done   3 out of   3 | elapsed:   18.8s finished\n"
     ]
    },
    {
     "name": "stdout",
     "output_type": "stream",
     "text": [
      "\n",
      "Accuracy of Decision_Tree_Classifier: 0.972000557871619\n",
      "\n",
      "Batchwise_accuracies: [0.972000557871619]\n",
      "\n",
      "Batchwise_Median_Accuracy: 0.972000557871619\n",
      "\n",
      "Accumulated Accuracies:\n",
      "{'Decision_Tree_Classifier': {'Optuna': [0.972000557871619], 'HyperOpt': []}, 'XGB_Classifier': {'Optuna': [], 'HyperOpt': []}, 'KNN_Classifier': {'Optuna': [], 'HyperOpt': []}, 'Light_GBM': {'Optuna': [], 'HyperOpt': []}}\n",
      "\n",
      "Logging params and child model\n",
      "\n",
      "Batch 1\n",
      "\"\\nSpace: {'criterion': 'entropy', 'splitter': 'best', 'max_features': 'log2'}\"\n"
     ]
    },
    {
     "name": "stderr",
     "output_type": "stream",
     "text": [
      "[Parallel(n_jobs=-1)]: Using backend LokyBackend with 8 concurrent workers.\n",
      "[Parallel(n_jobs=-1)]: Done   3 out of   3 | elapsed:   12.7s finished\n"
     ]
    },
    {
     "name": "stdout",
     "output_type": "stream",
     "text": [
      "\n",
      "Accuracy of Decision_Tree_Classifier: 0.970400637759603\n",
      "\n",
      "Batchwise_accuracies: [0.972000557871619, 0.970400637759603]\n",
      "\n",
      "Batchwise_Median_Accuracy: 0.971200597815611\n",
      "\n",
      "Accumulated Accuracies:\n",
      "{'Decision_Tree_Classifier': {'Optuna': [0.972000557871619, 0.970400637759603], 'HyperOpt': []}, 'XGB_Classifier': {'Optuna': [], 'HyperOpt': []}, 'KNN_Classifier': {'Optuna': [], 'HyperOpt': []}, 'Light_GBM': {'Optuna': [], 'HyperOpt': []}}\n",
      "\n",
      "Logging params and child model\n",
      "\n",
      "Batch 2\n",
      "\"\\nSpace: {'criterion': 'entropy', 'splitter': 'best', 'max_features': 'log2'}\"\n"
     ]
    },
    {
     "name": "stderr",
     "output_type": "stream",
     "text": [
      "[Parallel(n_jobs=-1)]: Using backend LokyBackend with 8 concurrent workers.\n",
      "[Parallel(n_jobs=-1)]: Done   3 out of   3 | elapsed:   17.1s finished\n"
     ]
    },
    {
     "name": "stdout",
     "output_type": "stream",
     "text": [
      "\n",
      "Accuracy of Decision_Tree_Classifier: 0.9766004782236829\n",
      "\n",
      "Batchwise_accuracies: [0.972000557871619, 0.970400637759603, 0.9766004782236829]\n",
      "\n",
      "Batchwise_Median_Accuracy: 0.972000557871619\n",
      "\n",
      "Accumulated Accuracies:\n",
      "{'Decision_Tree_Classifier': {'Optuna': [0.972000557871619, 0.970400637759603, 0.9766004782236829], 'HyperOpt': []}, 'XGB_Classifier': {'Optuna': [], 'HyperOpt': []}, 'KNN_Classifier': {'Optuna': [], 'HyperOpt': []}, 'Light_GBM': {'Optuna': [], 'HyperOpt': []}}\n",
      "\n",
      "Logging params and child model\n",
      "\n",
      "Batch 3\n",
      "\"\\nSpace: {'criterion': 'entropy', 'splitter': 'best', 'max_features': 'log2'}\"\n"
     ]
    },
    {
     "name": "stderr",
     "output_type": "stream",
     "text": [
      "[Parallel(n_jobs=-1)]: Using backend LokyBackend with 8 concurrent workers.\n",
      "[Parallel(n_jobs=-1)]: Done   3 out of   3 | elapsed:   13.8s finished\n"
     ]
    },
    {
     "name": "stdout",
     "output_type": "stream",
     "text": [
      "\n",
      "Accuracy of Decision_Tree_Classifier: 0.9753995179355486\n",
      "\n",
      "Batchwise_accuracies: [0.972000557871619, 0.970400637759603, 0.9766004782236829, 0.9753995179355486]\n",
      "\n",
      "Batchwise_Median_Accuracy: 0.9737000379035838\n",
      "\n",
      "Accumulated Accuracies:\n",
      "{'Decision_Tree_Classifier': {'Optuna': [0.972000557871619, 0.970400637759603, 0.9766004782236829, 0.9753995179355486], 'HyperOpt': []}, 'XGB_Classifier': {'Optuna': [], 'HyperOpt': []}, 'KNN_Classifier': {'Optuna': [], 'HyperOpt': []}, 'Light_GBM': {'Optuna': [], 'HyperOpt': []}}\n",
      "\n",
      "Logging params and child model\n",
      "\n",
      "Batch 4\n",
      "\"\\nSpace: {'criterion': 'entropy', 'splitter': 'best', 'max_features': 'log2'}\"\n"
     ]
    },
    {
     "name": "stderr",
     "output_type": "stream",
     "text": [
      "[Parallel(n_jobs=-1)]: Using backend LokyBackend with 8 concurrent workers.\n",
      "[Parallel(n_jobs=-1)]: Done   3 out of   3 | elapsed:   12.0s finished\n"
     ]
    },
    {
     "name": "stdout",
     "output_type": "stream",
     "text": [
      "\n",
      "Accuracy of Decision_Tree_Classifier: 0.9763997980715983\n",
      "\n",
      "Batchwise_accuracies: [0.972000557871619, 0.970400637759603, 0.9766004782236829, 0.9753995179355486, 0.9763997980715983]\n",
      "\n",
      "Batchwise_Median_Accuracy: 0.9753995179355486\n",
      "\n",
      "Accumulated Accuracies:\n",
      "{'Decision_Tree_Classifier': {'Optuna': [0.972000557871619, 0.970400637759603, 0.9766004782236829, 0.9753995179355486, 0.9763997980715983], 'HyperOpt': []}, 'XGB_Classifier': {'Optuna': [], 'HyperOpt': []}, 'KNN_Classifier': {'Optuna': [], 'HyperOpt': []}, 'Light_GBM': {'Optuna': [], 'HyperOpt': []}}\n",
      "\n",
      "Logging params and child model\n",
      "\n",
      "Batch 5\n",
      "\"\\nSpace: {'criterion': 'entropy', 'splitter': 'best', 'max_features': 'log2'}\"\n"
     ]
    },
    {
     "name": "stderr",
     "output_type": "stream",
     "text": [
      "[Parallel(n_jobs=-1)]: Using backend LokyBackend with 8 concurrent workers.\n",
      "[Parallel(n_jobs=-1)]: Done   3 out of   3 | elapsed:   12.8s finished\n"
     ]
    },
    {
     "name": "stdout",
     "output_type": "stream",
     "text": [
      "\n",
      "Accuracy of Decision_Tree_Classifier: 0.9698003976635645\n",
      "\n",
      "Batchwise_accuracies: [0.972000557871619, 0.970400637759603, 0.9766004782236829, 0.9753995179355486, 0.9763997980715983, 0.9698003976635645]\n",
      "\n",
      "Batchwise_Median_Accuracy: 0.9737000379035838\n",
      "\n",
      "Accumulated Accuracies:\n",
      "{'Decision_Tree_Classifier': {'Optuna': [0.972000557871619, 0.970400637759603, 0.9766004782236829, 0.9753995179355486, 0.9763997980715983, 0.9698003976635645], 'HyperOpt': []}, 'XGB_Classifier': {'Optuna': [], 'HyperOpt': []}, 'KNN_Classifier': {'Optuna': [], 'HyperOpt': []}, 'Light_GBM': {'Optuna': [], 'HyperOpt': []}}\n",
      "\n",
      "Logging params and child model\n",
      "\n",
      "Batch 6\n",
      "\"\\nSpace: {'criterion': 'entropy', 'splitter': 'best', 'max_features': 'log2'}\"\n"
     ]
    },
    {
     "name": "stderr",
     "output_type": "stream",
     "text": [
      "[Parallel(n_jobs=-1)]: Using backend LokyBackend with 8 concurrent workers.\n",
      "[Parallel(n_jobs=-1)]: Done   3 out of   3 | elapsed:   12.1s finished\n"
     ]
    },
    {
     "name": "stdout",
     "output_type": "stream",
     "text": [
      "\n",
      "Accuracy of Decision_Tree_Classifier: 0.9727983574953676\n",
      "\n",
      "Batchwise_accuracies: [0.972000557871619, 0.970400637759603, 0.9766004782236829, 0.9753995179355486, 0.9763997980715983, 0.9698003976635645, 0.9727983574953676]\n",
      "\n",
      "Batchwise_Median_Accuracy: 0.9727983574953676\n",
      "\n",
      "Accumulated Accuracies:\n",
      "{'Decision_Tree_Classifier': {'Optuna': [0.972000557871619, 0.970400637759603, 0.9766004782236829, 0.9753995179355486, 0.9763997980715983, 0.9698003976635645, 0.9727983574953676], 'HyperOpt': []}, 'XGB_Classifier': {'Optuna': [], 'HyperOpt': []}, 'KNN_Classifier': {'Optuna': [], 'HyperOpt': []}, 'Light_GBM': {'Optuna': [], 'HyperOpt': []}}\n",
      "\n",
      "Logging params and child model\n",
      "\n",
      "Batch 7\n",
      "\"\\nSpace: {'criterion': 'entropy', 'splitter': 'best', 'max_features': 'log2'}\"\n"
     ]
    },
    {
     "name": "stderr",
     "output_type": "stream",
     "text": [
      "[Parallel(n_jobs=-1)]: Using backend LokyBackend with 8 concurrent workers.\n",
      "[Parallel(n_jobs=-1)]: Done   3 out of   3 | elapsed:   13.3s finished\n"
     ]
    },
    {
     "name": "stdout",
     "output_type": "stream",
     "text": [
      "\n",
      "Accuracy of Decision_Tree_Classifier: 0.9761998380635998\n",
      "\n",
      "Batchwise_accuracies: [0.972000557871619, 0.970400637759603, 0.9766004782236829, 0.9753995179355486, 0.9763997980715983, 0.9698003976635645, 0.9727983574953676, 0.9761998380635998]\n",
      "\n",
      "Batchwise_Median_Accuracy: 0.9740989377154581\n",
      "\n",
      "Accumulated Accuracies:\n",
      "{'Decision_Tree_Classifier': {'Optuna': [0.972000557871619, 0.970400637759603, 0.9766004782236829, 0.9753995179355486, 0.9763997980715983, 0.9698003976635645, 0.9727983574953676, 0.9761998380635998], 'HyperOpt': []}, 'XGB_Classifier': {'Optuna': [], 'HyperOpt': []}, 'KNN_Classifier': {'Optuna': [], 'HyperOpt': []}, 'Light_GBM': {'Optuna': [], 'HyperOpt': []}}\n",
      "\n",
      "Logging params and child model\n",
      "\n",
      "Batch 8\n",
      "\"\\nSpace: {'criterion': 'entropy', 'splitter': 'best', 'max_features': 'log2'}\"\n"
     ]
    },
    {
     "name": "stderr",
     "output_type": "stream",
     "text": [
      "[Parallel(n_jobs=-1)]: Using backend LokyBackend with 8 concurrent workers.\n",
      "[Parallel(n_jobs=-1)]: Done   3 out of   3 | elapsed:   11.2s finished\n"
     ]
    },
    {
     "name": "stdout",
     "output_type": "stream",
     "text": [
      "\n",
      "Accuracy of Decision_Tree_Classifier: 0.9763996780475838\n",
      "\n",
      "Batchwise_accuracies: [0.972000557871619, 0.970400637759603, 0.9766004782236829, 0.9753995179355486, 0.9763997980715983, 0.9698003976635645, 0.9727983574953676, 0.9761998380635998, 0.9763996780475838]\n",
      "\n",
      "Batchwise_Median_Accuracy: 0.9753995179355486\n",
      "\n",
      "Accumulated Accuracies:\n",
      "{'Decision_Tree_Classifier': {'Optuna': [0.972000557871619, 0.970400637759603, 0.9766004782236829, 0.9753995179355486, 0.9763997980715983, 0.9698003976635645, 0.9727983574953676, 0.9761998380635998, 0.9763996780475838], 'HyperOpt': []}, 'XGB_Classifier': {'Optuna': [], 'HyperOpt': []}, 'KNN_Classifier': {'Optuna': [], 'HyperOpt': []}, 'Light_GBM': {'Optuna': [], 'HyperOpt': []}}\n",
      "\n",
      "Logging params and child model\n",
      "\n",
      "Batch 9\n",
      "\"\\nSpace: {'criterion': 'entropy', 'splitter': 'best', 'max_features': 'log2'}\"\n"
     ]
    },
    {
     "name": "stderr",
     "output_type": "stream",
     "text": [
      "[Parallel(n_jobs=-1)]: Using backend LokyBackend with 8 concurrent workers.\n",
      "[Parallel(n_jobs=-1)]: Done   3 out of   3 | elapsed:   11.0s finished\n"
     ]
    },
    {
     "name": "stdout",
     "output_type": "stream",
     "text": [
      "\n",
      "Accuracy of Decision_Tree_Classifier: 0.9722006379036318\n",
      "\n",
      "Batchwise_accuracies: [0.972000557871619, 0.970400637759603, 0.9766004782236829, 0.9753995179355486, 0.9763997980715983, 0.9698003976635645, 0.9727983574953676, 0.9761998380635998, 0.9763996780475838, 0.9722006379036318]\n",
      "\n",
      "Batchwise_Median_Accuracy: 0.9740989377154581\n",
      "\n",
      "Accumulated Accuracies:\n",
      "{'Decision_Tree_Classifier': {'Optuna': [0.972000557871619, 0.970400637759603, 0.9766004782236829, 0.9753995179355486, 0.9763997980715983, 0.9698003976635645, 0.9727983574953676, 0.9761998380635998, 0.9763996780475838, 0.9722006379036318], 'HyperOpt': []}, 'XGB_Classifier': {'Optuna': [], 'HyperOpt': []}, 'KNN_Classifier': {'Optuna': [], 'HyperOpt': []}, 'Light_GBM': {'Optuna': [], 'HyperOpt': []}}\n",
      "\n",
      "Logging params and child model\n",
      "Logging Parent Model\n",
      "Experiment IDs:  367\n",
      "Parent_Run_ID: 450efe8500494c1a96b4d1b365adf12d\n",
      "Artifact_Path: mlflow-artifacts:/45286f1704274a2c97b1a625f6b97ac2/3c9a6db9c7094dfb94995083e100ee4e/artifacts/Decision_Tree_Classifier_batch_2\n"
     ]
    },
    {
     "name": "stderr",
     "output_type": "stream",
     "text": [
      "Downloading artifacts: 100%|██████████| 5/5 [00:01<00:00,  4.01it/s]\n"
     ]
    },
    {
     "name": "stdout",
     "output_type": "stream",
     "text": [
      "Best Params:\n",
      " {'ccp_alpha': 0.0, 'criterion': 'entropy', 'max_features': 'log2', 'min_impurity_decrease': 0.0, 'min_samples_leaf': 1, 'min_samples_split': 2, 'min_weight_fraction_leaf': 0.0, 'splitter': 'best'} \n",
      "\n"
     ]
    },
    {
     "name": "stderr",
     "output_type": "stream",
     "text": [
      "[I 2024-01-31 07:45:52,525] Trial 0 finished with value: 0.9738199899035799 and parameters: {'criterion': 'entropy', 'splitter': 'best', 'max_features': 'log2'}. Best is trial 0 with value: 0.9738199899035799.\n"
     ]
    },
    {
     "name": "stdout",
     "output_type": "stream",
     "text": [
      "\n",
      "**************\n",
      "Trial_Number: 1\n",
      "**************\n",
      "\n",
      "Batch 0\n",
      "('\\n'\n",
      " \"Space: {'criterion': 'log_loss', 'splitter': 'random', 'max_features': \"\n",
      " \"'log2'}\")\n"
     ]
    },
    {
     "name": "stderr",
     "output_type": "stream",
     "text": [
      "[Parallel(n_jobs=-1)]: Using backend LokyBackend with 8 concurrent workers.\n",
      "[Parallel(n_jobs=-1)]: Done   3 out of   3 | elapsed:   10.7s finished\n"
     ]
    },
    {
     "name": "stdout",
     "output_type": "stream",
     "text": [
      "\n",
      "Accuracy of Decision_Tree_Classifier: 0.9600001968393835\n",
      "\n",
      "Batchwise_accuracies: [0.9600001968393835]\n",
      "\n",
      "Batchwise_Median_Accuracy: 0.9600001968393835\n",
      "\n",
      "Accumulated Accuracies:\n",
      "{'Decision_Tree_Classifier': {'Optuna': [0.972000557871619, 0.970400637759603, 0.9766004782236829, 0.9753995179355486, 0.9763997980715983, 0.9698003976635645, 0.9727983574953676, 0.9761998380635998, 0.9763996780475838, 0.9722006379036318, 0.9600001968393835], 'HyperOpt': []}, 'XGB_Classifier': {'Optuna': [], 'HyperOpt': []}, 'KNN_Classifier': {'Optuna': [], 'HyperOpt': []}, 'Light_GBM': {'Optuna': [], 'HyperOpt': []}}\n",
      "\n",
      "Logging params and child model\n",
      "\n",
      "Batch 1\n",
      "('\\n'\n",
      " \"Space: {'criterion': 'log_loss', 'splitter': 'random', 'max_features': \"\n",
      " \"'log2'}\")\n"
     ]
    },
    {
     "name": "stderr",
     "output_type": "stream",
     "text": [
      "[Parallel(n_jobs=-1)]: Using backend LokyBackend with 8 concurrent workers.\n",
      "[Parallel(n_jobs=-1)]: Done   3 out of   3 | elapsed:   14.0s finished\n"
     ]
    },
    {
     "name": "stdout",
     "output_type": "stream",
     "text": [
      "\n",
      "Accuracy of Decision_Tree_Classifier: 0.9714011579436814\n",
      "\n",
      "Batchwise_accuracies: [0.9600001968393835, 0.9714011579436814]\n",
      "\n",
      "Batchwise_Median_Accuracy: 0.9657006773915324\n",
      "\n",
      "Accumulated Accuracies:\n",
      "{'Decision_Tree_Classifier': {'Optuna': [0.972000557871619, 0.970400637759603, 0.9766004782236829, 0.9753995179355486, 0.9763997980715983, 0.9698003976635645, 0.9727983574953676, 0.9761998380635998, 0.9763996780475838, 0.9722006379036318, 0.9600001968393835, 0.9714011579436814], 'HyperOpt': []}, 'XGB_Classifier': {'Optuna': [], 'HyperOpt': []}, 'KNN_Classifier': {'Optuna': [], 'HyperOpt': []}, 'Light_GBM': {'Optuna': [], 'HyperOpt': []}}\n",
      "\n",
      "Logging params and child model\n",
      "\n",
      "Batch 2\n",
      "('\\n'\n",
      " \"Space: {'criterion': 'log_loss', 'splitter': 'random', 'max_features': \"\n",
      " \"'log2'}\")\n"
     ]
    },
    {
     "name": "stderr",
     "output_type": "stream",
     "text": [
      "[Parallel(n_jobs=-1)]: Using backend LokyBackend with 8 concurrent workers.\n",
      "[Parallel(n_jobs=-1)]: Done   3 out of   3 | elapsed:   13.2s finished\n"
     ]
    },
    {
     "name": "stdout",
     "output_type": "stream",
     "text": [
      "\n",
      "Accuracy of Decision_Tree_Classifier: 0.9765997580795966\n",
      "\n",
      "Batchwise_accuracies: [0.9600001968393835, 0.9714011579436814, 0.9765997580795966]\n",
      "\n",
      "Batchwise_Median_Accuracy: 0.9714011579436814\n",
      "\n",
      "Accumulated Accuracies:\n",
      "{'Decision_Tree_Classifier': {'Optuna': [0.972000557871619, 0.970400637759603, 0.9766004782236829, 0.9753995179355486, 0.9763997980715983, 0.9698003976635645, 0.9727983574953676, 0.9761998380635998, 0.9763996780475838, 0.9722006379036318, 0.9600001968393835, 0.9714011579436814, 0.9765997580795966], 'HyperOpt': []}, 'XGB_Classifier': {'Optuna': [], 'HyperOpt': []}, 'KNN_Classifier': {'Optuna': [], 'HyperOpt': []}, 'Light_GBM': {'Optuna': [], 'HyperOpt': []}}\n",
      "\n",
      "Logging params and child model\n",
      "\n",
      "Batch 3\n",
      "('\\n'\n",
      " \"Space: {'criterion': 'log_loss', 'splitter': 'random', 'max_features': \"\n",
      " \"'log2'}\")\n"
     ]
    },
    {
     "name": "stderr",
     "output_type": "stream",
     "text": [
      "[Parallel(n_jobs=-1)]: Using backend LokyBackend with 8 concurrent workers.\n",
      "[Parallel(n_jobs=-1)]: Done   3 out of   3 | elapsed:   11.8s finished\n"
     ]
    },
    {
     "name": "stdout",
     "output_type": "stream",
     "text": [
      "\n",
      "Accuracy of Decision_Tree_Classifier: 0.9666001973674893\n",
      "\n",
      "Batchwise_accuracies: [0.9600001968393835, 0.9714011579436814, 0.9765997580795966, 0.9666001973674893]\n",
      "\n",
      "Batchwise_Median_Accuracy: 0.9690006776555853\n",
      "\n",
      "Accumulated Accuracies:\n",
      "{'Decision_Tree_Classifier': {'Optuna': [0.972000557871619, 0.970400637759603, 0.9766004782236829, 0.9753995179355486, 0.9763997980715983, 0.9698003976635645, 0.9727983574953676, 0.9761998380635998, 0.9763996780475838, 0.9722006379036318, 0.9600001968393835, 0.9714011579436814, 0.9765997580795966, 0.9666001973674893], 'HyperOpt': []}, 'XGB_Classifier': {'Optuna': [], 'HyperOpt': []}, 'KNN_Classifier': {'Optuna': [], 'HyperOpt': []}, 'Light_GBM': {'Optuna': [], 'HyperOpt': []}}\n",
      "\n",
      "Logging params and child model\n",
      "\n",
      "Batch 4\n",
      "('\\n'\n",
      " \"Space: {'criterion': 'log_loss', 'splitter': 'random', 'max_features': \"\n",
      " \"'log2'}\")\n"
     ]
    },
    {
     "name": "stderr",
     "output_type": "stream",
     "text": [
      "[Parallel(n_jobs=-1)]: Using backend LokyBackend with 8 concurrent workers.\n",
      "[Parallel(n_jobs=-1)]: Done   3 out of   3 | elapsed:    9.2s finished\n"
     ]
    },
    {
     "name": "stdout",
     "output_type": "stream",
     "text": [
      "\n",
      "Accuracy of Decision_Tree_Classifier: 0.9624012772475515\n",
      "\n",
      "Batchwise_accuracies: [0.9600001968393835, 0.9714011579436814, 0.9765997580795966, 0.9666001973674893, 0.9624012772475515]\n",
      "\n",
      "Batchwise_Median_Accuracy: 0.9666001973674893\n",
      "\n",
      "Accumulated Accuracies:\n",
      "{'Decision_Tree_Classifier': {'Optuna': [0.972000557871619, 0.970400637759603, 0.9766004782236829, 0.9753995179355486, 0.9763997980715983, 0.9698003976635645, 0.9727983574953676, 0.9761998380635998, 0.9763996780475838, 0.9722006379036318, 0.9600001968393835, 0.9714011579436814, 0.9765997580795966, 0.9666001973674893, 0.9624012772475515], 'HyperOpt': []}, 'XGB_Classifier': {'Optuna': [], 'HyperOpt': []}, 'KNN_Classifier': {'Optuna': [], 'HyperOpt': []}, 'Light_GBM': {'Optuna': [], 'HyperOpt': []}}\n",
      "\n",
      "Logging params and child model\n",
      "\n",
      "Batch 5\n",
      "('\\n'\n",
      " \"Space: {'criterion': 'log_loss', 'splitter': 'random', 'max_features': \"\n",
      " \"'log2'}\")\n"
     ]
    },
    {
     "name": "stderr",
     "output_type": "stream",
     "text": [
      "[Parallel(n_jobs=-1)]: Using backend LokyBackend with 8 concurrent workers.\n",
      "[Parallel(n_jobs=-1)]: Done   3 out of   3 | elapsed:   11.2s finished\n"
     ]
    },
    {
     "name": "stdout",
     "output_type": "stream",
     "text": [
      "\n",
      "Accuracy of Decision_Tree_Classifier: 0.9651992770713566\n",
      "\n",
      "Batchwise_accuracies: [0.9600001968393835, 0.9714011579436814, 0.9765997580795966, 0.9666001973674893, 0.9624012772475515, 0.9651992770713566]\n",
      "\n",
      "Batchwise_Median_Accuracy: 0.9658997372194229\n",
      "\n",
      "Accumulated Accuracies:\n",
      "{'Decision_Tree_Classifier': {'Optuna': [0.972000557871619, 0.970400637759603, 0.9766004782236829, 0.9753995179355486, 0.9763997980715983, 0.9698003976635645, 0.9727983574953676, 0.9761998380635998, 0.9763996780475838, 0.9722006379036318, 0.9600001968393835, 0.9714011579436814, 0.9765997580795966, 0.9666001973674893, 0.9624012772475515, 0.9651992770713566], 'HyperOpt': []}, 'XGB_Classifier': {'Optuna': [], 'HyperOpt': []}, 'KNN_Classifier': {'Optuna': [], 'HyperOpt': []}, 'Light_GBM': {'Optuna': [], 'HyperOpt': []}}\n",
      "\n",
      "Logging params and child model\n",
      "\n",
      "Batch 6\n",
      "('\\n'\n",
      " \"Space: {'criterion': 'log_loss', 'splitter': 'random', 'max_features': \"\n",
      " \"'log2'}\")\n"
     ]
    },
    {
     "name": "stderr",
     "output_type": "stream",
     "text": [
      "[Parallel(n_jobs=-1)]: Using backend LokyBackend with 8 concurrent workers.\n",
      "[Parallel(n_jobs=-1)]: Done   3 out of   3 | elapsed:   10.5s finished\n"
     ]
    },
    {
     "name": "stdout",
     "output_type": "stream",
     "text": [
      "\n",
      "Accuracy of Decision_Tree_Classifier: 0.9723992776474718\n",
      "\n",
      "Batchwise_accuracies: [0.9600001968393835, 0.9714011579436814, 0.9765997580795966, 0.9666001973674893, 0.9624012772475515, 0.9651992770713566, 0.9723992776474718]\n",
      "\n",
      "Batchwise_Median_Accuracy: 0.9666001973674893\n",
      "\n",
      "Accumulated Accuracies:\n",
      "{'Decision_Tree_Classifier': {'Optuna': [0.972000557871619, 0.970400637759603, 0.9766004782236829, 0.9753995179355486, 0.9763997980715983, 0.9698003976635645, 0.9727983574953676, 0.9761998380635998, 0.9763996780475838, 0.9722006379036318, 0.9600001968393835, 0.9714011579436814, 0.9765997580795966, 0.9666001973674893, 0.9624012772475515, 0.9651992770713566, 0.9723992776474718], 'HyperOpt': []}, 'XGB_Classifier': {'Optuna': [], 'HyperOpt': []}, 'KNN_Classifier': {'Optuna': [], 'HyperOpt': []}, 'Light_GBM': {'Optuna': [], 'HyperOpt': []}}\n",
      "\n",
      "Logging params and child model\n"
     ]
    },
    {
     "name": "stderr",
     "output_type": "stream",
     "text": [
      "[Parallel(n_jobs=-1)]: Using backend LokyBackend with 8 concurrent workers.\n"
     ]
    },
    {
     "name": "stdout",
     "output_type": "stream",
     "text": [
      "\n",
      "Batch 7\n",
      "('\\n'\n",
      " \"Space: {'criterion': 'log_loss', 'splitter': 'random', 'max_features': \"\n",
      " \"'log2'}\")\n"
     ]
    },
    {
     "name": "stderr",
     "output_type": "stream",
     "text": [
      "[Parallel(n_jobs=-1)]: Done   3 out of   3 | elapsed:   11.9s finished\n"
     ]
    },
    {
     "name": "stdout",
     "output_type": "stream",
     "text": [
      "\n",
      "Accuracy of Decision_Tree_Classifier: 0.9746000379755982\n",
      "\n",
      "Batchwise_accuracies: [0.9600001968393835, 0.9714011579436814, 0.9765997580795966, 0.9666001973674893, 0.9624012772475515, 0.9651992770713566, 0.9723992776474718, 0.9746000379755982]\n",
      "\n",
      "Batchwise_Median_Accuracy: 0.9690006776555853\n",
      "\n",
      "Accumulated Accuracies:\n",
      "{'Decision_Tree_Classifier': {'Optuna': [0.972000557871619, 0.970400637759603, 0.9766004782236829, 0.9753995179355486, 0.9763997980715983, 0.9698003976635645, 0.9727983574953676, 0.9761998380635998, 0.9763996780475838, 0.9722006379036318, 0.9600001968393835, 0.9714011579436814, 0.9765997580795966, 0.9666001973674893, 0.9624012772475515, 0.9651992770713566, 0.9723992776474718, 0.9746000379755982], 'HyperOpt': []}, 'XGB_Classifier': {'Optuna': [], 'HyperOpt': []}, 'KNN_Classifier': {'Optuna': [], 'HyperOpt': []}, 'Light_GBM': {'Optuna': [], 'HyperOpt': []}}\n",
      "\n",
      "Logging params and child model\n",
      "\n",
      "Batch 8\n",
      "('\\n'\n",
      " \"Space: {'criterion': 'log_loss', 'splitter': 'random', 'max_features': \"\n",
      " \"'log2'}\")\n"
     ]
    },
    {
     "name": "stderr",
     "output_type": "stream",
     "text": [
      "[Parallel(n_jobs=-1)]: Using backend LokyBackend with 8 concurrent workers.\n",
      "[Parallel(n_jobs=-1)]: Done   3 out of   3 | elapsed:   11.5s finished\n"
     ]
    },
    {
     "name": "stdout",
     "output_type": "stream",
     "text": [
      "\n",
      "Accuracy of Decision_Tree_Classifier: 0.9706005977676013\n",
      "\n",
      "Batchwise_accuracies: [0.9600001968393835, 0.9714011579436814, 0.9765997580795966, 0.9666001973674893, 0.9624012772475515, 0.9651992770713566, 0.9723992776474718, 0.9746000379755982, 0.9706005977676013]\n",
      "\n",
      "Batchwise_Median_Accuracy: 0.9706005977676013\n",
      "\n",
      "Accumulated Accuracies:\n",
      "{'Decision_Tree_Classifier': {'Optuna': [0.972000557871619, 0.970400637759603, 0.9766004782236829, 0.9753995179355486, 0.9763997980715983, 0.9698003976635645, 0.9727983574953676, 0.9761998380635998, 0.9763996780475838, 0.9722006379036318, 0.9600001968393835, 0.9714011579436814, 0.9765997580795966, 0.9666001973674893, 0.9624012772475515, 0.9651992770713566, 0.9723992776474718, 0.9746000379755982, 0.9706005977676013], 'HyperOpt': []}, 'XGB_Classifier': {'Optuna': [], 'HyperOpt': []}, 'KNN_Classifier': {'Optuna': [], 'HyperOpt': []}, 'Light_GBM': {'Optuna': [], 'HyperOpt': []}}\n",
      "\n",
      "Logging params and child model\n",
      "\n",
      "Batch 9\n",
      "('\\n'\n",
      " \"Space: {'criterion': 'log_loss', 'splitter': 'random', 'max_features': \"\n",
      " \"'log2'}\")\n"
     ]
    },
    {
     "name": "stderr",
     "output_type": "stream",
     "text": [
      "[Parallel(n_jobs=-1)]: Using backend LokyBackend with 8 concurrent workers.\n",
      "[Parallel(n_jobs=-1)]: Done   3 out of   3 | elapsed:   11.0s finished\n"
     ]
    },
    {
     "name": "stdout",
     "output_type": "stream",
     "text": [
      "\n",
      "Accuracy of Decision_Tree_Classifier: 0.9702013978956909\n",
      "\n",
      "Batchwise_accuracies: [0.9600001968393835, 0.9714011579436814, 0.9765997580795966, 0.9666001973674893, 0.9624012772475515, 0.9651992770713566, 0.9723992776474718, 0.9746000379755982, 0.9706005977676013, 0.9702013978956909]\n",
      "\n",
      "Batchwise_Median_Accuracy: 0.9704009978316461\n",
      "\n",
      "Accumulated Accuracies:\n",
      "{'Decision_Tree_Classifier': {'Optuna': [0.972000557871619, 0.970400637759603, 0.9766004782236829, 0.9753995179355486, 0.9763997980715983, 0.9698003976635645, 0.9727983574953676, 0.9761998380635998, 0.9763996780475838, 0.9722006379036318, 0.9600001968393835, 0.9714011579436814, 0.9765997580795966, 0.9666001973674893, 0.9624012772475515, 0.9651992770713566, 0.9723992776474718, 0.9746000379755982, 0.9706005977676013, 0.9702013978956909], 'HyperOpt': []}, 'XGB_Classifier': {'Optuna': [], 'HyperOpt': []}, 'KNN_Classifier': {'Optuna': [], 'HyperOpt': []}, 'Light_GBM': {'Optuna': [], 'HyperOpt': []}}\n",
      "\n",
      "Logging params and child model\n",
      "Logging Parent Model\n",
      "Experiment IDs:  367\n",
      "Parent_Run_ID: cf58145345754406931cdcde472267d7\n",
      "Artifact_Path: mlflow-artifacts:/45286f1704274a2c97b1a625f6b97ac2/1ff4ea5d39c84583b9449403e205162b/artifacts/Decision_Tree_Classifier_batch_2\n"
     ]
    },
    {
     "name": "stderr",
     "output_type": "stream",
     "text": [
      "Downloading artifacts:  20%|██        | 1/5 [00:00<00:02,  1.75it/s]"
     ]
    },
    {
     "name": "stdout",
     "output_type": "stream",
     "text": [
      "[2024-01-31 07:50:13,417: WARNING: connectionpool: Retrying (Retry(total=4, connect=5, read=4, redirect=5, status=5)) after connection broken by 'RemoteDisconnected('Remote end closed connection without response')': /Raj-Narayanan-B/StudentMLProjectRegression.mlflow/api/2.0/mlflow-artifacts/artifacts/45286f1704274a2c97b1a625f6b97ac2/1ff4ea5d39c84583b9449403e205162b/artifacts/Decision_Tree_Classifier_batch_2/MLmodel]\n",
      "[2024-01-31 07:50:13,438: WARNING: connectionpool: Retrying (Retry(total=4, connect=5, read=4, redirect=5, status=5)) after connection broken by 'RemoteDisconnected('Remote end closed connection without response')': /Raj-Narayanan-B/StudentMLProjectRegression.mlflow/api/2.0/mlflow-artifacts/artifacts/45286f1704274a2c97b1a625f6b97ac2/1ff4ea5d39c84583b9449403e205162b/artifacts/Decision_Tree_Classifier_batch_2/requirements.txt]\n",
      "[2024-01-31 07:50:13,448: WARNING: connectionpool: Retrying (Retry(total=4, connect=5, read=4, redirect=5, status=5)) after connection broken by 'RemoteDisconnected('Remote end closed connection without response')': /Raj-Narayanan-B/StudentMLProjectRegression.mlflow/api/2.0/mlflow-artifacts/artifacts/45286f1704274a2c97b1a625f6b97ac2/1ff4ea5d39c84583b9449403e205162b/artifacts/Decision_Tree_Classifier_batch_2/python_env.yaml]\n",
      "[2024-01-31 07:50:13,458: WARNING: connectionpool: Retrying (Retry(total=4, connect=5, read=4, redirect=5, status=5)) after connection broken by 'RemoteDisconnected('Remote end closed connection without response')': /Raj-Narayanan-B/StudentMLProjectRegression.mlflow/api/2.0/mlflow-artifacts/artifacts/45286f1704274a2c97b1a625f6b97ac2/1ff4ea5d39c84583b9449403e205162b/artifacts/Decision_Tree_Classifier_batch_2/conda.yaml]\n"
     ]
    },
    {
     "name": "stderr",
     "output_type": "stream",
     "text": [
      "Downloading artifacts: 100%|██████████| 5/5 [00:20<00:00,  4.11s/it]\n"
     ]
    },
    {
     "name": "stdout",
     "output_type": "stream",
     "text": [
      "Best Params:\n",
      " {'ccp_alpha': 0.0, 'criterion': 'log_loss', 'max_features': 'log2', 'min_impurity_decrease': 0.0, 'min_samples_leaf': 1, 'min_samples_split': 2, 'min_weight_fraction_leaf': 0.0, 'splitter': 'random'} \n",
      "\n"
     ]
    },
    {
     "name": "stderr",
     "output_type": "stream",
     "text": [
      "[I 2024-01-31 07:50:25,998] Trial 1 finished with value: 0.9690003175835422 and parameters: {'criterion': 'log_loss', 'splitter': 'random', 'max_features': 'log2'}. Best is trial 0 with value: 0.9738199899035799.\n"
     ]
    },
    {
     "name": "stdout",
     "output_type": "stream",
     "text": [
      "\n",
      "**************\n",
      "Trial_Number: 2\n",
      "**************\n",
      "\n",
      "Batch 0\n",
      "\"\\nSpace: {'criterion': 'gini', 'splitter': 'random', 'max_features': None}\"\n"
     ]
    },
    {
     "name": "stderr",
     "output_type": "stream",
     "text": [
      "[Parallel(n_jobs=-1)]: Using backend LokyBackend with 8 concurrent workers.\n",
      "[Parallel(n_jobs=-1)]: Done   3 out of   3 | elapsed:   11.8s finished\n"
     ]
    },
    {
     "name": "stdout",
     "output_type": "stream",
     "text": [
      "\n",
      "Accuracy of Decision_Tree_Classifier: 0.9647987569352875\n",
      "\n",
      "Batchwise_accuracies: [0.9647987569352875]\n",
      "\n",
      "Batchwise_Median_Accuracy: 0.9647987569352875\n",
      "\n",
      "Accumulated Accuracies:\n",
      "{'Decision_Tree_Classifier': {'Optuna': [0.972000557871619, 0.970400637759603, 0.9766004782236829, 0.9753995179355486, 0.9763997980715983, 0.9698003976635645, 0.9727983574953676, 0.9761998380635998, 0.9763996780475838, 0.9722006379036318, 0.9600001968393835, 0.9714011579436814, 0.9765997580795966, 0.9666001973674893, 0.9624012772475515, 0.9651992770713566, 0.9723992776474718, 0.9746000379755982, 0.9706005977676013, 0.9702013978956909, 0.9647987569352875], 'HyperOpt': []}, 'XGB_Classifier': {'Optuna': [], 'HyperOpt': []}, 'KNN_Classifier': {'Optuna': [], 'HyperOpt': []}, 'Light_GBM': {'Optuna': [], 'HyperOpt': []}}\n",
      "\n",
      "Logging params and child model\n",
      "\n",
      "Batch 1\n",
      "\"\\nSpace: {'criterion': 'gini', 'splitter': 'random', 'max_features': None}\"\n"
     ]
    },
    {
     "name": "stderr",
     "output_type": "stream",
     "text": [
      "[Parallel(n_jobs=-1)]: Using backend LokyBackend with 8 concurrent workers.\n",
      "[Parallel(n_jobs=-1)]: Done   3 out of   3 | elapsed:   12.0s finished\n"
     ]
    },
    {
     "name": "stdout",
     "output_type": "stream",
     "text": [
      "\n",
      "Accuracy of Decision_Tree_Classifier: 0.9742008381036878\n",
      "\n",
      "Batchwise_accuracies: [0.9647987569352875, 0.9742008381036878]\n",
      "\n",
      "Batchwise_Median_Accuracy: 0.9694997975194877\n",
      "\n",
      "Accumulated Accuracies:\n",
      "{'Decision_Tree_Classifier': {'Optuna': [0.972000557871619, 0.970400637759603, 0.9766004782236829, 0.9753995179355486, 0.9763997980715983, 0.9698003976635645, 0.9727983574953676, 0.9761998380635998, 0.9763996780475838, 0.9722006379036318, 0.9600001968393835, 0.9714011579436814, 0.9765997580795966, 0.9666001973674893, 0.9624012772475515, 0.9651992770713566, 0.9723992776474718, 0.9746000379755982, 0.9706005977676013, 0.9702013978956909, 0.9647987569352875, 0.9742008381036878], 'HyperOpt': []}, 'XGB_Classifier': {'Optuna': [], 'HyperOpt': []}, 'KNN_Classifier': {'Optuna': [], 'HyperOpt': []}, 'Light_GBM': {'Optuna': [], 'HyperOpt': []}}\n",
      "\n",
      "Logging params and child model\n",
      "\n",
      "Batch 2\n",
      "\"\\nSpace: {'criterion': 'gini', 'splitter': 'random', 'max_features': None}\"\n"
     ]
    },
    {
     "name": "stderr",
     "output_type": "stream",
     "text": [
      "[Parallel(n_jobs=-1)]: Using backend LokyBackend with 8 concurrent workers.\n",
      "[Parallel(n_jobs=-1)]: Done   3 out of   3 | elapsed:    9.4s finished\n"
     ]
    },
    {
     "name": "stdout",
     "output_type": "stream",
     "text": [
      "\n",
      "Accuracy of Decision_Tree_Classifier: 0.975799918047603\n",
      "\n",
      "Batchwise_accuracies: [0.9647987569352875, 0.9742008381036878, 0.975799918047603]\n",
      "\n",
      "Batchwise_Median_Accuracy: 0.9742008381036878\n",
      "\n",
      "Accumulated Accuracies:\n",
      "{'Decision_Tree_Classifier': {'Optuna': [0.972000557871619, 0.970400637759603, 0.9766004782236829, 0.9753995179355486, 0.9763997980715983, 0.9698003976635645, 0.9727983574953676, 0.9761998380635998, 0.9763996780475838, 0.9722006379036318, 0.9600001968393835, 0.9714011579436814, 0.9765997580795966, 0.9666001973674893, 0.9624012772475515, 0.9651992770713566, 0.9723992776474718, 0.9746000379755982, 0.9706005977676013, 0.9702013978956909, 0.9647987569352875, 0.9742008381036878, 0.975799918047603], 'HyperOpt': []}, 'XGB_Classifier': {'Optuna': [], 'HyperOpt': []}, 'KNN_Classifier': {'Optuna': [], 'HyperOpt': []}, 'Light_GBM': {'Optuna': [], 'HyperOpt': []}}\n",
      "\n",
      "Logging params and child model\n",
      "\n",
      "Batch 3\n",
      "\"\\nSpace: {'criterion': 'gini', 'splitter': 'random', 'max_features': None}\"\n"
     ]
    },
    {
     "name": "stderr",
     "output_type": "stream",
     "text": [
      "[Parallel(n_jobs=-1)]: Using backend LokyBackend with 8 concurrent workers.\n",
      "[Parallel(n_jobs=-1)]: Done   3 out of   3 | elapsed:    9.3s finished\n"
     ]
    },
    {
     "name": "stdout",
     "output_type": "stream",
     "text": [
      "\n",
      "Accuracy of Decision_Tree_Classifier: 0.9691995574474541\n",
      "\n",
      "Batchwise_accuracies: [0.9647987569352875, 0.9742008381036878, 0.975799918047603, 0.9691995574474541]\n",
      "\n",
      "Batchwise_Median_Accuracy: 0.971700197775571\n",
      "\n",
      "Accumulated Accuracies:\n",
      "{'Decision_Tree_Classifier': {'Optuna': [0.972000557871619, 0.970400637759603, 0.9766004782236829, 0.9753995179355486, 0.9763997980715983, 0.9698003976635645, 0.9727983574953676, 0.9761998380635998, 0.9763996780475838, 0.9722006379036318, 0.9600001968393835, 0.9714011579436814, 0.9765997580795966, 0.9666001973674893, 0.9624012772475515, 0.9651992770713566, 0.9723992776474718, 0.9746000379755982, 0.9706005977676013, 0.9702013978956909, 0.9647987569352875, 0.9742008381036878, 0.975799918047603, 0.9691995574474541], 'HyperOpt': []}, 'XGB_Classifier': {'Optuna': [], 'HyperOpt': []}, 'KNN_Classifier': {'Optuna': [], 'HyperOpt': []}, 'Light_GBM': {'Optuna': [], 'HyperOpt': []}}\n",
      "\n",
      "Logging params and child model\n",
      "\n",
      "Batch 4\n",
      "\"\\nSpace: {'criterion': 'gini', 'splitter': 'random', 'max_features': None}\"\n"
     ]
    },
    {
     "name": "stderr",
     "output_type": "stream",
     "text": [
      "[Parallel(n_jobs=-1)]: Using backend LokyBackend with 8 concurrent workers.\n",
      "[Parallel(n_jobs=-1)]: Done   3 out of   3 | elapsed:    9.1s finished\n"
     ]
    },
    {
     "name": "stdout",
     "output_type": "stream",
     "text": [
      "\n",
      "Accuracy of Decision_Tree_Classifier: 0.9720009179436623\n",
      "\n",
      "Batchwise_accuracies: [0.9647987569352875, 0.9742008381036878, 0.975799918047603, 0.9691995574474541, 0.9720009179436623]\n",
      "\n",
      "Batchwise_Median_Accuracy: 0.9720009179436623\n",
      "\n",
      "Accumulated Accuracies:\n",
      "{'Decision_Tree_Classifier': {'Optuna': [0.972000557871619, 0.970400637759603, 0.9766004782236829, 0.9753995179355486, 0.9763997980715983, 0.9698003976635645, 0.9727983574953676, 0.9761998380635998, 0.9763996780475838, 0.9722006379036318, 0.9600001968393835, 0.9714011579436814, 0.9765997580795966, 0.9666001973674893, 0.9624012772475515, 0.9651992770713566, 0.9723992776474718, 0.9746000379755982, 0.9706005977676013, 0.9702013978956909, 0.9647987569352875, 0.9742008381036878, 0.975799918047603, 0.9691995574474541, 0.9720009179436623], 'HyperOpt': []}, 'XGB_Classifier': {'Optuna': [], 'HyperOpt': []}, 'KNN_Classifier': {'Optuna': [], 'HyperOpt': []}, 'Light_GBM': {'Optuna': [], 'HyperOpt': []}}\n",
      "\n",
      "Logging params and child model\n",
      "\n",
      "Batch 5\n",
      "\"\\nSpace: {'criterion': 'gini', 'splitter': 'random', 'max_features': None}\"\n"
     ]
    },
    {
     "name": "stderr",
     "output_type": "stream",
     "text": [
      "[Parallel(n_jobs=-1)]: Using backend LokyBackend with 8 concurrent workers.\n",
      "[Parallel(n_jobs=-1)]: Done   3 out of   3 | elapsed:   10.6s finished\n"
     ]
    },
    {
     "name": "stdout",
     "output_type": "stream",
     "text": [
      "\n",
      "Accuracy of Decision_Tree_Classifier: 0.9671977969352108\n",
      "\n",
      "Batchwise_accuracies: [0.9647987569352875, 0.9742008381036878, 0.975799918047603, 0.9691995574474541, 0.9720009179436623, 0.9671977969352108]\n",
      "\n",
      "Batchwise_Median_Accuracy: 0.9706002376955583\n",
      "\n",
      "Accumulated Accuracies:\n",
      "{'Decision_Tree_Classifier': {'Optuna': [0.972000557871619, 0.970400637759603, 0.9766004782236829, 0.9753995179355486, 0.9763997980715983, 0.9698003976635645, 0.9727983574953676, 0.9761998380635998, 0.9763996780475838, 0.9722006379036318, 0.9600001968393835, 0.9714011579436814, 0.9765997580795966, 0.9666001973674893, 0.9624012772475515, 0.9651992770713566, 0.9723992776474718, 0.9746000379755982, 0.9706005977676013, 0.9702013978956909, 0.9647987569352875, 0.9742008381036878, 0.975799918047603, 0.9691995574474541, 0.9720009179436623, 0.9671977969352108], 'HyperOpt': []}, 'XGB_Classifier': {'Optuna': [], 'HyperOpt': []}, 'KNN_Classifier': {'Optuna': [], 'HyperOpt': []}, 'Light_GBM': {'Optuna': [], 'HyperOpt': []}}\n",
      "\n",
      "Logging params and child model\n",
      "\n",
      "Batch 6\n",
      "\"\\nSpace: {'criterion': 'gini', 'splitter': 'random', 'max_features': None}\"\n"
     ]
    },
    {
     "name": "stderr",
     "output_type": "stream",
     "text": [
      "[Parallel(n_jobs=-1)]: Using backend LokyBackend with 8 concurrent workers.\n",
      "[Parallel(n_jobs=-1)]: Done   3 out of   3 | elapsed:    8.9s finished\n"
     ]
    },
    {
     "name": "stdout",
     "output_type": "stream",
     "text": [
      "\n",
      "Accuracy of Decision_Tree_Classifier: 0.9741984376233996\n",
      "\n",
      "Batchwise_accuracies: [0.9647987569352875, 0.9742008381036878, 0.975799918047603, 0.9691995574474541, 0.9720009179436623, 0.9671977969352108, 0.9741984376233996]\n",
      "\n",
      "Batchwise_Median_Accuracy: 0.9720009179436623\n",
      "\n",
      "Accumulated Accuracies:\n",
      "{'Decision_Tree_Classifier': {'Optuna': [0.972000557871619, 0.970400637759603, 0.9766004782236829, 0.9753995179355486, 0.9763997980715983, 0.9698003976635645, 0.9727983574953676, 0.9761998380635998, 0.9763996780475838, 0.9722006379036318, 0.9600001968393835, 0.9714011579436814, 0.9765997580795966, 0.9666001973674893, 0.9624012772475515, 0.9651992770713566, 0.9723992776474718, 0.9746000379755982, 0.9706005977676013, 0.9702013978956909, 0.9647987569352875, 0.9742008381036878, 0.975799918047603, 0.9691995574474541, 0.9720009179436623, 0.9671977969352108, 0.9741984376233996], 'HyperOpt': []}, 'XGB_Classifier': {'Optuna': [], 'HyperOpt': []}, 'KNN_Classifier': {'Optuna': [], 'HyperOpt': []}, 'Light_GBM': {'Optuna': [], 'HyperOpt': []}}\n",
      "\n",
      "Logging params and child model\n",
      "\n",
      "Batch 7\n",
      "\"\\nSpace: {'criterion': 'gini', 'splitter': 'random', 'max_features': None}\"\n"
     ]
    },
    {
     "name": "stderr",
     "output_type": "stream",
     "text": [
      "[Parallel(n_jobs=-1)]: Using backend LokyBackend with 8 concurrent workers.\n",
      "[Parallel(n_jobs=-1)]: Done   3 out of   3 | elapsed:    9.6s finished\n"
     ]
    },
    {
     "name": "stdout",
     "output_type": "stream",
     "text": [
      "\n",
      "Accuracy of Decision_Tree_Classifier: 0.977599678143603\n",
      "\n",
      "Batchwise_accuracies: [0.9647987569352875, 0.9742008381036878, 0.975799918047603, 0.9691995574474541, 0.9720009179436623, 0.9671977969352108, 0.9741984376233996, 0.977599678143603]\n",
      "\n",
      "Batchwise_Median_Accuracy: 0.973099677783531\n",
      "\n",
      "Accumulated Accuracies:\n",
      "{'Decision_Tree_Classifier': {'Optuna': [0.972000557871619, 0.970400637759603, 0.9766004782236829, 0.9753995179355486, 0.9763997980715983, 0.9698003976635645, 0.9727983574953676, 0.9761998380635998, 0.9763996780475838, 0.9722006379036318, 0.9600001968393835, 0.9714011579436814, 0.9765997580795966, 0.9666001973674893, 0.9624012772475515, 0.9651992770713566, 0.9723992776474718, 0.9746000379755982, 0.9706005977676013, 0.9702013978956909, 0.9647987569352875, 0.9742008381036878, 0.975799918047603, 0.9691995574474541, 0.9720009179436623, 0.9671977969352108, 0.9741984376233996, 0.977599678143603], 'HyperOpt': []}, 'XGB_Classifier': {'Optuna': [], 'HyperOpt': []}, 'KNN_Classifier': {'Optuna': [], 'HyperOpt': []}, 'Light_GBM': {'Optuna': [], 'HyperOpt': []}}\n",
      "\n",
      "Logging params and child model\n",
      "\n",
      "Batch 8\n",
      "\"\\nSpace: {'criterion': 'gini', 'splitter': 'random', 'max_features': None}\"\n"
     ]
    },
    {
     "name": "stderr",
     "output_type": "stream",
     "text": [
      "[Parallel(n_jobs=-1)]: Using backend LokyBackend with 8 concurrent workers.\n",
      "[Parallel(n_jobs=-1)]: Done   3 out of   3 | elapsed:    9.9s finished\n"
     ]
    },
    {
     "name": "stdout",
     "output_type": "stream",
     "text": [
      "\n",
      "Accuracy of Decision_Tree_Classifier: 0.977200838343736\n",
      "\n",
      "Batchwise_accuracies: [0.9647987569352875, 0.9742008381036878, 0.975799918047603, 0.9691995574474541, 0.9720009179436623, 0.9671977969352108, 0.9741984376233996, 0.977599678143603, 0.977200838343736]\n",
      "\n",
      "Batchwise_Median_Accuracy: 0.9741984376233996\n",
      "\n",
      "Accumulated Accuracies:\n",
      "{'Decision_Tree_Classifier': {'Optuna': [0.972000557871619, 0.970400637759603, 0.9766004782236829, 0.9753995179355486, 0.9763997980715983, 0.9698003976635645, 0.9727983574953676, 0.9761998380635998, 0.9763996780475838, 0.9722006379036318, 0.9600001968393835, 0.9714011579436814, 0.9765997580795966, 0.9666001973674893, 0.9624012772475515, 0.9651992770713566, 0.9723992776474718, 0.9746000379755982, 0.9706005977676013, 0.9702013978956909, 0.9647987569352875, 0.9742008381036878, 0.975799918047603, 0.9691995574474541, 0.9720009179436623, 0.9671977969352108, 0.9741984376233996, 0.977599678143603, 0.977200838343736], 'HyperOpt': []}, 'XGB_Classifier': {'Optuna': [], 'HyperOpt': []}, 'KNN_Classifier': {'Optuna': [], 'HyperOpt': []}, 'Light_GBM': {'Optuna': [], 'HyperOpt': []}}\n",
      "\n",
      "Logging params and child model\n",
      "\n",
      "Batch 9\n",
      "\"\\nSpace: {'criterion': 'gini', 'splitter': 'random', 'max_features': None}\"\n"
     ]
    },
    {
     "name": "stderr",
     "output_type": "stream",
     "text": [
      "[Parallel(n_jobs=-1)]: Using backend LokyBackend with 8 concurrent workers.\n",
      "[Parallel(n_jobs=-1)]: Done   3 out of   3 | elapsed:   10.0s finished\n"
     ]
    },
    {
     "name": "stdout",
     "output_type": "stream",
     "text": [
      "\n",
      "Accuracy of Decision_Tree_Classifier: 0.9749993578715229\n",
      "\n",
      "Batchwise_accuracies: [0.9647987569352875, 0.9742008381036878, 0.975799918047603, 0.9691995574474541, 0.9720009179436623, 0.9671977969352108, 0.9741984376233996, 0.977599678143603, 0.977200838343736, 0.9749993578715229]\n",
      "\n",
      "Batchwise_Median_Accuracy: 0.9741996378635438\n",
      "\n",
      "Accumulated Accuracies:\n",
      "{'Decision_Tree_Classifier': {'Optuna': [0.972000557871619, 0.970400637759603, 0.9766004782236829, 0.9753995179355486, 0.9763997980715983, 0.9698003976635645, 0.9727983574953676, 0.9761998380635998, 0.9763996780475838, 0.9722006379036318, 0.9600001968393835, 0.9714011579436814, 0.9765997580795966, 0.9666001973674893, 0.9624012772475515, 0.9651992770713566, 0.9723992776474718, 0.9746000379755982, 0.9706005977676013, 0.9702013978956909, 0.9647987569352875, 0.9742008381036878, 0.975799918047603, 0.9691995574474541, 0.9720009179436623, 0.9671977969352108, 0.9741984376233996, 0.977599678143603, 0.977200838343736, 0.9749993578715229], 'HyperOpt': []}, 'XGB_Classifier': {'Optuna': [], 'HyperOpt': []}, 'KNN_Classifier': {'Optuna': [], 'HyperOpt': []}, 'Light_GBM': {'Optuna': [], 'HyperOpt': []}}\n",
      "\n",
      "Logging params and child model\n",
      "Logging Parent Model\n",
      "Experiment IDs:  367\n",
      "Parent_Run_ID: d574e78c7c0c420ebf982c91349ff6ab\n",
      "Artifact_Path: mlflow-artifacts:/45286f1704274a2c97b1a625f6b97ac2/79cd83b00ecc4fee8645ad26fe7af225/artifacts/Decision_Tree_Classifier_batch_7\n"
     ]
    },
    {
     "name": "stderr",
     "output_type": "stream",
     "text": [
      "Downloading artifacts:  20%|██        | 1/5 [00:00<00:01,  2.10it/s]"
     ]
    },
    {
     "name": "stdout",
     "output_type": "stream",
     "text": [
      "[2024-01-31 07:54:14,775: WARNING: connectionpool: Retrying (Retry(total=4, connect=5, read=4, redirect=5, status=5)) after connection broken by 'RemoteDisconnected('Remote end closed connection without response')': /Raj-Narayanan-B/StudentMLProjectRegression.mlflow/api/2.0/mlflow-artifacts/artifacts/45286f1704274a2c97b1a625f6b97ac2/79cd83b00ecc4fee8645ad26fe7af225/artifacts/Decision_Tree_Classifier_batch_7/model.pkl]\n",
      "[2024-01-31 07:54:14,792: WARNING: connectionpool: Retrying (Retry(total=4, connect=5, read=4, redirect=5, status=5)) after connection broken by 'RemoteDisconnected('Remote end closed connection without response')': /Raj-Narayanan-B/StudentMLProjectRegression.mlflow/api/2.0/mlflow-artifacts/artifacts/45286f1704274a2c97b1a625f6b97ac2/79cd83b00ecc4fee8645ad26fe7af225/artifacts/Decision_Tree_Classifier_batch_7/MLmodel]\n",
      "[2024-01-31 07:54:14,804: WARNING: connectionpool: Retrying (Retry(total=4, connect=5, read=4, redirect=5, status=5)) after connection broken by 'RemoteDisconnected('Remote end closed connection without response')': /Raj-Narayanan-B/StudentMLProjectRegression.mlflow/api/2.0/mlflow-artifacts/artifacts/45286f1704274a2c97b1a625f6b97ac2/79cd83b00ecc4fee8645ad26fe7af225/artifacts/Decision_Tree_Classifier_batch_7/python_env.yaml]\n",
      "[2024-01-31 07:54:14,810: WARNING: connectionpool: Retrying (Retry(total=4, connect=5, read=4, redirect=5, status=5)) after connection broken by 'RemoteDisconnected('Remote end closed connection without response')': /Raj-Narayanan-B/StudentMLProjectRegression.mlflow/api/2.0/mlflow-artifacts/artifacts/45286f1704274a2c97b1a625f6b97ac2/79cd83b00ecc4fee8645ad26fe7af225/artifacts/Decision_Tree_Classifier_batch_7/requirements.txt]\n"
     ]
    },
    {
     "name": "stderr",
     "output_type": "stream",
     "text": [
      "Downloading artifacts: 100%|██████████| 5/5 [00:21<00:00,  4.22s/it]\n"
     ]
    },
    {
     "name": "stdout",
     "output_type": "stream",
     "text": [
      "Best Params:\n",
      " {'ccp_alpha': 0.0, 'criterion': 'gini', 'min_impurity_decrease': 0.0, 'min_samples_leaf': 1, 'min_samples_split': 2, 'min_weight_fraction_leaf': 0.0, 'splitter': 'random'} \n",
      "\n"
     ]
    },
    {
     "name": "stderr",
     "output_type": "stream",
     "text": [
      "[I 2024-01-31 07:54:26,239] Trial 2 finished with value: 0.9727196097395167 and parameters: {'criterion': 'gini', 'splitter': 'random', 'max_features': None}. Best is trial 0 with value: 0.9738199899035799.\n"
     ]
    },
    {
     "name": "stdout",
     "output_type": "stream",
     "text": [
      "Registering Best Parent Model as Challenger\n",
      "Client_Tracking_URI:  https://dagshub.com/Raj-Narayanan-B/StudentMLProjectRegression.mlflow\n",
      "Client_Registry_URI:  https://dagshub.com/Raj-Narayanan-B/StudentMLProjectRegression.mlflow\n",
      "\n",
      "Best_Run_ID: d574e78c7c0c420ebf982c91349ff6ab\n",
      "Best_Model's_Artifact_Path: mlflow-artifacts:/45286f1704274a2c97b1a625f6b97ac2/d574e78c7c0c420ebf982c91349ff6ab/artifacts/challenger_Decision_Tree_Classifier\n"
     ]
    },
    {
     "name": "stderr",
     "output_type": "stream",
     "text": [
      "2024/01/31 07:54:30 INFO mlflow.store.model_registry.abstract_store: Waiting up to 300 seconds for model version to finish creation. Model name: Challenger_Decision_Tree_Classifier, version 1\n",
      "[I 2024-01-31 07:54:30,463] A new study created in memory with name: no-name-6a534305-d632-40cd-9154-fb271d5b3852\n"
     ]
    },
    {
     "name": "stdout",
     "output_type": "stream",
     "text": [
      "\n",
      "**************\n",
      "Trial_Number: 0\n",
      "**************\n",
      "\n",
      "Batch 0\n",
      "('\\n'\n",
      " \"Space: {'n_estimators': 289, 'learning_rate': 0.5403250465554214, 'booster': \"\n",
      " \"'gbtree', 'tree_method': 'approx'}\")\n"
     ]
    },
    {
     "name": "stderr",
     "output_type": "stream",
     "text": [
      "[Parallel(n_jobs=-1)]: Using backend LokyBackend with 8 concurrent workers.\n",
      "[Parallel(n_jobs=-1)]: Done   3 out of   3 | elapsed:   23.4s finished\n"
     ]
    },
    {
     "name": "stdout",
     "output_type": "stream",
     "text": [
      "\n",
      "Accuracy of XGB_Classifier: 0.9837992785596542\n",
      "\n",
      "Batchwise_accuracies: [0.9837992785596542]\n",
      "\n",
      "Batchwise_Median_Accuracy: 0.9837992785596542\n",
      "\n",
      "Accumulated Accuracies:\n",
      "{'Decision_Tree_Classifier': {'Optuna': [0.972000557871619, 0.970400637759603, 0.9766004782236829, 0.9753995179355486, 0.9763997980715983, 0.9698003976635645, 0.9727983574953676, 0.9761998380635998, 0.9763996780475838, 0.9722006379036318, 0.9600001968393835, 0.9714011579436814, 0.9765997580795966, 0.9666001973674893, 0.9624012772475515, 0.9651992770713566, 0.9723992776474718, 0.9746000379755982, 0.9706005977676013, 0.9702013978956909, 0.9647987569352875, 0.9742008381036878, 0.975799918047603, 0.9691995574474541, 0.9720009179436623, 0.9671977969352108, 0.9741984376233996, 0.977599678143603, 0.977200838343736, 0.9749993578715229], 'HyperOpt': []}, 'XGB_Classifier': {'Optuna': [0.9837992785596542], 'HyperOpt': []}, 'KNN_Classifier': {'Optuna': [], 'HyperOpt': []}, 'Light_GBM': {'Optuna': [], 'HyperOpt': []}}\n",
      "\n",
      "Logging params and child model\n",
      "\n",
      "Batch 1\n",
      "('\\n'\n",
      " \"Space: {'n_estimators': 289, 'learning_rate': 0.5403250465554214, 'booster': \"\n",
      " \"'gbtree', 'tree_method': 'approx'}\")\n"
     ]
    },
    {
     "name": "stderr",
     "output_type": "stream",
     "text": [
      "[Parallel(n_jobs=-1)]: Using backend LokyBackend with 8 concurrent workers.\n",
      "[Parallel(n_jobs=-1)]: Done   3 out of   3 | elapsed:   27.4s finished\n"
     ]
    },
    {
     "name": "stdout",
     "output_type": "stream",
     "text": [
      "\n",
      "Accuracy of XGB_Classifier: 0.9836001587197566\n",
      "\n",
      "Batchwise_accuracies: [0.9837992785596542, 0.9836001587197566]\n",
      "\n",
      "Batchwise_Median_Accuracy: 0.9836997186397054\n",
      "\n",
      "Accumulated Accuracies:\n",
      "{'Decision_Tree_Classifier': {'Optuna': [0.972000557871619, 0.970400637759603, 0.9766004782236829, 0.9753995179355486, 0.9763997980715983, 0.9698003976635645, 0.9727983574953676, 0.9761998380635998, 0.9763996780475838, 0.9722006379036318, 0.9600001968393835, 0.9714011579436814, 0.9765997580795966, 0.9666001973674893, 0.9624012772475515, 0.9651992770713566, 0.9723992776474718, 0.9746000379755982, 0.9706005977676013, 0.9702013978956909, 0.9647987569352875, 0.9742008381036878, 0.975799918047603, 0.9691995574474541, 0.9720009179436623, 0.9671977969352108, 0.9741984376233996, 0.977599678143603, 0.977200838343736, 0.9749993578715229], 'HyperOpt': []}, 'XGB_Classifier': {'Optuna': [0.9837992785596542, 0.9836001587197566], 'HyperOpt': []}, 'KNN_Classifier': {'Optuna': [], 'HyperOpt': []}, 'Light_GBM': {'Optuna': [], 'HyperOpt': []}}\n",
      "\n",
      "Logging params and child model\n",
      "\n",
      "Batch 2\n",
      "('\\n'\n",
      " \"Space: {'n_estimators': 289, 'learning_rate': 0.5403250465554214, 'booster': \"\n",
      " \"'gbtree', 'tree_method': 'approx'}\")\n"
     ]
    },
    {
     "name": "stderr",
     "output_type": "stream",
     "text": [
      "[Parallel(n_jobs=-1)]: Using backend LokyBackend with 8 concurrent workers.\n",
      "[Parallel(n_jobs=-1)]: Done   3 out of   3 | elapsed:   24.9s finished\n"
     ]
    },
    {
     "name": "stdout",
     "output_type": "stream",
     "text": [
      "\n",
      "Accuracy of XGB_Classifier: 0.9853997987917422\n",
      "\n",
      "Batchwise_accuracies: [0.9837992785596542, 0.9836001587197566, 0.9853997987917422]\n",
      "\n",
      "Batchwise_Median_Accuracy: 0.9837992785596542\n",
      "\n",
      "Accumulated Accuracies:\n",
      "{'Decision_Tree_Classifier': {'Optuna': [0.972000557871619, 0.970400637759603, 0.9766004782236829, 0.9753995179355486, 0.9763997980715983, 0.9698003976635645, 0.9727983574953676, 0.9761998380635998, 0.9763996780475838, 0.9722006379036318, 0.9600001968393835, 0.9714011579436814, 0.9765997580795966, 0.9666001973674893, 0.9624012772475515, 0.9651992770713566, 0.9723992776474718, 0.9746000379755982, 0.9706005977676013, 0.9702013978956909, 0.9647987569352875, 0.9742008381036878, 0.975799918047603, 0.9691995574474541, 0.9720009179436623, 0.9671977969352108, 0.9741984376233996, 0.977599678143603, 0.977200838343736, 0.9749993578715229], 'HyperOpt': []}, 'XGB_Classifier': {'Optuna': [0.9837992785596542, 0.9836001587197566, 0.9853997987917422], 'HyperOpt': []}, 'KNN_Classifier': {'Optuna': [], 'HyperOpt': []}, 'Light_GBM': {'Optuna': [], 'HyperOpt': []}}\n",
      "\n",
      "Logging params and child model\n"
     ]
    },
    {
     "name": "stderr",
     "output_type": "stream",
     "text": [
      "[Parallel(n_jobs=-1)]: Using backend LokyBackend with 8 concurrent workers.\n"
     ]
    },
    {
     "name": "stdout",
     "output_type": "stream",
     "text": [
      "\n",
      "Batch 3\n",
      "('\\n'\n",
      " \"Space: {'n_estimators': 289, 'learning_rate': 0.5403250465554214, 'booster': \"\n",
      " \"'gbtree', 'tree_method': 'approx'}\")\n"
     ]
    },
    {
     "name": "stderr",
     "output_type": "stream",
     "text": [
      "[Parallel(n_jobs=-1)]: Done   3 out of   3 | elapsed:   24.2s finished\n"
     ]
    },
    {
     "name": "stdout",
     "output_type": "stream",
     "text": [
      "\n",
      "Accuracy of XGB_Classifier: 0.9855996387757262\n",
      "\n",
      "Batchwise_accuracies: [0.9837992785596542, 0.9836001587197566, 0.9853997987917422, 0.9855996387757262]\n",
      "\n",
      "Batchwise_Median_Accuracy: 0.9845995386756983\n",
      "\n",
      "Accumulated Accuracies:\n",
      "{'Decision_Tree_Classifier': {'Optuna': [0.972000557871619, 0.970400637759603, 0.9766004782236829, 0.9753995179355486, 0.9763997980715983, 0.9698003976635645, 0.9727983574953676, 0.9761998380635998, 0.9763996780475838, 0.9722006379036318, 0.9600001968393835, 0.9714011579436814, 0.9765997580795966, 0.9666001973674893, 0.9624012772475515, 0.9651992770713566, 0.9723992776474718, 0.9746000379755982, 0.9706005977676013, 0.9702013978956909, 0.9647987569352875, 0.9742008381036878, 0.975799918047603, 0.9691995574474541, 0.9720009179436623, 0.9671977969352108, 0.9741984376233996, 0.977599678143603, 0.977200838343736, 0.9749993578715229], 'HyperOpt': []}, 'XGB_Classifier': {'Optuna': [0.9837992785596542, 0.9836001587197566, 0.9853997987917422, 0.9855996387757262], 'HyperOpt': []}, 'KNN_Classifier': {'Optuna': [], 'HyperOpt': []}, 'Light_GBM': {'Optuna': [], 'HyperOpt': []}}\n",
      "\n",
      "Logging params and child model\n",
      "\n",
      "Batch 4\n",
      "('\\n'\n",
      " \"Space: {'n_estimators': 289, 'learning_rate': 0.5403250465554214, 'booster': \"\n",
      " \"'gbtree', 'tree_method': 'approx'}\")\n"
     ]
    },
    {
     "name": "stderr",
     "output_type": "stream",
     "text": [
      "[Parallel(n_jobs=-1)]: Using backend LokyBackend with 8 concurrent workers.\n",
      "[Parallel(n_jobs=-1)]: Done   3 out of   3 | elapsed:   23.9s finished\n"
     ]
    },
    {
     "name": "stdout",
     "output_type": "stream",
     "text": [
      "\n",
      "Accuracy of XGB_Classifier: 0.9869998389277725\n",
      "\n",
      "Batchwise_accuracies: [0.9837992785596542, 0.9836001587197566, 0.9853997987917422, 0.9855996387757262, 0.9869998389277725]\n",
      "\n",
      "Batchwise_Median_Accuracy: 0.9853997987917422\n",
      "\n",
      "Accumulated Accuracies:\n",
      "{'Decision_Tree_Classifier': {'Optuna': [0.972000557871619, 0.970400637759603, 0.9766004782236829, 0.9753995179355486, 0.9763997980715983, 0.9698003976635645, 0.9727983574953676, 0.9761998380635998, 0.9763996780475838, 0.9722006379036318, 0.9600001968393835, 0.9714011579436814, 0.9765997580795966, 0.9666001973674893, 0.9624012772475515, 0.9651992770713566, 0.9723992776474718, 0.9746000379755982, 0.9706005977676013, 0.9702013978956909, 0.9647987569352875, 0.9742008381036878, 0.975799918047603, 0.9691995574474541, 0.9720009179436623, 0.9671977969352108, 0.9741984376233996, 0.977599678143603, 0.977200838343736, 0.9749993578715229], 'HyperOpt': []}, 'XGB_Classifier': {'Optuna': [0.9837992785596542, 0.9836001587197566, 0.9853997987917422, 0.9855996387757262, 0.9869998389277725], 'HyperOpt': []}, 'KNN_Classifier': {'Optuna': [], 'HyperOpt': []}, 'Light_GBM': {'Optuna': [], 'HyperOpt': []}}\n",
      "\n",
      "Logging params and child model\n",
      "\n",
      "Batch 5\n",
      "('\\n'\n",
      " \"Space: {'n_estimators': 289, 'learning_rate': 0.5403250465554214, 'booster': \"\n",
      " \"'gbtree', 'tree_method': 'approx'}\")\n"
     ]
    },
    {
     "name": "stderr",
     "output_type": "stream",
     "text": [
      "[Parallel(n_jobs=-1)]: Using backend LokyBackend with 8 concurrent workers.\n",
      "[Parallel(n_jobs=-1)]: Done   3 out of   3 | elapsed:   24.5s finished\n"
     ]
    },
    {
     "name": "stdout",
     "output_type": "stream",
     "text": [
      "\n",
      "Accuracy of XGB_Classifier: 0.9838004787997982\n",
      "\n",
      "Batchwise_accuracies: [0.9837992785596542, 0.9836001587197566, 0.9853997987917422, 0.9855996387757262, 0.9869998389277725, 0.9838004787997982]\n",
      "\n",
      "Batchwise_Median_Accuracy: 0.9846001387957701\n",
      "\n",
      "Accumulated Accuracies:\n",
      "{'Decision_Tree_Classifier': {'Optuna': [0.972000557871619, 0.970400637759603, 0.9766004782236829, 0.9753995179355486, 0.9763997980715983, 0.9698003976635645, 0.9727983574953676, 0.9761998380635998, 0.9763996780475838, 0.9722006379036318, 0.9600001968393835, 0.9714011579436814, 0.9765997580795966, 0.9666001973674893, 0.9624012772475515, 0.9651992770713566, 0.9723992776474718, 0.9746000379755982, 0.9706005977676013, 0.9702013978956909, 0.9647987569352875, 0.9742008381036878, 0.975799918047603, 0.9691995574474541, 0.9720009179436623, 0.9671977969352108, 0.9741984376233996, 0.977599678143603, 0.977200838343736, 0.9749993578715229], 'HyperOpt': []}, 'XGB_Classifier': {'Optuna': [0.9837992785596542, 0.9836001587197566, 0.9853997987917422, 0.9855996387757262, 0.9869998389277725, 0.9838004787997982], 'HyperOpt': []}, 'KNN_Classifier': {'Optuna': [], 'HyperOpt': []}, 'Light_GBM': {'Optuna': [], 'HyperOpt': []}}\n",
      "\n",
      "Logging params and child model\n",
      "\n",
      "Batch 6\n",
      "('\\n'\n",
      " \"Space: {'n_estimators': 289, 'learning_rate': 0.5403250465554214, 'booster': \"\n",
      " \"'gbtree', 'tree_method': 'approx'}\")\n"
     ]
    },
    {
     "name": "stderr",
     "output_type": "stream",
     "text": [
      "[Parallel(n_jobs=-1)]: Using backend LokyBackend with 8 concurrent workers.\n",
      "[Parallel(n_jobs=-1)]: Done   3 out of   3 | elapsed:   27.9s finished\n"
     ]
    },
    {
     "name": "stdout",
     "output_type": "stream",
     "text": [
      "\n",
      "Accuracy of XGB_Classifier: 0.9873995188957406\n",
      "\n",
      "Batchwise_accuracies: [0.9837992785596542, 0.9836001587197566, 0.9853997987917422, 0.9855996387757262, 0.9869998389277725, 0.9838004787997982, 0.9873995188957406]\n",
      "\n",
      "Batchwise_Median_Accuracy: 0.9853997987917422\n",
      "\n",
      "Accumulated Accuracies:\n",
      "{'Decision_Tree_Classifier': {'Optuna': [0.972000557871619, 0.970400637759603, 0.9766004782236829, 0.9753995179355486, 0.9763997980715983, 0.9698003976635645, 0.9727983574953676, 0.9761998380635998, 0.9763996780475838, 0.9722006379036318, 0.9600001968393835, 0.9714011579436814, 0.9765997580795966, 0.9666001973674893, 0.9624012772475515, 0.9651992770713566, 0.9723992776474718, 0.9746000379755982, 0.9706005977676013, 0.9702013978956909, 0.9647987569352875, 0.9742008381036878, 0.975799918047603, 0.9691995574474541, 0.9720009179436623, 0.9671977969352108, 0.9741984376233996, 0.977599678143603, 0.977200838343736, 0.9749993578715229], 'HyperOpt': []}, 'XGB_Classifier': {'Optuna': [0.9837992785596542, 0.9836001587197566, 0.9853997987917422, 0.9855996387757262, 0.9869998389277725, 0.9838004787997982, 0.9873995188957406], 'HyperOpt': []}, 'KNN_Classifier': {'Optuna': [], 'HyperOpt': []}, 'Light_GBM': {'Optuna': [], 'HyperOpt': []}}\n",
      "\n",
      "Logging params and child model\n",
      "\n",
      "Batch 7\n",
      "('\\n'\n",
      " \"Space: {'n_estimators': 289, 'learning_rate': 0.5403250465554214, 'booster': \"\n",
      " \"'gbtree', 'tree_method': 'approx'}\")\n"
     ]
    },
    {
     "name": "stderr",
     "output_type": "stream",
     "text": [
      "[Parallel(n_jobs=-1)]: Using backend LokyBackend with 8 concurrent workers.\n",
      "[Parallel(n_jobs=-1)]: Done   3 out of   3 | elapsed:   52.3s finished\n"
     ]
    },
    {
     "name": "stdout",
     "output_type": "stream",
     "text": [
      "\n",
      "Accuracy of XGB_Classifier: 0.9878003991038526\n",
      "\n",
      "Batchwise_accuracies: [0.9837992785596542, 0.9836001587197566, 0.9853997987917422, 0.9855996387757262, 0.9869998389277725, 0.9838004787997982, 0.9873995188957406, 0.9878003991038526]\n",
      "\n",
      "Batchwise_Median_Accuracy: 0.9854997187837342\n",
      "\n",
      "Accumulated Accuracies:\n",
      "{'Decision_Tree_Classifier': {'Optuna': [0.972000557871619, 0.970400637759603, 0.9766004782236829, 0.9753995179355486, 0.9763997980715983, 0.9698003976635645, 0.9727983574953676, 0.9761998380635998, 0.9763996780475838, 0.9722006379036318, 0.9600001968393835, 0.9714011579436814, 0.9765997580795966, 0.9666001973674893, 0.9624012772475515, 0.9651992770713566, 0.9723992776474718, 0.9746000379755982, 0.9706005977676013, 0.9702013978956909, 0.9647987569352875, 0.9742008381036878, 0.975799918047603, 0.9691995574474541, 0.9720009179436623, 0.9671977969352108, 0.9741984376233996, 0.977599678143603, 0.977200838343736, 0.9749993578715229], 'HyperOpt': []}, 'XGB_Classifier': {'Optuna': [0.9837992785596542, 0.9836001587197566, 0.9853997987917422, 0.9855996387757262, 0.9869998389277725, 0.9838004787997982, 0.9873995188957406, 0.9878003991038526], 'HyperOpt': []}, 'KNN_Classifier': {'Optuna': [], 'HyperOpt': []}, 'Light_GBM': {'Optuna': [], 'HyperOpt': []}}\n",
      "\n",
      "Logging params and child model\n",
      "\n",
      "Batch 8\n",
      "('\\n'\n",
      " \"Space: {'n_estimators': 289, 'learning_rate': 0.5403250465554214, 'booster': \"\n",
      " \"'gbtree', 'tree_method': 'approx'}\")\n"
     ]
    },
    {
     "name": "stderr",
     "output_type": "stream",
     "text": [
      "[Parallel(n_jobs=-1)]: Using backend LokyBackend with 8 concurrent workers.\n",
      "[Parallel(n_jobs=-1)]: Done   3 out of   3 | elapsed:   22.2s finished\n"
     ]
    },
    {
     "name": "stdout",
     "output_type": "stream",
     "text": [
      "\n",
      "Accuracy of XGB_Classifier: 0.9832009588478462\n",
      "\n",
      "Batchwise_accuracies: [0.9837992785596542, 0.9836001587197566, 0.9853997987917422, 0.9855996387757262, 0.9869998389277725, 0.9838004787997982, 0.9873995188957406, 0.9878003991038526, 0.9832009588478462]\n",
      "\n",
      "Batchwise_Median_Accuracy: 0.9853997987917422\n",
      "\n",
      "Accumulated Accuracies:\n",
      "{'Decision_Tree_Classifier': {'Optuna': [0.972000557871619, 0.970400637759603, 0.9766004782236829, 0.9753995179355486, 0.9763997980715983, 0.9698003976635645, 0.9727983574953676, 0.9761998380635998, 0.9763996780475838, 0.9722006379036318, 0.9600001968393835, 0.9714011579436814, 0.9765997580795966, 0.9666001973674893, 0.9624012772475515, 0.9651992770713566, 0.9723992776474718, 0.9746000379755982, 0.9706005977676013, 0.9702013978956909, 0.9647987569352875, 0.9742008381036878, 0.975799918047603, 0.9691995574474541, 0.9720009179436623, 0.9671977969352108, 0.9741984376233996, 0.977599678143603, 0.977200838343736, 0.9749993578715229], 'HyperOpt': []}, 'XGB_Classifier': {'Optuna': [0.9837992785596542, 0.9836001587197566, 0.9853997987917422, 0.9855996387757262, 0.9869998389277725, 0.9838004787997982, 0.9873995188957406, 0.9878003991038526, 0.9832009588478462], 'HyperOpt': []}, 'KNN_Classifier': {'Optuna': [], 'HyperOpt': []}, 'Light_GBM': {'Optuna': [], 'HyperOpt': []}}\n",
      "\n",
      "Logging params and child model\n"
     ]
    },
    {
     "name": "stderr",
     "output_type": "stream",
     "text": [
      "[I 2024-01-31 08:00:33,186] Trial 0 pruned. \n"
     ]
    },
    {
     "name": "stdout",
     "output_type": "stream",
     "text": [
      "\n",
      "**************\n",
      "Trial_Number: 1\n",
      "**************\n",
      "\n",
      "Batch 0\n",
      "('\\n'\n",
      " \"Space: {'n_estimators': 114, 'learning_rate': 0.9331549344828524, 'booster': \"\n",
      " \"'gbtree', 'tree_method': 'exact'}\")\n"
     ]
    },
    {
     "name": "stderr",
     "output_type": "stream",
     "text": [
      "[Parallel(n_jobs=-1)]: Using backend LokyBackend with 8 concurrent workers.\n",
      "[Parallel(n_jobs=-1)]: Done   3 out of   3 | elapsed:   15.1s finished\n"
     ]
    },
    {
     "name": "stdout",
     "output_type": "stream",
     "text": [
      "\n",
      "Accuracy of XGB_Classifier: 0.9839994786156815\n",
      "\n",
      "Batchwise_accuracies: [0.9839994786156815]\n",
      "\n",
      "Batchwise_Median_Accuracy: 0.9839994786156815\n",
      "\n",
      "Accumulated Accuracies:\n",
      "{'Decision_Tree_Classifier': {'Optuna': [0.972000557871619, 0.970400637759603, 0.9766004782236829, 0.9753995179355486, 0.9763997980715983, 0.9698003976635645, 0.9727983574953676, 0.9761998380635998, 0.9763996780475838, 0.9722006379036318, 0.9600001968393835, 0.9714011579436814, 0.9765997580795966, 0.9666001973674893, 0.9624012772475515, 0.9651992770713566, 0.9723992776474718, 0.9746000379755982, 0.9706005977676013, 0.9702013978956909, 0.9647987569352875, 0.9742008381036878, 0.975799918047603, 0.9691995574474541, 0.9720009179436623, 0.9671977969352108, 0.9741984376233996, 0.977599678143603, 0.977200838343736, 0.9749993578715229], 'HyperOpt': []}, 'XGB_Classifier': {'Optuna': [0.9837992785596542, 0.9836001587197566, 0.9853997987917422, 0.9855996387757262, 0.9869998389277725, 0.9838004787997982, 0.9873995188957406, 0.9878003991038526, 0.9832009588478462, 0.9839994786156815], 'HyperOpt': []}, 'KNN_Classifier': {'Optuna': [], 'HyperOpt': []}, 'Light_GBM': {'Optuna': [], 'HyperOpt': []}}\n",
      "\n",
      "Logging params and child model\n",
      "\n",
      "Batch 1\n",
      "('\\n'\n",
      " \"Space: {'n_estimators': 114, 'learning_rate': 0.9331549344828524, 'booster': \"\n",
      " \"'gbtree', 'tree_method': 'exact'}\")\n"
     ]
    },
    {
     "name": "stderr",
     "output_type": "stream",
     "text": [
      "[Parallel(n_jobs=-1)]: Using backend LokyBackend with 8 concurrent workers.\n",
      "[Parallel(n_jobs=-1)]: Done   3 out of   3 | elapsed:   14.7s finished\n"
     ]
    },
    {
     "name": "stdout",
     "output_type": "stream",
     "text": [
      "\n",
      "Accuracy of XGB_Classifier: 0.9807999984636927\n",
      "\n",
      "Batchwise_accuracies: [0.9839994786156815, 0.9807999984636927]\n",
      "\n",
      "Batchwise_Median_Accuracy: 0.9823997385396871\n",
      "\n",
      "Accumulated Accuracies:\n",
      "{'Decision_Tree_Classifier': {'Optuna': [0.972000557871619, 0.970400637759603, 0.9766004782236829, 0.9753995179355486, 0.9763997980715983, 0.9698003976635645, 0.9727983574953676, 0.9761998380635998, 0.9763996780475838, 0.9722006379036318, 0.9600001968393835, 0.9714011579436814, 0.9765997580795966, 0.9666001973674893, 0.9624012772475515, 0.9651992770713566, 0.9723992776474718, 0.9746000379755982, 0.9706005977676013, 0.9702013978956909, 0.9647987569352875, 0.9742008381036878, 0.975799918047603, 0.9691995574474541, 0.9720009179436623, 0.9671977969352108, 0.9741984376233996, 0.977599678143603, 0.977200838343736, 0.9749993578715229], 'HyperOpt': []}, 'XGB_Classifier': {'Optuna': [0.9837992785596542, 0.9836001587197566, 0.9853997987917422, 0.9855996387757262, 0.9869998389277725, 0.9838004787997982, 0.9873995188957406, 0.9878003991038526, 0.9832009588478462, 0.9839994786156815, 0.9807999984636927], 'HyperOpt': []}, 'KNN_Classifier': {'Optuna': [], 'HyperOpt': []}, 'Light_GBM': {'Optuna': [], 'HyperOpt': []}}\n",
      "\n",
      "Logging params and child model\n",
      "\n",
      "Batch 2\n",
      "('\\n'\n",
      " \"Space: {'n_estimators': 114, 'learning_rate': 0.9331549344828524, 'booster': \"\n",
      " \"'gbtree', 'tree_method': 'exact'}\")\n"
     ]
    },
    {
     "name": "stderr",
     "output_type": "stream",
     "text": [
      "[Parallel(n_jobs=-1)]: Using backend LokyBackend with 8 concurrent workers.\n",
      "[Parallel(n_jobs=-1)]: Done   3 out of   3 | elapsed:   22.4s finished\n"
     ]
    },
    {
     "name": "stdout",
     "output_type": "stream",
     "text": [
      "\n",
      "Accuracy of XGB_Classifier: 0.985399438719699\n",
      "\n",
      "Batchwise_accuracies: [0.9839994786156815, 0.9807999984636927, 0.985399438719699]\n",
      "\n",
      "Batchwise_Median_Accuracy: 0.9839994786156815\n",
      "\n",
      "Accumulated Accuracies:\n",
      "{'Decision_Tree_Classifier': {'Optuna': [0.972000557871619, 0.970400637759603, 0.9766004782236829, 0.9753995179355486, 0.9763997980715983, 0.9698003976635645, 0.9727983574953676, 0.9761998380635998, 0.9763996780475838, 0.9722006379036318, 0.9600001968393835, 0.9714011579436814, 0.9765997580795966, 0.9666001973674893, 0.9624012772475515, 0.9651992770713566, 0.9723992776474718, 0.9746000379755982, 0.9706005977676013, 0.9702013978956909, 0.9647987569352875, 0.9742008381036878, 0.975799918047603, 0.9691995574474541, 0.9720009179436623, 0.9671977969352108, 0.9741984376233996, 0.977599678143603, 0.977200838343736, 0.9749993578715229], 'HyperOpt': []}, 'XGB_Classifier': {'Optuna': [0.9837992785596542, 0.9836001587197566, 0.9853997987917422, 0.9855996387757262, 0.9869998389277725, 0.9838004787997982, 0.9873995188957406, 0.9878003991038526, 0.9832009588478462, 0.9839994786156815, 0.9807999984636927, 0.985399438719699], 'HyperOpt': []}, 'KNN_Classifier': {'Optuna': [], 'HyperOpt': []}, 'Light_GBM': {'Optuna': [], 'HyperOpt': []}}\n",
      "\n",
      "Logging params and child model\n",
      "\n",
      "Batch 3\n",
      "('\\n'\n",
      " \"Space: {'n_estimators': 114, 'learning_rate': 0.9331549344828524, 'booster': \"\n",
      " \"'gbtree', 'tree_method': 'exact'}\")\n"
     ]
    },
    {
     "name": "stderr",
     "output_type": "stream",
     "text": [
      "[Parallel(n_jobs=-1)]: Using backend LokyBackend with 8 concurrent workers.\n",
      "[Parallel(n_jobs=-1)]: Done   3 out of   3 | elapsed:   17.0s finished\n"
     ]
    },
    {
     "name": "stdout",
     "output_type": "stream",
     "text": [
      "\n",
      "Accuracy of XGB_Classifier: 0.984799918767747\n",
      "\n",
      "Batchwise_accuracies: [0.9839994786156815, 0.9807999984636927, 0.985399438719699, 0.984799918767747]\n",
      "\n",
      "Batchwise_Median_Accuracy: 0.9843996986917143\n",
      "\n",
      "Accumulated Accuracies:\n",
      "{'Decision_Tree_Classifier': {'Optuna': [0.972000557871619, 0.970400637759603, 0.9766004782236829, 0.9753995179355486, 0.9763997980715983, 0.9698003976635645, 0.9727983574953676, 0.9761998380635998, 0.9763996780475838, 0.9722006379036318, 0.9600001968393835, 0.9714011579436814, 0.9765997580795966, 0.9666001973674893, 0.9624012772475515, 0.9651992770713566, 0.9723992776474718, 0.9746000379755982, 0.9706005977676013, 0.9702013978956909, 0.9647987569352875, 0.9742008381036878, 0.975799918047603, 0.9691995574474541, 0.9720009179436623, 0.9671977969352108, 0.9741984376233996, 0.977599678143603, 0.977200838343736, 0.9749993578715229], 'HyperOpt': []}, 'XGB_Classifier': {'Optuna': [0.9837992785596542, 0.9836001587197566, 0.9853997987917422, 0.9855996387757262, 0.9869998389277725, 0.9838004787997982, 0.9873995188957406, 0.9878003991038526, 0.9832009588478462, 0.9839994786156815, 0.9807999984636927, 0.985399438719699, 0.984799918767747], 'HyperOpt': []}, 'KNN_Classifier': {'Optuna': [], 'HyperOpt': []}, 'Light_GBM': {'Optuna': [], 'HyperOpt': []}}\n",
      "\n",
      "Logging params and child model\n",
      "\n",
      "Batch 4\n",
      "('\\n'\n",
      " \"Space: {'n_estimators': 114, 'learning_rate': 0.9331549344828524, 'booster': \"\n",
      " \"'gbtree', 'tree_method': 'exact'}\")\n"
     ]
    },
    {
     "name": "stderr",
     "output_type": "stream",
     "text": [
      "[Parallel(n_jobs=-1)]: Using backend LokyBackend with 8 concurrent workers.\n",
      "[Parallel(n_jobs=-1)]: Done   3 out of   3 | elapsed:   15.4s finished\n"
     ]
    },
    {
     "name": "stdout",
     "output_type": "stream",
     "text": [
      "\n",
      "Accuracy of XGB_Classifier: 0.9871996789117566\n",
      "\n",
      "Batchwise_accuracies: [0.9839994786156815, 0.9807999984636927, 0.985399438719699, 0.984799918767747, 0.9871996789117566]\n",
      "\n",
      "Batchwise_Median_Accuracy: 0.984799918767747\n",
      "\n",
      "Accumulated Accuracies:\n",
      "{'Decision_Tree_Classifier': {'Optuna': [0.972000557871619, 0.970400637759603, 0.9766004782236829, 0.9753995179355486, 0.9763997980715983, 0.9698003976635645, 0.9727983574953676, 0.9761998380635998, 0.9763996780475838, 0.9722006379036318, 0.9600001968393835, 0.9714011579436814, 0.9765997580795966, 0.9666001973674893, 0.9624012772475515, 0.9651992770713566, 0.9723992776474718, 0.9746000379755982, 0.9706005977676013, 0.9702013978956909, 0.9647987569352875, 0.9742008381036878, 0.975799918047603, 0.9691995574474541, 0.9720009179436623, 0.9671977969352108, 0.9741984376233996, 0.977599678143603, 0.977200838343736, 0.9749993578715229], 'HyperOpt': []}, 'XGB_Classifier': {'Optuna': [0.9837992785596542, 0.9836001587197566, 0.9853997987917422, 0.9855996387757262, 0.9869998389277725, 0.9838004787997982, 0.9873995188957406, 0.9878003991038526, 0.9832009588478462, 0.9839994786156815, 0.9807999984636927, 0.985399438719699, 0.984799918767747, 0.9871996789117566], 'HyperOpt': []}, 'KNN_Classifier': {'Optuna': [], 'HyperOpt': []}, 'Light_GBM': {'Optuna': [], 'HyperOpt': []}}\n",
      "\n",
      "Logging params and child model\n",
      "\n",
      "Batch 5\n",
      "('\\n'\n",
      " \"Space: {'n_estimators': 114, 'learning_rate': 0.9331549344828524, 'booster': \"\n",
      " \"'gbtree', 'tree_method': 'exact'}\")\n"
     ]
    },
    {
     "name": "stderr",
     "output_type": "stream",
     "text": [
      "[Parallel(n_jobs=-1)]: Using backend LokyBackend with 8 concurrent workers.\n",
      "[Parallel(n_jobs=-1)]: Done   3 out of   3 | elapsed:   15.5s finished\n"
     ]
    },
    {
     "name": "stdout",
     "output_type": "stream",
     "text": [
      "\n",
      "Accuracy of XGB_Classifier: 0.9832005987758029\n",
      "\n",
      "Batchwise_accuracies: [0.9839994786156815, 0.9807999984636927, 0.985399438719699, 0.984799918767747, 0.9871996789117566, 0.9832005987758029]\n",
      "\n",
      "Batchwise_Median_Accuracy: 0.9843996986917143\n",
      "\n",
      "Accumulated Accuracies:\n",
      "{'Decision_Tree_Classifier': {'Optuna': [0.972000557871619, 0.970400637759603, 0.9766004782236829, 0.9753995179355486, 0.9763997980715983, 0.9698003976635645, 0.9727983574953676, 0.9761998380635998, 0.9763996780475838, 0.9722006379036318, 0.9600001968393835, 0.9714011579436814, 0.9765997580795966, 0.9666001973674893, 0.9624012772475515, 0.9651992770713566, 0.9723992776474718, 0.9746000379755982, 0.9706005977676013, 0.9702013978956909, 0.9647987569352875, 0.9742008381036878, 0.975799918047603, 0.9691995574474541, 0.9720009179436623, 0.9671977969352108, 0.9741984376233996, 0.977599678143603, 0.977200838343736, 0.9749993578715229], 'HyperOpt': []}, 'XGB_Classifier': {'Optuna': [0.9837992785596542, 0.9836001587197566, 0.9853997987917422, 0.9855996387757262, 0.9869998389277725, 0.9838004787997982, 0.9873995188957406, 0.9878003991038526, 0.9832009588478462, 0.9839994786156815, 0.9807999984636927, 0.985399438719699, 0.984799918767747, 0.9871996789117566, 0.9832005987758029], 'HyperOpt': []}, 'KNN_Classifier': {'Optuna': [], 'HyperOpt': []}, 'Light_GBM': {'Optuna': [], 'HyperOpt': []}}\n",
      "\n",
      "Logging params and child model\n",
      "\n",
      "Batch 6\n",
      "('\\n'\n",
      " \"Space: {'n_estimators': 114, 'learning_rate': 0.9331549344828524, 'booster': \"\n",
      " \"'gbtree', 'tree_method': 'exact'}\")\n"
     ]
    },
    {
     "name": "stderr",
     "output_type": "stream",
     "text": [
      "[Parallel(n_jobs=-1)]: Using backend LokyBackend with 8 concurrent workers.\n",
      "[Parallel(n_jobs=-1)]: Done   3 out of   3 | elapsed:   15.2s finished\n"
     ]
    },
    {
     "name": "stdout",
     "output_type": "stream",
     "text": [
      "\n",
      "Accuracy of XGB_Classifier: 0.9865995588397326\n",
      "\n",
      "Batchwise_accuracies: [0.9839994786156815, 0.9807999984636927, 0.985399438719699, 0.984799918767747, 0.9871996789117566, 0.9832005987758029, 0.9865995588397326]\n",
      "\n",
      "Batchwise_Median_Accuracy: 0.984799918767747\n",
      "\n",
      "Accumulated Accuracies:\n",
      "{'Decision_Tree_Classifier': {'Optuna': [0.972000557871619, 0.970400637759603, 0.9766004782236829, 0.9753995179355486, 0.9763997980715983, 0.9698003976635645, 0.9727983574953676, 0.9761998380635998, 0.9763996780475838, 0.9722006379036318, 0.9600001968393835, 0.9714011579436814, 0.9765997580795966, 0.9666001973674893, 0.9624012772475515, 0.9651992770713566, 0.9723992776474718, 0.9746000379755982, 0.9706005977676013, 0.9702013978956909, 0.9647987569352875, 0.9742008381036878, 0.975799918047603, 0.9691995574474541, 0.9720009179436623, 0.9671977969352108, 0.9741984376233996, 0.977599678143603, 0.977200838343736, 0.9749993578715229], 'HyperOpt': []}, 'XGB_Classifier': {'Optuna': [0.9837992785596542, 0.9836001587197566, 0.9853997987917422, 0.9855996387757262, 0.9869998389277725, 0.9838004787997982, 0.9873995188957406, 0.9878003991038526, 0.9832009588478462, 0.9839994786156815, 0.9807999984636927, 0.985399438719699, 0.984799918767747, 0.9871996789117566, 0.9832005987758029, 0.9865995588397326], 'HyperOpt': []}, 'KNN_Classifier': {'Optuna': [], 'HyperOpt': []}, 'Light_GBM': {'Optuna': [], 'HyperOpt': []}}\n",
      "\n",
      "Logging params and child model\n",
      "\n",
      "Batch 7\n",
      "('\\n'\n",
      " \"Space: {'n_estimators': 114, 'learning_rate': 0.9331549344828524, 'booster': \"\n",
      " \"'gbtree', 'tree_method': 'exact'}\")\n"
     ]
    },
    {
     "name": "stderr",
     "output_type": "stream",
     "text": [
      "[Parallel(n_jobs=-1)]: Using backend LokyBackend with 8 concurrent workers.\n",
      "[Parallel(n_jobs=-1)]: Done   3 out of   3 | elapsed:   14.1s finished\n"
     ]
    },
    {
     "name": "stdout",
     "output_type": "stream",
     "text": [
      "\n",
      "Accuracy of XGB_Classifier: 0.9868001189678032\n",
      "\n",
      "Batchwise_accuracies: [0.9839994786156815, 0.9807999984636927, 0.985399438719699, 0.984799918767747, 0.9871996789117566, 0.9832005987758029, 0.9865995588397326, 0.9868001189678032]\n",
      "\n",
      "Batchwise_Median_Accuracy: 0.985099678743723\n",
      "\n",
      "Accumulated Accuracies:\n",
      "{'Decision_Tree_Classifier': {'Optuna': [0.972000557871619, 0.970400637759603, 0.9766004782236829, 0.9753995179355486, 0.9763997980715983, 0.9698003976635645, 0.9727983574953676, 0.9761998380635998, 0.9763996780475838, 0.9722006379036318, 0.9600001968393835, 0.9714011579436814, 0.9765997580795966, 0.9666001973674893, 0.9624012772475515, 0.9651992770713566, 0.9723992776474718, 0.9746000379755982, 0.9706005977676013, 0.9702013978956909, 0.9647987569352875, 0.9742008381036878, 0.975799918047603, 0.9691995574474541, 0.9720009179436623, 0.9671977969352108, 0.9741984376233996, 0.977599678143603, 0.977200838343736, 0.9749993578715229], 'HyperOpt': []}, 'XGB_Classifier': {'Optuna': [0.9837992785596542, 0.9836001587197566, 0.9853997987917422, 0.9855996387757262, 0.9869998389277725, 0.9838004787997982, 0.9873995188957406, 0.9878003991038526, 0.9832009588478462, 0.9839994786156815, 0.9807999984636927, 0.985399438719699, 0.984799918767747, 0.9871996789117566, 0.9832005987758029, 0.9865995588397326, 0.9868001189678032], 'HyperOpt': []}, 'KNN_Classifier': {'Optuna': [], 'HyperOpt': []}, 'Light_GBM': {'Optuna': [], 'HyperOpt': []}}\n",
      "\n",
      "Logging params and child model\n",
      "\n",
      "Batch 8\n",
      "('\\n'\n",
      " \"Space: {'n_estimators': 114, 'learning_rate': 0.9331549344828524, 'booster': \"\n",
      " \"'gbtree', 'tree_method': 'exact'}\")\n"
     ]
    },
    {
     "name": "stderr",
     "output_type": "stream",
     "text": [
      "[Parallel(n_jobs=-1)]: Using backend LokyBackend with 8 concurrent workers.\n",
      "[Parallel(n_jobs=-1)]: Done   3 out of   3 | elapsed:   14.3s finished\n"
     ]
    },
    {
     "name": "stdout",
     "output_type": "stream",
     "text": [
      "\n",
      "Accuracy of XGB_Classifier: 0.9832005987758029\n",
      "\n",
      "Batchwise_accuracies: [0.9839994786156815, 0.9807999984636927, 0.985399438719699, 0.984799918767747, 0.9871996789117566, 0.9832005987758029, 0.9865995588397326, 0.9868001189678032, 0.9832005987758029]\n",
      "\n",
      "Batchwise_Median_Accuracy: 0.984799918767747\n",
      "\n",
      "Accumulated Accuracies:\n",
      "{'Decision_Tree_Classifier': {'Optuna': [0.972000557871619, 0.970400637759603, 0.9766004782236829, 0.9753995179355486, 0.9763997980715983, 0.9698003976635645, 0.9727983574953676, 0.9761998380635998, 0.9763996780475838, 0.9722006379036318, 0.9600001968393835, 0.9714011579436814, 0.9765997580795966, 0.9666001973674893, 0.9624012772475515, 0.9651992770713566, 0.9723992776474718, 0.9746000379755982, 0.9706005977676013, 0.9702013978956909, 0.9647987569352875, 0.9742008381036878, 0.975799918047603, 0.9691995574474541, 0.9720009179436623, 0.9671977969352108, 0.9741984376233996, 0.977599678143603, 0.977200838343736, 0.9749993578715229], 'HyperOpt': []}, 'XGB_Classifier': {'Optuna': [0.9837992785596542, 0.9836001587197566, 0.9853997987917422, 0.9855996387757262, 0.9869998389277725, 0.9838004787997982, 0.9873995188957406, 0.9878003991038526, 0.9832009588478462, 0.9839994786156815, 0.9807999984636927, 0.985399438719699, 0.984799918767747, 0.9871996789117566, 0.9832005987758029, 0.9865995588397326, 0.9868001189678032, 0.9832005987758029], 'HyperOpt': []}, 'KNN_Classifier': {'Optuna': [], 'HyperOpt': []}, 'Light_GBM': {'Optuna': [], 'HyperOpt': []}}\n",
      "\n",
      "Logging params and child model\n"
     ]
    },
    {
     "name": "stderr",
     "output_type": "stream",
     "text": [
      "[I 2024-01-31 08:05:01,070] Trial 1 pruned. \n"
     ]
    },
    {
     "name": "stdout",
     "output_type": "stream",
     "text": [
      "\n",
      "**************\n",
      "Trial_Number: 2\n",
      "**************\n",
      "\n",
      "Batch 0\n",
      "('\\n'\n",
      " \"Space: {'n_estimators': 401, 'learning_rate': 0.6951656730630655, 'booster': \"\n",
      " \"'dart', 'tree_method': 'exact'}\")\n"
     ]
    },
    {
     "name": "stderr",
     "output_type": "stream",
     "text": [
      "[Parallel(n_jobs=-1)]: Using backend LokyBackend with 8 concurrent workers.\n",
      "[Parallel(n_jobs=-1)]: Done   3 out of   3 | elapsed:   26.1s finished\n"
     ]
    },
    {
     "name": "stdout",
     "output_type": "stream",
     "text": [
      "\n",
      "Accuracy of XGB_Classifier: 0.9839991185436382\n",
      "\n",
      "Batchwise_accuracies: [0.9839991185436382]\n",
      "\n",
      "Batchwise_Median_Accuracy: 0.9839991185436382\n",
      "\n",
      "Accumulated Accuracies:\n",
      "{'Decision_Tree_Classifier': {'Optuna': [0.972000557871619, 0.970400637759603, 0.9766004782236829, 0.9753995179355486, 0.9763997980715983, 0.9698003976635645, 0.9727983574953676, 0.9761998380635998, 0.9763996780475838, 0.9722006379036318, 0.9600001968393835, 0.9714011579436814, 0.9765997580795966, 0.9666001973674893, 0.9624012772475515, 0.9651992770713566, 0.9723992776474718, 0.9746000379755982, 0.9706005977676013, 0.9702013978956909, 0.9647987569352875, 0.9742008381036878, 0.975799918047603, 0.9691995574474541, 0.9720009179436623, 0.9671977969352108, 0.9741984376233996, 0.977599678143603, 0.977200838343736, 0.9749993578715229], 'HyperOpt': []}, 'XGB_Classifier': {'Optuna': [0.9837992785596542, 0.9836001587197566, 0.9853997987917422, 0.9855996387757262, 0.9869998389277725, 0.9838004787997982, 0.9873995188957406, 0.9878003991038526, 0.9832009588478462, 0.9839994786156815, 0.9807999984636927, 0.985399438719699, 0.984799918767747, 0.9871996789117566, 0.9832005987758029, 0.9865995588397326, 0.9868001189678032, 0.9832005987758029, 0.9839991185436382], 'HyperOpt': []}, 'KNN_Classifier': {'Optuna': [], 'HyperOpt': []}, 'Light_GBM': {'Optuna': [], 'HyperOpt': []}}\n",
      "\n",
      "Logging params and child model\n",
      "\n",
      "Batch 1\n",
      "('\\n'\n",
      " \"Space: {'n_estimators': 401, 'learning_rate': 0.6951656730630655, 'booster': \"\n",
      " \"'dart', 'tree_method': 'exact'}\")\n"
     ]
    },
    {
     "name": "stderr",
     "output_type": "stream",
     "text": [
      "[Parallel(n_jobs=-1)]: Using backend LokyBackend with 8 concurrent workers.\n",
      "[Parallel(n_jobs=-1)]: Done   3 out of   3 | elapsed:   29.8s finished\n"
     ]
    },
    {
     "name": "stdout",
     "output_type": "stream",
     "text": [
      "\n",
      "Accuracy of XGB_Classifier: 0.9827999586157198\n",
      "\n",
      "Batchwise_accuracies: [0.9839991185436382, 0.9827999586157198]\n",
      "\n",
      "Batchwise_Median_Accuracy: 0.983399538579679\n",
      "\n",
      "Accumulated Accuracies:\n",
      "{'Decision_Tree_Classifier': {'Optuna': [0.972000557871619, 0.970400637759603, 0.9766004782236829, 0.9753995179355486, 0.9763997980715983, 0.9698003976635645, 0.9727983574953676, 0.9761998380635998, 0.9763996780475838, 0.9722006379036318, 0.9600001968393835, 0.9714011579436814, 0.9765997580795966, 0.9666001973674893, 0.9624012772475515, 0.9651992770713566, 0.9723992776474718, 0.9746000379755982, 0.9706005977676013, 0.9702013978956909, 0.9647987569352875, 0.9742008381036878, 0.975799918047603, 0.9691995574474541, 0.9720009179436623, 0.9671977969352108, 0.9741984376233996, 0.977599678143603, 0.977200838343736, 0.9749993578715229], 'HyperOpt': []}, 'XGB_Classifier': {'Optuna': [0.9837992785596542, 0.9836001587197566, 0.9853997987917422, 0.9855996387757262, 0.9869998389277725, 0.9838004787997982, 0.9873995188957406, 0.9878003991038526, 0.9832009588478462, 0.9839994786156815, 0.9807999984636927, 0.985399438719699, 0.984799918767747, 0.9871996789117566, 0.9832005987758029, 0.9865995588397326, 0.9868001189678032, 0.9832005987758029, 0.9839991185436382, 0.9827999586157198], 'HyperOpt': []}, 'KNN_Classifier': {'Optuna': [], 'HyperOpt': []}, 'Light_GBM': {'Optuna': [], 'HyperOpt': []}}\n",
      "\n",
      "Logging params and child model\n",
      "\n",
      "Batch 2\n",
      "('\\n'\n",
      " \"Space: {'n_estimators': 401, 'learning_rate': 0.6951656730630655, 'booster': \"\n",
      " \"'dart', 'tree_method': 'exact'}\")\n"
     ]
    },
    {
     "name": "stderr",
     "output_type": "stream",
     "text": [
      "[Parallel(n_jobs=-1)]: Using backend LokyBackend with 8 concurrent workers.\n",
      "[Parallel(n_jobs=-1)]: Done   3 out of   3 | elapsed:   31.5s finished\n"
     ]
    },
    {
     "name": "stdout",
     "output_type": "stream",
     "text": [
      "\n",
      "Accuracy of XGB_Classifier: 0.9845995986877054\n",
      "\n",
      "Batchwise_accuracies: [0.9839991185436382, 0.9827999586157198, 0.9845995986877054]\n",
      "\n",
      "Batchwise_Median_Accuracy: 0.9839991185436382\n",
      "\n",
      "Accumulated Accuracies:\n",
      "{'Decision_Tree_Classifier': {'Optuna': [0.972000557871619, 0.970400637759603, 0.9766004782236829, 0.9753995179355486, 0.9763997980715983, 0.9698003976635645, 0.9727983574953676, 0.9761998380635998, 0.9763996780475838, 0.9722006379036318, 0.9600001968393835, 0.9714011579436814, 0.9765997580795966, 0.9666001973674893, 0.9624012772475515, 0.9651992770713566, 0.9723992776474718, 0.9746000379755982, 0.9706005977676013, 0.9702013978956909, 0.9647987569352875, 0.9742008381036878, 0.975799918047603, 0.9691995574474541, 0.9720009179436623, 0.9671977969352108, 0.9741984376233996, 0.977599678143603, 0.977200838343736, 0.9749993578715229], 'HyperOpt': []}, 'XGB_Classifier': {'Optuna': [0.9837992785596542, 0.9836001587197566, 0.9853997987917422, 0.9855996387757262, 0.9869998389277725, 0.9838004787997982, 0.9873995188957406, 0.9878003991038526, 0.9832009588478462, 0.9839994786156815, 0.9807999984636927, 0.985399438719699, 0.984799918767747, 0.9871996789117566, 0.9832005987758029, 0.9865995588397326, 0.9868001189678032, 0.9832005987758029, 0.9839991185436382, 0.9827999586157198, 0.9845995986877054], 'HyperOpt': []}, 'KNN_Classifier': {'Optuna': [], 'HyperOpt': []}, 'Light_GBM': {'Optuna': [], 'HyperOpt': []}}\n",
      "\n",
      "Logging params and child model\n",
      "\n",
      "Batch 3\n",
      "('\\n'\n",
      " \"Space: {'n_estimators': 401, 'learning_rate': 0.6951656730630655, 'booster': \"\n",
      " \"'dart', 'tree_method': 'exact'}\")\n"
     ]
    },
    {
     "name": "stderr",
     "output_type": "stream",
     "text": [
      "[Parallel(n_jobs=-1)]: Using backend LokyBackend with 8 concurrent workers.\n",
      "[Parallel(n_jobs=-1)]: Done   3 out of   3 | elapsed:   24.9s finished\n"
     ]
    },
    {
     "name": "stdout",
     "output_type": "stream",
     "text": [
      "\n",
      "Accuracy of XGB_Classifier: 0.9859994387677086\n",
      "\n",
      "Batchwise_accuracies: [0.9839991185436382, 0.9827999586157198, 0.9845995986877054, 0.9859994387677086]\n",
      "\n",
      "Batchwise_Median_Accuracy: 0.9842993586156719\n",
      "\n",
      "Accumulated Accuracies:\n",
      "{'Decision_Tree_Classifier': {'Optuna': [0.972000557871619, 0.970400637759603, 0.9766004782236829, 0.9753995179355486, 0.9763997980715983, 0.9698003976635645, 0.9727983574953676, 0.9761998380635998, 0.9763996780475838, 0.9722006379036318, 0.9600001968393835, 0.9714011579436814, 0.9765997580795966, 0.9666001973674893, 0.9624012772475515, 0.9651992770713566, 0.9723992776474718, 0.9746000379755982, 0.9706005977676013, 0.9702013978956909, 0.9647987569352875, 0.9742008381036878, 0.975799918047603, 0.9691995574474541, 0.9720009179436623, 0.9671977969352108, 0.9741984376233996, 0.977599678143603, 0.977200838343736, 0.9749993578715229], 'HyperOpt': []}, 'XGB_Classifier': {'Optuna': [0.9837992785596542, 0.9836001587197566, 0.9853997987917422, 0.9855996387757262, 0.9869998389277725, 0.9838004787997982, 0.9873995188957406, 0.9878003991038526, 0.9832009588478462, 0.9839994786156815, 0.9807999984636927, 0.985399438719699, 0.984799918767747, 0.9871996789117566, 0.9832005987758029, 0.9865995588397326, 0.9868001189678032, 0.9832005987758029, 0.9839991185436382, 0.9827999586157198, 0.9845995986877054, 0.9859994387677086], 'HyperOpt': []}, 'KNN_Classifier': {'Optuna': [], 'HyperOpt': []}, 'Light_GBM': {'Optuna': [], 'HyperOpt': []}}\n",
      "\n",
      "Logging params and child model\n",
      "\n",
      "Batch 4\n",
      "('\\n'\n",
      " \"Space: {'n_estimators': 401, 'learning_rate': 0.6951656730630655, 'booster': \"\n",
      " \"'dart', 'tree_method': 'exact'}\")\n"
     ]
    },
    {
     "name": "stderr",
     "output_type": "stream",
     "text": [
      "[Parallel(n_jobs=-1)]: Using backend LokyBackend with 8 concurrent workers.\n",
      "[Parallel(n_jobs=-1)]: Done   3 out of   3 | elapsed:   24.7s finished\n"
     ]
    },
    {
     "name": "stdout",
     "output_type": "stream",
     "text": [
      "\n",
      "Accuracy of XGB_Classifier: 0.9863998388797631\n",
      "\n",
      "Batchwise_accuracies: [0.9839991185436382, 0.9827999586157198, 0.9845995986877054, 0.9859994387677086, 0.9863998388797631]\n",
      "\n",
      "Batchwise_Median_Accuracy: 0.9845995986877054\n",
      "\n",
      "Accumulated Accuracies:\n",
      "{'Decision_Tree_Classifier': {'Optuna': [0.972000557871619, 0.970400637759603, 0.9766004782236829, 0.9753995179355486, 0.9763997980715983, 0.9698003976635645, 0.9727983574953676, 0.9761998380635998, 0.9763996780475838, 0.9722006379036318, 0.9600001968393835, 0.9714011579436814, 0.9765997580795966, 0.9666001973674893, 0.9624012772475515, 0.9651992770713566, 0.9723992776474718, 0.9746000379755982, 0.9706005977676013, 0.9702013978956909, 0.9647987569352875, 0.9742008381036878, 0.975799918047603, 0.9691995574474541, 0.9720009179436623, 0.9671977969352108, 0.9741984376233996, 0.977599678143603, 0.977200838343736, 0.9749993578715229], 'HyperOpt': []}, 'XGB_Classifier': {'Optuna': [0.9837992785596542, 0.9836001587197566, 0.9853997987917422, 0.9855996387757262, 0.9869998389277725, 0.9838004787997982, 0.9873995188957406, 0.9878003991038526, 0.9832009588478462, 0.9839994786156815, 0.9807999984636927, 0.985399438719699, 0.984799918767747, 0.9871996789117566, 0.9832005987758029, 0.9865995588397326, 0.9868001189678032, 0.9832005987758029, 0.9839991185436382, 0.9827999586157198, 0.9845995986877054, 0.9859994387677086, 0.9863998388797631], 'HyperOpt': []}, 'KNN_Classifier': {'Optuna': [], 'HyperOpt': []}, 'Light_GBM': {'Optuna': [], 'HyperOpt': []}}\n",
      "\n",
      "Logging params and child model\n",
      "\n",
      "Batch 5\n",
      "('\\n'\n",
      " \"Space: {'n_estimators': 401, 'learning_rate': 0.6951656730630655, 'booster': \"\n",
      " \"'dart', 'tree_method': 'exact'}\")\n"
     ]
    },
    {
     "name": "stderr",
     "output_type": "stream",
     "text": [
      "[Parallel(n_jobs=-1)]: Using backend LokyBackend with 8 concurrent workers.\n",
      "[Parallel(n_jobs=-1)]: Done   3 out of   3 | elapsed:   29.2s finished\n"
     ]
    },
    {
     "name": "stdout",
     "output_type": "stream",
     "text": [
      "\n",
      "Accuracy of XGB_Classifier: 0.9828005587357919\n",
      "\n",
      "Batchwise_accuracies: [0.9839991185436382, 0.9827999586157198, 0.9845995986877054, 0.9859994387677086, 0.9863998388797631, 0.9828005587357919]\n",
      "\n",
      "Batchwise_Median_Accuracy: 0.9842993586156719\n",
      "\n",
      "Accumulated Accuracies:\n",
      "{'Decision_Tree_Classifier': {'Optuna': [0.972000557871619, 0.970400637759603, 0.9766004782236829, 0.9753995179355486, 0.9763997980715983, 0.9698003976635645, 0.9727983574953676, 0.9761998380635998, 0.9763996780475838, 0.9722006379036318, 0.9600001968393835, 0.9714011579436814, 0.9765997580795966, 0.9666001973674893, 0.9624012772475515, 0.9651992770713566, 0.9723992776474718, 0.9746000379755982, 0.9706005977676013, 0.9702013978956909, 0.9647987569352875, 0.9742008381036878, 0.975799918047603, 0.9691995574474541, 0.9720009179436623, 0.9671977969352108, 0.9741984376233996, 0.977599678143603, 0.977200838343736, 0.9749993578715229], 'HyperOpt': []}, 'XGB_Classifier': {'Optuna': [0.9837992785596542, 0.9836001587197566, 0.9853997987917422, 0.9855996387757262, 0.9869998389277725, 0.9838004787997982, 0.9873995188957406, 0.9878003991038526, 0.9832009588478462, 0.9839994786156815, 0.9807999984636927, 0.985399438719699, 0.984799918767747, 0.9871996789117566, 0.9832005987758029, 0.9865995588397326, 0.9868001189678032, 0.9832005987758029, 0.9839991185436382, 0.9827999586157198, 0.9845995986877054, 0.9859994387677086, 0.9863998388797631, 0.9828005587357919], 'HyperOpt': []}, 'KNN_Classifier': {'Optuna': [], 'HyperOpt': []}, 'Light_GBM': {'Optuna': [], 'HyperOpt': []}}\n",
      "\n",
      "Logging params and child model\n",
      "\n",
      "Batch 6\n",
      "('\\n'\n",
      " \"Space: {'n_estimators': 401, 'learning_rate': 0.6951656730630655, 'booster': \"\n",
      " \"'dart', 'tree_method': 'exact'}\")\n"
     ]
    },
    {
     "name": "stderr",
     "output_type": "stream",
     "text": [
      "[Parallel(n_jobs=-1)]: Using backend LokyBackend with 8 concurrent workers.\n",
      "[Parallel(n_jobs=-1)]: Done   3 out of   3 | elapsed:   27.5s finished\n"
     ]
    },
    {
     "name": "stdout",
     "output_type": "stream",
     "text": [
      "\n",
      "Accuracy of XGB_Classifier: 0.986399238759691\n",
      "\n",
      "Batchwise_accuracies: [0.9839991185436382, 0.9827999586157198, 0.9845995986877054, 0.9859994387677086, 0.9863998388797631, 0.9828005587357919, 0.986399238759691]\n",
      "\n",
      "Batchwise_Median_Accuracy: 0.9845995986877054\n",
      "\n",
      "Accumulated Accuracies:\n",
      "{'Decision_Tree_Classifier': {'Optuna': [0.972000557871619, 0.970400637759603, 0.9766004782236829, 0.9753995179355486, 0.9763997980715983, 0.9698003976635645, 0.9727983574953676, 0.9761998380635998, 0.9763996780475838, 0.9722006379036318, 0.9600001968393835, 0.9714011579436814, 0.9765997580795966, 0.9666001973674893, 0.9624012772475515, 0.9651992770713566, 0.9723992776474718, 0.9746000379755982, 0.9706005977676013, 0.9702013978956909, 0.9647987569352875, 0.9742008381036878, 0.975799918047603, 0.9691995574474541, 0.9720009179436623, 0.9671977969352108, 0.9741984376233996, 0.977599678143603, 0.977200838343736, 0.9749993578715229], 'HyperOpt': []}, 'XGB_Classifier': {'Optuna': [0.9837992785596542, 0.9836001587197566, 0.9853997987917422, 0.9855996387757262, 0.9869998389277725, 0.9838004787997982, 0.9873995188957406, 0.9878003991038526, 0.9832009588478462, 0.9839994786156815, 0.9807999984636927, 0.985399438719699, 0.984799918767747, 0.9871996789117566, 0.9832005987758029, 0.9865995588397326, 0.9868001189678032, 0.9832005987758029, 0.9839991185436382, 0.9827999586157198, 0.9845995986877054, 0.9859994387677086, 0.9863998388797631, 0.9828005587357919, 0.986399238759691], 'HyperOpt': []}, 'KNN_Classifier': {'Optuna': [], 'HyperOpt': []}, 'Light_GBM': {'Optuna': [], 'HyperOpt': []}}\n",
      "\n",
      "Logging params and child model\n",
      "\n",
      "Batch 7\n",
      "('\\n'\n",
      " \"Space: {'n_estimators': 401, 'learning_rate': 0.6951656730630655, 'booster': \"\n",
      " \"'dart', 'tree_method': 'exact'}\")\n"
     ]
    },
    {
     "name": "stderr",
     "output_type": "stream",
     "text": [
      "[Parallel(n_jobs=-1)]: Using backend LokyBackend with 8 concurrent workers.\n",
      "[Parallel(n_jobs=-1)]: Done   3 out of   3 | elapsed:   23.9s finished\n"
     ]
    },
    {
     "name": "stdout",
     "output_type": "stream",
     "text": [
      "\n",
      "Accuracy of XGB_Classifier: 0.9865999189117759\n",
      "\n",
      "Batchwise_accuracies: [0.9839991185436382, 0.9827999586157198, 0.9845995986877054, 0.9859994387677086, 0.9863998388797631, 0.9828005587357919, 0.986399238759691, 0.9865999189117759]\n",
      "\n",
      "Batchwise_Median_Accuracy: 0.9852995187277069\n",
      "\n",
      "Accumulated Accuracies:\n",
      "{'Decision_Tree_Classifier': {'Optuna': [0.972000557871619, 0.970400637759603, 0.9766004782236829, 0.9753995179355486, 0.9763997980715983, 0.9698003976635645, 0.9727983574953676, 0.9761998380635998, 0.9763996780475838, 0.9722006379036318, 0.9600001968393835, 0.9714011579436814, 0.9765997580795966, 0.9666001973674893, 0.9624012772475515, 0.9651992770713566, 0.9723992776474718, 0.9746000379755982, 0.9706005977676013, 0.9702013978956909, 0.9647987569352875, 0.9742008381036878, 0.975799918047603, 0.9691995574474541, 0.9720009179436623, 0.9671977969352108, 0.9741984376233996, 0.977599678143603, 0.977200838343736, 0.9749993578715229], 'HyperOpt': []}, 'XGB_Classifier': {'Optuna': [0.9837992785596542, 0.9836001587197566, 0.9853997987917422, 0.9855996387757262, 0.9869998389277725, 0.9838004787997982, 0.9873995188957406, 0.9878003991038526, 0.9832009588478462, 0.9839994786156815, 0.9807999984636927, 0.985399438719699, 0.984799918767747, 0.9871996789117566, 0.9832005987758029, 0.9865995588397326, 0.9868001189678032, 0.9832005987758029, 0.9839991185436382, 0.9827999586157198, 0.9845995986877054, 0.9859994387677086, 0.9863998388797631, 0.9828005587357919, 0.986399238759691, 0.9865999189117759], 'HyperOpt': []}, 'KNN_Classifier': {'Optuna': [], 'HyperOpt': []}, 'Light_GBM': {'Optuna': [], 'HyperOpt': []}}\n",
      "\n",
      "Logging params and child model\n",
      "\n",
      "Batch 8\n",
      "('\\n'\n",
      " \"Space: {'n_estimators': 401, 'learning_rate': 0.6951656730630655, 'booster': \"\n",
      " \"'dart', 'tree_method': 'exact'}\")\n"
     ]
    },
    {
     "name": "stderr",
     "output_type": "stream",
     "text": [
      "[Parallel(n_jobs=-1)]: Using backend LokyBackend with 8 concurrent workers.\n",
      "[Parallel(n_jobs=-1)]: Done   3 out of   3 | elapsed:   27.8s finished\n"
     ]
    },
    {
     "name": "stdout",
     "output_type": "stream",
     "text": [
      "\n",
      "Accuracy of XGB_Classifier: 0.983800958895856\n",
      "\n",
      "Batchwise_accuracies: [0.9839991185436382, 0.9827999586157198, 0.9845995986877054, 0.9859994387677086, 0.9863998388797631, 0.9828005587357919, 0.986399238759691, 0.9865999189117759, 0.983800958895856]\n",
      "\n",
      "Batchwise_Median_Accuracy: 0.9845995986877054\n",
      "\n",
      "Accumulated Accuracies:\n",
      "{'Decision_Tree_Classifier': {'Optuna': [0.972000557871619, 0.970400637759603, 0.9766004782236829, 0.9753995179355486, 0.9763997980715983, 0.9698003976635645, 0.9727983574953676, 0.9761998380635998, 0.9763996780475838, 0.9722006379036318, 0.9600001968393835, 0.9714011579436814, 0.9765997580795966, 0.9666001973674893, 0.9624012772475515, 0.9651992770713566, 0.9723992776474718, 0.9746000379755982, 0.9706005977676013, 0.9702013978956909, 0.9647987569352875, 0.9742008381036878, 0.975799918047603, 0.9691995574474541, 0.9720009179436623, 0.9671977969352108, 0.9741984376233996, 0.977599678143603, 0.977200838343736, 0.9749993578715229], 'HyperOpt': []}, 'XGB_Classifier': {'Optuna': [0.9837992785596542, 0.9836001587197566, 0.9853997987917422, 0.9855996387757262, 0.9869998389277725, 0.9838004787997982, 0.9873995188957406, 0.9878003991038526, 0.9832009588478462, 0.9839994786156815, 0.9807999984636927, 0.985399438719699, 0.984799918767747, 0.9871996789117566, 0.9832005987758029, 0.9865995588397326, 0.9868001189678032, 0.9832005987758029, 0.9839991185436382, 0.9827999586157198, 0.9845995986877054, 0.9859994387677086, 0.9863998388797631, 0.9828005587357919, 0.986399238759691, 0.9865999189117759, 0.983800958895856], 'HyperOpt': []}, 'KNN_Classifier': {'Optuna': [], 'HyperOpt': []}, 'Light_GBM': {'Optuna': [], 'HyperOpt': []}}\n",
      "\n",
      "Logging params and child model\n"
     ]
    },
    {
     "name": "stderr",
     "output_type": "stream",
     "text": [
      "[I 2024-01-31 08:10:56,203] Trial 2 pruned. \n",
      "[I 2024-01-31 08:10:57,769] A new study created in memory with name: no-name-b72cab78-131c-4530-a95e-a6440ceffd83\n"
     ]
    },
    {
     "name": "stdout",
     "output_type": "stream",
     "text": [
      "\n",
      "**************\n",
      "Trial_Number: 0\n",
      "**************\n",
      "\n",
      "Batch 0\n",
      "\"\\nSpace: {'n_neighbors': 9, 'weights': 'uniform', 'algorithm': 'brute'}\"\n"
     ]
    },
    {
     "name": "stderr",
     "output_type": "stream",
     "text": [
      "[Parallel(n_jobs=-1)]: Using backend LokyBackend with 8 concurrent workers.\n",
      "[Parallel(n_jobs=-1)]: Done   3 out of   3 | elapsed:   11.4s finished\n"
     ]
    },
    {
     "name": "stdout",
     "output_type": "stream",
     "text": [
      "\n",
      "Accuracy of KNN_Classifier: 0.9307983541346952\n",
      "\n",
      "Batchwise_accuracies: [0.9307983541346952]\n",
      "\n",
      "Batchwise_Median_Accuracy: 0.9307983541346952\n",
      "\n",
      "Accumulated Accuracies:\n",
      "{'Decision_Tree_Classifier': {'Optuna': [0.972000557871619, 0.970400637759603, 0.9766004782236829, 0.9753995179355486, 0.9763997980715983, 0.9698003976635645, 0.9727983574953676, 0.9761998380635998, 0.9763996780475838, 0.9722006379036318, 0.9600001968393835, 0.9714011579436814, 0.9765997580795966, 0.9666001973674893, 0.9624012772475515, 0.9651992770713566, 0.9723992776474718, 0.9746000379755982, 0.9706005977676013, 0.9702013978956909, 0.9647987569352875, 0.9742008381036878, 0.975799918047603, 0.9691995574474541, 0.9720009179436623, 0.9671977969352108, 0.9741984376233996, 0.977599678143603, 0.977200838343736, 0.9749993578715229], 'HyperOpt': []}, 'XGB_Classifier': {'Optuna': [0.9837992785596542, 0.9836001587197566, 0.9853997987917422, 0.9855996387757262, 0.9869998389277725, 0.9838004787997982, 0.9873995188957406, 0.9878003991038526, 0.9832009588478462, 0.9839994786156815, 0.9807999984636927, 0.985399438719699, 0.984799918767747, 0.9871996789117566, 0.9832005987758029, 0.9865995588397326, 0.9868001189678032, 0.9832005987758029, 0.9839991185436382, 0.9827999586157198, 0.9845995986877054, 0.9859994387677086, 0.9863998388797631, 0.9828005587357919, 0.986399238759691, 0.9865999189117759, 0.983800958895856], 'HyperOpt': []}, 'KNN_Classifier': {'Optuna': [0.9307983541346952], 'HyperOpt': []}, 'Light_GBM': {'Optuna': [], 'HyperOpt': []}}\n",
      "\n",
      "Logging params and child model\n",
      "[2024-01-31 08:11:21,120: WARNING: connectionpool: Retrying (Retry(total=4, connect=5, read=5, redirect=5, status=5)) after connection broken by 'SSLEOFError(8, 'EOF occurred in violation of protocol (_ssl.c:2427)')': /Raj-Narayanan-B/StudentMLProjectRegression.mlflow/api/2.0/mlflow-artifacts/artifacts/ce67e0b8da12439b9ecd135689264d53/0e2bc7babb054037b18c917efb971ec1/artifacts/KNN_Classifier_batch_0/model.pkl]\n",
      "\n",
      "Batch 1\n",
      "\"\\nSpace: {'n_neighbors': 9, 'weights': 'uniform', 'algorithm': 'brute'}\"\n"
     ]
    },
    {
     "name": "stderr",
     "output_type": "stream",
     "text": [
      "[Parallel(n_jobs=-1)]: Using backend LokyBackend with 8 concurrent workers.\n",
      "[Parallel(n_jobs=-1)]: Done   3 out of   3 | elapsed:   11.4s finished\n"
     ]
    },
    {
     "name": "stdout",
     "output_type": "stream",
     "text": [
      "\n",
      "Accuracy of KNN_Classifier: 0.9429984351269001\n",
      "\n",
      "Batchwise_accuracies: [0.9307983541346952, 0.9429984351269001]\n",
      "\n",
      "Batchwise_Median_Accuracy: 0.9368983946307976\n",
      "\n",
      "Accumulated Accuracies:\n",
      "{'Decision_Tree_Classifier': {'Optuna': [0.972000557871619, 0.970400637759603, 0.9766004782236829, 0.9753995179355486, 0.9763997980715983, 0.9698003976635645, 0.9727983574953676, 0.9761998380635998, 0.9763996780475838, 0.9722006379036318, 0.9600001968393835, 0.9714011579436814, 0.9765997580795966, 0.9666001973674893, 0.9624012772475515, 0.9651992770713566, 0.9723992776474718, 0.9746000379755982, 0.9706005977676013, 0.9702013978956909, 0.9647987569352875, 0.9742008381036878, 0.975799918047603, 0.9691995574474541, 0.9720009179436623, 0.9671977969352108, 0.9741984376233996, 0.977599678143603, 0.977200838343736, 0.9749993578715229], 'HyperOpt': []}, 'XGB_Classifier': {'Optuna': [0.9837992785596542, 0.9836001587197566, 0.9853997987917422, 0.9855996387757262, 0.9869998389277725, 0.9838004787997982, 0.9873995188957406, 0.9878003991038526, 0.9832009588478462, 0.9839994786156815, 0.9807999984636927, 0.985399438719699, 0.984799918767747, 0.9871996789117566, 0.9832005987758029, 0.9865995588397326, 0.9868001189678032, 0.9832005987758029, 0.9839991185436382, 0.9827999586157198, 0.9845995986877054, 0.9859994387677086, 0.9863998388797631, 0.9828005587357919, 0.986399238759691, 0.9865999189117759, 0.983800958895856], 'HyperOpt': []}, 'KNN_Classifier': {'Optuna': [0.9307983541346952, 0.9429984351269001], 'HyperOpt': []}, 'Light_GBM': {'Optuna': [], 'HyperOpt': []}}\n",
      "\n",
      "Logging params and child model\n",
      "\n",
      "Batch 2\n",
      "\"\\nSpace: {'n_neighbors': 9, 'weights': 'uniform', 'algorithm': 'brute'}\"\n"
     ]
    },
    {
     "name": "stderr",
     "output_type": "stream",
     "text": [
      "[Parallel(n_jobs=-1)]: Using backend LokyBackend with 8 concurrent workers.\n",
      "[Parallel(n_jobs=-1)]: Done   3 out of   3 | elapsed:   11.6s finished\n"
     ]
    },
    {
     "name": "stdout",
     "output_type": "stream",
     "text": [
      "\n",
      "Accuracy of KNN_Classifier: 0.9375989147908714\n",
      "\n",
      "Batchwise_accuracies: [0.9307983541346952, 0.9429984351269001, 0.9375989147908714]\n",
      "\n",
      "Batchwise_Median_Accuracy: 0.9375989147908714\n",
      "\n",
      "Accumulated Accuracies:\n",
      "{'Decision_Tree_Classifier': {'Optuna': [0.972000557871619, 0.970400637759603, 0.9766004782236829, 0.9753995179355486, 0.9763997980715983, 0.9698003976635645, 0.9727983574953676, 0.9761998380635998, 0.9763996780475838, 0.9722006379036318, 0.9600001968393835, 0.9714011579436814, 0.9765997580795966, 0.9666001973674893, 0.9624012772475515, 0.9651992770713566, 0.9723992776474718, 0.9746000379755982, 0.9706005977676013, 0.9702013978956909, 0.9647987569352875, 0.9742008381036878, 0.975799918047603, 0.9691995574474541, 0.9720009179436623, 0.9671977969352108, 0.9741984376233996, 0.977599678143603, 0.977200838343736, 0.9749993578715229], 'HyperOpt': []}, 'XGB_Classifier': {'Optuna': [0.9837992785596542, 0.9836001587197566, 0.9853997987917422, 0.9855996387757262, 0.9869998389277725, 0.9838004787997982, 0.9873995188957406, 0.9878003991038526, 0.9832009588478462, 0.9839994786156815, 0.9807999984636927, 0.985399438719699, 0.984799918767747, 0.9871996789117566, 0.9832005987758029, 0.9865995588397326, 0.9868001189678032, 0.9832005987758029, 0.9839991185436382, 0.9827999586157198, 0.9845995986877054, 0.9859994387677086, 0.9863998388797631, 0.9828005587357919, 0.986399238759691, 0.9865999189117759, 0.983800958895856], 'HyperOpt': []}, 'KNN_Classifier': {'Optuna': [0.9307983541346952, 0.9429984351269001, 0.9375989147908714], 'HyperOpt': []}, 'Light_GBM': {'Optuna': [], 'HyperOpt': []}}\n",
      "\n",
      "Logging params and child model\n",
      "\n",
      "Batch 3\n",
      "\"\\nSpace: {'n_neighbors': 9, 'weights': 'uniform', 'algorithm': 'brute'}\"\n"
     ]
    },
    {
     "name": "stderr",
     "output_type": "stream",
     "text": [
      "[Parallel(n_jobs=-1)]: Using backend LokyBackend with 8 concurrent workers.\n",
      "[Parallel(n_jobs=-1)]: Done   3 out of   3 | elapsed:   12.7s finished\n"
     ]
    },
    {
     "name": "stdout",
     "output_type": "stream",
     "text": [
      "\n",
      "Accuracy of KNN_Classifier: 0.9427995553350313\n",
      "\n",
      "Batchwise_accuracies: [0.9307983541346952, 0.9429984351269001, 0.9375989147908714, 0.9427995553350313]\n",
      "\n",
      "Batchwise_Median_Accuracy: 0.9401992350629513\n",
      "\n",
      "Accumulated Accuracies:\n",
      "{'Decision_Tree_Classifier': {'Optuna': [0.972000557871619, 0.970400637759603, 0.9766004782236829, 0.9753995179355486, 0.9763997980715983, 0.9698003976635645, 0.9727983574953676, 0.9761998380635998, 0.9763996780475838, 0.9722006379036318, 0.9600001968393835, 0.9714011579436814, 0.9765997580795966, 0.9666001973674893, 0.9624012772475515, 0.9651992770713566, 0.9723992776474718, 0.9746000379755982, 0.9706005977676013, 0.9702013978956909, 0.9647987569352875, 0.9742008381036878, 0.975799918047603, 0.9691995574474541, 0.9720009179436623, 0.9671977969352108, 0.9741984376233996, 0.977599678143603, 0.977200838343736, 0.9749993578715229], 'HyperOpt': []}, 'XGB_Classifier': {'Optuna': [0.9837992785596542, 0.9836001587197566, 0.9853997987917422, 0.9855996387757262, 0.9869998389277725, 0.9838004787997982, 0.9873995188957406, 0.9878003991038526, 0.9832009588478462, 0.9839994786156815, 0.9807999984636927, 0.985399438719699, 0.984799918767747, 0.9871996789117566, 0.9832005987758029, 0.9865995588397326, 0.9868001189678032, 0.9832005987758029, 0.9839991185436382, 0.9827999586157198, 0.9845995986877054, 0.9859994387677086, 0.9863998388797631, 0.9828005587357919, 0.986399238759691, 0.9865999189117759, 0.983800958895856], 'HyperOpt': []}, 'KNN_Classifier': {'Optuna': [0.9307983541346952, 0.9429984351269001, 0.9375989147908714, 0.9427995553350313], 'HyperOpt': []}, 'Light_GBM': {'Optuna': [], 'HyperOpt': []}}\n",
      "\n",
      "Logging params and child model\n",
      "\n",
      "Batch 4\n",
      "\"\\nSpace: {'n_neighbors': 9, 'weights': 'uniform', 'algorithm': 'brute'}\"\n"
     ]
    },
    {
     "name": "stderr",
     "output_type": "stream",
     "text": [
      "[Parallel(n_jobs=-1)]: Using backend LokyBackend with 8 concurrent workers.\n",
      "[Parallel(n_jobs=-1)]: Done   3 out of   3 | elapsed:    9.9s finished\n"
     ]
    },
    {
     "name": "stdout",
     "output_type": "stream",
     "text": [
      "\n",
      "Accuracy of KNN_Classifier: 0.9473977953508937\n",
      "\n",
      "Batchwise_accuracies: [0.9307983541346952, 0.9429984351269001, 0.9375989147908714, 0.9427995553350313, 0.9473977953508937]\n",
      "\n",
      "Batchwise_Median_Accuracy: 0.9427995553350313\n",
      "\n",
      "Accumulated Accuracies:\n",
      "{'Decision_Tree_Classifier': {'Optuna': [0.972000557871619, 0.970400637759603, 0.9766004782236829, 0.9753995179355486, 0.9763997980715983, 0.9698003976635645, 0.9727983574953676, 0.9761998380635998, 0.9763996780475838, 0.9722006379036318, 0.9600001968393835, 0.9714011579436814, 0.9765997580795966, 0.9666001973674893, 0.9624012772475515, 0.9651992770713566, 0.9723992776474718, 0.9746000379755982, 0.9706005977676013, 0.9702013978956909, 0.9647987569352875, 0.9742008381036878, 0.975799918047603, 0.9691995574474541, 0.9720009179436623, 0.9671977969352108, 0.9741984376233996, 0.977599678143603, 0.977200838343736, 0.9749993578715229], 'HyperOpt': []}, 'XGB_Classifier': {'Optuna': [0.9837992785596542, 0.9836001587197566, 0.9853997987917422, 0.9855996387757262, 0.9869998389277725, 0.9838004787997982, 0.9873995188957406, 0.9878003991038526, 0.9832009588478462, 0.9839994786156815, 0.9807999984636927, 0.985399438719699, 0.984799918767747, 0.9871996789117566, 0.9832005987758029, 0.9865995588397326, 0.9868001189678032, 0.9832005987758029, 0.9839991185436382, 0.9827999586157198, 0.9845995986877054, 0.9859994387677086, 0.9863998388797631, 0.9828005587357919, 0.986399238759691, 0.9865999189117759, 0.983800958895856], 'HyperOpt': []}, 'KNN_Classifier': {'Optuna': [0.9307983541346952, 0.9429984351269001, 0.9375989147908714, 0.9427995553350313, 0.9473977953508937], 'HyperOpt': []}, 'Light_GBM': {'Optuna': [], 'HyperOpt': []}}\n",
      "\n",
      "Logging params and child model\n",
      "\n",
      "Batch 5\n",
      "\"\\nSpace: {'n_neighbors': 9, 'weights': 'uniform', 'algorithm': 'brute'}\"\n"
     ]
    },
    {
     "name": "stderr",
     "output_type": "stream",
     "text": [
      "[Parallel(n_jobs=-1)]: Using backend LokyBackend with 8 concurrent workers.\n",
      "[Parallel(n_jobs=-1)]: Done   3 out of   3 | elapsed:   12.0s finished\n"
     ]
    },
    {
     "name": "stdout",
     "output_type": "stream",
     "text": [
      "\n",
      "Accuracy of KNN_Classifier: 0.9524000361992427\n",
      "\n",
      "Batchwise_accuracies: [0.9307983541346952, 0.9429984351269001, 0.9375989147908714, 0.9427995553350313, 0.9473977953508937, 0.9524000361992427]\n",
      "\n",
      "Batchwise_Median_Accuracy: 0.9428989952309657\n",
      "\n",
      "Accumulated Accuracies:\n",
      "{'Decision_Tree_Classifier': {'Optuna': [0.972000557871619, 0.970400637759603, 0.9766004782236829, 0.9753995179355486, 0.9763997980715983, 0.9698003976635645, 0.9727983574953676, 0.9761998380635998, 0.9763996780475838, 0.9722006379036318, 0.9600001968393835, 0.9714011579436814, 0.9765997580795966, 0.9666001973674893, 0.9624012772475515, 0.9651992770713566, 0.9723992776474718, 0.9746000379755982, 0.9706005977676013, 0.9702013978956909, 0.9647987569352875, 0.9742008381036878, 0.975799918047603, 0.9691995574474541, 0.9720009179436623, 0.9671977969352108, 0.9741984376233996, 0.977599678143603, 0.977200838343736, 0.9749993578715229], 'HyperOpt': []}, 'XGB_Classifier': {'Optuna': [0.9837992785596542, 0.9836001587197566, 0.9853997987917422, 0.9855996387757262, 0.9869998389277725, 0.9838004787997982, 0.9873995188957406, 0.9878003991038526, 0.9832009588478462, 0.9839994786156815, 0.9807999984636927, 0.985399438719699, 0.984799918767747, 0.9871996789117566, 0.9832005987758029, 0.9865995588397326, 0.9868001189678032, 0.9832005987758029, 0.9839991185436382, 0.9827999586157198, 0.9845995986877054, 0.9859994387677086, 0.9863998388797631, 0.9828005587357919, 0.986399238759691, 0.9865999189117759, 0.983800958895856], 'HyperOpt': []}, 'KNN_Classifier': {'Optuna': [0.9307983541346952, 0.9429984351269001, 0.9375989147908714, 0.9427995553350313, 0.9473977953508937, 0.9524000361992427], 'HyperOpt': []}, 'Light_GBM': {'Optuna': [], 'HyperOpt': []}}\n",
      "\n",
      "Logging params and child model\n",
      "\n",
      "Batch 6\n",
      "\"\\nSpace: {'n_neighbors': 9, 'weights': 'uniform', 'algorithm': 'brute'}\"\n"
     ]
    },
    {
     "name": "stderr",
     "output_type": "stream",
     "text": [
      "[Parallel(n_jobs=-1)]: Using backend LokyBackend with 8 concurrent workers.\n",
      "[Parallel(n_jobs=-1)]: Done   3 out of   3 | elapsed:   12.5s finished\n"
     ]
    },
    {
     "name": "stdout",
     "output_type": "stream",
     "text": [
      "\n",
      "Accuracy of KNN_Classifier: 0.9577997965833004\n",
      "\n",
      "Batchwise_accuracies: [0.9307983541346952, 0.9429984351269001, 0.9375989147908714, 0.9427995553350313, 0.9473977953508937, 0.9524000361992427, 0.9577997965833004]\n",
      "\n",
      "Batchwise_Median_Accuracy: 0.9429984351269001\n",
      "\n",
      "Accumulated Accuracies:\n",
      "{'Decision_Tree_Classifier': {'Optuna': [0.972000557871619, 0.970400637759603, 0.9766004782236829, 0.9753995179355486, 0.9763997980715983, 0.9698003976635645, 0.9727983574953676, 0.9761998380635998, 0.9763996780475838, 0.9722006379036318, 0.9600001968393835, 0.9714011579436814, 0.9765997580795966, 0.9666001973674893, 0.9624012772475515, 0.9651992770713566, 0.9723992776474718, 0.9746000379755982, 0.9706005977676013, 0.9702013978956909, 0.9647987569352875, 0.9742008381036878, 0.975799918047603, 0.9691995574474541, 0.9720009179436623, 0.9671977969352108, 0.9741984376233996, 0.977599678143603, 0.977200838343736, 0.9749993578715229], 'HyperOpt': []}, 'XGB_Classifier': {'Optuna': [0.9837992785596542, 0.9836001587197566, 0.9853997987917422, 0.9855996387757262, 0.9869998389277725, 0.9838004787997982, 0.9873995188957406, 0.9878003991038526, 0.9832009588478462, 0.9839994786156815, 0.9807999984636927, 0.985399438719699, 0.984799918767747, 0.9871996789117566, 0.9832005987758029, 0.9865995588397326, 0.9868001189678032, 0.9832005987758029, 0.9839991185436382, 0.9827999586157198, 0.9845995986877054, 0.9859994387677086, 0.9863998388797631, 0.9828005587357919, 0.986399238759691, 0.9865999189117759, 0.983800958895856], 'HyperOpt': []}, 'KNN_Classifier': {'Optuna': [0.9307983541346952, 0.9429984351269001, 0.9375989147908714, 0.9427995553350313, 0.9473977953508937, 0.9524000361992427, 0.9577997965833004], 'HyperOpt': []}, 'Light_GBM': {'Optuna': [], 'HyperOpt': []}}\n",
      "\n",
      "Logging params and child model\n",
      "\n",
      "Batch 7\n",
      "\"\\nSpace: {'n_neighbors': 9, 'weights': 'uniform', 'algorithm': 'brute'}\"\n"
     ]
    },
    {
     "name": "stderr",
     "output_type": "stream",
     "text": [
      "[Parallel(n_jobs=-1)]: Using backend LokyBackend with 8 concurrent workers.\n",
      "[Parallel(n_jobs=-1)]: Done   3 out of   3 | elapsed:   11.6s finished\n"
     ]
    },
    {
     "name": "stdout",
     "output_type": "stream",
     "text": [
      "\n",
      "Accuracy of KNN_Classifier: 0.9413977948707978\n",
      "\n",
      "Batchwise_accuracies: [0.9307983541346952, 0.9429984351269001, 0.9375989147908714, 0.9427995553350313, 0.9473977953508937, 0.9524000361992427, 0.9577997965833004, 0.9413977948707978]\n",
      "\n",
      "Batchwise_Median_Accuracy: 0.9428989952309657\n",
      "\n",
      "Accumulated Accuracies:\n",
      "{'Decision_Tree_Classifier': {'Optuna': [0.972000557871619, 0.970400637759603, 0.9766004782236829, 0.9753995179355486, 0.9763997980715983, 0.9698003976635645, 0.9727983574953676, 0.9761998380635998, 0.9763996780475838, 0.9722006379036318, 0.9600001968393835, 0.9714011579436814, 0.9765997580795966, 0.9666001973674893, 0.9624012772475515, 0.9651992770713566, 0.9723992776474718, 0.9746000379755982, 0.9706005977676013, 0.9702013978956909, 0.9647987569352875, 0.9742008381036878, 0.975799918047603, 0.9691995574474541, 0.9720009179436623, 0.9671977969352108, 0.9741984376233996, 0.977599678143603, 0.977200838343736, 0.9749993578715229], 'HyperOpt': []}, 'XGB_Classifier': {'Optuna': [0.9837992785596542, 0.9836001587197566, 0.9853997987917422, 0.9855996387757262, 0.9869998389277725, 0.9838004787997982, 0.9873995188957406, 0.9878003991038526, 0.9832009588478462, 0.9839994786156815, 0.9807999984636927, 0.985399438719699, 0.984799918767747, 0.9871996789117566, 0.9832005987758029, 0.9865995588397326, 0.9868001189678032, 0.9832005987758029, 0.9839991185436382, 0.9827999586157198, 0.9845995986877054, 0.9859994387677086, 0.9863998388797631, 0.9828005587357919, 0.986399238759691, 0.9865999189117759, 0.983800958895856], 'HyperOpt': []}, 'KNN_Classifier': {'Optuna': [0.9307983541346952, 0.9429984351269001, 0.9375989147908714, 0.9427995553350313, 0.9473977953508937, 0.9524000361992427, 0.9577997965833004, 0.9413977948707978], 'HyperOpt': []}, 'Light_GBM': {'Optuna': [], 'HyperOpt': []}}\n",
      "\n",
      "Logging params and child model\n",
      "\n",
      "Batch 8\n",
      "\"\\nSpace: {'n_neighbors': 9, 'weights': 'uniform', 'algorithm': 'brute'}\"\n"
     ]
    },
    {
     "name": "stderr",
     "output_type": "stream",
     "text": [
      "[Parallel(n_jobs=-1)]: Using backend LokyBackend with 8 concurrent workers.\n",
      "[Parallel(n_jobs=-1)]: Done   3 out of   3 | elapsed:   11.8s finished\n"
     ]
    },
    {
     "name": "stdout",
     "output_type": "stream",
     "text": [
      "\n",
      "Accuracy of KNN_Classifier: 0.9552001964553067\n",
      "\n",
      "Batchwise_accuracies: [0.9307983541346952, 0.9429984351269001, 0.9375989147908714, 0.9427995553350313, 0.9473977953508937, 0.9524000361992427, 0.9577997965833004, 0.9413977948707978, 0.9552001964553067]\n",
      "\n",
      "Batchwise_Median_Accuracy: 0.9429984351269001\n",
      "\n",
      "Accumulated Accuracies:\n",
      "{'Decision_Tree_Classifier': {'Optuna': [0.972000557871619, 0.970400637759603, 0.9766004782236829, 0.9753995179355486, 0.9763997980715983, 0.9698003976635645, 0.9727983574953676, 0.9761998380635998, 0.9763996780475838, 0.9722006379036318, 0.9600001968393835, 0.9714011579436814, 0.9765997580795966, 0.9666001973674893, 0.9624012772475515, 0.9651992770713566, 0.9723992776474718, 0.9746000379755982, 0.9706005977676013, 0.9702013978956909, 0.9647987569352875, 0.9742008381036878, 0.975799918047603, 0.9691995574474541, 0.9720009179436623, 0.9671977969352108, 0.9741984376233996, 0.977599678143603, 0.977200838343736, 0.9749993578715229], 'HyperOpt': []}, 'XGB_Classifier': {'Optuna': [0.9837992785596542, 0.9836001587197566, 0.9853997987917422, 0.9855996387757262, 0.9869998389277725, 0.9838004787997982, 0.9873995188957406, 0.9878003991038526, 0.9832009588478462, 0.9839994786156815, 0.9807999984636927, 0.985399438719699, 0.984799918767747, 0.9871996789117566, 0.9832005987758029, 0.9865995588397326, 0.9868001189678032, 0.9832005987758029, 0.9839991185436382, 0.9827999586157198, 0.9845995986877054, 0.9859994387677086, 0.9863998388797631, 0.9828005587357919, 0.986399238759691, 0.9865999189117759, 0.983800958895856], 'HyperOpt': []}, 'KNN_Classifier': {'Optuna': [0.9307983541346952, 0.9429984351269001, 0.9375989147908714, 0.9427995553350313, 0.9473977953508937, 0.9524000361992427, 0.9577997965833004, 0.9413977948707978, 0.9552001964553067], 'HyperOpt': []}, 'Light_GBM': {'Optuna': [], 'HyperOpt': []}}\n",
      "\n",
      "Logging params and child model\n",
      "\n",
      "Batch 9\n",
      "\"\\nSpace: {'n_neighbors': 9, 'weights': 'uniform', 'algorithm': 'brute'}\"\n"
     ]
    },
    {
     "name": "stderr",
     "output_type": "stream",
     "text": [
      "[Parallel(n_jobs=-1)]: Using backend LokyBackend with 8 concurrent workers.\n",
      "[Parallel(n_jobs=-1)]: Done   3 out of   3 | elapsed:   11.7s finished\n"
     ]
    },
    {
     "name": "stdout",
     "output_type": "stream",
     "text": [
      "\n",
      "Accuracy of KNN_Classifier: 0.9412028758714044\n",
      "\n",
      "Batchwise_accuracies: [0.9307983541346952, 0.9429984351269001, 0.9375989147908714, 0.9427995553350313, 0.9473977953508937, 0.9524000361992427, 0.9577997965833004, 0.9413977948707978, 0.9552001964553067, 0.9412028758714044]\n",
      "\n",
      "Batchwise_Median_Accuracy: 0.9428989952309657\n",
      "\n",
      "Accumulated Accuracies:\n",
      "{'Decision_Tree_Classifier': {'Optuna': [0.972000557871619, 0.970400637759603, 0.9766004782236829, 0.9753995179355486, 0.9763997980715983, 0.9698003976635645, 0.9727983574953676, 0.9761998380635998, 0.9763996780475838, 0.9722006379036318, 0.9600001968393835, 0.9714011579436814, 0.9765997580795966, 0.9666001973674893, 0.9624012772475515, 0.9651992770713566, 0.9723992776474718, 0.9746000379755982, 0.9706005977676013, 0.9702013978956909, 0.9647987569352875, 0.9742008381036878, 0.975799918047603, 0.9691995574474541, 0.9720009179436623, 0.9671977969352108, 0.9741984376233996, 0.977599678143603, 0.977200838343736, 0.9749993578715229], 'HyperOpt': []}, 'XGB_Classifier': {'Optuna': [0.9837992785596542, 0.9836001587197566, 0.9853997987917422, 0.9855996387757262, 0.9869998389277725, 0.9838004787997982, 0.9873995188957406, 0.9878003991038526, 0.9832009588478462, 0.9839994786156815, 0.9807999984636927, 0.985399438719699, 0.984799918767747, 0.9871996789117566, 0.9832005987758029, 0.9865995588397326, 0.9868001189678032, 0.9832005987758029, 0.9839991185436382, 0.9827999586157198, 0.9845995986877054, 0.9859994387677086, 0.9863998388797631, 0.9828005587357919, 0.986399238759691, 0.9865999189117759, 0.983800958895856], 'HyperOpt': []}, 'KNN_Classifier': {'Optuna': [0.9307983541346952, 0.9429984351269001, 0.9375989147908714, 0.9427995553350313, 0.9473977953508937, 0.9524000361992427, 0.9577997965833004, 0.9413977948707978, 0.9552001964553067, 0.9412028758714044], 'HyperOpt': []}, 'Light_GBM': {'Optuna': [], 'HyperOpt': []}}\n",
      "\n",
      "Logging params and child model\n",
      "Logging Parent Model\n",
      "Experiment IDs:  369\n",
      "Parent_Run_ID: 025a83a7514a493f92e88b0d47d28f25\n",
      "Artifact_Path: mlflow-artifacts:/ce67e0b8da12439b9ecd135689264d53/36c49495fc0d4d11b184a7b8d549dff5/artifacts/KNN_Classifier_batch_6\n"
     ]
    },
    {
     "name": "stderr",
     "output_type": "stream",
     "text": [
      "Downloading artifacts:  20%|██        | 1/5 [00:00<00:02,  1.97it/s]"
     ]
    },
    {
     "name": "stdout",
     "output_type": "stream",
     "text": [
      "[2024-01-31 08:16:03,837: WARNING: connectionpool: Retrying (Retry(total=4, connect=5, read=4, redirect=5, status=5)) after connection broken by 'RemoteDisconnected('Remote end closed connection without response')': /Raj-Narayanan-B/StudentMLProjectRegression.mlflow/api/2.0/mlflow-artifacts/artifacts/ce67e0b8da12439b9ecd135689264d53/36c49495fc0d4d11b184a7b8d549dff5/artifacts/KNN_Classifier_batch_6/model.pkl]\n",
      "[2024-01-31 08:16:03,862: WARNING: connectionpool: Retrying (Retry(total=4, connect=5, read=4, redirect=5, status=5)) after connection broken by 'RemoteDisconnected('Remote end closed connection without response')': /Raj-Narayanan-B/StudentMLProjectRegression.mlflow/api/2.0/mlflow-artifacts/artifacts/ce67e0b8da12439b9ecd135689264d53/36c49495fc0d4d11b184a7b8d549dff5/artifacts/KNN_Classifier_batch_6/python_env.yaml]\n",
      "[2024-01-31 08:16:03,880: WARNING: connectionpool: Retrying (Retry(total=4, connect=5, read=4, redirect=5, status=5)) after connection broken by 'RemoteDisconnected('Remote end closed connection without response')': /Raj-Narayanan-B/StudentMLProjectRegression.mlflow/api/2.0/mlflow-artifacts/artifacts/ce67e0b8da12439b9ecd135689264d53/36c49495fc0d4d11b184a7b8d549dff5/artifacts/KNN_Classifier_batch_6/conda.yaml]\n",
      "[2024-01-31 08:16:03,901: WARNING: connectionpool: Retrying (Retry(total=4, connect=5, read=4, redirect=5, status=5)) after connection broken by 'RemoteDisconnected('Remote end closed connection without response')': /Raj-Narayanan-B/StudentMLProjectRegression.mlflow/api/2.0/mlflow-artifacts/artifacts/ce67e0b8da12439b9ecd135689264d53/36c49495fc0d4d11b184a7b8d549dff5/artifacts/KNN_Classifier_batch_6/requirements.txt]\n"
     ]
    },
    {
     "name": "stderr",
     "output_type": "stream",
     "text": [
      "Downloading artifacts: 100%|██████████| 5/5 [00:21<00:00,  4.36s/it]\n"
     ]
    },
    {
     "name": "stdout",
     "output_type": "stream",
     "text": [
      "Best Params:\n",
      " {'algorithm': 'brute', 'leaf_size': 30, 'metric': 'minkowski', 'n_neighbors': 9, 'p': 2, 'weights': 'uniform'} \n",
      "\n"
     ]
    },
    {
     "name": "stderr",
     "output_type": "stream",
     "text": [
      "[I 2024-01-31 08:16:20,303] Trial 0 finished with value: 0.9449593754718444 and parameters: {'n_neighbors': 9, 'weights': 'uniform', 'algorithm': 'brute'}. Best is trial 0 with value: 0.9449593754718444.\n"
     ]
    },
    {
     "name": "stdout",
     "output_type": "stream",
     "text": [
      "\n",
      "**************\n",
      "Trial_Number: 1\n",
      "**************\n",
      "\n",
      "Batch 0\n",
      "\"\\nSpace: {'n_neighbors': 5, 'weights': 'distance', 'algorithm': 'auto'}\"\n"
     ]
    },
    {
     "name": "stderr",
     "output_type": "stream",
     "text": [
      "[Parallel(n_jobs=-1)]: Using backend LokyBackend with 8 concurrent workers.\n",
      "[Parallel(n_jobs=-1)]: Done   3 out of   3 | elapsed:   10.5s finished\n"
     ]
    },
    {
     "name": "stdout",
     "output_type": "stream",
     "text": [
      "\n",
      "Accuracy of KNN_Classifier: 0.9447987953429723\n",
      "\n",
      "Batchwise_accuracies: [0.9447987953429723]\n",
      "\n",
      "Batchwise_Median_Accuracy: 0.9447987953429723\n",
      "\n",
      "Accumulated Accuracies:\n",
      "{'Decision_Tree_Classifier': {'Optuna': [0.972000557871619, 0.970400637759603, 0.9766004782236829, 0.9753995179355486, 0.9763997980715983, 0.9698003976635645, 0.9727983574953676, 0.9761998380635998, 0.9763996780475838, 0.9722006379036318, 0.9600001968393835, 0.9714011579436814, 0.9765997580795966, 0.9666001973674893, 0.9624012772475515, 0.9651992770713566, 0.9723992776474718, 0.9746000379755982, 0.9706005977676013, 0.9702013978956909, 0.9647987569352875, 0.9742008381036878, 0.975799918047603, 0.9691995574474541, 0.9720009179436623, 0.9671977969352108, 0.9741984376233996, 0.977599678143603, 0.977200838343736, 0.9749993578715229], 'HyperOpt': []}, 'XGB_Classifier': {'Optuna': [0.9837992785596542, 0.9836001587197566, 0.9853997987917422, 0.9855996387757262, 0.9869998389277725, 0.9838004787997982, 0.9873995188957406, 0.9878003991038526, 0.9832009588478462, 0.9839994786156815, 0.9807999984636927, 0.985399438719699, 0.984799918767747, 0.9871996789117566, 0.9832005987758029, 0.9865995588397326, 0.9868001189678032, 0.9832005987758029, 0.9839991185436382, 0.9827999586157198, 0.9845995986877054, 0.9859994387677086, 0.9863998388797631, 0.9828005587357919, 0.986399238759691, 0.9865999189117759, 0.983800958895856], 'HyperOpt': []}, 'KNN_Classifier': {'Optuna': [0.9307983541346952, 0.9429984351269001, 0.9375989147908714, 0.9427995553350313, 0.9473977953508937, 0.9524000361992427, 0.9577997965833004, 0.9413977948707978, 0.9552001964553067, 0.9412028758714044, 0.9447987953429723], 'HyperOpt': []}, 'Light_GBM': {'Optuna': [], 'HyperOpt': []}}\n",
      "\n",
      "Logging params and child model\n",
      "\n",
      "Batch 1\n",
      "\"\\nSpace: {'n_neighbors': 5, 'weights': 'distance', 'algorithm': 'auto'}\"\n"
     ]
    },
    {
     "name": "stderr",
     "output_type": "stream",
     "text": [
      "[Parallel(n_jobs=-1)]: Using backend LokyBackend with 8 concurrent workers.\n",
      "[Parallel(n_jobs=-1)]: Done   3 out of   3 | elapsed:   12.0s finished\n"
     ]
    },
    {
     "name": "stdout",
     "output_type": "stream",
     "text": [
      "\n",
      "Accuracy of KNN_Classifier: 0.954599236215182\n",
      "\n",
      "Batchwise_accuracies: [0.9447987953429723, 0.954599236215182]\n",
      "\n",
      "Batchwise_Median_Accuracy: 0.9496990157790771\n",
      "\n",
      "Accumulated Accuracies:\n",
      "{'Decision_Tree_Classifier': {'Optuna': [0.972000557871619, 0.970400637759603, 0.9766004782236829, 0.9753995179355486, 0.9763997980715983, 0.9698003976635645, 0.9727983574953676, 0.9761998380635998, 0.9763996780475838, 0.9722006379036318, 0.9600001968393835, 0.9714011579436814, 0.9765997580795966, 0.9666001973674893, 0.9624012772475515, 0.9651992770713566, 0.9723992776474718, 0.9746000379755982, 0.9706005977676013, 0.9702013978956909, 0.9647987569352875, 0.9742008381036878, 0.975799918047603, 0.9691995574474541, 0.9720009179436623, 0.9671977969352108, 0.9741984376233996, 0.977599678143603, 0.977200838343736, 0.9749993578715229], 'HyperOpt': []}, 'XGB_Classifier': {'Optuna': [0.9837992785596542, 0.9836001587197566, 0.9853997987917422, 0.9855996387757262, 0.9869998389277725, 0.9838004787997982, 0.9873995188957406, 0.9878003991038526, 0.9832009588478462, 0.9839994786156815, 0.9807999984636927, 0.985399438719699, 0.984799918767747, 0.9871996789117566, 0.9832005987758029, 0.9865995588397326, 0.9868001189678032, 0.9832005987758029, 0.9839991185436382, 0.9827999586157198, 0.9845995986877054, 0.9859994387677086, 0.9863998388797631, 0.9828005587357919, 0.986399238759691, 0.9865999189117759, 0.983800958895856], 'HyperOpt': []}, 'KNN_Classifier': {'Optuna': [0.9307983541346952, 0.9429984351269001, 0.9375989147908714, 0.9427995553350313, 0.9473977953508937, 0.9524000361992427, 0.9577997965833004, 0.9413977948707978, 0.9552001964553067, 0.9412028758714044, 0.9447987953429723, 0.954599236215182], 'HyperOpt': []}, 'Light_GBM': {'Optuna': [], 'HyperOpt': []}}\n",
      "\n",
      "Logging params and child model\n",
      "\n",
      "Batch 2\n",
      "\"\\nSpace: {'n_neighbors': 5, 'weights': 'distance', 'algorithm': 'auto'}\"\n"
     ]
    },
    {
     "name": "stderr",
     "output_type": "stream",
     "text": [
      "[Parallel(n_jobs=-1)]: Using backend LokyBackend with 8 concurrent workers.\n",
      "[Parallel(n_jobs=-1)]: Done   3 out of   3 | elapsed:   10.9s finished\n"
     ]
    },
    {
     "name": "stdout",
     "output_type": "stream",
     "text": [
      "\n",
      "Accuracy of KNN_Classifier: 0.9533988760471196\n",
      "\n",
      "Batchwise_accuracies: [0.9447987953429723, 0.954599236215182, 0.9533988760471196]\n",
      "\n",
      "Batchwise_Median_Accuracy: 0.9533988760471196\n",
      "\n",
      "Accumulated Accuracies:\n",
      "{'Decision_Tree_Classifier': {'Optuna': [0.972000557871619, 0.970400637759603, 0.9766004782236829, 0.9753995179355486, 0.9763997980715983, 0.9698003976635645, 0.9727983574953676, 0.9761998380635998, 0.9763996780475838, 0.9722006379036318, 0.9600001968393835, 0.9714011579436814, 0.9765997580795966, 0.9666001973674893, 0.9624012772475515, 0.9651992770713566, 0.9723992776474718, 0.9746000379755982, 0.9706005977676013, 0.9702013978956909, 0.9647987569352875, 0.9742008381036878, 0.975799918047603, 0.9691995574474541, 0.9720009179436623, 0.9671977969352108, 0.9741984376233996, 0.977599678143603, 0.977200838343736, 0.9749993578715229], 'HyperOpt': []}, 'XGB_Classifier': {'Optuna': [0.9837992785596542, 0.9836001587197566, 0.9853997987917422, 0.9855996387757262, 0.9869998389277725, 0.9838004787997982, 0.9873995188957406, 0.9878003991038526, 0.9832009588478462, 0.9839994786156815, 0.9807999984636927, 0.985399438719699, 0.984799918767747, 0.9871996789117566, 0.9832005987758029, 0.9865995588397326, 0.9868001189678032, 0.9832005987758029, 0.9839991185436382, 0.9827999586157198, 0.9845995986877054, 0.9859994387677086, 0.9863998388797631, 0.9828005587357919, 0.986399238759691, 0.9865999189117759, 0.983800958895856], 'HyperOpt': []}, 'KNN_Classifier': {'Optuna': [0.9307983541346952, 0.9429984351269001, 0.9375989147908714, 0.9427995553350313, 0.9473977953508937, 0.9524000361992427, 0.9577997965833004, 0.9413977948707978, 0.9552001964553067, 0.9412028758714044, 0.9447987953429723, 0.954599236215182, 0.9533988760471196], 'HyperOpt': []}, 'Light_GBM': {'Optuna': [], 'HyperOpt': []}}\n",
      "\n",
      "Logging params and child model\n",
      "\n",
      "Batch 3\n",
      "\"\\nSpace: {'n_neighbors': 5, 'weights': 'distance', 'algorithm': 'auto'}\"\n"
     ]
    },
    {
     "name": "stderr",
     "output_type": "stream",
     "text": [
      "[Parallel(n_jobs=-1)]: Using backend LokyBackend with 8 concurrent workers.\n",
      "[Parallel(n_jobs=-1)]: Done   3 out of   3 | elapsed:   10.6s finished\n"
     ]
    },
    {
     "name": "stdout",
     "output_type": "stream",
     "text": [
      "\n",
      "Accuracy of KNN_Classifier: 0.9517999161272188\n",
      "\n",
      "Batchwise_accuracies: [0.9447987953429723, 0.954599236215182, 0.9533988760471196, 0.9517999161272188]\n",
      "\n",
      "Batchwise_Median_Accuracy: 0.9525993960871693\n",
      "\n",
      "Accumulated Accuracies:\n",
      "{'Decision_Tree_Classifier': {'Optuna': [0.972000557871619, 0.970400637759603, 0.9766004782236829, 0.9753995179355486, 0.9763997980715983, 0.9698003976635645, 0.9727983574953676, 0.9761998380635998, 0.9763996780475838, 0.9722006379036318, 0.9600001968393835, 0.9714011579436814, 0.9765997580795966, 0.9666001973674893, 0.9624012772475515, 0.9651992770713566, 0.9723992776474718, 0.9746000379755982, 0.9706005977676013, 0.9702013978956909, 0.9647987569352875, 0.9742008381036878, 0.975799918047603, 0.9691995574474541, 0.9720009179436623, 0.9671977969352108, 0.9741984376233996, 0.977599678143603, 0.977200838343736, 0.9749993578715229], 'HyperOpt': []}, 'XGB_Classifier': {'Optuna': [0.9837992785596542, 0.9836001587197566, 0.9853997987917422, 0.9855996387757262, 0.9869998389277725, 0.9838004787997982, 0.9873995188957406, 0.9878003991038526, 0.9832009588478462, 0.9839994786156815, 0.9807999984636927, 0.985399438719699, 0.984799918767747, 0.9871996789117566, 0.9832005987758029, 0.9865995588397326, 0.9868001189678032, 0.9832005987758029, 0.9839991185436382, 0.9827999586157198, 0.9845995986877054, 0.9859994387677086, 0.9863998388797631, 0.9828005587357919, 0.986399238759691, 0.9865999189117759, 0.983800958895856], 'HyperOpt': []}, 'KNN_Classifier': {'Optuna': [0.9307983541346952, 0.9429984351269001, 0.9375989147908714, 0.9427995553350313, 0.9473977953508937, 0.9524000361992427, 0.9577997965833004, 0.9413977948707978, 0.9552001964553067, 0.9412028758714044, 0.9447987953429723, 0.954599236215182, 0.9533988760471196, 0.9517999161272188], 'HyperOpt': []}, 'Light_GBM': {'Optuna': [], 'HyperOpt': []}}\n",
      "\n",
      "Logging params and child model\n",
      "\n",
      "Batch 4\n",
      "\"\\nSpace: {'n_neighbors': 5, 'weights': 'distance', 'algorithm': 'auto'}\"\n"
     ]
    },
    {
     "name": "stderr",
     "output_type": "stream",
     "text": [
      "[Parallel(n_jobs=-1)]: Using backend LokyBackend with 8 concurrent workers.\n",
      "[Parallel(n_jobs=-1)]: Done   3 out of   3 | elapsed:   10.9s finished\n"
     ]
    },
    {
     "name": "stdout",
     "output_type": "stream",
     "text": [
      "\n",
      "Accuracy of KNN_Classifier: 0.9565985962471372\n",
      "\n",
      "Batchwise_accuracies: [0.9447987953429723, 0.954599236215182, 0.9533988760471196, 0.9517999161272188, 0.9565985962471372]\n",
      "\n",
      "Batchwise_Median_Accuracy: 0.9533988760471196\n",
      "\n",
      "Accumulated Accuracies:\n",
      "{'Decision_Tree_Classifier': {'Optuna': [0.972000557871619, 0.970400637759603, 0.9766004782236829, 0.9753995179355486, 0.9763997980715983, 0.9698003976635645, 0.9727983574953676, 0.9761998380635998, 0.9763996780475838, 0.9722006379036318, 0.9600001968393835, 0.9714011579436814, 0.9765997580795966, 0.9666001973674893, 0.9624012772475515, 0.9651992770713566, 0.9723992776474718, 0.9746000379755982, 0.9706005977676013, 0.9702013978956909, 0.9647987569352875, 0.9742008381036878, 0.975799918047603, 0.9691995574474541, 0.9720009179436623, 0.9671977969352108, 0.9741984376233996, 0.977599678143603, 0.977200838343736, 0.9749993578715229], 'HyperOpt': []}, 'XGB_Classifier': {'Optuna': [0.9837992785596542, 0.9836001587197566, 0.9853997987917422, 0.9855996387757262, 0.9869998389277725, 0.9838004787997982, 0.9873995188957406, 0.9878003991038526, 0.9832009588478462, 0.9839994786156815, 0.9807999984636927, 0.985399438719699, 0.984799918767747, 0.9871996789117566, 0.9832005987758029, 0.9865995588397326, 0.9868001189678032, 0.9832005987758029, 0.9839991185436382, 0.9827999586157198, 0.9845995986877054, 0.9859994387677086, 0.9863998388797631, 0.9828005587357919, 0.986399238759691, 0.9865999189117759, 0.983800958895856], 'HyperOpt': []}, 'KNN_Classifier': {'Optuna': [0.9307983541346952, 0.9429984351269001, 0.9375989147908714, 0.9427995553350313, 0.9473977953508937, 0.9524000361992427, 0.9577997965833004, 0.9413977948707978, 0.9552001964553067, 0.9412028758714044, 0.9447987953429723, 0.954599236215182, 0.9533988760471196, 0.9517999161272188, 0.9565985962471372], 'HyperOpt': []}, 'Light_GBM': {'Optuna': [], 'HyperOpt': []}}\n",
      "\n",
      "Logging params and child model\n",
      "\n",
      "Batch 5\n",
      "\"\\nSpace: {'n_neighbors': 5, 'weights': 'distance', 'algorithm': 'auto'}\"\n"
     ]
    },
    {
     "name": "stderr",
     "output_type": "stream",
     "text": [
      "[Parallel(n_jobs=-1)]: Using backend LokyBackend with 8 concurrent workers.\n",
      "[Parallel(n_jobs=-1)]: Done   3 out of   3 | elapsed:   29.2s finished\n"
     ]
    },
    {
     "name": "stdout",
     "output_type": "stream",
     "text": [
      "\n",
      "Accuracy of KNN_Classifier: 0.9619997969193675\n",
      "\n",
      "Batchwise_accuracies: [0.9447987953429723, 0.954599236215182, 0.9533988760471196, 0.9517999161272188, 0.9565985962471372, 0.9619997969193675]\n",
      "\n",
      "Batchwise_Median_Accuracy: 0.9539990561311508\n",
      "\n",
      "Accumulated Accuracies:\n",
      "{'Decision_Tree_Classifier': {'Optuna': [0.972000557871619, 0.970400637759603, 0.9766004782236829, 0.9753995179355486, 0.9763997980715983, 0.9698003976635645, 0.9727983574953676, 0.9761998380635998, 0.9763996780475838, 0.9722006379036318, 0.9600001968393835, 0.9714011579436814, 0.9765997580795966, 0.9666001973674893, 0.9624012772475515, 0.9651992770713566, 0.9723992776474718, 0.9746000379755982, 0.9706005977676013, 0.9702013978956909, 0.9647987569352875, 0.9742008381036878, 0.975799918047603, 0.9691995574474541, 0.9720009179436623, 0.9671977969352108, 0.9741984376233996, 0.977599678143603, 0.977200838343736, 0.9749993578715229], 'HyperOpt': []}, 'XGB_Classifier': {'Optuna': [0.9837992785596542, 0.9836001587197566, 0.9853997987917422, 0.9855996387757262, 0.9869998389277725, 0.9838004787997982, 0.9873995188957406, 0.9878003991038526, 0.9832009588478462, 0.9839994786156815, 0.9807999984636927, 0.985399438719699, 0.984799918767747, 0.9871996789117566, 0.9832005987758029, 0.9865995588397326, 0.9868001189678032, 0.9832005987758029, 0.9839991185436382, 0.9827999586157198, 0.9845995986877054, 0.9859994387677086, 0.9863998388797631, 0.9828005587357919, 0.986399238759691, 0.9865999189117759, 0.983800958895856], 'HyperOpt': []}, 'KNN_Classifier': {'Optuna': [0.9307983541346952, 0.9429984351269001, 0.9375989147908714, 0.9427995553350313, 0.9473977953508937, 0.9524000361992427, 0.9577997965833004, 0.9413977948707978, 0.9552001964553067, 0.9412028758714044, 0.9447987953429723, 0.954599236215182, 0.9533988760471196, 0.9517999161272188, 0.9565985962471372, 0.9619997969193675], 'HyperOpt': []}, 'Light_GBM': {'Optuna': [], 'HyperOpt': []}}\n",
      "\n",
      "Logging params and child model\n",
      "\n",
      "Batch 6\n",
      "\"\\nSpace: {'n_neighbors': 5, 'weights': 'distance', 'algorithm': 'auto'}\"\n"
     ]
    },
    {
     "name": "stderr",
     "output_type": "stream",
     "text": [
      "[Parallel(n_jobs=-1)]: Using backend LokyBackend with 8 concurrent workers.\n",
      "[Parallel(n_jobs=-1)]: Done   3 out of   3 | elapsed:   10.8s finished\n"
     ]
    },
    {
     "name": "stdout",
     "output_type": "stream",
     "text": [
      "\n",
      "Accuracy of KNN_Classifier: 0.9649988369673004\n",
      "\n",
      "Batchwise_accuracies: [0.9447987953429723, 0.954599236215182, 0.9533988760471196, 0.9517999161272188, 0.9565985962471372, 0.9619997969193675, 0.9649988369673004]\n",
      "\n",
      "Batchwise_Median_Accuracy: 0.954599236215182\n",
      "\n",
      "Accumulated Accuracies:\n",
      "{'Decision_Tree_Classifier': {'Optuna': [0.972000557871619, 0.970400637759603, 0.9766004782236829, 0.9753995179355486, 0.9763997980715983, 0.9698003976635645, 0.9727983574953676, 0.9761998380635998, 0.9763996780475838, 0.9722006379036318, 0.9600001968393835, 0.9714011579436814, 0.9765997580795966, 0.9666001973674893, 0.9624012772475515, 0.9651992770713566, 0.9723992776474718, 0.9746000379755982, 0.9706005977676013, 0.9702013978956909, 0.9647987569352875, 0.9742008381036878, 0.975799918047603, 0.9691995574474541, 0.9720009179436623, 0.9671977969352108, 0.9741984376233996, 0.977599678143603, 0.977200838343736, 0.9749993578715229], 'HyperOpt': []}, 'XGB_Classifier': {'Optuna': [0.9837992785596542, 0.9836001587197566, 0.9853997987917422, 0.9855996387757262, 0.9869998389277725, 0.9838004787997982, 0.9873995188957406, 0.9878003991038526, 0.9832009588478462, 0.9839994786156815, 0.9807999984636927, 0.985399438719699, 0.984799918767747, 0.9871996789117566, 0.9832005987758029, 0.9865995588397326, 0.9868001189678032, 0.9832005987758029, 0.9839991185436382, 0.9827999586157198, 0.9845995986877054, 0.9859994387677086, 0.9863998388797631, 0.9828005587357919, 0.986399238759691, 0.9865999189117759, 0.983800958895856], 'HyperOpt': []}, 'KNN_Classifier': {'Optuna': [0.9307983541346952, 0.9429984351269001, 0.9375989147908714, 0.9427995553350313, 0.9473977953508937, 0.9524000361992427, 0.9577997965833004, 0.9413977948707978, 0.9552001964553067, 0.9412028758714044, 0.9447987953429723, 0.954599236215182, 0.9533988760471196, 0.9517999161272188, 0.9565985962471372, 0.9619997969193675, 0.9649988369673004], 'HyperOpt': []}, 'Light_GBM': {'Optuna': [], 'HyperOpt': []}}\n",
      "\n",
      "Logging params and child model\n",
      "\n",
      "Batch 7\n",
      "\"\\nSpace: {'n_neighbors': 5, 'weights': 'distance', 'algorithm': 'auto'}\"\n"
     ]
    },
    {
     "name": "stderr",
     "output_type": "stream",
     "text": [
      "[Parallel(n_jobs=-1)]: Using backend LokyBackend with 8 concurrent workers.\n",
      "[Parallel(n_jobs=-1)]: Done   3 out of   3 | elapsed:   11.2s finished\n"
     ]
    },
    {
     "name": "stdout",
     "output_type": "stream",
     "text": [
      "\n",
      "Accuracy of KNN_Classifier: 0.9513983157750202\n",
      "\n",
      "Batchwise_accuracies: [0.9447987953429723, 0.954599236215182, 0.9533988760471196, 0.9517999161272188, 0.9565985962471372, 0.9619997969193675, 0.9649988369673004, 0.9513983157750202]\n",
      "\n",
      "Batchwise_Median_Accuracy: 0.9539990561311508\n",
      "\n",
      "Accumulated Accuracies:\n",
      "{'Decision_Tree_Classifier': {'Optuna': [0.972000557871619, 0.970400637759603, 0.9766004782236829, 0.9753995179355486, 0.9763997980715983, 0.9698003976635645, 0.9727983574953676, 0.9761998380635998, 0.9763996780475838, 0.9722006379036318, 0.9600001968393835, 0.9714011579436814, 0.9765997580795966, 0.9666001973674893, 0.9624012772475515, 0.9651992770713566, 0.9723992776474718, 0.9746000379755982, 0.9706005977676013, 0.9702013978956909, 0.9647987569352875, 0.9742008381036878, 0.975799918047603, 0.9691995574474541, 0.9720009179436623, 0.9671977969352108, 0.9741984376233996, 0.977599678143603, 0.977200838343736, 0.9749993578715229], 'HyperOpt': []}, 'XGB_Classifier': {'Optuna': [0.9837992785596542, 0.9836001587197566, 0.9853997987917422, 0.9855996387757262, 0.9869998389277725, 0.9838004787997982, 0.9873995188957406, 0.9878003991038526, 0.9832009588478462, 0.9839994786156815, 0.9807999984636927, 0.985399438719699, 0.984799918767747, 0.9871996789117566, 0.9832005987758029, 0.9865995588397326, 0.9868001189678032, 0.9832005987758029, 0.9839991185436382, 0.9827999586157198, 0.9845995986877054, 0.9859994387677086, 0.9863998388797631, 0.9828005587357919, 0.986399238759691, 0.9865999189117759, 0.983800958895856], 'HyperOpt': []}, 'KNN_Classifier': {'Optuna': [0.9307983541346952, 0.9429984351269001, 0.9375989147908714, 0.9427995553350313, 0.9473977953508937, 0.9524000361992427, 0.9577997965833004, 0.9413977948707978, 0.9552001964553067, 0.9412028758714044, 0.9447987953429723, 0.954599236215182, 0.9533988760471196, 0.9517999161272188, 0.9565985962471372, 0.9619997969193675, 0.9649988369673004, 0.9513983157750202], 'HyperOpt': []}, 'Light_GBM': {'Optuna': [], 'HyperOpt': []}}\n",
      "\n",
      "Logging params and child model\n",
      "\n",
      "Batch 8\n",
      "\"\\nSpace: {'n_neighbors': 5, 'weights': 'distance', 'algorithm': 'auto'}\"\n"
     ]
    },
    {
     "name": "stderr",
     "output_type": "stream",
     "text": [
      "[Parallel(n_jobs=-1)]: Using backend LokyBackend with 8 concurrent workers.\n",
      "[Parallel(n_jobs=-1)]: Done   3 out of   3 | elapsed:   10.6s finished\n"
     ]
    },
    {
     "name": "stdout",
     "output_type": "stream",
     "text": [
      "\n",
      "Accuracy of KNN_Classifier: 0.9639999971194236\n",
      "\n",
      "Batchwise_accuracies: [0.9447987953429723, 0.954599236215182, 0.9533988760471196, 0.9517999161272188, 0.9565985962471372, 0.9619997969193675, 0.9649988369673004, 0.9513983157750202, 0.9639999971194236]\n",
      "\n",
      "Batchwise_Median_Accuracy: 0.954599236215182\n",
      "\n",
      "Accumulated Accuracies:\n",
      "{'Decision_Tree_Classifier': {'Optuna': [0.972000557871619, 0.970400637759603, 0.9766004782236829, 0.9753995179355486, 0.9763997980715983, 0.9698003976635645, 0.9727983574953676, 0.9761998380635998, 0.9763996780475838, 0.9722006379036318, 0.9600001968393835, 0.9714011579436814, 0.9765997580795966, 0.9666001973674893, 0.9624012772475515, 0.9651992770713566, 0.9723992776474718, 0.9746000379755982, 0.9706005977676013, 0.9702013978956909, 0.9647987569352875, 0.9742008381036878, 0.975799918047603, 0.9691995574474541, 0.9720009179436623, 0.9671977969352108, 0.9741984376233996, 0.977599678143603, 0.977200838343736, 0.9749993578715229], 'HyperOpt': []}, 'XGB_Classifier': {'Optuna': [0.9837992785596542, 0.9836001587197566, 0.9853997987917422, 0.9855996387757262, 0.9869998389277725, 0.9838004787997982, 0.9873995188957406, 0.9878003991038526, 0.9832009588478462, 0.9839994786156815, 0.9807999984636927, 0.985399438719699, 0.984799918767747, 0.9871996789117566, 0.9832005987758029, 0.9865995588397326, 0.9868001189678032, 0.9832005987758029, 0.9839991185436382, 0.9827999586157198, 0.9845995986877054, 0.9859994387677086, 0.9863998388797631, 0.9828005587357919, 0.986399238759691, 0.9865999189117759, 0.983800958895856], 'HyperOpt': []}, 'KNN_Classifier': {'Optuna': [0.9307983541346952, 0.9429984351269001, 0.9375989147908714, 0.9427995553350313, 0.9473977953508937, 0.9524000361992427, 0.9577997965833004, 0.9413977948707978, 0.9552001964553067, 0.9412028758714044, 0.9447987953429723, 0.954599236215182, 0.9533988760471196, 0.9517999161272188, 0.9565985962471372, 0.9619997969193675, 0.9649988369673004, 0.9513983157750202, 0.9639999971194236], 'HyperOpt': []}, 'Light_GBM': {'Optuna': [], 'HyperOpt': []}}\n",
      "\n",
      "Logging params and child model\n",
      "\n",
      "Batch 9\n",
      "\"\\nSpace: {'n_neighbors': 5, 'weights': 'distance', 'algorithm': 'auto'}\"\n"
     ]
    },
    {
     "name": "stderr",
     "output_type": "stream",
     "text": [
      "[Parallel(n_jobs=-1)]: Using backend LokyBackend with 8 concurrent workers.\n",
      "[Parallel(n_jobs=-1)]: Done   3 out of   3 | elapsed:   12.0s finished\n"
     ]
    },
    {
     "name": "stdout",
     "output_type": "stream",
     "text": [
      "\n",
      "Accuracy of KNN_Classifier: 0.952402436679531\n",
      "\n",
      "Batchwise_accuracies: [0.9447987953429723, 0.954599236215182, 0.9533988760471196, 0.9517999161272188, 0.9565985962471372, 0.9619997969193675, 0.9649988369673004, 0.9513983157750202, 0.9639999971194236, 0.952402436679531]\n",
      "\n",
      "Batchwise_Median_Accuracy: 0.9539990561311508\n",
      "\n",
      "Accumulated Accuracies:\n",
      "{'Decision_Tree_Classifier': {'Optuna': [0.972000557871619, 0.970400637759603, 0.9766004782236829, 0.9753995179355486, 0.9763997980715983, 0.9698003976635645, 0.9727983574953676, 0.9761998380635998, 0.9763996780475838, 0.9722006379036318, 0.9600001968393835, 0.9714011579436814, 0.9765997580795966, 0.9666001973674893, 0.9624012772475515, 0.9651992770713566, 0.9723992776474718, 0.9746000379755982, 0.9706005977676013, 0.9702013978956909, 0.9647987569352875, 0.9742008381036878, 0.975799918047603, 0.9691995574474541, 0.9720009179436623, 0.9671977969352108, 0.9741984376233996, 0.977599678143603, 0.977200838343736, 0.9749993578715229], 'HyperOpt': []}, 'XGB_Classifier': {'Optuna': [0.9837992785596542, 0.9836001587197566, 0.9853997987917422, 0.9855996387757262, 0.9869998389277725, 0.9838004787997982, 0.9873995188957406, 0.9878003991038526, 0.9832009588478462, 0.9839994786156815, 0.9807999984636927, 0.985399438719699, 0.984799918767747, 0.9871996789117566, 0.9832005987758029, 0.9865995588397326, 0.9868001189678032, 0.9832005987758029, 0.9839991185436382, 0.9827999586157198, 0.9845995986877054, 0.9859994387677086, 0.9863998388797631, 0.9828005587357919, 0.986399238759691, 0.9865999189117759, 0.983800958895856], 'HyperOpt': []}, 'KNN_Classifier': {'Optuna': [0.9307983541346952, 0.9429984351269001, 0.9375989147908714, 0.9427995553350313, 0.9473977953508937, 0.9524000361992427, 0.9577997965833004, 0.9413977948707978, 0.9552001964553067, 0.9412028758714044, 0.9447987953429723, 0.954599236215182, 0.9533988760471196, 0.9517999161272188, 0.9565985962471372, 0.9619997969193675, 0.9649988369673004, 0.9513983157750202, 0.9639999971194236, 0.952402436679531], 'HyperOpt': []}, 'Light_GBM': {'Optuna': [], 'HyperOpt': []}}\n",
      "\n",
      "Logging params and child model\n",
      "Logging Parent Model\n",
      "Experiment IDs:  369\n",
      "Parent_Run_ID: e85991c6c1be41b59b3edcb31ac08c61\n",
      "Artifact_Path: mlflow-artifacts:/ce67e0b8da12439b9ecd135689264d53/2cecf90b33a2474eb378682f531282ae/artifacts/KNN_Classifier_batch_6\n"
     ]
    },
    {
     "name": "stderr",
     "output_type": "stream",
     "text": [
      "Downloading artifacts:  20%|██        | 1/5 [00:02<00:10,  2.51s/it]"
     ]
    },
    {
     "name": "stdout",
     "output_type": "stream",
     "text": [
      "[2024-01-31 08:21:20,571: WARNING: connectionpool: Retrying (Retry(total=4, connect=5, read=4, redirect=5, status=5)) after connection broken by 'RemoteDisconnected('Remote end closed connection without response')': /Raj-Narayanan-B/StudentMLProjectRegression.mlflow/api/2.0/mlflow-artifacts/artifacts/ce67e0b8da12439b9ecd135689264d53/2cecf90b33a2474eb378682f531282ae/artifacts/KNN_Classifier_batch_6/MLmodel]\n",
      "[2024-01-31 08:21:20,585: WARNING: connectionpool: Retrying (Retry(total=4, connect=5, read=4, redirect=5, status=5)) after connection broken by 'RemoteDisconnected('Remote end closed connection without response')': /Raj-Narayanan-B/StudentMLProjectRegression.mlflow/api/2.0/mlflow-artifacts/artifacts/ce67e0b8da12439b9ecd135689264d53/2cecf90b33a2474eb378682f531282ae/artifacts/KNN_Classifier_batch_6/python_env.yaml]\n",
      "[2024-01-31 08:21:20,627: WARNING: connectionpool: Retrying (Retry(total=4, connect=5, read=4, redirect=5, status=5)) after connection broken by 'RemoteDisconnected('Remote end closed connection without response')': /Raj-Narayanan-B/StudentMLProjectRegression.mlflow/api/2.0/mlflow-artifacts/artifacts/ce67e0b8da12439b9ecd135689264d53/2cecf90b33a2474eb378682f531282ae/artifacts/KNN_Classifier_batch_6/conda.yaml]\n",
      "[2024-01-31 08:21:20,640: WARNING: connectionpool: Retrying (Retry(total=4, connect=5, read=4, redirect=5, status=5)) after connection broken by 'RemoteDisconnected('Remote end closed connection without response')': /Raj-Narayanan-B/StudentMLProjectRegression.mlflow/api/2.0/mlflow-artifacts/artifacts/ce67e0b8da12439b9ecd135689264d53/2cecf90b33a2474eb378682f531282ae/artifacts/KNN_Classifier_batch_6/requirements.txt]\n"
     ]
    },
    {
     "name": "stderr",
     "output_type": "stream",
     "text": [
      "Downloading artifacts: 100%|██████████| 5/5 [00:20<00:00,  4.08s/it]\n"
     ]
    },
    {
     "name": "stdout",
     "output_type": "stream",
     "text": [
      "Best Params:\n",
      " {'algorithm': 'auto', 'leaf_size': 30, 'metric': 'minkowski', 'n_neighbors': 5, 'p': 2, 'weights': 'distance'} \n",
      "\n"
     ]
    },
    {
     "name": "stderr",
     "output_type": "stream",
     "text": [
      "[I 2024-01-31 08:21:35,162] Trial 1 finished with value: 0.9555994803440273 and parameters: {'n_neighbors': 5, 'weights': 'distance', 'algorithm': 'auto'}. Best is trial 1 with value: 0.9555994803440273.\n"
     ]
    },
    {
     "name": "stdout",
     "output_type": "stream",
     "text": [
      "\n",
      "**************\n",
      "Trial_Number: 2\n",
      "**************\n",
      "\n",
      "Batch 0\n",
      "\"\\nSpace: {'n_neighbors': 9, 'weights': 'uniform', 'algorithm': 'brute'}\"\n"
     ]
    },
    {
     "name": "stderr",
     "output_type": "stream",
     "text": [
      "[Parallel(n_jobs=-1)]: Using backend LokyBackend with 8 concurrent workers.\n",
      "[Parallel(n_jobs=-1)]: Done   3 out of   3 | elapsed:   11.6s finished\n"
     ]
    },
    {
     "name": "stdout",
     "output_type": "stream",
     "text": [
      "\n",
      "Accuracy of KNN_Classifier: 0.9307983541346952\n",
      "\n",
      "Batchwise_accuracies: [0.9307983541346952]\n",
      "\n",
      "Batchwise_Median_Accuracy: 0.9307983541346952\n",
      "\n",
      "Accumulated Accuracies:\n",
      "{'Decision_Tree_Classifier': {'Optuna': [0.972000557871619, 0.970400637759603, 0.9766004782236829, 0.9753995179355486, 0.9763997980715983, 0.9698003976635645, 0.9727983574953676, 0.9761998380635998, 0.9763996780475838, 0.9722006379036318, 0.9600001968393835, 0.9714011579436814, 0.9765997580795966, 0.9666001973674893, 0.9624012772475515, 0.9651992770713566, 0.9723992776474718, 0.9746000379755982, 0.9706005977676013, 0.9702013978956909, 0.9647987569352875, 0.9742008381036878, 0.975799918047603, 0.9691995574474541, 0.9720009179436623, 0.9671977969352108, 0.9741984376233996, 0.977599678143603, 0.977200838343736, 0.9749993578715229], 'HyperOpt': []}, 'XGB_Classifier': {'Optuna': [0.9837992785596542, 0.9836001587197566, 0.9853997987917422, 0.9855996387757262, 0.9869998389277725, 0.9838004787997982, 0.9873995188957406, 0.9878003991038526, 0.9832009588478462, 0.9839994786156815, 0.9807999984636927, 0.985399438719699, 0.984799918767747, 0.9871996789117566, 0.9832005987758029, 0.9865995588397326, 0.9868001189678032, 0.9832005987758029, 0.9839991185436382, 0.9827999586157198, 0.9845995986877054, 0.9859994387677086, 0.9863998388797631, 0.9828005587357919, 0.986399238759691, 0.9865999189117759, 0.983800958895856], 'HyperOpt': []}, 'KNN_Classifier': {'Optuna': [0.9307983541346952, 0.9429984351269001, 0.9375989147908714, 0.9427995553350313, 0.9473977953508937, 0.9524000361992427, 0.9577997965833004, 0.9413977948707978, 0.9552001964553067, 0.9412028758714044, 0.9447987953429723, 0.954599236215182, 0.9533988760471196, 0.9517999161272188, 0.9565985962471372, 0.9619997969193675, 0.9649988369673004, 0.9513983157750202, 0.9639999971194236, 0.952402436679531, 0.9307983541346952], 'HyperOpt': []}, 'Light_GBM': {'Optuna': [], 'HyperOpt': []}}\n",
      "\n",
      "Logging params and child model\n",
      "\n",
      "Batch 1\n",
      "\"\\nSpace: {'n_neighbors': 9, 'weights': 'uniform', 'algorithm': 'brute'}\"\n"
     ]
    },
    {
     "name": "stderr",
     "output_type": "stream",
     "text": [
      "[Parallel(n_jobs=-1)]: Using backend LokyBackend with 8 concurrent workers.\n",
      "[Parallel(n_jobs=-1)]: Done   3 out of   3 | elapsed:   11.2s finished\n"
     ]
    },
    {
     "name": "stdout",
     "output_type": "stream",
     "text": [
      "\n",
      "Accuracy of KNN_Classifier: 0.9429984351269001\n",
      "\n",
      "Batchwise_accuracies: [0.9307983541346952, 0.9429984351269001]\n",
      "\n",
      "Batchwise_Median_Accuracy: 0.9368983946307976\n",
      "\n",
      "Accumulated Accuracies:\n",
      "{'Decision_Tree_Classifier': {'Optuna': [0.972000557871619, 0.970400637759603, 0.9766004782236829, 0.9753995179355486, 0.9763997980715983, 0.9698003976635645, 0.9727983574953676, 0.9761998380635998, 0.9763996780475838, 0.9722006379036318, 0.9600001968393835, 0.9714011579436814, 0.9765997580795966, 0.9666001973674893, 0.9624012772475515, 0.9651992770713566, 0.9723992776474718, 0.9746000379755982, 0.9706005977676013, 0.9702013978956909, 0.9647987569352875, 0.9742008381036878, 0.975799918047603, 0.9691995574474541, 0.9720009179436623, 0.9671977969352108, 0.9741984376233996, 0.977599678143603, 0.977200838343736, 0.9749993578715229], 'HyperOpt': []}, 'XGB_Classifier': {'Optuna': [0.9837992785596542, 0.9836001587197566, 0.9853997987917422, 0.9855996387757262, 0.9869998389277725, 0.9838004787997982, 0.9873995188957406, 0.9878003991038526, 0.9832009588478462, 0.9839994786156815, 0.9807999984636927, 0.985399438719699, 0.984799918767747, 0.9871996789117566, 0.9832005987758029, 0.9865995588397326, 0.9868001189678032, 0.9832005987758029, 0.9839991185436382, 0.9827999586157198, 0.9845995986877054, 0.9859994387677086, 0.9863998388797631, 0.9828005587357919, 0.986399238759691, 0.9865999189117759, 0.983800958895856], 'HyperOpt': []}, 'KNN_Classifier': {'Optuna': [0.9307983541346952, 0.9429984351269001, 0.9375989147908714, 0.9427995553350313, 0.9473977953508937, 0.9524000361992427, 0.9577997965833004, 0.9413977948707978, 0.9552001964553067, 0.9412028758714044, 0.9447987953429723, 0.954599236215182, 0.9533988760471196, 0.9517999161272188, 0.9565985962471372, 0.9619997969193675, 0.9649988369673004, 0.9513983157750202, 0.9639999971194236, 0.952402436679531, 0.9307983541346952, 0.9429984351269001], 'HyperOpt': []}, 'Light_GBM': {'Optuna': [], 'HyperOpt': []}}\n",
      "\n",
      "Logging params and child model\n",
      "\n",
      "Batch 2\n",
      "\"\\nSpace: {'n_neighbors': 9, 'weights': 'uniform', 'algorithm': 'brute'}\"\n"
     ]
    },
    {
     "name": "stderr",
     "output_type": "stream",
     "text": [
      "[Parallel(n_jobs=-1)]: Using backend LokyBackend with 8 concurrent workers.\n",
      "[Parallel(n_jobs=-1)]: Done   3 out of   3 | elapsed:   11.9s finished\n"
     ]
    },
    {
     "name": "stdout",
     "output_type": "stream",
     "text": [
      "\n",
      "Accuracy of KNN_Classifier: 0.9375989147908714\n",
      "\n",
      "Batchwise_accuracies: [0.9307983541346952, 0.9429984351269001, 0.9375989147908714]\n",
      "\n",
      "Batchwise_Median_Accuracy: 0.9375989147908714\n",
      "\n",
      "Accumulated Accuracies:\n",
      "{'Decision_Tree_Classifier': {'Optuna': [0.972000557871619, 0.970400637759603, 0.9766004782236829, 0.9753995179355486, 0.9763997980715983, 0.9698003976635645, 0.9727983574953676, 0.9761998380635998, 0.9763996780475838, 0.9722006379036318, 0.9600001968393835, 0.9714011579436814, 0.9765997580795966, 0.9666001973674893, 0.9624012772475515, 0.9651992770713566, 0.9723992776474718, 0.9746000379755982, 0.9706005977676013, 0.9702013978956909, 0.9647987569352875, 0.9742008381036878, 0.975799918047603, 0.9691995574474541, 0.9720009179436623, 0.9671977969352108, 0.9741984376233996, 0.977599678143603, 0.977200838343736, 0.9749993578715229], 'HyperOpt': []}, 'XGB_Classifier': {'Optuna': [0.9837992785596542, 0.9836001587197566, 0.9853997987917422, 0.9855996387757262, 0.9869998389277725, 0.9838004787997982, 0.9873995188957406, 0.9878003991038526, 0.9832009588478462, 0.9839994786156815, 0.9807999984636927, 0.985399438719699, 0.984799918767747, 0.9871996789117566, 0.9832005987758029, 0.9865995588397326, 0.9868001189678032, 0.9832005987758029, 0.9839991185436382, 0.9827999586157198, 0.9845995986877054, 0.9859994387677086, 0.9863998388797631, 0.9828005587357919, 0.986399238759691, 0.9865999189117759, 0.983800958895856], 'HyperOpt': []}, 'KNN_Classifier': {'Optuna': [0.9307983541346952, 0.9429984351269001, 0.9375989147908714, 0.9427995553350313, 0.9473977953508937, 0.9524000361992427, 0.9577997965833004, 0.9413977948707978, 0.9552001964553067, 0.9412028758714044, 0.9447987953429723, 0.954599236215182, 0.9533988760471196, 0.9517999161272188, 0.9565985962471372, 0.9619997969193675, 0.9649988369673004, 0.9513983157750202, 0.9639999971194236, 0.952402436679531, 0.9307983541346952, 0.9429984351269001, 0.9375989147908714], 'HyperOpt': []}, 'Light_GBM': {'Optuna': [], 'HyperOpt': []}}\n",
      "\n",
      "Logging params and child model\n",
      "\n",
      "Batch 3\n",
      "\"\\nSpace: {'n_neighbors': 9, 'weights': 'uniform', 'algorithm': 'brute'}\"\n"
     ]
    },
    {
     "name": "stderr",
     "output_type": "stream",
     "text": [
      "[Parallel(n_jobs=-1)]: Using backend LokyBackend with 8 concurrent workers.\n",
      "[Parallel(n_jobs=-1)]: Done   3 out of   3 | elapsed:   12.6s finished\n"
     ]
    },
    {
     "name": "stdout",
     "output_type": "stream",
     "text": [
      "\n",
      "Accuracy of KNN_Classifier: 0.9427995553350313\n",
      "\n",
      "Batchwise_accuracies: [0.9307983541346952, 0.9429984351269001, 0.9375989147908714, 0.9427995553350313]\n",
      "\n",
      "Batchwise_Median_Accuracy: 0.9401992350629513\n",
      "\n",
      "Accumulated Accuracies:\n",
      "{'Decision_Tree_Classifier': {'Optuna': [0.972000557871619, 0.970400637759603, 0.9766004782236829, 0.9753995179355486, 0.9763997980715983, 0.9698003976635645, 0.9727983574953676, 0.9761998380635998, 0.9763996780475838, 0.9722006379036318, 0.9600001968393835, 0.9714011579436814, 0.9765997580795966, 0.9666001973674893, 0.9624012772475515, 0.9651992770713566, 0.9723992776474718, 0.9746000379755982, 0.9706005977676013, 0.9702013978956909, 0.9647987569352875, 0.9742008381036878, 0.975799918047603, 0.9691995574474541, 0.9720009179436623, 0.9671977969352108, 0.9741984376233996, 0.977599678143603, 0.977200838343736, 0.9749993578715229], 'HyperOpt': []}, 'XGB_Classifier': {'Optuna': [0.9837992785596542, 0.9836001587197566, 0.9853997987917422, 0.9855996387757262, 0.9869998389277725, 0.9838004787997982, 0.9873995188957406, 0.9878003991038526, 0.9832009588478462, 0.9839994786156815, 0.9807999984636927, 0.985399438719699, 0.984799918767747, 0.9871996789117566, 0.9832005987758029, 0.9865995588397326, 0.9868001189678032, 0.9832005987758029, 0.9839991185436382, 0.9827999586157198, 0.9845995986877054, 0.9859994387677086, 0.9863998388797631, 0.9828005587357919, 0.986399238759691, 0.9865999189117759, 0.983800958895856], 'HyperOpt': []}, 'KNN_Classifier': {'Optuna': [0.9307983541346952, 0.9429984351269001, 0.9375989147908714, 0.9427995553350313, 0.9473977953508937, 0.9524000361992427, 0.9577997965833004, 0.9413977948707978, 0.9552001964553067, 0.9412028758714044, 0.9447987953429723, 0.954599236215182, 0.9533988760471196, 0.9517999161272188, 0.9565985962471372, 0.9619997969193675, 0.9649988369673004, 0.9513983157750202, 0.9639999971194236, 0.952402436679531, 0.9307983541346952, 0.9429984351269001, 0.9375989147908714, 0.9427995553350313], 'HyperOpt': []}, 'Light_GBM': {'Optuna': [], 'HyperOpt': []}}\n",
      "\n",
      "Logging params and child model\n",
      "\n",
      "Batch 4\n",
      "\"\\nSpace: {'n_neighbors': 9, 'weights': 'uniform', 'algorithm': 'brute'}\"\n"
     ]
    },
    {
     "name": "stderr",
     "output_type": "stream",
     "text": [
      "[Parallel(n_jobs=-1)]: Using backend LokyBackend with 8 concurrent workers.\n",
      "[Parallel(n_jobs=-1)]: Done   3 out of   3 | elapsed:   10.5s finished\n"
     ]
    },
    {
     "name": "stdout",
     "output_type": "stream",
     "text": [
      "\n",
      "Accuracy of KNN_Classifier: 0.9473977953508937\n",
      "\n",
      "Batchwise_accuracies: [0.9307983541346952, 0.9429984351269001, 0.9375989147908714, 0.9427995553350313, 0.9473977953508937]\n",
      "\n",
      "Batchwise_Median_Accuracy: 0.9427995553350313\n",
      "\n",
      "Accumulated Accuracies:\n",
      "{'Decision_Tree_Classifier': {'Optuna': [0.972000557871619, 0.970400637759603, 0.9766004782236829, 0.9753995179355486, 0.9763997980715983, 0.9698003976635645, 0.9727983574953676, 0.9761998380635998, 0.9763996780475838, 0.9722006379036318, 0.9600001968393835, 0.9714011579436814, 0.9765997580795966, 0.9666001973674893, 0.9624012772475515, 0.9651992770713566, 0.9723992776474718, 0.9746000379755982, 0.9706005977676013, 0.9702013978956909, 0.9647987569352875, 0.9742008381036878, 0.975799918047603, 0.9691995574474541, 0.9720009179436623, 0.9671977969352108, 0.9741984376233996, 0.977599678143603, 0.977200838343736, 0.9749993578715229], 'HyperOpt': []}, 'XGB_Classifier': {'Optuna': [0.9837992785596542, 0.9836001587197566, 0.9853997987917422, 0.9855996387757262, 0.9869998389277725, 0.9838004787997982, 0.9873995188957406, 0.9878003991038526, 0.9832009588478462, 0.9839994786156815, 0.9807999984636927, 0.985399438719699, 0.984799918767747, 0.9871996789117566, 0.9832005987758029, 0.9865995588397326, 0.9868001189678032, 0.9832005987758029, 0.9839991185436382, 0.9827999586157198, 0.9845995986877054, 0.9859994387677086, 0.9863998388797631, 0.9828005587357919, 0.986399238759691, 0.9865999189117759, 0.983800958895856], 'HyperOpt': []}, 'KNN_Classifier': {'Optuna': [0.9307983541346952, 0.9429984351269001, 0.9375989147908714, 0.9427995553350313, 0.9473977953508937, 0.9524000361992427, 0.9577997965833004, 0.9413977948707978, 0.9552001964553067, 0.9412028758714044, 0.9447987953429723, 0.954599236215182, 0.9533988760471196, 0.9517999161272188, 0.9565985962471372, 0.9619997969193675, 0.9649988369673004, 0.9513983157750202, 0.9639999971194236, 0.952402436679531, 0.9307983541346952, 0.9429984351269001, 0.9375989147908714, 0.9427995553350313, 0.9473977953508937], 'HyperOpt': []}, 'Light_GBM': {'Optuna': [], 'HyperOpt': []}}\n",
      "\n",
      "Logging params and child model\n",
      "\n",
      "Batch 5\n",
      "\"\\nSpace: {'n_neighbors': 9, 'weights': 'uniform', 'algorithm': 'brute'}\"\n"
     ]
    },
    {
     "name": "stderr",
     "output_type": "stream",
     "text": [
      "[Parallel(n_jobs=-1)]: Using backend LokyBackend with 8 concurrent workers.\n",
      "[Parallel(n_jobs=-1)]: Done   3 out of   3 | elapsed:   10.9s finished\n"
     ]
    },
    {
     "name": "stdout",
     "output_type": "stream",
     "text": [
      "\n",
      "Accuracy of KNN_Classifier: 0.9524000361992427\n",
      "\n",
      "Batchwise_accuracies: [0.9307983541346952, 0.9429984351269001, 0.9375989147908714, 0.9427995553350313, 0.9473977953508937, 0.9524000361992427]\n",
      "\n",
      "Batchwise_Median_Accuracy: 0.9428989952309657\n",
      "\n",
      "Accumulated Accuracies:\n",
      "{'Decision_Tree_Classifier': {'Optuna': [0.972000557871619, 0.970400637759603, 0.9766004782236829, 0.9753995179355486, 0.9763997980715983, 0.9698003976635645, 0.9727983574953676, 0.9761998380635998, 0.9763996780475838, 0.9722006379036318, 0.9600001968393835, 0.9714011579436814, 0.9765997580795966, 0.9666001973674893, 0.9624012772475515, 0.9651992770713566, 0.9723992776474718, 0.9746000379755982, 0.9706005977676013, 0.9702013978956909, 0.9647987569352875, 0.9742008381036878, 0.975799918047603, 0.9691995574474541, 0.9720009179436623, 0.9671977969352108, 0.9741984376233996, 0.977599678143603, 0.977200838343736, 0.9749993578715229], 'HyperOpt': []}, 'XGB_Classifier': {'Optuna': [0.9837992785596542, 0.9836001587197566, 0.9853997987917422, 0.9855996387757262, 0.9869998389277725, 0.9838004787997982, 0.9873995188957406, 0.9878003991038526, 0.9832009588478462, 0.9839994786156815, 0.9807999984636927, 0.985399438719699, 0.984799918767747, 0.9871996789117566, 0.9832005987758029, 0.9865995588397326, 0.9868001189678032, 0.9832005987758029, 0.9839991185436382, 0.9827999586157198, 0.9845995986877054, 0.9859994387677086, 0.9863998388797631, 0.9828005587357919, 0.986399238759691, 0.9865999189117759, 0.983800958895856], 'HyperOpt': []}, 'KNN_Classifier': {'Optuna': [0.9307983541346952, 0.9429984351269001, 0.9375989147908714, 0.9427995553350313, 0.9473977953508937, 0.9524000361992427, 0.9577997965833004, 0.9413977948707978, 0.9552001964553067, 0.9412028758714044, 0.9447987953429723, 0.954599236215182, 0.9533988760471196, 0.9517999161272188, 0.9565985962471372, 0.9619997969193675, 0.9649988369673004, 0.9513983157750202, 0.9639999971194236, 0.952402436679531, 0.9307983541346952, 0.9429984351269001, 0.9375989147908714, 0.9427995553350313, 0.9473977953508937, 0.9524000361992427], 'HyperOpt': []}, 'Light_GBM': {'Optuna': [], 'HyperOpt': []}}\n",
      "\n",
      "Logging params and child model\n",
      "\n",
      "Batch 6\n",
      "\"\\nSpace: {'n_neighbors': 9, 'weights': 'uniform', 'algorithm': 'brute'}\"\n"
     ]
    },
    {
     "name": "stderr",
     "output_type": "stream",
     "text": [
      "[Parallel(n_jobs=-1)]: Using backend LokyBackend with 8 concurrent workers.\n",
      "[Parallel(n_jobs=-1)]: Done   3 out of   3 | elapsed:   10.5s finished\n"
     ]
    },
    {
     "name": "stdout",
     "output_type": "stream",
     "text": [
      "\n",
      "Accuracy of KNN_Classifier: 0.9577997965833004\n",
      "\n",
      "Batchwise_accuracies: [0.9307983541346952, 0.9429984351269001, 0.9375989147908714, 0.9427995553350313, 0.9473977953508937, 0.9524000361992427, 0.9577997965833004]\n",
      "\n",
      "Batchwise_Median_Accuracy: 0.9429984351269001\n",
      "\n",
      "Accumulated Accuracies:\n",
      "{'Decision_Tree_Classifier': {'Optuna': [0.972000557871619, 0.970400637759603, 0.9766004782236829, 0.9753995179355486, 0.9763997980715983, 0.9698003976635645, 0.9727983574953676, 0.9761998380635998, 0.9763996780475838, 0.9722006379036318, 0.9600001968393835, 0.9714011579436814, 0.9765997580795966, 0.9666001973674893, 0.9624012772475515, 0.9651992770713566, 0.9723992776474718, 0.9746000379755982, 0.9706005977676013, 0.9702013978956909, 0.9647987569352875, 0.9742008381036878, 0.975799918047603, 0.9691995574474541, 0.9720009179436623, 0.9671977969352108, 0.9741984376233996, 0.977599678143603, 0.977200838343736, 0.9749993578715229], 'HyperOpt': []}, 'XGB_Classifier': {'Optuna': [0.9837992785596542, 0.9836001587197566, 0.9853997987917422, 0.9855996387757262, 0.9869998389277725, 0.9838004787997982, 0.9873995188957406, 0.9878003991038526, 0.9832009588478462, 0.9839994786156815, 0.9807999984636927, 0.985399438719699, 0.984799918767747, 0.9871996789117566, 0.9832005987758029, 0.9865995588397326, 0.9868001189678032, 0.9832005987758029, 0.9839991185436382, 0.9827999586157198, 0.9845995986877054, 0.9859994387677086, 0.9863998388797631, 0.9828005587357919, 0.986399238759691, 0.9865999189117759, 0.983800958895856], 'HyperOpt': []}, 'KNN_Classifier': {'Optuna': [0.9307983541346952, 0.9429984351269001, 0.9375989147908714, 0.9427995553350313, 0.9473977953508937, 0.9524000361992427, 0.9577997965833004, 0.9413977948707978, 0.9552001964553067, 0.9412028758714044, 0.9447987953429723, 0.954599236215182, 0.9533988760471196, 0.9517999161272188, 0.9565985962471372, 0.9619997969193675, 0.9649988369673004, 0.9513983157750202, 0.9639999971194236, 0.952402436679531, 0.9307983541346952, 0.9429984351269001, 0.9375989147908714, 0.9427995553350313, 0.9473977953508937, 0.9524000361992427, 0.9577997965833004], 'HyperOpt': []}, 'Light_GBM': {'Optuna': [], 'HyperOpt': []}}\n",
      "\n",
      "Logging params and child model\n",
      "\n",
      "Batch 7\n",
      "\"\\nSpace: {'n_neighbors': 9, 'weights': 'uniform', 'algorithm': 'brute'}\"\n"
     ]
    },
    {
     "name": "stderr",
     "output_type": "stream",
     "text": [
      "[Parallel(n_jobs=-1)]: Using backend LokyBackend with 8 concurrent workers.\n",
      "[Parallel(n_jobs=-1)]: Done   3 out of   3 | elapsed:   11.1s finished\n"
     ]
    },
    {
     "name": "stdout",
     "output_type": "stream",
     "text": [
      "\n",
      "Accuracy of KNN_Classifier: 0.9413977948707978\n",
      "\n",
      "Batchwise_accuracies: [0.9307983541346952, 0.9429984351269001, 0.9375989147908714, 0.9427995553350313, 0.9473977953508937, 0.9524000361992427, 0.9577997965833004, 0.9413977948707978]\n",
      "\n",
      "Batchwise_Median_Accuracy: 0.9428989952309657\n",
      "\n",
      "Accumulated Accuracies:\n",
      "{'Decision_Tree_Classifier': {'Optuna': [0.972000557871619, 0.970400637759603, 0.9766004782236829, 0.9753995179355486, 0.9763997980715983, 0.9698003976635645, 0.9727983574953676, 0.9761998380635998, 0.9763996780475838, 0.9722006379036318, 0.9600001968393835, 0.9714011579436814, 0.9765997580795966, 0.9666001973674893, 0.9624012772475515, 0.9651992770713566, 0.9723992776474718, 0.9746000379755982, 0.9706005977676013, 0.9702013978956909, 0.9647987569352875, 0.9742008381036878, 0.975799918047603, 0.9691995574474541, 0.9720009179436623, 0.9671977969352108, 0.9741984376233996, 0.977599678143603, 0.977200838343736, 0.9749993578715229], 'HyperOpt': []}, 'XGB_Classifier': {'Optuna': [0.9837992785596542, 0.9836001587197566, 0.9853997987917422, 0.9855996387757262, 0.9869998389277725, 0.9838004787997982, 0.9873995188957406, 0.9878003991038526, 0.9832009588478462, 0.9839994786156815, 0.9807999984636927, 0.985399438719699, 0.984799918767747, 0.9871996789117566, 0.9832005987758029, 0.9865995588397326, 0.9868001189678032, 0.9832005987758029, 0.9839991185436382, 0.9827999586157198, 0.9845995986877054, 0.9859994387677086, 0.9863998388797631, 0.9828005587357919, 0.986399238759691, 0.9865999189117759, 0.983800958895856], 'HyperOpt': []}, 'KNN_Classifier': {'Optuna': [0.9307983541346952, 0.9429984351269001, 0.9375989147908714, 0.9427995553350313, 0.9473977953508937, 0.9524000361992427, 0.9577997965833004, 0.9413977948707978, 0.9552001964553067, 0.9412028758714044, 0.9447987953429723, 0.954599236215182, 0.9533988760471196, 0.9517999161272188, 0.9565985962471372, 0.9619997969193675, 0.9649988369673004, 0.9513983157750202, 0.9639999971194236, 0.952402436679531, 0.9307983541346952, 0.9429984351269001, 0.9375989147908714, 0.9427995553350313, 0.9473977953508937, 0.9524000361992427, 0.9577997965833004, 0.9413977948707978], 'HyperOpt': []}, 'Light_GBM': {'Optuna': [], 'HyperOpt': []}}\n",
      "\n",
      "Logging params and child model\n",
      "\n",
      "Batch 8\n",
      "\"\\nSpace: {'n_neighbors': 9, 'weights': 'uniform', 'algorithm': 'brute'}\"\n"
     ]
    },
    {
     "name": "stderr",
     "output_type": "stream",
     "text": [
      "[Parallel(n_jobs=-1)]: Using backend LokyBackend with 8 concurrent workers.\n",
      "[Parallel(n_jobs=-1)]: Done   3 out of   3 | elapsed:   10.8s finished\n"
     ]
    },
    {
     "name": "stdout",
     "output_type": "stream",
     "text": [
      "\n",
      "Accuracy of KNN_Classifier: 0.9552001964553067\n",
      "\n",
      "Batchwise_accuracies: [0.9307983541346952, 0.9429984351269001, 0.9375989147908714, 0.9427995553350313, 0.9473977953508937, 0.9524000361992427, 0.9577997965833004, 0.9413977948707978, 0.9552001964553067]\n",
      "\n",
      "Batchwise_Median_Accuracy: 0.9429984351269001\n",
      "\n",
      "Accumulated Accuracies:\n",
      "{'Decision_Tree_Classifier': {'Optuna': [0.972000557871619, 0.970400637759603, 0.9766004782236829, 0.9753995179355486, 0.9763997980715983, 0.9698003976635645, 0.9727983574953676, 0.9761998380635998, 0.9763996780475838, 0.9722006379036318, 0.9600001968393835, 0.9714011579436814, 0.9765997580795966, 0.9666001973674893, 0.9624012772475515, 0.9651992770713566, 0.9723992776474718, 0.9746000379755982, 0.9706005977676013, 0.9702013978956909, 0.9647987569352875, 0.9742008381036878, 0.975799918047603, 0.9691995574474541, 0.9720009179436623, 0.9671977969352108, 0.9741984376233996, 0.977599678143603, 0.977200838343736, 0.9749993578715229], 'HyperOpt': []}, 'XGB_Classifier': {'Optuna': [0.9837992785596542, 0.9836001587197566, 0.9853997987917422, 0.9855996387757262, 0.9869998389277725, 0.9838004787997982, 0.9873995188957406, 0.9878003991038526, 0.9832009588478462, 0.9839994786156815, 0.9807999984636927, 0.985399438719699, 0.984799918767747, 0.9871996789117566, 0.9832005987758029, 0.9865995588397326, 0.9868001189678032, 0.9832005987758029, 0.9839991185436382, 0.9827999586157198, 0.9845995986877054, 0.9859994387677086, 0.9863998388797631, 0.9828005587357919, 0.986399238759691, 0.9865999189117759, 0.983800958895856], 'HyperOpt': []}, 'KNN_Classifier': {'Optuna': [0.9307983541346952, 0.9429984351269001, 0.9375989147908714, 0.9427995553350313, 0.9473977953508937, 0.9524000361992427, 0.9577997965833004, 0.9413977948707978, 0.9552001964553067, 0.9412028758714044, 0.9447987953429723, 0.954599236215182, 0.9533988760471196, 0.9517999161272188, 0.9565985962471372, 0.9619997969193675, 0.9649988369673004, 0.9513983157750202, 0.9639999971194236, 0.952402436679531, 0.9307983541346952, 0.9429984351269001, 0.9375989147908714, 0.9427995553350313, 0.9473977953508937, 0.9524000361992427, 0.9577997965833004, 0.9413977948707978, 0.9552001964553067], 'HyperOpt': []}, 'Light_GBM': {'Optuna': [], 'HyperOpt': []}}\n",
      "\n",
      "Logging params and child model\n",
      "\n",
      "Batch 9\n",
      "\"\\nSpace: {'n_neighbors': 9, 'weights': 'uniform', 'algorithm': 'brute'}\"\n"
     ]
    },
    {
     "name": "stderr",
     "output_type": "stream",
     "text": [
      "[Parallel(n_jobs=-1)]: Using backend LokyBackend with 8 concurrent workers.\n",
      "[Parallel(n_jobs=-1)]: Done   3 out of   3 | elapsed:   10.7s finished\n"
     ]
    },
    {
     "name": "stdout",
     "output_type": "stream",
     "text": [
      "\n",
      "Accuracy of KNN_Classifier: 0.9412028758714044\n",
      "\n",
      "Batchwise_accuracies: [0.9307983541346952, 0.9429984351269001, 0.9375989147908714, 0.9427995553350313, 0.9473977953508937, 0.9524000361992427, 0.9577997965833004, 0.9413977948707978, 0.9552001964553067, 0.9412028758714044]\n",
      "\n",
      "Batchwise_Median_Accuracy: 0.9428989952309657\n",
      "\n",
      "Accumulated Accuracies:\n",
      "{'Decision_Tree_Classifier': {'Optuna': [0.972000557871619, 0.970400637759603, 0.9766004782236829, 0.9753995179355486, 0.9763997980715983, 0.9698003976635645, 0.9727983574953676, 0.9761998380635998, 0.9763996780475838, 0.9722006379036318, 0.9600001968393835, 0.9714011579436814, 0.9765997580795966, 0.9666001973674893, 0.9624012772475515, 0.9651992770713566, 0.9723992776474718, 0.9746000379755982, 0.9706005977676013, 0.9702013978956909, 0.9647987569352875, 0.9742008381036878, 0.975799918047603, 0.9691995574474541, 0.9720009179436623, 0.9671977969352108, 0.9741984376233996, 0.977599678143603, 0.977200838343736, 0.9749993578715229], 'HyperOpt': []}, 'XGB_Classifier': {'Optuna': [0.9837992785596542, 0.9836001587197566, 0.9853997987917422, 0.9855996387757262, 0.9869998389277725, 0.9838004787997982, 0.9873995188957406, 0.9878003991038526, 0.9832009588478462, 0.9839994786156815, 0.9807999984636927, 0.985399438719699, 0.984799918767747, 0.9871996789117566, 0.9832005987758029, 0.9865995588397326, 0.9868001189678032, 0.9832005987758029, 0.9839991185436382, 0.9827999586157198, 0.9845995986877054, 0.9859994387677086, 0.9863998388797631, 0.9828005587357919, 0.986399238759691, 0.9865999189117759, 0.983800958895856], 'HyperOpt': []}, 'KNN_Classifier': {'Optuna': [0.9307983541346952, 0.9429984351269001, 0.9375989147908714, 0.9427995553350313, 0.9473977953508937, 0.9524000361992427, 0.9577997965833004, 0.9413977948707978, 0.9552001964553067, 0.9412028758714044, 0.9447987953429723, 0.954599236215182, 0.9533988760471196, 0.9517999161272188, 0.9565985962471372, 0.9619997969193675, 0.9649988369673004, 0.9513983157750202, 0.9639999971194236, 0.952402436679531, 0.9307983541346952, 0.9429984351269001, 0.9375989147908714, 0.9427995553350313, 0.9473977953508937, 0.9524000361992427, 0.9577997965833004, 0.9413977948707978, 0.9552001964553067, 0.9412028758714044], 'HyperOpt': []}, 'Light_GBM': {'Optuna': [], 'HyperOpt': []}}\n",
      "\n",
      "Logging params and child model\n",
      "Logging Parent Model\n",
      "Experiment IDs:  369\n",
      "Parent_Run_ID: fde387db826942f390272394555d5153\n",
      "Artifact_Path: mlflow-artifacts:/ce67e0b8da12439b9ecd135689264d53/833a0a115eac4847a9bb4db6e0121206/artifacts/KNN_Classifier_batch_6\n"
     ]
    },
    {
     "name": "stderr",
     "output_type": "stream",
     "text": [
      "Downloading artifacts:  20%|██        | 1/5 [00:00<00:02,  1.82it/s]"
     ]
    },
    {
     "name": "stdout",
     "output_type": "stream",
     "text": [
      "[2024-01-31 08:26:28,590: WARNING: connectionpool: Retrying (Retry(total=4, connect=5, read=4, redirect=5, status=5)) after connection broken by 'RemoteDisconnected('Remote end closed connection without response')': /Raj-Narayanan-B/StudentMLProjectRegression.mlflow/api/2.0/mlflow-artifacts/artifacts/ce67e0b8da12439b9ecd135689264d53/833a0a115eac4847a9bb4db6e0121206/artifacts/KNN_Classifier_batch_6/MLmodel]\n",
      "[2024-01-31 08:26:28,596: WARNING: connectionpool: Retrying (Retry(total=4, connect=5, read=4, redirect=5, status=5)) after connection broken by 'RemoteDisconnected('Remote end closed connection without response')': /Raj-Narayanan-B/StudentMLProjectRegression.mlflow/api/2.0/mlflow-artifacts/artifacts/ce67e0b8da12439b9ecd135689264d53/833a0a115eac4847a9bb4db6e0121206/artifacts/KNN_Classifier_batch_6/model.pkl]\n",
      "[2024-01-31 08:26:28,611: WARNING: connectionpool: Retrying (Retry(total=4, connect=5, read=4, redirect=5, status=5)) after connection broken by 'RemoteDisconnected('Remote end closed connection without response')': /Raj-Narayanan-B/StudentMLProjectRegression.mlflow/api/2.0/mlflow-artifacts/artifacts/ce67e0b8da12439b9ecd135689264d53/833a0a115eac4847a9bb4db6e0121206/artifacts/KNN_Classifier_batch_6/python_env.yaml]\n",
      "[2024-01-31 08:26:28,617: WARNING: connectionpool: Retrying (Retry(total=4, connect=5, read=4, redirect=5, status=5)) after connection broken by 'RemoteDisconnected('Remote end closed connection without response')': /Raj-Narayanan-B/StudentMLProjectRegression.mlflow/api/2.0/mlflow-artifacts/artifacts/ce67e0b8da12439b9ecd135689264d53/833a0a115eac4847a9bb4db6e0121206/artifacts/KNN_Classifier_batch_6/requirements.txt]\n"
     ]
    },
    {
     "name": "stderr",
     "output_type": "stream",
     "text": [
      "Downloading artifacts: 100%|██████████| 5/5 [00:22<00:00,  4.47s/it]\n"
     ]
    },
    {
     "name": "stdout",
     "output_type": "stream",
     "text": [
      "Best Params:\n",
      " {'algorithm': 'brute', 'leaf_size': 30, 'metric': 'minkowski', 'n_neighbors': 9, 'p': 2, 'weights': 'uniform'} \n",
      "\n"
     ]
    },
    {
     "name": "stderr",
     "output_type": "stream",
     "text": [
      "[I 2024-01-31 08:26:45,061] Trial 2 finished with value: 0.9449593754718444 and parameters: {'n_neighbors': 9, 'weights': 'uniform', 'algorithm': 'brute'}. Best is trial 1 with value: 0.9555994803440273.\n"
     ]
    },
    {
     "name": "stdout",
     "output_type": "stream",
     "text": [
      "Registering Best Parent Model as Challenger\n",
      "Client_Tracking_URI:  https://dagshub.com/Raj-Narayanan-B/StudentMLProjectRegression.mlflow\n",
      "Client_Registry_URI:  https://dagshub.com/Raj-Narayanan-B/StudentMLProjectRegression.mlflow\n",
      "\n",
      "Best_Run_ID: e85991c6c1be41b59b3edcb31ac08c61\n",
      "Best_Model's_Artifact_Path: mlflow-artifacts:/ce67e0b8da12439b9ecd135689264d53/e85991c6c1be41b59b3edcb31ac08c61/artifacts/challenger_KNN_Classifier\n"
     ]
    },
    {
     "name": "stderr",
     "output_type": "stream",
     "text": [
      "2024/01/31 08:26:48 INFO mlflow.store.model_registry.abstract_store: Waiting up to 300 seconds for model version to finish creation. Model name: Challenger_KNN_Classifier, version 1\n",
      "[I 2024-01-31 08:26:48,697] A new study created in memory with name: no-name-ffd7908f-a041-4d9c-a88c-bd7820a60a99\n"
     ]
    },
    {
     "name": "stdout",
     "output_type": "stream",
     "text": [
      "\n",
      "**************\n",
      "Trial_Number: 0\n",
      "**************\n",
      "\n",
      "Batch 0\n",
      "('\\n'\n",
      " \"Space: {'boosting_type': 'gbdt', 'learning_rate': 0.7595521352826132, \"\n",
      " \"'n_estimators': 148, 'class_weight': 'balanced', 'n_jobs': -1}\")\n"
     ]
    },
    {
     "name": "stderr",
     "output_type": "stream",
     "text": [
      "[Parallel(n_jobs=-1)]: Using backend LokyBackend with 8 concurrent workers.\n",
      "[Parallel(n_jobs=-1)]: Done   3 out of   3 | elapsed:   11.8s finished\n"
     ]
    },
    {
     "name": "stdout",
     "output_type": "stream",
     "text": [
      "\n",
      "Accuracy of Light_GBM: 0.9837997586557119\n",
      "\n",
      "Batchwise_accuracies: [0.9837997586557119]\n",
      "\n",
      "Batchwise_Median_Accuracy: 0.9837997586557119\n",
      "\n",
      "Accumulated Accuracies:\n",
      "{'Decision_Tree_Classifier': {'Optuna': [0.972000557871619, 0.970400637759603, 0.9766004782236829, 0.9753995179355486, 0.9763997980715983, 0.9698003976635645, 0.9727983574953676, 0.9761998380635998, 0.9763996780475838, 0.9722006379036318, 0.9600001968393835, 0.9714011579436814, 0.9765997580795966, 0.9666001973674893, 0.9624012772475515, 0.9651992770713566, 0.9723992776474718, 0.9746000379755982, 0.9706005977676013, 0.9702013978956909, 0.9647987569352875, 0.9742008381036878, 0.975799918047603, 0.9691995574474541, 0.9720009179436623, 0.9671977969352108, 0.9741984376233996, 0.977599678143603, 0.977200838343736, 0.9749993578715229], 'HyperOpt': []}, 'XGB_Classifier': {'Optuna': [0.9837992785596542, 0.9836001587197566, 0.9853997987917422, 0.9855996387757262, 0.9869998389277725, 0.9838004787997982, 0.9873995188957406, 0.9878003991038526, 0.9832009588478462, 0.9839994786156815, 0.9807999984636927, 0.985399438719699, 0.984799918767747, 0.9871996789117566, 0.9832005987758029, 0.9865995588397326, 0.9868001189678032, 0.9832005987758029, 0.9839991185436382, 0.9827999586157198, 0.9845995986877054, 0.9859994387677086, 0.9863998388797631, 0.9828005587357919, 0.986399238759691, 0.9865999189117759, 0.983800958895856], 'HyperOpt': []}, 'KNN_Classifier': {'Optuna': [0.9307983541346952, 0.9429984351269001, 0.9375989147908714, 0.9427995553350313, 0.9473977953508937, 0.9524000361992427, 0.9577997965833004, 0.9413977948707978, 0.9552001964553067, 0.9412028758714044, 0.9447987953429723, 0.954599236215182, 0.9533988760471196, 0.9517999161272188, 0.9565985962471372, 0.9619997969193675, 0.9649988369673004, 0.9513983157750202, 0.9639999971194236, 0.952402436679531, 0.9307983541346952, 0.9429984351269001, 0.9375989147908714, 0.9427995553350313, 0.9473977953508937, 0.9524000361992427, 0.9577997965833004, 0.9413977948707978, 0.9552001964553067, 0.9412028758714044], 'HyperOpt': []}, 'Light_GBM': {'Optuna': [0.9837997586557119], 'HyperOpt': []}}\n",
      "\n",
      "Logging params and child model\n",
      "\n",
      "Batch 1\n",
      "('\\n'\n",
      " \"Space: {'boosting_type': 'gbdt', 'learning_rate': 0.7595521352826132, \"\n",
      " \"'n_estimators': 148, 'class_weight': 'balanced', 'n_jobs': -1}\")\n"
     ]
    },
    {
     "name": "stderr",
     "output_type": "stream",
     "text": [
      "[Parallel(n_jobs=-1)]: Using backend LokyBackend with 8 concurrent workers.\n",
      "[Parallel(n_jobs=-1)]: Done   3 out of   3 | elapsed:   10.0s finished\n"
     ]
    },
    {
     "name": "stdout",
     "output_type": "stream",
     "text": [
      "\n",
      "Accuracy of Light_GBM: 0.9850005989198319\n",
      "\n",
      "Batchwise_accuracies: [0.9837997586557119, 0.9850005989198319]\n",
      "\n",
      "Batchwise_Median_Accuracy: 0.9844001787877719\n",
      "\n",
      "Accumulated Accuracies:\n",
      "{'Decision_Tree_Classifier': {'Optuna': [0.972000557871619, 0.970400637759603, 0.9766004782236829, 0.9753995179355486, 0.9763997980715983, 0.9698003976635645, 0.9727983574953676, 0.9761998380635998, 0.9763996780475838, 0.9722006379036318, 0.9600001968393835, 0.9714011579436814, 0.9765997580795966, 0.9666001973674893, 0.9624012772475515, 0.9651992770713566, 0.9723992776474718, 0.9746000379755982, 0.9706005977676013, 0.9702013978956909, 0.9647987569352875, 0.9742008381036878, 0.975799918047603, 0.9691995574474541, 0.9720009179436623, 0.9671977969352108, 0.9741984376233996, 0.977599678143603, 0.977200838343736, 0.9749993578715229], 'HyperOpt': []}, 'XGB_Classifier': {'Optuna': [0.9837992785596542, 0.9836001587197566, 0.9853997987917422, 0.9855996387757262, 0.9869998389277725, 0.9838004787997982, 0.9873995188957406, 0.9878003991038526, 0.9832009588478462, 0.9839994786156815, 0.9807999984636927, 0.985399438719699, 0.984799918767747, 0.9871996789117566, 0.9832005987758029, 0.9865995588397326, 0.9868001189678032, 0.9832005987758029, 0.9839991185436382, 0.9827999586157198, 0.9845995986877054, 0.9859994387677086, 0.9863998388797631, 0.9828005587357919, 0.986399238759691, 0.9865999189117759, 0.983800958895856], 'HyperOpt': []}, 'KNN_Classifier': {'Optuna': [0.9307983541346952, 0.9429984351269001, 0.9375989147908714, 0.9427995553350313, 0.9473977953508937, 0.9524000361992427, 0.9577997965833004, 0.9413977948707978, 0.9552001964553067, 0.9412028758714044, 0.9447987953429723, 0.954599236215182, 0.9533988760471196, 0.9517999161272188, 0.9565985962471372, 0.9619997969193675, 0.9649988369673004, 0.9513983157750202, 0.9639999971194236, 0.952402436679531, 0.9307983541346952, 0.9429984351269001, 0.9375989147908714, 0.9427995553350313, 0.9473977953508937, 0.9524000361992427, 0.9577997965833004, 0.9413977948707978, 0.9552001964553067, 0.9412028758714044], 'HyperOpt': []}, 'Light_GBM': {'Optuna': [0.9837997586557119, 0.9850005989198319], 'HyperOpt': []}}\n",
      "\n",
      "Logging params and child model\n",
      "\n",
      "Batch 2\n",
      "('\\n'\n",
      " \"Space: {'boosting_type': 'gbdt', 'learning_rate': 0.7595521352826132, \"\n",
      " \"'n_estimators': 148, 'class_weight': 'balanced', 'n_jobs': -1}\")\n"
     ]
    },
    {
     "name": "stderr",
     "output_type": "stream",
     "text": [
      "[Parallel(n_jobs=-1)]: Using backend LokyBackend with 8 concurrent workers.\n",
      "[Parallel(n_jobs=-1)]: Done   3 out of   3 | elapsed:    9.1s finished\n"
     ]
    },
    {
     "name": "stdout",
     "output_type": "stream",
     "text": [
      "\n",
      "Accuracy of Light_GBM: 0.9880002390878367\n",
      "\n",
      "Batchwise_accuracies: [0.9837997586557119, 0.9850005989198319, 0.9880002390878367]\n",
      "\n",
      "Batchwise_Median_Accuracy: 0.9850005989198319\n",
      "\n",
      "Accumulated Accuracies:\n",
      "{'Decision_Tree_Classifier': {'Optuna': [0.972000557871619, 0.970400637759603, 0.9766004782236829, 0.9753995179355486, 0.9763997980715983, 0.9698003976635645, 0.9727983574953676, 0.9761998380635998, 0.9763996780475838, 0.9722006379036318, 0.9600001968393835, 0.9714011579436814, 0.9765997580795966, 0.9666001973674893, 0.9624012772475515, 0.9651992770713566, 0.9723992776474718, 0.9746000379755982, 0.9706005977676013, 0.9702013978956909, 0.9647987569352875, 0.9742008381036878, 0.975799918047603, 0.9691995574474541, 0.9720009179436623, 0.9671977969352108, 0.9741984376233996, 0.977599678143603, 0.977200838343736, 0.9749993578715229], 'HyperOpt': []}, 'XGB_Classifier': {'Optuna': [0.9837992785596542, 0.9836001587197566, 0.9853997987917422, 0.9855996387757262, 0.9869998389277725, 0.9838004787997982, 0.9873995188957406, 0.9878003991038526, 0.9832009588478462, 0.9839994786156815, 0.9807999984636927, 0.985399438719699, 0.984799918767747, 0.9871996789117566, 0.9832005987758029, 0.9865995588397326, 0.9868001189678032, 0.9832005987758029, 0.9839991185436382, 0.9827999586157198, 0.9845995986877054, 0.9859994387677086, 0.9863998388797631, 0.9828005587357919, 0.986399238759691, 0.9865999189117759, 0.983800958895856], 'HyperOpt': []}, 'KNN_Classifier': {'Optuna': [0.9307983541346952, 0.9429984351269001, 0.9375989147908714, 0.9427995553350313, 0.9473977953508937, 0.9524000361992427, 0.9577997965833004, 0.9413977948707978, 0.9552001964553067, 0.9412028758714044, 0.9447987953429723, 0.954599236215182, 0.9533988760471196, 0.9517999161272188, 0.9565985962471372, 0.9619997969193675, 0.9649988369673004, 0.9513983157750202, 0.9639999971194236, 0.952402436679531, 0.9307983541346952, 0.9429984351269001, 0.9375989147908714, 0.9427995553350313, 0.9473977953508937, 0.9524000361992427, 0.9577997965833004, 0.9413977948707978, 0.9552001964553067, 0.9412028758714044], 'HyperOpt': []}, 'Light_GBM': {'Optuna': [0.9837997586557119, 0.9850005989198319, 0.9880002390878367], 'HyperOpt': []}}\n",
      "\n",
      "Logging params and child model\n",
      "\n",
      "Batch 3\n",
      "('\\n'\n",
      " \"Space: {'boosting_type': 'gbdt', 'learning_rate': 0.7595521352826132, \"\n",
      " \"'n_estimators': 148, 'class_weight': 'balanced', 'n_jobs': -1}\")\n"
     ]
    },
    {
     "name": "stderr",
     "output_type": "stream",
     "text": [
      "[Parallel(n_jobs=-1)]: Using backend LokyBackend with 8 concurrent workers.\n",
      "[Parallel(n_jobs=-1)]: Done   3 out of   3 | elapsed:    9.3s finished\n"
     ]
    },
    {
     "name": "stdout",
     "output_type": "stream",
     "text": [
      "\n",
      "Accuracy of Light_GBM: 0.9871996789117566\n",
      "\n",
      "Batchwise_accuracies: [0.9837997586557119, 0.9850005989198319, 0.9880002390878367, 0.9871996789117566]\n",
      "\n",
      "Batchwise_Median_Accuracy: 0.9861001389157943\n",
      "\n",
      "Accumulated Accuracies:\n",
      "{'Decision_Tree_Classifier': {'Optuna': [0.972000557871619, 0.970400637759603, 0.9766004782236829, 0.9753995179355486, 0.9763997980715983, 0.9698003976635645, 0.9727983574953676, 0.9761998380635998, 0.9763996780475838, 0.9722006379036318, 0.9600001968393835, 0.9714011579436814, 0.9765997580795966, 0.9666001973674893, 0.9624012772475515, 0.9651992770713566, 0.9723992776474718, 0.9746000379755982, 0.9706005977676013, 0.9702013978956909, 0.9647987569352875, 0.9742008381036878, 0.975799918047603, 0.9691995574474541, 0.9720009179436623, 0.9671977969352108, 0.9741984376233996, 0.977599678143603, 0.977200838343736, 0.9749993578715229], 'HyperOpt': []}, 'XGB_Classifier': {'Optuna': [0.9837992785596542, 0.9836001587197566, 0.9853997987917422, 0.9855996387757262, 0.9869998389277725, 0.9838004787997982, 0.9873995188957406, 0.9878003991038526, 0.9832009588478462, 0.9839994786156815, 0.9807999984636927, 0.985399438719699, 0.984799918767747, 0.9871996789117566, 0.9832005987758029, 0.9865995588397326, 0.9868001189678032, 0.9832005987758029, 0.9839991185436382, 0.9827999586157198, 0.9845995986877054, 0.9859994387677086, 0.9863998388797631, 0.9828005587357919, 0.986399238759691, 0.9865999189117759, 0.983800958895856], 'HyperOpt': []}, 'KNN_Classifier': {'Optuna': [0.9307983541346952, 0.9429984351269001, 0.9375989147908714, 0.9427995553350313, 0.9473977953508937, 0.9524000361992427, 0.9577997965833004, 0.9413977948707978, 0.9552001964553067, 0.9412028758714044, 0.9447987953429723, 0.954599236215182, 0.9533988760471196, 0.9517999161272188, 0.9565985962471372, 0.9619997969193675, 0.9649988369673004, 0.9513983157750202, 0.9639999971194236, 0.952402436679531, 0.9307983541346952, 0.9429984351269001, 0.9375989147908714, 0.9427995553350313, 0.9473977953508937, 0.9524000361992427, 0.9577997965833004, 0.9413977948707978, 0.9552001964553067, 0.9412028758714044], 'HyperOpt': []}, 'Light_GBM': {'Optuna': [0.9837997586557119, 0.9850005989198319, 0.9880002390878367, 0.9871996789117566], 'HyperOpt': []}}\n",
      "\n",
      "Logging params and child model\n",
      "\n",
      "Batch 4\n",
      "('\\n'\n",
      " \"Space: {'boosting_type': 'gbdt', 'learning_rate': 0.7595521352826132, \"\n",
      " \"'n_estimators': 148, 'class_weight': 'balanced', 'n_jobs': -1}\")\n"
     ]
    },
    {
     "name": "stderr",
     "output_type": "stream",
     "text": [
      "[Parallel(n_jobs=-1)]: Using backend LokyBackend with 8 concurrent workers.\n",
      "[Parallel(n_jobs=-1)]: Done   3 out of   3 | elapsed:   10.2s finished\n"
     ]
    },
    {
     "name": "stdout",
     "output_type": "stream",
     "text": [
      "\n",
      "Accuracy of Light_GBM: 0.9881998390237919\n",
      "\n",
      "Batchwise_accuracies: [0.9837997586557119, 0.9850005989198319, 0.9880002390878367, 0.9871996789117566, 0.9881998390237919]\n",
      "\n",
      "Batchwise_Median_Accuracy: 0.9871996789117566\n",
      "\n",
      "Accumulated Accuracies:\n",
      "{'Decision_Tree_Classifier': {'Optuna': [0.972000557871619, 0.970400637759603, 0.9766004782236829, 0.9753995179355486, 0.9763997980715983, 0.9698003976635645, 0.9727983574953676, 0.9761998380635998, 0.9763996780475838, 0.9722006379036318, 0.9600001968393835, 0.9714011579436814, 0.9765997580795966, 0.9666001973674893, 0.9624012772475515, 0.9651992770713566, 0.9723992776474718, 0.9746000379755982, 0.9706005977676013, 0.9702013978956909, 0.9647987569352875, 0.9742008381036878, 0.975799918047603, 0.9691995574474541, 0.9720009179436623, 0.9671977969352108, 0.9741984376233996, 0.977599678143603, 0.977200838343736, 0.9749993578715229], 'HyperOpt': []}, 'XGB_Classifier': {'Optuna': [0.9837992785596542, 0.9836001587197566, 0.9853997987917422, 0.9855996387757262, 0.9869998389277725, 0.9838004787997982, 0.9873995188957406, 0.9878003991038526, 0.9832009588478462, 0.9839994786156815, 0.9807999984636927, 0.985399438719699, 0.984799918767747, 0.9871996789117566, 0.9832005987758029, 0.9865995588397326, 0.9868001189678032, 0.9832005987758029, 0.9839991185436382, 0.9827999586157198, 0.9845995986877054, 0.9859994387677086, 0.9863998388797631, 0.9828005587357919, 0.986399238759691, 0.9865999189117759, 0.983800958895856], 'HyperOpt': []}, 'KNN_Classifier': {'Optuna': [0.9307983541346952, 0.9429984351269001, 0.9375989147908714, 0.9427995553350313, 0.9473977953508937, 0.9524000361992427, 0.9577997965833004, 0.9413977948707978, 0.9552001964553067, 0.9412028758714044, 0.9447987953429723, 0.954599236215182, 0.9533988760471196, 0.9517999161272188, 0.9565985962471372, 0.9619997969193675, 0.9649988369673004, 0.9513983157750202, 0.9639999971194236, 0.952402436679531, 0.9307983541346952, 0.9429984351269001, 0.9375989147908714, 0.9427995553350313, 0.9473977953508937, 0.9524000361992427, 0.9577997965833004, 0.9413977948707978, 0.9552001964553067, 0.9412028758714044], 'HyperOpt': []}, 'Light_GBM': {'Optuna': [0.9837997586557119, 0.9850005989198319, 0.9880002390878367, 0.9871996789117566, 0.9881998390237919], 'HyperOpt': []}}\n",
      "\n",
      "Logging params and child model\n",
      "\n",
      "Batch 5\n",
      "('\\n'\n",
      " \"Space: {'boosting_type': 'gbdt', 'learning_rate': 0.7595521352826132, \"\n",
      " \"'n_estimators': 148, 'class_weight': 'balanced', 'n_jobs': -1}\")\n"
     ]
    },
    {
     "name": "stderr",
     "output_type": "stream",
     "text": [
      "[Parallel(n_jobs=-1)]: Using backend LokyBackend with 8 concurrent workers.\n",
      "[Parallel(n_jobs=-1)]: Done   3 out of   3 | elapsed:   10.9s finished\n"
     ]
    },
    {
     "name": "stdout",
     "output_type": "stream",
     "text": [
      "\n",
      "Accuracy of Light_GBM: 0.9866000389357903\n",
      "\n",
      "Batchwise_accuracies: [0.9837997586557119, 0.9850005989198319, 0.9880002390878367, 0.9871996789117566, 0.9881998390237919, 0.9866000389357903]\n",
      "\n",
      "Batchwise_Median_Accuracy: 0.9868998589237734\n",
      "\n",
      "Accumulated Accuracies:\n",
      "{'Decision_Tree_Classifier': {'Optuna': [0.972000557871619, 0.970400637759603, 0.9766004782236829, 0.9753995179355486, 0.9763997980715983, 0.9698003976635645, 0.9727983574953676, 0.9761998380635998, 0.9763996780475838, 0.9722006379036318, 0.9600001968393835, 0.9714011579436814, 0.9765997580795966, 0.9666001973674893, 0.9624012772475515, 0.9651992770713566, 0.9723992776474718, 0.9746000379755982, 0.9706005977676013, 0.9702013978956909, 0.9647987569352875, 0.9742008381036878, 0.975799918047603, 0.9691995574474541, 0.9720009179436623, 0.9671977969352108, 0.9741984376233996, 0.977599678143603, 0.977200838343736, 0.9749993578715229], 'HyperOpt': []}, 'XGB_Classifier': {'Optuna': [0.9837992785596542, 0.9836001587197566, 0.9853997987917422, 0.9855996387757262, 0.9869998389277725, 0.9838004787997982, 0.9873995188957406, 0.9878003991038526, 0.9832009588478462, 0.9839994786156815, 0.9807999984636927, 0.985399438719699, 0.984799918767747, 0.9871996789117566, 0.9832005987758029, 0.9865995588397326, 0.9868001189678032, 0.9832005987758029, 0.9839991185436382, 0.9827999586157198, 0.9845995986877054, 0.9859994387677086, 0.9863998388797631, 0.9828005587357919, 0.986399238759691, 0.9865999189117759, 0.983800958895856], 'HyperOpt': []}, 'KNN_Classifier': {'Optuna': [0.9307983541346952, 0.9429984351269001, 0.9375989147908714, 0.9427995553350313, 0.9473977953508937, 0.9524000361992427, 0.9577997965833004, 0.9413977948707978, 0.9552001964553067, 0.9412028758714044, 0.9447987953429723, 0.954599236215182, 0.9533988760471196, 0.9517999161272188, 0.9565985962471372, 0.9619997969193675, 0.9649988369673004, 0.9513983157750202, 0.9639999971194236, 0.952402436679531, 0.9307983541346952, 0.9429984351269001, 0.9375989147908714, 0.9427995553350313, 0.9473977953508937, 0.9524000361992427, 0.9577997965833004, 0.9413977948707978, 0.9552001964553067, 0.9412028758714044], 'HyperOpt': []}, 'Light_GBM': {'Optuna': [0.9837997586557119, 0.9850005989198319, 0.9880002390878367, 0.9871996789117566, 0.9881998390237919, 0.9866000389357903], 'HyperOpt': []}}\n",
      "\n",
      "Logging params and child model\n",
      "\n",
      "Batch 6\n",
      "('\\n'\n",
      " \"Space: {'boosting_type': 'gbdt', 'learning_rate': 0.7595521352826132, \"\n",
      " \"'n_estimators': 148, 'class_weight': 'balanced', 'n_jobs': -1}\")\n"
     ]
    },
    {
     "name": "stderr",
     "output_type": "stream",
     "text": [
      "[Parallel(n_jobs=-1)]: Using backend LokyBackend with 8 concurrent workers.\n",
      "[Parallel(n_jobs=-1)]: Done   3 out of   3 | elapsed:   10.5s finished\n"
     ]
    },
    {
     "name": "stdout",
     "output_type": "stream",
     "text": [
      "\n",
      "Accuracy of Light_GBM: 0.9879995189437504\n",
      "\n",
      "Batchwise_accuracies: [0.9837997586557119, 0.9850005989198319, 0.9880002390878367, 0.9871996789117566, 0.9881998390237919, 0.9866000389357903, 0.9879995189437504]\n",
      "\n",
      "Batchwise_Median_Accuracy: 0.9871996789117566\n",
      "\n",
      "Accumulated Accuracies:\n",
      "{'Decision_Tree_Classifier': {'Optuna': [0.972000557871619, 0.970400637759603, 0.9766004782236829, 0.9753995179355486, 0.9763997980715983, 0.9698003976635645, 0.9727983574953676, 0.9761998380635998, 0.9763996780475838, 0.9722006379036318, 0.9600001968393835, 0.9714011579436814, 0.9765997580795966, 0.9666001973674893, 0.9624012772475515, 0.9651992770713566, 0.9723992776474718, 0.9746000379755982, 0.9706005977676013, 0.9702013978956909, 0.9647987569352875, 0.9742008381036878, 0.975799918047603, 0.9691995574474541, 0.9720009179436623, 0.9671977969352108, 0.9741984376233996, 0.977599678143603, 0.977200838343736, 0.9749993578715229], 'HyperOpt': []}, 'XGB_Classifier': {'Optuna': [0.9837992785596542, 0.9836001587197566, 0.9853997987917422, 0.9855996387757262, 0.9869998389277725, 0.9838004787997982, 0.9873995188957406, 0.9878003991038526, 0.9832009588478462, 0.9839994786156815, 0.9807999984636927, 0.985399438719699, 0.984799918767747, 0.9871996789117566, 0.9832005987758029, 0.9865995588397326, 0.9868001189678032, 0.9832005987758029, 0.9839991185436382, 0.9827999586157198, 0.9845995986877054, 0.9859994387677086, 0.9863998388797631, 0.9828005587357919, 0.986399238759691, 0.9865999189117759, 0.983800958895856], 'HyperOpt': []}, 'KNN_Classifier': {'Optuna': [0.9307983541346952, 0.9429984351269001, 0.9375989147908714, 0.9427995553350313, 0.9473977953508937, 0.9524000361992427, 0.9577997965833004, 0.9413977948707978, 0.9552001964553067, 0.9412028758714044, 0.9447987953429723, 0.954599236215182, 0.9533988760471196, 0.9517999161272188, 0.9565985962471372, 0.9619997969193675, 0.9649988369673004, 0.9513983157750202, 0.9639999971194236, 0.952402436679531, 0.9307983541346952, 0.9429984351269001, 0.9375989147908714, 0.9427995553350313, 0.9473977953508937, 0.9524000361992427, 0.9577997965833004, 0.9413977948707978, 0.9552001964553067, 0.9412028758714044], 'HyperOpt': []}, 'Light_GBM': {'Optuna': [0.9837997586557119, 0.9850005989198319, 0.9880002390878367, 0.9871996789117566, 0.9881998390237919, 0.9866000389357903, 0.9879995189437504], 'HyperOpt': []}}\n",
      "\n",
      "Logging params and child model\n",
      "\n",
      "Batch 7\n",
      "('\\n'\n",
      " \"Space: {'boosting_type': 'gbdt', 'learning_rate': 0.7595521352826132, \"\n",
      " \"'n_estimators': 148, 'class_weight': 'balanced', 'n_jobs': -1}\")\n"
     ]
    },
    {
     "name": "stderr",
     "output_type": "stream",
     "text": [
      "[Parallel(n_jobs=-1)]: Using backend LokyBackend with 8 concurrent workers.\n",
      "[Parallel(n_jobs=-1)]: Done   3 out of   3 | elapsed:   10.8s finished\n"
     ]
    },
    {
     "name": "stdout",
     "output_type": "stream",
     "text": [
      "\n",
      "Accuracy of Light_GBM: 0.9865999189117759\n",
      "\n",
      "Batchwise_accuracies: [0.9837997586557119, 0.9850005989198319, 0.9880002390878367, 0.9871996789117566, 0.9881998390237919, 0.9866000389357903, 0.9879995189437504, 0.9865999189117759]\n",
      "\n",
      "Batchwise_Median_Accuracy: 0.9868998589237734\n",
      "\n",
      "Accumulated Accuracies:\n",
      "{'Decision_Tree_Classifier': {'Optuna': [0.972000557871619, 0.970400637759603, 0.9766004782236829, 0.9753995179355486, 0.9763997980715983, 0.9698003976635645, 0.9727983574953676, 0.9761998380635998, 0.9763996780475838, 0.9722006379036318, 0.9600001968393835, 0.9714011579436814, 0.9765997580795966, 0.9666001973674893, 0.9624012772475515, 0.9651992770713566, 0.9723992776474718, 0.9746000379755982, 0.9706005977676013, 0.9702013978956909, 0.9647987569352875, 0.9742008381036878, 0.975799918047603, 0.9691995574474541, 0.9720009179436623, 0.9671977969352108, 0.9741984376233996, 0.977599678143603, 0.977200838343736, 0.9749993578715229], 'HyperOpt': []}, 'XGB_Classifier': {'Optuna': [0.9837992785596542, 0.9836001587197566, 0.9853997987917422, 0.9855996387757262, 0.9869998389277725, 0.9838004787997982, 0.9873995188957406, 0.9878003991038526, 0.9832009588478462, 0.9839994786156815, 0.9807999984636927, 0.985399438719699, 0.984799918767747, 0.9871996789117566, 0.9832005987758029, 0.9865995588397326, 0.9868001189678032, 0.9832005987758029, 0.9839991185436382, 0.9827999586157198, 0.9845995986877054, 0.9859994387677086, 0.9863998388797631, 0.9828005587357919, 0.986399238759691, 0.9865999189117759, 0.983800958895856], 'HyperOpt': []}, 'KNN_Classifier': {'Optuna': [0.9307983541346952, 0.9429984351269001, 0.9375989147908714, 0.9427995553350313, 0.9473977953508937, 0.9524000361992427, 0.9577997965833004, 0.9413977948707978, 0.9552001964553067, 0.9412028758714044, 0.9447987953429723, 0.954599236215182, 0.9533988760471196, 0.9517999161272188, 0.9565985962471372, 0.9619997969193675, 0.9649988369673004, 0.9513983157750202, 0.9639999971194236, 0.952402436679531, 0.9307983541346952, 0.9429984351269001, 0.9375989147908714, 0.9427995553350313, 0.9473977953508937, 0.9524000361992427, 0.9577997965833004, 0.9413977948707978, 0.9552001964553067, 0.9412028758714044], 'HyperOpt': []}, 'Light_GBM': {'Optuna': [0.9837997586557119, 0.9850005989198319, 0.9880002390878367, 0.9871996789117566, 0.9881998390237919, 0.9866000389357903, 0.9879995189437504, 0.9865999189117759], 'HyperOpt': []}}\n",
      "\n",
      "Logging params and child model\n",
      "\n",
      "Batch 8\n",
      "('\\n'\n",
      " \"Space: {'boosting_type': 'gbdt', 'learning_rate': 0.7595521352826132, \"\n",
      " \"'n_estimators': 148, 'class_weight': 'balanced', 'n_jobs': -1}\")\n"
     ]
    },
    {
     "name": "stderr",
     "output_type": "stream",
     "text": [
      "[Parallel(n_jobs=-1)]: Using backend LokyBackend with 8 concurrent workers.\n",
      "[Parallel(n_jobs=-1)]: Done   3 out of   3 | elapsed:   11.4s finished\n"
     ]
    },
    {
     "name": "stdout",
     "output_type": "stream",
     "text": [
      "\n",
      "Accuracy of Light_GBM: 0.9850007189438462\n",
      "\n",
      "Batchwise_accuracies: [0.9837997586557119, 0.9850005989198319, 0.9880002390878367, 0.9871996789117566, 0.9881998390237919, 0.9866000389357903, 0.9879995189437504, 0.9865999189117759, 0.9850007189438462]\n",
      "\n",
      "Batchwise_Median_Accuracy: 0.9866000389357903\n",
      "\n",
      "Accumulated Accuracies:\n",
      "{'Decision_Tree_Classifier': {'Optuna': [0.972000557871619, 0.970400637759603, 0.9766004782236829, 0.9753995179355486, 0.9763997980715983, 0.9698003976635645, 0.9727983574953676, 0.9761998380635998, 0.9763996780475838, 0.9722006379036318, 0.9600001968393835, 0.9714011579436814, 0.9765997580795966, 0.9666001973674893, 0.9624012772475515, 0.9651992770713566, 0.9723992776474718, 0.9746000379755982, 0.9706005977676013, 0.9702013978956909, 0.9647987569352875, 0.9742008381036878, 0.975799918047603, 0.9691995574474541, 0.9720009179436623, 0.9671977969352108, 0.9741984376233996, 0.977599678143603, 0.977200838343736, 0.9749993578715229], 'HyperOpt': []}, 'XGB_Classifier': {'Optuna': [0.9837992785596542, 0.9836001587197566, 0.9853997987917422, 0.9855996387757262, 0.9869998389277725, 0.9838004787997982, 0.9873995188957406, 0.9878003991038526, 0.9832009588478462, 0.9839994786156815, 0.9807999984636927, 0.985399438719699, 0.984799918767747, 0.9871996789117566, 0.9832005987758029, 0.9865995588397326, 0.9868001189678032, 0.9832005987758029, 0.9839991185436382, 0.9827999586157198, 0.9845995986877054, 0.9859994387677086, 0.9863998388797631, 0.9828005587357919, 0.986399238759691, 0.9865999189117759, 0.983800958895856], 'HyperOpt': []}, 'KNN_Classifier': {'Optuna': [0.9307983541346952, 0.9429984351269001, 0.9375989147908714, 0.9427995553350313, 0.9473977953508937, 0.9524000361992427, 0.9577997965833004, 0.9413977948707978, 0.9552001964553067, 0.9412028758714044, 0.9447987953429723, 0.954599236215182, 0.9533988760471196, 0.9517999161272188, 0.9565985962471372, 0.9619997969193675, 0.9649988369673004, 0.9513983157750202, 0.9639999971194236, 0.952402436679531, 0.9307983541346952, 0.9429984351269001, 0.9375989147908714, 0.9427995553350313, 0.9473977953508937, 0.9524000361992427, 0.9577997965833004, 0.9413977948707978, 0.9552001964553067, 0.9412028758714044], 'HyperOpt': []}, 'Light_GBM': {'Optuna': [0.9837997586557119, 0.9850005989198319, 0.9880002390878367, 0.9871996789117566, 0.9881998390237919, 0.9866000389357903, 0.9879995189437504, 0.9865999189117759, 0.9850007189438462], 'HyperOpt': []}}\n",
      "\n",
      "Logging params and child model\n"
     ]
    },
    {
     "name": "stderr",
     "output_type": "stream",
     "text": [
      "[I 2024-01-31 08:30:03,807] Trial 0 pruned. \n"
     ]
    },
    {
     "name": "stdout",
     "output_type": "stream",
     "text": [
      "\n",
      "**************\n",
      "Trial_Number: 1\n",
      "**************\n",
      "\n",
      "Batch 0\n",
      "('\\n'\n",
      " \"Space: {'boosting_type': 'dart', 'learning_rate': 0.18130866415578073, \"\n",
      " \"'n_estimators': 121, 'class_weight': 'balanced', 'n_jobs': -1}\")\n"
     ]
    },
    {
     "name": "stderr",
     "output_type": "stream",
     "text": [
      "[Parallel(n_jobs=-1)]: Using backend LokyBackend with 8 concurrent workers.\n",
      "[Parallel(n_jobs=-1)]: Done   3 out of   3 | elapsed:   17.0s finished\n"
     ]
    },
    {
     "name": "stdout",
     "output_type": "stream",
     "text": [
      "\n",
      "Accuracy of Light_GBM: 0.9843991585836495\n",
      "\n",
      "Batchwise_accuracies: [0.9843991585836495]\n",
      "\n",
      "Batchwise_Median_Accuracy: 0.9843991585836495\n",
      "\n",
      "Accumulated Accuracies:\n",
      "{'Decision_Tree_Classifier': {'Optuna': [0.972000557871619, 0.970400637759603, 0.9766004782236829, 0.9753995179355486, 0.9763997980715983, 0.9698003976635645, 0.9727983574953676, 0.9761998380635998, 0.9763996780475838, 0.9722006379036318, 0.9600001968393835, 0.9714011579436814, 0.9765997580795966, 0.9666001973674893, 0.9624012772475515, 0.9651992770713566, 0.9723992776474718, 0.9746000379755982, 0.9706005977676013, 0.9702013978956909, 0.9647987569352875, 0.9742008381036878, 0.975799918047603, 0.9691995574474541, 0.9720009179436623, 0.9671977969352108, 0.9741984376233996, 0.977599678143603, 0.977200838343736, 0.9749993578715229], 'HyperOpt': []}, 'XGB_Classifier': {'Optuna': [0.9837992785596542, 0.9836001587197566, 0.9853997987917422, 0.9855996387757262, 0.9869998389277725, 0.9838004787997982, 0.9873995188957406, 0.9878003991038526, 0.9832009588478462, 0.9839994786156815, 0.9807999984636927, 0.985399438719699, 0.984799918767747, 0.9871996789117566, 0.9832005987758029, 0.9865995588397326, 0.9868001189678032, 0.9832005987758029, 0.9839991185436382, 0.9827999586157198, 0.9845995986877054, 0.9859994387677086, 0.9863998388797631, 0.9828005587357919, 0.986399238759691, 0.9865999189117759, 0.983800958895856], 'HyperOpt': []}, 'KNN_Classifier': {'Optuna': [0.9307983541346952, 0.9429984351269001, 0.9375989147908714, 0.9427995553350313, 0.9473977953508937, 0.9524000361992427, 0.9577997965833004, 0.9413977948707978, 0.9552001964553067, 0.9412028758714044, 0.9447987953429723, 0.954599236215182, 0.9533988760471196, 0.9517999161272188, 0.9565985962471372, 0.9619997969193675, 0.9649988369673004, 0.9513983157750202, 0.9639999971194236, 0.952402436679531, 0.9307983541346952, 0.9429984351269001, 0.9375989147908714, 0.9427995553350313, 0.9473977953508937, 0.9524000361992427, 0.9577997965833004, 0.9413977948707978, 0.9552001964553067, 0.9412028758714044], 'HyperOpt': []}, 'Light_GBM': {'Optuna': [0.9837997586557119, 0.9850005989198319, 0.9880002390878367, 0.9871996789117566, 0.9881998390237919, 0.9866000389357903, 0.9879995189437504, 0.9865999189117759, 0.9850007189438462, 0.9843991585836495], 'HyperOpt': []}}\n",
      "\n",
      "Logging params and child model\n",
      "\n",
      "Batch 1\n",
      "('\\n'\n",
      " \"Space: {'boosting_type': 'dart', 'learning_rate': 0.18130866415578073, \"\n",
      " \"'n_estimators': 121, 'class_weight': 'balanced', 'n_jobs': -1}\")\n"
     ]
    },
    {
     "name": "stderr",
     "output_type": "stream",
     "text": [
      "[Parallel(n_jobs=-1)]: Using backend LokyBackend with 8 concurrent workers.\n",
      "[Parallel(n_jobs=-1)]: Done   3 out of   3 | elapsed:   13.1s finished\n"
     ]
    },
    {
     "name": "stdout",
     "output_type": "stream",
     "text": [
      "\n",
      "Accuracy of Light_GBM: 0.9844001187757647\n",
      "\n",
      "Batchwise_accuracies: [0.9843991585836495, 0.9844001187757647]\n",
      "\n",
      "Batchwise_Median_Accuracy: 0.9843996386797071\n",
      "\n",
      "Accumulated Accuracies:\n",
      "{'Decision_Tree_Classifier': {'Optuna': [0.972000557871619, 0.970400637759603, 0.9766004782236829, 0.9753995179355486, 0.9763997980715983, 0.9698003976635645, 0.9727983574953676, 0.9761998380635998, 0.9763996780475838, 0.9722006379036318, 0.9600001968393835, 0.9714011579436814, 0.9765997580795966, 0.9666001973674893, 0.9624012772475515, 0.9651992770713566, 0.9723992776474718, 0.9746000379755982, 0.9706005977676013, 0.9702013978956909, 0.9647987569352875, 0.9742008381036878, 0.975799918047603, 0.9691995574474541, 0.9720009179436623, 0.9671977969352108, 0.9741984376233996, 0.977599678143603, 0.977200838343736, 0.9749993578715229], 'HyperOpt': []}, 'XGB_Classifier': {'Optuna': [0.9837992785596542, 0.9836001587197566, 0.9853997987917422, 0.9855996387757262, 0.9869998389277725, 0.9838004787997982, 0.9873995188957406, 0.9878003991038526, 0.9832009588478462, 0.9839994786156815, 0.9807999984636927, 0.985399438719699, 0.984799918767747, 0.9871996789117566, 0.9832005987758029, 0.9865995588397326, 0.9868001189678032, 0.9832005987758029, 0.9839991185436382, 0.9827999586157198, 0.9845995986877054, 0.9859994387677086, 0.9863998388797631, 0.9828005587357919, 0.986399238759691, 0.9865999189117759, 0.983800958895856], 'HyperOpt': []}, 'KNN_Classifier': {'Optuna': [0.9307983541346952, 0.9429984351269001, 0.9375989147908714, 0.9427995553350313, 0.9473977953508937, 0.9524000361992427, 0.9577997965833004, 0.9413977948707978, 0.9552001964553067, 0.9412028758714044, 0.9447987953429723, 0.954599236215182, 0.9533988760471196, 0.9517999161272188, 0.9565985962471372, 0.9619997969193675, 0.9649988369673004, 0.9513983157750202, 0.9639999971194236, 0.952402436679531, 0.9307983541346952, 0.9429984351269001, 0.9375989147908714, 0.9427995553350313, 0.9473977953508937, 0.9524000361992427, 0.9577997965833004, 0.9413977948707978, 0.9552001964553067, 0.9412028758714044], 'HyperOpt': []}, 'Light_GBM': {'Optuna': [0.9837997586557119, 0.9850005989198319, 0.9880002390878367, 0.9871996789117566, 0.9881998390237919, 0.9866000389357903, 0.9879995189437504, 0.9865999189117759, 0.9850007189438462, 0.9843991585836495, 0.9844001187757647], 'HyperOpt': []}}\n",
      "\n",
      "Logging params and child model\n",
      "\n",
      "Batch 2\n",
      "('\\n'\n",
      " \"Space: {'boosting_type': 'dart', 'learning_rate': 0.18130866415578073, \"\n",
      " \"'n_estimators': 121, 'class_weight': 'balanced', 'n_jobs': -1}\")\n"
     ]
    },
    {
     "name": "stderr",
     "output_type": "stream",
     "text": [
      "[Parallel(n_jobs=-1)]: Using backend LokyBackend with 8 concurrent workers.\n",
      "[Parallel(n_jobs=-1)]: Done   3 out of   3 | elapsed:   13.8s finished\n"
     ]
    },
    {
     "name": "stdout",
     "output_type": "stream",
     "text": [
      "\n",
      "Accuracy of Light_GBM: 0.9873996389197551\n",
      "\n",
      "Batchwise_accuracies: [0.9843991585836495, 0.9844001187757647, 0.9873996389197551]\n",
      "\n",
      "Batchwise_Median_Accuracy: 0.9844001187757647\n",
      "\n",
      "Accumulated Accuracies:\n",
      "{'Decision_Tree_Classifier': {'Optuna': [0.972000557871619, 0.970400637759603, 0.9766004782236829, 0.9753995179355486, 0.9763997980715983, 0.9698003976635645, 0.9727983574953676, 0.9761998380635998, 0.9763996780475838, 0.9722006379036318, 0.9600001968393835, 0.9714011579436814, 0.9765997580795966, 0.9666001973674893, 0.9624012772475515, 0.9651992770713566, 0.9723992776474718, 0.9746000379755982, 0.9706005977676013, 0.9702013978956909, 0.9647987569352875, 0.9742008381036878, 0.975799918047603, 0.9691995574474541, 0.9720009179436623, 0.9671977969352108, 0.9741984376233996, 0.977599678143603, 0.977200838343736, 0.9749993578715229], 'HyperOpt': []}, 'XGB_Classifier': {'Optuna': [0.9837992785596542, 0.9836001587197566, 0.9853997987917422, 0.9855996387757262, 0.9869998389277725, 0.9838004787997982, 0.9873995188957406, 0.9878003991038526, 0.9832009588478462, 0.9839994786156815, 0.9807999984636927, 0.985399438719699, 0.984799918767747, 0.9871996789117566, 0.9832005987758029, 0.9865995588397326, 0.9868001189678032, 0.9832005987758029, 0.9839991185436382, 0.9827999586157198, 0.9845995986877054, 0.9859994387677086, 0.9863998388797631, 0.9828005587357919, 0.986399238759691, 0.9865999189117759, 0.983800958895856], 'HyperOpt': []}, 'KNN_Classifier': {'Optuna': [0.9307983541346952, 0.9429984351269001, 0.9375989147908714, 0.9427995553350313, 0.9473977953508937, 0.9524000361992427, 0.9577997965833004, 0.9413977948707978, 0.9552001964553067, 0.9412028758714044, 0.9447987953429723, 0.954599236215182, 0.9533988760471196, 0.9517999161272188, 0.9565985962471372, 0.9619997969193675, 0.9649988369673004, 0.9513983157750202, 0.9639999971194236, 0.952402436679531, 0.9307983541346952, 0.9429984351269001, 0.9375989147908714, 0.9427995553350313, 0.9473977953508937, 0.9524000361992427, 0.9577997965833004, 0.9413977948707978, 0.9552001964553067, 0.9412028758714044], 'HyperOpt': []}, 'Light_GBM': {'Optuna': [0.9837997586557119, 0.9850005989198319, 0.9880002390878367, 0.9871996789117566, 0.9881998390237919, 0.9866000389357903, 0.9879995189437504, 0.9865999189117759, 0.9850007189438462, 0.9843991585836495, 0.9844001187757647, 0.9873996389197551], 'HyperOpt': []}}\n",
      "\n",
      "Logging params and child model\n",
      "\n",
      "Batch 3\n",
      "('\\n'\n",
      " \"Space: {'boosting_type': 'dart', 'learning_rate': 0.18130866415578073, \"\n",
      " \"'n_estimators': 121, 'class_weight': 'balanced', 'n_jobs': -1}\")\n"
     ]
    },
    {
     "name": "stderr",
     "output_type": "stream",
     "text": [
      "[Parallel(n_jobs=-1)]: Using backend LokyBackend with 8 concurrent workers.\n",
      "[Parallel(n_jobs=-1)]: Done   3 out of   3 | elapsed:   13.7s finished\n"
     ]
    },
    {
     "name": "stdout",
     "output_type": "stream",
     "text": [
      "\n",
      "Accuracy of Light_GBM: 0.9859999188637664\n",
      "\n",
      "Batchwise_accuracies: [0.9843991585836495, 0.9844001187757647, 0.9873996389197551, 0.9859999188637664]\n",
      "\n",
      "Batchwise_Median_Accuracy: 0.9852000188197656\n",
      "\n",
      "Accumulated Accuracies:\n",
      "{'Decision_Tree_Classifier': {'Optuna': [0.972000557871619, 0.970400637759603, 0.9766004782236829, 0.9753995179355486, 0.9763997980715983, 0.9698003976635645, 0.9727983574953676, 0.9761998380635998, 0.9763996780475838, 0.9722006379036318, 0.9600001968393835, 0.9714011579436814, 0.9765997580795966, 0.9666001973674893, 0.9624012772475515, 0.9651992770713566, 0.9723992776474718, 0.9746000379755982, 0.9706005977676013, 0.9702013978956909, 0.9647987569352875, 0.9742008381036878, 0.975799918047603, 0.9691995574474541, 0.9720009179436623, 0.9671977969352108, 0.9741984376233996, 0.977599678143603, 0.977200838343736, 0.9749993578715229], 'HyperOpt': []}, 'XGB_Classifier': {'Optuna': [0.9837992785596542, 0.9836001587197566, 0.9853997987917422, 0.9855996387757262, 0.9869998389277725, 0.9838004787997982, 0.9873995188957406, 0.9878003991038526, 0.9832009588478462, 0.9839994786156815, 0.9807999984636927, 0.985399438719699, 0.984799918767747, 0.9871996789117566, 0.9832005987758029, 0.9865995588397326, 0.9868001189678032, 0.9832005987758029, 0.9839991185436382, 0.9827999586157198, 0.9845995986877054, 0.9859994387677086, 0.9863998388797631, 0.9828005587357919, 0.986399238759691, 0.9865999189117759, 0.983800958895856], 'HyperOpt': []}, 'KNN_Classifier': {'Optuna': [0.9307983541346952, 0.9429984351269001, 0.9375989147908714, 0.9427995553350313, 0.9473977953508937, 0.9524000361992427, 0.9577997965833004, 0.9413977948707978, 0.9552001964553067, 0.9412028758714044, 0.9447987953429723, 0.954599236215182, 0.9533988760471196, 0.9517999161272188, 0.9565985962471372, 0.9619997969193675, 0.9649988369673004, 0.9513983157750202, 0.9639999971194236, 0.952402436679531, 0.9307983541346952, 0.9429984351269001, 0.9375989147908714, 0.9427995553350313, 0.9473977953508937, 0.9524000361992427, 0.9577997965833004, 0.9413977948707978, 0.9552001964553067, 0.9412028758714044], 'HyperOpt': []}, 'Light_GBM': {'Optuna': [0.9837997586557119, 0.9850005989198319, 0.9880002390878367, 0.9871996789117566, 0.9881998390237919, 0.9866000389357903, 0.9879995189437504, 0.9865999189117759, 0.9850007189438462, 0.9843991585836495, 0.9844001187757647, 0.9873996389197551, 0.9859999188637664], 'HyperOpt': []}}\n",
      "\n",
      "Logging params and child model\n",
      "\n",
      "Batch 4\n",
      "('\\n'\n",
      " \"Space: {'boosting_type': 'dart', 'learning_rate': 0.18130866415578073, \"\n",
      " \"'n_estimators': 121, 'class_weight': 'balanced', 'n_jobs': -1}\")\n"
     ]
    },
    {
     "name": "stderr",
     "output_type": "stream",
     "text": [
      "[Parallel(n_jobs=-1)]: Using backend LokyBackend with 8 concurrent workers.\n",
      "[Parallel(n_jobs=-1)]: Done   3 out of   3 | elapsed:   12.5s finished\n"
     ]
    },
    {
     "name": "stdout",
     "output_type": "stream",
     "text": [
      "\n",
      "Accuracy of Light_GBM: 0.9867998789197743\n",
      "\n",
      "Batchwise_accuracies: [0.9843991585836495, 0.9844001187757647, 0.9873996389197551, 0.9859999188637664, 0.9867998789197743]\n",
      "\n",
      "Batchwise_Median_Accuracy: 0.9859999188637664\n",
      "\n",
      "Accumulated Accuracies:\n",
      "{'Decision_Tree_Classifier': {'Optuna': [0.972000557871619, 0.970400637759603, 0.9766004782236829, 0.9753995179355486, 0.9763997980715983, 0.9698003976635645, 0.9727983574953676, 0.9761998380635998, 0.9763996780475838, 0.9722006379036318, 0.9600001968393835, 0.9714011579436814, 0.9765997580795966, 0.9666001973674893, 0.9624012772475515, 0.9651992770713566, 0.9723992776474718, 0.9746000379755982, 0.9706005977676013, 0.9702013978956909, 0.9647987569352875, 0.9742008381036878, 0.975799918047603, 0.9691995574474541, 0.9720009179436623, 0.9671977969352108, 0.9741984376233996, 0.977599678143603, 0.977200838343736, 0.9749993578715229], 'HyperOpt': []}, 'XGB_Classifier': {'Optuna': [0.9837992785596542, 0.9836001587197566, 0.9853997987917422, 0.9855996387757262, 0.9869998389277725, 0.9838004787997982, 0.9873995188957406, 0.9878003991038526, 0.9832009588478462, 0.9839994786156815, 0.9807999984636927, 0.985399438719699, 0.984799918767747, 0.9871996789117566, 0.9832005987758029, 0.9865995588397326, 0.9868001189678032, 0.9832005987758029, 0.9839991185436382, 0.9827999586157198, 0.9845995986877054, 0.9859994387677086, 0.9863998388797631, 0.9828005587357919, 0.986399238759691, 0.9865999189117759, 0.983800958895856], 'HyperOpt': []}, 'KNN_Classifier': {'Optuna': [0.9307983541346952, 0.9429984351269001, 0.9375989147908714, 0.9427995553350313, 0.9473977953508937, 0.9524000361992427, 0.9577997965833004, 0.9413977948707978, 0.9552001964553067, 0.9412028758714044, 0.9447987953429723, 0.954599236215182, 0.9533988760471196, 0.9517999161272188, 0.9565985962471372, 0.9619997969193675, 0.9649988369673004, 0.9513983157750202, 0.9639999971194236, 0.952402436679531, 0.9307983541346952, 0.9429984351269001, 0.9375989147908714, 0.9427995553350313, 0.9473977953508937, 0.9524000361992427, 0.9577997965833004, 0.9413977948707978, 0.9552001964553067, 0.9412028758714044], 'HyperOpt': []}, 'Light_GBM': {'Optuna': [0.9837997586557119, 0.9850005989198319, 0.9880002390878367, 0.9871996789117566, 0.9881998390237919, 0.9866000389357903, 0.9879995189437504, 0.9865999189117759, 0.9850007189438462, 0.9843991585836495, 0.9844001187757647, 0.9873996389197551, 0.9859999188637664, 0.9867998789197743], 'HyperOpt': []}}\n",
      "\n",
      "Logging params and child model\n",
      "\n",
      "Batch 5\n",
      "('\\n'\n",
      " \"Space: {'boosting_type': 'dart', 'learning_rate': 0.18130866415578073, \"\n",
      " \"'n_estimators': 121, 'class_weight': 'balanced', 'n_jobs': -1}\")\n"
     ]
    },
    {
     "name": "stderr",
     "output_type": "stream",
     "text": [
      "[Parallel(n_jobs=-1)]: Using backend LokyBackend with 8 concurrent workers.\n",
      "[Parallel(n_jobs=-1)]: Done   3 out of   3 | elapsed:   12.6s finished\n"
     ]
    },
    {
     "name": "stdout",
     "output_type": "stream",
     "text": [
      "\n",
      "Accuracy of Light_GBM: 0.9862004789918366\n",
      "\n",
      "Batchwise_accuracies: [0.9843991585836495, 0.9844001187757647, 0.9873996389197551, 0.9859999188637664, 0.9867998789197743, 0.9862004789918366]\n",
      "\n",
      "Batchwise_Median_Accuracy: 0.9861001989278015\n",
      "\n",
      "Accumulated Accuracies:\n",
      "{'Decision_Tree_Classifier': {'Optuna': [0.972000557871619, 0.970400637759603, 0.9766004782236829, 0.9753995179355486, 0.9763997980715983, 0.9698003976635645, 0.9727983574953676, 0.9761998380635998, 0.9763996780475838, 0.9722006379036318, 0.9600001968393835, 0.9714011579436814, 0.9765997580795966, 0.9666001973674893, 0.9624012772475515, 0.9651992770713566, 0.9723992776474718, 0.9746000379755982, 0.9706005977676013, 0.9702013978956909, 0.9647987569352875, 0.9742008381036878, 0.975799918047603, 0.9691995574474541, 0.9720009179436623, 0.9671977969352108, 0.9741984376233996, 0.977599678143603, 0.977200838343736, 0.9749993578715229], 'HyperOpt': []}, 'XGB_Classifier': {'Optuna': [0.9837992785596542, 0.9836001587197566, 0.9853997987917422, 0.9855996387757262, 0.9869998389277725, 0.9838004787997982, 0.9873995188957406, 0.9878003991038526, 0.9832009588478462, 0.9839994786156815, 0.9807999984636927, 0.985399438719699, 0.984799918767747, 0.9871996789117566, 0.9832005987758029, 0.9865995588397326, 0.9868001189678032, 0.9832005987758029, 0.9839991185436382, 0.9827999586157198, 0.9845995986877054, 0.9859994387677086, 0.9863998388797631, 0.9828005587357919, 0.986399238759691, 0.9865999189117759, 0.983800958895856], 'HyperOpt': []}, 'KNN_Classifier': {'Optuna': [0.9307983541346952, 0.9429984351269001, 0.9375989147908714, 0.9427995553350313, 0.9473977953508937, 0.9524000361992427, 0.9577997965833004, 0.9413977948707978, 0.9552001964553067, 0.9412028758714044, 0.9447987953429723, 0.954599236215182, 0.9533988760471196, 0.9517999161272188, 0.9565985962471372, 0.9619997969193675, 0.9649988369673004, 0.9513983157750202, 0.9639999971194236, 0.952402436679531, 0.9307983541346952, 0.9429984351269001, 0.9375989147908714, 0.9427995553350313, 0.9473977953508937, 0.9524000361992427, 0.9577997965833004, 0.9413977948707978, 0.9552001964553067, 0.9412028758714044], 'HyperOpt': []}, 'Light_GBM': {'Optuna': [0.9837997586557119, 0.9850005989198319, 0.9880002390878367, 0.9871996789117566, 0.9881998390237919, 0.9866000389357903, 0.9879995189437504, 0.9865999189117759, 0.9850007189438462, 0.9843991585836495, 0.9844001187757647, 0.9873996389197551, 0.9859999188637664, 0.9867998789197743, 0.9862004789918366], 'HyperOpt': []}}\n",
      "\n",
      "Logging params and child model\n",
      "\n",
      "Batch 6\n",
      "('\\n'\n",
      " \"Space: {'boosting_type': 'dart', 'learning_rate': 0.18130866415578073, \"\n",
      " \"'n_estimators': 121, 'class_weight': 'balanced', 'n_jobs': -1}\")\n"
     ]
    },
    {
     "name": "stderr",
     "output_type": "stream",
     "text": [
      "[Parallel(n_jobs=-1)]: Using backend LokyBackend with 8 concurrent workers.\n",
      "[Parallel(n_jobs=-1)]: Done   3 out of   3 | elapsed:   12.3s finished\n"
     ]
    },
    {
     "name": "stdout",
     "output_type": "stream",
     "text": [
      "\n",
      "Accuracy of Light_GBM: 0.9865993187917038\n",
      "\n",
      "Batchwise_accuracies: [0.9843991585836495, 0.9844001187757647, 0.9873996389197551, 0.9859999188637664, 0.9867998789197743, 0.9862004789918366, 0.9865993187917038]\n",
      "\n",
      "Batchwise_Median_Accuracy: 0.9862004789918366\n",
      "\n",
      "Accumulated Accuracies:\n",
      "{'Decision_Tree_Classifier': {'Optuna': [0.972000557871619, 0.970400637759603, 0.9766004782236829, 0.9753995179355486, 0.9763997980715983, 0.9698003976635645, 0.9727983574953676, 0.9761998380635998, 0.9763996780475838, 0.9722006379036318, 0.9600001968393835, 0.9714011579436814, 0.9765997580795966, 0.9666001973674893, 0.9624012772475515, 0.9651992770713566, 0.9723992776474718, 0.9746000379755982, 0.9706005977676013, 0.9702013978956909, 0.9647987569352875, 0.9742008381036878, 0.975799918047603, 0.9691995574474541, 0.9720009179436623, 0.9671977969352108, 0.9741984376233996, 0.977599678143603, 0.977200838343736, 0.9749993578715229], 'HyperOpt': []}, 'XGB_Classifier': {'Optuna': [0.9837992785596542, 0.9836001587197566, 0.9853997987917422, 0.9855996387757262, 0.9869998389277725, 0.9838004787997982, 0.9873995188957406, 0.9878003991038526, 0.9832009588478462, 0.9839994786156815, 0.9807999984636927, 0.985399438719699, 0.984799918767747, 0.9871996789117566, 0.9832005987758029, 0.9865995588397326, 0.9868001189678032, 0.9832005987758029, 0.9839991185436382, 0.9827999586157198, 0.9845995986877054, 0.9859994387677086, 0.9863998388797631, 0.9828005587357919, 0.986399238759691, 0.9865999189117759, 0.983800958895856], 'HyperOpt': []}, 'KNN_Classifier': {'Optuna': [0.9307983541346952, 0.9429984351269001, 0.9375989147908714, 0.9427995553350313, 0.9473977953508937, 0.9524000361992427, 0.9577997965833004, 0.9413977948707978, 0.9552001964553067, 0.9412028758714044, 0.9447987953429723, 0.954599236215182, 0.9533988760471196, 0.9517999161272188, 0.9565985962471372, 0.9619997969193675, 0.9649988369673004, 0.9513983157750202, 0.9639999971194236, 0.952402436679531, 0.9307983541346952, 0.9429984351269001, 0.9375989147908714, 0.9427995553350313, 0.9473977953508937, 0.9524000361992427, 0.9577997965833004, 0.9413977948707978, 0.9552001964553067, 0.9412028758714044], 'HyperOpt': []}, 'Light_GBM': {'Optuna': [0.9837997586557119, 0.9850005989198319, 0.9880002390878367, 0.9871996789117566, 0.9881998390237919, 0.9866000389357903, 0.9879995189437504, 0.9865999189117759, 0.9850007189438462, 0.9843991585836495, 0.9844001187757647, 0.9873996389197551, 0.9859999188637664, 0.9867998789197743, 0.9862004789918366, 0.9865993187917038], 'HyperOpt': []}}\n",
      "\n",
      "Logging params and child model\n",
      "\n",
      "Batch 7\n",
      "('\\n'\n",
      " \"Space: {'boosting_type': 'dart', 'learning_rate': 0.18130866415578073, \"\n",
      " \"'n_estimators': 121, 'class_weight': 'balanced', 'n_jobs': -1}\")\n"
     ]
    },
    {
     "name": "stderr",
     "output_type": "stream",
     "text": [
      "[Parallel(n_jobs=-1)]: Using backend LokyBackend with 8 concurrent workers.\n",
      "[Parallel(n_jobs=-1)]: Done   3 out of   3 | elapsed:   14.2s finished\n"
     ]
    },
    {
     "name": "stdout",
     "output_type": "stream",
     "text": [
      "\n",
      "Accuracy of Light_GBM: 0.9853999188157566\n",
      "\n",
      "Batchwise_accuracies: [0.9843991585836495, 0.9844001187757647, 0.9873996389197551, 0.9859999188637664, 0.9867998789197743, 0.9862004789918366, 0.9865993187917038, 0.9853999188157566]\n",
      "\n",
      "Batchwise_Median_Accuracy: 0.9861001989278015\n",
      "\n",
      "Accumulated Accuracies:\n",
      "{'Decision_Tree_Classifier': {'Optuna': [0.972000557871619, 0.970400637759603, 0.9766004782236829, 0.9753995179355486, 0.9763997980715983, 0.9698003976635645, 0.9727983574953676, 0.9761998380635998, 0.9763996780475838, 0.9722006379036318, 0.9600001968393835, 0.9714011579436814, 0.9765997580795966, 0.9666001973674893, 0.9624012772475515, 0.9651992770713566, 0.9723992776474718, 0.9746000379755982, 0.9706005977676013, 0.9702013978956909, 0.9647987569352875, 0.9742008381036878, 0.975799918047603, 0.9691995574474541, 0.9720009179436623, 0.9671977969352108, 0.9741984376233996, 0.977599678143603, 0.977200838343736, 0.9749993578715229], 'HyperOpt': []}, 'XGB_Classifier': {'Optuna': [0.9837992785596542, 0.9836001587197566, 0.9853997987917422, 0.9855996387757262, 0.9869998389277725, 0.9838004787997982, 0.9873995188957406, 0.9878003991038526, 0.9832009588478462, 0.9839994786156815, 0.9807999984636927, 0.985399438719699, 0.984799918767747, 0.9871996789117566, 0.9832005987758029, 0.9865995588397326, 0.9868001189678032, 0.9832005987758029, 0.9839991185436382, 0.9827999586157198, 0.9845995986877054, 0.9859994387677086, 0.9863998388797631, 0.9828005587357919, 0.986399238759691, 0.9865999189117759, 0.983800958895856], 'HyperOpt': []}, 'KNN_Classifier': {'Optuna': [0.9307983541346952, 0.9429984351269001, 0.9375989147908714, 0.9427995553350313, 0.9473977953508937, 0.9524000361992427, 0.9577997965833004, 0.9413977948707978, 0.9552001964553067, 0.9412028758714044, 0.9447987953429723, 0.954599236215182, 0.9533988760471196, 0.9517999161272188, 0.9565985962471372, 0.9619997969193675, 0.9649988369673004, 0.9513983157750202, 0.9639999971194236, 0.952402436679531, 0.9307983541346952, 0.9429984351269001, 0.9375989147908714, 0.9427995553350313, 0.9473977953508937, 0.9524000361992427, 0.9577997965833004, 0.9413977948707978, 0.9552001964553067, 0.9412028758714044], 'HyperOpt': []}, 'Light_GBM': {'Optuna': [0.9837997586557119, 0.9850005989198319, 0.9880002390878367, 0.9871996789117566, 0.9881998390237919, 0.9866000389357903, 0.9879995189437504, 0.9865999189117759, 0.9850007189438462, 0.9843991585836495, 0.9844001187757647, 0.9873996389197551, 0.9859999188637664, 0.9867998789197743, 0.9862004789918366, 0.9865993187917038, 0.9853999188157566], 'HyperOpt': []}}\n",
      "\n",
      "Logging params and child model\n",
      "\n",
      "Batch 8\n",
      "('\\n'\n",
      " \"Space: {'boosting_type': 'dart', 'learning_rate': 0.18130866415578073, \"\n",
      " \"'n_estimators': 121, 'class_weight': 'balanced', 'n_jobs': -1}\")\n"
     ]
    },
    {
     "name": "stderr",
     "output_type": "stream",
     "text": [
      "[Parallel(n_jobs=-1)]: Using backend LokyBackend with 8 concurrent workers.\n",
      "[Parallel(n_jobs=-1)]: Done   3 out of   3 | elapsed:   21.3s finished\n"
     ]
    },
    {
     "name": "stdout",
     "output_type": "stream",
     "text": [
      "\n",
      "Accuracy of Light_GBM: 0.9864006790478639\n",
      "\n",
      "Batchwise_accuracies: [0.9843991585836495, 0.9844001187757647, 0.9873996389197551, 0.9859999188637664, 0.9867998789197743, 0.9862004789918366, 0.9865993187917038, 0.9853999188157566, 0.9864006790478639]\n",
      "\n",
      "Batchwise_Median_Accuracy: 0.9862004789918366\n",
      "\n",
      "Accumulated Accuracies:\n",
      "{'Decision_Tree_Classifier': {'Optuna': [0.972000557871619, 0.970400637759603, 0.9766004782236829, 0.9753995179355486, 0.9763997980715983, 0.9698003976635645, 0.9727983574953676, 0.9761998380635998, 0.9763996780475838, 0.9722006379036318, 0.9600001968393835, 0.9714011579436814, 0.9765997580795966, 0.9666001973674893, 0.9624012772475515, 0.9651992770713566, 0.9723992776474718, 0.9746000379755982, 0.9706005977676013, 0.9702013978956909, 0.9647987569352875, 0.9742008381036878, 0.975799918047603, 0.9691995574474541, 0.9720009179436623, 0.9671977969352108, 0.9741984376233996, 0.977599678143603, 0.977200838343736, 0.9749993578715229], 'HyperOpt': []}, 'XGB_Classifier': {'Optuna': [0.9837992785596542, 0.9836001587197566, 0.9853997987917422, 0.9855996387757262, 0.9869998389277725, 0.9838004787997982, 0.9873995188957406, 0.9878003991038526, 0.9832009588478462, 0.9839994786156815, 0.9807999984636927, 0.985399438719699, 0.984799918767747, 0.9871996789117566, 0.9832005987758029, 0.9865995588397326, 0.9868001189678032, 0.9832005987758029, 0.9839991185436382, 0.9827999586157198, 0.9845995986877054, 0.9859994387677086, 0.9863998388797631, 0.9828005587357919, 0.986399238759691, 0.9865999189117759, 0.983800958895856], 'HyperOpt': []}, 'KNN_Classifier': {'Optuna': [0.9307983541346952, 0.9429984351269001, 0.9375989147908714, 0.9427995553350313, 0.9473977953508937, 0.9524000361992427, 0.9577997965833004, 0.9413977948707978, 0.9552001964553067, 0.9412028758714044, 0.9447987953429723, 0.954599236215182, 0.9533988760471196, 0.9517999161272188, 0.9565985962471372, 0.9619997969193675, 0.9649988369673004, 0.9513983157750202, 0.9639999971194236, 0.952402436679531, 0.9307983541346952, 0.9429984351269001, 0.9375989147908714, 0.9427995553350313, 0.9473977953508937, 0.9524000361992427, 0.9577997965833004, 0.9413977948707978, 0.9552001964553067, 0.9412028758714044], 'HyperOpt': []}, 'Light_GBM': {'Optuna': [0.9837997586557119, 0.9850005989198319, 0.9880002390878367, 0.9871996789117566, 0.9881998390237919, 0.9866000389357903, 0.9879995189437504, 0.9865999189117759, 0.9850007189438462, 0.9843991585836495, 0.9844001187757647, 0.9873996389197551, 0.9859999188637664, 0.9867998789197743, 0.9862004789918366, 0.9865993187917038, 0.9853999188157566, 0.9864006790478639], 'HyperOpt': []}}\n",
      "\n",
      "Logging params and child model\n",
      "\n",
      "Batch 9\n",
      "('\\n'\n",
      " \"Space: {'boosting_type': 'dart', 'learning_rate': 0.18130866415578073, \"\n",
      " \"'n_estimators': 121, 'class_weight': 'balanced', 'n_jobs': -1}\")\n"
     ]
    },
    {
     "name": "stderr",
     "output_type": "stream",
     "text": [
      "[Parallel(n_jobs=-1)]: Using backend LokyBackend with 8 concurrent workers.\n",
      "[Parallel(n_jobs=-1)]: Done   3 out of   3 | elapsed:   19.1s finished\n"
     ]
    },
    {
     "name": "stdout",
     "output_type": "stream",
     "text": [
      "\n",
      "Accuracy of Light_GBM: 0.9861997588477504\n",
      "\n",
      "Batchwise_accuracies: [0.9843991585836495, 0.9844001187757647, 0.9873996389197551, 0.9859999188637664, 0.9867998789197743, 0.9862004789918366, 0.9865993187917038, 0.9853999188157566, 0.9864006790478639, 0.9861997588477504]\n",
      "\n",
      "Batchwise_Median_Accuracy: 0.9862001189197935\n",
      "\n",
      "Accumulated Accuracies:\n",
      "{'Decision_Tree_Classifier': {'Optuna': [0.972000557871619, 0.970400637759603, 0.9766004782236829, 0.9753995179355486, 0.9763997980715983, 0.9698003976635645, 0.9727983574953676, 0.9761998380635998, 0.9763996780475838, 0.9722006379036318, 0.9600001968393835, 0.9714011579436814, 0.9765997580795966, 0.9666001973674893, 0.9624012772475515, 0.9651992770713566, 0.9723992776474718, 0.9746000379755982, 0.9706005977676013, 0.9702013978956909, 0.9647987569352875, 0.9742008381036878, 0.975799918047603, 0.9691995574474541, 0.9720009179436623, 0.9671977969352108, 0.9741984376233996, 0.977599678143603, 0.977200838343736, 0.9749993578715229], 'HyperOpt': []}, 'XGB_Classifier': {'Optuna': [0.9837992785596542, 0.9836001587197566, 0.9853997987917422, 0.9855996387757262, 0.9869998389277725, 0.9838004787997982, 0.9873995188957406, 0.9878003991038526, 0.9832009588478462, 0.9839994786156815, 0.9807999984636927, 0.985399438719699, 0.984799918767747, 0.9871996789117566, 0.9832005987758029, 0.9865995588397326, 0.9868001189678032, 0.9832005987758029, 0.9839991185436382, 0.9827999586157198, 0.9845995986877054, 0.9859994387677086, 0.9863998388797631, 0.9828005587357919, 0.986399238759691, 0.9865999189117759, 0.983800958895856], 'HyperOpt': []}, 'KNN_Classifier': {'Optuna': [0.9307983541346952, 0.9429984351269001, 0.9375989147908714, 0.9427995553350313, 0.9473977953508937, 0.9524000361992427, 0.9577997965833004, 0.9413977948707978, 0.9552001964553067, 0.9412028758714044, 0.9447987953429723, 0.954599236215182, 0.9533988760471196, 0.9517999161272188, 0.9565985962471372, 0.9619997969193675, 0.9649988369673004, 0.9513983157750202, 0.9639999971194236, 0.952402436679531, 0.9307983541346952, 0.9429984351269001, 0.9375989147908714, 0.9427995553350313, 0.9473977953508937, 0.9524000361992427, 0.9577997965833004, 0.9413977948707978, 0.9552001964553067, 0.9412028758714044], 'HyperOpt': []}, 'Light_GBM': {'Optuna': [0.9837997586557119, 0.9850005989198319, 0.9880002390878367, 0.9871996789117566, 0.9881998390237919, 0.9866000389357903, 0.9879995189437504, 0.9865999189117759, 0.9850007189438462, 0.9843991585836495, 0.9844001187757647, 0.9873996389197551, 0.9859999188637664, 0.9867998789197743, 0.9862004789918366, 0.9865993187917038, 0.9853999188157566, 0.9864006790478639, 0.9861997588477504], 'HyperOpt': []}}\n",
      "\n",
      "Logging params and child model\n",
      "Logging Parent Model\n",
      "Experiment IDs:  370\n",
      "Parent_Run_ID: cd460708497e4677a2cdcadeaefd8878\n",
      "Artifact_Path: mlflow-artifacts:/e061ae45350149779d05a0196a81845a/bbc4690eaa774066936e2d46499e3de1/artifacts/Light_GBM_batch_2\n"
     ]
    },
    {
     "name": "stderr",
     "output_type": "stream",
     "text": [
      "Downloading artifacts:  20%|██        | 1/5 [00:00<00:01,  2.06it/s]"
     ]
    },
    {
     "name": "stdout",
     "output_type": "stream",
     "text": [
      "[2024-01-31 08:34:32,469: WARNING: connectionpool: Retrying (Retry(total=4, connect=5, read=4, redirect=5, status=5)) after connection broken by 'RemoteDisconnected('Remote end closed connection without response')': /Raj-Narayanan-B/StudentMLProjectRegression.mlflow/api/2.0/mlflow-artifacts/artifacts/e061ae45350149779d05a0196a81845a/bbc4690eaa774066936e2d46499e3de1/artifacts/Light_GBM_batch_2/model.pkl]\n",
      "[2024-01-31 08:34:32,486: WARNING: connectionpool: Retrying (Retry(total=4, connect=5, read=4, redirect=5, status=5)) after connection broken by 'RemoteDisconnected('Remote end closed connection without response')': /Raj-Narayanan-B/StudentMLProjectRegression.mlflow/api/2.0/mlflow-artifacts/artifacts/e061ae45350149779d05a0196a81845a/bbc4690eaa774066936e2d46499e3de1/artifacts/Light_GBM_batch_2/conda.yaml]\n",
      "[2024-01-31 08:34:32,487: WARNING: connectionpool: Retrying (Retry(total=4, connect=5, read=4, redirect=5, status=5)) after connection broken by 'RemoteDisconnected('Remote end closed connection without response')': /Raj-Narayanan-B/StudentMLProjectRegression.mlflow/api/2.0/mlflow-artifacts/artifacts/e061ae45350149779d05a0196a81845a/bbc4690eaa774066936e2d46499e3de1/artifacts/Light_GBM_batch_2/requirements.txt]\n",
      "[2024-01-31 08:34:32,491: WARNING: connectionpool: Retrying (Retry(total=4, connect=5, read=4, redirect=5, status=5)) after connection broken by 'RemoteDisconnected('Remote end closed connection without response')': /Raj-Narayanan-B/StudentMLProjectRegression.mlflow/api/2.0/mlflow-artifacts/artifacts/e061ae45350149779d05a0196a81845a/bbc4690eaa774066936e2d46499e3de1/artifacts/Light_GBM_batch_2/python_env.yaml]\n"
     ]
    },
    {
     "name": "stderr",
     "output_type": "stream",
     "text": [
      "Downloading artifacts: 100%|██████████| 5/5 [00:21<00:00,  4.25s/it]\n"
     ]
    },
    {
     "name": "stdout",
     "output_type": "stream",
     "text": [
      "Best Params:\n",
      " {'boosting_type': 'dart', 'class_weight': 'balanced', 'colsample_bytree': 1.0, 'importance_type': 'split', 'learning_rate': 0.18130866415578073, 'max_depth': -1, 'min_child_samples': 20, 'min_child_weight': 0.001, 'min_split_gain': 0.0, 'n_estimators': 121, 'n_jobs': -1, 'num_leaves': 31, 'reg_alpha': 0.0, 'reg_lambda': 0.0, 'subsample': 1.0, 'subsample_for_bin': 200000, 'subsample_freq': 0} \n",
      "\n"
     ]
    },
    {
     "name": "stderr",
     "output_type": "stream",
     "text": [
      "[I 2024-01-31 08:34:43,396] Trial 1 finished with value: 0.9859798868557622 and parameters: {'boosting_type': 'dart', 'learning_rate': 0.18130866415578073, 'n_estimators': 121, 'class_weight': 'balanced', 'n_jobs': -1}. Best is trial 1 with value: 0.9859798868557622.\n"
     ]
    },
    {
     "name": "stdout",
     "output_type": "stream",
     "text": [
      "\n",
      "**************\n",
      "Trial_Number: 2\n",
      "**************\n",
      "\n",
      "Batch 0\n",
      "('\\n'\n",
      " \"Space: {'boosting_type': 'dart', 'learning_rate': 0.8873525551291126, \"\n",
      " \"'n_estimators': 138, 'class_weight': 'balanced', 'n_jobs': -1}\")\n"
     ]
    },
    {
     "name": "stderr",
     "output_type": "stream",
     "text": [
      "[Parallel(n_jobs=-1)]: Using backend LokyBackend with 8 concurrent workers.\n",
      "[Parallel(n_jobs=-1)]: Done   3 out of   3 | elapsed:   16.0s finished\n"
     ]
    },
    {
     "name": "stdout",
     "output_type": "stream",
     "text": [
      "\n",
      "Accuracy of Light_GBM: 0.9861995187997215\n",
      "\n",
      "Batchwise_accuracies: [0.9861995187997215]\n",
      "\n",
      "Batchwise_Median_Accuracy: 0.9861995187997215\n",
      "\n",
      "Accumulated Accuracies:\n",
      "{'Decision_Tree_Classifier': {'Optuna': [0.972000557871619, 0.970400637759603, 0.9766004782236829, 0.9753995179355486, 0.9763997980715983, 0.9698003976635645, 0.9727983574953676, 0.9761998380635998, 0.9763996780475838, 0.9722006379036318, 0.9600001968393835, 0.9714011579436814, 0.9765997580795966, 0.9666001973674893, 0.9624012772475515, 0.9651992770713566, 0.9723992776474718, 0.9746000379755982, 0.9706005977676013, 0.9702013978956909, 0.9647987569352875, 0.9742008381036878, 0.975799918047603, 0.9691995574474541, 0.9720009179436623, 0.9671977969352108, 0.9741984376233996, 0.977599678143603, 0.977200838343736, 0.9749993578715229], 'HyperOpt': []}, 'XGB_Classifier': {'Optuna': [0.9837992785596542, 0.9836001587197566, 0.9853997987917422, 0.9855996387757262, 0.9869998389277725, 0.9838004787997982, 0.9873995188957406, 0.9878003991038526, 0.9832009588478462, 0.9839994786156815, 0.9807999984636927, 0.985399438719699, 0.984799918767747, 0.9871996789117566, 0.9832005987758029, 0.9865995588397326, 0.9868001189678032, 0.9832005987758029, 0.9839991185436382, 0.9827999586157198, 0.9845995986877054, 0.9859994387677086, 0.9863998388797631, 0.9828005587357919, 0.986399238759691, 0.9865999189117759, 0.983800958895856], 'HyperOpt': []}, 'KNN_Classifier': {'Optuna': [0.9307983541346952, 0.9429984351269001, 0.9375989147908714, 0.9427995553350313, 0.9473977953508937, 0.9524000361992427, 0.9577997965833004, 0.9413977948707978, 0.9552001964553067, 0.9412028758714044, 0.9447987953429723, 0.954599236215182, 0.9533988760471196, 0.9517999161272188, 0.9565985962471372, 0.9619997969193675, 0.9649988369673004, 0.9513983157750202, 0.9639999971194236, 0.952402436679531, 0.9307983541346952, 0.9429984351269001, 0.9375989147908714, 0.9427995553350313, 0.9473977953508937, 0.9524000361992427, 0.9577997965833004, 0.9413977948707978, 0.9552001964553067, 0.9412028758714044], 'HyperOpt': []}, 'Light_GBM': {'Optuna': [0.9837997586557119, 0.9850005989198319, 0.9880002390878367, 0.9871996789117566, 0.9881998390237919, 0.9866000389357903, 0.9879995189437504, 0.9865999189117759, 0.9850007189438462, 0.9843991585836495, 0.9844001187757647, 0.9873996389197551, 0.9859999188637664, 0.9867998789197743, 0.9862004789918366, 0.9865993187917038, 0.9853999188157566, 0.9864006790478639, 0.9861997588477504, 0.9861995187997215], 'HyperOpt': []}}\n",
      "\n",
      "Logging params and child model\n",
      "\n",
      "Batch 1\n",
      "('\\n'\n",
      " \"Space: {'boosting_type': 'dart', 'learning_rate': 0.8873525551291126, \"\n",
      " \"'n_estimators': 138, 'class_weight': 'balanced', 'n_jobs': -1}\")\n"
     ]
    },
    {
     "name": "stderr",
     "output_type": "stream",
     "text": [
      "[Parallel(n_jobs=-1)]: Using backend LokyBackend with 8 concurrent workers.\n",
      "[Parallel(n_jobs=-1)]: Done   3 out of   3 | elapsed:   15.7s finished\n"
     ]
    },
    {
     "name": "stdout",
     "output_type": "stream",
     "text": [
      "\n",
      "Accuracy of Light_GBM: 0.9857998388317535\n",
      "\n",
      "Batchwise_accuracies: [0.9861995187997215, 0.9857998388317535]\n",
      "\n",
      "Batchwise_Median_Accuracy: 0.9859996788157375\n",
      "\n",
      "Accumulated Accuracies:\n",
      "{'Decision_Tree_Classifier': {'Optuna': [0.972000557871619, 0.970400637759603, 0.9766004782236829, 0.9753995179355486, 0.9763997980715983, 0.9698003976635645, 0.9727983574953676, 0.9761998380635998, 0.9763996780475838, 0.9722006379036318, 0.9600001968393835, 0.9714011579436814, 0.9765997580795966, 0.9666001973674893, 0.9624012772475515, 0.9651992770713566, 0.9723992776474718, 0.9746000379755982, 0.9706005977676013, 0.9702013978956909, 0.9647987569352875, 0.9742008381036878, 0.975799918047603, 0.9691995574474541, 0.9720009179436623, 0.9671977969352108, 0.9741984376233996, 0.977599678143603, 0.977200838343736, 0.9749993578715229], 'HyperOpt': []}, 'XGB_Classifier': {'Optuna': [0.9837992785596542, 0.9836001587197566, 0.9853997987917422, 0.9855996387757262, 0.9869998389277725, 0.9838004787997982, 0.9873995188957406, 0.9878003991038526, 0.9832009588478462, 0.9839994786156815, 0.9807999984636927, 0.985399438719699, 0.984799918767747, 0.9871996789117566, 0.9832005987758029, 0.9865995588397326, 0.9868001189678032, 0.9832005987758029, 0.9839991185436382, 0.9827999586157198, 0.9845995986877054, 0.9859994387677086, 0.9863998388797631, 0.9828005587357919, 0.986399238759691, 0.9865999189117759, 0.983800958895856], 'HyperOpt': []}, 'KNN_Classifier': {'Optuna': [0.9307983541346952, 0.9429984351269001, 0.9375989147908714, 0.9427995553350313, 0.9473977953508937, 0.9524000361992427, 0.9577997965833004, 0.9413977948707978, 0.9552001964553067, 0.9412028758714044, 0.9447987953429723, 0.954599236215182, 0.9533988760471196, 0.9517999161272188, 0.9565985962471372, 0.9619997969193675, 0.9649988369673004, 0.9513983157750202, 0.9639999971194236, 0.952402436679531, 0.9307983541346952, 0.9429984351269001, 0.9375989147908714, 0.9427995553350313, 0.9473977953508937, 0.9524000361992427, 0.9577997965833004, 0.9413977948707978, 0.9552001964553067, 0.9412028758714044], 'HyperOpt': []}, 'Light_GBM': {'Optuna': [0.9837997586557119, 0.9850005989198319, 0.9880002390878367, 0.9871996789117566, 0.9881998390237919, 0.9866000389357903, 0.9879995189437504, 0.9865999189117759, 0.9850007189438462, 0.9843991585836495, 0.9844001187757647, 0.9873996389197551, 0.9859999188637664, 0.9867998789197743, 0.9862004789918366, 0.9865993187917038, 0.9853999188157566, 0.9864006790478639, 0.9861997588477504, 0.9861995187997215, 0.9857998388317535], 'HyperOpt': []}}\n",
      "\n",
      "Logging params and child model\n",
      "\n",
      "Batch 2\n",
      "('\\n'\n",
      " \"Space: {'boosting_type': 'dart', 'learning_rate': 0.8873525551291126, \"\n",
      " \"'n_estimators': 138, 'class_weight': 'balanced', 'n_jobs': -1}\")\n"
     ]
    },
    {
     "name": "stderr",
     "output_type": "stream",
     "text": [
      "[Parallel(n_jobs=-1)]: Using backend LokyBackend with 8 concurrent workers.\n",
      "[Parallel(n_jobs=-1)]: Done   3 out of   3 | elapsed:   14.9s finished\n"
     ]
    },
    {
     "name": "stdout",
     "output_type": "stream",
     "text": [
      "\n",
      "Accuracy of Light_GBM: 0.9885999990878175\n",
      "\n",
      "Batchwise_accuracies: [0.9861995187997215, 0.9857998388317535, 0.9885999990878175]\n",
      "\n",
      "Batchwise_Median_Accuracy: 0.9861995187997215\n",
      "\n",
      "Accumulated Accuracies:\n",
      "{'Decision_Tree_Classifier': {'Optuna': [0.972000557871619, 0.970400637759603, 0.9766004782236829, 0.9753995179355486, 0.9763997980715983, 0.9698003976635645, 0.9727983574953676, 0.9761998380635998, 0.9763996780475838, 0.9722006379036318, 0.9600001968393835, 0.9714011579436814, 0.9765997580795966, 0.9666001973674893, 0.9624012772475515, 0.9651992770713566, 0.9723992776474718, 0.9746000379755982, 0.9706005977676013, 0.9702013978956909, 0.9647987569352875, 0.9742008381036878, 0.975799918047603, 0.9691995574474541, 0.9720009179436623, 0.9671977969352108, 0.9741984376233996, 0.977599678143603, 0.977200838343736, 0.9749993578715229], 'HyperOpt': []}, 'XGB_Classifier': {'Optuna': [0.9837992785596542, 0.9836001587197566, 0.9853997987917422, 0.9855996387757262, 0.9869998389277725, 0.9838004787997982, 0.9873995188957406, 0.9878003991038526, 0.9832009588478462, 0.9839994786156815, 0.9807999984636927, 0.985399438719699, 0.984799918767747, 0.9871996789117566, 0.9832005987758029, 0.9865995588397326, 0.9868001189678032, 0.9832005987758029, 0.9839991185436382, 0.9827999586157198, 0.9845995986877054, 0.9859994387677086, 0.9863998388797631, 0.9828005587357919, 0.986399238759691, 0.9865999189117759, 0.983800958895856], 'HyperOpt': []}, 'KNN_Classifier': {'Optuna': [0.9307983541346952, 0.9429984351269001, 0.9375989147908714, 0.9427995553350313, 0.9473977953508937, 0.9524000361992427, 0.9577997965833004, 0.9413977948707978, 0.9552001964553067, 0.9412028758714044, 0.9447987953429723, 0.954599236215182, 0.9533988760471196, 0.9517999161272188, 0.9565985962471372, 0.9619997969193675, 0.9649988369673004, 0.9513983157750202, 0.9639999971194236, 0.952402436679531, 0.9307983541346952, 0.9429984351269001, 0.9375989147908714, 0.9427995553350313, 0.9473977953508937, 0.9524000361992427, 0.9577997965833004, 0.9413977948707978, 0.9552001964553067, 0.9412028758714044], 'HyperOpt': []}, 'Light_GBM': {'Optuna': [0.9837997586557119, 0.9850005989198319, 0.9880002390878367, 0.9871996789117566, 0.9881998390237919, 0.9866000389357903, 0.9879995189437504, 0.9865999189117759, 0.9850007189438462, 0.9843991585836495, 0.9844001187757647, 0.9873996389197551, 0.9859999188637664, 0.9867998789197743, 0.9862004789918366, 0.9865993187917038, 0.9853999188157566, 0.9864006790478639, 0.9861997588477504, 0.9861995187997215, 0.9857998388317535, 0.9885999990878175], 'HyperOpt': []}}\n",
      "\n",
      "Logging params and child model\n",
      "\n",
      "Batch 3\n",
      "('\\n'\n",
      " \"Space: {'boosting_type': 'dart', 'learning_rate': 0.8873525551291126, \"\n",
      " \"'n_estimators': 138, 'class_weight': 'balanced', 'n_jobs': -1}\")\n"
     ]
    },
    {
     "name": "stderr",
     "output_type": "stream",
     "text": [
      "[Parallel(n_jobs=-1)]: Using backend LokyBackend with 8 concurrent workers.\n",
      "[Parallel(n_jobs=-1)]: Done   3 out of   3 | elapsed:   13.2s finished\n"
     ]
    },
    {
     "name": "stdout",
     "output_type": "stream",
     "text": [
      "\n",
      "Accuracy of Light_GBM: 0.9897995190877791\n",
      "\n",
      "Batchwise_accuracies: [0.9861995187997215, 0.9857998388317535, 0.9885999990878175, 0.9897995190877791]\n",
      "\n",
      "Batchwise_Median_Accuracy: 0.9873997589437695\n",
      "\n",
      "Accumulated Accuracies:\n",
      "{'Decision_Tree_Classifier': {'Optuna': [0.972000557871619, 0.970400637759603, 0.9766004782236829, 0.9753995179355486, 0.9763997980715983, 0.9698003976635645, 0.9727983574953676, 0.9761998380635998, 0.9763996780475838, 0.9722006379036318, 0.9600001968393835, 0.9714011579436814, 0.9765997580795966, 0.9666001973674893, 0.9624012772475515, 0.9651992770713566, 0.9723992776474718, 0.9746000379755982, 0.9706005977676013, 0.9702013978956909, 0.9647987569352875, 0.9742008381036878, 0.975799918047603, 0.9691995574474541, 0.9720009179436623, 0.9671977969352108, 0.9741984376233996, 0.977599678143603, 0.977200838343736, 0.9749993578715229], 'HyperOpt': []}, 'XGB_Classifier': {'Optuna': [0.9837992785596542, 0.9836001587197566, 0.9853997987917422, 0.9855996387757262, 0.9869998389277725, 0.9838004787997982, 0.9873995188957406, 0.9878003991038526, 0.9832009588478462, 0.9839994786156815, 0.9807999984636927, 0.985399438719699, 0.984799918767747, 0.9871996789117566, 0.9832005987758029, 0.9865995588397326, 0.9868001189678032, 0.9832005987758029, 0.9839991185436382, 0.9827999586157198, 0.9845995986877054, 0.9859994387677086, 0.9863998388797631, 0.9828005587357919, 0.986399238759691, 0.9865999189117759, 0.983800958895856], 'HyperOpt': []}, 'KNN_Classifier': {'Optuna': [0.9307983541346952, 0.9429984351269001, 0.9375989147908714, 0.9427995553350313, 0.9473977953508937, 0.9524000361992427, 0.9577997965833004, 0.9413977948707978, 0.9552001964553067, 0.9412028758714044, 0.9447987953429723, 0.954599236215182, 0.9533988760471196, 0.9517999161272188, 0.9565985962471372, 0.9619997969193675, 0.9649988369673004, 0.9513983157750202, 0.9639999971194236, 0.952402436679531, 0.9307983541346952, 0.9429984351269001, 0.9375989147908714, 0.9427995553350313, 0.9473977953508937, 0.9524000361992427, 0.9577997965833004, 0.9413977948707978, 0.9552001964553067, 0.9412028758714044], 'HyperOpt': []}, 'Light_GBM': {'Optuna': [0.9837997586557119, 0.9850005989198319, 0.9880002390878367, 0.9871996789117566, 0.9881998390237919, 0.9866000389357903, 0.9879995189437504, 0.9865999189117759, 0.9850007189438462, 0.9843991585836495, 0.9844001187757647, 0.9873996389197551, 0.9859999188637664, 0.9867998789197743, 0.9862004789918366, 0.9865993187917038, 0.9853999188157566, 0.9864006790478639, 0.9861997588477504, 0.9861995187997215, 0.9857998388317535, 0.9885999990878175, 0.9897995190877791], 'HyperOpt': []}}\n",
      "\n",
      "Logging params and child model\n",
      "\n",
      "Batch 4\n",
      "('\\n'\n",
      " \"Space: {'boosting_type': 'dart', 'learning_rate': 0.8873525551291126, \"\n",
      " \"'n_estimators': 138, 'class_weight': 'balanced', 'n_jobs': -1}\")\n"
     ]
    },
    {
     "name": "stderr",
     "output_type": "stream",
     "text": [
      "[Parallel(n_jobs=-1)]: Using backend LokyBackend with 8 concurrent workers.\n",
      "[Parallel(n_jobs=-1)]: Done   3 out of   3 | elapsed:   13.3s finished\n"
     ]
    },
    {
     "name": "stdout",
     "output_type": "stream",
     "text": [
      "\n",
      "Accuracy of Light_GBM: 0.9889994390077567\n",
      "\n",
      "Batchwise_accuracies: [0.9861995187997215, 0.9857998388317535, 0.9885999990878175, 0.9897995190877791, 0.9889994390077567]\n",
      "\n",
      "Batchwise_Median_Accuracy: 0.9885999990878175\n",
      "\n",
      "Accumulated Accuracies:\n",
      "{'Decision_Tree_Classifier': {'Optuna': [0.972000557871619, 0.970400637759603, 0.9766004782236829, 0.9753995179355486, 0.9763997980715983, 0.9698003976635645, 0.9727983574953676, 0.9761998380635998, 0.9763996780475838, 0.9722006379036318, 0.9600001968393835, 0.9714011579436814, 0.9765997580795966, 0.9666001973674893, 0.9624012772475515, 0.9651992770713566, 0.9723992776474718, 0.9746000379755982, 0.9706005977676013, 0.9702013978956909, 0.9647987569352875, 0.9742008381036878, 0.975799918047603, 0.9691995574474541, 0.9720009179436623, 0.9671977969352108, 0.9741984376233996, 0.977599678143603, 0.977200838343736, 0.9749993578715229], 'HyperOpt': []}, 'XGB_Classifier': {'Optuna': [0.9837992785596542, 0.9836001587197566, 0.9853997987917422, 0.9855996387757262, 0.9869998389277725, 0.9838004787997982, 0.9873995188957406, 0.9878003991038526, 0.9832009588478462, 0.9839994786156815, 0.9807999984636927, 0.985399438719699, 0.984799918767747, 0.9871996789117566, 0.9832005987758029, 0.9865995588397326, 0.9868001189678032, 0.9832005987758029, 0.9839991185436382, 0.9827999586157198, 0.9845995986877054, 0.9859994387677086, 0.9863998388797631, 0.9828005587357919, 0.986399238759691, 0.9865999189117759, 0.983800958895856], 'HyperOpt': []}, 'KNN_Classifier': {'Optuna': [0.9307983541346952, 0.9429984351269001, 0.9375989147908714, 0.9427995553350313, 0.9473977953508937, 0.9524000361992427, 0.9577997965833004, 0.9413977948707978, 0.9552001964553067, 0.9412028758714044, 0.9447987953429723, 0.954599236215182, 0.9533988760471196, 0.9517999161272188, 0.9565985962471372, 0.9619997969193675, 0.9649988369673004, 0.9513983157750202, 0.9639999971194236, 0.952402436679531, 0.9307983541346952, 0.9429984351269001, 0.9375989147908714, 0.9427995553350313, 0.9473977953508937, 0.9524000361992427, 0.9577997965833004, 0.9413977948707978, 0.9552001964553067, 0.9412028758714044], 'HyperOpt': []}, 'Light_GBM': {'Optuna': [0.9837997586557119, 0.9850005989198319, 0.9880002390878367, 0.9871996789117566, 0.9881998390237919, 0.9866000389357903, 0.9879995189437504, 0.9865999189117759, 0.9850007189438462, 0.9843991585836495, 0.9844001187757647, 0.9873996389197551, 0.9859999188637664, 0.9867998789197743, 0.9862004789918366, 0.9865993187917038, 0.9853999188157566, 0.9864006790478639, 0.9861997588477504, 0.9861995187997215, 0.9857998388317535, 0.9885999990878175, 0.9897995190877791, 0.9889994390077567], 'HyperOpt': []}}\n",
      "\n",
      "Logging params and child model\n",
      "\n",
      "Batch 5\n",
      "('\\n'\n",
      " \"Space: {'boosting_type': 'dart', 'learning_rate': 0.8873525551291126, \"\n",
      " \"'n_estimators': 138, 'class_weight': 'balanced', 'n_jobs': -1}\")\n"
     ]
    },
    {
     "name": "stderr",
     "output_type": "stream",
     "text": [
      "[Parallel(n_jobs=-1)]: Using backend LokyBackend with 8 concurrent workers.\n",
      "[Parallel(n_jobs=-1)]: Done   3 out of   3 | elapsed:   13.0s finished\n"
     ]
    },
    {
     "name": "stdout",
     "output_type": "stream",
     "text": [
      "\n",
      "Accuracy of Light_GBM: 0.954006557632051\n",
      "\n",
      "Batchwise_accuracies: [0.9861995187997215, 0.9857998388317535, 0.9885999990878175, 0.9897995190877791, 0.9889994390077567, 0.954006557632051]\n",
      "\n",
      "Batchwise_Median_Accuracy: 0.9873997589437695\n",
      "\n",
      "Accumulated Accuracies:\n",
      "{'Decision_Tree_Classifier': {'Optuna': [0.972000557871619, 0.970400637759603, 0.9766004782236829, 0.9753995179355486, 0.9763997980715983, 0.9698003976635645, 0.9727983574953676, 0.9761998380635998, 0.9763996780475838, 0.9722006379036318, 0.9600001968393835, 0.9714011579436814, 0.9765997580795966, 0.9666001973674893, 0.9624012772475515, 0.9651992770713566, 0.9723992776474718, 0.9746000379755982, 0.9706005977676013, 0.9702013978956909, 0.9647987569352875, 0.9742008381036878, 0.975799918047603, 0.9691995574474541, 0.9720009179436623, 0.9671977969352108, 0.9741984376233996, 0.977599678143603, 0.977200838343736, 0.9749993578715229], 'HyperOpt': []}, 'XGB_Classifier': {'Optuna': [0.9837992785596542, 0.9836001587197566, 0.9853997987917422, 0.9855996387757262, 0.9869998389277725, 0.9838004787997982, 0.9873995188957406, 0.9878003991038526, 0.9832009588478462, 0.9839994786156815, 0.9807999984636927, 0.985399438719699, 0.984799918767747, 0.9871996789117566, 0.9832005987758029, 0.9865995588397326, 0.9868001189678032, 0.9832005987758029, 0.9839991185436382, 0.9827999586157198, 0.9845995986877054, 0.9859994387677086, 0.9863998388797631, 0.9828005587357919, 0.986399238759691, 0.9865999189117759, 0.983800958895856], 'HyperOpt': []}, 'KNN_Classifier': {'Optuna': [0.9307983541346952, 0.9429984351269001, 0.9375989147908714, 0.9427995553350313, 0.9473977953508937, 0.9524000361992427, 0.9577997965833004, 0.9413977948707978, 0.9552001964553067, 0.9412028758714044, 0.9447987953429723, 0.954599236215182, 0.9533988760471196, 0.9517999161272188, 0.9565985962471372, 0.9619997969193675, 0.9649988369673004, 0.9513983157750202, 0.9639999971194236, 0.952402436679531, 0.9307983541346952, 0.9429984351269001, 0.9375989147908714, 0.9427995553350313, 0.9473977953508937, 0.9524000361992427, 0.9577997965833004, 0.9413977948707978, 0.9552001964553067, 0.9412028758714044], 'HyperOpt': []}, 'Light_GBM': {'Optuna': [0.9837997586557119, 0.9850005989198319, 0.9880002390878367, 0.9871996789117566, 0.9881998390237919, 0.9866000389357903, 0.9879995189437504, 0.9865999189117759, 0.9850007189438462, 0.9843991585836495, 0.9844001187757647, 0.9873996389197551, 0.9859999188637664, 0.9867998789197743, 0.9862004789918366, 0.9865993187917038, 0.9853999188157566, 0.9864006790478639, 0.9861997588477504, 0.9861995187997215, 0.9857998388317535, 0.9885999990878175, 0.9897995190877791, 0.9889994390077567, 0.954006557632051], 'HyperOpt': []}}\n",
      "\n",
      "Logging params and child model\n",
      "\n",
      "Batch 6\n",
      "('\\n'\n",
      " \"Space: {'boosting_type': 'dart', 'learning_rate': 0.8873525551291126, \"\n",
      " \"'n_estimators': 138, 'class_weight': 'balanced', 'n_jobs': -1}\")\n"
     ]
    },
    {
     "name": "stderr",
     "output_type": "stream",
     "text": [
      "[Parallel(n_jobs=-1)]: Using backend LokyBackend with 8 concurrent workers.\n",
      "[Parallel(n_jobs=-1)]: Done   3 out of   3 | elapsed:   16.4s finished\n"
     ]
    },
    {
     "name": "stdout",
     "output_type": "stream",
     "text": [
      "\n",
      "Accuracy of Light_GBM: 0.9885999990878175\n",
      "\n",
      "Batchwise_accuracies: [0.9861995187997215, 0.9857998388317535, 0.9885999990878175, 0.9897995190877791, 0.9889994390077567, 0.954006557632051, 0.9885999990878175]\n",
      "\n",
      "Batchwise_Median_Accuracy: 0.9885999990878175\n",
      "\n",
      "Accumulated Accuracies:\n",
      "{'Decision_Tree_Classifier': {'Optuna': [0.972000557871619, 0.970400637759603, 0.9766004782236829, 0.9753995179355486, 0.9763997980715983, 0.9698003976635645, 0.9727983574953676, 0.9761998380635998, 0.9763996780475838, 0.9722006379036318, 0.9600001968393835, 0.9714011579436814, 0.9765997580795966, 0.9666001973674893, 0.9624012772475515, 0.9651992770713566, 0.9723992776474718, 0.9746000379755982, 0.9706005977676013, 0.9702013978956909, 0.9647987569352875, 0.9742008381036878, 0.975799918047603, 0.9691995574474541, 0.9720009179436623, 0.9671977969352108, 0.9741984376233996, 0.977599678143603, 0.977200838343736, 0.9749993578715229], 'HyperOpt': []}, 'XGB_Classifier': {'Optuna': [0.9837992785596542, 0.9836001587197566, 0.9853997987917422, 0.9855996387757262, 0.9869998389277725, 0.9838004787997982, 0.9873995188957406, 0.9878003991038526, 0.9832009588478462, 0.9839994786156815, 0.9807999984636927, 0.985399438719699, 0.984799918767747, 0.9871996789117566, 0.9832005987758029, 0.9865995588397326, 0.9868001189678032, 0.9832005987758029, 0.9839991185436382, 0.9827999586157198, 0.9845995986877054, 0.9859994387677086, 0.9863998388797631, 0.9828005587357919, 0.986399238759691, 0.9865999189117759, 0.983800958895856], 'HyperOpt': []}, 'KNN_Classifier': {'Optuna': [0.9307983541346952, 0.9429984351269001, 0.9375989147908714, 0.9427995553350313, 0.9473977953508937, 0.9524000361992427, 0.9577997965833004, 0.9413977948707978, 0.9552001964553067, 0.9412028758714044, 0.9447987953429723, 0.954599236215182, 0.9533988760471196, 0.9517999161272188, 0.9565985962471372, 0.9619997969193675, 0.9649988369673004, 0.9513983157750202, 0.9639999971194236, 0.952402436679531, 0.9307983541346952, 0.9429984351269001, 0.9375989147908714, 0.9427995553350313, 0.9473977953508937, 0.9524000361992427, 0.9577997965833004, 0.9413977948707978, 0.9552001964553067, 0.9412028758714044], 'HyperOpt': []}, 'Light_GBM': {'Optuna': [0.9837997586557119, 0.9850005989198319, 0.9880002390878367, 0.9871996789117566, 0.9881998390237919, 0.9866000389357903, 0.9879995189437504, 0.9865999189117759, 0.9850007189438462, 0.9843991585836495, 0.9844001187757647, 0.9873996389197551, 0.9859999188637664, 0.9867998789197743, 0.9862004789918366, 0.9865993187917038, 0.9853999188157566, 0.9864006790478639, 0.9861997588477504, 0.9861995187997215, 0.9857998388317535, 0.9885999990878175, 0.9897995190877791, 0.9889994390077567, 0.954006557632051, 0.9885999990878175], 'HyperOpt': []}}\n",
      "\n",
      "Logging params and child model\n",
      "\n",
      "Batch 7\n",
      "('\\n'\n",
      " \"Space: {'boosting_type': 'dart', 'learning_rate': 0.8873525551291126, \"\n",
      " \"'n_estimators': 138, 'class_weight': 'balanced', 'n_jobs': -1}\")\n"
     ]
    },
    {
     "name": "stderr",
     "output_type": "stream",
     "text": [
      "[Parallel(n_jobs=-1)]: Using backend LokyBackend with 8 concurrent workers.\n",
      "[Parallel(n_jobs=-1)]: Done   3 out of   3 | elapsed:   12.6s finished\n"
     ]
    },
    {
     "name": "stdout",
     "output_type": "stream",
     "text": [
      "\n",
      "Accuracy of Light_GBM: 0.9879998790157934\n",
      "\n",
      "Batchwise_accuracies: [0.9861995187997215, 0.9857998388317535, 0.9885999990878175, 0.9897995190877791, 0.9889994390077567, 0.954006557632051, 0.9885999990878175, 0.9879998790157934]\n",
      "\n",
      "Batchwise_Median_Accuracy: 0.9882999390518055\n",
      "\n",
      "Accumulated Accuracies:\n",
      "{'Decision_Tree_Classifier': {'Optuna': [0.972000557871619, 0.970400637759603, 0.9766004782236829, 0.9753995179355486, 0.9763997980715983, 0.9698003976635645, 0.9727983574953676, 0.9761998380635998, 0.9763996780475838, 0.9722006379036318, 0.9600001968393835, 0.9714011579436814, 0.9765997580795966, 0.9666001973674893, 0.9624012772475515, 0.9651992770713566, 0.9723992776474718, 0.9746000379755982, 0.9706005977676013, 0.9702013978956909, 0.9647987569352875, 0.9742008381036878, 0.975799918047603, 0.9691995574474541, 0.9720009179436623, 0.9671977969352108, 0.9741984376233996, 0.977599678143603, 0.977200838343736, 0.9749993578715229], 'HyperOpt': []}, 'XGB_Classifier': {'Optuna': [0.9837992785596542, 0.9836001587197566, 0.9853997987917422, 0.9855996387757262, 0.9869998389277725, 0.9838004787997982, 0.9873995188957406, 0.9878003991038526, 0.9832009588478462, 0.9839994786156815, 0.9807999984636927, 0.985399438719699, 0.984799918767747, 0.9871996789117566, 0.9832005987758029, 0.9865995588397326, 0.9868001189678032, 0.9832005987758029, 0.9839991185436382, 0.9827999586157198, 0.9845995986877054, 0.9859994387677086, 0.9863998388797631, 0.9828005587357919, 0.986399238759691, 0.9865999189117759, 0.983800958895856], 'HyperOpt': []}, 'KNN_Classifier': {'Optuna': [0.9307983541346952, 0.9429984351269001, 0.9375989147908714, 0.9427995553350313, 0.9473977953508937, 0.9524000361992427, 0.9577997965833004, 0.9413977948707978, 0.9552001964553067, 0.9412028758714044, 0.9447987953429723, 0.954599236215182, 0.9533988760471196, 0.9517999161272188, 0.9565985962471372, 0.9619997969193675, 0.9649988369673004, 0.9513983157750202, 0.9639999971194236, 0.952402436679531, 0.9307983541346952, 0.9429984351269001, 0.9375989147908714, 0.9427995553350313, 0.9473977953508937, 0.9524000361992427, 0.9577997965833004, 0.9413977948707978, 0.9552001964553067, 0.9412028758714044], 'HyperOpt': []}, 'Light_GBM': {'Optuna': [0.9837997586557119, 0.9850005989198319, 0.9880002390878367, 0.9871996789117566, 0.9881998390237919, 0.9866000389357903, 0.9879995189437504, 0.9865999189117759, 0.9850007189438462, 0.9843991585836495, 0.9844001187757647, 0.9873996389197551, 0.9859999188637664, 0.9867998789197743, 0.9862004789918366, 0.9865993187917038, 0.9853999188157566, 0.9864006790478639, 0.9861997588477504, 0.9861995187997215, 0.9857998388317535, 0.9885999990878175, 0.9897995190877791, 0.9889994390077567, 0.954006557632051, 0.9885999990878175, 0.9879998790157934], 'HyperOpt': []}}\n",
      "\n",
      "Logging params and child model\n",
      "\n",
      "Batch 8\n",
      "('\\n'\n",
      " \"Space: {'boosting_type': 'dart', 'learning_rate': 0.8873525551291126, \"\n",
      " \"'n_estimators': 138, 'class_weight': 'balanced', 'n_jobs': -1}\")\n"
     ]
    },
    {
     "name": "stderr",
     "output_type": "stream",
     "text": [
      "[Parallel(n_jobs=-1)]: Using backend LokyBackend with 8 concurrent workers.\n",
      "[Parallel(n_jobs=-1)]: Done   3 out of   3 | elapsed:   13.8s finished\n"
     ]
    },
    {
     "name": "stdout",
     "output_type": "stream",
     "text": [
      "\n",
      "Accuracy of Light_GBM: 0.9872002790318287\n",
      "\n",
      "Batchwise_accuracies: [0.9861995187997215, 0.9857998388317535, 0.9885999990878175, 0.9897995190877791, 0.9889994390077567, 0.954006557632051, 0.9885999990878175, 0.9879998790157934, 0.9872002790318287]\n",
      "\n",
      "Batchwise_Median_Accuracy: 0.9879998790157934\n",
      "\n",
      "Accumulated Accuracies:\n",
      "{'Decision_Tree_Classifier': {'Optuna': [0.972000557871619, 0.970400637759603, 0.9766004782236829, 0.9753995179355486, 0.9763997980715983, 0.9698003976635645, 0.9727983574953676, 0.9761998380635998, 0.9763996780475838, 0.9722006379036318, 0.9600001968393835, 0.9714011579436814, 0.9765997580795966, 0.9666001973674893, 0.9624012772475515, 0.9651992770713566, 0.9723992776474718, 0.9746000379755982, 0.9706005977676013, 0.9702013978956909, 0.9647987569352875, 0.9742008381036878, 0.975799918047603, 0.9691995574474541, 0.9720009179436623, 0.9671977969352108, 0.9741984376233996, 0.977599678143603, 0.977200838343736, 0.9749993578715229], 'HyperOpt': []}, 'XGB_Classifier': {'Optuna': [0.9837992785596542, 0.9836001587197566, 0.9853997987917422, 0.9855996387757262, 0.9869998389277725, 0.9838004787997982, 0.9873995188957406, 0.9878003991038526, 0.9832009588478462, 0.9839994786156815, 0.9807999984636927, 0.985399438719699, 0.984799918767747, 0.9871996789117566, 0.9832005987758029, 0.9865995588397326, 0.9868001189678032, 0.9832005987758029, 0.9839991185436382, 0.9827999586157198, 0.9845995986877054, 0.9859994387677086, 0.9863998388797631, 0.9828005587357919, 0.986399238759691, 0.9865999189117759, 0.983800958895856], 'HyperOpt': []}, 'KNN_Classifier': {'Optuna': [0.9307983541346952, 0.9429984351269001, 0.9375989147908714, 0.9427995553350313, 0.9473977953508937, 0.9524000361992427, 0.9577997965833004, 0.9413977948707978, 0.9552001964553067, 0.9412028758714044, 0.9447987953429723, 0.954599236215182, 0.9533988760471196, 0.9517999161272188, 0.9565985962471372, 0.9619997969193675, 0.9649988369673004, 0.9513983157750202, 0.9639999971194236, 0.952402436679531, 0.9307983541346952, 0.9429984351269001, 0.9375989147908714, 0.9427995553350313, 0.9473977953508937, 0.9524000361992427, 0.9577997965833004, 0.9413977948707978, 0.9552001964553067, 0.9412028758714044], 'HyperOpt': []}, 'Light_GBM': {'Optuna': [0.9837997586557119, 0.9850005989198319, 0.9880002390878367, 0.9871996789117566, 0.9881998390237919, 0.9866000389357903, 0.9879995189437504, 0.9865999189117759, 0.9850007189438462, 0.9843991585836495, 0.9844001187757647, 0.9873996389197551, 0.9859999188637664, 0.9867998789197743, 0.9862004789918366, 0.9865993187917038, 0.9853999188157566, 0.9864006790478639, 0.9861997588477504, 0.9861995187997215, 0.9857998388317535, 0.9885999990878175, 0.9897995190877791, 0.9889994390077567, 0.954006557632051, 0.9885999990878175, 0.9879998790157934, 0.9872002790318287], 'HyperOpt': []}}\n",
      "\n",
      "Logging params and child model\n"
     ]
    },
    {
     "name": "stderr",
     "output_type": "stream",
     "text": [
      "[I 2024-01-31 08:38:22,653] Trial 2 pruned. \n"
     ]
    },
    {
     "name": "stdout",
     "output_type": "stream",
     "text": [
      "Registering Best Parent Model as Challenger\n",
      "Client_Tracking_URI:  https://dagshub.com/Raj-Narayanan-B/StudentMLProjectRegression.mlflow\n",
      "Client_Registry_URI:  https://dagshub.com/Raj-Narayanan-B/StudentMLProjectRegression.mlflow\n",
      "\n",
      "Best_Run_ID: cd460708497e4677a2cdcadeaefd8878\n",
      "Best_Model's_Artifact_Path: mlflow-artifacts:/e061ae45350149779d05a0196a81845a/cd460708497e4677a2cdcadeaefd8878/artifacts/challenger_Light_GBM\n"
     ]
    },
    {
     "name": "stderr",
     "output_type": "stream",
     "text": [
      "2024/01/31 08:38:26 INFO mlflow.store.model_registry.abstract_store: Waiting up to 300 seconds for model version to finish creation. Model name: Challenger_Light_GBM, version 1\n"
     ]
    }
   ],
   "source": [
    "# batchwise_accuracies = {}\n",
    "exp_count = 155\n",
    "exp_id_list = []\n",
    "params = load_yaml(PARAMS_PATH)\n",
    "model_trial_study_df = pd.DataFrame()\n",
    "accuracies = {}\n",
    "for keys in models.keys():\n",
    "    accuracies[keys] = {}\n",
    "    accuracies[keys]['Optuna'] = []\n",
    "    accuracies[keys]['HyperOpt'] = []\n",
    "tags = {\"tuner\": \"optuna\",\n",
    "        \"metrics\": \"['Balanced_Accuracy_Score', 'F1_Score', 'Accuracy_Score', 'Cost']\"}\n",
    "count = 1\n",
    "for key,value in models.items():\n",
    "    exp_id = mlflow.create_experiment(name = f\"{exp_count}_{key}_{exp_count}\", tags = tags)\n",
    "         \n",
    "    def optuna_objective(trial,exp_id = exp_id):\n",
    "        with mlflow.start_run(experiment_id = exp_id,\n",
    "                          run_name = f\"{key}_Trial_{trial.number}\",\n",
    "                          tags = {\"tuner\" : \"optuna\",\n",
    "                                  'trial': f\"{trial.number}\",\n",
    "                                  'model' : key,\n",
    "                                  \"run_type\": \"parent\"}) as parent_run:\n",
    "            parent_run_id = parent_run.info.run_id\n",
    "            child_id_list = []\n",
    "            batch_wise_accuracy = []\n",
    "            space = {}\n",
    "            flag = 0\n",
    "            print(f\"\\n**************\\nTrial_Number: {trial.number}\\n**************\")\n",
    "            for key_,value_ in params['optuna'][key].items():\n",
    "                    space[key_] = eval(value_)\n",
    "            for i in range(len(batch_list)-2):\n",
    "                x = batch_list[i].drop(columns='class')\n",
    "                y = batch_list[i]['class']\n",
    "                print(f\"\\nBatch {i}\")\n",
    "                # for key,value in models.items():\n",
    "                        \n",
    "                pprint(f\"\\nSpace: {space}\",compact=True)\n",
    "                pipeline = Pipeline(steps = [(\"KNN_Imputer\", KNNImputer()),\n",
    "                                            (\"Robust_Scaler\", RobustScaler()),\n",
    "                                            (\"SMOTETomek\", SMOTETomek(sampling_strategy = \"minority\",random_state = 42, n_jobs = -1)),\n",
    "                                            (f\"{key}\", value(**space))])\n",
    "                skf_cv = StratifiedKFold(n_splits = 3, shuffle = True, random_state = 42)\n",
    "                \n",
    "                cv_results = cross_validate(estimator=pipeline,\n",
    "                                        X= x,\n",
    "                                        y = y,\n",
    "                                        scoring = 'accuracy',\n",
    "                                        cv = skf_cv,\n",
    "                                        n_jobs = -1,\n",
    "                                        verbose = 2,\n",
    "                                        return_estimator=True)\n",
    "                accuracy = cv_results['test_score']\n",
    "                pipeline = cv_results['estimator'][0]\n",
    "                estimator = pipeline.named_steps[key]\n",
    "                print(f\"\\nAccuracy of {key}: {np.mean(accuracy)}\")\n",
    "\n",
    "                batch_wise_accuracy.append(np.mean(accuracy))\n",
    "                accuracies[key]['Optuna'].append(np.mean(accuracy))\n",
    "                print(f\"\\nBatchwise_accuracies: {batch_wise_accuracy}\")         \n",
    "                print(f\"\\nBatchwise_Median_Accuracy: {np.median(batch_wise_accuracy)}\")         \n",
    "                print(f\"\\nAccumulated Accuracies:\\n{accuracies}\\n\")\n",
    "\n",
    "                trial.report(np.mean(accuracy),i)\n",
    "                child_run_id = 0\n",
    "                with mlflow.start_run(experiment_id = exp_id,\n",
    "                                      run_name = f\"Batch_{i}\",\n",
    "                                      tags = {\"tuner\" : \"optuna\",\n",
    "                                              'model' : key,\n",
    "                                              \"run_type\": \"child\"},\n",
    "                                      nested = True) as child_run:\n",
    "                            child_run_id = child_run.info.run_id\n",
    "                            child_id_list.append(child_run_id)\n",
    "                            # data = (x_train, y_test, y_pred)\n",
    "                            mlflow_logger(model = estimator,\n",
    "                                          client = client,                        ## Logs every child runs for successful batches \n",
    "                                        model_name = key,\n",
    "                                        #   params = model.get_params(),\n",
    "                                        should_log_parent_model = False,\n",
    "                                        artifact_path = f'{key}_batch_{i}')\n",
    "                            mlflow.log_metrics(metrics = {\"Accuracy_Score\": np.mean(accuracy)})\n",
    "                            dataset_ = mlflow.data.from_pandas(df = batch_list[i],\n",
    "                                                              targets = 'class',\n",
    "                                                              name= f\"Batch {i}\")\n",
    "                            mlflow.log_input(dataset = dataset_,\n",
    "                                             context = 'Batchwise Cross-Validation')\n",
    "                if (i > 5) and (i % 2 == 0):\n",
    "                    trial.study.set_user_attr('median_accuracy',np.median(batch_wise_accuracy))\n",
    "                    if np.mean(accuracy) < np.median(batch_wise_accuracy):\n",
    "                        flag = 1\n",
    "                        break\n",
    "            if flag == 0:\n",
    "                mlflow_logger(model_name = key,\n",
    "                          should_log_parent_model = True,\n",
    "                          client = client,\n",
    "                          metrics_ =  {\"Accuracy_Score\":max(batch_wise_accuracy)},\n",
    "                          run_id = parent_run_id,\n",
    "                          exp_id = exp_id,\n",
    "                          #   registered_model_name = f\"Challenger_Optuna_{model_name}\",\n",
    "                          artifact_path = f'challenger_{key}')\n",
    "        if flag == 1:\n",
    "            mlflow.delete_run(run_id = parent_run_id)\n",
    "            try:\n",
    "                 for child_run in child_id_list:\n",
    "                      mlflow.delete_run(child_run)\n",
    "            except:\n",
    "                 pass\n",
    "\n",
    "            raise optuna.TrialPruned()\n",
    "\n",
    "        return np.mean(batch_wise_accuracy)\n",
    "    find_params = optuna.create_study(direction = 'maximize',pruner=optuna.pruners.MedianPruner(),sampler = optuna.samplers.TPESampler(constant_liar=True))\n",
    "    find_params.optimize(func = optuna_objective,\n",
    "                         n_trials = 3)\n",
    "    if count == 1:\n",
    "        model_trial_study_df = find_params.trials_dataframe()\n",
    "        model_trial_study_df['Model_name'] = key\n",
    "        count += 1\n",
    "    else:\n",
    "        temp_df = find_params.trials_dataframe()\n",
    "        temp_df['Model_name'] = key\n",
    "        model_trial_study_df = pd.concat([model_trial_study_df, temp_df])\n",
    "    model_trial_study_df.to_csv('artifacts/metrics/model_trial_study_df.csv', index = False)\n",
    "    \n",
    "    mlflow_df = mlflow.search_runs(experiment_ids=[f'{exp_id}'])\n",
    "    if mlflow_df.empty:\n",
    "         pass\n",
    "    else:\n",
    "        mlflow_logger(client = client,\n",
    "                    model_name = key,\n",
    "                    exp_id = exp_id,\n",
    "                    registered_model_name = f\"Challenger_{key}\",\n",
    "                    artifact_path = None)\n",
    "        exp_id_list.append(exp_id)"
   ]
  },
  {
   "cell_type": "code",
   "execution_count": null,
   "metadata": {},
   "outputs": [],
   "source": [
    "filter_string = f\"tags.run_type ilike 'parent'\"\n",
    "\n",
    "mlflow.search_runs(experiment_ids=['354'],\n",
    "                                         order_by = ['metrics.Accuracy_Score DESC'])\n",
    "                                        #  filter_string = filter_string)"
   ]
  },
  {
   "cell_type": "code",
   "execution_count": 2,
   "metadata": {},
   "outputs": [
    {
     "name": "stdout",
     "output_type": "stream",
     "text": [
      "[2024-01-31 14:07:00,770: INFO: utils: params.yaml yaml_file is loaded]\n"
     ]
    }
   ],
   "source": [
    "from src.utils import load_yaml\n",
    "\n",
    "params_yaml = load_yaml('params.yaml')\n",
    "\n",
    "optuna_study_df = pd.read_csv(\"F:\\iNeuron\\Projects\\scania_failures_2\\\\artifacts\\metrics\\model_trial_study_df.csv\")\n",
    "optuna_study_df_copy = optuna_study_df.copy()"
   ]
  },
  {
   "cell_type": "code",
   "execution_count": 62,
   "metadata": {},
   "outputs": [],
   "source": [
    "optuna_study_df_copy1 = optuna_study_df.copy()"
   ]
  },
  {
   "cell_type": "code",
   "execution_count": 65,
   "metadata": {},
   "outputs": [],
   "source": [
    "for i in optuna_study_df_copy1.columns:\n",
    "    try:\n",
    "        optuna_study_df_copy1[i] = optuna_study_df_copy1.drop(columns = ['params_learning_rate','duration', 'datetime_complete', 'datetime_start', 'value', 'number'])[i].astype('int')\n",
    "    except:\n",
    "        pass\n",
    "\n",
    "\n",
    "pd.to_datetime()"
   ]
  },
  {
   "cell_type": "code",
   "execution_count": 67,
   "metadata": {},
   "outputs": [
    {
     "data": {
      "text/html": [
       "<div>\n",
       "<style scoped>\n",
       "    .dataframe tbody tr th:only-of-type {\n",
       "        vertical-align: middle;\n",
       "    }\n",
       "\n",
       "    .dataframe tbody tr th {\n",
       "        vertical-align: top;\n",
       "    }\n",
       "\n",
       "    .dataframe thead th {\n",
       "        text-align: right;\n",
       "    }\n",
       "</style>\n",
       "<table border=\"1\" class=\"dataframe\">\n",
       "  <thead>\n",
       "    <tr style=\"text-align: right;\">\n",
       "      <th></th>\n",
       "      <th>number</th>\n",
       "      <th>value</th>\n",
       "      <th>datetime_start</th>\n",
       "      <th>datetime_complete</th>\n",
       "      <th>duration</th>\n",
       "      <th>params_criterion</th>\n",
       "      <th>params_max_features</th>\n",
       "      <th>params_splitter</th>\n",
       "      <th>state</th>\n",
       "      <th>Model_name</th>\n",
       "      <th>params_booster</th>\n",
       "      <th>params_learning_rate</th>\n",
       "      <th>params_n_estimators</th>\n",
       "      <th>params_tree_method</th>\n",
       "      <th>params_algorithm</th>\n",
       "      <th>params_n_neighbors</th>\n",
       "      <th>params_weights</th>\n",
       "      <th>params_boosting_type</th>\n",
       "      <th>params_class_weight</th>\n",
       "      <th>params_n_jobs</th>\n",
       "    </tr>\n",
       "  </thead>\n",
       "  <tbody>\n",
       "    <tr>\n",
       "      <th>0</th>\n",
       "      <td>0</td>\n",
       "      <td>0.973820</td>\n",
       "      <td>2024-01-31 07:41:08.839523</td>\n",
       "      <td>2024-01-31 07:45:52.525983</td>\n",
       "      <td>0 days 00:04:43.686460</td>\n",
       "      <td>entropy</td>\n",
       "      <td>log2</td>\n",
       "      <td>best</td>\n",
       "      <td>COMPLETE</td>\n",
       "      <td>Decision_Tree_Classifier</td>\n",
       "      <td>NaN</td>\n",
       "      <td>NaN</td>\n",
       "      <td>NaN</td>\n",
       "      <td>NaN</td>\n",
       "      <td>NaN</td>\n",
       "      <td>NaN</td>\n",
       "      <td>NaN</td>\n",
       "      <td>NaN</td>\n",
       "      <td>NaN</td>\n",
       "      <td>NaN</td>\n",
       "    </tr>\n",
       "    <tr>\n",
       "      <th>1</th>\n",
       "      <td>1</td>\n",
       "      <td>0.969000</td>\n",
       "      <td>2024-01-31 07:45:52.528036</td>\n",
       "      <td>2024-01-31 07:50:25.997216</td>\n",
       "      <td>0 days 00:04:33.469180</td>\n",
       "      <td>log_loss</td>\n",
       "      <td>log2</td>\n",
       "      <td>random</td>\n",
       "      <td>COMPLETE</td>\n",
       "      <td>Decision_Tree_Classifier</td>\n",
       "      <td>NaN</td>\n",
       "      <td>NaN</td>\n",
       "      <td>NaN</td>\n",
       "      <td>NaN</td>\n",
       "      <td>NaN</td>\n",
       "      <td>NaN</td>\n",
       "      <td>NaN</td>\n",
       "      <td>NaN</td>\n",
       "      <td>NaN</td>\n",
       "      <td>NaN</td>\n",
       "    </tr>\n",
       "    <tr>\n",
       "      <th>2</th>\n",
       "      <td>2</td>\n",
       "      <td>0.972720</td>\n",
       "      <td>2024-01-31 07:50:26.000225</td>\n",
       "      <td>2024-01-31 07:54:26.238470</td>\n",
       "      <td>0 days 00:04:00.238245</td>\n",
       "      <td>gini</td>\n",
       "      <td>NaN</td>\n",
       "      <td>random</td>\n",
       "      <td>COMPLETE</td>\n",
       "      <td>Decision_Tree_Classifier</td>\n",
       "      <td>NaN</td>\n",
       "      <td>NaN</td>\n",
       "      <td>NaN</td>\n",
       "      <td>NaN</td>\n",
       "      <td>NaN</td>\n",
       "      <td>NaN</td>\n",
       "      <td>NaN</td>\n",
       "      <td>NaN</td>\n",
       "      <td>NaN</td>\n",
       "      <td>NaN</td>\n",
       "    </tr>\n",
       "    <tr>\n",
       "      <th>3</th>\n",
       "      <td>0</td>\n",
       "      <td>0.983201</td>\n",
       "      <td>2024-01-31 07:54:30.464183</td>\n",
       "      <td>2024-01-31 08:00:33.185123</td>\n",
       "      <td>0 days 00:06:02.720940</td>\n",
       "      <td>NaN</td>\n",
       "      <td>NaN</td>\n",
       "      <td>NaN</td>\n",
       "      <td>PRUNED</td>\n",
       "      <td>XGB_Classifier</td>\n",
       "      <td>gbtree</td>\n",
       "      <td>0.540325</td>\n",
       "      <td>289.0</td>\n",
       "      <td>approx</td>\n",
       "      <td>NaN</td>\n",
       "      <td>NaN</td>\n",
       "      <td>NaN</td>\n",
       "      <td>NaN</td>\n",
       "      <td>NaN</td>\n",
       "      <td>NaN</td>\n",
       "    </tr>\n",
       "    <tr>\n",
       "      <th>4</th>\n",
       "      <td>1</td>\n",
       "      <td>0.983201</td>\n",
       "      <td>2024-01-31 08:00:33.188120</td>\n",
       "      <td>2024-01-31 08:05:01.070354</td>\n",
       "      <td>0 days 00:04:27.882234</td>\n",
       "      <td>NaN</td>\n",
       "      <td>NaN</td>\n",
       "      <td>NaN</td>\n",
       "      <td>PRUNED</td>\n",
       "      <td>XGB_Classifier</td>\n",
       "      <td>gbtree</td>\n",
       "      <td>0.933155</td>\n",
       "      <td>114.0</td>\n",
       "      <td>exact</td>\n",
       "      <td>NaN</td>\n",
       "      <td>NaN</td>\n",
       "      <td>NaN</td>\n",
       "      <td>NaN</td>\n",
       "      <td>NaN</td>\n",
       "      <td>NaN</td>\n",
       "    </tr>\n",
       "  </tbody>\n",
       "</table>\n",
       "</div>"
      ],
      "text/plain": [
       "   number     value              datetime_start           datetime_complete  \\\n",
       "0       0  0.973820  2024-01-31 07:41:08.839523  2024-01-31 07:45:52.525983   \n",
       "1       1  0.969000  2024-01-31 07:45:52.528036  2024-01-31 07:50:25.997216   \n",
       "2       2  0.972720  2024-01-31 07:50:26.000225  2024-01-31 07:54:26.238470   \n",
       "3       0  0.983201  2024-01-31 07:54:30.464183  2024-01-31 08:00:33.185123   \n",
       "4       1  0.983201  2024-01-31 08:00:33.188120  2024-01-31 08:05:01.070354   \n",
       "\n",
       "                 duration params_criterion params_max_features  \\\n",
       "0  0 days 00:04:43.686460          entropy                log2   \n",
       "1  0 days 00:04:33.469180         log_loss                log2   \n",
       "2  0 days 00:04:00.238245             gini                 NaN   \n",
       "3  0 days 00:06:02.720940              NaN                 NaN   \n",
       "4  0 days 00:04:27.882234              NaN                 NaN   \n",
       "\n",
       "  params_splitter     state                Model_name params_booster  \\\n",
       "0            best  COMPLETE  Decision_Tree_Classifier            NaN   \n",
       "1          random  COMPLETE  Decision_Tree_Classifier            NaN   \n",
       "2          random  COMPLETE  Decision_Tree_Classifier            NaN   \n",
       "3             NaN    PRUNED            XGB_Classifier         gbtree   \n",
       "4             NaN    PRUNED            XGB_Classifier         gbtree   \n",
       "\n",
       "   params_learning_rate  params_n_estimators params_tree_method  \\\n",
       "0                   NaN                  NaN                NaN   \n",
       "1                   NaN                  NaN                NaN   \n",
       "2                   NaN                  NaN                NaN   \n",
       "3              0.540325                289.0             approx   \n",
       "4              0.933155                114.0              exact   \n",
       "\n",
       "  params_algorithm  params_n_neighbors params_weights params_boosting_type  \\\n",
       "0              NaN                 NaN            NaN                  NaN   \n",
       "1              NaN                 NaN            NaN                  NaN   \n",
       "2              NaN                 NaN            NaN                  NaN   \n",
       "3              NaN                 NaN            NaN                  NaN   \n",
       "4              NaN                 NaN            NaN                  NaN   \n",
       "\n",
       "  params_class_weight  params_n_jobs  \n",
       "0                 NaN            NaN  \n",
       "1                 NaN            NaN  \n",
       "2                 NaN            NaN  \n",
       "3                 NaN            NaN  \n",
       "4                 NaN            NaN  "
      ]
     },
     "execution_count": 67,
     "metadata": {},
     "output_type": "execute_result"
    }
   ],
   "source": [
    "optuna_study_df_copy1.head()"
   ]
  },
  {
   "cell_type": "code",
   "execution_count": 60,
   "metadata": {},
   "outputs": [
    {
     "data": {
      "text/html": [
       "<div>\n",
       "<style scoped>\n",
       "    .dataframe tbody tr th:only-of-type {\n",
       "        vertical-align: middle;\n",
       "    }\n",
       "\n",
       "    .dataframe tbody tr th {\n",
       "        vertical-align: top;\n",
       "    }\n",
       "\n",
       "    .dataframe thead th {\n",
       "        text-align: right;\n",
       "    }\n",
       "</style>\n",
       "<table border=\"1\" class=\"dataframe\">\n",
       "  <thead>\n",
       "    <tr style=\"text-align: right;\">\n",
       "      <th></th>\n",
       "      <th>number</th>\n",
       "      <th>value</th>\n",
       "      <th>datetime_start</th>\n",
       "      <th>datetime_complete</th>\n",
       "      <th>duration</th>\n",
       "      <th>params_criterion</th>\n",
       "      <th>params_max_features</th>\n",
       "      <th>params_splitter</th>\n",
       "      <th>state</th>\n",
       "      <th>Model_name</th>\n",
       "      <th>params_booster</th>\n",
       "      <th>params_learning_rate</th>\n",
       "      <th>params_n_estimators</th>\n",
       "      <th>params_tree_method</th>\n",
       "      <th>params_algorithm</th>\n",
       "      <th>params_n_neighbors</th>\n",
       "      <th>params_weights</th>\n",
       "      <th>params_boosting_type</th>\n",
       "      <th>params_class_weight</th>\n",
       "      <th>params_n_jobs</th>\n",
       "    </tr>\n",
       "  </thead>\n",
       "  <tbody>\n",
       "    <tr>\n",
       "      <th>0</th>\n",
       "      <td>0</td>\n",
       "      <td>0.973820</td>\n",
       "      <td>2024-01-31 07:41:08.839523</td>\n",
       "      <td>2024-01-31 07:45:52.525983</td>\n",
       "      <td>0 days 00:04:43.686460</td>\n",
       "      <td>entropy</td>\n",
       "      <td>log2</td>\n",
       "      <td>best</td>\n",
       "      <td>COMPLETE</td>\n",
       "      <td>Decision_Tree_Classifier</td>\n",
       "      <td>NaN</td>\n",
       "      <td>NaN</td>\n",
       "      <td>NaN</td>\n",
       "      <td>NaN</td>\n",
       "      <td>NaN</td>\n",
       "      <td>NaN</td>\n",
       "      <td>NaN</td>\n",
       "      <td>NaN</td>\n",
       "      <td>NaN</td>\n",
       "      <td>NaN</td>\n",
       "    </tr>\n",
       "    <tr>\n",
       "      <th>1</th>\n",
       "      <td>1</td>\n",
       "      <td>0.969000</td>\n",
       "      <td>2024-01-31 07:45:52.528036</td>\n",
       "      <td>2024-01-31 07:50:25.997216</td>\n",
       "      <td>0 days 00:04:33.469180</td>\n",
       "      <td>log_loss</td>\n",
       "      <td>log2</td>\n",
       "      <td>random</td>\n",
       "      <td>COMPLETE</td>\n",
       "      <td>Decision_Tree_Classifier</td>\n",
       "      <td>NaN</td>\n",
       "      <td>NaN</td>\n",
       "      <td>NaN</td>\n",
       "      <td>NaN</td>\n",
       "      <td>NaN</td>\n",
       "      <td>NaN</td>\n",
       "      <td>NaN</td>\n",
       "      <td>NaN</td>\n",
       "      <td>NaN</td>\n",
       "      <td>NaN</td>\n",
       "    </tr>\n",
       "    <tr>\n",
       "      <th>2</th>\n",
       "      <td>2</td>\n",
       "      <td>0.972720</td>\n",
       "      <td>2024-01-31 07:50:26.000225</td>\n",
       "      <td>2024-01-31 07:54:26.238470</td>\n",
       "      <td>0 days 00:04:00.238245</td>\n",
       "      <td>gini</td>\n",
       "      <td>NaN</td>\n",
       "      <td>random</td>\n",
       "      <td>COMPLETE</td>\n",
       "      <td>Decision_Tree_Classifier</td>\n",
       "      <td>NaN</td>\n",
       "      <td>NaN</td>\n",
       "      <td>NaN</td>\n",
       "      <td>NaN</td>\n",
       "      <td>NaN</td>\n",
       "      <td>NaN</td>\n",
       "      <td>NaN</td>\n",
       "      <td>NaN</td>\n",
       "      <td>NaN</td>\n",
       "      <td>NaN</td>\n",
       "    </tr>\n",
       "    <tr>\n",
       "      <th>3</th>\n",
       "      <td>0</td>\n",
       "      <td>0.983201</td>\n",
       "      <td>2024-01-31 07:54:30.464183</td>\n",
       "      <td>2024-01-31 08:00:33.185123</td>\n",
       "      <td>0 days 00:06:02.720940</td>\n",
       "      <td>NaN</td>\n",
       "      <td>NaN</td>\n",
       "      <td>NaN</td>\n",
       "      <td>PRUNED</td>\n",
       "      <td>XGB_Classifier</td>\n",
       "      <td>gbtree</td>\n",
       "      <td>0.540325</td>\n",
       "      <td>289.0</td>\n",
       "      <td>approx</td>\n",
       "      <td>NaN</td>\n",
       "      <td>NaN</td>\n",
       "      <td>NaN</td>\n",
       "      <td>NaN</td>\n",
       "      <td>NaN</td>\n",
       "      <td>NaN</td>\n",
       "    </tr>\n",
       "    <tr>\n",
       "      <th>4</th>\n",
       "      <td>1</td>\n",
       "      <td>0.983201</td>\n",
       "      <td>2024-01-31 08:00:33.188120</td>\n",
       "      <td>2024-01-31 08:05:01.070354</td>\n",
       "      <td>0 days 00:04:27.882234</td>\n",
       "      <td>NaN</td>\n",
       "      <td>NaN</td>\n",
       "      <td>NaN</td>\n",
       "      <td>PRUNED</td>\n",
       "      <td>XGB_Classifier</td>\n",
       "      <td>gbtree</td>\n",
       "      <td>0.933155</td>\n",
       "      <td>114.0</td>\n",
       "      <td>exact</td>\n",
       "      <td>NaN</td>\n",
       "      <td>NaN</td>\n",
       "      <td>NaN</td>\n",
       "      <td>NaN</td>\n",
       "      <td>NaN</td>\n",
       "      <td>NaN</td>\n",
       "    </tr>\n",
       "  </tbody>\n",
       "</table>\n",
       "</div>"
      ],
      "text/plain": [
       "   number     value              datetime_start           datetime_complete  \\\n",
       "0       0  0.973820  2024-01-31 07:41:08.839523  2024-01-31 07:45:52.525983   \n",
       "1       1  0.969000  2024-01-31 07:45:52.528036  2024-01-31 07:50:25.997216   \n",
       "2       2  0.972720  2024-01-31 07:50:26.000225  2024-01-31 07:54:26.238470   \n",
       "3       0  0.983201  2024-01-31 07:54:30.464183  2024-01-31 08:00:33.185123   \n",
       "4       1  0.983201  2024-01-31 08:00:33.188120  2024-01-31 08:05:01.070354   \n",
       "\n",
       "                 duration params_criterion params_max_features  \\\n",
       "0  0 days 00:04:43.686460          entropy                log2   \n",
       "1  0 days 00:04:33.469180         log_loss                log2   \n",
       "2  0 days 00:04:00.238245             gini                 NaN   \n",
       "3  0 days 00:06:02.720940              NaN                 NaN   \n",
       "4  0 days 00:04:27.882234              NaN                 NaN   \n",
       "\n",
       "  params_splitter     state                Model_name params_booster  \\\n",
       "0            best  COMPLETE  Decision_Tree_Classifier            NaN   \n",
       "1          random  COMPLETE  Decision_Tree_Classifier            NaN   \n",
       "2          random  COMPLETE  Decision_Tree_Classifier            NaN   \n",
       "3             NaN    PRUNED            XGB_Classifier         gbtree   \n",
       "4             NaN    PRUNED            XGB_Classifier         gbtree   \n",
       "\n",
       "   params_learning_rate  params_n_estimators params_tree_method  \\\n",
       "0                   NaN                  NaN                NaN   \n",
       "1                   NaN                  NaN                NaN   \n",
       "2                   NaN                  NaN                NaN   \n",
       "3              0.540325                289.0             approx   \n",
       "4              0.933155                114.0              exact   \n",
       "\n",
       "  params_algorithm  params_n_neighbors params_weights params_boosting_type  \\\n",
       "0              NaN                 NaN            NaN                  NaN   \n",
       "1              NaN                 NaN            NaN                  NaN   \n",
       "2              NaN                 NaN            NaN                  NaN   \n",
       "3              NaN                 NaN            NaN                  NaN   \n",
       "4              NaN                 NaN            NaN                  NaN   \n",
       "\n",
       "  params_class_weight  params_n_jobs  \n",
       "0                 NaN            NaN  \n",
       "1                 NaN            NaN  \n",
       "2                 NaN            NaN  \n",
       "3                 NaN            NaN  \n",
       "4                 NaN            NaN  "
      ]
     },
     "execution_count": 60,
     "metadata": {},
     "output_type": "execute_result"
    }
   ],
   "source": [
    "optuna_study_df.head()"
   ]
  },
  {
   "cell_type": "code",
   "execution_count": 54,
   "metadata": {},
   "outputs": [
    {
     "data": {
      "text/html": [
       "<div>\n",
       "<style scoped>\n",
       "    .dataframe tbody tr th:only-of-type {\n",
       "        vertical-align: middle;\n",
       "    }\n",
       "\n",
       "    .dataframe tbody tr th {\n",
       "        vertical-align: top;\n",
       "    }\n",
       "\n",
       "    .dataframe thead th {\n",
       "        text-align: right;\n",
       "    }\n",
       "</style>\n",
       "<table border=\"1\" class=\"dataframe\">\n",
       "  <thead>\n",
       "    <tr style=\"text-align: right;\">\n",
       "      <th></th>\n",
       "      <th>number</th>\n",
       "      <th>value</th>\n",
       "      <th>datetime_start</th>\n",
       "      <th>datetime_complete</th>\n",
       "      <th>duration</th>\n",
       "      <th>params_criterion</th>\n",
       "      <th>params_max_features</th>\n",
       "      <th>params_splitter</th>\n",
       "      <th>state</th>\n",
       "      <th>Model_name</th>\n",
       "      <th>params_booster</th>\n",
       "      <th>params_learning_rate</th>\n",
       "      <th>params_n_estimators</th>\n",
       "      <th>params_tree_method</th>\n",
       "      <th>params_algorithm</th>\n",
       "      <th>params_n_neighbors</th>\n",
       "      <th>params_weights</th>\n",
       "      <th>params_boosting_type</th>\n",
       "      <th>params_class_weight</th>\n",
       "      <th>params_n_jobs</th>\n",
       "    </tr>\n",
       "  </thead>\n",
       "  <tbody>\n",
       "    <tr>\n",
       "      <th>0</th>\n",
       "      <td>0</td>\n",
       "      <td>0.973820</td>\n",
       "      <td>2024-01-31 07:41:08.839523</td>\n",
       "      <td>2024-01-31 07:45:52.525983</td>\n",
       "      <td>0 days 00:04:43.686460</td>\n",
       "      <td>entropy</td>\n",
       "      <td>log2</td>\n",
       "      <td>best</td>\n",
       "      <td>COMPLETE</td>\n",
       "      <td>Decision_Tree_Classifier</td>\n",
       "      <td>NaN</td>\n",
       "      <td>NaN</td>\n",
       "      <td>NaN</td>\n",
       "      <td>NaN</td>\n",
       "      <td>NaN</td>\n",
       "      <td>NaN</td>\n",
       "      <td>NaN</td>\n",
       "      <td>NaN</td>\n",
       "      <td>NaN</td>\n",
       "      <td>NaN</td>\n",
       "    </tr>\n",
       "    <tr>\n",
       "      <th>1</th>\n",
       "      <td>1</td>\n",
       "      <td>0.969000</td>\n",
       "      <td>2024-01-31 07:45:52.528036</td>\n",
       "      <td>2024-01-31 07:50:25.997216</td>\n",
       "      <td>0 days 00:04:33.469180</td>\n",
       "      <td>log_loss</td>\n",
       "      <td>log2</td>\n",
       "      <td>random</td>\n",
       "      <td>COMPLETE</td>\n",
       "      <td>Decision_Tree_Classifier</td>\n",
       "      <td>NaN</td>\n",
       "      <td>NaN</td>\n",
       "      <td>NaN</td>\n",
       "      <td>NaN</td>\n",
       "      <td>NaN</td>\n",
       "      <td>NaN</td>\n",
       "      <td>NaN</td>\n",
       "      <td>NaN</td>\n",
       "      <td>NaN</td>\n",
       "      <td>NaN</td>\n",
       "    </tr>\n",
       "    <tr>\n",
       "      <th>2</th>\n",
       "      <td>2</td>\n",
       "      <td>0.972720</td>\n",
       "      <td>2024-01-31 07:50:26.000225</td>\n",
       "      <td>2024-01-31 07:54:26.238470</td>\n",
       "      <td>0 days 00:04:00.238245</td>\n",
       "      <td>gini</td>\n",
       "      <td>NaN</td>\n",
       "      <td>random</td>\n",
       "      <td>COMPLETE</td>\n",
       "      <td>Decision_Tree_Classifier</td>\n",
       "      <td>NaN</td>\n",
       "      <td>NaN</td>\n",
       "      <td>NaN</td>\n",
       "      <td>NaN</td>\n",
       "      <td>NaN</td>\n",
       "      <td>NaN</td>\n",
       "      <td>NaN</td>\n",
       "      <td>NaN</td>\n",
       "      <td>NaN</td>\n",
       "      <td>NaN</td>\n",
       "    </tr>\n",
       "    <tr>\n",
       "      <th>3</th>\n",
       "      <td>0</td>\n",
       "      <td>0.983201</td>\n",
       "      <td>2024-01-31 07:54:30.464183</td>\n",
       "      <td>2024-01-31 08:00:33.185123</td>\n",
       "      <td>0 days 00:06:02.720940</td>\n",
       "      <td>NaN</td>\n",
       "      <td>NaN</td>\n",
       "      <td>NaN</td>\n",
       "      <td>PRUNED</td>\n",
       "      <td>XGB_Classifier</td>\n",
       "      <td>gbtree</td>\n",
       "      <td>0.540325</td>\n",
       "      <td>289.0</td>\n",
       "      <td>approx</td>\n",
       "      <td>NaN</td>\n",
       "      <td>NaN</td>\n",
       "      <td>NaN</td>\n",
       "      <td>NaN</td>\n",
       "      <td>NaN</td>\n",
       "      <td>NaN</td>\n",
       "    </tr>\n",
       "    <tr>\n",
       "      <th>4</th>\n",
       "      <td>1</td>\n",
       "      <td>0.983201</td>\n",
       "      <td>2024-01-31 08:00:33.188120</td>\n",
       "      <td>2024-01-31 08:05:01.070354</td>\n",
       "      <td>0 days 00:04:27.882234</td>\n",
       "      <td>NaN</td>\n",
       "      <td>NaN</td>\n",
       "      <td>NaN</td>\n",
       "      <td>PRUNED</td>\n",
       "      <td>XGB_Classifier</td>\n",
       "      <td>gbtree</td>\n",
       "      <td>0.933155</td>\n",
       "      <td>114.0</td>\n",
       "      <td>exact</td>\n",
       "      <td>NaN</td>\n",
       "      <td>NaN</td>\n",
       "      <td>NaN</td>\n",
       "      <td>NaN</td>\n",
       "      <td>NaN</td>\n",
       "      <td>NaN</td>\n",
       "    </tr>\n",
       "    <tr>\n",
       "      <th>5</th>\n",
       "      <td>2</td>\n",
       "      <td>0.983801</td>\n",
       "      <td>2024-01-31 08:05:01.071353</td>\n",
       "      <td>2024-01-31 08:10:56.203255</td>\n",
       "      <td>0 days 00:05:55.131902</td>\n",
       "      <td>NaN</td>\n",
       "      <td>NaN</td>\n",
       "      <td>NaN</td>\n",
       "      <td>PRUNED</td>\n",
       "      <td>XGB_Classifier</td>\n",
       "      <td>dart</td>\n",
       "      <td>0.695166</td>\n",
       "      <td>401.0</td>\n",
       "      <td>exact</td>\n",
       "      <td>NaN</td>\n",
       "      <td>NaN</td>\n",
       "      <td>NaN</td>\n",
       "      <td>NaN</td>\n",
       "      <td>NaN</td>\n",
       "      <td>NaN</td>\n",
       "    </tr>\n",
       "    <tr>\n",
       "      <th>6</th>\n",
       "      <td>0</td>\n",
       "      <td>0.944959</td>\n",
       "      <td>2024-01-31 08:10:57.771196</td>\n",
       "      <td>2024-01-31 08:16:20.301786</td>\n",
       "      <td>0 days 00:05:22.530590</td>\n",
       "      <td>NaN</td>\n",
       "      <td>NaN</td>\n",
       "      <td>NaN</td>\n",
       "      <td>COMPLETE</td>\n",
       "      <td>KNN_Classifier</td>\n",
       "      <td>NaN</td>\n",
       "      <td>NaN</td>\n",
       "      <td>NaN</td>\n",
       "      <td>NaN</td>\n",
       "      <td>brute</td>\n",
       "      <td>9.0</td>\n",
       "      <td>uniform</td>\n",
       "      <td>NaN</td>\n",
       "      <td>NaN</td>\n",
       "      <td>NaN</td>\n",
       "    </tr>\n",
       "    <tr>\n",
       "      <th>7</th>\n",
       "      <td>1</td>\n",
       "      <td>0.955599</td>\n",
       "      <td>2024-01-31 08:16:20.304787</td>\n",
       "      <td>2024-01-31 08:21:35.162398</td>\n",
       "      <td>0 days 00:05:14.857611</td>\n",
       "      <td>NaN</td>\n",
       "      <td>NaN</td>\n",
       "      <td>NaN</td>\n",
       "      <td>COMPLETE</td>\n",
       "      <td>KNN_Classifier</td>\n",
       "      <td>NaN</td>\n",
       "      <td>NaN</td>\n",
       "      <td>NaN</td>\n",
       "      <td>NaN</td>\n",
       "      <td>auto</td>\n",
       "      <td>5.0</td>\n",
       "      <td>distance</td>\n",
       "      <td>NaN</td>\n",
       "      <td>NaN</td>\n",
       "      <td>NaN</td>\n",
       "    </tr>\n",
       "    <tr>\n",
       "      <th>8</th>\n",
       "      <td>2</td>\n",
       "      <td>0.944959</td>\n",
       "      <td>2024-01-31 08:21:35.163428</td>\n",
       "      <td>2024-01-31 08:26:45.061112</td>\n",
       "      <td>0 days 00:05:09.897684</td>\n",
       "      <td>NaN</td>\n",
       "      <td>NaN</td>\n",
       "      <td>NaN</td>\n",
       "      <td>COMPLETE</td>\n",
       "      <td>KNN_Classifier</td>\n",
       "      <td>NaN</td>\n",
       "      <td>NaN</td>\n",
       "      <td>NaN</td>\n",
       "      <td>NaN</td>\n",
       "      <td>brute</td>\n",
       "      <td>9.0</td>\n",
       "      <td>uniform</td>\n",
       "      <td>NaN</td>\n",
       "      <td>NaN</td>\n",
       "      <td>NaN</td>\n",
       "    </tr>\n",
       "    <tr>\n",
       "      <th>9</th>\n",
       "      <td>0</td>\n",
       "      <td>0.985001</td>\n",
       "      <td>2024-01-31 08:26:48.700230</td>\n",
       "      <td>2024-01-31 08:30:03.807877</td>\n",
       "      <td>0 days 00:03:15.107647</td>\n",
       "      <td>NaN</td>\n",
       "      <td>NaN</td>\n",
       "      <td>NaN</td>\n",
       "      <td>PRUNED</td>\n",
       "      <td>Light_GBM</td>\n",
       "      <td>NaN</td>\n",
       "      <td>0.759552</td>\n",
       "      <td>148.0</td>\n",
       "      <td>NaN</td>\n",
       "      <td>NaN</td>\n",
       "      <td>NaN</td>\n",
       "      <td>NaN</td>\n",
       "      <td>gbdt</td>\n",
       "      <td>balanced</td>\n",
       "      <td>-1.0</td>\n",
       "    </tr>\n",
       "    <tr>\n",
       "      <th>10</th>\n",
       "      <td>1</td>\n",
       "      <td>0.985980</td>\n",
       "      <td>2024-01-31 08:30:03.809967</td>\n",
       "      <td>2024-01-31 08:34:43.396304</td>\n",
       "      <td>0 days 00:04:39.586337</td>\n",
       "      <td>NaN</td>\n",
       "      <td>NaN</td>\n",
       "      <td>NaN</td>\n",
       "      <td>COMPLETE</td>\n",
       "      <td>Light_GBM</td>\n",
       "      <td>NaN</td>\n",
       "      <td>0.181309</td>\n",
       "      <td>121.0</td>\n",
       "      <td>NaN</td>\n",
       "      <td>NaN</td>\n",
       "      <td>NaN</td>\n",
       "      <td>NaN</td>\n",
       "      <td>dart</td>\n",
       "      <td>balanced</td>\n",
       "      <td>-1.0</td>\n",
       "    </tr>\n",
       "    <tr>\n",
       "      <th>11</th>\n",
       "      <td>2</td>\n",
       "      <td>0.987200</td>\n",
       "      <td>2024-01-31 08:34:43.397306</td>\n",
       "      <td>2024-01-31 08:38:22.653373</td>\n",
       "      <td>0 days 00:03:39.256067</td>\n",
       "      <td>NaN</td>\n",
       "      <td>NaN</td>\n",
       "      <td>NaN</td>\n",
       "      <td>PRUNED</td>\n",
       "      <td>Light_GBM</td>\n",
       "      <td>NaN</td>\n",
       "      <td>0.887353</td>\n",
       "      <td>138.0</td>\n",
       "      <td>NaN</td>\n",
       "      <td>NaN</td>\n",
       "      <td>NaN</td>\n",
       "      <td>NaN</td>\n",
       "      <td>dart</td>\n",
       "      <td>balanced</td>\n",
       "      <td>-1.0</td>\n",
       "    </tr>\n",
       "  </tbody>\n",
       "</table>\n",
       "</div>"
      ],
      "text/plain": [
       "    number     value              datetime_start           datetime_complete  \\\n",
       "0        0  0.973820  2024-01-31 07:41:08.839523  2024-01-31 07:45:52.525983   \n",
       "1        1  0.969000  2024-01-31 07:45:52.528036  2024-01-31 07:50:25.997216   \n",
       "2        2  0.972720  2024-01-31 07:50:26.000225  2024-01-31 07:54:26.238470   \n",
       "3        0  0.983201  2024-01-31 07:54:30.464183  2024-01-31 08:00:33.185123   \n",
       "4        1  0.983201  2024-01-31 08:00:33.188120  2024-01-31 08:05:01.070354   \n",
       "5        2  0.983801  2024-01-31 08:05:01.071353  2024-01-31 08:10:56.203255   \n",
       "6        0  0.944959  2024-01-31 08:10:57.771196  2024-01-31 08:16:20.301786   \n",
       "7        1  0.955599  2024-01-31 08:16:20.304787  2024-01-31 08:21:35.162398   \n",
       "8        2  0.944959  2024-01-31 08:21:35.163428  2024-01-31 08:26:45.061112   \n",
       "9        0  0.985001  2024-01-31 08:26:48.700230  2024-01-31 08:30:03.807877   \n",
       "10       1  0.985980  2024-01-31 08:30:03.809967  2024-01-31 08:34:43.396304   \n",
       "11       2  0.987200  2024-01-31 08:34:43.397306  2024-01-31 08:38:22.653373   \n",
       "\n",
       "                  duration params_criterion params_max_features  \\\n",
       "0   0 days 00:04:43.686460          entropy                log2   \n",
       "1   0 days 00:04:33.469180         log_loss                log2   \n",
       "2   0 days 00:04:00.238245             gini                 NaN   \n",
       "3   0 days 00:06:02.720940              NaN                 NaN   \n",
       "4   0 days 00:04:27.882234              NaN                 NaN   \n",
       "5   0 days 00:05:55.131902              NaN                 NaN   \n",
       "6   0 days 00:05:22.530590              NaN                 NaN   \n",
       "7   0 days 00:05:14.857611              NaN                 NaN   \n",
       "8   0 days 00:05:09.897684              NaN                 NaN   \n",
       "9   0 days 00:03:15.107647              NaN                 NaN   \n",
       "10  0 days 00:04:39.586337              NaN                 NaN   \n",
       "11  0 days 00:03:39.256067              NaN                 NaN   \n",
       "\n",
       "   params_splitter     state                Model_name params_booster  \\\n",
       "0             best  COMPLETE  Decision_Tree_Classifier            NaN   \n",
       "1           random  COMPLETE  Decision_Tree_Classifier            NaN   \n",
       "2           random  COMPLETE  Decision_Tree_Classifier            NaN   \n",
       "3              NaN    PRUNED            XGB_Classifier         gbtree   \n",
       "4              NaN    PRUNED            XGB_Classifier         gbtree   \n",
       "5              NaN    PRUNED            XGB_Classifier           dart   \n",
       "6              NaN  COMPLETE            KNN_Classifier            NaN   \n",
       "7              NaN  COMPLETE            KNN_Classifier            NaN   \n",
       "8              NaN  COMPLETE            KNN_Classifier            NaN   \n",
       "9              NaN    PRUNED                 Light_GBM            NaN   \n",
       "10             NaN  COMPLETE                 Light_GBM            NaN   \n",
       "11             NaN    PRUNED                 Light_GBM            NaN   \n",
       "\n",
       "    params_learning_rate  params_n_estimators params_tree_method  \\\n",
       "0                    NaN                  NaN                NaN   \n",
       "1                    NaN                  NaN                NaN   \n",
       "2                    NaN                  NaN                NaN   \n",
       "3               0.540325                289.0             approx   \n",
       "4               0.933155                114.0              exact   \n",
       "5               0.695166                401.0              exact   \n",
       "6                    NaN                  NaN                NaN   \n",
       "7                    NaN                  NaN                NaN   \n",
       "8                    NaN                  NaN                NaN   \n",
       "9               0.759552                148.0                NaN   \n",
       "10              0.181309                121.0                NaN   \n",
       "11              0.887353                138.0                NaN   \n",
       "\n",
       "   params_algorithm  params_n_neighbors params_weights params_boosting_type  \\\n",
       "0               NaN                 NaN            NaN                  NaN   \n",
       "1               NaN                 NaN            NaN                  NaN   \n",
       "2               NaN                 NaN            NaN                  NaN   \n",
       "3               NaN                 NaN            NaN                  NaN   \n",
       "4               NaN                 NaN            NaN                  NaN   \n",
       "5               NaN                 NaN            NaN                  NaN   \n",
       "6             brute                 9.0        uniform                  NaN   \n",
       "7              auto                 5.0       distance                  NaN   \n",
       "8             brute                 9.0        uniform                  NaN   \n",
       "9               NaN                 NaN            NaN                 gbdt   \n",
       "10              NaN                 NaN            NaN                 dart   \n",
       "11              NaN                 NaN            NaN                 dart   \n",
       "\n",
       "   params_class_weight  params_n_jobs  \n",
       "0                  NaN            NaN  \n",
       "1                  NaN            NaN  \n",
       "2                  NaN            NaN  \n",
       "3                  NaN            NaN  \n",
       "4                  NaN            NaN  \n",
       "5                  NaN            NaN  \n",
       "6                  NaN            NaN  \n",
       "7                  NaN            NaN  \n",
       "8                  NaN            NaN  \n",
       "9             balanced           -1.0  \n",
       "10            balanced           -1.0  \n",
       "11            balanced           -1.0  "
      ]
     },
     "execution_count": 54,
     "metadata": {},
     "output_type": "execute_result"
    }
   ],
   "source": [
    "optuna_study_df"
   ]
  },
  {
   "cell_type": "code",
   "execution_count": 3,
   "metadata": {},
   "outputs": [],
   "source": [
    "optuna_study_df_copy = optuna_study_df_copy[optuna_study_df_copy['state']=='COMPLETE']\n",
    "\n",
    "optuna_study_df_copy.sort_values(by = 'value', ascending=False, inplace = True)\n",
    "\n",
    "params_name = optuna_study_df_copy.columns[(optuna_study_df_copy.columns.str.contains('params')) | (optuna_study_df_copy.columns.str.contains('Model_name')) | (optuna_study_df_copy.columns.str.contains('value'))]\n",
    "params = {}\n",
    "for i in optuna_study_df_copy[params_name]['Model_name']:\n",
    "    params[i] = {}\n",
    "    for j in params_yaml['optuna'][i].keys():\n",
    "        params[i][j] = optuna_study_df_copy[params_name][optuna_study_df_copy[params_name]['Model_name'] == i][f'params_{j}'].values.tolist()\n",
    "        params[i]['accuracy_value'] = optuna_study_df_copy[params_name][optuna_study_df_copy[params_name]['Model_name'] == i]['value'].values.tolist()"
   ]
  },
  {
   "cell_type": "code",
   "execution_count": 4,
   "metadata": {},
   "outputs": [
    {
     "data": {
      "text/html": [
       "<div>\n",
       "<style scoped>\n",
       "    .dataframe tbody tr th:only-of-type {\n",
       "        vertical-align: middle;\n",
       "    }\n",
       "\n",
       "    .dataframe tbody tr th {\n",
       "        vertical-align: top;\n",
       "    }\n",
       "\n",
       "    .dataframe thead th {\n",
       "        text-align: right;\n",
       "    }\n",
       "</style>\n",
       "<table border=\"1\" class=\"dataframe\">\n",
       "  <thead>\n",
       "    <tr style=\"text-align: right;\">\n",
       "      <th></th>\n",
       "      <th>number</th>\n",
       "      <th>value</th>\n",
       "      <th>datetime_start</th>\n",
       "      <th>datetime_complete</th>\n",
       "      <th>duration</th>\n",
       "      <th>params_criterion</th>\n",
       "      <th>params_max_features</th>\n",
       "      <th>params_splitter</th>\n",
       "      <th>state</th>\n",
       "      <th>Model_name</th>\n",
       "      <th>params_booster</th>\n",
       "      <th>params_learning_rate</th>\n",
       "      <th>params_n_estimators</th>\n",
       "      <th>params_tree_method</th>\n",
       "      <th>params_algorithm</th>\n",
       "      <th>params_n_neighbors</th>\n",
       "      <th>params_weights</th>\n",
       "      <th>params_boosting_type</th>\n",
       "      <th>params_class_weight</th>\n",
       "      <th>params_n_jobs</th>\n",
       "    </tr>\n",
       "  </thead>\n",
       "  <tbody>\n",
       "    <tr>\n",
       "      <th>10</th>\n",
       "      <td>1</td>\n",
       "      <td>0.985980</td>\n",
       "      <td>2024-01-31 08:30:03.809967</td>\n",
       "      <td>2024-01-31 08:34:43.396304</td>\n",
       "      <td>0 days 00:04:39.586337</td>\n",
       "      <td>NaN</td>\n",
       "      <td>NaN</td>\n",
       "      <td>NaN</td>\n",
       "      <td>COMPLETE</td>\n",
       "      <td>Light_GBM</td>\n",
       "      <td>NaN</td>\n",
       "      <td>0.181309</td>\n",
       "      <td>121.0</td>\n",
       "      <td>NaN</td>\n",
       "      <td>NaN</td>\n",
       "      <td>NaN</td>\n",
       "      <td>NaN</td>\n",
       "      <td>dart</td>\n",
       "      <td>balanced</td>\n",
       "      <td>-1.0</td>\n",
       "    </tr>\n",
       "    <tr>\n",
       "      <th>0</th>\n",
       "      <td>0</td>\n",
       "      <td>0.973820</td>\n",
       "      <td>2024-01-31 07:41:08.839523</td>\n",
       "      <td>2024-01-31 07:45:52.525983</td>\n",
       "      <td>0 days 00:04:43.686460</td>\n",
       "      <td>entropy</td>\n",
       "      <td>log2</td>\n",
       "      <td>best</td>\n",
       "      <td>COMPLETE</td>\n",
       "      <td>Decision_Tree_Classifier</td>\n",
       "      <td>NaN</td>\n",
       "      <td>NaN</td>\n",
       "      <td>NaN</td>\n",
       "      <td>NaN</td>\n",
       "      <td>NaN</td>\n",
       "      <td>NaN</td>\n",
       "      <td>NaN</td>\n",
       "      <td>NaN</td>\n",
       "      <td>NaN</td>\n",
       "      <td>NaN</td>\n",
       "    </tr>\n",
       "    <tr>\n",
       "      <th>2</th>\n",
       "      <td>2</td>\n",
       "      <td>0.972720</td>\n",
       "      <td>2024-01-31 07:50:26.000225</td>\n",
       "      <td>2024-01-31 07:54:26.238470</td>\n",
       "      <td>0 days 00:04:00.238245</td>\n",
       "      <td>gini</td>\n",
       "      <td>NaN</td>\n",
       "      <td>random</td>\n",
       "      <td>COMPLETE</td>\n",
       "      <td>Decision_Tree_Classifier</td>\n",
       "      <td>NaN</td>\n",
       "      <td>NaN</td>\n",
       "      <td>NaN</td>\n",
       "      <td>NaN</td>\n",
       "      <td>NaN</td>\n",
       "      <td>NaN</td>\n",
       "      <td>NaN</td>\n",
       "      <td>NaN</td>\n",
       "      <td>NaN</td>\n",
       "      <td>NaN</td>\n",
       "    </tr>\n",
       "    <tr>\n",
       "      <th>1</th>\n",
       "      <td>1</td>\n",
       "      <td>0.969000</td>\n",
       "      <td>2024-01-31 07:45:52.528036</td>\n",
       "      <td>2024-01-31 07:50:25.997216</td>\n",
       "      <td>0 days 00:04:33.469180</td>\n",
       "      <td>log_loss</td>\n",
       "      <td>log2</td>\n",
       "      <td>random</td>\n",
       "      <td>COMPLETE</td>\n",
       "      <td>Decision_Tree_Classifier</td>\n",
       "      <td>NaN</td>\n",
       "      <td>NaN</td>\n",
       "      <td>NaN</td>\n",
       "      <td>NaN</td>\n",
       "      <td>NaN</td>\n",
       "      <td>NaN</td>\n",
       "      <td>NaN</td>\n",
       "      <td>NaN</td>\n",
       "      <td>NaN</td>\n",
       "      <td>NaN</td>\n",
       "    </tr>\n",
       "    <tr>\n",
       "      <th>7</th>\n",
       "      <td>1</td>\n",
       "      <td>0.955599</td>\n",
       "      <td>2024-01-31 08:16:20.304787</td>\n",
       "      <td>2024-01-31 08:21:35.162398</td>\n",
       "      <td>0 days 00:05:14.857611</td>\n",
       "      <td>NaN</td>\n",
       "      <td>NaN</td>\n",
       "      <td>NaN</td>\n",
       "      <td>COMPLETE</td>\n",
       "      <td>KNN_Classifier</td>\n",
       "      <td>NaN</td>\n",
       "      <td>NaN</td>\n",
       "      <td>NaN</td>\n",
       "      <td>NaN</td>\n",
       "      <td>auto</td>\n",
       "      <td>5.0</td>\n",
       "      <td>distance</td>\n",
       "      <td>NaN</td>\n",
       "      <td>NaN</td>\n",
       "      <td>NaN</td>\n",
       "    </tr>\n",
       "    <tr>\n",
       "      <th>6</th>\n",
       "      <td>0</td>\n",
       "      <td>0.944959</td>\n",
       "      <td>2024-01-31 08:10:57.771196</td>\n",
       "      <td>2024-01-31 08:16:20.301786</td>\n",
       "      <td>0 days 00:05:22.530590</td>\n",
       "      <td>NaN</td>\n",
       "      <td>NaN</td>\n",
       "      <td>NaN</td>\n",
       "      <td>COMPLETE</td>\n",
       "      <td>KNN_Classifier</td>\n",
       "      <td>NaN</td>\n",
       "      <td>NaN</td>\n",
       "      <td>NaN</td>\n",
       "      <td>NaN</td>\n",
       "      <td>brute</td>\n",
       "      <td>9.0</td>\n",
       "      <td>uniform</td>\n",
       "      <td>NaN</td>\n",
       "      <td>NaN</td>\n",
       "      <td>NaN</td>\n",
       "    </tr>\n",
       "    <tr>\n",
       "      <th>8</th>\n",
       "      <td>2</td>\n",
       "      <td>0.944959</td>\n",
       "      <td>2024-01-31 08:21:35.163428</td>\n",
       "      <td>2024-01-31 08:26:45.061112</td>\n",
       "      <td>0 days 00:05:09.897684</td>\n",
       "      <td>NaN</td>\n",
       "      <td>NaN</td>\n",
       "      <td>NaN</td>\n",
       "      <td>COMPLETE</td>\n",
       "      <td>KNN_Classifier</td>\n",
       "      <td>NaN</td>\n",
       "      <td>NaN</td>\n",
       "      <td>NaN</td>\n",
       "      <td>NaN</td>\n",
       "      <td>brute</td>\n",
       "      <td>9.0</td>\n",
       "      <td>uniform</td>\n",
       "      <td>NaN</td>\n",
       "      <td>NaN</td>\n",
       "      <td>NaN</td>\n",
       "    </tr>\n",
       "  </tbody>\n",
       "</table>\n",
       "</div>"
      ],
      "text/plain": [
       "    number     value              datetime_start           datetime_complete  \\\n",
       "10       1  0.985980  2024-01-31 08:30:03.809967  2024-01-31 08:34:43.396304   \n",
       "0        0  0.973820  2024-01-31 07:41:08.839523  2024-01-31 07:45:52.525983   \n",
       "2        2  0.972720  2024-01-31 07:50:26.000225  2024-01-31 07:54:26.238470   \n",
       "1        1  0.969000  2024-01-31 07:45:52.528036  2024-01-31 07:50:25.997216   \n",
       "7        1  0.955599  2024-01-31 08:16:20.304787  2024-01-31 08:21:35.162398   \n",
       "6        0  0.944959  2024-01-31 08:10:57.771196  2024-01-31 08:16:20.301786   \n",
       "8        2  0.944959  2024-01-31 08:21:35.163428  2024-01-31 08:26:45.061112   \n",
       "\n",
       "                  duration params_criterion params_max_features  \\\n",
       "10  0 days 00:04:39.586337              NaN                 NaN   \n",
       "0   0 days 00:04:43.686460          entropy                log2   \n",
       "2   0 days 00:04:00.238245             gini                 NaN   \n",
       "1   0 days 00:04:33.469180         log_loss                log2   \n",
       "7   0 days 00:05:14.857611              NaN                 NaN   \n",
       "6   0 days 00:05:22.530590              NaN                 NaN   \n",
       "8   0 days 00:05:09.897684              NaN                 NaN   \n",
       "\n",
       "   params_splitter     state                Model_name params_booster  \\\n",
       "10             NaN  COMPLETE                 Light_GBM            NaN   \n",
       "0             best  COMPLETE  Decision_Tree_Classifier            NaN   \n",
       "2           random  COMPLETE  Decision_Tree_Classifier            NaN   \n",
       "1           random  COMPLETE  Decision_Tree_Classifier            NaN   \n",
       "7              NaN  COMPLETE            KNN_Classifier            NaN   \n",
       "6              NaN  COMPLETE            KNN_Classifier            NaN   \n",
       "8              NaN  COMPLETE            KNN_Classifier            NaN   \n",
       "\n",
       "    params_learning_rate  params_n_estimators params_tree_method  \\\n",
       "10              0.181309                121.0                NaN   \n",
       "0                    NaN                  NaN                NaN   \n",
       "2                    NaN                  NaN                NaN   \n",
       "1                    NaN                  NaN                NaN   \n",
       "7                    NaN                  NaN                NaN   \n",
       "6                    NaN                  NaN                NaN   \n",
       "8                    NaN                  NaN                NaN   \n",
       "\n",
       "   params_algorithm  params_n_neighbors params_weights params_boosting_type  \\\n",
       "10              NaN                 NaN            NaN                 dart   \n",
       "0               NaN                 NaN            NaN                  NaN   \n",
       "2               NaN                 NaN            NaN                  NaN   \n",
       "1               NaN                 NaN            NaN                  NaN   \n",
       "7              auto                 5.0       distance                  NaN   \n",
       "6             brute                 9.0        uniform                  NaN   \n",
       "8             brute                 9.0        uniform                  NaN   \n",
       "\n",
       "   params_class_weight  params_n_jobs  \n",
       "10            balanced           -1.0  \n",
       "0                  NaN            NaN  \n",
       "2                  NaN            NaN  \n",
       "1                  NaN            NaN  \n",
       "7                  NaN            NaN  \n",
       "6                  NaN            NaN  \n",
       "8                  NaN            NaN  "
      ]
     },
     "execution_count": 4,
     "metadata": {},
     "output_type": "execute_result"
    }
   ],
   "source": [
    "optuna_study_df_copy"
   ]
  },
  {
   "cell_type": "code",
   "execution_count": 5,
   "metadata": {},
   "outputs": [
    {
     "name": "stdout",
     "output_type": "stream",
     "text": [
      "{'Decision_Tree_Classifier': {'accuracy_value': [0.97381998990358,\n",
      "                                                 0.9727196097395168,\n",
      "                                                 0.9690003175835422],\n",
      "                              'criterion': ['entropy', 'gini', 'log_loss'],\n",
      "                              'max_features': ['log2', nan, 'log2'],\n",
      "                              'splitter': ['best', 'random', 'random']},\n",
      " 'KNN_Classifier': {'accuracy_value': [0.9555994803440272,\n",
      "                                       0.9449593754718444,\n",
      "                                       0.9449593754718444],\n",
      "                    'algorithm': ['auto', 'brute', 'brute'],\n",
      "                    'n_neighbors': [5.0, 9.0, 9.0],\n",
      "                    'weights': ['distance', 'uniform', 'uniform']},\n",
      " 'Light_GBM': {'accuracy_value': [0.9859798868557622],\n",
      "               'boosting_type': ['dart'],\n",
      "               'class_weight': ['balanced'],\n",
      "               'learning_rate': [0.1813086641557807],\n",
      "               'n_estimators': [121.0],\n",
      "               'n_jobs': [-1.0]}}\n"
     ]
    }
   ],
   "source": [
    "pprint(params,compact=False)"
   ]
  },
  {
   "cell_type": "code",
   "execution_count": 6,
   "metadata": {},
   "outputs": [
    {
     "data": {
      "text/plain": [
       "{'criterion': 'entropy', 'splitter': 'best', 'max_features': 'log2'}"
      ]
     },
     "execution_count": 6,
     "metadata": {},
     "output_type": "execute_result"
    }
   ],
   "source": [
    "pd.DataFrame(params['Decision_Tree_Classifier']).sort_values(by = 'accuracy_value', ascending=False).iloc[:1,:].drop(columns = 'accuracy_value').squeeze().to_dict()"
   ]
  },
  {
   "cell_type": "code",
   "execution_count": 7,
   "metadata": {},
   "outputs": [
    {
     "data": {
      "text/html": [
       "<div>\n",
       "<style scoped>\n",
       "    .dataframe tbody tr th:only-of-type {\n",
       "        vertical-align: middle;\n",
       "    }\n",
       "\n",
       "    .dataframe tbody tr th {\n",
       "        vertical-align: top;\n",
       "    }\n",
       "\n",
       "    .dataframe thead th {\n",
       "        text-align: right;\n",
       "    }\n",
       "</style>\n",
       "<table border=\"1\" class=\"dataframe\">\n",
       "  <thead>\n",
       "    <tr style=\"text-align: right;\">\n",
       "      <th></th>\n",
       "      <th>criterion</th>\n",
       "      <th>accuracy_value</th>\n",
       "      <th>splitter</th>\n",
       "      <th>max_features</th>\n",
       "    </tr>\n",
       "  </thead>\n",
       "  <tbody>\n",
       "    <tr>\n",
       "      <th>0</th>\n",
       "      <td>entropy</td>\n",
       "      <td>0.97382</td>\n",
       "      <td>best</td>\n",
       "      <td>log2</td>\n",
       "    </tr>\n",
       "    <tr>\n",
       "      <th>1</th>\n",
       "      <td>gini</td>\n",
       "      <td>0.97272</td>\n",
       "      <td>random</td>\n",
       "      <td>NaN</td>\n",
       "    </tr>\n",
       "    <tr>\n",
       "      <th>2</th>\n",
       "      <td>log_loss</td>\n",
       "      <td>0.96900</td>\n",
       "      <td>random</td>\n",
       "      <td>log2</td>\n",
       "    </tr>\n",
       "  </tbody>\n",
       "</table>\n",
       "</div>"
      ],
      "text/plain": [
       "  criterion  accuracy_value splitter max_features\n",
       "0   entropy         0.97382     best         log2\n",
       "1      gini         0.97272   random          NaN\n",
       "2  log_loss         0.96900   random         log2"
      ]
     },
     "execution_count": 7,
     "metadata": {},
     "output_type": "execute_result"
    }
   ],
   "source": [
    "pd.DataFrame(params['Decision_Tree_Classifier']).sort_values(by = 'accuracy_value', ascending=False)"
   ]
  },
  {
   "cell_type": "code",
   "execution_count": 53,
   "metadata": {},
   "outputs": [
    {
     "data": {
      "text/plain": [
       "{'boosting_type': 'dart',\n",
       " 'learning_rate': 0.1813086641557807,\n",
       " 'n_estimators': 121.0,\n",
       " 'class_weight': 'balanced',\n",
       " 'n_jobs': -1.0}"
      ]
     },
     "execution_count": 53,
     "metadata": {},
     "output_type": "execute_result"
    }
   ],
   "source": [
    "pd.DataFrame(params['Light_GBM']).sort_values(by = 'accuracy_value', ascending=False).iloc[:1,:].drop(columns = 'accuracy_value').squeeze().to_dict()"
   ]
  },
  {
   "cell_type": "code",
   "execution_count": 9,
   "metadata": {},
   "outputs": [
    {
     "data": {
      "text/plain": [
       "{'Decision_Tree_Classifier': sklearn.tree._classes.DecisionTreeClassifier,\n",
       " 'KNN_Classifier': sklearn.neighbors._classification.KNeighborsClassifier,\n",
       " 'Light_GBM': lightgbm.sklearn.LGBMClassifier}"
      ]
     },
     "execution_count": 9,
     "metadata": {},
     "output_type": "execute_result"
    }
   ],
   "source": [
    "models"
   ]
  },
  {
   "cell_type": "code",
   "execution_count": 52,
   "metadata": {},
   "outputs": [
    {
     "data": {
      "text/plain": [
       "{'Decision_Tree_Classifier': sklearn.tree._classes.DecisionTreeClassifier,\n",
       " 'KNN_Classifier': sklearn.neighbors._classification.KNeighborsClassifier,\n",
       " 'Light_GBM': lightgbm.sklearn.LGBMClassifier}"
      ]
     },
     "execution_count": 52,
     "metadata": {},
     "output_type": "execute_result"
    }
   ],
   "source": [
    "models"
   ]
  },
  {
   "cell_type": "code",
   "execution_count": 56,
   "metadata": {},
   "outputs": [
    {
     "data": {
      "text/html": [
       "<div>\n",
       "<style scoped>\n",
       "    .dataframe tbody tr th:only-of-type {\n",
       "        vertical-align: middle;\n",
       "    }\n",
       "\n",
       "    .dataframe tbody tr th {\n",
       "        vertical-align: top;\n",
       "    }\n",
       "\n",
       "    .dataframe thead th {\n",
       "        text-align: right;\n",
       "    }\n",
       "</style>\n",
       "<table border=\"1\" class=\"dataframe\">\n",
       "  <thead>\n",
       "    <tr style=\"text-align: right;\">\n",
       "      <th></th>\n",
       "      <th>boosting_type</th>\n",
       "      <th>learning_rate</th>\n",
       "      <th>n_estimators</th>\n",
       "      <th>class_weight</th>\n",
       "      <th>n_jobs</th>\n",
       "    </tr>\n",
       "  </thead>\n",
       "  <tbody>\n",
       "    <tr>\n",
       "      <th>0</th>\n",
       "      <td>dart</td>\n",
       "      <td>0.181309</td>\n",
       "      <td>121.0</td>\n",
       "      <td>balanced</td>\n",
       "      <td>-1.0</td>\n",
       "    </tr>\n",
       "  </tbody>\n",
       "</table>\n",
       "</div>"
      ],
      "text/plain": [
       "  boosting_type  learning_rate  n_estimators class_weight  n_jobs\n",
       "0          dart       0.181309         121.0     balanced    -1.0"
      ]
     },
     "execution_count": 56,
     "metadata": {},
     "output_type": "execute_result"
    }
   ],
   "source": [
    "pd.DataFrame(params[key]).sort_values(by = 'accuracy_value', ascending=False).iloc[:1,:].drop(columns = 'accuracy_value')"
   ]
  },
  {
   "cell_type": "code",
   "execution_count": 10,
   "metadata": {},
   "outputs": [],
   "source": [
    "model = {}\n",
    "for key, value in models.items():\n",
    "    model[key] = value(**(pd.DataFrame(params[key]).sort_values(by = 'accuracy_value', ascending=False).iloc[:1,:].drop(columns = 'accuracy_value').squeeze().to_dict()))"
   ]
  },
  {
   "cell_type": "code",
   "execution_count": 16,
   "metadata": {},
   "outputs": [],
   "source": [
    "final_estimator_df = optuna_study_df_copy[optuna_study_df_copy['state']=='COMPLETE'].sort_values(by='value', ascending=False).iloc[:1,:]\n",
    "final_estimator_params = params_extractor(final_estimator_df)\n",
    "\n",
    "final_estimator = {}\n",
    "for key, value in models.items():\n",
    "    try:\n",
    "        final_estimator[key] = value(**(pd.DataFrame(final_estimator_params[key]).sort_values(by = 'accuracy_value', ascending=False).iloc[:1,:].drop(columns = 'accuracy_value').squeeze().to_dict()))\n",
    "    except:\n",
    "        pass"
   ]
  },
  {
   "cell_type": "code",
   "execution_count": 19,
   "metadata": {},
   "outputs": [
    {
     "data": {
      "text/plain": [
       "[('Decision_Tree_Classifier',\n",
       "  DecisionTreeClassifier(criterion='entropy', max_features='log2')),\n",
       " ('KNN_Classifier', KNeighborsClassifier(n_neighbors=5.0, weights='distance')),\n",
       " ('Light_GBM',\n",
       "  LGBMClassifier(boosting_type='dart', class_weight='balanced',\n",
       "                 learning_rate=0.1813086641557807, n_estimators=121.0,\n",
       "                 n_jobs=-1.0))]"
      ]
     },
     "execution_count": 19,
     "metadata": {},
     "output_type": "execute_result"
    }
   ],
   "source": [
    "best_estimators_ = list(zip(model.keys(),model.values()))\n",
    "best_estimators_"
   ]
  },
  {
   "cell_type": "code",
   "execution_count": 29,
   "metadata": {},
   "outputs": [],
   "source": [
    "for key, value in final_estimator.items():\n",
    "    final_estimator_ = value"
   ]
  },
  {
   "cell_type": "code",
   "execution_count": 30,
   "metadata": {},
   "outputs": [
    {
     "data": {
      "text/html": [
       "<style>#sk-container-id-2 {color: black;}#sk-container-id-2 pre{padding: 0;}#sk-container-id-2 div.sk-toggleable {background-color: white;}#sk-container-id-2 label.sk-toggleable__label {cursor: pointer;display: block;width: 100%;margin-bottom: 0;padding: 0.3em;box-sizing: border-box;text-align: center;}#sk-container-id-2 label.sk-toggleable__label-arrow:before {content: \"▸\";float: left;margin-right: 0.25em;color: #696969;}#sk-container-id-2 label.sk-toggleable__label-arrow:hover:before {color: black;}#sk-container-id-2 div.sk-estimator:hover label.sk-toggleable__label-arrow:before {color: black;}#sk-container-id-2 div.sk-toggleable__content {max-height: 0;max-width: 0;overflow: hidden;text-align: left;background-color: #f0f8ff;}#sk-container-id-2 div.sk-toggleable__content pre {margin: 0.2em;color: black;border-radius: 0.25em;background-color: #f0f8ff;}#sk-container-id-2 input.sk-toggleable__control:checked~div.sk-toggleable__content {max-height: 200px;max-width: 100%;overflow: auto;}#sk-container-id-2 input.sk-toggleable__control:checked~label.sk-toggleable__label-arrow:before {content: \"▾\";}#sk-container-id-2 div.sk-estimator input.sk-toggleable__control:checked~label.sk-toggleable__label {background-color: #d4ebff;}#sk-container-id-2 div.sk-label input.sk-toggleable__control:checked~label.sk-toggleable__label {background-color: #d4ebff;}#sk-container-id-2 input.sk-hidden--visually {border: 0;clip: rect(1px 1px 1px 1px);clip: rect(1px, 1px, 1px, 1px);height: 1px;margin: -1px;overflow: hidden;padding: 0;position: absolute;width: 1px;}#sk-container-id-2 div.sk-estimator {font-family: monospace;background-color: #f0f8ff;border: 1px dotted black;border-radius: 0.25em;box-sizing: border-box;margin-bottom: 0.5em;}#sk-container-id-2 div.sk-estimator:hover {background-color: #d4ebff;}#sk-container-id-2 div.sk-parallel-item::after {content: \"\";width: 100%;border-bottom: 1px solid gray;flex-grow: 1;}#sk-container-id-2 div.sk-label:hover label.sk-toggleable__label {background-color: #d4ebff;}#sk-container-id-2 div.sk-serial::before {content: \"\";position: absolute;border-left: 1px solid gray;box-sizing: border-box;top: 0;bottom: 0;left: 50%;z-index: 0;}#sk-container-id-2 div.sk-serial {display: flex;flex-direction: column;align-items: center;background-color: white;padding-right: 0.2em;padding-left: 0.2em;position: relative;}#sk-container-id-2 div.sk-item {position: relative;z-index: 1;}#sk-container-id-2 div.sk-parallel {display: flex;align-items: stretch;justify-content: center;background-color: white;position: relative;}#sk-container-id-2 div.sk-item::before, #sk-container-id-2 div.sk-parallel-item::before {content: \"\";position: absolute;border-left: 1px solid gray;box-sizing: border-box;top: 0;bottom: 0;left: 50%;z-index: -1;}#sk-container-id-2 div.sk-parallel-item {display: flex;flex-direction: column;z-index: 1;position: relative;background-color: white;}#sk-container-id-2 div.sk-parallel-item:first-child::after {align-self: flex-end;width: 50%;}#sk-container-id-2 div.sk-parallel-item:last-child::after {align-self: flex-start;width: 50%;}#sk-container-id-2 div.sk-parallel-item:only-child::after {width: 0;}#sk-container-id-2 div.sk-dashed-wrapped {border: 1px dashed gray;margin: 0 0.4em 0.5em 0.4em;box-sizing: border-box;padding-bottom: 0.4em;background-color: white;}#sk-container-id-2 div.sk-label label {font-family: monospace;font-weight: bold;display: inline-block;line-height: 1.2em;}#sk-container-id-2 div.sk-label-container {text-align: center;}#sk-container-id-2 div.sk-container {/* jupyter's `normalize.less` sets `[hidden] { display: none; }` but bootstrap.min.css set `[hidden] { display: none !important; }` so we also need the `!important` here to be able to override the default hidden behavior on the sphinx rendered scikit-learn.org. See: https://github.com/scikit-learn/scikit-learn/issues/21755 */display: inline-block !important;position: relative;}#sk-container-id-2 div.sk-text-repr-fallback {display: none;}</style><div id=\"sk-container-id-2\" class=\"sk-top-container\"><div class=\"sk-text-repr-fallback\"><pre>LGBMClassifier(boosting_type=&#x27;dart&#x27;, class_weight=&#x27;balanced&#x27;,\n",
       "               learning_rate=0.1813086641557807, n_estimators=121.0,\n",
       "               n_jobs=-1.0)</pre><b>In a Jupyter environment, please rerun this cell to show the HTML representation or trust the notebook. <br />On GitHub, the HTML representation is unable to render, please try loading this page with nbviewer.org.</b></div><div class=\"sk-container\" hidden><div class=\"sk-item\"><div class=\"sk-estimator sk-toggleable\"><input class=\"sk-toggleable__control sk-hidden--visually\" id=\"sk-estimator-id-2\" type=\"checkbox\" checked><label for=\"sk-estimator-id-2\" class=\"sk-toggleable__label sk-toggleable__label-arrow\">LGBMClassifier</label><div class=\"sk-toggleable__content\"><pre>LGBMClassifier(boosting_type=&#x27;dart&#x27;, class_weight=&#x27;balanced&#x27;,\n",
       "               learning_rate=0.1813086641557807, n_estimators=121.0,\n",
       "               n_jobs=-1.0)</pre></div></div></div></div></div>"
      ],
      "text/plain": [
       "LGBMClassifier(boosting_type='dart', class_weight='balanced',\n",
       "               learning_rate=0.1813086641557807, n_estimators=121.0,\n",
       "               n_jobs=-1.0)"
      ]
     },
     "execution_count": 30,
     "metadata": {},
     "output_type": "execute_result"
    }
   ],
   "source": [
    "final_estimator_"
   ]
  },
  {
   "cell_type": "code",
   "execution_count": 50,
   "metadata": {},
   "outputs": [],
   "source": [
    "stack_clf = StackingClassifier(estimators = best_estimators_,\n",
    "                   final_estimator = final_estimator_,\n",
    "                   cv = 5,                 \n",
    "                   n_jobs = -1,\n",
    "                   verbose = 3)"
   ]
  },
  {
   "cell_type": "markdown",
   "metadata": {},
   "source": [
    "### From MLFlow"
   ]
  },
  {
   "cell_type": "code",
   "execution_count": 231,
   "metadata": {},
   "outputs": [
    {
     "name": "stdout",
     "output_type": "stream",
     "text": [
      "[2024-01-31 22:00:00,962: WARNING: connectionpool: Retrying (Retry(total=4, connect=5, read=4, redirect=5, status=5)) after connection broken by 'RemoteDisconnected('Remote end closed connection without response')': /Raj-Narayanan-B/StudentMLProjectRegression.mlflow/api/2.0/mlflow/registered-models/search?max_results=100]\n"
     ]
    },
    {
     "data": {
      "text/plain": [
       "{'Challenger_Ada_Boost': '430820168dbe47159015285ad06ac831',\n",
       " 'Challenger_Bagging_Classifier': '1f20472871df464e808dcae1c1ff87ad',\n",
       " 'Challenger_Decision_Tree_Classifier': 'd574e78c7c0c420ebf982c91349ff6ab',\n",
       " 'Challenger_KNN_Classifier': 'e85991c6c1be41b59b3edcb31ac08c61',\n",
       " 'Challenger_Light_GBM': 'cd460708497e4677a2cdcadeaefd8878',\n",
       " 'Challenger_Random Forest': '8910203da9014861a55037e2f8daec87',\n",
       " 'Challenger_SGD_Classifier': '958b66f62e3d493e89e6998c40c4f5ed'}"
      ]
     },
     "execution_count": 231,
     "metadata": {},
     "output_type": "execute_result"
    }
   ],
   "source": [
    "registered_models_sample = {mlflow.search_registered_models()[i].latest_versions[0].name: mlflow.search_registered_models()[i].latest_versions[0].run_id for i in range(len(mlflow.search_registered_models()))}\n",
    "registered_models_sample"
   ]
  },
  {
   "cell_type": "code",
   "execution_count": 89,
   "metadata": {},
   "outputs": [
    {
     "data": {
      "text/plain": [
       "{'Challenger_Ada_Boost': '430820168dbe47159015285ad06ac831',\n",
       " 'Challenger_Bagging_Classifier': '1f20472871df464e808dcae1c1ff87ad',\n",
       " 'Challenger_Decision_Tree_Classifier': 'd574e78c7c0c420ebf982c91349ff6ab',\n",
       " 'Challenger_KNN_Classifier': 'e85991c6c1be41b59b3edcb31ac08c61',\n",
       " 'Challenger_Light_GBM': 'cd460708497e4677a2cdcadeaefd8878',\n",
       " 'Challenger_Random Forest': '8910203da9014861a55037e2f8daec87',\n",
       " 'Challenger_SGD_Classifier': '958b66f62e3d493e89e6998c40c4f5ed'}"
      ]
     },
     "execution_count": 89,
     "metadata": {},
     "output_type": "execute_result"
    }
   ],
   "source": [
    "registered_models = {}\n",
    "for i in range(len(mlflow.search_registered_models())):\n",
    "    registered_models[mlflow.search_registered_models()[i].latest_versions[0].name] = mlflow.search_registered_models()[i].latest_versions[0].run_id\n",
    "registered_models"
   ]
  },
  {
   "cell_type": "code",
   "execution_count": 143,
   "metadata": {},
   "outputs": [],
   "source": [
    "def params_evaluator(sample_params:dict):\n",
    "    # sample_params = client.get_run('cd460708497e4677a2cdcadeaefd8878').data.params\n",
    "    for key,value in sample_params.items():\n",
    "        try:\n",
    "            sample_params[key] = eval(value)\n",
    "        except:\n",
    "            sample_params[key] = value\n",
    "            if value == 'nan':\n",
    "                sample_params[key] = np.nan\n",
    "    return sample_params"
   ]
  },
  {
   "cell_type": "code",
   "execution_count": 144,
   "metadata": {},
   "outputs": [],
   "source": [
    "run_details = {}\n",
    "for key,value in registered_models.items():\n",
    "    run_details[client.get_run(value).data.tags['model']] = {}\n",
    "    run_details[client.get_run(value).data.tags['model']]['accuracy'] = client.get_run(value).data.metrics['Accuracy_Score']\n",
    "    run_details[client.get_run(value).data.tags['model']]['params'] = params_evaluator(client.get_run(value).data.params)"
   ]
  },
  {
   "cell_type": "code",
   "execution_count": 233,
   "metadata": {},
   "outputs": [
    {
     "name": "stdout",
     "output_type": "stream",
     "text": [
      "{'Ada_Boost': {'accuracy': 0.98819923890372,\n",
      "               'params': {'algorithm': 'SAMME.R',\n",
      "                          'base_estimator': 'deprecated',\n",
      "                          'estimator': None,\n",
      "                          'learning_rate': 1.0,\n",
      "                          'n_estimators': 150,\n",
      "                          'random_state': None}},\n",
      " 'Bagging_Classifier': {'accuracy': 0.982599878583707,\n",
      "                        'params': {'base_estimator': 'deprecated',\n",
      "                                   'bootstrap': True,\n",
      "                                   'bootstrap_features': False,\n",
      "                                   'estimator': None,\n",
      "                                   'max_features': 1.0,\n",
      "                                   'max_samples': 1.0,\n",
      "                                   'n_estimators': 98,\n",
      "                                   'n_jobs': None,\n",
      "                                   'oob_score': False,\n",
      "                                   'random_state': None,\n",
      "                                   'verbose': 0,\n",
      "                                   'warm_start': False}},\n",
      " 'Decision_Tree_Classifier': {'accuracy': 0.977599678143603,\n",
      "                              'params': {'ccp_alpha': 0.0,\n",
      "                                         'class_weight': None,\n",
      "                                         'criterion': 'gini',\n",
      "                                         'max_depth': None,\n",
      "                                         'max_features': None,\n",
      "                                         'max_leaf_nodes': None,\n",
      "                                         'min_impurity_decrease': 0.0,\n",
      "                                         'min_samples_leaf': 1,\n",
      "                                         'min_samples_split': 2,\n",
      "                                         'min_weight_fraction_leaf': 0.0,\n",
      "                                         'random_state': None,\n",
      "                                         'splitter': 'random'}},\n",
      " 'KNN_Classifier': {'accuracy': 0.9649988369673,\n",
      "                    'params': {'algorithm': 'auto',\n",
      "                               'leaf_size': 30,\n",
      "                               'metric': 'minkowski',\n",
      "                               'metric_params': None,\n",
      "                               'n_jobs': None,\n",
      "                               'n_neighbors': 5,\n",
      "                               'p': 2,\n",
      "                               'weights': 'distance'}},\n",
      " 'Light_GBM': {'accuracy': 0.987399638919755,\n",
      "               'params': {'boosting_type': 'dart',\n",
      "                          'class_weight': 'balanced',\n",
      "                          'colsample_bytree': 1.0,\n",
      "                          'importance_type': 'split',\n",
      "                          'learning_rate': 0.18130866415578073,\n",
      "                          'max_depth': -1,\n",
      "                          'min_child_samples': 20,\n",
      "                          'min_child_weight': 0.001,\n",
      "                          'min_split_gain': 0.0,\n",
      "                          'n_estimators': 121,\n",
      "                          'n_jobs': -1,\n",
      "                          'num_leaves': 31,\n",
      "                          'objective': None,\n",
      "                          'random_state': None,\n",
      "                          'reg_alpha': 0.0,\n",
      "                          'reg_lambda': 0.0,\n",
      "                          'subsample': 1.0,\n",
      "                          'subsample_for_bin': 200000,\n",
      "                          'subsample_freq': 0}},\n",
      " 'Random Forest': {'accuracy': 0.984999518703702,\n",
      "                   'params': {'bootstrap': True,\n",
      "                              'ccp_alpha': 0.0,\n",
      "                              'class_weight': 'balanced',\n",
      "                              'criterion': 'log_loss',\n",
      "                              'max_depth': None,\n",
      "                              'max_features': 'log2',\n",
      "                              'max_leaf_nodes': None,\n",
      "                              'max_samples': None,\n",
      "                              'min_impurity_decrease': 0.0,\n",
      "                              'min_samples_leaf': 1,\n",
      "                              'min_samples_split': 2,\n",
      "                              'min_weight_fraction_leaf': 0.0,\n",
      "                              'n_estimators': 120,\n",
      "                              'n_jobs': None,\n",
      "                              'oob_score': False,\n",
      "                              'random_state': None,\n",
      "                              'verbose': 0,\n",
      "                              'warm_start': False}},\n",
      " 'SGD_Classifier': {'accuracy': 0.58779204543245,\n",
      "                    'params': {'alpha': 0.0001,\n",
      "                               'average': False,\n",
      "                               'class_weight': None,\n",
      "                               'early_stopping': False,\n",
      "                               'epsilon': 0.1,\n",
      "                               'eta0': 0.0,\n",
      "                               'fit_intercept': True,\n",
      "                               'l1_ratio': 0.15,\n",
      "                               'learning_rate': 'optimal',\n",
      "                               'loss': 'hinge',\n",
      "                               'max_iter': 1000,\n",
      "                               'n_iter_no_change': 5,\n",
      "                               'n_jobs': None,\n",
      "                               'penalty': 'l2',\n",
      "                               'power_t': 0.5,\n",
      "                               'random_state': None,\n",
      "                               'shuffle': True,\n",
      "                               'tol': 0.001,\n",
      "                               'validation_fraction': 0.1,\n",
      "                               'verbose': 0,\n",
      "                               'warm_start': False}}}\n"
     ]
    }
   ],
   "source": [
    "pprint(run_details)"
   ]
  },
  {
   "cell_type": "code",
   "execution_count": 152,
   "metadata": {},
   "outputs": [
    {
     "data": {
      "text/html": [
       "<div>\n",
       "<style scoped>\n",
       "    .dataframe tbody tr th:only-of-type {\n",
       "        vertical-align: middle;\n",
       "    }\n",
       "\n",
       "    .dataframe tbody tr th {\n",
       "        vertical-align: top;\n",
       "    }\n",
       "\n",
       "    .dataframe thead th {\n",
       "        text-align: right;\n",
       "    }\n",
       "</style>\n",
       "<table border=\"1\" class=\"dataframe\">\n",
       "  <thead>\n",
       "    <tr style=\"text-align: right;\">\n",
       "      <th></th>\n",
       "      <th>accuracy</th>\n",
       "      <th>params</th>\n",
       "    </tr>\n",
       "  </thead>\n",
       "  <tbody>\n",
       "    <tr>\n",
       "      <th>Ada_Boost</th>\n",
       "      <td>0.988199</td>\n",
       "      <td>{'algorithm': 'SAMME.R', 'base_estimator': 'de...</td>\n",
       "    </tr>\n",
       "    <tr>\n",
       "      <th>Bagging_Classifier</th>\n",
       "      <td>0.9826</td>\n",
       "      <td>{'base_estimator': 'deprecated', 'bootstrap': ...</td>\n",
       "    </tr>\n",
       "    <tr>\n",
       "      <th>Decision_Tree_Classifier</th>\n",
       "      <td>0.9776</td>\n",
       "      <td>{'ccp_alpha': 0.0, 'class_weight': None, 'crit...</td>\n",
       "    </tr>\n",
       "    <tr>\n",
       "      <th>KNN_Classifier</th>\n",
       "      <td>0.964999</td>\n",
       "      <td>{'algorithm': 'auto', 'leaf_size': 30, 'metric...</td>\n",
       "    </tr>\n",
       "    <tr>\n",
       "      <th>Light_GBM</th>\n",
       "      <td>0.9874</td>\n",
       "      <td>{'boosting_type': 'dart', 'class_weight': 'bal...</td>\n",
       "    </tr>\n",
       "    <tr>\n",
       "      <th>Random Forest</th>\n",
       "      <td>0.985</td>\n",
       "      <td>{'bootstrap': True, 'ccp_alpha': 0.0, 'class_w...</td>\n",
       "    </tr>\n",
       "    <tr>\n",
       "      <th>SGD_Classifier</th>\n",
       "      <td>0.587792</td>\n",
       "      <td>{'alpha': 0.0001, 'average': False, 'class_wei...</td>\n",
       "    </tr>\n",
       "  </tbody>\n",
       "</table>\n",
       "</div>"
      ],
      "text/plain": [
       "                          accuracy  \\\n",
       "Ada_Boost                 0.988199   \n",
       "Bagging_Classifier          0.9826   \n",
       "Decision_Tree_Classifier    0.9776   \n",
       "KNN_Classifier            0.964999   \n",
       "Light_GBM                   0.9874   \n",
       "Random Forest                0.985   \n",
       "SGD_Classifier            0.587792   \n",
       "\n",
       "                                                                     params  \n",
       "Ada_Boost                 {'algorithm': 'SAMME.R', 'base_estimator': 'de...  \n",
       "Bagging_Classifier        {'base_estimator': 'deprecated', 'bootstrap': ...  \n",
       "Decision_Tree_Classifier  {'ccp_alpha': 0.0, 'class_weight': None, 'crit...  \n",
       "KNN_Classifier            {'algorithm': 'auto', 'leaf_size': 30, 'metric...  \n",
       "Light_GBM                 {'boosting_type': 'dart', 'class_weight': 'bal...  \n",
       "Random Forest             {'bootstrap': True, 'ccp_alpha': 0.0, 'class_w...  \n",
       "SGD_Classifier            {'alpha': 0.0001, 'average': False, 'class_wei...  "
      ]
     },
     "execution_count": 152,
     "metadata": {},
     "output_type": "execute_result"
    }
   ],
   "source": [
    "models_df = pd.DataFrame(run_details).T\n",
    "models_df"
   ]
  },
  {
   "cell_type": "code",
   "execution_count": 157,
   "metadata": {},
   "outputs": [
    {
     "data": {
      "text/html": [
       "<div>\n",
       "<style scoped>\n",
       "    .dataframe tbody tr th:only-of-type {\n",
       "        vertical-align: middle;\n",
       "    }\n",
       "\n",
       "    .dataframe tbody tr th {\n",
       "        vertical-align: top;\n",
       "    }\n",
       "\n",
       "    .dataframe thead th {\n",
       "        text-align: right;\n",
       "    }\n",
       "</style>\n",
       "<table border=\"1\" class=\"dataframe\">\n",
       "  <thead>\n",
       "    <tr style=\"text-align: right;\">\n",
       "      <th></th>\n",
       "      <th>accuracy</th>\n",
       "      <th>params</th>\n",
       "    </tr>\n",
       "  </thead>\n",
       "  <tbody>\n",
       "    <tr>\n",
       "      <th>Ada_Boost</th>\n",
       "      <td>0.988199</td>\n",
       "      <td>{'algorithm': 'SAMME.R', 'base_estimator': 'de...</td>\n",
       "    </tr>\n",
       "    <tr>\n",
       "      <th>Light_GBM</th>\n",
       "      <td>0.9874</td>\n",
       "      <td>{'boosting_type': 'dart', 'class_weight': 'bal...</td>\n",
       "    </tr>\n",
       "    <tr>\n",
       "      <th>Random Forest</th>\n",
       "      <td>0.985</td>\n",
       "      <td>{'bootstrap': True, 'ccp_alpha': 0.0, 'class_w...</td>\n",
       "    </tr>\n",
       "    <tr>\n",
       "      <th>Bagging_Classifier</th>\n",
       "      <td>0.9826</td>\n",
       "      <td>{'base_estimator': 'deprecated', 'bootstrap': ...</td>\n",
       "    </tr>\n",
       "    <tr>\n",
       "      <th>Decision_Tree_Classifier</th>\n",
       "      <td>0.9776</td>\n",
       "      <td>{'ccp_alpha': 0.0, 'class_weight': None, 'crit...</td>\n",
       "    </tr>\n",
       "    <tr>\n",
       "      <th>KNN_Classifier</th>\n",
       "      <td>0.964999</td>\n",
       "      <td>{'algorithm': 'auto', 'leaf_size': 30, 'metric...</td>\n",
       "    </tr>\n",
       "  </tbody>\n",
       "</table>\n",
       "</div>"
      ],
      "text/plain": [
       "                          accuracy  \\\n",
       "Ada_Boost                 0.988199   \n",
       "Light_GBM                   0.9874   \n",
       "Random Forest                0.985   \n",
       "Bagging_Classifier          0.9826   \n",
       "Decision_Tree_Classifier    0.9776   \n",
       "KNN_Classifier            0.964999   \n",
       "\n",
       "                                                                     params  \n",
       "Ada_Boost                 {'algorithm': 'SAMME.R', 'base_estimator': 'de...  \n",
       "Light_GBM                 {'boosting_type': 'dart', 'class_weight': 'bal...  \n",
       "Random Forest             {'bootstrap': True, 'ccp_alpha': 0.0, 'class_w...  \n",
       "Bagging_Classifier        {'base_estimator': 'deprecated', 'bootstrap': ...  \n",
       "Decision_Tree_Classifier  {'ccp_alpha': 0.0, 'class_weight': None, 'crit...  \n",
       "KNN_Classifier            {'algorithm': 'auto', 'leaf_size': 30, 'metric...  "
      ]
     },
     "execution_count": 157,
     "metadata": {},
     "output_type": "execute_result"
    }
   ],
   "source": [
    "sorted_models_df = models_df[models_df['accuracy'] > 0.9].sort_values(by = 'accuracy', ascending=False)\n",
    "sorted_models_df"
   ]
  },
  {
   "cell_type": "code",
   "execution_count": 158,
   "metadata": {},
   "outputs": [
    {
     "data": {
      "text/plain": [
       "Index(['Ada_Boost', 'Light_GBM', 'Random Forest', 'Bagging_Classifier',\n",
       "       'Decision_Tree_Classifier', 'KNN_Classifier'],\n",
       "      dtype='object')"
      ]
     },
     "execution_count": 158,
     "metadata": {},
     "output_type": "execute_result"
    }
   ],
   "source": [
    "sorted_models_df.index"
   ]
  },
  {
   "cell_type": "code",
   "execution_count": 177,
   "metadata": {},
   "outputs": [
    {
     "data": {
      "text/plain": [
       "Ada_Boost                   {'algorithm': 'SAMME.R', 'base_estimator': 'de...\n",
       "Light_GBM                   {'boosting_type': 'dart', 'class_weight': 'bal...\n",
       "Random Forest               {'bootstrap': True, 'ccp_alpha': 0.0, 'class_w...\n",
       "Bagging_Classifier          {'base_estimator': 'deprecated', 'bootstrap': ...\n",
       "Decision_Tree_Classifier    {'ccp_alpha': 0.0, 'class_weight': None, 'crit...\n",
       "KNN_Classifier              {'algorithm': 'auto', 'leaf_size': 30, 'metric...\n",
       "Name: params, dtype: object"
      ]
     },
     "execution_count": 177,
     "metadata": {},
     "output_type": "execute_result"
    }
   ],
   "source": [
    "sorted_models_df.params"
   ]
  },
  {
   "cell_type": "code",
   "execution_count": 182,
   "metadata": {},
   "outputs": [
    {
     "data": {
      "text/plain": [
       "{'Random Forest': RandomForestClassifier(class_weight='balanced', criterion='log_loss',\n",
       "                        max_features='log2', n_estimators=120),\n",
       " 'Ada_Boost': AdaBoostClassifier(n_estimators=150),\n",
       " 'Bagging_Classifier': BaggingClassifier(n_estimators=98),\n",
       " 'Decision_Tree_Classifier': DecisionTreeClassifier(splitter='random'),\n",
       " 'KNN_Classifier': KNeighborsClassifier(weights='distance'),\n",
       " 'Light_GBM': LGBMClassifier(boosting_type='dart', class_weight='balanced',\n",
       "                learning_rate=0.18130866415578073, n_estimators=121, n_jobs=-1)}"
      ]
     },
     "execution_count": 182,
     "metadata": {},
     "output_type": "execute_result"
    }
   ],
   "source": [
    "mlflow_models = {}\n",
    "for key,value in models.items():\n",
    "    if key in sorted_models_df.index:\n",
    "        mlflow_models[key] = value(**(sorted_models_df.params[key]))\n",
    "mlflow_models"
   ]
  },
  {
   "cell_type": "code",
   "execution_count": 181,
   "metadata": {},
   "outputs": [
    {
     "data": {
      "text/plain": [
       "{'Random Forest': RandomForestClassifier(class_weight='balanced', criterion='log_loss',\n",
       "                        max_features='log2', n_estimators=120),\n",
       " 'Ada_Boost': AdaBoostClassifier(n_estimators=150),\n",
       " 'Bagging_Classifier': BaggingClassifier(n_estimators=98),\n",
       " 'Decision_Tree_Classifier': DecisionTreeClassifier(splitter='random'),\n",
       " 'KNN_Classifier': KNeighborsClassifier(weights='distance'),\n",
       " 'Light_GBM': LGBMClassifier(boosting_type='dart', class_weight='balanced',\n",
       "                learning_rate=0.18130866415578073, n_estimators=121, n_jobs=-1)}"
      ]
     },
     "execution_count": 181,
     "metadata": {},
     "output_type": "execute_result"
    }
   ],
   "source": [
    "mlflow_models_sample = {key:value(**(sorted_models_df.params[key])) for key,value in models.items() if  key in sorted_models_df.index}\n",
    "mlflow_models_sample"
   ]
  },
  {
   "cell_type": "code",
   "execution_count": 179,
   "metadata": {},
   "outputs": [
    {
     "data": {
      "text/plain": [
       "[('Random Forest',\n",
       "  RandomForestClassifier(class_weight='balanced', criterion='log_loss',\n",
       "                         max_features='log2', n_estimators=120)),\n",
       " ('Ada_Boost', AdaBoostClassifier(n_estimators=150)),\n",
       " ('Bagging_Classifier', BaggingClassifier(n_estimators=98)),\n",
       " ('Decision_Tree_Classifier', DecisionTreeClassifier(splitter='random')),\n",
       " ('KNN_Classifier', KNeighborsClassifier(weights='distance')),\n",
       " ('Light_GBM',\n",
       "  LGBMClassifier(boosting_type='dart', class_weight='balanced',\n",
       "                 learning_rate=0.18130866415578073, n_estimators=121, n_jobs=-1))]"
      ]
     },
     "execution_count": 179,
     "metadata": {},
     "output_type": "execute_result"
    }
   ],
   "source": [
    "best_estimators_mlflow = list(zip(mlflow_models.keys(),mlflow_models.values()))\n",
    "best_estimators_mlflow"
   ]
  },
  {
   "cell_type": "code",
   "execution_count": 203,
   "metadata": {},
   "outputs": [],
   "source": [
    "sorted_models_df.iloc[:1,:]\n",
    "final_estimator_mlflow = {key:value(**(sorted_models_df.iloc[:1,:].params[key])) for key,value in models.items() if key in sorted_models_df.iloc[:1,:].index}\n",
    "final_estimator_mlflow[sorted_models_df.iloc[:1,:].index.values[0]]"
   ]
  },
  {
   "cell_type": "code",
   "execution_count": 234,
   "metadata": {},
   "outputs": [
    {
     "data": {
      "text/html": [
       "<style>#sk-container-id-9 {color: black;}#sk-container-id-9 pre{padding: 0;}#sk-container-id-9 div.sk-toggleable {background-color: white;}#sk-container-id-9 label.sk-toggleable__label {cursor: pointer;display: block;width: 100%;margin-bottom: 0;padding: 0.3em;box-sizing: border-box;text-align: center;}#sk-container-id-9 label.sk-toggleable__label-arrow:before {content: \"▸\";float: left;margin-right: 0.25em;color: #696969;}#sk-container-id-9 label.sk-toggleable__label-arrow:hover:before {color: black;}#sk-container-id-9 div.sk-estimator:hover label.sk-toggleable__label-arrow:before {color: black;}#sk-container-id-9 div.sk-toggleable__content {max-height: 0;max-width: 0;overflow: hidden;text-align: left;background-color: #f0f8ff;}#sk-container-id-9 div.sk-toggleable__content pre {margin: 0.2em;color: black;border-radius: 0.25em;background-color: #f0f8ff;}#sk-container-id-9 input.sk-toggleable__control:checked~div.sk-toggleable__content {max-height: 200px;max-width: 100%;overflow: auto;}#sk-container-id-9 input.sk-toggleable__control:checked~label.sk-toggleable__label-arrow:before {content: \"▾\";}#sk-container-id-9 div.sk-estimator input.sk-toggleable__control:checked~label.sk-toggleable__label {background-color: #d4ebff;}#sk-container-id-9 div.sk-label input.sk-toggleable__control:checked~label.sk-toggleable__label {background-color: #d4ebff;}#sk-container-id-9 input.sk-hidden--visually {border: 0;clip: rect(1px 1px 1px 1px);clip: rect(1px, 1px, 1px, 1px);height: 1px;margin: -1px;overflow: hidden;padding: 0;position: absolute;width: 1px;}#sk-container-id-9 div.sk-estimator {font-family: monospace;background-color: #f0f8ff;border: 1px dotted black;border-radius: 0.25em;box-sizing: border-box;margin-bottom: 0.5em;}#sk-container-id-9 div.sk-estimator:hover {background-color: #d4ebff;}#sk-container-id-9 div.sk-parallel-item::after {content: \"\";width: 100%;border-bottom: 1px solid gray;flex-grow: 1;}#sk-container-id-9 div.sk-label:hover label.sk-toggleable__label {background-color: #d4ebff;}#sk-container-id-9 div.sk-serial::before {content: \"\";position: absolute;border-left: 1px solid gray;box-sizing: border-box;top: 0;bottom: 0;left: 50%;z-index: 0;}#sk-container-id-9 div.sk-serial {display: flex;flex-direction: column;align-items: center;background-color: white;padding-right: 0.2em;padding-left: 0.2em;position: relative;}#sk-container-id-9 div.sk-item {position: relative;z-index: 1;}#sk-container-id-9 div.sk-parallel {display: flex;align-items: stretch;justify-content: center;background-color: white;position: relative;}#sk-container-id-9 div.sk-item::before, #sk-container-id-9 div.sk-parallel-item::before {content: \"\";position: absolute;border-left: 1px solid gray;box-sizing: border-box;top: 0;bottom: 0;left: 50%;z-index: -1;}#sk-container-id-9 div.sk-parallel-item {display: flex;flex-direction: column;z-index: 1;position: relative;background-color: white;}#sk-container-id-9 div.sk-parallel-item:first-child::after {align-self: flex-end;width: 50%;}#sk-container-id-9 div.sk-parallel-item:last-child::after {align-self: flex-start;width: 50%;}#sk-container-id-9 div.sk-parallel-item:only-child::after {width: 0;}#sk-container-id-9 div.sk-dashed-wrapped {border: 1px dashed gray;margin: 0 0.4em 0.5em 0.4em;box-sizing: border-box;padding-bottom: 0.4em;background-color: white;}#sk-container-id-9 div.sk-label label {font-family: monospace;font-weight: bold;display: inline-block;line-height: 1.2em;}#sk-container-id-9 div.sk-label-container {text-align: center;}#sk-container-id-9 div.sk-container {/* jupyter's `normalize.less` sets `[hidden] { display: none; }` but bootstrap.min.css set `[hidden] { display: none !important; }` so we also need the `!important` here to be able to override the default hidden behavior on the sphinx rendered scikit-learn.org. See: https://github.com/scikit-learn/scikit-learn/issues/21755 */display: inline-block !important;position: relative;}#sk-container-id-9 div.sk-text-repr-fallback {display: none;}</style><div id=\"sk-container-id-9\" class=\"sk-top-container\"><div class=\"sk-text-repr-fallback\"><pre>AdaBoostClassifier(n_estimators=150)</pre><b>In a Jupyter environment, please rerun this cell to show the HTML representation or trust the notebook. <br />On GitHub, the HTML representation is unable to render, please try loading this page with nbviewer.org.</b></div><div class=\"sk-container\" hidden><div class=\"sk-item\"><div class=\"sk-estimator sk-toggleable\"><input class=\"sk-toggleable__control sk-hidden--visually\" id=\"sk-estimator-id-32\" type=\"checkbox\" checked><label for=\"sk-estimator-id-32\" class=\"sk-toggleable__label sk-toggleable__label-arrow\">AdaBoostClassifier</label><div class=\"sk-toggleable__content\"><pre>AdaBoostClassifier(n_estimators=150)</pre></div></div></div></div></div>"
      ],
      "text/plain": [
       "AdaBoostClassifier(n_estimators=150)"
      ]
     },
     "execution_count": 234,
     "metadata": {},
     "output_type": "execute_result"
    }
   ],
   "source": [
    "final_estimator_mlflow[sorted_models_df.iloc[:1,:].index.values[0]]"
   ]
  },
  {
   "cell_type": "code",
   "execution_count": 214,
   "metadata": {},
   "outputs": [
    {
     "data": {
      "text/plain": [
       "{'Ada_Boost': AdaBoostClassifier(n_estimators=150)}"
      ]
     },
     "execution_count": 214,
     "metadata": {},
     "output_type": "execute_result"
    }
   ],
   "source": [
    "final_estimator_mlflow"
   ]
  },
  {
   "cell_type": "code",
   "execution_count": 240,
   "metadata": {},
   "outputs": [
    {
     "data": {
      "text/html": [
       "<style>#sk-container-id-10 {color: black;}#sk-container-id-10 pre{padding: 0;}#sk-container-id-10 div.sk-toggleable {background-color: white;}#sk-container-id-10 label.sk-toggleable__label {cursor: pointer;display: block;width: 100%;margin-bottom: 0;padding: 0.3em;box-sizing: border-box;text-align: center;}#sk-container-id-10 label.sk-toggleable__label-arrow:before {content: \"▸\";float: left;margin-right: 0.25em;color: #696969;}#sk-container-id-10 label.sk-toggleable__label-arrow:hover:before {color: black;}#sk-container-id-10 div.sk-estimator:hover label.sk-toggleable__label-arrow:before {color: black;}#sk-container-id-10 div.sk-toggleable__content {max-height: 0;max-width: 0;overflow: hidden;text-align: left;background-color: #f0f8ff;}#sk-container-id-10 div.sk-toggleable__content pre {margin: 0.2em;color: black;border-radius: 0.25em;background-color: #f0f8ff;}#sk-container-id-10 input.sk-toggleable__control:checked~div.sk-toggleable__content {max-height: 200px;max-width: 100%;overflow: auto;}#sk-container-id-10 input.sk-toggleable__control:checked~label.sk-toggleable__label-arrow:before {content: \"▾\";}#sk-container-id-10 div.sk-estimator input.sk-toggleable__control:checked~label.sk-toggleable__label {background-color: #d4ebff;}#sk-container-id-10 div.sk-label input.sk-toggleable__control:checked~label.sk-toggleable__label {background-color: #d4ebff;}#sk-container-id-10 input.sk-hidden--visually {border: 0;clip: rect(1px 1px 1px 1px);clip: rect(1px, 1px, 1px, 1px);height: 1px;margin: -1px;overflow: hidden;padding: 0;position: absolute;width: 1px;}#sk-container-id-10 div.sk-estimator {font-family: monospace;background-color: #f0f8ff;border: 1px dotted black;border-radius: 0.25em;box-sizing: border-box;margin-bottom: 0.5em;}#sk-container-id-10 div.sk-estimator:hover {background-color: #d4ebff;}#sk-container-id-10 div.sk-parallel-item::after {content: \"\";width: 100%;border-bottom: 1px solid gray;flex-grow: 1;}#sk-container-id-10 div.sk-label:hover label.sk-toggleable__label {background-color: #d4ebff;}#sk-container-id-10 div.sk-serial::before {content: \"\";position: absolute;border-left: 1px solid gray;box-sizing: border-box;top: 0;bottom: 0;left: 50%;z-index: 0;}#sk-container-id-10 div.sk-serial {display: flex;flex-direction: column;align-items: center;background-color: white;padding-right: 0.2em;padding-left: 0.2em;position: relative;}#sk-container-id-10 div.sk-item {position: relative;z-index: 1;}#sk-container-id-10 div.sk-parallel {display: flex;align-items: stretch;justify-content: center;background-color: white;position: relative;}#sk-container-id-10 div.sk-item::before, #sk-container-id-10 div.sk-parallel-item::before {content: \"\";position: absolute;border-left: 1px solid gray;box-sizing: border-box;top: 0;bottom: 0;left: 50%;z-index: -1;}#sk-container-id-10 div.sk-parallel-item {display: flex;flex-direction: column;z-index: 1;position: relative;background-color: white;}#sk-container-id-10 div.sk-parallel-item:first-child::after {align-self: flex-end;width: 50%;}#sk-container-id-10 div.sk-parallel-item:last-child::after {align-self: flex-start;width: 50%;}#sk-container-id-10 div.sk-parallel-item:only-child::after {width: 0;}#sk-container-id-10 div.sk-dashed-wrapped {border: 1px dashed gray;margin: 0 0.4em 0.5em 0.4em;box-sizing: border-box;padding-bottom: 0.4em;background-color: white;}#sk-container-id-10 div.sk-label label {font-family: monospace;font-weight: bold;display: inline-block;line-height: 1.2em;}#sk-container-id-10 div.sk-label-container {text-align: center;}#sk-container-id-10 div.sk-container {/* jupyter's `normalize.less` sets `[hidden] { display: none; }` but bootstrap.min.css set `[hidden] { display: none !important; }` so we also need the `!important` here to be able to override the default hidden behavior on the sphinx rendered scikit-learn.org. See: https://github.com/scikit-learn/scikit-learn/issues/21755 */display: inline-block !important;position: relative;}#sk-container-id-10 div.sk-text-repr-fallback {display: none;}</style><div id=\"sk-container-id-10\" class=\"sk-top-container\"><div class=\"sk-text-repr-fallback\"><pre>AdaBoostClassifier(n_estimators=150)</pre><b>In a Jupyter environment, please rerun this cell to show the HTML representation or trust the notebook. <br />On GitHub, the HTML representation is unable to render, please try loading this page with nbviewer.org.</b></div><div class=\"sk-container\" hidden><div class=\"sk-item\"><div class=\"sk-estimator sk-toggleable\"><input class=\"sk-toggleable__control sk-hidden--visually\" id=\"sk-estimator-id-33\" type=\"checkbox\" checked><label for=\"sk-estimator-id-33\" class=\"sk-toggleable__label sk-toggleable__label-arrow\">AdaBoostClassifier</label><div class=\"sk-toggleable__content\"><pre>AdaBoostClassifier(n_estimators=150)</pre></div></div></div></div></div>"
      ],
      "text/plain": [
       "AdaBoostClassifier(n_estimators=150)"
      ]
     },
     "execution_count": 240,
     "metadata": {},
     "output_type": "execute_result"
    }
   ],
   "source": [
    "final_estimator_mlflow[sorted_models_df.iloc[:1,:].index.values[0]]"
   ]
  },
  {
   "cell_type": "code",
   "execution_count": 138,
   "metadata": {},
   "outputs": [
    {
     "data": {
      "text/plain": [
       "{'algorithm': 'auto',\n",
       " 'leaf_size': '30',\n",
       " 'metric': 'minkowski',\n",
       " 'metric_params': 'None',\n",
       " 'n_jobs': 'None',\n",
       " 'n_neighbors': '5',\n",
       " 'p': '2',\n",
       " 'weights': 'distance'}"
      ]
     },
     "execution_count": 138,
     "metadata": {},
     "output_type": "execute_result"
    }
   ],
   "source": [
    "pd.DataFrame(run_details).T.loc['KNN_Classifier']['params']"
   ]
  },
  {
   "cell_type": "code",
   "execution_count": 146,
   "metadata": {},
   "outputs": [
    {
     "data": {
      "text/plain": [
       "{'ccp_alpha': 0.0,\n",
       " 'class_weight': None,\n",
       " 'criterion': 'gini',\n",
       " 'max_depth': None,\n",
       " 'max_features': None,\n",
       " 'max_leaf_nodes': None,\n",
       " 'min_impurity_decrease': 0.0,\n",
       " 'min_samples_leaf': 1,\n",
       " 'min_samples_split': 2,\n",
       " 'min_weight_fraction_leaf': 0.0,\n",
       " 'random_state': None,\n",
       " 'splitter': 'random'}"
      ]
     },
     "execution_count": 146,
     "metadata": {},
     "output_type": "execute_result"
    }
   ],
   "source": [
    "pd.DataFrame(run_details).T.loc['Decision_Tree_Classifier']['params']"
   ]
  },
  {
   "cell_type": "code",
   "execution_count": 216,
   "metadata": {},
   "outputs": [],
   "source": [
    "stack_clf_mlflow = StackingClassifier(estimators = best_estimators_mlflow,\n",
    "                   final_estimator = final_estimator_mlflow[sorted_models_df.iloc[:1,:].index.values[0]],\n",
    "                   cv = 5,                 \n",
    "                   n_jobs = -1,\n",
    "                   verbose = 3)"
   ]
  },
  {
   "cell_type": "code",
   "execution_count": 217,
   "metadata": {},
   "outputs": [
    {
     "data": {
      "text/html": [
       "<style>#sk-container-id-6 {color: black;}#sk-container-id-6 pre{padding: 0;}#sk-container-id-6 div.sk-toggleable {background-color: white;}#sk-container-id-6 label.sk-toggleable__label {cursor: pointer;display: block;width: 100%;margin-bottom: 0;padding: 0.3em;box-sizing: border-box;text-align: center;}#sk-container-id-6 label.sk-toggleable__label-arrow:before {content: \"▸\";float: left;margin-right: 0.25em;color: #696969;}#sk-container-id-6 label.sk-toggleable__label-arrow:hover:before {color: black;}#sk-container-id-6 div.sk-estimator:hover label.sk-toggleable__label-arrow:before {color: black;}#sk-container-id-6 div.sk-toggleable__content {max-height: 0;max-width: 0;overflow: hidden;text-align: left;background-color: #f0f8ff;}#sk-container-id-6 div.sk-toggleable__content pre {margin: 0.2em;color: black;border-radius: 0.25em;background-color: #f0f8ff;}#sk-container-id-6 input.sk-toggleable__control:checked~div.sk-toggleable__content {max-height: 200px;max-width: 100%;overflow: auto;}#sk-container-id-6 input.sk-toggleable__control:checked~label.sk-toggleable__label-arrow:before {content: \"▾\";}#sk-container-id-6 div.sk-estimator input.sk-toggleable__control:checked~label.sk-toggleable__label {background-color: #d4ebff;}#sk-container-id-6 div.sk-label input.sk-toggleable__control:checked~label.sk-toggleable__label {background-color: #d4ebff;}#sk-container-id-6 input.sk-hidden--visually {border: 0;clip: rect(1px 1px 1px 1px);clip: rect(1px, 1px, 1px, 1px);height: 1px;margin: -1px;overflow: hidden;padding: 0;position: absolute;width: 1px;}#sk-container-id-6 div.sk-estimator {font-family: monospace;background-color: #f0f8ff;border: 1px dotted black;border-radius: 0.25em;box-sizing: border-box;margin-bottom: 0.5em;}#sk-container-id-6 div.sk-estimator:hover {background-color: #d4ebff;}#sk-container-id-6 div.sk-parallel-item::after {content: \"\";width: 100%;border-bottom: 1px solid gray;flex-grow: 1;}#sk-container-id-6 div.sk-label:hover label.sk-toggleable__label {background-color: #d4ebff;}#sk-container-id-6 div.sk-serial::before {content: \"\";position: absolute;border-left: 1px solid gray;box-sizing: border-box;top: 0;bottom: 0;left: 50%;z-index: 0;}#sk-container-id-6 div.sk-serial {display: flex;flex-direction: column;align-items: center;background-color: white;padding-right: 0.2em;padding-left: 0.2em;position: relative;}#sk-container-id-6 div.sk-item {position: relative;z-index: 1;}#sk-container-id-6 div.sk-parallel {display: flex;align-items: stretch;justify-content: center;background-color: white;position: relative;}#sk-container-id-6 div.sk-item::before, #sk-container-id-6 div.sk-parallel-item::before {content: \"\";position: absolute;border-left: 1px solid gray;box-sizing: border-box;top: 0;bottom: 0;left: 50%;z-index: -1;}#sk-container-id-6 div.sk-parallel-item {display: flex;flex-direction: column;z-index: 1;position: relative;background-color: white;}#sk-container-id-6 div.sk-parallel-item:first-child::after {align-self: flex-end;width: 50%;}#sk-container-id-6 div.sk-parallel-item:last-child::after {align-self: flex-start;width: 50%;}#sk-container-id-6 div.sk-parallel-item:only-child::after {width: 0;}#sk-container-id-6 div.sk-dashed-wrapped {border: 1px dashed gray;margin: 0 0.4em 0.5em 0.4em;box-sizing: border-box;padding-bottom: 0.4em;background-color: white;}#sk-container-id-6 div.sk-label label {font-family: monospace;font-weight: bold;display: inline-block;line-height: 1.2em;}#sk-container-id-6 div.sk-label-container {text-align: center;}#sk-container-id-6 div.sk-container {/* jupyter's `normalize.less` sets `[hidden] { display: none; }` but bootstrap.min.css set `[hidden] { display: none !important; }` so we also need the `!important` here to be able to override the default hidden behavior on the sphinx rendered scikit-learn.org. See: https://github.com/scikit-learn/scikit-learn/issues/21755 */display: inline-block !important;position: relative;}#sk-container-id-6 div.sk-text-repr-fallback {display: none;}</style><div id=\"sk-container-id-6\" class=\"sk-top-container\"><div class=\"sk-text-repr-fallback\"><pre>StackingClassifier(cv=5,\n",
       "                   estimators=[(&#x27;Random Forest&#x27;,\n",
       "                                RandomForestClassifier(class_weight=&#x27;balanced&#x27;,\n",
       "                                                       criterion=&#x27;log_loss&#x27;,\n",
       "                                                       max_features=&#x27;log2&#x27;,\n",
       "                                                       n_estimators=120)),\n",
       "                               (&#x27;Ada_Boost&#x27;,\n",
       "                                AdaBoostClassifier(n_estimators=150)),\n",
       "                               (&#x27;Bagging_Classifier&#x27;,\n",
       "                                BaggingClassifier(n_estimators=98)),\n",
       "                               (&#x27;Decision_Tree_Classifier&#x27;,\n",
       "                                DecisionTreeClassifier(splitter=&#x27;random&#x27;)),\n",
       "                               (&#x27;KNN_Classifier&#x27;,\n",
       "                                KNeighborsClassifier(weights=&#x27;distance&#x27;)),\n",
       "                               (&#x27;Light_GBM&#x27;,\n",
       "                                LGBMClassifier(boosting_type=&#x27;dart&#x27;,\n",
       "                                               class_weight=&#x27;balanced&#x27;,\n",
       "                                               learning_rate=0.18130866415578073,\n",
       "                                               n_estimators=121, n_jobs=-1))],\n",
       "                   final_estimator=AdaBoostClassifier(n_estimators=150),\n",
       "                   n_jobs=-1, verbose=3)</pre><b>In a Jupyter environment, please rerun this cell to show the HTML representation or trust the notebook. <br />On GitHub, the HTML representation is unable to render, please try loading this page with nbviewer.org.</b></div><div class=\"sk-container\" hidden><div class=\"sk-item sk-dashed-wrapped\"><div class=\"sk-label-container\"><div class=\"sk-label sk-toggleable\"><input class=\"sk-toggleable__control sk-hidden--visually\" id=\"sk-estimator-id-10\" type=\"checkbox\" ><label for=\"sk-estimator-id-10\" class=\"sk-toggleable__label sk-toggleable__label-arrow\">StackingClassifier</label><div class=\"sk-toggleable__content\"><pre>StackingClassifier(cv=5,\n",
       "                   estimators=[(&#x27;Random Forest&#x27;,\n",
       "                                RandomForestClassifier(class_weight=&#x27;balanced&#x27;,\n",
       "                                                       criterion=&#x27;log_loss&#x27;,\n",
       "                                                       max_features=&#x27;log2&#x27;,\n",
       "                                                       n_estimators=120)),\n",
       "                               (&#x27;Ada_Boost&#x27;,\n",
       "                                AdaBoostClassifier(n_estimators=150)),\n",
       "                               (&#x27;Bagging_Classifier&#x27;,\n",
       "                                BaggingClassifier(n_estimators=98)),\n",
       "                               (&#x27;Decision_Tree_Classifier&#x27;,\n",
       "                                DecisionTreeClassifier(splitter=&#x27;random&#x27;)),\n",
       "                               (&#x27;KNN_Classifier&#x27;,\n",
       "                                KNeighborsClassifier(weights=&#x27;distance&#x27;)),\n",
       "                               (&#x27;Light_GBM&#x27;,\n",
       "                                LGBMClassifier(boosting_type=&#x27;dart&#x27;,\n",
       "                                               class_weight=&#x27;balanced&#x27;,\n",
       "                                               learning_rate=0.18130866415578073,\n",
       "                                               n_estimators=121, n_jobs=-1))],\n",
       "                   final_estimator=AdaBoostClassifier(n_estimators=150),\n",
       "                   n_jobs=-1, verbose=3)</pre></div></div></div><div class=\"sk-serial\"><div class=\"sk-item\"><div class=\"sk-parallel\"><div class=\"sk-parallel-item\"><div class=\"sk-item\"><div class=\"sk-label-container\"><div class=\"sk-label sk-toggleable\"><label>Random Forest</label></div></div><div class=\"sk-serial\"><div class=\"sk-item\"><div class=\"sk-estimator sk-toggleable\"><input class=\"sk-toggleable__control sk-hidden--visually\" id=\"sk-estimator-id-11\" type=\"checkbox\" ><label for=\"sk-estimator-id-11\" class=\"sk-toggleable__label sk-toggleable__label-arrow\">RandomForestClassifier</label><div class=\"sk-toggleable__content\"><pre>RandomForestClassifier(class_weight=&#x27;balanced&#x27;, criterion=&#x27;log_loss&#x27;,\n",
       "                       max_features=&#x27;log2&#x27;, n_estimators=120)</pre></div></div></div></div></div></div><div class=\"sk-parallel-item\"><div class=\"sk-item\"><div class=\"sk-label-container\"><div class=\"sk-label sk-toggleable\"><label>Ada_Boost</label></div></div><div class=\"sk-serial\"><div class=\"sk-item\"><div class=\"sk-estimator sk-toggleable\"><input class=\"sk-toggleable__control sk-hidden--visually\" id=\"sk-estimator-id-12\" type=\"checkbox\" ><label for=\"sk-estimator-id-12\" class=\"sk-toggleable__label sk-toggleable__label-arrow\">AdaBoostClassifier</label><div class=\"sk-toggleable__content\"><pre>AdaBoostClassifier(n_estimators=150)</pre></div></div></div></div></div></div><div class=\"sk-parallel-item\"><div class=\"sk-item\"><div class=\"sk-label-container\"><div class=\"sk-label sk-toggleable\"><label>Bagging_Classifier</label></div></div><div class=\"sk-serial\"><div class=\"sk-item\"><div class=\"sk-estimator sk-toggleable\"><input class=\"sk-toggleable__control sk-hidden--visually\" id=\"sk-estimator-id-13\" type=\"checkbox\" ><label for=\"sk-estimator-id-13\" class=\"sk-toggleable__label sk-toggleable__label-arrow\">BaggingClassifier</label><div class=\"sk-toggleable__content\"><pre>BaggingClassifier(n_estimators=98)</pre></div></div></div></div></div></div><div class=\"sk-parallel-item\"><div class=\"sk-item\"><div class=\"sk-label-container\"><div class=\"sk-label sk-toggleable\"><label>Decision_Tree_Classifier</label></div></div><div class=\"sk-serial\"><div class=\"sk-item\"><div class=\"sk-estimator sk-toggleable\"><input class=\"sk-toggleable__control sk-hidden--visually\" id=\"sk-estimator-id-14\" type=\"checkbox\" ><label for=\"sk-estimator-id-14\" class=\"sk-toggleable__label sk-toggleable__label-arrow\">DecisionTreeClassifier</label><div class=\"sk-toggleable__content\"><pre>DecisionTreeClassifier(splitter=&#x27;random&#x27;)</pre></div></div></div></div></div></div><div class=\"sk-parallel-item\"><div class=\"sk-item\"><div class=\"sk-label-container\"><div class=\"sk-label sk-toggleable\"><label>KNN_Classifier</label></div></div><div class=\"sk-serial\"><div class=\"sk-item\"><div class=\"sk-estimator sk-toggleable\"><input class=\"sk-toggleable__control sk-hidden--visually\" id=\"sk-estimator-id-15\" type=\"checkbox\" ><label for=\"sk-estimator-id-15\" class=\"sk-toggleable__label sk-toggleable__label-arrow\">KNeighborsClassifier</label><div class=\"sk-toggleable__content\"><pre>KNeighborsClassifier(weights=&#x27;distance&#x27;)</pre></div></div></div></div></div></div><div class=\"sk-parallel-item\"><div class=\"sk-item\"><div class=\"sk-label-container\"><div class=\"sk-label sk-toggleable\"><label>Light_GBM</label></div></div><div class=\"sk-serial\"><div class=\"sk-item\"><div class=\"sk-estimator sk-toggleable\"><input class=\"sk-toggleable__control sk-hidden--visually\" id=\"sk-estimator-id-16\" type=\"checkbox\" ><label for=\"sk-estimator-id-16\" class=\"sk-toggleable__label sk-toggleable__label-arrow\">LGBMClassifier</label><div class=\"sk-toggleable__content\"><pre>LGBMClassifier(boosting_type=&#x27;dart&#x27;, class_weight=&#x27;balanced&#x27;,\n",
       "               learning_rate=0.18130866415578073, n_estimators=121, n_jobs=-1)</pre></div></div></div></div></div></div></div></div><div class=\"sk-item\"><div class=\"sk-parallel\"><div class=\"sk-parallel-item\"><div class=\"sk-item\"><div class=\"sk-label-container\"><div class=\"sk-label sk-toggleable\"><label>final_estimator</label></div></div><div class=\"sk-serial\"><div class=\"sk-item\"><div class=\"sk-estimator sk-toggleable\"><input class=\"sk-toggleable__control sk-hidden--visually\" id=\"sk-estimator-id-17\" type=\"checkbox\" ><label for=\"sk-estimator-id-17\" class=\"sk-toggleable__label sk-toggleable__label-arrow\">AdaBoostClassifier</label><div class=\"sk-toggleable__content\"><pre>AdaBoostClassifier(n_estimators=150)</pre></div></div></div></div></div></div></div></div></div></div></div></div>"
      ],
      "text/plain": [
       "StackingClassifier(cv=5,\n",
       "                   estimators=[('Random Forest',\n",
       "                                RandomForestClassifier(class_weight='balanced',\n",
       "                                                       criterion='log_loss',\n",
       "                                                       max_features='log2',\n",
       "                                                       n_estimators=120)),\n",
       "                               ('Ada_Boost',\n",
       "                                AdaBoostClassifier(n_estimators=150)),\n",
       "                               ('Bagging_Classifier',\n",
       "                                BaggingClassifier(n_estimators=98)),\n",
       "                               ('Decision_Tree_Classifier',\n",
       "                                DecisionTreeClassifier(splitter='random')),\n",
       "                               ('KNN_Classifier',\n",
       "                                KNeighborsClassifier(weights='distance')),\n",
       "                               ('Light_GBM',\n",
       "                                LGBMClassifier(boosting_type='dart',\n",
       "                                               class_weight='balanced',\n",
       "                                               learning_rate=0.18130866415578073,\n",
       "                                               n_estimators=121, n_jobs=-1))],\n",
       "                   final_estimator=AdaBoostClassifier(n_estimators=150),\n",
       "                   n_jobs=-1, verbose=3)"
      ]
     },
     "execution_count": 217,
     "metadata": {},
     "output_type": "execute_result"
    }
   ],
   "source": [
    "stack_clf_mlflow.fit(X = train_data.drop(columns = 'class'),\n",
    "              y = train_data['class'])"
   ]
  },
  {
   "cell_type": "code",
   "execution_count": 218,
   "metadata": {},
   "outputs": [],
   "source": [
    "y_pred_mlflow = stack_clf_mlflow.predict(X = test_data.drop(columns = 'class'))"
   ]
  },
  {
   "cell_type": "code",
   "execution_count": 244,
   "metadata": {},
   "outputs": [],
   "source": [
    "metrics_stacking_clf = eval_metrics(y_true = test_data['class'], \n",
    "              y_pred = y_pred_mlflow)"
   ]
  },
  {
   "cell_type": "code",
   "execution_count": 243,
   "metadata": {},
   "outputs": [
    {
     "data": {
      "text/plain": [
       "<sklearn.metrics._plot.confusion_matrix.ConfusionMatrixDisplay at 0x1fd11fcb790>"
      ]
     },
     "execution_count": 243,
     "metadata": {},
     "output_type": "execute_result"
    },
    {
     "data": {
      "image/png": "[encoded data removed]",
      "text/plain": [
       "<Figure size 640x480 with 2 Axes>"
      ]
     },
     "metadata": {},
     "output_type": "display_data"
    }
   ],
   "source": [
    "cn_matrix = confusion_matrix(y_true = test_data['class'], \n",
    "              y_pred = y_pred_mlflow)\n",
    "\n",
    "cn_matric_display = ConfusionMatrixDisplay(cn_matrix)\n",
    "cn_matric_display.plot()"
   ]
  },
  {
   "cell_type": "markdown",
   "metadata": {},
   "source": [
    "### Voting Classifier"
   ]
  },
  {
   "cell_type": "code",
   "execution_count": 225,
   "metadata": {},
   "outputs": [
    {
     "data": {
      "text/html": [
       "<style>#sk-container-id-7 {color: black;}#sk-container-id-7 pre{padding: 0;}#sk-container-id-7 div.sk-toggleable {background-color: white;}#sk-container-id-7 label.sk-toggleable__label {cursor: pointer;display: block;width: 100%;margin-bottom: 0;padding: 0.3em;box-sizing: border-box;text-align: center;}#sk-container-id-7 label.sk-toggleable__label-arrow:before {content: \"▸\";float: left;margin-right: 0.25em;color: #696969;}#sk-container-id-7 label.sk-toggleable__label-arrow:hover:before {color: black;}#sk-container-id-7 div.sk-estimator:hover label.sk-toggleable__label-arrow:before {color: black;}#sk-container-id-7 div.sk-toggleable__content {max-height: 0;max-width: 0;overflow: hidden;text-align: left;background-color: #f0f8ff;}#sk-container-id-7 div.sk-toggleable__content pre {margin: 0.2em;color: black;border-radius: 0.25em;background-color: #f0f8ff;}#sk-container-id-7 input.sk-toggleable__control:checked~div.sk-toggleable__content {max-height: 200px;max-width: 100%;overflow: auto;}#sk-container-id-7 input.sk-toggleable__control:checked~label.sk-toggleable__label-arrow:before {content: \"▾\";}#sk-container-id-7 div.sk-estimator input.sk-toggleable__control:checked~label.sk-toggleable__label {background-color: #d4ebff;}#sk-container-id-7 div.sk-label input.sk-toggleable__control:checked~label.sk-toggleable__label {background-color: #d4ebff;}#sk-container-id-7 input.sk-hidden--visually {border: 0;clip: rect(1px 1px 1px 1px);clip: rect(1px, 1px, 1px, 1px);height: 1px;margin: -1px;overflow: hidden;padding: 0;position: absolute;width: 1px;}#sk-container-id-7 div.sk-estimator {font-family: monospace;background-color: #f0f8ff;border: 1px dotted black;border-radius: 0.25em;box-sizing: border-box;margin-bottom: 0.5em;}#sk-container-id-7 div.sk-estimator:hover {background-color: #d4ebff;}#sk-container-id-7 div.sk-parallel-item::after {content: \"\";width: 100%;border-bottom: 1px solid gray;flex-grow: 1;}#sk-container-id-7 div.sk-label:hover label.sk-toggleable__label {background-color: #d4ebff;}#sk-container-id-7 div.sk-serial::before {content: \"\";position: absolute;border-left: 1px solid gray;box-sizing: border-box;top: 0;bottom: 0;left: 50%;z-index: 0;}#sk-container-id-7 div.sk-serial {display: flex;flex-direction: column;align-items: center;background-color: white;padding-right: 0.2em;padding-left: 0.2em;position: relative;}#sk-container-id-7 div.sk-item {position: relative;z-index: 1;}#sk-container-id-7 div.sk-parallel {display: flex;align-items: stretch;justify-content: center;background-color: white;position: relative;}#sk-container-id-7 div.sk-item::before, #sk-container-id-7 div.sk-parallel-item::before {content: \"\";position: absolute;border-left: 1px solid gray;box-sizing: border-box;top: 0;bottom: 0;left: 50%;z-index: -1;}#sk-container-id-7 div.sk-parallel-item {display: flex;flex-direction: column;z-index: 1;position: relative;background-color: white;}#sk-container-id-7 div.sk-parallel-item:first-child::after {align-self: flex-end;width: 50%;}#sk-container-id-7 div.sk-parallel-item:last-child::after {align-self: flex-start;width: 50%;}#sk-container-id-7 div.sk-parallel-item:only-child::after {width: 0;}#sk-container-id-7 div.sk-dashed-wrapped {border: 1px dashed gray;margin: 0 0.4em 0.5em 0.4em;box-sizing: border-box;padding-bottom: 0.4em;background-color: white;}#sk-container-id-7 div.sk-label label {font-family: monospace;font-weight: bold;display: inline-block;line-height: 1.2em;}#sk-container-id-7 div.sk-label-container {text-align: center;}#sk-container-id-7 div.sk-container {/* jupyter's `normalize.less` sets `[hidden] { display: none; }` but bootstrap.min.css set `[hidden] { display: none !important; }` so we also need the `!important` here to be able to override the default hidden behavior on the sphinx rendered scikit-learn.org. See: https://github.com/scikit-learn/scikit-learn/issues/21755 */display: inline-block !important;position: relative;}#sk-container-id-7 div.sk-text-repr-fallback {display: none;}</style><div id=\"sk-container-id-7\" class=\"sk-top-container\"><div class=\"sk-text-repr-fallback\"><pre>VotingClassifier(estimators=[(&#x27;Random Forest&#x27;,\n",
       "                              RandomForestClassifier(class_weight=&#x27;balanced&#x27;,\n",
       "                                                     criterion=&#x27;log_loss&#x27;,\n",
       "                                                     max_features=&#x27;log2&#x27;,\n",
       "                                                     n_estimators=120)),\n",
       "                             (&#x27;Ada_Boost&#x27;,\n",
       "                              AdaBoostClassifier(n_estimators=150)),\n",
       "                             (&#x27;Bagging_Classifier&#x27;,\n",
       "                              BaggingClassifier(n_estimators=98)),\n",
       "                             (&#x27;Decision_Tree_Classifier&#x27;,\n",
       "                              DecisionTreeClassifier(splitter=&#x27;random&#x27;)),\n",
       "                             (&#x27;KNN_Classifier&#x27;,\n",
       "                              KNeighborsClassifier(weights=&#x27;distance&#x27;)),\n",
       "                             (&#x27;Light_GBM&#x27;,\n",
       "                              LGBMClassifier(boosting_type=&#x27;dart&#x27;,\n",
       "                                             class_weight=&#x27;balanced&#x27;,\n",
       "                                             learning_rate=0.18130866415578073,\n",
       "                                             n_estimators=121, n_jobs=-1))],\n",
       "                 n_jobs=-1, verbose=True)</pre><b>In a Jupyter environment, please rerun this cell to show the HTML representation or trust the notebook. <br />On GitHub, the HTML representation is unable to render, please try loading this page with nbviewer.org.</b></div><div class=\"sk-container\" hidden><div class=\"sk-item sk-dashed-wrapped\"><div class=\"sk-label-container\"><div class=\"sk-label sk-toggleable\"><input class=\"sk-toggleable__control sk-hidden--visually\" id=\"sk-estimator-id-18\" type=\"checkbox\" ><label for=\"sk-estimator-id-18\" class=\"sk-toggleable__label sk-toggleable__label-arrow\">VotingClassifier</label><div class=\"sk-toggleable__content\"><pre>VotingClassifier(estimators=[(&#x27;Random Forest&#x27;,\n",
       "                              RandomForestClassifier(class_weight=&#x27;balanced&#x27;,\n",
       "                                                     criterion=&#x27;log_loss&#x27;,\n",
       "                                                     max_features=&#x27;log2&#x27;,\n",
       "                                                     n_estimators=120)),\n",
       "                             (&#x27;Ada_Boost&#x27;,\n",
       "                              AdaBoostClassifier(n_estimators=150)),\n",
       "                             (&#x27;Bagging_Classifier&#x27;,\n",
       "                              BaggingClassifier(n_estimators=98)),\n",
       "                             (&#x27;Decision_Tree_Classifier&#x27;,\n",
       "                              DecisionTreeClassifier(splitter=&#x27;random&#x27;)),\n",
       "                             (&#x27;KNN_Classifier&#x27;,\n",
       "                              KNeighborsClassifier(weights=&#x27;distance&#x27;)),\n",
       "                             (&#x27;Light_GBM&#x27;,\n",
       "                              LGBMClassifier(boosting_type=&#x27;dart&#x27;,\n",
       "                                             class_weight=&#x27;balanced&#x27;,\n",
       "                                             learning_rate=0.18130866415578073,\n",
       "                                             n_estimators=121, n_jobs=-1))],\n",
       "                 n_jobs=-1, verbose=True)</pre></div></div></div><div class=\"sk-parallel\"><div class=\"sk-parallel-item\"><div class=\"sk-item\"><div class=\"sk-label-container\"><div class=\"sk-label sk-toggleable\"><label>Random Forest</label></div></div><div class=\"sk-serial\"><div class=\"sk-item\"><div class=\"sk-estimator sk-toggleable\"><input class=\"sk-toggleable__control sk-hidden--visually\" id=\"sk-estimator-id-19\" type=\"checkbox\" ><label for=\"sk-estimator-id-19\" class=\"sk-toggleable__label sk-toggleable__label-arrow\">RandomForestClassifier</label><div class=\"sk-toggleable__content\"><pre>RandomForestClassifier(class_weight=&#x27;balanced&#x27;, criterion=&#x27;log_loss&#x27;,\n",
       "                       max_features=&#x27;log2&#x27;, n_estimators=120)</pre></div></div></div></div></div></div><div class=\"sk-parallel-item\"><div class=\"sk-item\"><div class=\"sk-label-container\"><div class=\"sk-label sk-toggleable\"><label>Ada_Boost</label></div></div><div class=\"sk-serial\"><div class=\"sk-item\"><div class=\"sk-estimator sk-toggleable\"><input class=\"sk-toggleable__control sk-hidden--visually\" id=\"sk-estimator-id-20\" type=\"checkbox\" ><label for=\"sk-estimator-id-20\" class=\"sk-toggleable__label sk-toggleable__label-arrow\">AdaBoostClassifier</label><div class=\"sk-toggleable__content\"><pre>AdaBoostClassifier(n_estimators=150)</pre></div></div></div></div></div></div><div class=\"sk-parallel-item\"><div class=\"sk-item\"><div class=\"sk-label-container\"><div class=\"sk-label sk-toggleable\"><label>Bagging_Classifier</label></div></div><div class=\"sk-serial\"><div class=\"sk-item\"><div class=\"sk-estimator sk-toggleable\"><input class=\"sk-toggleable__control sk-hidden--visually\" id=\"sk-estimator-id-21\" type=\"checkbox\" ><label for=\"sk-estimator-id-21\" class=\"sk-toggleable__label sk-toggleable__label-arrow\">BaggingClassifier</label><div class=\"sk-toggleable__content\"><pre>BaggingClassifier(n_estimators=98)</pre></div></div></div></div></div></div><div class=\"sk-parallel-item\"><div class=\"sk-item\"><div class=\"sk-label-container\"><div class=\"sk-label sk-toggleable\"><label>Decision_Tree_Classifier</label></div></div><div class=\"sk-serial\"><div class=\"sk-item\"><div class=\"sk-estimator sk-toggleable\"><input class=\"sk-toggleable__control sk-hidden--visually\" id=\"sk-estimator-id-22\" type=\"checkbox\" ><label for=\"sk-estimator-id-22\" class=\"sk-toggleable__label sk-toggleable__label-arrow\">DecisionTreeClassifier</label><div class=\"sk-toggleable__content\"><pre>DecisionTreeClassifier(splitter=&#x27;random&#x27;)</pre></div></div></div></div></div></div><div class=\"sk-parallel-item\"><div class=\"sk-item\"><div class=\"sk-label-container\"><div class=\"sk-label sk-toggleable\"><label>KNN_Classifier</label></div></div><div class=\"sk-serial\"><div class=\"sk-item\"><div class=\"sk-estimator sk-toggleable\"><input class=\"sk-toggleable__control sk-hidden--visually\" id=\"sk-estimator-id-23\" type=\"checkbox\" ><label for=\"sk-estimator-id-23\" class=\"sk-toggleable__label sk-toggleable__label-arrow\">KNeighborsClassifier</label><div class=\"sk-toggleable__content\"><pre>KNeighborsClassifier(weights=&#x27;distance&#x27;)</pre></div></div></div></div></div></div><div class=\"sk-parallel-item\"><div class=\"sk-item\"><div class=\"sk-label-container\"><div class=\"sk-label sk-toggleable\"><label>Light_GBM</label></div></div><div class=\"sk-serial\"><div class=\"sk-item\"><div class=\"sk-estimator sk-toggleable\"><input class=\"sk-toggleable__control sk-hidden--visually\" id=\"sk-estimator-id-24\" type=\"checkbox\" ><label for=\"sk-estimator-id-24\" class=\"sk-toggleable__label sk-toggleable__label-arrow\">LGBMClassifier</label><div class=\"sk-toggleable__content\"><pre>LGBMClassifier(boosting_type=&#x27;dart&#x27;, class_weight=&#x27;balanced&#x27;,\n",
       "               learning_rate=0.18130866415578073, n_estimators=121, n_jobs=-1)</pre></div></div></div></div></div></div></div></div></div></div>"
      ],
      "text/plain": [
       "VotingClassifier(estimators=[('Random Forest',\n",
       "                              RandomForestClassifier(class_weight='balanced',\n",
       "                                                     criterion='log_loss',\n",
       "                                                     max_features='log2',\n",
       "                                                     n_estimators=120)),\n",
       "                             ('Ada_Boost',\n",
       "                              AdaBoostClassifier(n_estimators=150)),\n",
       "                             ('Bagging_Classifier',\n",
       "                              BaggingClassifier(n_estimators=98)),\n",
       "                             ('Decision_Tree_Classifier',\n",
       "                              DecisionTreeClassifier(splitter='random')),\n",
       "                             ('KNN_Classifier',\n",
       "                              KNeighborsClassifier(weights='distance')),\n",
       "                             ('Light_GBM',\n",
       "                              LGBMClassifier(boosting_type='dart',\n",
       "                                             class_weight='balanced',\n",
       "                                             learning_rate=0.18130866415578073,\n",
       "                                             n_estimators=121, n_jobs=-1))],\n",
       "                 n_jobs=-1, verbose=True)"
      ]
     },
     "execution_count": 225,
     "metadata": {},
     "output_type": "execute_result"
    }
   ],
   "source": [
    "voting_clf = VotingClassifier(estimators=best_estimators_mlflow,\n",
    "                              n_jobs = -1,\n",
    "                              verbose = True)\n",
    "voting_clf"
   ]
  },
  {
   "cell_type": "code",
   "execution_count": 226,
   "metadata": {},
   "outputs": [
    {
     "data": {
      "text/html": [
       "<style>#sk-container-id-8 {color: black;}#sk-container-id-8 pre{padding: 0;}#sk-container-id-8 div.sk-toggleable {background-color: white;}#sk-container-id-8 label.sk-toggleable__label {cursor: pointer;display: block;width: 100%;margin-bottom: 0;padding: 0.3em;box-sizing: border-box;text-align: center;}#sk-container-id-8 label.sk-toggleable__label-arrow:before {content: \"▸\";float: left;margin-right: 0.25em;color: #696969;}#sk-container-id-8 label.sk-toggleable__label-arrow:hover:before {color: black;}#sk-container-id-8 div.sk-estimator:hover label.sk-toggleable__label-arrow:before {color: black;}#sk-container-id-8 div.sk-toggleable__content {max-height: 0;max-width: 0;overflow: hidden;text-align: left;background-color: #f0f8ff;}#sk-container-id-8 div.sk-toggleable__content pre {margin: 0.2em;color: black;border-radius: 0.25em;background-color: #f0f8ff;}#sk-container-id-8 input.sk-toggleable__control:checked~div.sk-toggleable__content {max-height: 200px;max-width: 100%;overflow: auto;}#sk-container-id-8 input.sk-toggleable__control:checked~label.sk-toggleable__label-arrow:before {content: \"▾\";}#sk-container-id-8 div.sk-estimator input.sk-toggleable__control:checked~label.sk-toggleable__label {background-color: #d4ebff;}#sk-container-id-8 div.sk-label input.sk-toggleable__control:checked~label.sk-toggleable__label {background-color: #d4ebff;}#sk-container-id-8 input.sk-hidden--visually {border: 0;clip: rect(1px 1px 1px 1px);clip: rect(1px, 1px, 1px, 1px);height: 1px;margin: -1px;overflow: hidden;padding: 0;position: absolute;width: 1px;}#sk-container-id-8 div.sk-estimator {font-family: monospace;background-color: #f0f8ff;border: 1px dotted black;border-radius: 0.25em;box-sizing: border-box;margin-bottom: 0.5em;}#sk-container-id-8 div.sk-estimator:hover {background-color: #d4ebff;}#sk-container-id-8 div.sk-parallel-item::after {content: \"\";width: 100%;border-bottom: 1px solid gray;flex-grow: 1;}#sk-container-id-8 div.sk-label:hover label.sk-toggleable__label {background-color: #d4ebff;}#sk-container-id-8 div.sk-serial::before {content: \"\";position: absolute;border-left: 1px solid gray;box-sizing: border-box;top: 0;bottom: 0;left: 50%;z-index: 0;}#sk-container-id-8 div.sk-serial {display: flex;flex-direction: column;align-items: center;background-color: white;padding-right: 0.2em;padding-left: 0.2em;position: relative;}#sk-container-id-8 div.sk-item {position: relative;z-index: 1;}#sk-container-id-8 div.sk-parallel {display: flex;align-items: stretch;justify-content: center;background-color: white;position: relative;}#sk-container-id-8 div.sk-item::before, #sk-container-id-8 div.sk-parallel-item::before {content: \"\";position: absolute;border-left: 1px solid gray;box-sizing: border-box;top: 0;bottom: 0;left: 50%;z-index: -1;}#sk-container-id-8 div.sk-parallel-item {display: flex;flex-direction: column;z-index: 1;position: relative;background-color: white;}#sk-container-id-8 div.sk-parallel-item:first-child::after {align-self: flex-end;width: 50%;}#sk-container-id-8 div.sk-parallel-item:last-child::after {align-self: flex-start;width: 50%;}#sk-container-id-8 div.sk-parallel-item:only-child::after {width: 0;}#sk-container-id-8 div.sk-dashed-wrapped {border: 1px dashed gray;margin: 0 0.4em 0.5em 0.4em;box-sizing: border-box;padding-bottom: 0.4em;background-color: white;}#sk-container-id-8 div.sk-label label {font-family: monospace;font-weight: bold;display: inline-block;line-height: 1.2em;}#sk-container-id-8 div.sk-label-container {text-align: center;}#sk-container-id-8 div.sk-container {/* jupyter's `normalize.less` sets `[hidden] { display: none; }` but bootstrap.min.css set `[hidden] { display: none !important; }` so we also need the `!important` here to be able to override the default hidden behavior on the sphinx rendered scikit-learn.org. See: https://github.com/scikit-learn/scikit-learn/issues/21755 */display: inline-block !important;position: relative;}#sk-container-id-8 div.sk-text-repr-fallback {display: none;}</style><div id=\"sk-container-id-8\" class=\"sk-top-container\"><div class=\"sk-text-repr-fallback\"><pre>VotingClassifier(estimators=[(&#x27;Random Forest&#x27;,\n",
       "                              RandomForestClassifier(class_weight=&#x27;balanced&#x27;,\n",
       "                                                     criterion=&#x27;log_loss&#x27;,\n",
       "                                                     max_features=&#x27;log2&#x27;,\n",
       "                                                     n_estimators=120)),\n",
       "                             (&#x27;Ada_Boost&#x27;,\n",
       "                              AdaBoostClassifier(n_estimators=150)),\n",
       "                             (&#x27;Bagging_Classifier&#x27;,\n",
       "                              BaggingClassifier(n_estimators=98)),\n",
       "                             (&#x27;Decision_Tree_Classifier&#x27;,\n",
       "                              DecisionTreeClassifier(splitter=&#x27;random&#x27;)),\n",
       "                             (&#x27;KNN_Classifier&#x27;,\n",
       "                              KNeighborsClassifier(weights=&#x27;distance&#x27;)),\n",
       "                             (&#x27;Light_GBM&#x27;,\n",
       "                              LGBMClassifier(boosting_type=&#x27;dart&#x27;,\n",
       "                                             class_weight=&#x27;balanced&#x27;,\n",
       "                                             learning_rate=0.18130866415578073,\n",
       "                                             n_estimators=121, n_jobs=-1))],\n",
       "                 n_jobs=-1, verbose=True)</pre><b>In a Jupyter environment, please rerun this cell to show the HTML representation or trust the notebook. <br />On GitHub, the HTML representation is unable to render, please try loading this page with nbviewer.org.</b></div><div class=\"sk-container\" hidden><div class=\"sk-item sk-dashed-wrapped\"><div class=\"sk-label-container\"><div class=\"sk-label sk-toggleable\"><input class=\"sk-toggleable__control sk-hidden--visually\" id=\"sk-estimator-id-25\" type=\"checkbox\" ><label for=\"sk-estimator-id-25\" class=\"sk-toggleable__label sk-toggleable__label-arrow\">VotingClassifier</label><div class=\"sk-toggleable__content\"><pre>VotingClassifier(estimators=[(&#x27;Random Forest&#x27;,\n",
       "                              RandomForestClassifier(class_weight=&#x27;balanced&#x27;,\n",
       "                                                     criterion=&#x27;log_loss&#x27;,\n",
       "                                                     max_features=&#x27;log2&#x27;,\n",
       "                                                     n_estimators=120)),\n",
       "                             (&#x27;Ada_Boost&#x27;,\n",
       "                              AdaBoostClassifier(n_estimators=150)),\n",
       "                             (&#x27;Bagging_Classifier&#x27;,\n",
       "                              BaggingClassifier(n_estimators=98)),\n",
       "                             (&#x27;Decision_Tree_Classifier&#x27;,\n",
       "                              DecisionTreeClassifier(splitter=&#x27;random&#x27;)),\n",
       "                             (&#x27;KNN_Classifier&#x27;,\n",
       "                              KNeighborsClassifier(weights=&#x27;distance&#x27;)),\n",
       "                             (&#x27;Light_GBM&#x27;,\n",
       "                              LGBMClassifier(boosting_type=&#x27;dart&#x27;,\n",
       "                                             class_weight=&#x27;balanced&#x27;,\n",
       "                                             learning_rate=0.18130866415578073,\n",
       "                                             n_estimators=121, n_jobs=-1))],\n",
       "                 n_jobs=-1, verbose=True)</pre></div></div></div><div class=\"sk-parallel\"><div class=\"sk-parallel-item\"><div class=\"sk-item\"><div class=\"sk-label-container\"><div class=\"sk-label sk-toggleable\"><label>Random Forest</label></div></div><div class=\"sk-serial\"><div class=\"sk-item\"><div class=\"sk-estimator sk-toggleable\"><input class=\"sk-toggleable__control sk-hidden--visually\" id=\"sk-estimator-id-26\" type=\"checkbox\" ><label for=\"sk-estimator-id-26\" class=\"sk-toggleable__label sk-toggleable__label-arrow\">RandomForestClassifier</label><div class=\"sk-toggleable__content\"><pre>RandomForestClassifier(class_weight=&#x27;balanced&#x27;, criterion=&#x27;log_loss&#x27;,\n",
       "                       max_features=&#x27;log2&#x27;, n_estimators=120)</pre></div></div></div></div></div></div><div class=\"sk-parallel-item\"><div class=\"sk-item\"><div class=\"sk-label-container\"><div class=\"sk-label sk-toggleable\"><label>Ada_Boost</label></div></div><div class=\"sk-serial\"><div class=\"sk-item\"><div class=\"sk-estimator sk-toggleable\"><input class=\"sk-toggleable__control sk-hidden--visually\" id=\"sk-estimator-id-27\" type=\"checkbox\" ><label for=\"sk-estimator-id-27\" class=\"sk-toggleable__label sk-toggleable__label-arrow\">AdaBoostClassifier</label><div class=\"sk-toggleable__content\"><pre>AdaBoostClassifier(n_estimators=150)</pre></div></div></div></div></div></div><div class=\"sk-parallel-item\"><div class=\"sk-item\"><div class=\"sk-label-container\"><div class=\"sk-label sk-toggleable\"><label>Bagging_Classifier</label></div></div><div class=\"sk-serial\"><div class=\"sk-item\"><div class=\"sk-estimator sk-toggleable\"><input class=\"sk-toggleable__control sk-hidden--visually\" id=\"sk-estimator-id-28\" type=\"checkbox\" ><label for=\"sk-estimator-id-28\" class=\"sk-toggleable__label sk-toggleable__label-arrow\">BaggingClassifier</label><div class=\"sk-toggleable__content\"><pre>BaggingClassifier(n_estimators=98)</pre></div></div></div></div></div></div><div class=\"sk-parallel-item\"><div class=\"sk-item\"><div class=\"sk-label-container\"><div class=\"sk-label sk-toggleable\"><label>Decision_Tree_Classifier</label></div></div><div class=\"sk-serial\"><div class=\"sk-item\"><div class=\"sk-estimator sk-toggleable\"><input class=\"sk-toggleable__control sk-hidden--visually\" id=\"sk-estimator-id-29\" type=\"checkbox\" ><label for=\"sk-estimator-id-29\" class=\"sk-toggleable__label sk-toggleable__label-arrow\">DecisionTreeClassifier</label><div class=\"sk-toggleable__content\"><pre>DecisionTreeClassifier(splitter=&#x27;random&#x27;)</pre></div></div></div></div></div></div><div class=\"sk-parallel-item\"><div class=\"sk-item\"><div class=\"sk-label-container\"><div class=\"sk-label sk-toggleable\"><label>KNN_Classifier</label></div></div><div class=\"sk-serial\"><div class=\"sk-item\"><div class=\"sk-estimator sk-toggleable\"><input class=\"sk-toggleable__control sk-hidden--visually\" id=\"sk-estimator-id-30\" type=\"checkbox\" ><label for=\"sk-estimator-id-30\" class=\"sk-toggleable__label sk-toggleable__label-arrow\">KNeighborsClassifier</label><div class=\"sk-toggleable__content\"><pre>KNeighborsClassifier(weights=&#x27;distance&#x27;)</pre></div></div></div></div></div></div><div class=\"sk-parallel-item\"><div class=\"sk-item\"><div class=\"sk-label-container\"><div class=\"sk-label sk-toggleable\"><label>Light_GBM</label></div></div><div class=\"sk-serial\"><div class=\"sk-item\"><div class=\"sk-estimator sk-toggleable\"><input class=\"sk-toggleable__control sk-hidden--visually\" id=\"sk-estimator-id-31\" type=\"checkbox\" ><label for=\"sk-estimator-id-31\" class=\"sk-toggleable__label sk-toggleable__label-arrow\">LGBMClassifier</label><div class=\"sk-toggleable__content\"><pre>LGBMClassifier(boosting_type=&#x27;dart&#x27;, class_weight=&#x27;balanced&#x27;,\n",
       "               learning_rate=0.18130866415578073, n_estimators=121, n_jobs=-1)</pre></div></div></div></div></div></div></div></div></div></div>"
      ],
      "text/plain": [
       "VotingClassifier(estimators=[('Random Forest',\n",
       "                              RandomForestClassifier(class_weight='balanced',\n",
       "                                                     criterion='log_loss',\n",
       "                                                     max_features='log2',\n",
       "                                                     n_estimators=120)),\n",
       "                             ('Ada_Boost',\n",
       "                              AdaBoostClassifier(n_estimators=150)),\n",
       "                             ('Bagging_Classifier',\n",
       "                              BaggingClassifier(n_estimators=98)),\n",
       "                             ('Decision_Tree_Classifier',\n",
       "                              DecisionTreeClassifier(splitter='random')),\n",
       "                             ('KNN_Classifier',\n",
       "                              KNeighborsClassifier(weights='distance')),\n",
       "                             ('Light_GBM',\n",
       "                              LGBMClassifier(boosting_type='dart',\n",
       "                                             class_weight='balanced',\n",
       "                                             learning_rate=0.18130866415578073,\n",
       "                                             n_estimators=121, n_jobs=-1))],\n",
       "                 n_jobs=-1, verbose=True)"
      ]
     },
     "execution_count": 226,
     "metadata": {},
     "output_type": "execute_result"
    }
   ],
   "source": [
    "voting_clf.fit(X = train_data.drop(columns = 'class'),\n",
    "              y = train_data['class'])"
   ]
  },
  {
   "cell_type": "code",
   "execution_count": 227,
   "metadata": {},
   "outputs": [],
   "source": [
    "y_pred_mlflow_voting_clf = voting_clf.predict(X = test_data.drop(columns = 'class'))"
   ]
  },
  {
   "cell_type": "code",
   "execution_count": 241,
   "metadata": {},
   "outputs": [],
   "source": [
    "metrics_voting_clf = eval_metrics(y_true = test_data['class'], \n",
    "              y_pred = y_pred_mlflow_voting_clf)"
   ]
  },
  {
   "cell_type": "code",
   "execution_count": null,
   "metadata": {},
   "outputs": [],
   "source": [
    "metrics_voting_clf"
   ]
  },
  {
   "cell_type": "code",
   "execution_count": 229,
   "metadata": {},
   "outputs": [
    {
     "data": {
      "text/plain": [
       "<sklearn.metrics._plot.confusion_matrix.ConfusionMatrixDisplay at 0x1fd14198850>"
      ]
     },
     "execution_count": 229,
     "metadata": {},
     "output_type": "execute_result"
    },
    {
     "data": {
      "image/png": "[encoded data removed]",
      "text/plain": [
       "<Figure size 640x480 with 2 Axes>"
      ]
     },
     "metadata": {},
     "output_type": "display_data"
    }
   ],
   "source": [
    "cn_matrix_voting_clf = confusion_matrix(y_true = test_data['class'], \n",
    "              y_pred = y_pred_mlflow_voting_clf)\n",
    "\n",
    "cn_matric_display_voting_clf = ConfusionMatrixDisplay(cn_matrix_voting_clf)\n",
    "cn_matric_display_voting_clf.plot()"
   ]
  },
  {
   "cell_type": "code",
   "execution_count": null,
   "metadata": {},
   "outputs": [],
   "source": []
  },
  {
   "cell_type": "code",
   "execution_count": 248,
   "metadata": {},
   "outputs": [
    {
     "name": "stdout",
     "output_type": "stream",
     "text": [
      "Voting CLF wins!\n"
     ]
    }
   ],
   "source": [
    "if metrics_stacking_clf['Accuracy_Score'] > metrics_voting_clf['Accuracy_Score']:\n",
    "    print (\"Stacking CLF Wins\")\n",
    "\n",
    "else:\n",
    "    print (\"Voting CLF wins!\")"
   ]
  },
  {
   "cell_type": "code",
   "execution_count": 142,
   "metadata": {},
   "outputs": [
    {
     "data": {
      "text/plain": [
       "{'boosting_type': 'dart',\n",
       " 'class_weight': 'balanced',\n",
       " 'colsample_bytree': 1.0,\n",
       " 'importance_type': 'split',\n",
       " 'learning_rate': 0.18130866415578073,\n",
       " 'max_depth': -1,\n",
       " 'min_child_samples': 20,\n",
       " 'min_child_weight': 0.001,\n",
       " 'min_split_gain': 0.0,\n",
       " 'n_estimators': 121,\n",
       " 'n_jobs': -1,\n",
       " 'num_leaves': 31,\n",
       " 'objective': None,\n",
       " 'random_state': None,\n",
       " 'reg_alpha': 0.0,\n",
       " 'reg_lambda': 0.0,\n",
       " 'subsample': 1.0,\n",
       " 'subsample_for_bin': 200000,\n",
       " 'subsample_freq': 0}"
      ]
     },
     "execution_count": 142,
     "metadata": {},
     "output_type": "execute_result"
    }
   ],
   "source": [
    "sample_params"
   ]
  },
  {
   "cell_type": "code",
   "execution_count": 140,
   "metadata": {},
   "outputs": [
    {
     "data": {
      "text/plain": [
       "{'boosting_type': 'dart',\n",
       " 'class_weight': 'balanced',\n",
       " 'colsample_bytree': '1.0',\n",
       " 'importance_type': 'split',\n",
       " 'learning_rate': '0.18130866415578073',\n",
       " 'max_depth': '-1',\n",
       " 'min_child_samples': '20',\n",
       " 'min_child_weight': '0.001',\n",
       " 'min_split_gain': '0.0',\n",
       " 'n_estimators': '121',\n",
       " 'n_jobs': '-1',\n",
       " 'num_leaves': '31',\n",
       " 'objective': 'None',\n",
       " 'random_state': 'None',\n",
       " 'reg_alpha': '0.0',\n",
       " 'reg_lambda': '0.0',\n",
       " 'subsample': '1.0',\n",
       " 'subsample_for_bin': '200000',\n",
       " 'subsample_freq': '0'}"
      ]
     },
     "execution_count": 140,
     "metadata": {},
     "output_type": "execute_result"
    }
   ],
   "source": [
    "client.get_run('cd460708497e4677a2cdcadeaefd8878').data.params"
   ]
  },
  {
   "cell_type": "code",
   "execution_count": 237,
   "metadata": {},
   "outputs": [
    {
     "data": {
      "text/plain": [
       "0.9816"
      ]
     },
     "execution_count": 237,
     "metadata": {},
     "output_type": "execute_result"
    }
   ],
   "source": [
    "np.mean([0.982,0.982,0.9840,0.982,0.9840,0.984,0.98,0.981,0.976,0.981])"
   ]
  },
  {
   "cell_type": "code",
   "execution_count": 239,
   "metadata": {},
   "outputs": [
    {
     "data": {
      "text/plain": [
       "0.9822999999999998"
      ]
     },
     "execution_count": 239,
     "metadata": {},
     "output_type": "execute_result"
    }
   ],
   "source": [
    "np.mean([0.981,0.983,0.985,0.983,0.983,0.985,0.981,0.982,0.979,0.981])"
   ]
  },
  {
   "cell_type": "code",
   "execution_count": 1,
   "metadata": {},
   "outputs": [],
   "source": [
    "import re"
   ]
  },
  {
   "cell_type": "code",
   "execution_count": 2,
   "metadata": {},
   "outputs": [
    {
     "data": {
      "text/plain": [
       "'SGD_Classifier'"
      ]
     },
     "execution_count": 2,
     "metadata": {},
     "output_type": "execute_result"
    }
   ],
   "source": [
    "original_string = 'SGD_Classifier_Trial_0'\n",
    "\n",
    "# Using regular expression to remove '_Trial_' followed by any number\n",
    "result_string = re.sub(r'_Trial_\\d+', '', original_string)\n",
    "\n",
    "result_string"
   ]
  },
  {
   "cell_type": "code",
   "execution_count": 7,
   "metadata": {},
   "outputs": [
    {
     "data": {
      "text/plain": [
       "'https://dagshub.com/Raj-Narayanan-B/StudentMLProjectRegression.mlflow'"
      ]
     },
     "execution_count": 7,
     "metadata": {},
     "output_type": "execute_result"
    }
   ],
   "source": [
    "import mlflow\n",
    "\n",
    "mlflow.get_tracking_uri()"
   ]
  },
  {
   "cell_type": "code",
   "execution_count": 45,
   "metadata": {},
   "outputs": [],
   "source": [
    "parent_runs = mlflow.search_registered_models()\n",
    "# print(\"Experiment IDs: \",exp_id)\n",
    "runs_df = mlflow.search_runs(experiment_ids = list(range(358,371)),\n",
    "                    search_all_experiments = True,\n",
    "                    filter_string = f\"tags.run_type ilike 'parent'\")"
   ]
  },
  {
   "cell_type": "code",
   "execution_count": 46,
   "metadata": {},
   "outputs": [
    {
     "data": {
      "text/html": [
       "<div>\n",
       "<style scoped>\n",
       "    .dataframe tbody tr th:only-of-type {\n",
       "        vertical-align: middle;\n",
       "    }\n",
       "\n",
       "    .dataframe tbody tr th {\n",
       "        vertical-align: top;\n",
       "    }\n",
       "\n",
       "    .dataframe thead th {\n",
       "        text-align: right;\n",
       "    }\n",
       "</style>\n",
       "<table border=\"1\" class=\"dataframe\">\n",
       "  <thead>\n",
       "    <tr style=\"text-align: right;\">\n",
       "      <th></th>\n",
       "      <th>run_id</th>\n",
       "      <th>experiment_id</th>\n",
       "      <th>status</th>\n",
       "      <th>artifact_uri</th>\n",
       "      <th>start_time</th>\n",
       "      <th>end_time</th>\n",
       "      <th>metrics.Accuracy_Score</th>\n",
       "      <th>params.n_estimators</th>\n",
       "      <th>params.min_child_samples</th>\n",
       "      <th>params.min_child_weight</th>\n",
       "      <th>...</th>\n",
       "      <th>tags.mlflow.user</th>\n",
       "      <th>tags.mlflow.source.name</th>\n",
       "      <th>tags.tuner</th>\n",
       "      <th>tags.mlflow.runName</th>\n",
       "      <th>tags.trial</th>\n",
       "      <th>tags.run_type</th>\n",
       "      <th>tags.mlflow.log-model.history</th>\n",
       "      <th>tags.mlflow.source.type</th>\n",
       "      <th>tags.model</th>\n",
       "      <th>tags.model_type</th>\n",
       "    </tr>\n",
       "  </thead>\n",
       "  <tbody>\n",
       "    <tr>\n",
       "      <th>9</th>\n",
       "      <td>430820168dbe47159015285ad06ac831</td>\n",
       "      <td>360</td>\n",
       "      <td>FINISHED</td>\n",
       "      <td>mlflow-artifacts:/2f41aed987944507ad6fce5ad822...</td>\n",
       "      <td>2024-01-30 15:55:25.944000+00:00</td>\n",
       "      <td>2024-01-30 16:07:05.726000+00:00</td>\n",
       "      <td>0.988199</td>\n",
       "      <td>150</td>\n",
       "      <td>None</td>\n",
       "      <td>None</td>\n",
       "      <td>...</td>\n",
       "      <td>raj-narayanan-b</td>\n",
       "      <td>f:\\iNeuron\\Projects\\scania_failures_2\\scania_t...</td>\n",
       "      <td>optuna</td>\n",
       "      <td>Ada_Boost_Trial_1</td>\n",
       "      <td>1</td>\n",
       "      <td>parent</td>\n",
       "      <td>[{\"run_id\": \"430820168dbe47159015285ad06ac831\"...</td>\n",
       "      <td>LOCAL</td>\n",
       "      <td>Ada_Boost</td>\n",
       "      <td>Challenger</td>\n",
       "    </tr>\n",
       "    <tr>\n",
       "      <th>10</th>\n",
       "      <td>46c5f82c6eb84ca286593a59d552d5f7</td>\n",
       "      <td>360</td>\n",
       "      <td>FINISHED</td>\n",
       "      <td>mlflow-artifacts:/2f41aed987944507ad6fce5ad822...</td>\n",
       "      <td>2024-01-30 15:44:23.696000+00:00</td>\n",
       "      <td>2024-01-30 15:55:25.562000+00:00</td>\n",
       "      <td>0.987799</td>\n",
       "      <td>139</td>\n",
       "      <td>None</td>\n",
       "      <td>None</td>\n",
       "      <td>...</td>\n",
       "      <td>raj-narayanan-b</td>\n",
       "      <td>f:\\iNeuron\\Projects\\scania_failures_2\\scania_t...</td>\n",
       "      <td>optuna</td>\n",
       "      <td>Ada_Boost_Trial_0</td>\n",
       "      <td>0</td>\n",
       "      <td>parent</td>\n",
       "      <td>[{\"run_id\": \"46c5f82c6eb84ca286593a59d552d5f7\"...</td>\n",
       "      <td>LOCAL</td>\n",
       "      <td>Ada_Boost</td>\n",
       "      <td>None</td>\n",
       "    </tr>\n",
       "    <tr>\n",
       "      <th>8</th>\n",
       "      <td>15bf9b85607d4f549e0242aee3ba1554</td>\n",
       "      <td>360</td>\n",
       "      <td>FINISHED</td>\n",
       "      <td>mlflow-artifacts:/2f41aed987944507ad6fce5ad822...</td>\n",
       "      <td>2024-01-30 16:07:06.160000+00:00</td>\n",
       "      <td>2024-01-30 16:17:57.807000+00:00</td>\n",
       "      <td>0.987599</td>\n",
       "      <td>138</td>\n",
       "      <td>None</td>\n",
       "      <td>None</td>\n",
       "      <td>...</td>\n",
       "      <td>raj-narayanan-b</td>\n",
       "      <td>f:\\iNeuron\\Projects\\scania_failures_2\\scania_t...</td>\n",
       "      <td>optuna</td>\n",
       "      <td>Ada_Boost_Trial_2</td>\n",
       "      <td>2</td>\n",
       "      <td>parent</td>\n",
       "      <td>[{\"run_id\": \"15bf9b85607d4f549e0242aee3ba1554\"...</td>\n",
       "      <td>LOCAL</td>\n",
       "      <td>Ada_Boost</td>\n",
       "      <td>None</td>\n",
       "    </tr>\n",
       "    <tr>\n",
       "      <th>0</th>\n",
       "      <td>cd460708497e4677a2cdcadeaefd8878</td>\n",
       "      <td>370</td>\n",
       "      <td>FINISHED</td>\n",
       "      <td>mlflow-artifacts:/e061ae45350149779d05a0196a81...</td>\n",
       "      <td>2024-01-31 03:00:03.818000+00:00</td>\n",
       "      <td>2024-01-31 03:04:42.986000+00:00</td>\n",
       "      <td>0.987400</td>\n",
       "      <td>121</td>\n",
       "      <td>20</td>\n",
       "      <td>0.001</td>\n",
       "      <td>...</td>\n",
       "      <td>raj-narayanan-b</td>\n",
       "      <td>f:\\iNeuron\\Projects\\scania_failures_2\\scania_t...</td>\n",
       "      <td>optuna</td>\n",
       "      <td>Light_GBM_Trial_1</td>\n",
       "      <td>1</td>\n",
       "      <td>parent</td>\n",
       "      <td>[{\"run_id\": \"cd460708497e4677a2cdcadeaefd8878\"...</td>\n",
       "      <td>LOCAL</td>\n",
       "      <td>Light_GBM</td>\n",
       "      <td>None</td>\n",
       "    </tr>\n",
       "    <tr>\n",
       "      <th>11</th>\n",
       "      <td>8910203da9014861a55037e2f8daec87</td>\n",
       "      <td>359</td>\n",
       "      <td>FINISHED</td>\n",
       "      <td>mlflow-artifacts:/9eac246fb1494777968d745c0a06...</td>\n",
       "      <td>2024-01-30 14:48:40.541000+00:00</td>\n",
       "      <td>2024-01-30 14:53:37.771000+00:00</td>\n",
       "      <td>0.985000</td>\n",
       "      <td>120</td>\n",
       "      <td>None</td>\n",
       "      <td>None</td>\n",
       "      <td>...</td>\n",
       "      <td>raj-narayanan-b</td>\n",
       "      <td>f:\\iNeuron\\Projects\\scania_failures_2\\scania_t...</td>\n",
       "      <td>optuna</td>\n",
       "      <td>Random Forest_Trial_1</td>\n",
       "      <td>1</td>\n",
       "      <td>parent</td>\n",
       "      <td>[{\"run_id\": \"8910203da9014861a55037e2f8daec87\"...</td>\n",
       "      <td>LOCAL</td>\n",
       "      <td>Random Forest</td>\n",
       "      <td>Challenger</td>\n",
       "    </tr>\n",
       "    <tr>\n",
       "      <th>12</th>\n",
       "      <td>051c0457d0fc4c099949bf9a1138eae0</td>\n",
       "      <td>359</td>\n",
       "      <td>FINISHED</td>\n",
       "      <td>mlflow-artifacts:/9eac246fb1494777968d745c0a06...</td>\n",
       "      <td>2024-01-30 14:40:05.588000+00:00</td>\n",
       "      <td>2024-01-30 14:48:40.155000+00:00</td>\n",
       "      <td>0.984400</td>\n",
       "      <td>136</td>\n",
       "      <td>None</td>\n",
       "      <td>None</td>\n",
       "      <td>...</td>\n",
       "      <td>raj-narayanan-b</td>\n",
       "      <td>f:\\iNeuron\\Projects\\scania_failures_2\\scania_t...</td>\n",
       "      <td>optuna</td>\n",
       "      <td>Random Forest_Trial_0</td>\n",
       "      <td>0</td>\n",
       "      <td>parent</td>\n",
       "      <td>[{\"run_id\": \"051c0457d0fc4c099949bf9a1138eae0\"...</td>\n",
       "      <td>LOCAL</td>\n",
       "      <td>Random Forest</td>\n",
       "      <td>None</td>\n",
       "    </tr>\n",
       "    <tr>\n",
       "      <th>7</th>\n",
       "      <td>1f20472871df464e808dcae1c1ff87ad</td>\n",
       "      <td>362</td>\n",
       "      <td>FINISHED</td>\n",
       "      <td>mlflow-artifacts:/04c470f49efb4b4c860192bf5abe...</td>\n",
       "      <td>2024-01-30 18:09:14.586000+00:00</td>\n",
       "      <td>2024-01-30 19:04:56.116000+00:00</td>\n",
       "      <td>0.982600</td>\n",
       "      <td>98</td>\n",
       "      <td>None</td>\n",
       "      <td>None</td>\n",
       "      <td>...</td>\n",
       "      <td>raj-narayanan-b</td>\n",
       "      <td>f:\\iNeuron\\Projects\\scania_failures_2\\scania_t...</td>\n",
       "      <td>optuna</td>\n",
       "      <td>Bagging_Classifier_Trial_2</td>\n",
       "      <td>2</td>\n",
       "      <td>parent</td>\n",
       "      <td>[{\"run_id\": \"1f20472871df464e808dcae1c1ff87ad\"...</td>\n",
       "      <td>LOCAL</td>\n",
       "      <td>Bagging_Classifier</td>\n",
       "      <td>None</td>\n",
       "    </tr>\n",
       "    <tr>\n",
       "      <th>4</th>\n",
       "      <td>d574e78c7c0c420ebf982c91349ff6ab</td>\n",
       "      <td>367</td>\n",
       "      <td>FINISHED</td>\n",
       "      <td>mlflow-artifacts:/45286f1704274a2c97b1a625f6b9...</td>\n",
       "      <td>2024-01-31 02:20:26.016000+00:00</td>\n",
       "      <td>2024-01-31 02:24:25.836000+00:00</td>\n",
       "      <td>0.977600</td>\n",
       "      <td>None</td>\n",
       "      <td>None</td>\n",
       "      <td>None</td>\n",
       "      <td>...</td>\n",
       "      <td>raj-narayanan-b</td>\n",
       "      <td>f:\\iNeuron\\Projects\\scania_failures_2\\scania_t...</td>\n",
       "      <td>optuna</td>\n",
       "      <td>Decision_Tree_Classifier_Trial_2</td>\n",
       "      <td>2</td>\n",
       "      <td>parent</td>\n",
       "      <td>[{\"run_id\": \"d574e78c7c0c420ebf982c91349ff6ab\"...</td>\n",
       "      <td>LOCAL</td>\n",
       "      <td>Decision_Tree_Classifier</td>\n",
       "      <td>Challenger</td>\n",
       "    </tr>\n",
       "    <tr>\n",
       "      <th>6</th>\n",
       "      <td>450efe8500494c1a96b4d1b365adf12d</td>\n",
       "      <td>367</td>\n",
       "      <td>FINISHED</td>\n",
       "      <td>mlflow-artifacts:/45286f1704274a2c97b1a625f6b9...</td>\n",
       "      <td>2024-01-31 02:11:08.852000+00:00</td>\n",
       "      <td>2024-01-31 02:15:52.012000+00:00</td>\n",
       "      <td>0.976600</td>\n",
       "      <td>None</td>\n",
       "      <td>None</td>\n",
       "      <td>None</td>\n",
       "      <td>...</td>\n",
       "      <td>raj-narayanan-b</td>\n",
       "      <td>f:\\iNeuron\\Projects\\scania_failures_2\\scania_t...</td>\n",
       "      <td>optuna</td>\n",
       "      <td>Decision_Tree_Classifier_Trial_0</td>\n",
       "      <td>0</td>\n",
       "      <td>parent</td>\n",
       "      <td>[{\"run_id\": \"450efe8500494c1a96b4d1b365adf12d\"...</td>\n",
       "      <td>LOCAL</td>\n",
       "      <td>Decision_Tree_Classifier</td>\n",
       "      <td>None</td>\n",
       "    </tr>\n",
       "    <tr>\n",
       "      <th>5</th>\n",
       "      <td>cf58145345754406931cdcde472267d7</td>\n",
       "      <td>367</td>\n",
       "      <td>FINISHED</td>\n",
       "      <td>mlflow-artifacts:/45286f1704274a2c97b1a625f6b9...</td>\n",
       "      <td>2024-01-31 02:15:52.541000+00:00</td>\n",
       "      <td>2024-01-31 02:20:25.599000+00:00</td>\n",
       "      <td>0.976600</td>\n",
       "      <td>None</td>\n",
       "      <td>None</td>\n",
       "      <td>None</td>\n",
       "      <td>...</td>\n",
       "      <td>raj-narayanan-b</td>\n",
       "      <td>f:\\iNeuron\\Projects\\scania_failures_2\\scania_t...</td>\n",
       "      <td>optuna</td>\n",
       "      <td>Decision_Tree_Classifier_Trial_1</td>\n",
       "      <td>1</td>\n",
       "      <td>parent</td>\n",
       "      <td>[{\"run_id\": \"cf58145345754406931cdcde472267d7\"...</td>\n",
       "      <td>LOCAL</td>\n",
       "      <td>Decision_Tree_Classifier</td>\n",
       "      <td>None</td>\n",
       "    </tr>\n",
       "    <tr>\n",
       "      <th>2</th>\n",
       "      <td>e85991c6c1be41b59b3edcb31ac08c61</td>\n",
       "      <td>369</td>\n",
       "      <td>FINISHED</td>\n",
       "      <td>mlflow-artifacts:/ce67e0b8da12439b9ecd13568926...</td>\n",
       "      <td>2024-01-31 02:46:20.321000+00:00</td>\n",
       "      <td>2024-01-31 02:51:34.795000+00:00</td>\n",
       "      <td>0.964999</td>\n",
       "      <td>None</td>\n",
       "      <td>None</td>\n",
       "      <td>None</td>\n",
       "      <td>...</td>\n",
       "      <td>raj-narayanan-b</td>\n",
       "      <td>f:\\iNeuron\\Projects\\scania_failures_2\\scania_t...</td>\n",
       "      <td>optuna</td>\n",
       "      <td>KNN_Classifier_Trial_1</td>\n",
       "      <td>1</td>\n",
       "      <td>parent</td>\n",
       "      <td>[{\"run_id\": \"e85991c6c1be41b59b3edcb31ac08c61\"...</td>\n",
       "      <td>LOCAL</td>\n",
       "      <td>KNN_Classifier</td>\n",
       "      <td>None</td>\n",
       "    </tr>\n",
       "    <tr>\n",
       "      <th>1</th>\n",
       "      <td>fde387db826942f390272394555d5153</td>\n",
       "      <td>369</td>\n",
       "      <td>FINISHED</td>\n",
       "      <td>mlflow-artifacts:/ce67e0b8da12439b9ecd13568926...</td>\n",
       "      <td>2024-01-31 02:51:35.172000+00:00</td>\n",
       "      <td>2024-01-31 02:56:44.662000+00:00</td>\n",
       "      <td>0.957800</td>\n",
       "      <td>None</td>\n",
       "      <td>None</td>\n",
       "      <td>None</td>\n",
       "      <td>...</td>\n",
       "      <td>raj-narayanan-b</td>\n",
       "      <td>f:\\iNeuron\\Projects\\scania_failures_2\\scania_t...</td>\n",
       "      <td>optuna</td>\n",
       "      <td>KNN_Classifier_Trial_2</td>\n",
       "      <td>2</td>\n",
       "      <td>parent</td>\n",
       "      <td>[{\"run_id\": \"fde387db826942f390272394555d5153\"...</td>\n",
       "      <td>LOCAL</td>\n",
       "      <td>KNN_Classifier</td>\n",
       "      <td>None</td>\n",
       "    </tr>\n",
       "    <tr>\n",
       "      <th>3</th>\n",
       "      <td>025a83a7514a493f92e88b0d47d28f25</td>\n",
       "      <td>369</td>\n",
       "      <td>FINISHED</td>\n",
       "      <td>mlflow-artifacts:/ce67e0b8da12439b9ecd13568926...</td>\n",
       "      <td>2024-01-31 02:40:57.786000+00:00</td>\n",
       "      <td>2024-01-31 02:46:19.889000+00:00</td>\n",
       "      <td>0.957800</td>\n",
       "      <td>None</td>\n",
       "      <td>None</td>\n",
       "      <td>None</td>\n",
       "      <td>...</td>\n",
       "      <td>raj-narayanan-b</td>\n",
       "      <td>f:\\iNeuron\\Projects\\scania_failures_2\\scania_t...</td>\n",
       "      <td>optuna</td>\n",
       "      <td>KNN_Classifier_Trial_0</td>\n",
       "      <td>0</td>\n",
       "      <td>parent</td>\n",
       "      <td>[{\"run_id\": \"025a83a7514a493f92e88b0d47d28f25\"...</td>\n",
       "      <td>LOCAL</td>\n",
       "      <td>KNN_Classifier</td>\n",
       "      <td>None</td>\n",
       "    </tr>\n",
       "    <tr>\n",
       "      <th>13</th>\n",
       "      <td>958b66f62e3d493e89e6998c40c4f5ed</td>\n",
       "      <td>358</td>\n",
       "      <td>FINISHED</td>\n",
       "      <td>mlflow-artifacts:/124f2cca7a35493c824761b47227...</td>\n",
       "      <td>2024-01-30 14:36:26.824000+00:00</td>\n",
       "      <td>2024-01-30 14:40:01.856000+00:00</td>\n",
       "      <td>0.587792</td>\n",
       "      <td>None</td>\n",
       "      <td>None</td>\n",
       "      <td>None</td>\n",
       "      <td>...</td>\n",
       "      <td>raj-narayanan-b</td>\n",
       "      <td>f:\\iNeuron\\Projects\\scania_failures_2\\scania_t...</td>\n",
       "      <td>optuna</td>\n",
       "      <td>SGD_Classifier_Trial_2</td>\n",
       "      <td>2</td>\n",
       "      <td>parent</td>\n",
       "      <td>[{\"run_id\": \"958b66f62e3d493e89e6998c40c4f5ed\"...</td>\n",
       "      <td>LOCAL</td>\n",
       "      <td>SGD_Classifier</td>\n",
       "      <td>None</td>\n",
       "    </tr>\n",
       "    <tr>\n",
       "      <th>14</th>\n",
       "      <td>7fc89f0ffc0442a9a72fd1793e8d70a3</td>\n",
       "      <td>358</td>\n",
       "      <td>FINISHED</td>\n",
       "      <td>mlflow-artifacts:/124f2cca7a35493c824761b47227...</td>\n",
       "      <td>2024-01-30 14:31:34.148000+00:00</td>\n",
       "      <td>2024-01-30 14:36:26.429000+00:00</td>\n",
       "      <td>0.559776</td>\n",
       "      <td>None</td>\n",
       "      <td>None</td>\n",
       "      <td>None</td>\n",
       "      <td>...</td>\n",
       "      <td>raj-narayanan-b</td>\n",
       "      <td>f:\\iNeuron\\Projects\\scania_failures_2\\scania_t...</td>\n",
       "      <td>optuna</td>\n",
       "      <td>SGD_Classifier_Trial_1</td>\n",
       "      <td>1</td>\n",
       "      <td>parent</td>\n",
       "      <td>[{\"run_id\": \"7fc89f0ffc0442a9a72fd1793e8d70a3\"...</td>\n",
       "      <td>LOCAL</td>\n",
       "      <td>SGD_Classifier</td>\n",
       "      <td>None</td>\n",
       "    </tr>\n",
       "    <tr>\n",
       "      <th>15</th>\n",
       "      <td>a441680b78ca4cd496fddae53dfe1cf9</td>\n",
       "      <td>358</td>\n",
       "      <td>FINISHED</td>\n",
       "      <td>mlflow-artifacts:/124f2cca7a35493c824761b47227...</td>\n",
       "      <td>2024-01-30 14:27:32.774000+00:00</td>\n",
       "      <td>2024-01-30 14:31:33.753000+00:00</td>\n",
       "      <td>0.555370</td>\n",
       "      <td>None</td>\n",
       "      <td>None</td>\n",
       "      <td>None</td>\n",
       "      <td>...</td>\n",
       "      <td>raj-narayanan-b</td>\n",
       "      <td>f:\\iNeuron\\Projects\\scania_failures_2\\scania_t...</td>\n",
       "      <td>optuna</td>\n",
       "      <td>SGD_Classifier_Trial_0</td>\n",
       "      <td>0</td>\n",
       "      <td>parent</td>\n",
       "      <td>[{\"run_id\": \"a441680b78ca4cd496fddae53dfe1cf9\"...</td>\n",
       "      <td>LOCAL</td>\n",
       "      <td>SGD_Classifier</td>\n",
       "      <td>None</td>\n",
       "    </tr>\n",
       "  </tbody>\n",
       "</table>\n",
       "<p>16 rows × 75 columns</p>\n",
       "</div>"
      ],
      "text/plain": [
       "                              run_id experiment_id    status  \\\n",
       "9   430820168dbe47159015285ad06ac831           360  FINISHED   \n",
       "10  46c5f82c6eb84ca286593a59d552d5f7           360  FINISHED   \n",
       "8   15bf9b85607d4f549e0242aee3ba1554           360  FINISHED   \n",
       "0   cd460708497e4677a2cdcadeaefd8878           370  FINISHED   \n",
       "11  8910203da9014861a55037e2f8daec87           359  FINISHED   \n",
       "12  051c0457d0fc4c099949bf9a1138eae0           359  FINISHED   \n",
       "7   1f20472871df464e808dcae1c1ff87ad           362  FINISHED   \n",
       "4   d574e78c7c0c420ebf982c91349ff6ab           367  FINISHED   \n",
       "6   450efe8500494c1a96b4d1b365adf12d           367  FINISHED   \n",
       "5   cf58145345754406931cdcde472267d7           367  FINISHED   \n",
       "2   e85991c6c1be41b59b3edcb31ac08c61           369  FINISHED   \n",
       "1   fde387db826942f390272394555d5153           369  FINISHED   \n",
       "3   025a83a7514a493f92e88b0d47d28f25           369  FINISHED   \n",
       "13  958b66f62e3d493e89e6998c40c4f5ed           358  FINISHED   \n",
       "14  7fc89f0ffc0442a9a72fd1793e8d70a3           358  FINISHED   \n",
       "15  a441680b78ca4cd496fddae53dfe1cf9           358  FINISHED   \n",
       "\n",
       "                                         artifact_uri  \\\n",
       "9   mlflow-artifacts:/2f41aed987944507ad6fce5ad822...   \n",
       "10  mlflow-artifacts:/2f41aed987944507ad6fce5ad822...   \n",
       "8   mlflow-artifacts:/2f41aed987944507ad6fce5ad822...   \n",
       "0   mlflow-artifacts:/e061ae45350149779d05a0196a81...   \n",
       "11  mlflow-artifacts:/9eac246fb1494777968d745c0a06...   \n",
       "12  mlflow-artifacts:/9eac246fb1494777968d745c0a06...   \n",
       "7   mlflow-artifacts:/04c470f49efb4b4c860192bf5abe...   \n",
       "4   mlflow-artifacts:/45286f1704274a2c97b1a625f6b9...   \n",
       "6   mlflow-artifacts:/45286f1704274a2c97b1a625f6b9...   \n",
       "5   mlflow-artifacts:/45286f1704274a2c97b1a625f6b9...   \n",
       "2   mlflow-artifacts:/ce67e0b8da12439b9ecd13568926...   \n",
       "1   mlflow-artifacts:/ce67e0b8da12439b9ecd13568926...   \n",
       "3   mlflow-artifacts:/ce67e0b8da12439b9ecd13568926...   \n",
       "13  mlflow-artifacts:/124f2cca7a35493c824761b47227...   \n",
       "14  mlflow-artifacts:/124f2cca7a35493c824761b47227...   \n",
       "15  mlflow-artifacts:/124f2cca7a35493c824761b47227...   \n",
       "\n",
       "                         start_time                         end_time  \\\n",
       "9  2024-01-30 15:55:25.944000+00:00 2024-01-30 16:07:05.726000+00:00   \n",
       "10 2024-01-30 15:44:23.696000+00:00 2024-01-30 15:55:25.562000+00:00   \n",
       "8  2024-01-30 16:07:06.160000+00:00 2024-01-30 16:17:57.807000+00:00   \n",
       "0  2024-01-31 03:00:03.818000+00:00 2024-01-31 03:04:42.986000+00:00   \n",
       "11 2024-01-30 14:48:40.541000+00:00 2024-01-30 14:53:37.771000+00:00   \n",
       "12 2024-01-30 14:40:05.588000+00:00 2024-01-30 14:48:40.155000+00:00   \n",
       "7  2024-01-30 18:09:14.586000+00:00 2024-01-30 19:04:56.116000+00:00   \n",
       "4  2024-01-31 02:20:26.016000+00:00 2024-01-31 02:24:25.836000+00:00   \n",
       "6  2024-01-31 02:11:08.852000+00:00 2024-01-31 02:15:52.012000+00:00   \n",
       "5  2024-01-31 02:15:52.541000+00:00 2024-01-31 02:20:25.599000+00:00   \n",
       "2  2024-01-31 02:46:20.321000+00:00 2024-01-31 02:51:34.795000+00:00   \n",
       "1  2024-01-31 02:51:35.172000+00:00 2024-01-31 02:56:44.662000+00:00   \n",
       "3  2024-01-31 02:40:57.786000+00:00 2024-01-31 02:46:19.889000+00:00   \n",
       "13 2024-01-30 14:36:26.824000+00:00 2024-01-30 14:40:01.856000+00:00   \n",
       "14 2024-01-30 14:31:34.148000+00:00 2024-01-30 14:36:26.429000+00:00   \n",
       "15 2024-01-30 14:27:32.774000+00:00 2024-01-30 14:31:33.753000+00:00   \n",
       "\n",
       "    metrics.Accuracy_Score params.n_estimators params.min_child_samples  \\\n",
       "9                 0.988199                 150                     None   \n",
       "10                0.987799                 139                     None   \n",
       "8                 0.987599                 138                     None   \n",
       "0                 0.987400                 121                       20   \n",
       "11                0.985000                 120                     None   \n",
       "12                0.984400                 136                     None   \n",
       "7                 0.982600                  98                     None   \n",
       "4                 0.977600                None                     None   \n",
       "6                 0.976600                None                     None   \n",
       "5                 0.976600                None                     None   \n",
       "2                 0.964999                None                     None   \n",
       "1                 0.957800                None                     None   \n",
       "3                 0.957800                None                     None   \n",
       "13                0.587792                None                     None   \n",
       "14                0.559776                None                     None   \n",
       "15                0.555370                None                     None   \n",
       "\n",
       "   params.min_child_weight  ... tags.mlflow.user  \\\n",
       "9                     None  ...  raj-narayanan-b   \n",
       "10                    None  ...  raj-narayanan-b   \n",
       "8                     None  ...  raj-narayanan-b   \n",
       "0                    0.001  ...  raj-narayanan-b   \n",
       "11                    None  ...  raj-narayanan-b   \n",
       "12                    None  ...  raj-narayanan-b   \n",
       "7                     None  ...  raj-narayanan-b   \n",
       "4                     None  ...  raj-narayanan-b   \n",
       "6                     None  ...  raj-narayanan-b   \n",
       "5                     None  ...  raj-narayanan-b   \n",
       "2                     None  ...  raj-narayanan-b   \n",
       "1                     None  ...  raj-narayanan-b   \n",
       "3                     None  ...  raj-narayanan-b   \n",
       "13                    None  ...  raj-narayanan-b   \n",
       "14                    None  ...  raj-narayanan-b   \n",
       "15                    None  ...  raj-narayanan-b   \n",
       "\n",
       "                              tags.mlflow.source.name tags.tuner  \\\n",
       "9   f:\\iNeuron\\Projects\\scania_failures_2\\scania_t...     optuna   \n",
       "10  f:\\iNeuron\\Projects\\scania_failures_2\\scania_t...     optuna   \n",
       "8   f:\\iNeuron\\Projects\\scania_failures_2\\scania_t...     optuna   \n",
       "0   f:\\iNeuron\\Projects\\scania_failures_2\\scania_t...     optuna   \n",
       "11  f:\\iNeuron\\Projects\\scania_failures_2\\scania_t...     optuna   \n",
       "12  f:\\iNeuron\\Projects\\scania_failures_2\\scania_t...     optuna   \n",
       "7   f:\\iNeuron\\Projects\\scania_failures_2\\scania_t...     optuna   \n",
       "4   f:\\iNeuron\\Projects\\scania_failures_2\\scania_t...     optuna   \n",
       "6   f:\\iNeuron\\Projects\\scania_failures_2\\scania_t...     optuna   \n",
       "5   f:\\iNeuron\\Projects\\scania_failures_2\\scania_t...     optuna   \n",
       "2   f:\\iNeuron\\Projects\\scania_failures_2\\scania_t...     optuna   \n",
       "1   f:\\iNeuron\\Projects\\scania_failures_2\\scania_t...     optuna   \n",
       "3   f:\\iNeuron\\Projects\\scania_failures_2\\scania_t...     optuna   \n",
       "13  f:\\iNeuron\\Projects\\scania_failures_2\\scania_t...     optuna   \n",
       "14  f:\\iNeuron\\Projects\\scania_failures_2\\scania_t...     optuna   \n",
       "15  f:\\iNeuron\\Projects\\scania_failures_2\\scania_t...     optuna   \n",
       "\n",
       "                 tags.mlflow.runName tags.trial tags.run_type  \\\n",
       "9                  Ada_Boost_Trial_1          1        parent   \n",
       "10                 Ada_Boost_Trial_0          0        parent   \n",
       "8                  Ada_Boost_Trial_2          2        parent   \n",
       "0                  Light_GBM_Trial_1          1        parent   \n",
       "11             Random Forest_Trial_1          1        parent   \n",
       "12             Random Forest_Trial_0          0        parent   \n",
       "7         Bagging_Classifier_Trial_2          2        parent   \n",
       "4   Decision_Tree_Classifier_Trial_2          2        parent   \n",
       "6   Decision_Tree_Classifier_Trial_0          0        parent   \n",
       "5   Decision_Tree_Classifier_Trial_1          1        parent   \n",
       "2             KNN_Classifier_Trial_1          1        parent   \n",
       "1             KNN_Classifier_Trial_2          2        parent   \n",
       "3             KNN_Classifier_Trial_0          0        parent   \n",
       "13            SGD_Classifier_Trial_2          2        parent   \n",
       "14            SGD_Classifier_Trial_1          1        parent   \n",
       "15            SGD_Classifier_Trial_0          0        parent   \n",
       "\n",
       "                        tags.mlflow.log-model.history tags.mlflow.source.type  \\\n",
       "9   [{\"run_id\": \"430820168dbe47159015285ad06ac831\"...                   LOCAL   \n",
       "10  [{\"run_id\": \"46c5f82c6eb84ca286593a59d552d5f7\"...                   LOCAL   \n",
       "8   [{\"run_id\": \"15bf9b85607d4f549e0242aee3ba1554\"...                   LOCAL   \n",
       "0   [{\"run_id\": \"cd460708497e4677a2cdcadeaefd8878\"...                   LOCAL   \n",
       "11  [{\"run_id\": \"8910203da9014861a55037e2f8daec87\"...                   LOCAL   \n",
       "12  [{\"run_id\": \"051c0457d0fc4c099949bf9a1138eae0\"...                   LOCAL   \n",
       "7   [{\"run_id\": \"1f20472871df464e808dcae1c1ff87ad\"...                   LOCAL   \n",
       "4   [{\"run_id\": \"d574e78c7c0c420ebf982c91349ff6ab\"...                   LOCAL   \n",
       "6   [{\"run_id\": \"450efe8500494c1a96b4d1b365adf12d\"...                   LOCAL   \n",
       "5   [{\"run_id\": \"cf58145345754406931cdcde472267d7\"...                   LOCAL   \n",
       "2   [{\"run_id\": \"e85991c6c1be41b59b3edcb31ac08c61\"...                   LOCAL   \n",
       "1   [{\"run_id\": \"fde387db826942f390272394555d5153\"...                   LOCAL   \n",
       "3   [{\"run_id\": \"025a83a7514a493f92e88b0d47d28f25\"...                   LOCAL   \n",
       "13  [{\"run_id\": \"958b66f62e3d493e89e6998c40c4f5ed\"...                   LOCAL   \n",
       "14  [{\"run_id\": \"7fc89f0ffc0442a9a72fd1793e8d70a3\"...                   LOCAL   \n",
       "15  [{\"run_id\": \"a441680b78ca4cd496fddae53dfe1cf9\"...                   LOCAL   \n",
       "\n",
       "                  tags.model tags.model_type  \n",
       "9                  Ada_Boost      Challenger  \n",
       "10                 Ada_Boost            None  \n",
       "8                  Ada_Boost            None  \n",
       "0                  Light_GBM            None  \n",
       "11             Random Forest      Challenger  \n",
       "12             Random Forest            None  \n",
       "7         Bagging_Classifier            None  \n",
       "4   Decision_Tree_Classifier      Challenger  \n",
       "6   Decision_Tree_Classifier            None  \n",
       "5   Decision_Tree_Classifier            None  \n",
       "2             KNN_Classifier            None  \n",
       "1             KNN_Classifier            None  \n",
       "3             KNN_Classifier            None  \n",
       "13            SGD_Classifier            None  \n",
       "14            SGD_Classifier            None  \n",
       "15            SGD_Classifier            None  \n",
       "\n",
       "[16 rows x 75 columns]"
      ]
     },
     "execution_count": 46,
     "metadata": {},
     "output_type": "execute_result"
    }
   ],
   "source": [
    "runs_df.sort_values(by = 'metrics.Accuracy_Score', ascending=False)"
   ]
  },
  {
   "cell_type": "code",
   "execution_count": 47,
   "metadata": {},
   "outputs": [
    {
     "data": {
      "text/plain": [
       "[<RegisteredModel: aliases={}, creation_timestamp=1706631479860, description='', last_updated_timestamp=1706631480236, latest_versions=[<ModelVersion: aliases=[], creation_timestamp=1706631480236, current_stage='None', description='', last_updated_timestamp=1706631480236, name='Challenger_Ada_Boost', run_id='430820168dbe47159015285ad06ac831', run_link='', source='mlflow-artifacts:/2f41aed987944507ad6fce5ad822d75c/430820168dbe47159015285ad06ac831/artifacts/challenger_Ada_Boost', status='READY', status_message='', tags={}, user_id='', version='1'>], name='Challenger_Ada_Boost', tags={}>,\n",
       " <RegisteredModel: aliases={}, creation_timestamp=1706641497818, description='', last_updated_timestamp=1706641498198, latest_versions=[<ModelVersion: aliases=[], creation_timestamp=1706641498198, current_stage='None', description='', last_updated_timestamp=1706641498198, name='Challenger_Bagging_Classifier', run_id='1f20472871df464e808dcae1c1ff87ad', run_link='', source='mlflow-artifacts:/04c470f49efb4b4c860192bf5abeca5c/1f20472871df464e808dcae1c1ff87ad/artifacts/challenger_Bagging_Classifier', status='READY', status_message='', tags={}, user_id='', version='1'>], name='Challenger_Bagging_Classifier', tags={}>,\n",
       " <RegisteredModel: aliases={}, creation_timestamp=1706667869398, description='', last_updated_timestamp=1706667869835, latest_versions=[<ModelVersion: aliases=[], creation_timestamp=1706667869835, current_stage='None', description='', last_updated_timestamp=1706667869835, name='Challenger_Decision_Tree_Classifier', run_id='d574e78c7c0c420ebf982c91349ff6ab', run_link='', source='mlflow-artifacts:/45286f1704274a2c97b1a625f6b97ac2/d574e78c7c0c420ebf982c91349ff6ab/artifacts/challenger_Decision_Tree_Classifier', status='READY', status_message='', tags={}, user_id='', version='1'>], name='Challenger_Decision_Tree_Classifier', tags={}>,\n",
       " <RegisteredModel: aliases={}, creation_timestamp=1706669807635, description='', last_updated_timestamp=1706669808033, latest_versions=[<ModelVersion: aliases=[], creation_timestamp=1706669808033, current_stage='None', description='', last_updated_timestamp=1706669808033, name='Challenger_KNN_Classifier', run_id='e85991c6c1be41b59b3edcb31ac08c61', run_link='', source='mlflow-artifacts:/ce67e0b8da12439b9ecd135689264d53/e85991c6c1be41b59b3edcb31ac08c61/artifacts/challenger_KNN_Classifier', status='READY', status_message='', tags={}, user_id='', version='1'>], name='Challenger_KNN_Classifier', tags={}>,\n",
       " <RegisteredModel: aliases={}, creation_timestamp=1706670505865, description='', last_updated_timestamp=1706670506266, latest_versions=[<ModelVersion: aliases=[], creation_timestamp=1706670506266, current_stage='None', description='', last_updated_timestamp=1706670506266, name='Challenger_Light_GBM', run_id='cd460708497e4677a2cdcadeaefd8878', run_link='', source='mlflow-artifacts:/e061ae45350149779d05a0196a81845a/cd460708497e4677a2cdcadeaefd8878/artifacts/challenger_Light_GBM', status='READY', status_message='', tags={}, user_id='', version='1'>], name='Challenger_Light_GBM', tags={}>,\n",
       " <RegisteredModel: aliases={}, creation_timestamp=1706629462114, description='', last_updated_timestamp=1706629462550, latest_versions=[<ModelVersion: aliases=[], creation_timestamp=1706629462550, current_stage='None', description='', last_updated_timestamp=1706629462550, name='Challenger_Random Forest', run_id='8910203da9014861a55037e2f8daec87', run_link='', source=('mlflow-artifacts:/9eac246fb1494777968d745c0a06429b/8910203da9014861a55037e2f8daec87/artifacts/challenger_Random '\n",
       "  'Forest'), status='READY', status_message='', tags={}, user_id='', version='1'>], name='Challenger_Random Forest', tags={}>,\n",
       " <RegisteredModel: aliases={}, creation_timestamp=1706625604106, description='', last_updated_timestamp=1706625604530, latest_versions=[<ModelVersion: aliases=[], creation_timestamp=1706625604530, current_stage='None', description='', last_updated_timestamp=1706625604530, name='Challenger_SGD_Classifier', run_id='958b66f62e3d493e89e6998c40c4f5ed', run_link='', source='mlflow-artifacts:/124f2cca7a35493c824761b472275bce/958b66f62e3d493e89e6998c40c4f5ed/artifacts/challenger_SGD_Classifier', status='READY', status_message='', tags={}, user_id='', version='1'>], name='Challenger_SGD_Classifier', tags={}>]"
      ]
     },
     "execution_count": 47,
     "metadata": {},
     "output_type": "execute_result"
    }
   ],
   "source": [
    "parent_runs"
   ]
  },
  {
   "cell_type": "code",
   "execution_count": 48,
   "metadata": {},
   "outputs": [
    {
     "data": {
      "text/plain": [
       "['430820168dbe47159015285ad06ac831',\n",
       " '1f20472871df464e808dcae1c1ff87ad',\n",
       " 'd574e78c7c0c420ebf982c91349ff6ab',\n",
       " 'e85991c6c1be41b59b3edcb31ac08c61',\n",
       " 'cd460708497e4677a2cdcadeaefd8878',\n",
       " '8910203da9014861a55037e2f8daec87',\n",
       " '958b66f62e3d493e89e6998c40c4f5ed']"
      ]
     },
     "execution_count": 48,
     "metadata": {},
     "output_type": "execute_result"
    }
   ],
   "source": [
    "runs_list_ = [parent_runs[i].latest_versions[0].run_id for i in range(len(parent_runs))]\n",
    "runs_list_"
   ]
  },
  {
   "cell_type": "code",
   "execution_count": 49,
   "metadata": {},
   "outputs": [
    {
     "data": {
      "text/plain": [
       "'430820168dbe47159015285ad06ac831'"
      ]
     },
     "execution_count": 49,
     "metadata": {},
     "output_type": "execute_result"
    }
   ],
   "source": [
    "best_run = runs_df[runs_df['run_id'].isin(runs_list_)].sort_values(by = \"metrics.Accuracy_Score\", ascending = False).reset_index(drop=True)['run_id'][0]\n",
    "best_run"
   ]
  },
  {
   "cell_type": "code",
   "execution_count": 33,
   "metadata": {},
   "outputs": [
    {
     "data": {
      "text/plain": [
       "'360'"
      ]
     },
     "execution_count": 33,
     "metadata": {},
     "output_type": "execute_result"
    }
   ],
   "source": [
    "runs_df[runs_df['run_id'] == best_run]['experiment_id'].values[0]"
   ]
  },
  {
   "cell_type": "code",
   "execution_count": 40,
   "metadata": {},
   "outputs": [
    {
     "data": {
      "text/plain": [
       "Index(['run_id', 'experiment_id', 'status', 'artifact_uri', 'start_time',\n",
       "       'end_time', 'metrics.Accuracy_Score', 'params.n_estimators',\n",
       "       'params.min_child_samples', 'params.min_child_weight',\n",
       "       'params.min_split_gain', 'params.objective', 'params.subsample_for_bin',\n",
       "       'params.max_depth', 'params.n_jobs', 'params.importance_type',\n",
       "       'params.subsample', 'params.learning_rate', 'params.subsample_freq',\n",
       "       'params.reg_lambda', 'params.class_weight', 'params.random_state',\n",
       "       'params.reg_alpha', 'params.boosting_type', 'params.colsample_bytree',\n",
       "       'params.num_leaves', 'params.leaf_size', 'params.metric',\n",
       "       'params.n_neighbors', 'params.p', 'params.weights',\n",
       "       'params.metric_params', 'params.algorithm', 'params.max_features',\n",
       "       'params.ccp_alpha', 'params.max_leaf_nodes', 'params.min_samples_leaf',\n",
       "       'params.min_impurity_decrease', 'params.splitter', 'params.criterion',\n",
       "       'params.min_samples_split', 'params.min_weight_fraction_leaf',\n",
       "       'params.max_samples', 'params.oob_score', 'params.base_estimator',\n",
       "       'params.estimator', 'params.bootstrap_features', 'params.bootstrap',\n",
       "       'params.verbose', 'params.warm_start', 'params.n_iter_no_change',\n",
       "       'params.validation_fraction', 'params.fit_intercept', 'params.penalty',\n",
       "       'params.eta0', 'params.power_t', 'params.average', 'params.max_iter',\n",
       "       'params.alpha', 'params.loss', 'params.tol', 'params.l1_ratio',\n",
       "       'params.early_stopping', 'params.shuffle', 'params.epsilon',\n",
       "       'tags.mlflow.user', 'tags.mlflow.source.name', 'tags.tuner',\n",
       "       'tags.mlflow.runName', 'tags.trial', 'tags.run_type',\n",
       "       'tags.mlflow.log-model.history', 'tags.mlflow.source.type',\n",
       "       'tags.model'],\n",
       "      dtype='object')"
      ]
     },
     "execution_count": 40,
     "metadata": {},
     "output_type": "execute_result"
    }
   ],
   "source": [
    "runs_df[runs_df['run_id'] == best_run].columns"
   ]
  },
  {
   "cell_type": "code",
   "execution_count": 44,
   "metadata": {},
   "outputs": [],
   "source": [
    "client.set_tag('8910203da9014861a55037e2f8daec87', \"model_type\", \"Challenger\")"
   ]
  },
  {
   "cell_type": "code",
   "execution_count": 37,
   "metadata": {},
   "outputs": [
    {
     "data": {
      "text/plain": [
       "'https://dagshub.com/Raj-Narayanan-B/StudentMLProjectRegression.mlflow'"
      ]
     },
     "execution_count": 37,
     "metadata": {},
     "output_type": "execute_result"
    }
   ],
   "source": [
    "client.tracking_uri"
   ]
  },
  {
   "cell_type": "code",
   "execution_count": 56,
   "metadata": {},
   "outputs": [
    {
     "data": {
      "text/html": [
       "<div>\n",
       "<style scoped>\n",
       "    .dataframe tbody tr th:only-of-type {\n",
       "        vertical-align: middle;\n",
       "    }\n",
       "\n",
       "    .dataframe tbody tr th {\n",
       "        vertical-align: top;\n",
       "    }\n",
       "\n",
       "    .dataframe thead th {\n",
       "        text-align: right;\n",
       "    }\n",
       "</style>\n",
       "<table border=\"1\" class=\"dataframe\">\n",
       "  <thead>\n",
       "    <tr style=\"text-align: right;\">\n",
       "      <th></th>\n",
       "      <th>run_id</th>\n",
       "      <th>experiment_id</th>\n",
       "      <th>status</th>\n",
       "      <th>artifact_uri</th>\n",
       "      <th>start_time</th>\n",
       "      <th>end_time</th>\n",
       "      <th>metrics.Accuracy_Score</th>\n",
       "      <th>params.max_features</th>\n",
       "      <th>params.random_state</th>\n",
       "      <th>params.max_leaf_nodes</th>\n",
       "      <th>...</th>\n",
       "      <th>tags.mlflow.user</th>\n",
       "      <th>tags.mlflow.source.name</th>\n",
       "      <th>tags.tuner</th>\n",
       "      <th>tags.mlflow.runName</th>\n",
       "      <th>tags.trial</th>\n",
       "      <th>tags.model_type</th>\n",
       "      <th>tags.mlflow.log-model.history</th>\n",
       "      <th>tags.run_type</th>\n",
       "      <th>tags.mlflow.source.type</th>\n",
       "      <th>tags.model</th>\n",
       "    </tr>\n",
       "  </thead>\n",
       "  <tbody>\n",
       "    <tr>\n",
       "      <th>0</th>\n",
       "      <td>d574e78c7c0c420ebf982c91349ff6ab</td>\n",
       "      <td>367</td>\n",
       "      <td>FINISHED</td>\n",
       "      <td>mlflow-artifacts:/45286f1704274a2c97b1a625f6b9...</td>\n",
       "      <td>2024-01-31 02:20:26.016000+00:00</td>\n",
       "      <td>2024-01-31 02:24:25.836000+00:00</td>\n",
       "      <td>0.977600</td>\n",
       "      <td>None</td>\n",
       "      <td>None</td>\n",
       "      <td>None</td>\n",
       "      <td>...</td>\n",
       "      <td>raj-narayanan-b</td>\n",
       "      <td>f:\\iNeuron\\Projects\\scania_failures_2\\scania_t...</td>\n",
       "      <td>optuna</td>\n",
       "      <td>Decision_Tree_Classifier_Trial_2</td>\n",
       "      <td>2</td>\n",
       "      <td>Challenger</td>\n",
       "      <td>[{\"run_id\": \"d574e78c7c0c420ebf982c91349ff6ab\"...</td>\n",
       "      <td>parent</td>\n",
       "      <td>LOCAL</td>\n",
       "      <td>Decision_Tree_Classifier</td>\n",
       "    </tr>\n",
       "    <tr>\n",
       "      <th>1</th>\n",
       "      <td>430820168dbe47159015285ad06ac831</td>\n",
       "      <td>360</td>\n",
       "      <td>FINISHED</td>\n",
       "      <td>mlflow-artifacts:/2f41aed987944507ad6fce5ad822...</td>\n",
       "      <td>2024-01-30 15:55:25.944000+00:00</td>\n",
       "      <td>2024-01-30 16:07:05.726000+00:00</td>\n",
       "      <td>0.988199</td>\n",
       "      <td>None</td>\n",
       "      <td>None</td>\n",
       "      <td>None</td>\n",
       "      <td>...</td>\n",
       "      <td>raj-narayanan-b</td>\n",
       "      <td>f:\\iNeuron\\Projects\\scania_failures_2\\scania_t...</td>\n",
       "      <td>optuna</td>\n",
       "      <td>Ada_Boost_Trial_1</td>\n",
       "      <td>1</td>\n",
       "      <td>Challenger</td>\n",
       "      <td>[{\"run_id\": \"430820168dbe47159015285ad06ac831\"...</td>\n",
       "      <td>parent</td>\n",
       "      <td>LOCAL</td>\n",
       "      <td>Ada_Boost</td>\n",
       "    </tr>\n",
       "    <tr>\n",
       "      <th>2</th>\n",
       "      <td>8910203da9014861a55037e2f8daec87</td>\n",
       "      <td>359</td>\n",
       "      <td>FINISHED</td>\n",
       "      <td>mlflow-artifacts:/9eac246fb1494777968d745c0a06...</td>\n",
       "      <td>2024-01-30 14:48:40.541000+00:00</td>\n",
       "      <td>2024-01-30 14:53:37.771000+00:00</td>\n",
       "      <td>0.985000</td>\n",
       "      <td>log2</td>\n",
       "      <td>None</td>\n",
       "      <td>None</td>\n",
       "      <td>...</td>\n",
       "      <td>raj-narayanan-b</td>\n",
       "      <td>f:\\iNeuron\\Projects\\scania_failures_2\\scania_t...</td>\n",
       "      <td>optuna</td>\n",
       "      <td>Random Forest_Trial_1</td>\n",
       "      <td>1</td>\n",
       "      <td>Challenger</td>\n",
       "      <td>[{\"run_id\": \"8910203da9014861a55037e2f8daec87\"...</td>\n",
       "      <td>parent</td>\n",
       "      <td>LOCAL</td>\n",
       "      <td>Random Forest</td>\n",
       "    </tr>\n",
       "  </tbody>\n",
       "</table>\n",
       "<p>3 rows × 40 columns</p>\n",
       "</div>"
      ],
      "text/plain": [
       "                             run_id experiment_id    status  \\\n",
       "0  d574e78c7c0c420ebf982c91349ff6ab           367  FINISHED   \n",
       "1  430820168dbe47159015285ad06ac831           360  FINISHED   \n",
       "2  8910203da9014861a55037e2f8daec87           359  FINISHED   \n",
       "\n",
       "                                        artifact_uri  \\\n",
       "0  mlflow-artifacts:/45286f1704274a2c97b1a625f6b9...   \n",
       "1  mlflow-artifacts:/2f41aed987944507ad6fce5ad822...   \n",
       "2  mlflow-artifacts:/9eac246fb1494777968d745c0a06...   \n",
       "\n",
       "                        start_time                         end_time  \\\n",
       "0 2024-01-31 02:20:26.016000+00:00 2024-01-31 02:24:25.836000+00:00   \n",
       "1 2024-01-30 15:55:25.944000+00:00 2024-01-30 16:07:05.726000+00:00   \n",
       "2 2024-01-30 14:48:40.541000+00:00 2024-01-30 14:53:37.771000+00:00   \n",
       "\n",
       "   metrics.Accuracy_Score params.max_features params.random_state  \\\n",
       "0                0.977600                None                None   \n",
       "1                0.988199                None                None   \n",
       "2                0.985000                log2                None   \n",
       "\n",
       "  params.max_leaf_nodes  ... tags.mlflow.user  \\\n",
       "0                  None  ...  raj-narayanan-b   \n",
       "1                  None  ...  raj-narayanan-b   \n",
       "2                  None  ...  raj-narayanan-b   \n",
       "\n",
       "                             tags.mlflow.source.name tags.tuner  \\\n",
       "0  f:\\iNeuron\\Projects\\scania_failures_2\\scania_t...     optuna   \n",
       "1  f:\\iNeuron\\Projects\\scania_failures_2\\scania_t...     optuna   \n",
       "2  f:\\iNeuron\\Projects\\scania_failures_2\\scania_t...     optuna   \n",
       "\n",
       "                tags.mlflow.runName tags.trial tags.model_type  \\\n",
       "0  Decision_Tree_Classifier_Trial_2          2      Challenger   \n",
       "1                 Ada_Boost_Trial_1          1      Challenger   \n",
       "2             Random Forest_Trial_1          1      Challenger   \n",
       "\n",
       "                       tags.mlflow.log-model.history tags.run_type  \\\n",
       "0  [{\"run_id\": \"d574e78c7c0c420ebf982c91349ff6ab\"...        parent   \n",
       "1  [{\"run_id\": \"430820168dbe47159015285ad06ac831\"...        parent   \n",
       "2  [{\"run_id\": \"8910203da9014861a55037e2f8daec87\"...        parent   \n",
       "\n",
       "  tags.mlflow.source.type                tags.model  \n",
       "0                   LOCAL  Decision_Tree_Classifier  \n",
       "1                   LOCAL                 Ada_Boost  \n",
       "2                   LOCAL             Random Forest  \n",
       "\n",
       "[3 rows x 40 columns]"
      ]
     },
     "execution_count": 56,
     "metadata": {},
     "output_type": "execute_result"
    }
   ],
   "source": [
    "runs_df = mlflow.search_runs(experiment_ids = list(range(358,371)),\n",
    "                                search_all_experiments = True,\n",
    "                                filter_string = f\"tags.run_type ilike 'parent' and tags.model_type ilike 'Challenger'\")\n",
    "\n",
    "# runs_df = mlflow.search_runs(\n",
    "#     experiment_ids=list(range(358, 371)),\n",
    "#     search_all_experiments=True,\n",
    "#     filter_string=\"tags.run_type ilike 'parent' and tags.model_type ilike 'Challenger'\"\n",
    "# )\n",
    "\n",
    "runs_df"
   ]
  },
  {
   "cell_type": "code",
   "execution_count": 52,
   "metadata": {},
   "outputs": [],
   "source": [
    "runs_df = mlflow.search_runs(\n",
    "    experiment_ids=list(range(358, 371)),\n",
    "    search_all_experiments=True,\n",
    "    filter_string=\"tags.run_type ilike 'parent' and tags.model_type ilike 'Challenger'\"\n",
    ")\n"
   ]
  },
  {
   "cell_type": "code",
   "execution_count": 53,
   "metadata": {},
   "outputs": [
    {
     "data": {
      "text/html": [
       "<div>\n",
       "<style scoped>\n",
       "    .dataframe tbody tr th:only-of-type {\n",
       "        vertical-align: middle;\n",
       "    }\n",
       "\n",
       "    .dataframe tbody tr th {\n",
       "        vertical-align: top;\n",
       "    }\n",
       "\n",
       "    .dataframe thead th {\n",
       "        text-align: right;\n",
       "    }\n",
       "</style>\n",
       "<table border=\"1\" class=\"dataframe\">\n",
       "  <thead>\n",
       "    <tr style=\"text-align: right;\">\n",
       "      <th></th>\n",
       "      <th>run_id</th>\n",
       "      <th>experiment_id</th>\n",
       "      <th>status</th>\n",
       "      <th>artifact_uri</th>\n",
       "      <th>start_time</th>\n",
       "      <th>end_time</th>\n",
       "      <th>metrics.Accuracy_Score</th>\n",
       "      <th>params.max_features</th>\n",
       "      <th>params.random_state</th>\n",
       "      <th>params.max_leaf_nodes</th>\n",
       "      <th>...</th>\n",
       "      <th>tags.mlflow.user</th>\n",
       "      <th>tags.mlflow.source.name</th>\n",
       "      <th>tags.tuner</th>\n",
       "      <th>tags.mlflow.runName</th>\n",
       "      <th>tags.trial</th>\n",
       "      <th>tags.model_type</th>\n",
       "      <th>tags.mlflow.log-model.history</th>\n",
       "      <th>tags.run_type</th>\n",
       "      <th>tags.mlflow.source.type</th>\n",
       "      <th>tags.model</th>\n",
       "    </tr>\n",
       "  </thead>\n",
       "  <tbody>\n",
       "    <tr>\n",
       "      <th>0</th>\n",
       "      <td>d574e78c7c0c420ebf982c91349ff6ab</td>\n",
       "      <td>367</td>\n",
       "      <td>FINISHED</td>\n",
       "      <td>mlflow-artifacts:/45286f1704274a2c97b1a625f6b9...</td>\n",
       "      <td>2024-01-31 02:20:26.016000+00:00</td>\n",
       "      <td>2024-01-31 02:24:25.836000+00:00</td>\n",
       "      <td>0.977600</td>\n",
       "      <td>None</td>\n",
       "      <td>None</td>\n",
       "      <td>None</td>\n",
       "      <td>...</td>\n",
       "      <td>raj-narayanan-b</td>\n",
       "      <td>f:\\iNeuron\\Projects\\scania_failures_2\\scania_t...</td>\n",
       "      <td>optuna</td>\n",
       "      <td>Decision_Tree_Classifier_Trial_2</td>\n",
       "      <td>2</td>\n",
       "      <td>Challenger</td>\n",
       "      <td>[{\"run_id\": \"d574e78c7c0c420ebf982c91349ff6ab\"...</td>\n",
       "      <td>parent</td>\n",
       "      <td>LOCAL</td>\n",
       "      <td>Decision_Tree_Classifier</td>\n",
       "    </tr>\n",
       "    <tr>\n",
       "      <th>1</th>\n",
       "      <td>430820168dbe47159015285ad06ac831</td>\n",
       "      <td>360</td>\n",
       "      <td>FINISHED</td>\n",
       "      <td>mlflow-artifacts:/2f41aed987944507ad6fce5ad822...</td>\n",
       "      <td>2024-01-30 15:55:25.944000+00:00</td>\n",
       "      <td>2024-01-30 16:07:05.726000+00:00</td>\n",
       "      <td>0.988199</td>\n",
       "      <td>None</td>\n",
       "      <td>None</td>\n",
       "      <td>None</td>\n",
       "      <td>...</td>\n",
       "      <td>raj-narayanan-b</td>\n",
       "      <td>f:\\iNeuron\\Projects\\scania_failures_2\\scania_t...</td>\n",
       "      <td>optuna</td>\n",
       "      <td>Ada_Boost_Trial_1</td>\n",
       "      <td>1</td>\n",
       "      <td>Challenger</td>\n",
       "      <td>[{\"run_id\": \"430820168dbe47159015285ad06ac831\"...</td>\n",
       "      <td>parent</td>\n",
       "      <td>LOCAL</td>\n",
       "      <td>Ada_Boost</td>\n",
       "    </tr>\n",
       "    <tr>\n",
       "      <th>2</th>\n",
       "      <td>8910203da9014861a55037e2f8daec87</td>\n",
       "      <td>359</td>\n",
       "      <td>FINISHED</td>\n",
       "      <td>mlflow-artifacts:/9eac246fb1494777968d745c0a06...</td>\n",
       "      <td>2024-01-30 14:48:40.541000+00:00</td>\n",
       "      <td>2024-01-30 14:53:37.771000+00:00</td>\n",
       "      <td>0.985000</td>\n",
       "      <td>log2</td>\n",
       "      <td>None</td>\n",
       "      <td>None</td>\n",
       "      <td>...</td>\n",
       "      <td>raj-narayanan-b</td>\n",
       "      <td>f:\\iNeuron\\Projects\\scania_failures_2\\scania_t...</td>\n",
       "      <td>optuna</td>\n",
       "      <td>Random Forest_Trial_1</td>\n",
       "      <td>1</td>\n",
       "      <td>Challenger</td>\n",
       "      <td>[{\"run_id\": \"8910203da9014861a55037e2f8daec87\"...</td>\n",
       "      <td>parent</td>\n",
       "      <td>LOCAL</td>\n",
       "      <td>Random Forest</td>\n",
       "    </tr>\n",
       "  </tbody>\n",
       "</table>\n",
       "<p>3 rows × 40 columns</p>\n",
       "</div>"
      ],
      "text/plain": [
       "                             run_id experiment_id    status  \\\n",
       "0  d574e78c7c0c420ebf982c91349ff6ab           367  FINISHED   \n",
       "1  430820168dbe47159015285ad06ac831           360  FINISHED   \n",
       "2  8910203da9014861a55037e2f8daec87           359  FINISHED   \n",
       "\n",
       "                                        artifact_uri  \\\n",
       "0  mlflow-artifacts:/45286f1704274a2c97b1a625f6b9...   \n",
       "1  mlflow-artifacts:/2f41aed987944507ad6fce5ad822...   \n",
       "2  mlflow-artifacts:/9eac246fb1494777968d745c0a06...   \n",
       "\n",
       "                        start_time                         end_time  \\\n",
       "0 2024-01-31 02:20:26.016000+00:00 2024-01-31 02:24:25.836000+00:00   \n",
       "1 2024-01-30 15:55:25.944000+00:00 2024-01-30 16:07:05.726000+00:00   \n",
       "2 2024-01-30 14:48:40.541000+00:00 2024-01-30 14:53:37.771000+00:00   \n",
       "\n",
       "   metrics.Accuracy_Score params.max_features params.random_state  \\\n",
       "0                0.977600                None                None   \n",
       "1                0.988199                None                None   \n",
       "2                0.985000                log2                None   \n",
       "\n",
       "  params.max_leaf_nodes  ... tags.mlflow.user  \\\n",
       "0                  None  ...  raj-narayanan-b   \n",
       "1                  None  ...  raj-narayanan-b   \n",
       "2                  None  ...  raj-narayanan-b   \n",
       "\n",
       "                             tags.mlflow.source.name tags.tuner  \\\n",
       "0  f:\\iNeuron\\Projects\\scania_failures_2\\scania_t...     optuna   \n",
       "1  f:\\iNeuron\\Projects\\scania_failures_2\\scania_t...     optuna   \n",
       "2  f:\\iNeuron\\Projects\\scania_failures_2\\scania_t...     optuna   \n",
       "\n",
       "                tags.mlflow.runName tags.trial tags.model_type  \\\n",
       "0  Decision_Tree_Classifier_Trial_2          2      Challenger   \n",
       "1                 Ada_Boost_Trial_1          1      Challenger   \n",
       "2             Random Forest_Trial_1          1      Challenger   \n",
       "\n",
       "                       tags.mlflow.log-model.history tags.run_type  \\\n",
       "0  [{\"run_id\": \"d574e78c7c0c420ebf982c91349ff6ab\"...        parent   \n",
       "1  [{\"run_id\": \"430820168dbe47159015285ad06ac831\"...        parent   \n",
       "2  [{\"run_id\": \"8910203da9014861a55037e2f8daec87\"...        parent   \n",
       "\n",
       "  tags.mlflow.source.type                tags.model  \n",
       "0                   LOCAL  Decision_Tree_Classifier  \n",
       "1                   LOCAL                 Ada_Boost  \n",
       "2                   LOCAL             Random Forest  \n",
       "\n",
       "[3 rows x 40 columns]"
      ]
     },
     "execution_count": 53,
     "metadata": {},
     "output_type": "execute_result"
    }
   ],
   "source": [
    "runs_df"
   ]
  },
  {
   "cell_type": "code",
   "execution_count": null,
   "metadata": {},
   "outputs": [],
   "source": []
  },
  {
   "cell_type": "code",
   "execution_count": null,
   "metadata": {},
   "outputs": [],
   "source": []
  },
  {
   "cell_type": "code",
   "execution_count": null,
   "metadata": {},
   "outputs": [],
   "source": []
  },
  {
   "cell_type": "code",
   "execution_count": null,
   "metadata": {},
   "outputs": [],
   "source": []
  },
  {
   "cell_type": "code",
   "execution_count": null,
   "metadata": {},
   "outputs": [],
   "source": []
  },
  {
   "cell_type": "code",
   "execution_count": 197,
   "metadata": {},
   "outputs": [
    {
     "data": {
      "text/plain": [
       "(88332, 171)"
      ]
     },
     "execution_count": 197,
     "metadata": {},
     "output_type": "execute_result"
    }
   ],
   "source": [
    "train_data.shape"
   ]
  },
  {
   "cell_type": "code",
   "execution_count": 198,
   "metadata": {},
   "outputs": [
    {
     "data": {
      "text/plain": [
       "class\n",
       "0    44166\n",
       "1    44166\n",
       "Name: count, dtype: int64"
      ]
     },
     "execution_count": 198,
     "metadata": {},
     "output_type": "execute_result"
    }
   ],
   "source": [
    "train_data['class'].value_counts()"
   ]
  },
  {
   "cell_type": "code",
   "execution_count": 199,
   "metadata": {},
   "outputs": [
    {
     "data": {
      "text/plain": [
       "array([0], dtype=int64)"
      ]
     },
     "execution_count": 199,
     "metadata": {},
     "output_type": "execute_result"
    }
   ],
   "source": [
    "train_data.isna().sum().unique()"
   ]
  },
  {
   "cell_type": "code",
   "execution_count": 200,
   "metadata": {},
   "outputs": [
    {
     "data": {
      "text/plain": [
       "(29406, 171)"
      ]
     },
     "execution_count": 200,
     "metadata": {},
     "output_type": "execute_result"
    }
   ],
   "source": [
    "test_data.shape"
   ]
  },
  {
   "cell_type": "code",
   "execution_count": 201,
   "metadata": {},
   "outputs": [
    {
     "data": {
      "text/plain": [
       "class\n",
       "0    14703\n",
       "1    14703\n",
       "Name: count, dtype: int64"
      ]
     },
     "execution_count": 201,
     "metadata": {},
     "output_type": "execute_result"
    }
   ],
   "source": [
    "test_data['class'].value_counts()"
   ]
  },
  {
   "cell_type": "code",
   "execution_count": 202,
   "metadata": {},
   "outputs": [
    {
     "data": {
      "text/plain": [
       "array([0], dtype=int64)"
      ]
     },
     "execution_count": 202,
     "metadata": {},
     "output_type": "execute_result"
    }
   ],
   "source": [
    "test_data.isna().sum().unique()"
   ]
  },
  {
   "cell_type": "code",
   "execution_count": 51,
   "metadata": {},
   "outputs": [
    {
     "ename": "InvalidParameterError",
     "evalue": "The 'n_neighbors' parameter of KNeighborsClassifier must be an int in the range [1, inf) or None. Got 5.0 instead.",
     "output_type": "error",
     "traceback": [
      "\u001b[1;31m---------------------------------------------------------------------------\u001b[0m",
      "\u001b[1;31m_RemoteTraceback\u001b[0m                          Traceback (most recent call last)",
      "\u001b[1;31m_RemoteTraceback\u001b[0m: \n\"\"\"\nTraceback (most recent call last):\n  File \"f:\\iNeuron\\Projects\\scania_failures_2\\scania_truck\\Lib\\site-packages\\joblib\\externals\\loky\\process_executor.py\", line 463, in _process_worker\n    r = call_item()\n        ^^^^^^^^^^^\n  File \"f:\\iNeuron\\Projects\\scania_failures_2\\scania_truck\\Lib\\site-packages\\joblib\\externals\\loky\\process_executor.py\", line 291, in __call__\n    return self.fn(*self.args, **self.kwargs)\n           ^^^^^^^^^^^^^^^^^^^^^^^^^^^^^^^^^^\n  File \"f:\\iNeuron\\Projects\\scania_failures_2\\scania_truck\\Lib\\site-packages\\joblib\\parallel.py\", line 589, in __call__\n    return [func(*args, **kwargs)\n           ^^^^^^^^^^^^^^^^^^^^^^\n  File \"f:\\iNeuron\\Projects\\scania_failures_2\\scania_truck\\Lib\\site-packages\\joblib\\parallel.py\", line 589, in <listcomp>\n    return [func(*args, **kwargs)\n            ^^^^^^^^^^^^^^^^^^^^^\n  File \"f:\\iNeuron\\Projects\\scania_failures_2\\scania_truck\\Lib\\site-packages\\sklearn\\utils\\parallel.py\", line 127, in __call__\n    return self.function(*args, **kwargs)\n           ^^^^^^^^^^^^^^^^^^^^^^^^^^^^^^\n  File \"f:\\iNeuron\\Projects\\scania_failures_2\\scania_truck\\Lib\\site-packages\\sklearn\\ensemble\\_base.py\", line 36, in _fit_single_estimator\n    estimator.fit(X, y)\n  File \"f:\\iNeuron\\Projects\\scania_failures_2\\scania_truck\\Lib\\site-packages\\sklearn\\base.py\", line 1145, in wrapper\n    estimator._validate_params()\n  File \"f:\\iNeuron\\Projects\\scania_failures_2\\scania_truck\\Lib\\site-packages\\sklearn\\base.py\", line 638, in _validate_params\n    validate_parameter_constraints(\n  File \"f:\\iNeuron\\Projects\\scania_failures_2\\scania_truck\\Lib\\site-packages\\sklearn\\utils\\_param_validation.py\", line 96, in validate_parameter_constraints\n    raise InvalidParameterError(\nsklearn.utils._param_validation.InvalidParameterError: The 'n_neighbors' parameter of KNeighborsClassifier must be an int in the range [1, inf) or None. Got 5.0 instead.\n\"\"\"",
      "\nThe above exception was the direct cause of the following exception:\n",
      "\u001b[1;31mInvalidParameterError\u001b[0m                     Traceback (most recent call last)",
      "Cell \u001b[1;32mIn[51], line 1\u001b[0m\n\u001b[1;32m----> 1\u001b[0m \u001b[43mstack_clf\u001b[49m\u001b[38;5;241;43m.\u001b[39;49m\u001b[43mfit\u001b[49m\u001b[43m(\u001b[49m\u001b[43mX\u001b[49m\u001b[43m \u001b[49m\u001b[38;5;241;43m=\u001b[39;49m\u001b[43m \u001b[49m\u001b[43mtrain_data\u001b[49m\u001b[38;5;241;43m.\u001b[39;49m\u001b[43mdrop\u001b[49m\u001b[43m(\u001b[49m\u001b[43mcolumns\u001b[49m\u001b[43m \u001b[49m\u001b[38;5;241;43m=\u001b[39;49m\u001b[43m \u001b[49m\u001b[38;5;124;43m'\u001b[39;49m\u001b[38;5;124;43mclass\u001b[39;49m\u001b[38;5;124;43m'\u001b[39;49m\u001b[43m)\u001b[49m\u001b[43m,\u001b[49m\n\u001b[0;32m      2\u001b[0m \u001b[43m              \u001b[49m\u001b[43my\u001b[49m\u001b[43m \u001b[49m\u001b[38;5;241;43m=\u001b[39;49m\u001b[43m \u001b[49m\u001b[43mtrain_data\u001b[49m\u001b[43m[\u001b[49m\u001b[38;5;124;43m'\u001b[39;49m\u001b[38;5;124;43mclass\u001b[39;49m\u001b[38;5;124;43m'\u001b[39;49m\u001b[43m]\u001b[49m\u001b[43m)\u001b[49m\n",
      "File \u001b[1;32mf:\\iNeuron\\Projects\\scania_failures_2\\scania_truck\\Lib\\site-packages\\sklearn\\ensemble\\_stacking.py:658\u001b[0m, in \u001b[0;36mStackingClassifier.fit\u001b[1;34m(self, X, y, sample_weight)\u001b[0m\n\u001b[0;32m    656\u001b[0m     \u001b[38;5;28mself\u001b[39m\u001b[38;5;241m.\u001b[39mclasses_ \u001b[38;5;241m=\u001b[39m \u001b[38;5;28mself\u001b[39m\u001b[38;5;241m.\u001b[39m_label_encoder\u001b[38;5;241m.\u001b[39mclasses_\n\u001b[0;32m    657\u001b[0m     y_encoded \u001b[38;5;241m=\u001b[39m \u001b[38;5;28mself\u001b[39m\u001b[38;5;241m.\u001b[39m_label_encoder\u001b[38;5;241m.\u001b[39mtransform(y)\n\u001b[1;32m--> 658\u001b[0m \u001b[38;5;28;01mreturn\u001b[39;00m \u001b[38;5;28;43msuper\u001b[39;49m\u001b[43m(\u001b[49m\u001b[43m)\u001b[49m\u001b[38;5;241;43m.\u001b[39;49m\u001b[43mfit\u001b[49m\u001b[43m(\u001b[49m\u001b[43mX\u001b[49m\u001b[43m,\u001b[49m\u001b[43m \u001b[49m\u001b[43my_encoded\u001b[49m\u001b[43m,\u001b[49m\u001b[43m \u001b[49m\u001b[43msample_weight\u001b[49m\u001b[43m)\u001b[49m\n",
      "File \u001b[1;32mf:\\iNeuron\\Projects\\scania_failures_2\\scania_truck\\Lib\\site-packages\\sklearn\\base.py:1152\u001b[0m, in \u001b[0;36m_fit_context.<locals>.decorator.<locals>.wrapper\u001b[1;34m(estimator, *args, **kwargs)\u001b[0m\n\u001b[0;32m   1145\u001b[0m     estimator\u001b[38;5;241m.\u001b[39m_validate_params()\n\u001b[0;32m   1147\u001b[0m \u001b[38;5;28;01mwith\u001b[39;00m config_context(\n\u001b[0;32m   1148\u001b[0m     skip_parameter_validation\u001b[38;5;241m=\u001b[39m(\n\u001b[0;32m   1149\u001b[0m         prefer_skip_nested_validation \u001b[38;5;129;01mor\u001b[39;00m global_skip_validation\n\u001b[0;32m   1150\u001b[0m     )\n\u001b[0;32m   1151\u001b[0m ):\n\u001b[1;32m-> 1152\u001b[0m     \u001b[38;5;28;01mreturn\u001b[39;00m \u001b[43mfit_method\u001b[49m\u001b[43m(\u001b[49m\u001b[43mestimator\u001b[49m\u001b[43m,\u001b[49m\u001b[43m \u001b[49m\u001b[38;5;241;43m*\u001b[39;49m\u001b[43margs\u001b[49m\u001b[43m,\u001b[49m\u001b[43m \u001b[49m\u001b[38;5;241;43m*\u001b[39;49m\u001b[38;5;241;43m*\u001b[39;49m\u001b[43mkwargs\u001b[49m\u001b[43m)\u001b[49m\n",
      "File \u001b[1;32mf:\\iNeuron\\Projects\\scania_failures_2\\scania_truck\\Lib\\site-packages\\sklearn\\ensemble\\_stacking.py:206\u001b[0m, in \u001b[0;36m_BaseStacking.fit\u001b[1;34m(self, X, y, sample_weight)\u001b[0m\n\u001b[0;32m    201\u001b[0m             \u001b[38;5;28mself\u001b[39m\u001b[38;5;241m.\u001b[39mestimators_\u001b[38;5;241m.\u001b[39mappend(estimator)\n\u001b[0;32m    202\u001b[0m \u001b[38;5;28;01melse\u001b[39;00m:\n\u001b[0;32m    203\u001b[0m     \u001b[38;5;66;03m# Fit the base estimators on the whole training data. Those\u001b[39;00m\n\u001b[0;32m    204\u001b[0m     \u001b[38;5;66;03m# base estimators will be used in transform, predict, and\u001b[39;00m\n\u001b[0;32m    205\u001b[0m     \u001b[38;5;66;03m# predict_proba. They are exposed publicly.\u001b[39;00m\n\u001b[1;32m--> 206\u001b[0m     \u001b[38;5;28mself\u001b[39m\u001b[38;5;241m.\u001b[39mestimators_ \u001b[38;5;241m=\u001b[39m \u001b[43mParallel\u001b[49m\u001b[43m(\u001b[49m\u001b[43mn_jobs\u001b[49m\u001b[38;5;241;43m=\u001b[39;49m\u001b[38;5;28;43mself\u001b[39;49m\u001b[38;5;241;43m.\u001b[39;49m\u001b[43mn_jobs\u001b[49m\u001b[43m)\u001b[49m\u001b[43m(\u001b[49m\n\u001b[0;32m    207\u001b[0m \u001b[43m        \u001b[49m\u001b[43mdelayed\u001b[49m\u001b[43m(\u001b[49m\u001b[43m_fit_single_estimator\u001b[49m\u001b[43m)\u001b[49m\u001b[43m(\u001b[49m\u001b[43mclone\u001b[49m\u001b[43m(\u001b[49m\u001b[43mest\u001b[49m\u001b[43m)\u001b[49m\u001b[43m,\u001b[49m\u001b[43m \u001b[49m\u001b[43mX\u001b[49m\u001b[43m,\u001b[49m\u001b[43m \u001b[49m\u001b[43my\u001b[49m\u001b[43m,\u001b[49m\u001b[43m \u001b[49m\u001b[43msample_weight\u001b[49m\u001b[43m)\u001b[49m\n\u001b[0;32m    208\u001b[0m \u001b[43m        \u001b[49m\u001b[38;5;28;43;01mfor\u001b[39;49;00m\u001b[43m \u001b[49m\u001b[43mest\u001b[49m\u001b[43m \u001b[49m\u001b[38;5;129;43;01min\u001b[39;49;00m\u001b[43m \u001b[49m\u001b[43mall_estimators\u001b[49m\n\u001b[0;32m    209\u001b[0m \u001b[43m        \u001b[49m\u001b[38;5;28;43;01mif\u001b[39;49;00m\u001b[43m \u001b[49m\u001b[43mest\u001b[49m\u001b[43m \u001b[49m\u001b[38;5;241;43m!=\u001b[39;49m\u001b[43m \u001b[49m\u001b[38;5;124;43m\"\u001b[39;49m\u001b[38;5;124;43mdrop\u001b[39;49m\u001b[38;5;124;43m\"\u001b[39;49m\n\u001b[0;32m    210\u001b[0m \u001b[43m    \u001b[49m\u001b[43m)\u001b[49m\n\u001b[0;32m    212\u001b[0m \u001b[38;5;28mself\u001b[39m\u001b[38;5;241m.\u001b[39mnamed_estimators_ \u001b[38;5;241m=\u001b[39m Bunch()\n\u001b[0;32m    213\u001b[0m est_fitted_idx \u001b[38;5;241m=\u001b[39m \u001b[38;5;241m0\u001b[39m\n",
      "File \u001b[1;32mf:\\iNeuron\\Projects\\scania_failures_2\\scania_truck\\Lib\\site-packages\\sklearn\\utils\\parallel.py:65\u001b[0m, in \u001b[0;36mParallel.__call__\u001b[1;34m(self, iterable)\u001b[0m\n\u001b[0;32m     60\u001b[0m config \u001b[38;5;241m=\u001b[39m get_config()\n\u001b[0;32m     61\u001b[0m iterable_with_config \u001b[38;5;241m=\u001b[39m (\n\u001b[0;32m     62\u001b[0m     (_with_config(delayed_func, config), args, kwargs)\n\u001b[0;32m     63\u001b[0m     \u001b[38;5;28;01mfor\u001b[39;00m delayed_func, args, kwargs \u001b[38;5;129;01min\u001b[39;00m iterable\n\u001b[0;32m     64\u001b[0m )\n\u001b[1;32m---> 65\u001b[0m \u001b[38;5;28;01mreturn\u001b[39;00m \u001b[38;5;28;43msuper\u001b[39;49m\u001b[43m(\u001b[49m\u001b[43m)\u001b[49m\u001b[38;5;241;43m.\u001b[39;49m\u001b[38;5;21;43m__call__\u001b[39;49m\u001b[43m(\u001b[49m\u001b[43miterable_with_config\u001b[49m\u001b[43m)\u001b[49m\n",
      "File \u001b[1;32mf:\\iNeuron\\Projects\\scania_failures_2\\scania_truck\\Lib\\site-packages\\joblib\\parallel.py:1952\u001b[0m, in \u001b[0;36mParallel.__call__\u001b[1;34m(self, iterable)\u001b[0m\n\u001b[0;32m   1946\u001b[0m \u001b[38;5;66;03m# The first item from the output is blank, but it makes the interpreter\u001b[39;00m\n\u001b[0;32m   1947\u001b[0m \u001b[38;5;66;03m# progress until it enters the Try/Except block of the generator and\u001b[39;00m\n\u001b[0;32m   1948\u001b[0m \u001b[38;5;66;03m# reach the first `yield` statement. This starts the aynchronous\u001b[39;00m\n\u001b[0;32m   1949\u001b[0m \u001b[38;5;66;03m# dispatch of the tasks to the workers.\u001b[39;00m\n\u001b[0;32m   1950\u001b[0m \u001b[38;5;28mnext\u001b[39m(output)\n\u001b[1;32m-> 1952\u001b[0m \u001b[38;5;28;01mreturn\u001b[39;00m output \u001b[38;5;28;01mif\u001b[39;00m \u001b[38;5;28mself\u001b[39m\u001b[38;5;241m.\u001b[39mreturn_generator \u001b[38;5;28;01melse\u001b[39;00m \u001b[38;5;28;43mlist\u001b[39;49m\u001b[43m(\u001b[49m\u001b[43moutput\u001b[49m\u001b[43m)\u001b[49m\n",
      "File \u001b[1;32mf:\\iNeuron\\Projects\\scania_failures_2\\scania_truck\\Lib\\site-packages\\joblib\\parallel.py:1595\u001b[0m, in \u001b[0;36mParallel._get_outputs\u001b[1;34m(self, iterator, pre_dispatch)\u001b[0m\n\u001b[0;32m   1592\u001b[0m     \u001b[38;5;28;01myield\u001b[39;00m\n\u001b[0;32m   1594\u001b[0m     \u001b[38;5;28;01mwith\u001b[39;00m \u001b[38;5;28mself\u001b[39m\u001b[38;5;241m.\u001b[39m_backend\u001b[38;5;241m.\u001b[39mretrieval_context():\n\u001b[1;32m-> 1595\u001b[0m         \u001b[38;5;28;01myield from\u001b[39;00m \u001b[38;5;28mself\u001b[39m\u001b[38;5;241m.\u001b[39m_retrieve()\n\u001b[0;32m   1597\u001b[0m \u001b[38;5;28;01mexcept\u001b[39;00m \u001b[38;5;167;01mGeneratorExit\u001b[39;00m:\n\u001b[0;32m   1598\u001b[0m     \u001b[38;5;66;03m# The generator has been garbage collected before being fully\u001b[39;00m\n\u001b[0;32m   1599\u001b[0m     \u001b[38;5;66;03m# consumed. This aborts the remaining tasks if possible and warn\u001b[39;00m\n\u001b[0;32m   1600\u001b[0m     \u001b[38;5;66;03m# the user if necessary.\u001b[39;00m\n\u001b[0;32m   1601\u001b[0m     \u001b[38;5;28mself\u001b[39m\u001b[38;5;241m.\u001b[39m_exception \u001b[38;5;241m=\u001b[39m \u001b[38;5;28;01mTrue\u001b[39;00m\n",
      "File \u001b[1;32mf:\\iNeuron\\Projects\\scania_failures_2\\scania_truck\\Lib\\site-packages\\joblib\\parallel.py:1699\u001b[0m, in \u001b[0;36mParallel._retrieve\u001b[1;34m(self)\u001b[0m\n\u001b[0;32m   1692\u001b[0m \u001b[38;5;28;01mwhile\u001b[39;00m \u001b[38;5;28mself\u001b[39m\u001b[38;5;241m.\u001b[39m_wait_retrieval():\n\u001b[0;32m   1693\u001b[0m \n\u001b[0;32m   1694\u001b[0m     \u001b[38;5;66;03m# If the callback thread of a worker has signaled that its task\u001b[39;00m\n\u001b[0;32m   1695\u001b[0m     \u001b[38;5;66;03m# triggered an exception, or if the retrieval loop has raised an\u001b[39;00m\n\u001b[0;32m   1696\u001b[0m     \u001b[38;5;66;03m# exception (e.g. `GeneratorExit`), exit the loop and surface the\u001b[39;00m\n\u001b[0;32m   1697\u001b[0m     \u001b[38;5;66;03m# worker traceback.\u001b[39;00m\n\u001b[0;32m   1698\u001b[0m     \u001b[38;5;28;01mif\u001b[39;00m \u001b[38;5;28mself\u001b[39m\u001b[38;5;241m.\u001b[39m_aborting:\n\u001b[1;32m-> 1699\u001b[0m         \u001b[38;5;28;43mself\u001b[39;49m\u001b[38;5;241;43m.\u001b[39;49m\u001b[43m_raise_error_fast\u001b[49m\u001b[43m(\u001b[49m\u001b[43m)\u001b[49m\n\u001b[0;32m   1700\u001b[0m         \u001b[38;5;28;01mbreak\u001b[39;00m\n\u001b[0;32m   1702\u001b[0m     \u001b[38;5;66;03m# If the next job is not ready for retrieval yet, we just wait for\u001b[39;00m\n\u001b[0;32m   1703\u001b[0m     \u001b[38;5;66;03m# async callbacks to progress.\u001b[39;00m\n",
      "File \u001b[1;32mf:\\iNeuron\\Projects\\scania_failures_2\\scania_truck\\Lib\\site-packages\\joblib\\parallel.py:1734\u001b[0m, in \u001b[0;36mParallel._raise_error_fast\u001b[1;34m(self)\u001b[0m\n\u001b[0;32m   1730\u001b[0m \u001b[38;5;66;03m# If this error job exists, immediatly raise the error by\u001b[39;00m\n\u001b[0;32m   1731\u001b[0m \u001b[38;5;66;03m# calling get_result. This job might not exists if abort has been\u001b[39;00m\n\u001b[0;32m   1732\u001b[0m \u001b[38;5;66;03m# called directly or if the generator is gc'ed.\u001b[39;00m\n\u001b[0;32m   1733\u001b[0m \u001b[38;5;28;01mif\u001b[39;00m error_job \u001b[38;5;129;01mis\u001b[39;00m \u001b[38;5;129;01mnot\u001b[39;00m \u001b[38;5;28;01mNone\u001b[39;00m:\n\u001b[1;32m-> 1734\u001b[0m     \u001b[43merror_job\u001b[49m\u001b[38;5;241;43m.\u001b[39;49m\u001b[43mget_result\u001b[49m\u001b[43m(\u001b[49m\u001b[38;5;28;43mself\u001b[39;49m\u001b[38;5;241;43m.\u001b[39;49m\u001b[43mtimeout\u001b[49m\u001b[43m)\u001b[49m\n",
      "File \u001b[1;32mf:\\iNeuron\\Projects\\scania_failures_2\\scania_truck\\Lib\\site-packages\\joblib\\parallel.py:736\u001b[0m, in \u001b[0;36mBatchCompletionCallBack.get_result\u001b[1;34m(self, timeout)\u001b[0m\n\u001b[0;32m    730\u001b[0m backend \u001b[38;5;241m=\u001b[39m \u001b[38;5;28mself\u001b[39m\u001b[38;5;241m.\u001b[39mparallel\u001b[38;5;241m.\u001b[39m_backend\n\u001b[0;32m    732\u001b[0m \u001b[38;5;28;01mif\u001b[39;00m backend\u001b[38;5;241m.\u001b[39msupports_retrieve_callback:\n\u001b[0;32m    733\u001b[0m     \u001b[38;5;66;03m# We assume that the result has already been retrieved by the\u001b[39;00m\n\u001b[0;32m    734\u001b[0m     \u001b[38;5;66;03m# callback thread, and is stored internally. It's just waiting to\u001b[39;00m\n\u001b[0;32m    735\u001b[0m     \u001b[38;5;66;03m# be returned.\u001b[39;00m\n\u001b[1;32m--> 736\u001b[0m     \u001b[38;5;28;01mreturn\u001b[39;00m \u001b[38;5;28;43mself\u001b[39;49m\u001b[38;5;241;43m.\u001b[39;49m\u001b[43m_return_or_raise\u001b[49m\u001b[43m(\u001b[49m\u001b[43m)\u001b[49m\n\u001b[0;32m    738\u001b[0m \u001b[38;5;66;03m# For other backends, the main thread needs to run the retrieval step.\u001b[39;00m\n\u001b[0;32m    739\u001b[0m \u001b[38;5;28;01mtry\u001b[39;00m:\n",
      "File \u001b[1;32mf:\\iNeuron\\Projects\\scania_failures_2\\scania_truck\\Lib\\site-packages\\joblib\\parallel.py:754\u001b[0m, in \u001b[0;36mBatchCompletionCallBack._return_or_raise\u001b[1;34m(self)\u001b[0m\n\u001b[0;32m    752\u001b[0m \u001b[38;5;28;01mtry\u001b[39;00m:\n\u001b[0;32m    753\u001b[0m     \u001b[38;5;28;01mif\u001b[39;00m \u001b[38;5;28mself\u001b[39m\u001b[38;5;241m.\u001b[39mstatus \u001b[38;5;241m==\u001b[39m TASK_ERROR:\n\u001b[1;32m--> 754\u001b[0m         \u001b[38;5;28;01mraise\u001b[39;00m \u001b[38;5;28mself\u001b[39m\u001b[38;5;241m.\u001b[39m_result\n\u001b[0;32m    755\u001b[0m     \u001b[38;5;28;01mreturn\u001b[39;00m \u001b[38;5;28mself\u001b[39m\u001b[38;5;241m.\u001b[39m_result\n\u001b[0;32m    756\u001b[0m \u001b[38;5;28;01mfinally\u001b[39;00m:\n",
      "\u001b[1;31mInvalidParameterError\u001b[0m: The 'n_neighbors' parameter of KNeighborsClassifier must be an int in the range [1, inf) or None. Got 5.0 instead."
     ]
    }
   ],
   "source": [
    "stack_clf.fit(X = train_data.drop(columns = 'class'),\n",
    "              y = train_data['class'])"
   ]
  },
  {
   "cell_type": "code",
   "execution_count": null,
   "metadata": {},
   "outputs": [],
   "source": [
    "sample = [0.4649627097389646, 0.4772051592082544]\n",
    "\n",
    "max(sample)"
   ]
  },
  {
   "cell_type": "code",
   "execution_count": null,
   "metadata": {},
   "outputs": [],
   "source": [
    "filter_string = f\"tags.run_type ilike 'parent'\"\n",
    "mlflow.search_runs(experiment_ids=['725605848744062801'],\n",
    "                   order_by = ['metrics.Accuracy_Score'],\n",
    "                   filter_string = filter_string).columns"
   ]
  },
  {
   "cell_type": "code",
   "execution_count": null,
   "metadata": {},
   "outputs": [],
   "source": [
    "client.get_run('ed29462e8f104eb59bf3ecc45883e00f')"
   ]
  },
  {
   "cell_type": "code",
   "execution_count": null,
   "metadata": {},
   "outputs": [],
   "source": [
    "models = {'Logistic_Regression': LogisticRegression, \n",
    "                  'SGD_Classifier': SGDClassifier,\n",
    "                  'Random Forest': RandomForestClassifier, \n",
    "                  'Ada_Boost': AdaBoostClassifier, \n",
    "                  'Grad_Boost': GradientBoostingClassifier, \n",
    "                  'Bagging_Classifier': BaggingClassifier, \n",
    "                  'ExtraTreesClassifier': ExtraTreesClassifier, \n",
    "                  'Hist_Grad_Boost_Classifier': HistGradientBoostingClassifier, \n",
    "                  'Decision_Tree_Classifier': DecisionTreeClassifier,\n",
    "                  'XGB_Classifier': XGBClassifier,\n",
    "                  'KNN_Classifier': KNeighborsClassifier,\n",
    "                  'Stacked_Classifier' : StackingClassifier,\n",
    "                  'Voting_Classifier' : VotingClassifier\n",
    "                  }\n",
    "\n",
    "for key in models.keys():\n",
    "    try:\n",
    "        client.delete_registered_model(f\"Challenger_{key}\")\n",
    "        client.delete_registered_model(f\"Champion {key}\")\n",
    "    except:\n",
    "        pass"
   ]
  },
  {
   "cell_type": "code",
   "execution_count": null,
   "metadata": {},
   "outputs": [],
   "source": [
    "for i in range(339,341):\n",
    "    try:\n",
    "        mlflow.delete_experiment(i)\n",
    "        print(i)\n",
    "    except:\n",
    "        pass"
   ]
  },
  {
   "cell_type": "code",
   "execution_count": null,
   "metadata": {},
   "outputs": [],
   "source": [
    "mlflow.delete_run('67f2092833c349a9ba011fa0d38fbe07')"
   ]
  },
  {
   "cell_type": "code",
   "execution_count": null,
   "metadata": {},
   "outputs": [],
   "source": [
    "rf = RandomForestClassifier(n_estimators=123,\n",
    "max_features='sqrt',\n",
    "criterion = 'entropy',\n",
    "class_weight='balanced_subsample',\n",
    "n_jobs=-1)\n",
    "rf"
   ]
  },
  {
   "cell_type": "code",
   "execution_count": null,
   "metadata": {},
   "outputs": [],
   "source": [
    "testing_df = pd.concat([batch_list[10],batch_list[11]])"
   ]
  },
  {
   "cell_type": "code",
   "execution_count": null,
   "metadata": {},
   "outputs": [],
   "source": [
    "training_df = pd.concat([batch_list[i] for i in range(len(batch_list)-2)])"
   ]
  },
  {
   "cell_type": "code",
   "execution_count": null,
   "metadata": {},
   "outputs": [],
   "source": [
    "pipeline_rf = Pipeline(steps = [(\"KNN_Imputer\", KNNImputer()),\n",
    "                            (\"Robust_Scaler\", RobustScaler())])\n",
    "skf_cv = StratifiedKFold(n_splits = 3, shuffle = True, random_state = 42)\n",
    "smote_ = SMOTETomek(sampling_strategy = \"minority\",random_state = 42, n_jobs = -1)\n",
    "\n",
    "x_rf_train = training_df.drop(columns = 'class')\n",
    "y_rf_train = training_df['class']\n",
    "\n",
    "x_rf_test = testing_df.drop(columns = 'class')\n",
    "y_rf_test = testing_df['class']"
   ]
  },
  {
   "cell_type": "code",
   "execution_count": null,
   "metadata": {},
   "outputs": [],
   "source": [
    "print(x_rf_train.shape, y_rf_train.shape)"
   ]
  },
  {
   "cell_type": "code",
   "execution_count": null,
   "metadata": {},
   "outputs": [],
   "source": [
    "print(x_rf_test.shape, y_rf_test.shape)"
   ]
  },
  {
   "cell_type": "code",
   "execution_count": null,
   "metadata": {},
   "outputs": [],
   "source": [
    "print(x_rf_train.isna().sum().unique(),\"\\n\",x_rf_test.isna().sum().unique())"
   ]
  },
  {
   "cell_type": "code",
   "execution_count": null,
   "metadata": {},
   "outputs": [],
   "source": [
    "print(y_rf_train.value_counts(),\"\\n\",y_rf_test.value_counts())"
   ]
  },
  {
   "cell_type": "code",
   "execution_count": null,
   "metadata": {},
   "outputs": [],
   "source": [
    "pipeline_rf"
   ]
  },
  {
   "cell_type": "code",
   "execution_count": null,
   "metadata": {},
   "outputs": [],
   "source": [
    "x_rf_train_transformed = pipeline_rf.fit_transform(x_rf_train)"
   ]
  },
  {
   "cell_type": "code",
   "execution_count": null,
   "metadata": {},
   "outputs": [],
   "source": [
    "pd.DataFrame(x_rf_train_transformed).isna().sum().unique()"
   ]
  },
  {
   "cell_type": "code",
   "execution_count": null,
   "metadata": {},
   "outputs": [],
   "source": [
    "x_rf_train_smote, y_rf_train_smote = smote_.fit_resample(x_rf_train_transformed,y_rf_train)\n",
    "rf.fit(x_rf_train_smote,y_rf_train_smote)"
   ]
  },
  {
   "cell_type": "code",
   "execution_count": null,
   "metadata": {},
   "outputs": [],
   "source": [
    "x_rf_test_transformed = pipeline_rf.transform(x_rf_test)\n",
    "x_rf_test_smote, y_rf_test_smote = smote_.fit_resample(x_rf_test_transformed,y_rf_test)\n",
    "\n",
    "y_rf_pred = rf.predict(x_rf_test_smote)"
   ]
  },
  {
   "cell_type": "code",
   "execution_count": null,
   "metadata": {},
   "outputs": [],
   "source": [
    "eval_metrics(y_true = y_rf_test_smote, y_pred = y_rf_pred)"
   ]
  },
  {
   "cell_type": "code",
   "execution_count": null,
   "metadata": {},
   "outputs": [],
   "source": [
    "import matplotlib.pyplot as plt\n",
    "tn, fp, fn, tp = confusion_matrix(y_true = y_rf_test_smote, y_pred = y_rf_pred).ravel()\n",
    "cm = confusion_matrix(y_true = y_rf_test_smote, y_pred = y_rf_pred)\n",
    "cm_display = ConfusionMatrixDisplay(cm)\n",
    "\n",
    "cm_display.plot()\n",
    "plt.show()"
   ]
  },
  {
   "cell_type": "code",
   "execution_count": null,
   "metadata": {},
   "outputs": [],
   "source": [
    "tn, fp, fn, tp"
   ]
  },
  {
   "cell_type": "markdown",
   "metadata": {},
   "source": [
    "### With Test Data"
   ]
  },
  {
   "cell_type": "code",
   "execution_count": null,
   "metadata": {},
   "outputs": [],
   "source": [
    "test_df_path = Path('D:\\\\VSCode_Stuff\\\\updated_scania_truck\\\\scania_truck\\\\artifacts\\\\data\\\\processed\\\\stage_1_processing\\\\preprocessed_test_data.csv')\n",
    "test_df = pd.read_csv(test_df_path)"
   ]
  },
  {
   "cell_type": "code",
   "execution_count": null,
   "metadata": {},
   "outputs": [],
   "source": [
    "test_df.shape"
   ]
  },
  {
   "cell_type": "code",
   "execution_count": null,
   "metadata": {},
   "outputs": [],
   "source": [
    "test_x = test_df.drop(columns = 'class')\n",
    "test_y = test_df['class']"
   ]
  },
  {
   "cell_type": "code",
   "execution_count": null,
   "metadata": {},
   "outputs": [],
   "source": [
    "test_x.isna().sum().unique()"
   ]
  },
  {
   "cell_type": "code",
   "execution_count": null,
   "metadata": {},
   "outputs": [],
   "source": [
    "test_y.value_counts()"
   ]
  },
  {
   "cell_type": "code",
   "execution_count": null,
   "metadata": {},
   "outputs": [],
   "source": [
    "test_x_transformed = pipeline_rf.transform(test_x)\n",
    "test_x_smote,test_y_smote = smote_.fit_resample(test_x_transformed, test_y)\n",
    "# pipeline_rf = Pipeline(steps = [(\"KNN_Imputer\", KNNImputer()),\n",
    "#                             (\"Robust_Scaler\", RobustScaler())])\n",
    "# skf_cv = StratifiedKFold(n_splits = 3, shuffle = True, random_state = 42)\n",
    "# smote_ = SMOTETomek(sampling_strategy = \"minority\",random_state = 42, n_jobs = -1)"
   ]
  },
  {
   "cell_type": "code",
   "execution_count": null,
   "metadata": {},
   "outputs": [],
   "source": [
    "test_y_pred = rf.predict(test_x_smote)"
   ]
  },
  {
   "cell_type": "code",
   "execution_count": null,
   "metadata": {},
   "outputs": [],
   "source": [
    "eval_metrics(y_true = test_y_smote, y_pred = test_y_pred)"
   ]
  },
  {
   "cell_type": "code",
   "execution_count": null,
   "metadata": {},
   "outputs": [],
   "source": [
    "import matplotlib.pyplot as plt\n",
    "tn_test, fp_test, fn_test, tp_test = confusion_matrix(y_true = test_y_smote, y_pred = test_y_pred).ravel()\n",
    "cm_test = confusion_matrix(y_true = test_y_smote, y_pred = test_y_pred)\n",
    "cm_display_test = ConfusionMatrixDisplay(cm_test)\n",
    "\n",
    "cm_display_test.plot()\n",
    "plt.show()"
   ]
  },
  {
   "cell_type": "code",
   "execution_count": null,
   "metadata": {},
   "outputs": [],
   "source": [
    "tn_test, fp_test, fn_test, tp_test"
   ]
  },
  {
   "cell_type": "markdown",
   "metadata": {},
   "source": [
    "### Checking with LightGBM"
   ]
  },
  {
   "cell_type": "code",
   "execution_count": null,
   "metadata": {},
   "outputs": [],
   "source": []
  },
  {
   "cell_type": "code",
   "execution_count": null,
   "metadata": {},
   "outputs": [],
   "source": [
    "l"
   ]
  },
  {
   "cell_type": "code",
   "execution_count": null,
   "metadata": {},
   "outputs": [],
   "source": []
  },
  {
   "cell_type": "code",
   "execution_count": null,
   "metadata": {},
   "outputs": [],
   "source": []
  },
  {
   "cell_type": "code",
   "execution_count": null,
   "metadata": {},
   "outputs": [],
   "source": []
  },
  {
   "cell_type": "code",
   "execution_count": null,
   "metadata": {},
   "outputs": [],
   "source": []
  },
  {
   "cell_type": "code",
   "execution_count": null,
   "metadata": {},
   "outputs": [],
   "source": []
  },
  {
   "cell_type": "code",
   "execution_count": null,
   "metadata": {},
   "outputs": [],
   "source": [
    "[batch_list[i] for i in range(len(batch_list)-2)]"
   ]
  },
  {
   "cell_type": "code",
   "execution_count": null,
   "metadata": {},
   "outputs": [],
   "source": [
    "\n",
    "accuracy = cross_val_score(estimator=pipeline_rf,\n",
    "                        X= x_rf_test,\n",
    "                        y = y_rf_test,\n",
    "                        scoring = 'accuracy',\n",
    "                        cv = skf_cv,\n",
    "                        n_jobs = -1,\n",
    "                        verbose = 2)"
   ]
  },
  {
   "cell_type": "code",
   "execution_count": null,
   "metadata": {},
   "outputs": [],
   "source": [
    "unpruned_trials = []\n",
    "for key,value in models.items():\n",
    "    unpruned_trials.append(model_trial_study_df[key][model_trial_study_df[key]['state'] == \"COMPLETE\"])"
   ]
  },
  {
   "cell_type": "code",
   "execution_count": null,
   "metadata": {},
   "outputs": [],
   "source": [
    "accuracies == load_yaml(filepath='artifacts/metrics/batch_metrics_optuna.yaml')"
   ]
  },
  {
   "cell_type": "code",
   "execution_count": null,
   "metadata": {},
   "outputs": [],
   "source": [
    "pd.DataFrame(accuracies).to_csv(\"artifacts\\metrics\\\\batch_metrics_df\\\\batch_metrics_optuna.csv\")"
   ]
  },
  {
   "cell_type": "code",
   "execution_count": null,
   "metadata": {},
   "outputs": [],
   "source": [
    "save_yaml(file = accuracies, filepath='artifacts/metrics/batch_metrics_optuna.yaml')"
   ]
  },
  {
   "cell_type": "code",
   "execution_count": null,
   "metadata": {},
   "outputs": [],
   "source": [
    "model_trial_study_df"
   ]
  },
  {
   "cell_type": "code",
   "execution_count": null,
   "metadata": {},
   "outputs": [],
   "source": [
    "for key in models.keys():\n",
    "    model_trial_study_df[key].to_csv(f\"artifacts\\metrics\\\\batch_metrics_df\\{key}.csv\",index=False)"
   ]
  },
  {
   "cell_type": "code",
   "execution_count": null,
   "metadata": {},
   "outputs": [],
   "source": []
  },
  {
   "cell_type": "code",
   "execution_count": null,
   "metadata": {},
   "outputs": [],
   "source": [
    "find_params.trials_dataframe()"
   ]
  },
  {
   "cell_type": "code",
   "execution_count": null,
   "metadata": {},
   "outputs": [],
   "source": [
    "pprint(accuracies,compact=True)"
   ]
  },
  {
   "cell_type": "code",
   "execution_count": null,
   "metadata": {},
   "outputs": [],
   "source": [
    "np.median(accuracies['Logistic_Regression']['Optuna'][:5])"
   ]
  },
  {
   "cell_type": "code",
   "execution_count": null,
   "metadata": {},
   "outputs": [],
   "source": [
    "accuracies['Logistic_Regression']['Optuna'][:6]"
   ]
  },
  {
   "cell_type": "code",
   "execution_count": null,
   "metadata": {},
   "outputs": [],
   "source": [
    "find_params.user_attrs"
   ]
  },
  {
   "cell_type": "code",
   "execution_count": null,
   "metadata": {},
   "outputs": [],
   "source": [
    "find_params.trials_dataframe()"
   ]
  },
  {
   "cell_type": "code",
   "execution_count": null,
   "metadata": {},
   "outputs": [],
   "source": [
    "np.mean(accuracies['Logistic_Regression']['Optuna'][:24])"
   ]
  },
  {
   "cell_type": "code",
   "execution_count": null,
   "metadata": {},
   "outputs": [],
   "source": [
    "np.mean(accuracies['Logistic_Regression']['Optuna'])"
   ]
  },
  {
   "cell_type": "code",
   "execution_count": null,
   "metadata": {},
   "outputs": [],
   "source": [
    "np.mean(list(set(accuracies['Logistic_Regression']['Optuna'])))"
   ]
  },
  {
   "cell_type": "code",
   "execution_count": null,
   "metadata": {},
   "outputs": [],
   "source": [
    "# find_params = optuna.create_study(direction = 'maximize')\n",
    "# find_params.optimize(func = optuna_objective,\n",
    "#                      n_trials = 5)\n",
    "#                     #  n_jobs = -1)"
   ]
  },
  {
   "cell_type": "code",
   "execution_count": null,
   "metadata": {},
   "outputs": [],
   "source": [
    "space = {\n",
    "    'n_estimators': optuna.distributions.IntDistribution(100, 150),\n",
    "    'criterion' : optuna.distributions.CategoricalDistribution(['log_loss', 'entropy', 'gini']),\n",
    "    'max_features' : optuna.distributions.CategoricalDistribution(['sqrt', 'log2', None]),\n",
    "    'class_weight' : optuna.distributions.CategoricalDistribution(['balanced', 'balanced_subsample'])\n",
    "    }\n",
    "\n",
    "pipeline = Pipeline(steps = [(\"KNN_Imputer\", KNNImputer()),\n",
    "                                    (\"Robust_Scaler\", RobustScaler()),\n",
    "                                    (\"SMOTETomek\", SMOTETomek(sampling_strategy = \"minority\",random_state = 42, n_jobs = -1)),\n",
    "                                    (f\"Random Forest\", RandomForestClassifier(n_jobs=-1).set_params(**space))])\n",
    "skf_cv = StratifiedKFold(n_splits = 5, shuffle = True, random_state = 42)\n",
    "\n",
    "# optuna_search = optuna.integration.OptunaSearchCV(estimator = pipeline,\n",
    "#                                   param_distributions = {'verbose':optuna.distributions.CategoricalDistribution([True,False])},\n",
    "#                                   cv = skf_cv,\n",
    "#                                   n_jobs = -1,\n",
    "#                                   n_trials = 10,\n",
    "#                                   random_state = 42,\n",
    "#                                   refit = True,\n",
    "#                                   return_train_score = False,\n",
    "#                                   scoring = 'accuracy',\n",
    "#                                   verbose = 3)"
   ]
  },
  {
   "cell_type": "code",
   "execution_count": null,
   "metadata": {},
   "outputs": [],
   "source": [
    "pipeline"
   ]
  },
  {
   "cell_type": "code",
   "execution_count": null,
   "metadata": {},
   "outputs": [],
   "source": [
    "x = batch_list[2].drop(columns='class')\n",
    "y = batch_list[2]['class']\n",
    "optuna_search.fit(x,y)"
   ]
  },
  {
   "cell_type": "code",
   "execution_count": null,
   "metadata": {},
   "outputs": [],
   "source": []
  }
 ],
 "metadata": {
  "kernelspec": {
   "display_name": "Python 3.8.10 ('scania_truck': venv)",
   "language": "python",
   "name": "python3"
  },
  "language_info": {
   "codemirror_mode": {
    "name": "ipython",
    "version": 3
   },
   "file_extension": ".py",
   "mimetype": "text/x-python",
   "name": "python",
   "nbconvert_exporter": "python",
   "pygments_lexer": "ipython3",
   "version": "3.11.5"
  },
  "vscode": {
   "interpreter": {
    "hash": "90491c7785a74524e526617bb4e2471af3c739a0cb58cbf092281fb10a424f0c"
   }
  }
 },
 "nbformat": 4,
 "nbformat_minor": 2
}
